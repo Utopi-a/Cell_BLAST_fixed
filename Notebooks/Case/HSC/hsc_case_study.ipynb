{
 "cells": [
  {
   "cell_type": "markdown",
   "metadata": {},
   "source": [
    "# Case Study: Haematopoietic Stem Cell\n",
    "\n",
    "In this case study, we will use the Tusi dataset as reference and try predicting continuous cell fate between\n",
    "1. Different sequencing runs within the Tusi dataset\n",
    "2. Different species, i.e. mouse (Tusi) and human (Velten)"
   ]
  },
  {
   "cell_type": "markdown",
   "metadata": {},
   "source": [
    "## Preparation"
   ]
  },
  {
   "cell_type": "code",
   "execution_count": null,
   "metadata": {
    "ExecuteTime": {
     "end_time": "2019-08-01T02:19:32.220226Z",
     "start_time": "2019-08-01T02:19:30.108059Z"
    }
   },
   "outputs": [],
   "source": [
    "import json\n",
    "import collections\n",
    "import colorsys\n",
    "import functools\n",
    "import os\n",
    "import subprocess\n",
    "import sys\n",
    "\n",
    "import numpy as np\n",
    "import pandas as pd\n",
    "import scipy.spatial\n",
    "import scipy.stats\n",
    "import sklearn.preprocessing\n",
    "import matplotlib.patches as mpatches\n",
    "import matplotlib.pyplot as plt\n",
    "import seaborn as sns\n",
    "import torch\n",
    "import scvi.dataset\n",
    "import scvi.models\n",
    "import scvi.inference\n",
    "import scvi.inference.annotation\n",
    "import Cell_BLAST as cb\n",
    "\n",
    "sys.path.insert(0, \"../../../Evaluation\")\n",
    "import utils"
   ]
  },
  {
   "cell_type": "code",
   "execution_count": null,
   "metadata": {
    "ExecuteTime": {
     "end_time": "2019-08-01T02:19:40.896224Z",
     "start_time": "2019-08-01T02:19:32.222828Z"
    }
   },
   "outputs": [],
   "source": [
    "os.environ[\"CUDA_VISIBLE_DEVICES\"] = utils.pick_gpu_lowest_memory()\n",
    "cb.config.RANDOM_SEED = 0\n",
    "cb.config.N_JOBS = 4\n",
    "plt.rcParams['svg.fonttype'] = \"none\"\n",
    "plt.rcParams['font.family'] = \"Arial\""
   ]
  },
  {
   "cell_type": "code",
   "execution_count": null,
   "metadata": {
    "ExecuteTime": {
     "end_time": "2019-08-01T02:19:40.906452Z",
     "start_time": "2019-08-01T02:19:40.900875Z"
    }
   },
   "outputs": [],
   "source": [
    "FATES = [\"E\", \"Ba\", \"Meg\", \"Ly\", \"D\", \"M\", \"G\"]\n",
    "COLORS = np.array([\n",
    "#     330, 300, 30, 190, 165, 130, 260\n",
    "    0.0, 0.14, 0.23, 0.48, 0.58, 0.74, 0.88\n",
    "])  # Hue in HSV"
   ]
  },
  {
   "cell_type": "code",
   "execution_count": null,
   "metadata": {
    "ExecuteTime": {
     "end_time": "2019-08-01T02:19:40.985412Z",
     "start_time": "2019-08-01T02:19:40.908469Z"
    },
    "code_folding": []
   },
   "outputs": [],
   "source": [
    "hsv2hex = lambda x, na=\"#474747\": (\"#%02x%02x%02x\" % tuple(\n",
    "    int(i * 255) for i in colorsys.hsv_to_rgb(x[0], x[1], x[2])\n",
    ")) if not np.any(np.isnan(x)) else na\n",
    "\n",
    "\n",
    "def jsd(p, q):\n",
    "    m = 0.5 * (p + q)\n",
    "    return 0.5 * (scipy.stats.entropy(p, m) + scipy.stats.entropy(q, m))\n",
    "\n",
    "\n",
    "def plot_fate(ds, fates, colors, method=\"SPRING\", size=3, width=4.5, height=4.5, sort=False, na=\"#474747\"):\n",
    "    mask = ~np.any(np.isnan(ds.obs.loc[:, fates].values), axis=1)\n",
    "    ds.obs[\"entropy\"] = np.nan\n",
    "    ds.obs.loc[mask, \"entropy\"] = np.sum(\n",
    "        -ds.obs.loc[mask, fates] * np.log(ds.obs.loc[mask, fates]), axis=1)\n",
    "    h = colors[ds.obs.loc[:, fates].values.argmax(axis=1)]\n",
    "    s = (np.log(len(fates)) - ds.obs[\"entropy\"].values) / (np.log(len(fates)))\n",
    "    s = 1 - (s - 1) ** 2\n",
    "    v = np.repeat(0.85, ds.shape[0])\n",
    "    hsv = np.stack([h, s, v], axis=1)\n",
    "    ds.obs[\"color\"] = np.apply_along_axis(hsv2hex, axis=1, arr=hsv, na=na)\n",
    "    \n",
    "    fig, ax = plt.subplots(figsize=(width, height))\n",
    "    order = np.argsort(\n",
    "        ds.obs[\"color\"] != na\n",
    "    ) if sort else np.arange(ds.shape[0])\n",
    "    _ = plt.scatter(\n",
    "        x=ds.obs[method + \"1\"][order],\n",
    "        y=ds.obs[method + \"2\"][order],\n",
    "        faceCOLORS=ds.obs[\"color\"][order],\n",
    "        s=size, edgecolor=None, rasterized=True\n",
    "    )\n",
    "    _ = plt.legend(title=\"Lineage\", handles=[\n",
    "        mpatches.Patch(color=hsv2hex((c, 1.0, 0.85)), label=f)\n",
    "        for c, f in zip(colors, fates)\n",
    "    ], frameon=False, bbox_to_anchor=(1.05, 0.5), loc=\"center left\")\n",
    "    ax.spines[\"right\"].set_visible(False)\n",
    "    ax.spines[\"top\"].set_visible(False)\n",
    "    ax.yaxis.set_ticks_position(\"left\")\n",
    "    ax.xaxis.set_ticks_position(\"bottom\")\n",
    "    plt.xlabel(method + \"1\")\n",
    "    plt.ylabel(method + \"2\")\n",
    "    return ax\n",
    "\n",
    "\n",
    "def fate_marker_correlation(ds, fates, marker_dict, width=15, height=20, plot=True):\n",
    "    nrow, ncol = len(fates), max([len(item) for item in marker_dict.values()])\n",
    "    if plot:\n",
    "        fig, axes = plt.subplots(\n",
    "            nrow, ncol, figsize=(width, height),\n",
    "            gridspec_kw=dict(wspace=0.4, hspace=0.4)\n",
    "        )\n",
    "    else:\n",
    "        fig = None\n",
    "    ds_marker_only = ds.normalize()[\n",
    "        :, functools.reduce(np.union1d, marker_dict.values())]\n",
    "    ds_marker_only.exprs = ds_marker_only.exprs.log1p().toarray()\n",
    "    rhos = -np.ones((nrow, ncol)) * np.inf\n",
    "    for i in range(nrow):\n",
    "        fate = fates[i]\n",
    "        x = ds_marker_only.obs.loc[:, fate].values.ravel()\n",
    "        for j in range(ncol):\n",
    "            if j >= len(marker_dict[fate]):\n",
    "                axes[i, j].axis(\"off\")\n",
    "            else:\n",
    "                marker = marker_dict[fate][j]\n",
    "                y = ds_marker_only[:, marker].exprs.ravel()\n",
    "                rhos[i, j] = scipy.stats.spearmanr(\n",
    "                    x, y\n",
    "                ).correlation\n",
    "                if plot:\n",
    "                    ax = sns.scatterplot(\n",
    "                        x=x, y=y, edgecolor=None, s=2,\n",
    "                        rasterized=True, ax=axes[i, j]\n",
    "                    )\n",
    "                    ax.set_title(\"ρ = %.3f\" % rhos[i, j], y=0.8, fontsize=10)\n",
    "                    ax.set_xlabel(fate)\n",
    "                    ax.set_ylabel(marker)\n",
    "    return fig, rhos\n",
    "\n",
    "\n",
    "def plot_markers(ds, marker_dict, method=\"SPRING\", width=15, height=20):\n",
    "    nrow, ncol = len(marker_dict), max([len(item) for item in marker_dict.values()])\n",
    "    fig, axes = plt.subplots(\n",
    "        nrow, ncol, figsize=(width, height),\n",
    "        gridspec_kw=dict(wspace=0.2, hspace=0.2)\n",
    "    )\n",
    "    for i, fate in enumerate(marker_dict.keys()):\n",
    "        for j in range(ncol):\n",
    "            if j >= len(marker_dict[fate]):\n",
    "                axes[i, j].axis(\"off\")\n",
    "            else:\n",
    "                marker = marker_dict[fate][j]\n",
    "                ax = ds.visualize_latent(\n",
    "                    marker, method=method, scatter_kws=dict(rasterized=True),\n",
    "                    shuffle=False, sort=True, ax=axes[i, j]\n",
    "                )\n",
    "                ax.set_title(marker, fontsize=10)\n",
    "                ax.get_legend().remove()\n",
    "                ax.xaxis.set_visible(False)\n",
    "                if j == 0:\n",
    "                    ax.set_ylabel(fate)\n",
    "                    ax.yaxis.labelpad = 20\n",
    "                    ax.yaxis.set_ticks([])\n",
    "                else:\n",
    "                    ax.yaxis.set_visible(False)\n",
    "                ax.spines[\"bottom\"].set_visible(False)\n",
    "                ax.spines[\"left\"].set_visible(False)\n",
    "    return fig\n",
    "\n",
    "\n",
    "@torch.no_grad()\n",
    "def get_scanvi_class_posterior(scanvi_trainer):\n",
    "    annotation_posterior = scanvi_trainer.create_posterior()\n",
    "    scanvi_trainer.model.eval()\n",
    "    class_posterior = []\n",
    "    for sample_batch, _, _, _, _ in annotation_posterior:\n",
    "        class_posterior.append(scanvi_trainer.model.classify(sample_batch))\n",
    "    return torch.cat(class_posterior).cpu().numpy()"
   ]
  },
  {
   "cell_type": "markdown",
   "metadata": {
    "toc-hr-collapsed": false
   },
   "source": [
    "## Tusi"
   ]
  },
  {
   "cell_type": "code",
   "execution_count": null,
   "metadata": {
    "ExecuteTime": {
     "end_time": "2019-08-01T02:19:41.649180Z",
     "start_time": "2019-08-01T02:19:40.987552Z"
    }
   },
   "outputs": [],
   "source": [
    "tusi = cb.data.ExprDataSet.read_dataset(\"../../../Datasets/data/Tusi/data.h5\")\n",
    "tusi.obs[\"Sequencing run\"] = \"run 2\"\n",
    "tusi.obs.loc[tusi.obs[\"batch\"] == \"basal_bm1\", \"Sequencing run\"] = \"run 1\"\n",
    "tusi.obs[\"Sequencing run\"] = pd.Categorical(tusi.obs[\"Sequencing run\"])\n",
    "tusi.obs[\"Batch\"] = pd.Categorical(tusi.obs[\"batch\"])\n",
    "\n",
    "tusi.obs.loc[:, FATES] = tusi.obs.loc[:, FATES].clip(lower=0)\n",
    "tusi.obs.loc[:, FATES] = tusi.obs.loc[:, FATES].div(\n",
    "    tusi.obs.loc[:, FATES].sum(axis=1), axis=0)\n",
    "tusi.obs[\"Discrete fate\"] = np.array(FATES)[tusi.obs.loc[:, FATES].to_numpy().argmax(axis=1)]"
   ]
  },
  {
   "cell_type": "markdown",
   "metadata": {},
   "source": [
    "### Inspect dataset"
   ]
  },
  {
   "cell_type": "markdown",
   "metadata": {},
   "source": [
    "#### Latent space"
   ]
  },
  {
   "cell_type": "code",
   "execution_count": null,
   "metadata": {
    "ExecuteTime": {
     "end_time": "2019-08-01T02:21:06.251399Z",
     "start_time": "2019-08-01T02:19:41.651030Z"
    },
    "scrolled": true
   },
   "outputs": [],
   "source": [
    "tusi_model = cb.directi.fit_DIRECTi(\n",
    "    tusi, genes=tusi.uns[\"seurat_genes\"],\n",
    "    latent_dim=10, cat_dim=None,\n",
    "    epoch=300, patience=50, random_seed=0\n",
    ")"
   ]
  },
  {
   "cell_type": "code",
   "execution_count": null,
   "metadata": {
    "ExecuteTime": {
     "end_time": "2019-08-01T02:21:07.763964Z",
     "start_time": "2019-08-01T02:21:06.256689Z"
    }
   },
   "outputs": [],
   "source": [
    "tusi.latent = tusi_model.inference(tusi)"
   ]
  },
  {
   "cell_type": "code",
   "execution_count": null,
   "metadata": {
    "ExecuteTime": {
     "end_time": "2019-08-01T02:21:08.527593Z",
     "start_time": "2019-08-01T02:21:07.767166Z"
    }
   },
   "outputs": [],
   "source": [
    "dist_mat = scipy.spatial.distance.squareform(\n",
    "    scipy.spatial.distance.pdist(tusi.latent))\n",
    "np.save(\"expr.npy\", tusi.obs.loc[:, FATES].values)\n",
    "np.save(\"dist.npy\", dist_mat, allow_pickle=True)\n",
    "np.save(\"gene.npy\", np.array(FATES), allow_pickle=True)"
   ]
  },
  {
   "cell_type": "code",
   "execution_count": null,
   "metadata": {
    "ExecuteTime": {
     "end_time": "2019-08-01T02:21:23.760093Z",
     "start_time": "2019-08-01T02:21:08.529954Z"
    }
   },
   "outputs": [],
   "source": [
    "%%bash\n",
    "eval \"$(conda shell.bash hook 2> /dev/null)\"  # May be unnecessary depending on the environment setup\n",
    "\n",
    "# git clone git@github.com:AllonKleinLab/SPRING.git\n",
    "# conda create -n SPRING python=2.7 numpy scipy scikit-learn matplotlib jupyter\n",
    "\n",
    "conda activate envs/SPRING\n",
    "python prep_spring.py -e \"expr.npy\" -d \"dist.npy\" -g \"gene.npy\" -k 5 -o \"SPRING/datasets/Tusi\"\n",
    "\n",
    "# Please start the server elsewhere by running: `python -m SimpleHTTPServer 8000` under directory SPRING and conda environment SPRING\n",
    "# Now access SPRING web server and adjust the plot: <ip_address>:8000/springViewer.html?datasets/Tusi\n",
    "# Save the final coordinate to \"SPRING/datasets/Tusi/coordinates.txt\""
   ]
  },
  {
   "cell_type": "code",
   "execution_count": null,
   "metadata": {
    "ExecuteTime": {
     "end_time": "2019-08-01T02:21:23.783903Z",
     "start_time": "2019-08-01T02:21:23.764024Z"
    }
   },
   "outputs": [],
   "source": [
    "coordinates = pd.read_csv(\n",
    "    \"SPRING/datasets/Tusi/coordinates.txt\", index_col=0, header=None\n",
    ").values\n",
    "tusi.obs[\"SPRING1\"] = coordinates[:, 0]\n",
    "tusi.obs[\"SPRING2\"] = coordinates[:, 1]"
   ]
  },
  {
   "cell_type": "code",
   "execution_count": null,
   "metadata": {
    "ExecuteTime": {
     "end_time": "2019-08-01T02:21:26.363557Z",
     "start_time": "2019-08-01T02:21:23.786368Z"
    }
   },
   "outputs": [],
   "source": [
    "ax = tusi.visualize_latent(\"Batch\", method=\"SPRING\", width=4.5, height=4.5, scatter_kws=dict(rasterized=True))\n",
    "ax.get_figure().savefig(\"tusi_batch.pdf\", dpi=300, bbox_inches=\"tight\")"
   ]
  },
  {
   "cell_type": "code",
   "execution_count": null,
   "metadata": {
    "ExecuteTime": {
     "end_time": "2019-08-01T02:21:27.341736Z",
     "start_time": "2019-08-01T02:21:26.365850Z"
    }
   },
   "outputs": [],
   "source": [
    "ax = tusi.visualize_latent(\"Sequencing run\", method=\"SPRING\", width=4.5, height=4.5, scatter_kws=dict(rasterized=True))\n",
    "ax.get_figure().savefig(\"tusi_seq_run.pdf\", dpi=300, bbox_inches=\"tight\")"
   ]
  },
  {
   "cell_type": "code",
   "execution_count": null,
   "metadata": {
    "ExecuteTime": {
     "end_time": "2019-08-01T02:21:28.432239Z",
     "start_time": "2019-08-01T02:21:27.343960Z"
    }
   },
   "outputs": [],
   "source": [
    "ax = tusi.visualize_latent(\"Discrete fate\", method=\"SPRING\", width=4.5, height=4.5, scatter_kws=dict(rasterized=True))\n",
    "ax.get_figure().savefig(\"tusi_discrete_fate.pdf\", dpi=300, bbox_inches=\"tight\")"
   ]
  },
  {
   "cell_type": "code",
   "execution_count": null,
   "metadata": {
    "ExecuteTime": {
     "end_time": "2019-08-01T02:21:28.432239Z",
     "start_time": "2019-08-01T02:21:27.343960Z"
    }
   },
   "outputs": [],
   "source": [
    "ax = plot_fate(tusi, FATES, COLORS, \"SPRING\")\n",
    "# ax.get_figure().savefig(\"tusi_fate.pdf\", dpi=300, bbox_inches=\"tight\")"
   ]
  },
  {
   "cell_type": "markdown",
   "metadata": {},
   "source": [
    "#### Fate-marker correlation"
   ]
  },
  {
   "cell_type": "code",
   "execution_count": null,
   "metadata": {
    "ExecuteTime": {
     "end_time": "2019-08-01T02:21:28.438984Z",
     "start_time": "2019-08-01T02:21:28.434451Z"
    }
   },
   "outputs": [],
   "source": [
    "with open(\"tusi_marker.json\", \"r\") as f:\n",
    "    tusi_markers = json.load(f, object_pairs_hook=collections.OrderedDict)"
   ]
  },
  {
   "cell_type": "code",
   "execution_count": null,
   "metadata": {
    "ExecuteTime": {
     "end_time": "2019-08-01T02:22:18.631432Z",
     "start_time": "2019-08-01T02:21:28.440854Z"
    },
    "scrolled": true
   },
   "outputs": [],
   "source": [
    "fig = plot_markers(tusi, tusi_markers, width=12)\n",
    "fig.savefig(\"tusi_marker.pdf\", dpi=300, bbox_inches=\"tight\")"
   ]
  },
  {
   "cell_type": "code",
   "execution_count": null,
   "metadata": {
    "ExecuteTime": {
     "end_time": "2019-08-01T02:22:33.718940Z",
     "start_time": "2019-08-01T02:22:18.633704Z"
    },
    "scrolled": false
   },
   "outputs": [],
   "source": [
    "fig, rhos = fate_marker_correlation(tusi, FATES, tusi_markers, width=14)\n",
    "fig.savefig(\"tusi_fate_marker.pdf\", dpi=300, bbox_inches=\"tight\")\n",
    "print(\"Overall correlation = %.3f\" % rhos.max(axis=1).mean())"
   ]
  },
  {
   "cell_type": "markdown",
   "metadata": {},
   "source": [
    "### Within dataset BLAST"
   ]
  },
  {
   "cell_type": "code",
   "execution_count": null,
   "metadata": {
    "ExecuteTime": {
     "end_time": "2019-08-01T02:22:41.855390Z",
     "start_time": "2019-08-01T02:22:33.721239Z"
    }
   },
   "outputs": [],
   "source": [
    "ref = tusi[tusi.obs[\"Sequencing run\"] == \"run 2\", :]\n",
    "query = tusi[tusi.obs[\"Sequencing run\"] == \"run 1\", :]\n",
    "ref.write_dataset(\"./tusi_run2.h5\")\n",
    "query.write_dataset(\"./tusi_run1.h5\")"
   ]
  },
  {
   "cell_type": "code",
   "execution_count": null,
   "metadata": {
    "ExecuteTime": {
     "end_time": "2019-08-01T02:22:41.860147Z",
     "start_time": "2019-08-01T02:22:41.857360Z"
    }
   },
   "outputs": [],
   "source": [
    "fate_pred = {}\n",
    "fate_pred_jsd = {}"
   ]
  },
  {
   "cell_type": "markdown",
   "metadata": {},
   "source": [
    "#### Cell BLAST"
   ]
  },
  {
   "cell_type": "code",
   "execution_count": null,
   "metadata": {
    "ExecuteTime": {
     "end_time": "2019-08-01T02:27:31.866644Z",
     "start_time": "2019-08-01T02:22:41.865792Z"
    },
    "scrolled": true
   },
   "outputs": [],
   "source": [
    "within_dataset_blast_models = []\n",
    "for i in range(4):\n",
    "    print(\"==== Training model %d ====\" % i)\n",
    "    within_dataset_blast_models.append(cb.directi.fit_DIRECTi(\n",
    "        ref, genes=ref.uns[\"seurat_genes\"],\n",
    "        latent_dim=10, cat_dim=None,\n",
    "        epoch=300, patience=50, random_seed=i\n",
    "    ))"
   ]
  },
  {
   "cell_type": "code",
   "execution_count": null,
   "metadata": {
    "ExecuteTime": {
     "end_time": "2019-08-01T02:28:11.272515Z",
     "start_time": "2019-08-01T02:27:31.869552Z"
    }
   },
   "outputs": [],
   "source": [
    "blast = cb.blast.BLAST(within_dataset_blast_models, ref)"
   ]
  },
  {
   "cell_type": "code",
   "execution_count": null,
   "metadata": {
    "ExecuteTime": {
     "end_time": "2019-08-01T02:28:24.655018Z",
     "start_time": "2019-08-01T02:28:11.277390Z"
    }
   },
   "outputs": [],
   "source": [
    "hits = blast.query(query).reconcile_models().filter(\"pval\", 0.05)"
   ]
  },
  {
   "cell_type": "code",
   "execution_count": null,
   "metadata": {
    "ExecuteTime": {
     "end_time": "2019-08-01T02:28:24.774400Z",
     "start_time": "2019-08-01T02:28:24.664704Z"
    }
   },
   "outputs": [],
   "source": [
    "fate_pred[\"cb\"] = pd.concat([hits.annotate(fate, min_hits=1) for fate in FATES], axis=1)"
   ]
  },
  {
   "cell_type": "code",
   "execution_count": null,
   "metadata": {
    "ExecuteTime": {
     "end_time": "2019-08-01T02:28:24.796098Z",
     "start_time": "2019-08-01T02:28:24.778108Z"
    }
   },
   "outputs": [],
   "source": [
    "reject_mask = np.any(np.isnan(fate_pred[\"cb\"]), axis=1)\n",
    "print(\"Rejection rate = %.3f\" % (reject_mask.sum() / reject_mask.size))"
   ]
  },
  {
   "cell_type": "code",
   "execution_count": null,
   "metadata": {
    "ExecuteTime": {
     "end_time": "2019-08-01T02:28:24.947719Z",
     "start_time": "2019-08-01T02:28:24.798408Z"
    }
   },
   "outputs": [],
   "source": [
    "fate_pred_jsd[\"cb\"] = np.array([\n",
    "    jsd(p, q) for p, q in\n",
    "    zip(fate_pred[\"cb\"].values[~reject_mask], query.obs.loc[:, FATES].values[~reject_mask])\n",
    "])\n",
    "assert np.isinf(fate_pred_jsd[\"cb\"]).sum() == 0"
   ]
  },
  {
   "cell_type": "code",
   "execution_count": null,
   "metadata": {
    "ExecuteTime": {
     "end_time": "2019-08-01T02:28:25.337751Z",
     "start_time": "2019-08-01T02:28:24.949675Z"
    }
   },
   "outputs": [],
   "source": [
    "ax = sns.distplot(\n",
    "    fate_pred_jsd[\"cb\"],\n",
    "    bins=np.linspace(0, 0.7, 50),\n",
    "    axlabel=\"Fate prediction JSD (Cell BLAST)\"\n",
    ")\n",
    "ax.spines[\"right\"].set_visible(False)\n",
    "ax.spines[\"top\"].set_visible(False)\n",
    "ax.yaxis.set_ticks_position(\"left\")\n",
    "ax.xaxis.set_ticks_position(\"bottom\")"
   ]
  },
  {
   "cell_type": "markdown",
   "metadata": {},
   "source": [
    "#### scmap"
   ]
  },
  {
   "cell_type": "code",
   "execution_count": null,
   "metadata": {
    "ExecuteTime": {
     "end_time": "2019-08-01T02:28:41.463551Z",
     "start_time": "2019-08-01T02:28:25.339315Z"
    }
   },
   "outputs": [],
   "source": [
    "p = subprocess.Popen([\n",
    "    \"Rscript\", \"./run_scmap.R\",\n",
    "    \"-r\", \"../Notebooks/Case/HSC/tusi_run2.h5\", \"-n\", \"ref\",\n",
    "    \"-q\", \"../Notebooks/Case/HSC/tusi_run1.h5\",\n",
    "    \"-o\", \"../Notebooks/Case/HSC/tusi_within_dataset_scmap.h5\",\n",
    "    \"-g\", \"scmap_genes\", \"-s\", \"0\", \"--cluster-col\", \"organ\"  # just sham prediction\n",
    "], cwd=\"../../../Evaluation\", stdout=subprocess.PIPE, stderr=subprocess.PIPE)\n",
    "(output, err) = p.communicate()\n",
    "exit_code = p.wait()\n",
    "print(output.decode())\n",
    "print(err.decode())"
   ]
  },
  {
   "cell_type": "code",
   "execution_count": null,
   "metadata": {
    "ExecuteTime": {
     "end_time": "2019-08-01T02:28:41.480815Z",
     "start_time": "2019-08-01T02:28:41.467594Z"
    }
   },
   "outputs": [],
   "source": [
    "scmap_idx = cb.data.read_hybrid_path(\"tusi_within_dataset_scmap.h5//scmap_cell/nn/ref/cells\").astype(int)\n",
    "scmap_sim = cb.data.read_hybrid_path(\"tusi_within_dataset_scmap.h5//scmap_cell/nn/ref/similarities\")"
   ]
  },
  {
   "cell_type": "code",
   "execution_count": null,
   "metadata": {
    "ExecuteTime": {
     "end_time": "2019-08-01T02:28:43.508144Z",
     "start_time": "2019-08-01T02:28:41.482788Z"
    }
   },
   "outputs": [],
   "source": [
    "fate_pred[\"scmap\"] = pd.DataFrame([\n",
    "    ref.obs.iloc[_idx[_sim >= 0.5] - 1, :].loc[:, FATES].mean(axis=0)\n",
    "    for _idx, _sim in zip(scmap_idx, scmap_sim)\n",
    "])  # idx - 1 because R idx is 1 based"
   ]
  },
  {
   "cell_type": "code",
   "execution_count": null,
   "metadata": {
    "ExecuteTime": {
     "end_time": "2019-08-01T02:28:43.515283Z",
     "start_time": "2019-08-01T02:28:43.510452Z"
    }
   },
   "outputs": [],
   "source": [
    "reject_mask = np.any(np.isnan(fate_pred[\"scmap\"]), axis=1)\n",
    "print(\"Rejection rate = %.3f\" % (reject_mask.sum() / reject_mask.size))"
   ]
  },
  {
   "cell_type": "code",
   "execution_count": null,
   "metadata": {
    "ExecuteTime": {
     "end_time": "2019-08-01T02:28:43.685572Z",
     "start_time": "2019-08-01T02:28:43.517316Z"
    }
   },
   "outputs": [],
   "source": [
    "fate_pred_jsd[\"scmap\"] = np.array([\n",
    "    jsd(p, q) for p, q in\n",
    "    zip(fate_pred[\"scmap\"].values[~reject_mask], query.obs.loc[:, FATES].values[~reject_mask])\n",
    "])\n",
    "assert np.isinf(fate_pred_jsd[\"scmap\"]).sum() == 0"
   ]
  },
  {
   "cell_type": "code",
   "execution_count": null,
   "metadata": {
    "ExecuteTime": {
     "end_time": "2019-08-01T02:28:44.070856Z",
     "start_time": "2019-08-01T02:28:43.687608Z"
    }
   },
   "outputs": [],
   "source": [
    "ax = sns.distplot(\n",
    "    fate_pred_jsd[\"scmap\"],\n",
    "    bins=np.linspace(0, 0.7, 50),\n",
    "    axlabel=\"Fate prediction JSD (scmap)\"\n",
    ")\n",
    "ax.spines[\"right\"].set_visible(False)\n",
    "ax.spines[\"top\"].set_visible(False)\n",
    "ax.yaxis.set_ticks_position(\"left\")\n",
    "ax.xaxis.set_ticks_position(\"bottom\")"
   ]
  },
  {
   "cell_type": "markdown",
   "metadata": {},
   "source": [
    "#### CellFishing.jl"
   ]
  },
  {
   "cell_type": "code",
   "execution_count": null,
   "metadata": {
    "ExecuteTime": {
     "end_time": "2019-08-01T02:29:07.819710Z",
     "start_time": "2019-08-01T02:28:44.072705Z"
    }
   },
   "outputs": [],
   "source": [
    "p = subprocess.Popen([\n",
    "    \"julia\", \"./run_CellFishing.jl.jl\",\n",
    "    \"--annotation=organ\", # just sham prediction\n",
    "    \"--gene=cf_genes\", \"--seed=0\", \"--cutoff=120\",\n",
    "    \"../Notebooks/Case/HSC/tusi_run2.h5\",\n",
    "    \"../Notebooks/Case/HSC/tusi_run1.h5\",\n",
    "    \"../Notebooks/Case/HSC/tusi_within_dataset_cf.h5\"\n",
    "], cwd=\"../../../Evaluation\", stdout=subprocess.PIPE, stderr=subprocess.PIPE)\n",
    "(output, err) = p.communicate()\n",
    "exit_code = p.wait()\n",
    "print(output.decode())\n",
    "print(err.decode())"
   ]
  },
  {
   "cell_type": "code",
   "execution_count": null,
   "metadata": {
    "ExecuteTime": {
     "end_time": "2019-08-01T02:29:07.832380Z",
     "start_time": "2019-08-01T02:29:07.823162Z"
    }
   },
   "outputs": [],
   "source": [
    "cf_idx = cb.data.read_hybrid_path(\"tusi_within_dataset_cf.h5//indexes\").astype(int)\n",
    "cf_sim = cb.data.read_hybrid_path(\"tusi_within_dataset_cf.h5//hammingdistances\")"
   ]
  },
  {
   "cell_type": "code",
   "execution_count": null,
   "metadata": {
    "ExecuteTime": {
     "end_time": "2019-08-01T02:29:09.532049Z",
     "start_time": "2019-08-01T02:29:07.834271Z"
    }
   },
   "outputs": [],
   "source": [
    "fate_pred[\"cf\"] = pd.DataFrame([\n",
    "    ref.obs.iloc[_idx[_sim <= 120] - 1, :].loc[:, FATES].mean(axis=0)\n",
    "    for _idx, _sim in zip(cf_idx, cf_sim)\n",
    "])"
   ]
  },
  {
   "cell_type": "code",
   "execution_count": null,
   "metadata": {
    "ExecuteTime": {
     "end_time": "2019-08-01T02:29:09.539297Z",
     "start_time": "2019-08-01T02:29:09.534215Z"
    }
   },
   "outputs": [],
   "source": [
    "reject_mask = np.any(np.isnan(fate_pred[\"cf\"]), axis=1)\n",
    "print(\"Rejection rate = %.3f\" % (reject_mask.sum() / reject_mask.size))"
   ]
  },
  {
   "cell_type": "code",
   "execution_count": null,
   "metadata": {
    "ExecuteTime": {
     "end_time": "2019-08-01T02:29:09.929389Z",
     "start_time": "2019-08-01T02:29:09.541445Z"
    }
   },
   "outputs": [],
   "source": [
    "fate_pred_jsd[\"cf\"] = np.array([\n",
    "    jsd(p, q) for p, q in\n",
    "    zip(fate_pred[\"cf\"].values[~reject_mask], query.obs.loc[:, FATES].values[~reject_mask])\n",
    "])\n",
    "assert np.isinf(fate_pred_jsd[\"cf\"]).sum() == 0"
   ]
  },
  {
   "cell_type": "code",
   "execution_count": null,
   "metadata": {
    "ExecuteTime": {
     "end_time": "2019-08-01T02:29:10.355509Z",
     "start_time": "2019-08-01T02:29:09.931661Z"
    }
   },
   "outputs": [],
   "source": [
    "ax = sns.distplot(\n",
    "    fate_pred_jsd[\"cf\"],\n",
    "    bins=np.linspace(0, 0.7, 50),\n",
    "    axlabel=\"Fate prediction JSD (CellFishing.jl)\"\n",
    ")\n",
    "ax.spines[\"right\"].set_visible(False)\n",
    "ax.spines[\"top\"].set_visible(False)\n",
    "ax.yaxis.set_ticks_position(\"left\")\n",
    "ax.xaxis.set_ticks_position(\"bottom\")"
   ]
  },
  {
   "cell_type": "markdown",
   "metadata": {},
   "source": [
    "#### CCA anchor"
   ]
  },
  {
   "cell_type": "code",
   "execution_count": null,
   "metadata": {
    "ExecuteTime": {
     "end_time": "2019-08-01T02:32:36.619867Z",
     "start_time": "2019-08-01T02:32:15.048938Z"
    }
   },
   "outputs": [],
   "source": [
    "p = subprocess.Popen([\n",
    "    \"Rscript\", \"./cca_anchor_transfer.R\",\n",
    "    \"-r\", \"HSC/tusi_run2.h5\",\n",
    "    \"-q\", \"HSC/tusi_run1.h5\",\n",
    "    \"-g\", \"seurat_genes\",\n",
    "    \"-o\", \"HSC/tusi_within_dataset_cca_anchor.h5\",\n",
    "    \"-a\", *FATES, \"-d\", \"20\", \"-s\", \"0\"\n",
    "], cwd=\"..\", stdout=subprocess.PIPE, stderr=subprocess.PIPE)\n",
    "(output, err) = p.communicate()\n",
    "exit_code = p.wait()\n",
    "print(output.decode())\n",
    "print(err.decode())"
   ]
  },
  {
   "cell_type": "code",
   "execution_count": null,
   "metadata": {
    "ExecuteTime": {
     "end_time": "2019-08-01T02:32:36.632725Z",
     "start_time": "2019-08-01T02:32:36.623620Z"
    }
   },
   "outputs": [],
   "source": [
    "fate_pred[\"cca_anchor\"] = cb.data.read_hybrid_path(\"tusi_within_dataset_cca_anchor.h5//prediction\")"
   ]
  },
  {
   "cell_type": "code",
   "execution_count": null,
   "metadata": {
    "ExecuteTime": {
     "end_time": "2019-08-01T02:32:36.729080Z",
     "start_time": "2019-08-01T02:32:36.634803Z"
    }
   },
   "outputs": [],
   "source": [
    "reject_mask = np.any(np.isnan(fate_pred[\"cca_anchor\"]), axis=1)\n",
    "print(\"Rejection rate = %.3f\" % (reject_mask.sum() / reject_mask.size))"
   ]
  },
  {
   "cell_type": "code",
   "execution_count": null,
   "metadata": {
    "ExecuteTime": {
     "end_time": "2019-08-01T02:32:36.876200Z",
     "start_time": "2019-08-01T02:32:36.732070Z"
    }
   },
   "outputs": [],
   "source": [
    "fate_pred_jsd[\"cca_anchor\"] = np.array([\n",
    "    jsd(p, q) for p, q in\n",
    "    zip(fate_pred[\"cca_anchor\"][~reject_mask], query.obs.loc[:, FATES].values[~reject_mask])\n",
    "])\n",
    "assert np.isinf(fate_pred_jsd[\"cca_anchor\"]).sum() == 0"
   ]
  },
  {
   "cell_type": "code",
   "execution_count": null,
   "metadata": {
    "ExecuteTime": {
     "end_time": "2019-08-01T02:32:37.275546Z",
     "start_time": "2019-08-01T02:32:36.878253Z"
    }
   },
   "outputs": [],
   "source": [
    "ax = sns.distplot(\n",
    "    fate_pred_jsd[\"cca_anchor\"],\n",
    "    bins=np.linspace(0, 0.7, 50),\n",
    "    axlabel=\"Fate prediction JSD (CCA anchor)\"\n",
    ")\n",
    "ax.spines[\"right\"].set_visible(False)\n",
    "ax.spines[\"top\"].set_visible(False)\n",
    "ax.yaxis.set_ticks_position(\"left\")\n",
    "ax.xaxis.set_ticks_position(\"bottom\")"
   ]
  },
  {
   "cell_type": "markdown",
   "metadata": {},
   "source": [
    "#### scANVI"
   ]
  },
  {
   "cell_type": "code",
   "execution_count": null,
   "metadata": {},
   "outputs": [],
   "source": [
    "label_mapping = {item: idx for idx, item in enumerate(FATES)}\n",
    "labels = np.vectorize(lambda x: label_mapping[x])(tusi.obs[\"Discrete fate\"])\n",
    "labelled_indices = np.where(np.logical_and(\n",
    "    tusi.obs[\"Sequencing run\"] == \"run 2\",\n",
    "    tusi.obs.loc[:, FATES].max(axis=1) > 0.5\n",
    "))[0]"
   ]
  },
  {
   "cell_type": "code",
   "execution_count": null,
   "metadata": {},
   "outputs": [],
   "source": [
    "tusi[:, tusi.uns[\"seurat_genes\"]].to_anndata().write_h5ad(\"data.h5ad\")\n",
    "tusi_adata = scvi.dataset.AnnDataset(\"data.h5ad\", save_path=\"./\")\n",
    "tusi_adata.labels, tusi_adata.n_labels = labels.reshape((-1, 1)), np.unique(labels).size"
   ]
  },
  {
   "cell_type": "code",
   "execution_count": null,
   "metadata": {},
   "outputs": [],
   "source": [
    "np.random.seed(0)\n",
    "torch.manual_seed(0)\n",
    "vae = scvi.models.SCANVI(\n",
    "    tusi_adata.nb_genes, n_labels=tusi_adata.n_labels,\n",
    "    n_latent=5, n_hidden=128, n_layers=1\n",
    ")\n",
    "trainer = scvi.inference.annotation.CustomSemiSupervisedTrainer(\n",
    "    vae, tusi_adata, labelled_indices,\n",
    "    use_cuda=True, metrics_to_monitor=[\"ll\"], frequency=5,\n",
    "    early_stopping_kwargs=dict(\n",
    "        early_stopping_metric=\"ll\", save_best_state_metric=\"ll\",\n",
    "        patience=30, threshold=0\n",
    "    )\n",
    ")"
   ]
  },
  {
   "cell_type": "code",
   "execution_count": null,
   "metadata": {},
   "outputs": [],
   "source": [
    "trainer.train(n_epochs=1000, lr=1e-3)"
   ]
  },
  {
   "cell_type": "code",
   "execution_count": null,
   "metadata": {},
   "outputs": [],
   "source": [
    "fate_pred[\"scanvi\"] = get_scanvi_class_posterior(trainer)[tusi.obs[\"Sequencing run\"] == \"run 1\", :]"
   ]
  },
  {
   "cell_type": "code",
   "execution_count": null,
   "metadata": {},
   "outputs": [],
   "source": [
    "reject_mask = np.any(np.isnan(fate_pred[\"scanvi\"]), axis=1)\n",
    "print(\"Rejection rate = %.3f\" % (reject_mask.sum() / reject_mask.size))"
   ]
  },
  {
   "cell_type": "code",
   "execution_count": null,
   "metadata": {
    "ExecuteTime": {
     "end_time": "2019-08-01T02:32:36.876200Z",
     "start_time": "2019-08-01T02:32:36.732070Z"
    }
   },
   "outputs": [],
   "source": [
    "fate_pred_jsd[\"scanvi\"] = np.array([\n",
    "    jsd(p, q) for p, q in\n",
    "    zip(fate_pred[\"scanvi\"][~reject_mask], query.obs.loc[:, FATES].values[~reject_mask])\n",
    "])\n",
    "assert np.isinf(fate_pred_jsd[\"scanvi\"]).sum() == 0"
   ]
  },
  {
   "cell_type": "code",
   "execution_count": null,
   "metadata": {
    "ExecuteTime": {
     "end_time": "2019-08-01T02:32:37.275546Z",
     "start_time": "2019-08-01T02:32:36.878253Z"
    }
   },
   "outputs": [],
   "source": [
    "ax = sns.distplot(\n",
    "    fate_pred_jsd[\"scanvi\"],\n",
    "    bins=np.linspace(0, 0.7, 50),\n",
    "    axlabel=\"Fate prediction JSD (scANVI)\"\n",
    ")\n",
    "ax.spines[\"right\"].set_visible(False)\n",
    "ax.spines[\"top\"].set_visible(False)\n",
    "ax.yaxis.set_ticks_position(\"left\")\n",
    "ax.xaxis.set_ticks_position(\"bottom\")"
   ]
  },
  {
   "cell_type": "markdown",
   "metadata": {},
   "source": [
    "### Compare JSD between true fate and predicted fate"
   ]
  },
  {
   "cell_type": "code",
   "execution_count": null,
   "metadata": {},
   "outputs": [],
   "source": [
    "with open(\"../../../Evaluation/palette_method.json\", \"r\") as f:\n",
    "    palette = json.load(f)"
   ]
  },
  {
   "cell_type": "code",
   "execution_count": null,
   "metadata": {
    "ExecuteTime": {
     "end_time": "2019-08-01T02:44:43.943732Z",
     "start_time": "2019-08-01T02:44:41.792630Z"
    }
   },
   "outputs": [],
   "source": [
    "bins = np.linspace(0, 0.7, 50)\n",
    "fig, ax = plt.subplots(figsize=(4.5, 4.5))\n",
    "ax2 = ax.twinx()\n",
    "ax = sns.distplot(\n",
    "    fate_pred_jsd[\"cb\"], color=palette[\"Cell BLAST\"],\n",
    "    kde=False, hist_kws=dict(density=True, alpha=0.5), bins=bins,\n",
    "    axlabel=\"Fate prediction JSD\", ax=ax\n",
    ")\n",
    "ax2 = sns.distplot(\n",
    "    fate_pred_jsd[\"cb\"], color=palette[\"Cell BLAST\"],\n",
    "    hist=False, kde_kws=dict(cumulative=True),\n",
    "    axlabel=\"Fate prediction JSD\", ax=ax2\n",
    ")\n",
    "ax = sns.distplot(\n",
    "    fate_pred_jsd[\"cf\"], color=palette[\"CellFishing.jl\"],\n",
    "    kde=False, hist_kws=dict(density=True, alpha=0.5), bins=bins,\n",
    "    axlabel=\"Fate prediction JSD\", ax=ax\n",
    ")\n",
    "ax2 = sns.distplot(\n",
    "    fate_pred_jsd[\"cf\"], color=palette[\"CellFishing.jl\"],\n",
    "    hist=False, kde_kws=dict(cumulative=True),\n",
    "    axlabel=\"Fate prediction JSD\", ax=ax2\n",
    ")\n",
    "ax = sns.distplot(\n",
    "    fate_pred_jsd[\"cca_anchor\"], color=palette[\"CCA anchor\"],\n",
    "    kde=False, hist_kws=dict(density=True, alpha=0.5), bins=bins,\n",
    "    axlabel=\"Fate prediction JSD\", ax=ax\n",
    ")\n",
    "ax2 = sns.distplot(\n",
    "    fate_pred_jsd[\"cca_anchor\"], color=palette[\"CCA anchor\"],\n",
    "    hist=False, kde_kws=dict(cumulative=True),\n",
    "    axlabel=\"Fate prediction JSD\", ax=ax2\n",
    ")\n",
    "ax = sns.distplot(\n",
    "    fate_pred_jsd[\"scmap\"], color=palette[\"scmap\"],\n",
    "    kde=False, hist_kws=dict(density=True, alpha=0.5), bins=bins,\n",
    "    axlabel=\"Fate prediction JSD\", ax=ax\n",
    ")\n",
    "ax2 = sns.distplot(\n",
    "    fate_pred_jsd[\"scmap\"], color=palette[\"scmap\"],\n",
    "    hist=False, kde_kws=dict(cumulative=True),\n",
    "    axlabel=\"Fate prediction JSD\", ax=ax2\n",
    ")\n",
    "ax = sns.distplot(\n",
    "    fate_pred_jsd[\"scanvi\"], color=palette[\"scANVI\"],\n",
    "    kde=False, hist_kws=dict(density=True, alpha=0.5), bins=bins,\n",
    "    axlabel=\"Fate prediction JSD\", ax=ax\n",
    ")\n",
    "ax2 = sns.distplot(\n",
    "    fate_pred_jsd[\"scanvi\"], color=palette[\"scANVI\"],\n",
    "    hist=False, kde_kws=dict(cumulative=True),\n",
    "    axlabel=\"Fate prediction JSD\", ax=ax2\n",
    ")\n",
    "ax.set_ylabel(\"Density\")\n",
    "ax2.set_ylabel(\"Cumulative probability\")\n",
    "_ = plt.legend(handles=[\n",
    "    mpatches.Patch(color=c, label=l)\n",
    "    for c, l in map(\n",
    "        lambda x: (palette[x], x),\n",
    "        [\"scANVI\", \"scmap\", \"CCA anchor\", \"CellFishing.jl\", \"Cell BLAST\"]\n",
    "    )\n",
    "], frameon=False, bbox_to_anchor=(0.97, 0.03), loc=\"lower right\")\n",
    "ax.spines[\"right\"].set_visible(False)\n",
    "ax.spines[\"top\"].set_visible(False)\n",
    "ax.set_xlim(-0.03, 0.4)\n",
    "fig.savefig(\"./tusi_jsd_cmp.pdf\", bbox_inches=\"tight\")"
   ]
  },
  {
   "cell_type": "markdown",
   "metadata": {},
   "source": [
    "## Velten"
   ]
  },
  {
   "cell_type": "code",
   "execution_count": null,
   "metadata": {
    "ExecuteTime": {
     "end_time": "2019-08-01T02:32:39.176423Z",
     "start_time": "2019-08-01T02:32:38.849987Z"
    }
   },
   "outputs": [],
   "source": [
    "velten = cb.data.ExprDataSet.read_dataset(\"../../../Datasets/data/Velten_Smart-seq2/data.h5\")"
   ]
  },
  {
   "cell_type": "code",
   "execution_count": null,
   "metadata": {
    "ExecuteTime": {
     "end_time": "2019-08-01T02:32:49.646996Z",
     "start_time": "2019-08-01T02:32:39.178418Z"
    },
    "scrolled": true
   },
   "outputs": [],
   "source": [
    "human2mouse = pd.read_csv(\n",
    "    \"../../../Datasets/ortholog/Ensembl/orthology/9606_10090.csv\", header=None)\n",
    "velten2mouse = velten.map_vars(\n",
    "    human2mouse.iloc[:, [1, 3]], map_uns_slots=[\"seurat_genes\"])\n",
    "velten2mouse.write_dataset(\"./velten2mouse.h5\")"
   ]
  },
  {
   "cell_type": "code",
   "execution_count": null,
   "metadata": {
    "ExecuteTime": {
     "end_time": "2019-08-01T02:33:40.830142Z",
     "start_time": "2019-08-01T02:32:49.649303Z"
    }
   },
   "outputs": [],
   "source": [
    "tv = cb.data.ExprDataSet.merge_datasets(dict(\n",
    "    tusi=tusi, velten=velten2mouse\n",
    "), merge_uns_slots=[\"seurat_genes\"])"
   ]
  },
  {
   "cell_type": "code",
   "execution_count": null,
   "metadata": {},
   "outputs": [],
   "source": [
    "vFATES = [\"E\", \"Ba\", \"Meg\", \"Ly\", \"M/D\", \"G\"]\n",
    "vCOLORS = np.array([\n",
    "#     330, 300, 30, 190, 148, 260\n",
    "    0.0, 0.14, 0.23, 0.48, 0.66, 0.88\n",
    "])  # Hue in HSV"
   ]
  },
  {
   "cell_type": "code",
   "execution_count": null,
   "metadata": {
    "ExecuteTime": {
     "end_time": "2019-08-01T02:33:40.837759Z",
     "start_time": "2019-08-01T02:33:40.832609Z"
    }
   },
   "outputs": [],
   "source": [
    "with open(\"./velten_marker.json\", \"r\") as f:\n",
    "    velten_markers = json.load(f, object_pairs_hook=collections.OrderedDict)"
   ]
  },
  {
   "cell_type": "code",
   "execution_count": null,
   "metadata": {
    "ExecuteTime": {
     "end_time": "2019-08-01T02:33:40.936553Z",
     "start_time": "2019-08-01T02:33:40.839350Z"
    }
   },
   "outputs": [],
   "source": [
    "fate_pred = {}\n",
    "rhos = {}"
   ]
  },
  {
   "cell_type": "markdown",
   "metadata": {},
   "source": [
    "### Cross species BLAST"
   ]
  },
  {
   "cell_type": "markdown",
   "metadata": {},
   "source": [
    "#### Cell BLAST"
   ]
  },
  {
   "cell_type": "markdown",
   "metadata": {},
   "source": [
    "##### Not aligned"
   ]
  },
  {
   "cell_type": "code",
   "execution_count": null,
   "metadata": {
    "ExecuteTime": {
     "end_time": "2019-08-01T02:35:11.266452Z",
     "start_time": "2019-08-01T02:33:40.939182Z"
    },
    "scrolled": true
   },
   "outputs": [],
   "source": [
    "cross_species_blast_models = [tusi_model]\n",
    "for i in range(1, 4):\n",
    "    print(\"==== Training model %d ====\" % i)\n",
    "    cross_species_blast_models.append(cb.directi.fit_DIRECTi(\n",
    "        tusi, genes=tusi.uns[\"seurat_genes\"],\n",
    "        latent_dim=10, cat_dim=None,\n",
    "        epoch=300, patience=50, random_seed=i\n",
    "    ))"
   ]
  },
  {
   "cell_type": "code",
   "execution_count": null,
   "metadata": {
    "ExecuteTime": {
     "end_time": "2019-08-01T02:35:11.286846Z",
     "start_time": "2019-08-01T02:19:30.214Z"
    }
   },
   "outputs": [],
   "source": [
    "blast = cb.blast.BLAST(cross_species_blast_models, tusi, eps=0.5)\n",
    "blast.save(\"./tusi_blast\")"
   ]
  },
  {
   "cell_type": "code",
   "execution_count": null,
   "metadata": {
    "ExecuteTime": {
     "end_time": "2019-08-01T02:35:11.288269Z",
     "start_time": "2019-08-01T02:19:30.216Z"
    }
   },
   "outputs": [],
   "source": [
    "hits = blast.query(velten2mouse).reconcile_models().filter(\"pval\", 0.05)"
   ]
  },
  {
   "cell_type": "code",
   "execution_count": null,
   "metadata": {
    "ExecuteTime": {
     "end_time": "2019-08-01T02:35:11.289612Z",
     "start_time": "2019-08-01T02:19:30.218Z"
    }
   },
   "outputs": [],
   "source": [
    "fate_pred[\"cb\"] = pd.concat([hits.annotate(fate, min_hits=1) for fate in FATES], axis=1)\n",
    "fate_pred[\"cb\"][\"M/D\"] = fate_pred[\"cb\"][\"M\"] + fate_pred[\"cb\"][\"D\"]"
   ]
  },
  {
   "cell_type": "code",
   "execution_count": null,
   "metadata": {
    "ExecuteTime": {
     "end_time": "2019-08-01T02:35:11.290940Z",
     "start_time": "2019-08-01T02:19:30.220Z"
    }
   },
   "outputs": [],
   "source": [
    "reject_mask = np.any(np.isnan(fate_pred[\"cb\"]), axis=1)\n",
    "print(\"Rejection rate = %.3f\" % (reject_mask.sum() / reject_mask.size))"
   ]
  },
  {
   "cell_type": "markdown",
   "metadata": {},
   "source": [
    "##### Aligned"
   ]
  },
  {
   "cell_type": "code",
   "execution_count": null,
   "metadata": {
    "ExecuteTime": {
     "end_time": "2019-08-01T02:35:11.292216Z",
     "start_time": "2019-08-01T02:19:30.222Z"
    },
    "scrolled": true
   },
   "outputs": [],
   "source": [
    "blast = cb.blast.BLAST.load(\"./tusi_blast\")"
   ]
  },
  {
   "cell_type": "code",
   "execution_count": null,
   "metadata": {
    "ExecuteTime": {
     "end_time": "2019-08-01T02:35:11.293478Z",
     "start_time": "2019-08-01T02:19:30.224Z"
    },
    "scrolled": true
   },
   "outputs": [],
   "source": [
    "path = \"/tmp/cb/%s\" % cb.utils.rand_hex()\n",
    "print(\"Aligning BLAST at %s...\" % path)\n",
    "blast_aligned = blast.align(\n",
    "    velten2mouse, path=path\n",
    ")"
   ]
  },
  {
   "cell_type": "code",
   "execution_count": null,
   "metadata": {
    "ExecuteTime": {
     "end_time": "2019-08-01T02:35:11.294645Z",
     "start_time": "2019-08-01T02:19:30.227Z"
    }
   },
   "outputs": [],
   "source": [
    "hits = blast_aligned.query(velten2mouse).reconcile_models().filter(\"pval\", 0.05)"
   ]
  },
  {
   "cell_type": "code",
   "execution_count": null,
   "metadata": {
    "ExecuteTime": {
     "end_time": "2019-08-01T02:35:11.295665Z",
     "start_time": "2019-08-01T02:19:30.229Z"
    }
   },
   "outputs": [],
   "source": [
    "fate_pred[\"cb\"] = pd.concat([hits.annotate(fate, min_hits=1) for fate in FATES], axis=1)\n",
    "fate_pred[\"cb\"][\"M/D\"] = fate_pred[\"cb\"][\"M\"] + fate_pred[\"cb\"][\"D\"]"
   ]
  },
  {
   "cell_type": "code",
   "execution_count": null,
   "metadata": {
    "ExecuteTime": {
     "end_time": "2019-08-01T02:35:11.297198Z",
     "start_time": "2019-08-01T02:19:30.231Z"
    }
   },
   "outputs": [],
   "source": [
    "reject_mask = np.any(np.isnan(fate_pred[\"cb\"]), axis=1)\n",
    "print(\"Rejection rate = %.3f\" % (reject_mask.sum() / reject_mask.size))"
   ]
  },
  {
   "cell_type": "code",
   "execution_count": null,
   "metadata": {
    "ExecuteTime": {
     "end_time": "2019-08-01T02:35:11.298988Z",
     "start_time": "2019-08-01T02:19:30.233Z"
    }
   },
   "outputs": [],
   "source": [
    "tv.latent = blast_aligned.models[0].inference(tv)"
   ]
  },
  {
   "cell_type": "code",
   "execution_count": null,
   "metadata": {
    "ExecuteTime": {
     "end_time": "2019-08-01T02:35:11.300282Z",
     "start_time": "2019-08-01T02:19:30.235Z"
    }
   },
   "outputs": [],
   "source": [
    "dist_mat = scipy.spatial.distance.squareform(\n",
    "    scipy.spatial.distance.pdist(tv.latent))\n",
    "np.save(\"expr.npy\", tv.obs.loc[:, FATES].fillna(0).values)\n",
    "np.save(\"dist.npy\", dist_mat, allow_pickle=True)\n",
    "np.save(\"gene.npy\", np.array(FATES), allow_pickle=True)"
   ]
  },
  {
   "cell_type": "code",
   "execution_count": null,
   "metadata": {
    "ExecuteTime": {
     "end_time": "2019-08-01T02:35:11.301321Z",
     "start_time": "2019-08-01T02:19:30.237Z"
    }
   },
   "outputs": [],
   "source": [
    "%%bash\n",
    "eval \"$(conda shell.bash hook 2> /dev/null)\"  # May be unnecessary depending on the environment setup\n",
    "\n",
    "# git clone git@github.com:AllonKleinLab/SPRING.git\n",
    "# conda create -n SPRING python=2.7 numpy scipy scikit-learn matplotlib jupyter\n",
    "\n",
    "conda activate envs/SPRING\n",
    "python prep_spring.py -e \"expr.npy\" -d \"dist.npy\" -g \"gene.npy\" -k 4 -o \"SPRING/datasets/TV\"\n",
    "\n",
    "# Please start the server elsewhere by running: `python -m SimpleHTTPServer 8000` under directory SPRING and conda environment SPRING\n",
    "# Now access SPRING web server and adjust the plot: <ip_address>:8000/springViewer.html?datasets/TV\n",
    "# Save the final coordinate to \"SPRING/datasets/Tusi/coordinates.txt\""
   ]
  },
  {
   "cell_type": "code",
   "execution_count": null,
   "metadata": {
    "ExecuteTime": {
     "end_time": "2019-08-01T02:35:11.302370Z",
     "start_time": "2019-08-01T02:19:30.239Z"
    }
   },
   "outputs": [],
   "source": [
    "coordinates = pd.read_csv(\"SPRING/datasets/TV/coordinates.txt\", index_col=0, header=None).values\n",
    "tv.obs[\"SPRING1\"] = coordinates[:, 0]\n",
    "tv.obs[\"SPRING2\"] = coordinates[:, 1]"
   ]
  },
  {
   "cell_type": "code",
   "execution_count": null,
   "metadata": {
    "ExecuteTime": {
     "end_time": "2019-08-01T02:35:11.303590Z",
     "start_time": "2019-08-01T02:19:30.241Z"
    }
   },
   "outputs": [],
   "source": [
    "ax = plot_fate(tv, FATES, COLORS, \"SPRING\")\n",
    "ax.get_figure().savefig(\"velten_superimpose.pdf\", dpi=300, bbox_inches=\"tight\")"
   ]
  },
  {
   "cell_type": "markdown",
   "metadata": {},
   "source": [
    "Visualize prediction"
   ]
  },
  {
   "cell_type": "code",
   "execution_count": null,
   "metadata": {
    "ExecuteTime": {
     "end_time": "2019-08-01T02:35:11.304693Z",
     "start_time": "2019-08-01T02:19:30.243Z"
    }
   },
   "outputs": [],
   "source": [
    "for column in velten.obs:\n",
    "    if column in [\"SPRING1\", \"SPRING2\"] + FATES + vFATES:\n",
    "        del velten.obs[column]\n",
    "velten.obs = velten.obs.merge(\n",
    "    tv.obs.loc[:, [\"SPRING1\", \"SPRING2\"]],\n",
    "    left_index=True, right_index=True, how=\"left\"\n",
    ")\n",
    "velten.obs = velten.obs.merge(\n",
    "    fate_pred[\"cb\"],\n",
    "    left_index=True, right_index=True, how=\"left\"\n",
    ")"
   ]
  },
  {
   "cell_type": "code",
   "execution_count": null,
   "metadata": {
    "ExecuteTime": {
     "end_time": "2019-08-01T02:35:11.306026Z",
     "start_time": "2019-08-01T02:19:30.245Z"
    }
   },
   "outputs": [],
   "source": [
    "ax = plot_fate(velten, vFATES, vCOLORS, method=\"SPRING\", size=15, sort=True, na=\"#FFFFFF\")\n",
    "ax.get_figure().savefig(\"velten_fate_cb.pdf\", dpi=300, bbox_inches=\"tight\")"
   ]
  },
  {
   "cell_type": "markdown",
   "metadata": {
    "ExecuteTime": {
     "end_time": "2019-06-20T07:01:38.937558Z",
     "start_time": "2019-06-20T07:01:38.930589Z"
    }
   },
   "source": [
    "Marker expression"
   ]
  },
  {
   "cell_type": "code",
   "execution_count": null,
   "metadata": {
    "ExecuteTime": {
     "end_time": "2019-08-01T02:35:11.307289Z",
     "start_time": "2019-08-01T02:19:30.248Z"
    },
    "scrolled": true
   },
   "outputs": [],
   "source": [
    "fig = plot_markers(velten, velten_markers, width=22)\n",
    "fig.savefig(\"velten_marker.pdf\", dpi=300, bbox_inches=\"tight\")"
   ]
  },
  {
   "cell_type": "markdown",
   "metadata": {},
   "source": [
    "Fate-marker correlation"
   ]
  },
  {
   "cell_type": "code",
   "execution_count": null,
   "metadata": {
    "ExecuteTime": {
     "end_time": "2019-08-01T02:35:11.308356Z",
     "start_time": "2019-08-01T02:19:30.250Z"
    }
   },
   "outputs": [],
   "source": [
    "velten_use = velten[~reject_mask, :]\n",
    "fig, rhos[\"cb\"] = fate_marker_correlation(velten_use, vFATES, velten_markers, width=24)\n",
    "fig.savefig(\"./velten_fate_marker_cb.pdf\", dpi=300, bbox_inches=\"tight\")\n",
    "print(\"Overall correlation = %.3f\" % rhos[\"cb\"].max(axis=1).mean())"
   ]
  },
  {
   "cell_type": "markdown",
   "metadata": {},
   "source": [
    "#### scmap"
   ]
  },
  {
   "cell_type": "code",
   "execution_count": null,
   "metadata": {
    "ExecuteTime": {
     "end_time": "2019-08-01T02:35:11.309653Z",
     "start_time": "2019-08-01T02:19:30.252Z"
    }
   },
   "outputs": [],
   "source": [
    "p = subprocess.Popen([\n",
    "    \"Rscript\", \"./run_scmap.R\",\n",
    "    \"-r\", \"../Datasets/data/Tusi/data.h5\", \"-n\", \"Tusi\",\n",
    "    \"-q\", \"../Notebooks/Case/HSC/velten2mouse.h5\",\n",
    "    \"-o\", \"../Notebooks/Case/HSC/velten_cross_species_scmap.h5\",\n",
    "    \"-g\", \"scmap_genes\", \"-s\", \"0\", \"--cluster-col\", \"organ\"\n",
    "], cwd=\"../../../Evaluation\", stdout=subprocess.PIPE, stderr=subprocess.PIPE)\n",
    "(output, err) = p.communicate()\n",
    "exit_code = p.wait()\n",
    "print(output.decode())\n",
    "print(err.decode())"
   ]
  },
  {
   "cell_type": "code",
   "execution_count": null,
   "metadata": {
    "ExecuteTime": {
     "end_time": "2019-08-01T02:35:11.310739Z",
     "start_time": "2019-08-01T02:19:30.254Z"
    }
   },
   "outputs": [],
   "source": [
    "scmap_idx = cb.data.read_hybrid_path(\"velten_cross_species_scmap.h5//scmap_cell/nn/Tusi/cells\").astype(int)\n",
    "scmap_sim = cb.data.read_hybrid_path(\"velten_cross_species_scmap.h5//scmap_cell/nn/Tusi/similarities\")"
   ]
  },
  {
   "cell_type": "code",
   "execution_count": null,
   "metadata": {
    "ExecuteTime": {
     "end_time": "2019-08-01T02:35:11.311980Z",
     "start_time": "2019-08-01T02:19:30.256Z"
    }
   },
   "outputs": [],
   "source": [
    "fate_pred[\"scmap\"] = pd.DataFrame([\n",
    "    tusi.obs.iloc[_idx[_sim >= 0.5] - 1, :].loc[:, FATES].mean(axis=0)\n",
    "    for _idx, _sim in zip(scmap_idx, scmap_sim)\n",
    "])  # idx - 1 because R idx is 1 based\n",
    "fate_pred[\"scmap\"][\"M/D\"] = fate_pred[\"scmap\"][\"M\"] + fate_pred[\"scmap\"][\"D\"]"
   ]
  },
  {
   "cell_type": "code",
   "execution_count": null,
   "metadata": {
    "ExecuteTime": {
     "end_time": "2019-08-01T02:35:11.313179Z",
     "start_time": "2019-08-01T02:19:30.258Z"
    }
   },
   "outputs": [],
   "source": [
    "reject_mask = np.any(np.isnan(fate_pred[\"scmap\"]), axis=1)\n",
    "print(\"Rejection rate = %.3f\" % (reject_mask.sum() / reject_mask.size))"
   ]
  },
  {
   "cell_type": "code",
   "execution_count": null,
   "metadata": {
    "ExecuteTime": {
     "end_time": "2019-08-01T02:35:11.314371Z",
     "start_time": "2019-08-01T02:19:30.260Z"
    }
   },
   "outputs": [],
   "source": [
    "velten.obs.loc[:, vFATES] = fate_pred[\"scmap\"].loc[:, vFATES].values"
   ]
  },
  {
   "cell_type": "code",
   "execution_count": null,
   "metadata": {
    "ExecuteTime": {
     "end_time": "2019-08-01T02:35:11.315525Z",
     "start_time": "2019-08-01T02:19:30.262Z"
    }
   },
   "outputs": [],
   "source": [
    "ax = plot_fate(velten, vFATES, vCOLORS, method=\"SPRING\", size=15, sort=True, na=\"#FFFFFF\")\n",
    "ax.get_figure().savefig(\"velten_fate_scmap.pdf\", dpi=300, bbox_inches=\"tight\")"
   ]
  },
  {
   "cell_type": "code",
   "execution_count": null,
   "metadata": {
    "ExecuteTime": {
     "end_time": "2019-08-01T02:35:11.316807Z",
     "start_time": "2019-08-01T02:19:30.263Z"
    }
   },
   "outputs": [],
   "source": [
    "velten_use = velten[~reject_mask, :]\n",
    "fig, rhos[\"scmap\"] = fate_marker_correlation(velten_use, vFATES, velten_markers, width=24)\n",
    "fig.savefig(\"./velten_fate_marker_scmap.pdf\", dpi=300, bbox_inches=\"tight\")\n",
    "print(\"Overall correlation = %.3f\" % rhos[\"scmap\"].max(axis=1).mean())"
   ]
  },
  {
   "cell_type": "markdown",
   "metadata": {},
   "source": [
    "#### CellFishing.jl"
   ]
  },
  {
   "cell_type": "code",
   "execution_count": null,
   "metadata": {
    "ExecuteTime": {
     "end_time": "2019-08-01T02:35:11.317863Z",
     "start_time": "2019-08-01T02:19:30.266Z"
    }
   },
   "outputs": [],
   "source": [
    "p = subprocess.Popen([\n",
    "    \"julia\", \"./run_CellFishing.jl.jl\",\n",
    "    \"--annotation=organ\", # just sham prediction\n",
    "    \"--gene=cf_genes\", \"--seed=0\",\n",
    "    \"../Datasets/data/Tusi/data.h5\",\n",
    "    \"../Notebooks/Case/HSC/velten2mouse.h5\",\n",
    "    \"../Notebooks/Case/HSC/velten_cross_species_cf.h5\"\n",
    "], cwd=\"../../../Evaluation\", stdout=subprocess.PIPE, stderr=subprocess.PIPE)\n",
    "(output, err) = p.communicate()\n",
    "exit_code = p.wait()\n",
    "print(output.decode())\n",
    "print(err.decode())"
   ]
  },
  {
   "cell_type": "code",
   "execution_count": null,
   "metadata": {
    "ExecuteTime": {
     "end_time": "2019-08-01T02:35:11.319041Z",
     "start_time": "2019-08-01T02:19:30.268Z"
    }
   },
   "outputs": [],
   "source": [
    "cf_idx = cb.data.read_hybrid_path(\"velten_cross_species_cf.h5//indexes\").astype(int)\n",
    "cf_sim = cb.data.read_hybrid_path(\"velten_cross_species_cf.h5//hammingdistances\")"
   ]
  },
  {
   "cell_type": "code",
   "execution_count": null,
   "metadata": {
    "ExecuteTime": {
     "end_time": "2019-08-01T02:35:11.320394Z",
     "start_time": "2019-08-01T02:19:30.270Z"
    }
   },
   "outputs": [],
   "source": [
    "fate_pred[\"cf\"] = pd.DataFrame([\n",
    "    tusi.obs.iloc[_idx[_sim <= 170] - 1, :].loc[:, FATES].mean(axis=0)\n",
    "    for _idx, _sim in zip(cf_idx, cf_sim)\n",
    "])\n",
    "fate_pred[\"cf\"][\"M/D\"] = fate_pred[\"cf\"][\"M\"] + fate_pred[\"cf\"][\"D\"]"
   ]
  },
  {
   "cell_type": "code",
   "execution_count": null,
   "metadata": {
    "ExecuteTime": {
     "end_time": "2019-08-01T02:35:11.321544Z",
     "start_time": "2019-08-01T02:19:30.272Z"
    }
   },
   "outputs": [],
   "source": [
    "reject_mask = np.any(np.isnan(fate_pred[\"cf\"]), axis=1)\n",
    "print(\"Rejection rate = %.3f\" % (reject_mask.sum() / reject_mask.size))"
   ]
  },
  {
   "cell_type": "code",
   "execution_count": null,
   "metadata": {
    "ExecuteTime": {
     "end_time": "2019-08-01T02:35:11.322838Z",
     "start_time": "2019-08-01T02:19:30.275Z"
    }
   },
   "outputs": [],
   "source": [
    "velten.obs.loc[:, vFATES] = fate_pred[\"cf\"].loc[:, vFATES].values"
   ]
  },
  {
   "cell_type": "code",
   "execution_count": null,
   "metadata": {
    "ExecuteTime": {
     "end_time": "2019-08-01T02:35:11.323979Z",
     "start_time": "2019-08-01T02:19:30.277Z"
    }
   },
   "outputs": [],
   "source": [
    "ax = plot_fate(velten, vFATES, vCOLORS, method=\"SPRING\", size=20, sort=True, na=\"#FFFFFF\")\n",
    "ax.get_figure().savefig(\"velten_fate_cf.pdf\", dpi=300, bbox_inches=\"tight\")"
   ]
  },
  {
   "cell_type": "code",
   "execution_count": null,
   "metadata": {
    "ExecuteTime": {
     "end_time": "2019-08-01T02:35:11.325121Z",
     "start_time": "2019-08-01T02:19:30.280Z"
    }
   },
   "outputs": [],
   "source": [
    "velten_use = velten[~reject_mask, :]\n",
    "fig, rhos[\"cf\"] = fate_marker_correlation(velten_use, vFATES, velten_markers, width=24)\n",
    "fig.savefig(\"./velten_fate_marker_cf.pdf\", dpi=300, bbox_inches=\"tight\")\n",
    "print(\"Overall correlation = %.3f\" % rhos[\"cf\"].max(axis=1).mean())"
   ]
  },
  {
   "cell_type": "markdown",
   "metadata": {},
   "source": [
    "#### CCA anchor"
   ]
  },
  {
   "cell_type": "code",
   "execution_count": null,
   "metadata": {
    "ExecuteTime": {
     "end_time": "2019-08-01T02:35:11.335696Z",
     "start_time": "2019-08-01T02:19:30.301Z"
    }
   },
   "outputs": [],
   "source": [
    "p = subprocess.Popen([\n",
    "    \"Rscript\", \"./cca_anchor_transfer.R\",\n",
    "    \"-r\", \"../../Datasets/data/Tusi/data.h5\",\n",
    "    \"-q\", \"HSC/velten2mouse.h5\",\n",
    "    \"-g\", \"seurat_genes\",\n",
    "    \"-o\", \"HSC/velten_cross_species_cca_anchor.h5\",\n",
    "    \"-a\", *FATES, \"-d\", \"20\", \"-s\", \"0\"\n",
    "], cwd=\"..\", stdout=subprocess.PIPE, stderr=subprocess.PIPE)\n",
    "(output, err) = p.communicate()\n",
    "exit_code = p.wait()\n",
    "print(output.decode())\n",
    "print(err.decode())"
   ]
  },
  {
   "cell_type": "code",
   "execution_count": null,
   "metadata": {
    "ExecuteTime": {
     "end_time": "2019-08-01T02:35:11.336739Z",
     "start_time": "2019-08-01T02:19:30.304Z"
    }
   },
   "outputs": [],
   "source": [
    "fate_pred[\"cca_anchor\"] = pd.DataFrame(\n",
    "    cb.data.read_hybrid_path(\"velten_cross_species_cca_anchor.h5//prediction\"),\n",
    "    index=velten.obs_names, columns=FATES\n",
    ")\n",
    "fate_pred[\"cca_anchor\"][\"M/D\"] = fate_pred[\"cca_anchor\"][\"M\"] + fate_pred[\"cca_anchor\"][\"D\"]"
   ]
  },
  {
   "cell_type": "code",
   "execution_count": null,
   "metadata": {
    "ExecuteTime": {
     "end_time": "2019-08-01T02:35:11.337770Z",
     "start_time": "2019-08-01T02:19:30.306Z"
    }
   },
   "outputs": [],
   "source": [
    "reject_mask = np.any(np.isnan(fate_pred[\"cca_anchor\"]), axis=1)\n",
    "print(\"Rejection rate = %.3f\" % (reject_mask.sum() / reject_mask.size))"
   ]
  },
  {
   "cell_type": "code",
   "execution_count": null,
   "metadata": {
    "ExecuteTime": {
     "end_time": "2019-08-01T02:35:11.338762Z",
     "start_time": "2019-08-01T02:19:30.308Z"
    }
   },
   "outputs": [],
   "source": [
    "velten.obs.loc[:, vFATES] = fate_pred[\"cca_anchor\"].loc[:, vFATES].values"
   ]
  },
  {
   "cell_type": "code",
   "execution_count": null,
   "metadata": {
    "ExecuteTime": {
     "end_time": "2019-08-01T02:35:11.339896Z",
     "start_time": "2019-08-01T02:19:30.310Z"
    }
   },
   "outputs": [],
   "source": [
    "ax = plot_fate(velten, vFATES, vCOLORS, method=\"SPRING\", size=20, sort=True, na=\"#FFFFFF\")\n",
    "ax.get_figure().savefig(\"velten_fate_cca_anchor.pdf\", dpi=300, bbox_inches=\"tight\")"
   ]
  },
  {
   "cell_type": "code",
   "execution_count": null,
   "metadata": {
    "ExecuteTime": {
     "end_time": "2019-08-01T02:35:11.341065Z",
     "start_time": "2019-08-01T02:19:30.312Z"
    }
   },
   "outputs": [],
   "source": [
    "velten_use = velten[~reject_mask, :]\n",
    "fig, rhos[\"cca_anchor\"] = fate_marker_correlation(velten_use, vFATES, velten_markers, width=24)\n",
    "fig.savefig(\"./velten_fate_marker_cca_anchor.pdf\", dpi=300, bbox_inches=\"tight\")\n",
    "print(\"Overall correlation = %.3f\" % rhos[\"cca_anchor\"].max(axis=1).mean())"
   ]
  },
  {
   "cell_type": "markdown",
   "metadata": {},
   "source": [
    "#### scANVI"
   ]
  },
  {
   "cell_type": "code",
   "execution_count": null,
   "metadata": {},
   "outputs": [],
   "source": [
    "combined_dataset = cb.data.ExprDataSet.merge_datasets({\n",
    "    \"tusi\": tusi[:, tusi.uns[\"seurat_genes\"]],\n",
    "    \"velten2mouse\": velten2mouse[:, tusi.uns[\"seurat_genes\"]]\n",
    "})"
   ]
  },
  {
   "cell_type": "code",
   "execution_count": null,
   "metadata": {
    "scrolled": true
   },
   "outputs": [],
   "source": [
    "label_mapping = {item: idx for idx, item in enumerate(FATES)}\n",
    "label_mapping.update({np.nan: 0})  # Any class\n",
    "labels = np.vectorize(lambda x: label_mapping[x])(combined_dataset.obs[\"Discrete fate\"])\n",
    "labelled_indices = np.where(np.logical_and(\n",
    "    combined_dataset.obs[\"dataset_name\"] == \"Tusi\",\n",
    "    combined_dataset.obs.loc[:, FATES].max(axis=1) > 0.5\n",
    "))[0]\n",
    "batch_indices = sklearn.preprocessing.LabelEncoder().fit_transform(combined_dataset.obs[\"dataset_name\"])"
   ]
  },
  {
   "cell_type": "code",
   "execution_count": null,
   "metadata": {},
   "outputs": [],
   "source": [
    "combined_dataset.to_anndata().write_h5ad(\"data.h5ad\")\n",
    "combined_adata = scvi.dataset.AnnDataset(\"data.h5ad\", save_path=\"./\")\n",
    "combined_adata.labels, combined_adata.n_labels = \\\n",
    "    labels.reshape((-1, 1)), np.unique(labels).size\n",
    "combined_adata.batch_indices, combined_adata.n_batches = \\\n",
    "    batch_indices.reshape((-1, 1)), np.unique(batch_indices).size"
   ]
  },
  {
   "cell_type": "code",
   "execution_count": null,
   "metadata": {},
   "outputs": [],
   "source": [
    "np.random.seed(0)\n",
    "torch.manual_seed(0)\n",
    "vae = scvi.models.SCANVI(\n",
    "    combined_adata.nb_genes,\n",
    "    n_labels=combined_adata.n_labels, n_batch=combined_adata.n_batches,\n",
    "    n_latent=5, n_hidden=128, n_layers=1\n",
    ")\n",
    "trainer = scvi.inference.annotation.CustomSemiSupervisedTrainer(\n",
    "    vae, combined_adata, labelled_indices,\n",
    "    use_cuda=True, metrics_to_monitor=[\"ll\"], frequency=5,\n",
    "    early_stopping_kwargs=dict(\n",
    "        early_stopping_metric=\"ll\", save_best_state_metric=\"ll\",\n",
    "        patience=30, threshold=0\n",
    "    )\n",
    ")"
   ]
  },
  {
   "cell_type": "code",
   "execution_count": null,
   "metadata": {},
   "outputs": [],
   "source": [
    "trainer.train(n_epochs=1000, lr=1e-3)"
   ]
  },
  {
   "cell_type": "code",
   "execution_count": null,
   "metadata": {},
   "outputs": [],
   "source": [
    "fate_pred[\"scanvi\"] = pd.DataFrame(\n",
    "    get_scanvi_class_posterior(trainer)[\n",
    "        combined_dataset.obs[\"dataset_name\"] == \"Velten_Smart-seq2\", :\n",
    "    ], index=velten2mouse.obs.index, columns=FATES)\n",
    "fate_pred[\"scanvi\"][\"M/D\"] = fate_pred[\"scanvi\"][\"M\"] + fate_pred[\"scanvi\"][\"D\"]"
   ]
  },
  {
   "cell_type": "code",
   "execution_count": null,
   "metadata": {
    "ExecuteTime": {
     "end_time": "2019-08-01T02:35:11.337770Z",
     "start_time": "2019-08-01T02:19:30.306Z"
    }
   },
   "outputs": [],
   "source": [
    "reject_mask = np.any(np.isnan(fate_pred[\"scanvi\"]), axis=1)\n",
    "print(\"Rejection rate = %.3f\" % (reject_mask.sum() / reject_mask.size))"
   ]
  },
  {
   "cell_type": "code",
   "execution_count": null,
   "metadata": {
    "ExecuteTime": {
     "end_time": "2019-08-01T02:35:11.338762Z",
     "start_time": "2019-08-01T02:19:30.308Z"
    }
   },
   "outputs": [],
   "source": [
    "velten.obs.loc[:, vFATES] = fate_pred[\"scanvi\"].loc[:, vFATES].values"
   ]
  },
  {
   "cell_type": "code",
   "execution_count": null,
   "metadata": {
    "ExecuteTime": {
     "end_time": "2019-08-01T02:35:11.339896Z",
     "start_time": "2019-08-01T02:19:30.310Z"
    }
   },
   "outputs": [],
   "source": [
    "ax = plot_fate(velten, vFATES, vCOLORS, method=\"SPRING\", size=20, sort=True, na=\"#FFFFFF\")\n",
    "ax.get_figure().savefig(\"velten_fate_scanvi.pdf\", dpi=300, bbox_inches=\"tight\")"
   ]
  },
  {
   "cell_type": "code",
   "execution_count": null,
   "metadata": {
    "ExecuteTime": {
     "end_time": "2019-08-01T02:35:11.341065Z",
     "start_time": "2019-08-01T02:19:30.312Z"
    }
   },
   "outputs": [],
   "source": [
    "velten_use = velten[~reject_mask, :]\n",
    "fig, rhos[\"scanvi\"] = fate_marker_correlation(velten_use, vFATES, velten_markers, width=24)\n",
    "fig.savefig(\"./velten_fate_marker_scanvi.pdf\", dpi=300, bbox_inches=\"tight\")\n",
    "print(\"Overall correlation = %.3f\" % rhos[\"scanvi\"].max(axis=1).mean())"
   ]
  },
  {
   "cell_type": "markdown",
   "metadata": {},
   "source": [
    "### Compare correlation"
   ]
  },
  {
   "cell_type": "code",
   "execution_count": null,
   "metadata": {
    "ExecuteTime": {
     "end_time": "2019-08-01T02:35:11.342154Z",
     "start_time": "2019-08-01T02:19:30.314Z"
    }
   },
   "outputs": [],
   "source": [
    "method_mapping = collections.OrderedDict(\n",
    "    scmap=\"scmap\",\n",
    "    cf=\"CellFishing.jl\",\n",
    "    cca_anchor=\"CCA anchor\",\n",
    "    scanvi=\"scANVI\",\n",
    "    cb=\"Cell BLAST\"\n",
    ")"
   ]
  },
  {
   "cell_type": "code",
   "execution_count": null,
   "metadata": {
    "ExecuteTime": {
     "end_time": "2019-08-01T02:35:11.343237Z",
     "start_time": "2019-08-01T02:19:30.316Z"
    }
   },
   "outputs": [],
   "source": [
    "df = pd.DataFrame({\n",
    "    key: pd.Series(np.apply_along_axis(\n",
    "        lambda x: np.sort(x[np.isfinite(x)])[-3:].mean(),\n",
    "        axis=1, arr=val\n",
    "    ), index=vFATES)\n",
    "    for key, val in rhos.items()\n",
    "}).reset_index().rename(\n",
    "    columns={\"index\": \"Lineage\", **method_mapping}\n",
    ").melt(\n",
    "    id_vars=[\"Lineage\"],\n",
    "    var_name=\"Method\", value_name=\"Spearman's ρ\"\n",
    ")\n",
    "df[\"Method\"] = pd.Categorical(\n",
    "    df[\"Method\"], categories=method_mapping.values()\n",
    ")"
   ]
  },
  {
   "cell_type": "code",
   "execution_count": null,
   "metadata": {
    "ExecuteTime": {
     "end_time": "2019-08-01T02:35:11.344509Z",
     "start_time": "2019-08-01T02:19:30.318Z"
    }
   },
   "outputs": [],
   "source": [
    "fig, ax = plt.subplots(figsize=(4.0, 4.0))\n",
    "ax = sns.boxplot(\n",
    "    x=\"Method\", y=\"Spearman's ρ\", data=df,\n",
    "    linewidth=1.0, width=0.6, whis=10, ax=ax\n",
    ")\n",
    "for i, patch in enumerate(ax.artists):  # Make grey\n",
    "    r, g, b, a = patch.get_edgecolor()\n",
    "    patch.set_edgecolor((r, g, b, 0.2))\n",
    "    _r, _g, _b, a = patch.get_facecolor()\n",
    "    patch.set_facecolor((r, g, b, 0.1))\n",
    "    for j in range(6 * i, 6 * (i + 1)):\n",
    "        ax.lines[j].set_color((r, g, b, 0.2))\n",
    "ax = sns.lineplot(\n",
    "    x=\"Method\", y = \"Spearman's ρ\", hue=\"Lineage\", data=df,\n",
    "    palette=[hsv2hex((c, 1.0, 0.85)) for c in vCOLORS], legend=False\n",
    ")\n",
    "ax = sns.scatterplot(\n",
    "    x=\"Method\", y = \"Spearman's ρ\", hue=\"Lineage\", data=df,\n",
    "    palette=[hsv2hex((c, 1.0, 0.85)) for c in vCOLORS], edgecolor=None\n",
    ")\n",
    "ax.spines[\"right\"].set_visible(False)\n",
    "ax.spines[\"top\"].set_visible(False)\n",
    "ax.set_xticklabels(ax.get_xticklabels(), rotation=20)\n",
    "_ = plt.legend(loc=\"center left\", bbox_to_anchor=(1.02, 0.5), borderaxespad=0.0, frameon=False)\n",
    "fig.savefig(\"velten_rho_cmp.pdf\", bbox_inches=\"tight\")"
   ]
  }
 ],
 "metadata": {
  "kernelspec": {
   "display_name": "Python 3",
   "language": "python",
   "name": "python3"
  },
  "language_info": {
   "codemirror_mode": {
    "name": "ipython",
    "version": 3
   },
   "file_extension": ".py",
   "mimetype": "text/x-python",
   "name": "python",
   "nbconvert_exporter": "python",
   "pygments_lexer": "ipython3",
   "version": "3.6.8"
  },
  "notify_time": "10",
  "toc": {
   "base_numbering": 1,
   "nav_menu": {},
   "number_sections": true,
   "sideBar": true,
   "skip_h1_title": true,
   "title_cell": "Table of Contents",
   "title_sidebar": "Contents",
   "toc_cell": false,
   "toc_position": {
    "height": "886px",
    "left": "865px",
    "top": "110px",
    "width": "240.58822631835938px"
   },
   "toc_section_display": true,
   "toc_window_display": true
  },
  "varInspector": {
   "cols": {
    "lenName": 16,
    "lenType": 16,
    "lenVar": 40
   },
   "kernels_config": {
    "python": {
     "delete_cmd_postfix": "",
     "delete_cmd_prefix": "del ",
     "library": "var_list.py",
     "varRefreshCmd": "print(var_dic_list())"
    },
    "r": {
     "delete_cmd_postfix": ") ",
     "delete_cmd_prefix": "rm(",
     "library": "var_list.r",
     "varRefreshCmd": "cat(var_dic_list()) "
    }
   },
   "oldHeight": 443,
   "position": {
    "height": "903px",
    "left": "2048px",
    "right": "20px",
    "top": "139px",
    "width": "435px"
   },
   "types_to_exclude": [
    "module",
    "function",
    "builtin_function_or_method",
    "instance",
    "_Feature"
   ],
   "varInspector_section_display": "block",
   "window_display": true
  }
 },
 "nbformat": 4,
 "nbformat_minor": 2
}
