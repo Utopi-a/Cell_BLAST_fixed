{
 "cells": [
  {
   "cell_type": "markdown",
   "metadata": {},
   "source": [
    "# Case study: tracheal ionocytes"
   ]
  },
  {
   "cell_type": "markdown",
   "metadata": {},
   "source": [
    "## Preparation"
   ]
  },
  {
   "cell_type": "code",
   "execution_count": null,
   "metadata": {
    "ExecuteTime": {
     "end_time": "2019-07-22T14:33:29.925079Z",
     "start_time": "2019-07-22T14:33:25.715427Z"
    }
   },
   "outputs": [],
   "source": [
    "import collections\n",
    "import functools\n",
    "import json\n",
    "import os\n",
    "import subprocess\n",
    "import sys\n",
    "\n",
    "import Cell_BLAST as cb\n",
    "import community\n",
    "import matplotlib.patches as mpatches\n",
    "import matplotlib.pyplot as plt\n",
    "import networkx as nx\n",
    "import numpy as np\n",
    "import pandas as pd\n",
    "import plotly.io\n",
    "import scipy.cluster\n",
    "import seaborn as sns\n",
    "import sklearn.cluster\n",
    "import sklearn.decomposition\n",
    "import sklearn.manifold\n",
    "import sklearn.neighbors\n",
    "\n",
    "sys.path.insert(0, \"../../../Evaluation\")\n",
    "import utils"
   ]
  },
  {
   "cell_type": "code",
   "execution_count": null,
   "metadata": {
    "ExecuteTime": {
     "end_time": "2019-07-22T14:33:35.490837Z",
     "start_time": "2019-07-22T14:33:29.933583Z"
    }
   },
   "outputs": [],
   "source": [
    "os.environ[\"CUDA_VISIBLE_DEVICES\"] = utils.pick_gpu_lowest_memory()\n",
    "cb.config.RANDOM_SEED = 0\n",
    "cb.config.N_JOBS = 4\n",
    "plt.rcParams['svg.fonttype'] = \"none\"\n",
    "plt.rcParams['font.family'] = \"Arial\""
   ]
  },
  {
   "cell_type": "code",
   "execution_count": null,
   "metadata": {
    "ExecuteTime": {
     "end_time": "2019-07-22T14:33:35.510664Z",
     "start_time": "2019-07-22T14:33:35.502134Z"
    }
   },
   "outputs": [],
   "source": [
    "def snn(x, n_neighbors=10, metric=\"minkowski\"):\n",
    "    knn_graph = sklearn.neighbors.kneighbors_graph(x, n_neighbors=n_neighbors, metric=metric)\n",
    "    snn_graph = scipy.sparse.lil_matrix(knn_graph.shape, dtype=np.int)\n",
    "    for i in range(knn_graph.shape[0]):\n",
    "        for j in range(i, knn_graph.shape[0]):\n",
    "            snn_graph[i, j] = snn_graph[j, i] = np.sum(knn_graph[i].multiply(knn_graph[j]))\n",
    "    return snn_graph\n",
    "\n",
    "def louvain(g, resolution=1.0, random_state=None):\n",
    "    g = nx.Graph(g)\n",
    "    partition = community.best_partition(\n",
    "        g, resolution=resolution, random_state=random_state)\n",
    "    return np.vectorize(lambda i: partition[i])(np.arange(g.number_of_nodes()))"
   ]
  },
  {
   "cell_type": "code",
   "execution_count": null,
   "metadata": {},
   "outputs": [],
   "source": [
    "with open(\"markers.json\", \"r\") as f:\n",
    "    known_markers = json.load(f, object_pairs_hook=collections.OrderedDict)\n",
    "known_markers_noi = known_markers.copy()  # shallow\n",
    "del known_markers_noi[\"ionocyte\"]\n",
    "\n",
    "CTs = np.array(list(known_markers.keys()))  # numpy arrays are easier to subset\n",
    "CTs_noi = np.array(list(known_markers_noi.keys()))  # numpy arrays are easier to subset"
   ]
  },
  {
   "cell_type": "code",
   "execution_count": null,
   "metadata": {},
   "outputs": [],
   "source": [
    "ct_palette = collections.OrderedDict([\n",
    "    (ct, color) for ct, color in zip(\n",
    "        known_markers.keys(), sns.color_palette()\n",
    "    )\n",
    "])\n",
    "\n",
    "rj_palette = collections.OrderedDict([\n",
    "    (\"unassigned\", sns.color_palette()[8]),\n",
    "    (\"rejected\", sns.color_palette()[8]),\n",
    "    (\"ambiguous\", sns.color_palette()[9])\n",
    "])\n",
    "\n",
    "palette = collections.OrderedDict(\n",
    "    list(ct_palette.items()) + list(rj_palette.items()))"
   ]
  },
  {
   "cell_type": "code",
   "execution_count": null,
   "metadata": {},
   "outputs": [],
   "source": [
    "with open(\"../../../Evaluation/palette_method.json\", \"r\") as f:\n",
    "    method_palette = json.load(f)"
   ]
  },
  {
   "cell_type": "markdown",
   "metadata": {},
   "source": [
    "### Read data"
   ]
  },
  {
   "cell_type": "markdown",
   "metadata": {},
   "source": [
    "We first use Montoro_10x as reference and Plasschaert as query."
   ]
  },
  {
   "cell_type": "code",
   "execution_count": null,
   "metadata": {
    "ExecuteTime": {
     "end_time": "2019-07-21T09:33:37.937012Z",
     "start_time": "2019-07-21T09:33:08.071981Z"
    }
   },
   "outputs": [],
   "source": [
    "# Reference\n",
    "montoro_10x_noi = cb.data.ExprDataSet.read_dataset(\"../../../Datasets/data/Montoro_10x_noi/data.h5\")\n",
    "montoro_10x_noi = utils.clean_dataset(montoro_10x_noi, \"cell_ontology_class\")\n",
    "montoro_10x_noi.write_dataset(\"./montoro_10x_noi.h5\")\n",
    "\n",
    "# Query\n",
    "plasschaert = cb.data.ExprDataSet.read_dataset(\"../../../Datasets/data/Plasschaert/data.h5\")\n",
    "plasschaert = utils.clean_dataset(plasschaert, \"cell_ontology_class\")\n",
    "plasschaert.write_dataset(\"./plasschaert.h5\")\n",
    "\n",
    "plasschaert2montoronoi_expectation = pd.read_csv(\"./plasschaert2montoronoi_expectation.csv\", index_col=0)\n",
    "\n",
    "montoro_10x_noi.shape, plasschaert.shape"
   ]
  },
  {
   "cell_type": "code",
   "execution_count": null,
   "metadata": {
    "ExecuteTime": {
     "end_time": "2019-07-22T14:33:35.624053Z",
     "start_time": "2019-07-22T14:33:35.518104Z"
    }
   },
   "outputs": [],
   "source": [
    "ionocyte_enrichment = dict()"
   ]
  },
  {
   "cell_type": "markdown",
   "metadata": {},
   "source": [
    "## Cell BLAST"
   ]
  },
  {
   "cell_type": "markdown",
   "metadata": {},
   "source": [
    "### Train model"
   ]
  },
  {
   "cell_type": "code",
   "execution_count": null,
   "metadata": {
    "ExecuteTime": {
     "end_time": "2019-07-21T09:43:06.602612Z",
     "start_time": "2019-07-21T09:33:37.963136Z"
    },
    "scrolled": true
   },
   "outputs": [],
   "source": [
    "montoro_10x_noi_models = []\n",
    "for i in range(4):\n",
    "    path = \"/tmp/cb/%s\" % cb.utils.rand_hex()\n",
    "    print(\"==== Training model %d at %s ====\" % (i, path))\n",
    "    montoro_10x_noi_models.append(cb.directi.fit_DIRECTi(\n",
    "        montoro_10x_noi, montoro_10x_noi.uns[\"seurat_genes\"],\n",
    "        latent_dim=10, cat_dim=20, epoch=1000, patience=30,\n",
    "        random_seed=i, path=path\n",
    "    ))"
   ]
  },
  {
   "cell_type": "markdown",
   "metadata": {},
   "source": [
    "### Querying"
   ]
  },
  {
   "cell_type": "code",
   "execution_count": null,
   "metadata": {
    "ExecuteTime": {
     "end_time": "2019-07-21T09:43:51.790633Z",
     "start_time": "2019-07-21T09:43:06.612279Z"
    }
   },
   "outputs": [],
   "source": [
    "montoro_10x_noi_blast = cb.blast.BLAST(\n",
    "    montoro_10x_noi_models, montoro_10x_noi)\n",
    "montoro_10x_noi_blast.save(\"./montoro_10x_noi_cb/blast\")"
   ]
  },
  {
   "cell_type": "code",
   "execution_count": null,
   "metadata": {
    "ExecuteTime": {
     "end_time": "2019-07-21T09:44:00.477269Z",
     "start_time": "2019-07-21T09:43:51.802355Z"
    },
    "scrolled": true
   },
   "outputs": [],
   "source": [
    "montoro_10x_noi_blast = cb.blast.BLAST.load(\"./montoro_10x_noi_cb/blast\")"
   ]
  },
  {
   "cell_type": "code",
   "execution_count": null,
   "metadata": {
    "ExecuteTime": {
     "end_time": "2019-07-21T09:44:35.390063Z",
     "start_time": "2019-07-21T09:44:00.485740Z"
    }
   },
   "outputs": [],
   "source": [
    "hits = montoro_10x_noi_blast.query(plasschaert)"
   ]
  },
  {
   "cell_type": "code",
   "execution_count": null,
   "metadata": {
    "ExecuteTime": {
     "end_time": "2019-07-21T09:44:36.095160Z",
     "start_time": "2019-07-21T09:44:35.400467Z"
    }
   },
   "outputs": [],
   "source": [
    "plasschaert.obs[\"cb_pred\"] = hits.reconcile_models().filter(\"pval\", 0.05).annotate(\n",
    "    \"cell_ontology_class\"\n",
    ")[\"cell_ontology_class\"]\n",
    "cb.data.write_hybrid_path(plasschaert.obs[\"cb_pred\"].values, \"./plasschaert_cb_pred.h5//prediction\")"
   ]
  },
  {
   "cell_type": "code",
   "execution_count": null,
   "metadata": {
    "ExecuteTime": {
     "end_time": "2019-07-21T09:44:36.122233Z",
     "start_time": "2019-07-21T09:44:36.105818Z"
    }
   },
   "outputs": [],
   "source": [
    "plasschaert.obs[\"cb_pred\"] = cb.data.read_hybrid_path(\"./plasschaert_cb_pred.h5//prediction\")"
   ]
  },
  {
   "cell_type": "code",
   "execution_count": null,
   "metadata": {
    "ExecuteTime": {
     "end_time": "2019-07-21T09:44:47.575924Z",
     "start_time": "2019-07-21T09:44:36.133535Z"
    },
    "scrolled": false
   },
   "outputs": [],
   "source": [
    "fig = cb.blast.sankey(\n",
    "    plasschaert.obs[\"cell_ontology_class\"], plasschaert.obs[\"cb_pred\"],\n",
    "    title=\"Cell BLAST prediction: Plasschaert → Montoro_10x without ionocyte\",\n",
    "    width=660, height=600, tint_cutoff=5, font_size=11\n",
    ")\n",
    "plotly.io.write_image(fig, \"./plasschaert_cb_sankey.pdf\")"
   ]
  },
  {
   "cell_type": "code",
   "execution_count": null,
   "metadata": {},
   "outputs": [],
   "source": [
    "mba = cb.metrics.mean_balanced_accuracy(\n",
    "    plasschaert.obs[\"cell_ontology_class\"],\n",
    "    plasschaert.obs[\"cb_pred\"],\n",
    "    plasschaert2montoronoi_expectation\n",
    ")\n",
    "print(f\"MBA = {mba:.3f}\")"
   ]
  },
  {
   "cell_type": "code",
   "execution_count": null,
   "metadata": {
    "ExecuteTime": {
     "end_time": "2019-07-21T09:44:47.703297Z",
     "start_time": "2019-07-21T09:44:47.618349Z"
    }
   },
   "outputs": [],
   "source": [
    "ionocyte_mask = plasschaert.obs[\"cell_ontology_class\"] == \"ionocyte\"\n",
    "rejected_mask = plasschaert.obs[\"cb_pred\"] == \"rejected\"\n",
    "ionocyte_enrichment[\"cb\"] = (\n",
    "    np.logical_and(\n",
    "        ionocyte_mask, rejected_mask\n",
    "    ).sum() / rejected_mask.sum()\n",
    ") / (\n",
    "    ionocyte_mask.sum() /\n",
    "    plasschaert.shape[0]\n",
    ")"
   ]
  },
  {
   "cell_type": "markdown",
   "metadata": {},
   "source": [
    "### Check rejections on each cell type"
   ]
  },
  {
   "cell_type": "markdown",
   "metadata": {},
   "source": [
    "#### Fraction"
   ]
  },
  {
   "cell_type": "code",
   "execution_count": null,
   "metadata": {},
   "outputs": [],
   "source": [
    "rejected_fractions = plasschaert.obs.query(\n",
    "    \"cb_pred == 'rejected' & cell_ontology_class != 'ionocyte'\"\n",
    ").groupby(\"cell_ontology_class\").apply(lambda x: x.shape[0])\n",
    "rejected_fractions /= rejected_fractions.sum()\n",
    "rejected_fractions"
   ]
  },
  {
   "cell_type": "code",
   "execution_count": null,
   "metadata": {},
   "outputs": [],
   "source": [
    "all_fractions = plasschaert.obs.query(\n",
    "    \"cell_ontology_class != 'ionocyte'\"\n",
    ").groupby(\"cell_ontology_class\").apply(lambda x: x.shape[0])\n",
    "all_fractions /= all_fractions.sum()\n",
    "all_fractions"
   ]
  },
  {
   "cell_type": "code",
   "execution_count": null,
   "metadata": {},
   "outputs": [],
   "source": [
    "fig, ax = plt.subplots(figsize=(5, 3))\n",
    "ax = sns.barplot(\n",
    "    x=\"fraction\", y=\"cell_ontology_class\", hue=\"type\",\n",
    "    data=pd.DataFrame({\n",
    "        \"overall\": all_fractions,\n",
    "        \"rejected\": rejected_fractions\n",
    "    }).reset_index().melt(\n",
    "        id_vars=[\"cell_ontology_class\"],\n",
    "        value_vars=[\"overall\", \"rejected\"],\n",
    "        var_name=\"type\", value_name=\"fraction\"\n",
    "    ), ax=ax\n",
    ")\n",
    "_ = ax.set_xlabel(\"Fraction\")\n",
    "_ = ax.set_ylabel(\"Cell ontology class\")\n",
    "_ = ax.legend(\n",
    "    bbox_to_anchor=(1.05, 0.5), loc=\"center left\",\n",
    "    borderaxespad=0.0, frameon=False\n",
    ")\n",
    "ax.spines[\"right\"].set_visible(False)\n",
    "ax.spines[\"top\"].set_visible(False)"
   ]
  },
  {
   "cell_type": "markdown",
   "metadata": {},
   "source": [
    "Rarer cell types seem overrepresented in rejected cells."
   ]
  },
  {
   "cell_type": "markdown",
   "metadata": {},
   "source": [
    "#### Dimension reduction"
   ]
  },
  {
   "cell_type": "code",
   "execution_count": null,
   "metadata": {},
   "outputs": [],
   "source": [
    "CTs_use = CTs_noi[np.in1d(CTs_noi, plasschaert.obs[\"cell_ontology_class\"])]\n",
    "CTs_use"
   ]
  },
  {
   "cell_type": "code",
   "execution_count": null,
   "metadata": {},
   "outputs": [],
   "source": [
    "fig, axes = plt.subplots(\n",
    "    nrows=len(CTs_use), ncols=2, figsize=(4 * 2, 4 * len(CTs_use)),\n",
    "    gridspec_kw=dict(wspace=0.4, hspace=0.4)\n",
    ")\n",
    "for ct, (ax_density, ax_latent) in zip(CTs_use, axes):\n",
    "    plasschaert_subset = plasschaert[\n",
    "        plasschaert.obs.query(\n",
    "            \"cell_ontology_class == '%s'\" % ct\n",
    "        ).index,\n",
    "        np.intersect1d(montoro_10x_noi.uns[\"seurat_genes\"], plasschaert.var_names)  # same set of genes used for BLAST\n",
    "    ]\n",
    "\n",
    "    mat = plasschaert_subset.normalize().exprs.log1p().toarray()\n",
    "    pca = sklearn.decomposition.PCA(n_components=2).fit(mat)\n",
    "    plasschaert_subset.latent = pca.transform(mat)\n",
    "    \n",
    "    plasschaert_subset.obs[\"Density\"] = scipy.stats.gaussian_kde(\n",
    "        plasschaert_subset.latent.T\n",
    "    ).evaluate(plasschaert_subset.latent.T)\n",
    "\n",
    "    hue_order = CTs_use[np.in1d(CTs_use, plasschaert_subset.obs[\"cb_pred\"])].tolist()\n",
    "    for item in (\"ambiguous\", \"rejected\"):\n",
    "        if np.in1d(item, plasschaert_subset.obs[\"cb_pred\"]):\n",
    "            hue_order.append(item)\n",
    "    plasschaert_subset.obs = plasschaert_subset.obs.rename({\"cb_pred\": \"Prediction\"}, axis=1)\n",
    "    pred_n_map = {\n",
    "        item: f\"{item}\\n(n = {count})\" for item, count in\n",
    "        zip(*np.unique(plasschaert_subset.obs[\"Prediction\"], return_counts=True))\n",
    "    }\n",
    "    plasschaert_subset.obs[\"Prediction (n)\"] = plasschaert_subset.obs[\"Prediction\"].map(pred_n_map)\n",
    "    palette_n = collections.OrderedDict([\n",
    "        (pred_n_map[key], val) for key, val in palette.items()\n",
    "        if key in pred_n_map\n",
    "    ])\n",
    "    hue_order_n = [\n",
    "        pred_n_map[item] for item in hue_order\n",
    "        if item in pred_n_map\n",
    "    ]\n",
    "    \n",
    "    ax_density = sns.boxplot(\n",
    "        x=\"Density\", y=\"Prediction (n)\",\n",
    "        data=plasschaert_subset.obs,\n",
    "        fliersize=2, palette=palette_n, order=hue_order_n,\n",
    "        ax=ax_density\n",
    "    )\n",
    "    ax_density.set_ylabel(\"Prediction\")\n",
    "    ax_density.spines[\"right\"].set_visible(False)\n",
    "    ax_density.spines[\"top\"].set_visible(False)\n",
    "    ax_latent = plasschaert_subset.visualize_latent(\n",
    "        \"Prediction\", method=None, size=9,\n",
    "        scatter_kws=dict(palette=palette, hue_order=hue_order, rasterized=True),\n",
    "        ax=ax_latent\n",
    "    )\n",
    "    _ = ax_latent.set_xlabel(\"PC1 (%.2f%%)\" % (pca.explained_variance_ratio_[0] * 100))\n",
    "    _ = ax_latent.set_ylabel(\"PC2 (%.2f%%)\" % (pca.explained_variance_ratio_[1] * 100))\n",
    "\n",
    "fig.savefig(\"plasschaert_cb_ctvis.pdf\", dpi=300, bbox_inches=\"tight\")"
   ]
  },
  {
   "cell_type": "markdown",
   "metadata": {},
   "source": [
    "### Clustering rejected cells"
   ]
  },
  {
   "cell_type": "markdown",
   "metadata": {},
   "source": [
    "Let's take a closer look at the ionocytes rejected."
   ]
  },
  {
   "cell_type": "code",
   "execution_count": null,
   "metadata": {
    "ExecuteTime": {
     "end_time": "2019-07-21T09:52:42.919278Z",
     "start_time": "2019-07-21T09:52:40.325192Z"
    }
   },
   "outputs": [],
   "source": [
    "plasschaert_unassigned = plasschaert[plasschaert.obs.query(\"cb_pred == 'rejected'\").index, :]\n",
    "plasschaert_unassigned.latent = montoro_10x_noi_blast.models[0].inference(plasschaert_unassigned)\n",
    "plasschaert_unassigned.obs[\"Average Cell BLAST p-value\"] = np.array([\n",
    "    scipy.stats.gmean(hits.pval[i], axis=None)\n",
    "    for i in np.where(plasschaert.obs[\"cb_pred\"] == \"rejected\")[0]\n",
    "])\n",
    "plasschaert_unassigned.obs = plasschaert_unassigned.obs.rename({\n",
    "    \"cell_ontology_class\": \"Cell ontology class\"\n",
    "}, axis=1)"
   ]
  },
  {
   "cell_type": "code",
   "execution_count": null,
   "metadata": {
    "ExecuteTime": {
     "end_time": "2019-07-21T09:53:07.665990Z",
     "start_time": "2019-07-21T09:53:03.907579Z"
    }
   },
   "outputs": [],
   "source": [
    "ax = plasschaert_unassigned.visualize_latent(\n",
    "    \"Cell ontology class\", method=\"tSNE\", dr_kws=dict(perplexity=10), reuse=False,\n",
    "    size=15, width=4, height=4, scatter_kws=dict(\n",
    "        rasterized=True, palette=palette,\n",
    "        hue_order=CTs[np.in1d(CTs, plasschaert_unassigned.obs[\"Cell ontology class\"])]\n",
    "    ), random_seed=0\n",
    ")\n",
    "ax.get_figure().savefig(\"./plasschaert_cb_unassigned_tsne_cl.pdf\", dpi=300, bbox_inches=\"tight\")"
   ]
  },
  {
   "cell_type": "code",
   "execution_count": null,
   "metadata": {
    "ExecuteTime": {
     "end_time": "2019-07-21T09:52:50.903375Z",
     "start_time": "2019-07-21T09:52:46.500809Z"
    }
   },
   "outputs": [],
   "source": [
    "snn_graph = snn(plasschaert_unassigned.latent, n_neighbors=10)"
   ]
  },
  {
   "cell_type": "code",
   "execution_count": null,
   "metadata": {
    "ExecuteTime": {
     "end_time": "2019-07-21T09:53:18.057633Z",
     "start_time": "2019-07-21T09:53:17.741861Z"
    }
   },
   "outputs": [],
   "source": [
    "plasschaert_unassigned.obs[\"Cluster\"] = louvain(snn_graph, resolution=3.0, random_state=0)\n",
    "cluster_map = collections.OrderedDict([\n",
    "    (i, \"cluster %d\" % i) for i in\n",
    "    sorted(np.unique(plasschaert_unassigned.obs[\"Cluster\"]))\n",
    "])\n",
    "plasschaert_unassigned.obs[\"Cluster\"] = plasschaert_unassigned.obs[\"Cluster\"].map(cluster_map)"
   ]
  },
  {
   "cell_type": "code",
   "execution_count": null,
   "metadata": {},
   "outputs": [],
   "source": [
    "cluster_approx = collections.OrderedDict([\n",
    "    (0, 5),\n",
    "    (1, 0),\n",
    "    (2, 2),\n",
    "    (3, 8),\n",
    "    (4, 3),\n",
    "    (5, 1)\n",
    "])\n",
    "\n",
    "cluster_palette = collections.OrderedDict([\n",
    "    (\"cluster %d\" % i, sns.color_palette(\"tab20\")[2 * j])\n",
    "    for i, j in cluster_approx.items()\n",
    "])\n",
    "cluster_palette_muted = collections.OrderedDict([\n",
    "    (\"cluster %d\" % i, sns.color_palette(\"tab20\")[2 * j + 1])\n",
    "    for i, j in cluster_approx.items()\n",
    "])"
   ]
  },
  {
   "cell_type": "code",
   "execution_count": null,
   "metadata": {
    "ExecuteTime": {
     "end_time": "2019-07-21T09:53:31.468908Z",
     "start_time": "2019-07-21T09:53:30.830691Z"
    }
   },
   "outputs": [],
   "source": [
    "ax = plasschaert_unassigned.visualize_latent(\n",
    "    \"Cluster\", method=\"tSNE\",\n",
    "    size=15, width=4, height=4,\n",
    "    scatter_kws=dict(\n",
    "        rasterized=True, palette=cluster_palette,\n",
    "        hue_order=cluster_map.values()\n",
    "    )\n",
    ")\n",
    "ax.get_figure().savefig(\"./plasschaert_cb_unassigned_tsne_cluster.pdf\", dpi=300, bbox_inches=\"tight\")"
   ]
  },
  {
   "cell_type": "code",
   "execution_count": null,
   "metadata": {
    "ExecuteTime": {
     "end_time": "2019-07-21T09:53:38.554493Z",
     "start_time": "2019-07-21T09:53:37.870659Z"
    }
   },
   "outputs": [],
   "source": [
    "ax = plasschaert_unassigned.visualize_latent(\n",
    "    \"Average Cell BLAST p-value\", method=\"tSNE\", sort=True,\n",
    "    size=15, width=4, height=4,\n",
    "    scatter_kws=dict(rasterized=True))\n",
    "ax.get_figure().savefig(\"./plasschaert_cb_unassigned_tsne_pval.pdf\", dpi=300, bbox_inches=\"tight\")"
   ]
  },
  {
   "cell_type": "code",
   "execution_count": null,
   "metadata": {
    "ExecuteTime": {
     "end_time": "2019-07-21T09:53:55.516666Z",
     "start_time": "2019-07-21T09:53:54.438269Z"
    }
   },
   "outputs": [],
   "source": [
    "fig, ax = plt.subplots(figsize=(4, 4))\n",
    "ax2 = ax.twinx()\n",
    "legend_handles = []\n",
    "for i in cluster_map.values():\n",
    "    ax = sns.distplot(plasschaert_unassigned.obs.loc[\n",
    "        plasschaert_unassigned.obs[\"Cluster\"] == i, \"Average Cell BLAST p-value\"\n",
    "    ], color=cluster_palette[i], kde=False, hist_kws=dict(density=True), ax=ax)\n",
    "    ax2 = sns.distplot(plasschaert_unassigned.obs.loc[\n",
    "        plasschaert_unassigned.obs[\"Cluster\"] == i, \"Average Cell BLAST p-value\"\n",
    "    ], color=cluster_palette[i], hist=False, kde_kws=dict(cumulative=True), ax=ax2)\n",
    "    legend_handles.append(mpatches.Patch(color=cluster_palette[i], label=i))\n",
    "_ = plt.legend(handles=legend_handles, frameon=False, bbox_to_anchor=(1.17, 0.5), loc=\"center left\", title=\"Cluster\")\n",
    "_ = ax.set(xlabel=\"Average Cell BLAST p-value\", ylabel=\"Density\")\n",
    "_ = ax2.set(ylabel=\"Cumulative probability\")\n",
    "plt.xlim(-0.03, 0.45)\n",
    "fig.savefig(\"./plasschaert_cb_unassigned_pval_distribution.pdf\", bbox_inches=\"tight\")"
   ]
  },
  {
   "cell_type": "markdown",
   "metadata": {},
   "source": [
    "### Check other rejected clusters"
   ]
  },
  {
   "cell_type": "markdown",
   "metadata": {},
   "source": [
    "#### One-vs-rest differential expression"
   ]
  },
  {
   "cell_type": "code",
   "execution_count": null,
   "metadata": {
    "ExecuteTime": {
     "end_time": "2019-07-21T09:55:16.041077Z",
     "start_time": "2019-07-21T09:55:13.689248Z"
    }
   },
   "outputs": [],
   "source": [
    "plasschaert_use = plasschaert[plasschaert.obs.query(\"cb_pred != 'ambiguous'\").index, :]\n",
    "plasschaert_use.obs.loc[\n",
    "    plasschaert_unassigned.obs.index, \"cb_pred\"\n",
    "] = plasschaert_unassigned.obs[\"Cluster\"].values"
   ]
  },
  {
   "cell_type": "code",
   "execution_count": null,
   "metadata": {
    "ExecuteTime": {
     "end_time": "2019-07-21T09:57:50.286698Z",
     "start_time": "2019-07-21T09:55:16.067402Z"
    }
   },
   "outputs": [],
   "source": [
    "plasschaert_cb_pred_markers = plasschaert_use.fast_markers(\"cb_pred\")\n",
    "plasschaert_cb_pred_markers = collections.OrderedDict(sorted(\n",
    "    plasschaert_cb_pred_markers.items(),\n",
    "    key=lambda x: \"z\" + x[0] if x[0].startswith(\"cluster\") else x[0]\n",
    "))  # Prepend a z so that rejected clusters sort to last"
   ]
  },
  {
   "cell_type": "code",
   "execution_count": null,
   "metadata": {
    "ExecuteTime": {
     "end_time": "2019-07-21T09:57:52.987000Z",
     "start_time": "2019-07-21T09:57:50.437680Z"
    }
   },
   "outputs": [],
   "source": [
    "if not os.path.exists(\"plasschaert_cb_pred_markers\"):\n",
    "    os.mkdir(\"plasschaert_cb_pred_markers\")\n",
    "for item in plasschaert_cb_pred_markers:\n",
    "    plasschaert_cb_pred_markers[item].to_csv(\n",
    "        \"plasschaert_cb_pred_markers/{item}.csv\".format(item=item))"
   ]
  },
  {
   "cell_type": "code",
   "execution_count": null,
   "metadata": {
    "ExecuteTime": {
     "end_time": "2019-07-21T09:57:53.206978Z",
     "start_time": "2019-07-21T09:57:53.133070Z"
    }
   },
   "outputs": [],
   "source": [
    "plasschaert_cb_reject_markers = {\n",
    "    key: val.query(\"padj < 0.05 & logfc > 0\").index.values.tolist()\n",
    "    for key, val in plasschaert_cb_pred_markers.items()\n",
    "    if key.startswith(\"cluster\")\n",
    "}"
   ]
  },
  {
   "cell_type": "code",
   "execution_count": null,
   "metadata": {
    "ExecuteTime": {
     "end_time": "2019-07-21T09:57:53.351890Z",
     "start_time": "2019-07-21T09:57:53.348319Z"
    }
   },
   "outputs": [],
   "source": [
    "plasschaert_cb_reject_markers_head = {\n",
    "    key: val[0:min(10, len(val))]\n",
    "    for key, val in plasschaert_cb_reject_markers.items()\n",
    "}"
   ]
  },
  {
   "cell_type": "markdown",
   "metadata": {},
   "source": [
    "#### Heatmap"
   ]
  },
  {
   "cell_type": "code",
   "execution_count": null,
   "metadata": {
    "ExecuteTime": {
     "end_time": "2019-07-21T09:58:42.174870Z",
     "start_time": "2019-07-21T09:58:42.170542Z"
    }
   },
   "outputs": [],
   "source": [
    "combined_markers = collections.OrderedDict(\n",
    "    list(filter(lambda x: np.in1d(x[0], plasschaert_use.obs[\"cb_pred\"]), known_markers_noi.items())) +\n",
    "    list(plasschaert_cb_reject_markers_head.items())\n",
    ")"
   ]
  },
  {
   "cell_type": "code",
   "execution_count": null,
   "metadata": {
    "ExecuteTime": {
     "end_time": "2019-07-21T09:58:42.513496Z",
     "start_time": "2019-07-21T09:58:42.507191Z"
    }
   },
   "outputs": [],
   "source": [
    "combined_markers.keys()"
   ]
  },
  {
   "cell_type": "code",
   "execution_count": null,
   "metadata": {
    "ExecuteTime": {
     "end_time": "2019-07-21T09:58:43.392381Z",
     "start_time": "2019-07-21T09:58:43.350504Z"
    }
   },
   "outputs": [],
   "source": [
    "plasschaert_use.var[\"\"] = np.nan\n",
    "for ct in list(combined_markers.keys())[::-1]:  # rejected first, so that they are overwritten by known markers\n",
    "    plasschaert_use.var.loc[combined_markers[ct], \"\"] = ct\n",
    "marker_df = plasschaert_use.var.dropna()\n",
    "del plasschaert_use.var[\"\"]  # Prevent interference with next heatmap\n",
    "marker_df[\"\"] = pd.Categorical(marker_df[\"\"], categories=combined_markers.keys())\n",
    "marker_df = marker_df.sort_values(\"\")"
   ]
  },
  {
   "cell_type": "code",
   "execution_count": null,
   "metadata": {
    "ExecuteTime": {
     "end_time": "2019-07-21T09:58:44.486340Z",
     "start_time": "2019-07-21T09:58:44.477113Z"
    }
   },
   "outputs": [],
   "source": [
    "cell_df = plasschaert_use.obs.loc[:, [\"cb_pred\"]]\n",
    "cell_df[\"cb_pred\"] = pd.Categorical(cell_df[\"cb_pred\"], categories=combined_markers.keys())"
   ]
  },
  {
   "cell_type": "code",
   "execution_count": null,
   "metadata": {
    "ExecuteTime": {
     "end_time": "2019-07-21T09:58:44.758757Z",
     "start_time": "2019-07-21T09:58:44.732571Z"
    }
   },
   "outputs": [],
   "source": [
    "random_state = np.random.RandomState(0)\n",
    "subset_idx = np.concatenate([\n",
    "    random_state.choice(\n",
    "        np.where(cell_df[\"cb_pred\"] == item)[0],\n",
    "        size=min(np.sum(cell_df[\"cb_pred\"] == item), 30),\n",
    "        replace=False\n",
    "    ) for item in np.unique(cell_df[\"cb_pred\"])\n",
    "])\n",
    "cell_df = cell_df.iloc[subset_idx, :]\n",
    "cell_df = cell_df.sort_values(\"cb_pred\")\n",
    "cell_df.columns = [\"Cells\"]"
   ]
  },
  {
   "cell_type": "code",
   "execution_count": null,
   "metadata": {
    "ExecuteTime": {
     "end_time": "2019-07-21T09:58:47.186200Z",
     "start_time": "2019-07-21T09:58:45.455079Z"
    }
   },
   "outputs": [],
   "source": [
    "mat = pd.DataFrame(\n",
    "    plasschaert_use.normalize()[cell_df.index, marker_df.index].exprs.log1p().toarray(),\n",
    "    index=cell_df.index, columns=marker_df.index\n",
    ")\n",
    "mask = mat.sum(axis=0) > 0\n",
    "mat = mat.loc[:, mask]\n",
    "marker_df = marker_df.loc[mask, :]"
   ]
  },
  {
   "cell_type": "code",
   "execution_count": null,
   "metadata": {
    "ExecuteTime": {
     "end_time": "2019-07-21T09:58:47.377302Z",
     "start_time": "2019-07-21T09:58:47.369877Z"
    }
   },
   "outputs": [],
   "source": [
    "color_lut = collections.OrderedDict(list(palette.items()) + list(cluster_palette_muted.items()))\n",
    "ct_legend_patch = [\n",
    "    mpatches.Patch(color=color_lut[k], label=k)\n",
    "    for k in combined_markers.keys() if not k.startswith(\"cluster\")\n",
    "]\n",
    "cluster_legend_patch = [\n",
    "    mpatches.Patch(color=color_lut[k], label=k)\n",
    "    for k in combined_markers.keys() if k.startswith(\"cluster\")\n",
    "]"
   ]
  },
  {
   "cell_type": "code",
   "execution_count": null,
   "metadata": {
    "ExecuteTime": {
     "end_time": "2019-07-21T09:58:47.678248Z",
     "start_time": "2019-07-21T09:58:47.667976Z"
    }
   },
   "outputs": [],
   "source": [
    "for column in cell_df.columns:\n",
    "    cell_df[column] = cell_df[column].map(color_lut)\n",
    "for column in marker_df.columns:\n",
    "    marker_df[column] = marker_df[column].map(color_lut)"
   ]
  },
  {
   "cell_type": "code",
   "execution_count": null,
   "metadata": {
    "ExecuteTime": {
     "end_time": "2019-07-21T09:58:55.777670Z",
     "start_time": "2019-07-21T09:58:48.229667Z"
    }
   },
   "outputs": [],
   "source": [
    "g = sns.clustermap(\n",
    "    mat.T, standard_scale=0,\n",
    "    row_cluster=False, col_cluster=True,\n",
    "    col_linkage=scipy.cluster.hierarchy.linkage(mat, method=\"average\"),\n",
    "    row_colors=marker_df, col_colors=cell_df,\n",
    "    cbar_kws=dict(label=\"Standardized expression\"),\n",
    "    xticklabels=False, vmax=0.9, rasterized=True,\n",
    "    figsize=(20, 20)\n",
    ")\n",
    "g.ax_col_dendrogram.set_xlim([0, 0])  # hide dendrogram\n",
    "l1 = g.ax_col_dendrogram.legend(\n",
    "    loc=\"upper left\", bbox_to_anchor=(0.0, 1.0), ncol=2, fontsize=\"x-large\", title_fontsize=\"x-large\",\n",
    "    handles=ct_legend_patch, frameon=False, title=\"Cell ontology predictions of matched cells\"\n",
    ")\n",
    "l2 = g.ax_col_dendrogram.legend(\n",
    "    loc=\"upper left\", bbox_to_anchor=(0.7, 1.0), ncol=2, fontsize=\"x-large\", title_fontsize=\"x-large\",\n",
    "    handles=cluster_legend_patch, frameon=False, title=\"Clustering of rejected cells\"\n",
    ")\n",
    "g.ax_col_dendrogram.add_artist(l1)\n",
    "g.fig.savefig(\"plasschaert_cb_pred_expr_heatmap.pdf\", dpi=300, bbox_inches=\"tight\")"
   ]
  },
  {
   "cell_type": "markdown",
   "metadata": {},
   "source": [
    "#### Pairwise differential expression"
   ]
  },
  {
   "cell_type": "markdown",
   "metadata": {},
   "source": [
    "##### Cluster 1 vs Basal"
   ]
  },
  {
   "cell_type": "code",
   "execution_count": null,
   "metadata": {},
   "outputs": [],
   "source": [
    "plasschaert_pairwise = plasschaert_use[plasschaert_use.obs.query(\n",
    "    \"cb_pred == 'basal cell of epithelium of trachea' | cb_pred == 'cluster 1'\"\n",
    ").index, :]\n",
    "np.unique(plasschaert_pairwise.obs[\"cb_pred\"], return_counts=True)"
   ]
  },
  {
   "cell_type": "code",
   "execution_count": null,
   "metadata": {},
   "outputs": [],
   "source": [
    "pairwise_markers = plasschaert_pairwise.fast_markers(\"cb_pred\")"
   ]
  },
  {
   "cell_type": "code",
   "execution_count": null,
   "metadata": {},
   "outputs": [],
   "source": [
    "tmp = pairwise_markers[\"cluster 1\"].query(\"padj < 0.05 & logfc > 0\").index\n",
    "np.savetxt(\"sighigh.txt\", tmp, fmt=\"%s\")\n",
    "tmp = pairwise_markers[\"cluster 1\"].query(\"padj < 0.05 & logfc < 0\").index\n",
    "np.savetxt(\"siglow.txt\", tmp, fmt=\"%s\")\n",
    "tmp = plasschaert_pairwise.var_names[np.array(plasschaert_pairwise.exprs.sum(axis=0)).ravel() > 0]\n",
    "np.savetxt(\"sigbg.txt\", tmp, fmt=\"%s\")"
   ]
  },
  {
   "cell_type": "markdown",
   "metadata": {},
   "source": [
    "Proceed on metascape..."
   ]
  },
  {
   "cell_type": "code",
   "execution_count": null,
   "metadata": {},
   "outputs": [],
   "source": [
    "df = pd.read_csv(\n",
    "    \"plasschaert_cb_cluster1_vs_basal_siglow/Enrichment_GO/_FINAL_GO.csv\"\n",
    ").query(\"FirstInGroupByLogP == 1\").loc[:, [\"GO\", \"Description\", \"Log(q-value)\"]]\n",
    "df = df.assign(\n",
    "    neg_log_q=-df[\"Log(q-value)\"],\n",
    "    go_term=df[\"GO\"] + \" \" + df[\"Description\"]\n",
    ").query(\"neg_log_q > 2\")\n",
    "df"
   ]
  },
  {
   "cell_type": "code",
   "execution_count": null,
   "metadata": {},
   "outputs": [],
   "source": [
    "fig, ax = plt.subplots(figsize=(6, 3))\n",
    "ax = sns.barplot(\n",
    "    x=\"neg_log_q\", y=\"go_term\", data=df,\n",
    "    color=sns.color_palette()[0]\n",
    ")\n",
    "ax.axvline(x=2, c=\"red\")\n",
    "ax.set_xlabel(\"-log10 FDR\")\n",
    "ax.set_ylabel(\"GO term\")\n",
    "ax.yaxis.tick_right()\n",
    "fig.savefig(\"plasschaert_cb_cluster1_vs_basal_siglow.pdf\", bbox_inches=\"tight\")"
   ]
  },
  {
   "cell_type": "markdown",
   "metadata": {},
   "source": [
    "##### Cluster 5 vs Club"
   ]
  },
  {
   "cell_type": "code",
   "execution_count": null,
   "metadata": {},
   "outputs": [],
   "source": [
    "plasschaert_pairwise = plasschaert_use[plasschaert_use.obs.query(\n",
    "    \"cb_pred == 'club cell' | cb_pred == 'cluster 5'\"\n",
    ").index, :]\n",
    "np.unique(plasschaert_pairwise.obs[\"cb_pred\"], return_counts=True)"
   ]
  },
  {
   "cell_type": "code",
   "execution_count": null,
   "metadata": {},
   "outputs": [],
   "source": [
    "pairwise_markers = plasschaert_pairwise.fast_markers(\"cb_pred\")"
   ]
  },
  {
   "cell_type": "code",
   "execution_count": null,
   "metadata": {},
   "outputs": [],
   "source": [
    "tmp = pairwise_markers[\"cluster 5\"].query(\"padj < 0.05 & logfc > 0\").index\n",
    "np.savetxt(\"sighigh.txt\", tmp, fmt=\"%s\")\n",
    "tmp = pairwise_markers[\"cluster 5\"].query(\"padj < 0.05 & logfc < 0\").index\n",
    "np.savetxt(\"siglow.txt\", tmp, fmt=\"%s\")\n",
    "tmp = plasschaert_pairwise.var_names[np.array(plasschaert_pairwise.exprs.sum(axis=0)).ravel() > 0]\n",
    "np.savetxt(\"sigbg.txt\", tmp, fmt=\"%s\")"
   ]
  },
  {
   "cell_type": "markdown",
   "metadata": {},
   "source": [
    "Proceed on metascape..."
   ]
  },
  {
   "cell_type": "code",
   "execution_count": null,
   "metadata": {},
   "outputs": [],
   "source": [
    "df = pd.read_csv(\n",
    "    \"plasschaert_cb_cluster5_vs_club_siglow/Enrichment_GO/_FINAL_GO.csv\"\n",
    ").query(\"FirstInGroupByLogP == 1\").loc[:, [\"GO\", \"Description\", \"Log(q-value)\"]]\n",
    "df = df.assign(\n",
    "    neg_log_q=-df[\"Log(q-value)\"],\n",
    "    go_term=df[\"GO\"] + \" \" + df[\"Description\"]\n",
    ").query(\"neg_log_q > 2\")\n",
    "df"
   ]
  },
  {
   "cell_type": "code",
   "execution_count": null,
   "metadata": {},
   "outputs": [],
   "source": [
    "fig, ax = plt.subplots(figsize=(6, 3))\n",
    "ax = sns.barplot(\n",
    "    x=\"neg_log_q\", y=\"go_term\", data=df,\n",
    "    color=sns.color_palette()[0]\n",
    ")\n",
    "ax.axvline(x=2, c=\"red\")\n",
    "ax.set_xlabel(\"-log10 FDR\")\n",
    "ax.set_ylabel(\"GO term\")\n",
    "ax.yaxis.tick_right()\n",
    "fig.savefig(\"plasschaert_cb_cluster5_vs_club_siglow.pdf\", bbox_inches=\"tight\")"
   ]
  },
  {
   "cell_type": "markdown",
   "metadata": {},
   "source": [
    "##### Cluster 0 vs Rest"
   ]
  },
  {
   "cell_type": "code",
   "execution_count": null,
   "metadata": {},
   "outputs": [],
   "source": [
    "plasschaert_pairwise = plasschaert_use[plasschaert_use.obs.query(\n",
    "    \"cb_pred != 'cluster 0' | cb_pred == 'cluster 0'\"\n",
    ").index, :]\n",
    "np.unique(plasschaert_pairwise.obs[\"cb_pred\"], return_counts=True)"
   ]
  },
  {
   "cell_type": "code",
   "execution_count": null,
   "metadata": {},
   "outputs": [],
   "source": [
    "pairwise_markers = plasschaert_pairwise.fast_markers(\"cb_pred\")"
   ]
  },
  {
   "cell_type": "code",
   "execution_count": null,
   "metadata": {},
   "outputs": [],
   "source": [
    "tmp = pairwise_markers[\"cluster 0\"].query(\"padj < 0.05 & logfc > 0\").index\n",
    "np.savetxt(\"sighigh.txt\", tmp, fmt=\"%s\")\n",
    "tmp = pairwise_markers[\"cluster 0\"].query(\"padj < 0.05 & logfc < 0\").index\n",
    "np.savetxt(\"siglow.txt\", tmp, fmt=\"%s\")\n",
    "tmp = plasschaert_pairwise.var_names[np.array(plasschaert_pairwise.exprs.sum(axis=0)).ravel() > 0]\n",
    "np.savetxt(\"sigbg.txt\", tmp, fmt=\"%s\")"
   ]
  },
  {
   "cell_type": "markdown",
   "metadata": {},
   "source": [
    "Proceed on metascape..."
   ]
  },
  {
   "cell_type": "code",
   "execution_count": null,
   "metadata": {},
   "outputs": [],
   "source": [
    "df = pd.read_csv(\n",
    "    \"plasschaert_cb_cluster0_vs_rest_sighigh/Enrichment_GO/_FINAL_GO.csv\"\n",
    ").query(\"FirstInGroupByLogP == 1\").loc[:, [\"GO\", \"Description\", \"Log(q-value)\"]]\n",
    "df = df.assign(\n",
    "    neg_log_q=-df[\"Log(q-value)\"],\n",
    "    go_term=df[\"GO\"] + \" \" + df[\"Description\"]\n",
    ").query(\"neg_log_q > 2\")\n",
    "df"
   ]
  },
  {
   "cell_type": "code",
   "execution_count": null,
   "metadata": {},
   "outputs": [],
   "source": [
    "fig, ax = plt.subplots(figsize=(6, 3))\n",
    "ax = sns.barplot(\n",
    "    x=\"neg_log_q\", y=\"go_term\", data=df,\n",
    "    color=sns.color_palette()[0]\n",
    ")\n",
    "ax.axvline(x=2, c=\"red\")\n",
    "ax.set_xlabel(\"-log10 FDR\")\n",
    "ax.set_ylabel(\"GO term\")\n",
    "ax.yaxis.tick_right()\n",
    "fig.savefig(\"plasschaert_cb_cluster0_vs_rest_sighigh.pdf\", bbox_inches=\"tight\")"
   ]
  },
  {
   "cell_type": "markdown",
   "metadata": {},
   "source": [
    "## scmap"
   ]
  },
  {
   "cell_type": "markdown",
   "metadata": {},
   "source": [
    "### Querying"
   ]
  },
  {
   "cell_type": "code",
   "execution_count": null,
   "metadata": {
    "ExecuteTime": {
     "end_time": "2019-07-22T14:34:53.285418Z",
     "start_time": "2019-07-22T14:33:39.877169Z"
    }
   },
   "outputs": [],
   "source": [
    "p = subprocess.Popen([\n",
    "    \"Rscript\", \"run_scmap.R\",\n",
    "    \"-r\", \"../Notebooks/Case/Trachea/montoro_10x_noi.h5\", \"-n\", \"Montoro_10x_noi\",\n",
    "    \"-q\", \"../Notebooks/Case/Trachea/plasschaert.h5\",\n",
    "    \"-o\", \"../Notebooks/Case/Trachea/plasschaert_scmap_pred.h5\",\n",
    "    \"-g\", \"scmap_genes\", \"-s\", \"0\", \"--threshold\", \"0.0\", \"0.5\",\n",
    "    \"--cluster-col\", \"cell_ontology_class\"\n",
    "], cwd=\"../../../Evaluation\", stdout=subprocess.PIPE, stderr=subprocess.PIPE)\n",
    "(output, err) = p.communicate()\n",
    "exit_code = p.wait()\n",
    "print(output.decode())\n",
    "print(err.decode())"
   ]
  },
  {
   "cell_type": "code",
   "execution_count": null,
   "metadata": {},
   "outputs": [],
   "source": [
    "plasschaert.obs[\"scmap_pred\"] = cb.data.read_hybrid_path(\"./plasschaert_scmap_pred.h5//prediction/0.0\")\n",
    "plasschaert.obs[\"Average scmap similarity\"] = scipy.stats.gmean(cb.data.read_hybrid_path(\n",
    "    \"./plasschaert_scmap_pred.h5//scmap_cell/nn/Montoro_10x_noi/similarities\"\n",
    "), axis=1)"
   ]
  },
  {
   "cell_type": "code",
   "execution_count": null,
   "metadata": {},
   "outputs": [],
   "source": [
    "fig = cb.blast.sankey(\n",
    "    plasschaert.obs[\"cell_ontology_class\"], plasschaert.obs[\"scmap_pred\"],\n",
    "    title=\"scmap prediction: Plasschaert → Montoro_10x without ionocyte\",\n",
    "    width=660, height=600, tint_cutoff=5, font_size=11\n",
    ")\n",
    "plotly.io.write_image(fig, \"./plasschaert_scmap_sankey_permissive.pdf\")"
   ]
  },
  {
   "cell_type": "code",
   "execution_count": null,
   "metadata": {
    "ExecuteTime": {
     "end_time": "2019-07-21T10:02:26.240632Z",
     "start_time": "2019-07-21T10:02:26.215580Z"
    }
   },
   "outputs": [],
   "source": [
    "plasschaert.obs[\"scmap_pred\"] = cb.data.read_hybrid_path(\"./plasschaert_scmap_pred.h5//prediction/0.5\")\n",
    "plasschaert.obs[\"Average scmap similarity\"] = scipy.stats.gmean(cb.data.read_hybrid_path(\n",
    "    \"./plasschaert_scmap_pred.h5//scmap_cell/nn/Montoro_10x_noi/similarities\"\n",
    "), axis=1)"
   ]
  },
  {
   "cell_type": "code",
   "execution_count": null,
   "metadata": {
    "ExecuteTime": {
     "end_time": "2019-07-21T10:02:26.948716Z",
     "start_time": "2019-07-21T10:02:26.430828Z"
    },
    "scrolled": false
   },
   "outputs": [],
   "source": [
    "fig = cb.blast.sankey(\n",
    "    plasschaert.obs[\"cell_ontology_class\"], plasschaert.obs[\"scmap_pred\"],\n",
    "    title=\"scmap prediction: Plasschaert → Montoro_10x without ionocyte\",\n",
    "    width=660, height=600, tint_cutoff=5, font_size=11\n",
    ")\n",
    "plotly.io.write_image(fig, \"./plasschaert_scmap_sankey.pdf\")"
   ]
  },
  {
   "cell_type": "code",
   "execution_count": null,
   "metadata": {
    "ExecuteTime": {
     "end_time": "2019-07-21T10:02:27.160152Z",
     "start_time": "2019-07-21T10:02:27.149753Z"
    }
   },
   "outputs": [],
   "source": [
    "mba = cb.metrics.mean_balanced_accuracy(\n",
    "    plasschaert.obs[\"cell_ontology_class\"],\n",
    "    plasschaert.obs[\"scmap_pred\"],\n",
    "    plasschaert2montoronoi_expectation\n",
    ")\n",
    "print(f\"MBA = {mba:.3f}\")"
   ]
  },
  {
   "cell_type": "code",
   "execution_count": null,
   "metadata": {
    "ExecuteTime": {
     "end_time": "2019-07-21T10:02:27.395521Z",
     "start_time": "2019-07-21T10:02:27.388237Z"
    }
   },
   "outputs": [],
   "source": [
    "ionocyte_mask = plasschaert.obs[\"cell_ontology_class\"] == \"ionocyte\"\n",
    "rejected_mask = plasschaert.obs[\"scmap_pred\"] == \"unassigned\"\n",
    "ionocyte_enrichment[\"scmap\"] = (\n",
    "    np.logical_and(\n",
    "        ionocyte_mask, rejected_mask\n",
    "    ).sum() / rejected_mask.sum()\n",
    ") / (\n",
    "    ionocyte_mask.sum() /\n",
    "    plasschaert.shape[0]\n",
    ")"
   ]
  },
  {
   "cell_type": "markdown",
   "metadata": {},
   "source": [
    "### Check rejections on each cell type"
   ]
  },
  {
   "cell_type": "markdown",
   "metadata": {},
   "source": [
    "#### Fraction"
   ]
  },
  {
   "cell_type": "code",
   "execution_count": null,
   "metadata": {},
   "outputs": [],
   "source": [
    "rejected_fractions = plasschaert.obs.query(\n",
    "    \"scmap_pred == 'unassigned' & cell_ontology_class != 'ionocyte'\"\n",
    ").groupby(\"cell_ontology_class\").apply(lambda x: x.shape[0])\n",
    "rejected_fractions /= rejected_fractions.sum()\n",
    "rejected_fractions"
   ]
  },
  {
   "cell_type": "code",
   "execution_count": null,
   "metadata": {},
   "outputs": [],
   "source": [
    "all_fractions = plasschaert.obs.query(\n",
    "    \"cell_ontology_class != 'ionocyte'\"\n",
    ").groupby(\"cell_ontology_class\").apply(lambda x: x.shape[0])\n",
    "all_fractions /= all_fractions.sum()\n",
    "all_fractions"
   ]
  },
  {
   "cell_type": "code",
   "execution_count": null,
   "metadata": {},
   "outputs": [],
   "source": [
    "fig, ax = plt.subplots(figsize=(5, 3))\n",
    "ax = sns.barplot(\n",
    "    x=\"fraction\", y=\"cell_ontology_class\", hue=\"type\",\n",
    "    data=pd.DataFrame({\n",
    "        \"overall\": all_fractions,\n",
    "        \"rejected\": rejected_fractions\n",
    "    }).reset_index().melt(\n",
    "        id_vars=[\"cell_ontology_class\"],\n",
    "        value_vars=[\"overall\", \"rejected\"],\n",
    "        var_name=\"type\", value_name=\"fraction\"\n",
    "    ), ax=ax\n",
    ")\n",
    "_ = ax.set_xlabel(\"Fraction\")\n",
    "_ = ax.set_ylabel(\"Cell ontology class\")\n",
    "_ = ax.legend(\n",
    "    bbox_to_anchor=(1.05, 0.5), loc=\"center left\",\n",
    "    borderaxespad=0.0, frameon=False\n",
    ")\n",
    "ax.spines[\"right\"].set_visible(False)\n",
    "ax.spines[\"top\"].set_visible(False)"
   ]
  },
  {
   "cell_type": "markdown",
   "metadata": {},
   "source": [
    "#### Dimension reduction"
   ]
  },
  {
   "cell_type": "code",
   "execution_count": null,
   "metadata": {},
   "outputs": [],
   "source": [
    "CTs_use = CTs_noi[np.in1d(CTs_noi, plasschaert.obs[\"cell_ontology_class\"])]\n",
    "CTs_use"
   ]
  },
  {
   "cell_type": "code",
   "execution_count": null,
   "metadata": {},
   "outputs": [],
   "source": [
    "fig, axes = plt.subplots(\n",
    "    nrows=len(CTs_use), ncols=2, figsize=(4 * 2, 4 * len(CTs_use)),\n",
    "    gridspec_kw=dict(wspace=0.4, hspace=0.4)\n",
    ")\n",
    "for ct, (ax_density, ax_latent) in zip(CTs_use, axes):\n",
    "    plasschaert_subset = plasschaert[\n",
    "        plasschaert.obs.query(\n",
    "            \"cell_ontology_class == '%s'\" % ct\n",
    "        ).index,\n",
    "        np.intersect1d(montoro_10x_noi.uns[\"seurat_genes\"], plasschaert.var_names)  # same set of genes used for BLAST\n",
    "        # plasschaert.uns[\"seurat_genes\"]  # seurat selected genes on the query dataset\n",
    "        # functools.reduce(list.__add__, [val for key, val in known_markers.items() if key in CTs])  # known markers\n",
    "        # known_markers_noi[ct]  # markers for this particular cell type\n",
    "    ]\n",
    "\n",
    "    mat = plasschaert_subset.normalize().exprs.log1p().toarray()\n",
    "    pca = sklearn.decomposition.PCA(n_components=2).fit(mat)\n",
    "    plasschaert_subset.latent = pca.transform(mat)\n",
    "    \n",
    "    plasschaert_subset.obs[\"Density\"] = scipy.stats.gaussian_kde(\n",
    "        plasschaert_subset.latent.T\n",
    "    ).evaluate(plasschaert_subset.latent.T)\n",
    "    \n",
    "    hue_order = CTs_use[np.in1d(CTs_use, plasschaert_subset.obs[\"scmap_pred\"])].tolist()\n",
    "    for item in (\"unassigned\", ):\n",
    "        if np.in1d(item, plasschaert_subset.obs[\"scmap_pred\"]):\n",
    "            hue_order.append(item)\n",
    "    plasschaert_subset.obs = plasschaert_subset.obs.rename({\"scmap_pred\": \"Prediction\"}, axis=1)\n",
    "    \n",
    "    ax_density = sns.boxplot(\n",
    "        x=\"Density\", y=\"Prediction\",\n",
    "        data=plasschaert_subset.obs,\n",
    "        fliersize=2, palette=palette, order=hue_order,\n",
    "        ax=ax_density\n",
    "    )\n",
    "    ax_density.spines[\"right\"].set_visible(False)\n",
    "    ax_density.spines[\"top\"].set_visible(False)\n",
    "    ax_latent = plasschaert_subset.visualize_latent(\n",
    "        \"Prediction\", method=None, size=9,\n",
    "        scatter_kws=dict(palette=palette, hue_order=hue_order),\n",
    "        ax=ax_latent\n",
    "    )\n",
    "    _ = ax_latent.set_xlabel(\"PC1 (%.2f%%)\" % (pca.explained_variance_ratio_[0] * 100))\n",
    "    _ = ax_latent.set_ylabel(\"PC2 (%.2f%%)\" % (pca.explained_variance_ratio_[1] * 100))\n",
    "\n",
    "fig.savefig(\"plasschaert_scmap_ctvis.pdf\", bbox_inches=\"tight\")"
   ]
  },
  {
   "cell_type": "markdown",
   "metadata": {},
   "source": [
    "### Clustering rejected cells"
   ]
  },
  {
   "cell_type": "code",
   "execution_count": null,
   "metadata": {
    "ExecuteTime": {
     "end_time": "2019-07-21T10:02:52.039316Z",
     "start_time": "2019-07-21T10:02:49.957338Z"
    }
   },
   "outputs": [],
   "source": [
    "plasschaert_unassigned = plasschaert.normalize()[\n",
    "    plasschaert.obs.query(\"scmap_pred == 'unassigned'\").index,\n",
    "    plasschaert.uns[\"scmap_genes\"]\n",
    "]\n",
    "plasschaert_unassigned.obs = plasschaert_unassigned.obs.rename({\n",
    "    \"cell_ontology_class\": \"Cell ontology class\"\n",
    "}, axis=1)"
   ]
  },
  {
   "cell_type": "code",
   "execution_count": null,
   "metadata": {
    "ExecuteTime": {
     "end_time": "2019-07-21T10:03:00.595182Z",
     "start_time": "2019-07-21T10:02:52.289104Z"
    }
   },
   "outputs": [],
   "source": [
    "plasschaert_unassigned_tsne = sklearn.manifold.TSNE(\n",
    "    perplexity=15, metric=\"correlation\", random_state=0\n",
    ").fit_transform(plasschaert_unassigned.exprs.log1p().toarray())\n",
    "plasschaert_unassigned.obs[\"tSNE1\"] = plasschaert_unassigned_tsne[:, 0]\n",
    "plasschaert_unassigned.obs[\"tSNE2\"] = plasschaert_unassigned_tsne[:, 1]"
   ]
  },
  {
   "cell_type": "code",
   "execution_count": null,
   "metadata": {
    "ExecuteTime": {
     "end_time": "2019-07-21T10:04:09.879790Z",
     "start_time": "2019-07-21T10:04:09.149108Z"
    }
   },
   "outputs": [],
   "source": [
    "ax = plasschaert_unassigned.visualize_latent(\n",
    "    \"Cell ontology class\", method=\"tSNE\",\n",
    "    size=10, width=4, height=4,\n",
    "    scatter_kws=dict(\n",
    "        rasterized=True, palette=palette,\n",
    "        hue_order=CTs[np.in1d(CTs, plasschaert_unassigned.obs[\"Cell ontology class\"])]\n",
    "    ), random_seed=0\n",
    ")\n",
    "ax.get_figure().savefig(\"./plasschaert_scmap_unassigned_cl_tsne.pdf\", dpi=300, bbox_inches=\"tight\")"
   ]
  },
  {
   "cell_type": "code",
   "execution_count": null,
   "metadata": {
    "ExecuteTime": {
     "end_time": "2019-07-21T10:04:33.529032Z",
     "start_time": "2019-07-21T10:04:10.170251Z"
    }
   },
   "outputs": [],
   "source": [
    "snn_graph = snn(\n",
    "    plasschaert_unassigned.exprs.log1p().toarray(),\n",
    "    n_neighbors=5, metric=\"cosine\"\n",
    ")"
   ]
  },
  {
   "cell_type": "code",
   "execution_count": null,
   "metadata": {
    "ExecuteTime": {
     "end_time": "2019-07-21T10:04:35.391357Z",
     "start_time": "2019-07-21T10:04:33.830384Z"
    }
   },
   "outputs": [],
   "source": [
    "plasschaert_unassigned.obs[\"Cluster\"] = louvain(snn_graph, resolution=2.0, random_state=0)\n",
    "cluster_map = collections.OrderedDict([\n",
    "    (i, \"cluster %d\" % i) for i in\n",
    "    sorted(np.unique(plasschaert_unassigned.obs[\"Cluster\"]))\n",
    "])\n",
    "plasschaert_unassigned.obs[\"Cluster\"] = plasschaert_unassigned.obs[\"Cluster\"].map(cluster_map)"
   ]
  },
  {
   "cell_type": "code",
   "execution_count": null,
   "metadata": {},
   "outputs": [],
   "source": [
    "cluster_approx = collections.OrderedDict([\n",
    "    (0, 9),\n",
    "    (1, 0),\n",
    "    (2, 5),\n",
    "    (3, 3),\n",
    "    (4, 8)\n",
    "])\n",
    "\n",
    "cluster_palette = collections.OrderedDict([\n",
    "    (\"cluster %d\" % i, sns.color_palette(\"tab20\")[2 * j])\n",
    "    for i, j in cluster_approx.items()\n",
    "])\n",
    "cluster_palette_muted = collections.OrderedDict([\n",
    "    (\"cluster %d\" % i, sns.color_palette(\"tab20\")[2 * j + 1])\n",
    "    for i, j in cluster_approx.items()\n",
    "])"
   ]
  },
  {
   "cell_type": "code",
   "execution_count": null,
   "metadata": {
    "ExecuteTime": {
     "end_time": "2019-07-21T10:04:40.522069Z",
     "start_time": "2019-07-21T10:04:39.984532Z"
    }
   },
   "outputs": [],
   "source": [
    "ax = plasschaert_unassigned.visualize_latent(\n",
    "    hue=\"Cluster\", method=\"tSNE\",\n",
    "    size=10, width=4, height=4,\n",
    "    scatter_kws=dict(\n",
    "        rasterized=True, palette=cluster_palette,\n",
    "        hue_order=cluster_map.values()\n",
    "    )\n",
    ")\n",
    "ax.get_figure().savefig(\"./plasschaert_scmap_unassigned_cluster_tsne.pdf\", dpi=300, bbox_inches=\"tight\")"
   ]
  },
  {
   "cell_type": "code",
   "execution_count": null,
   "metadata": {
    "ExecuteTime": {
     "end_time": "2019-07-21T10:04:41.391229Z",
     "start_time": "2019-07-21T10:04:40.788858Z"
    }
   },
   "outputs": [],
   "source": [
    "ax = plasschaert_unassigned.visualize_latent(\n",
    "    \"Average scmap similarity\", method=\"tSNE\", sort=True,\n",
    "    size=10, width=4, height=4,\n",
    "    scatter_kws=dict(rasterized=True)\n",
    ")\n",
    "ax.get_figure().savefig(\"./plasschaert_scmap_unassigned_sim_tsne.pdf\", dpi=300, bbox_inches=\"tight\")"
   ]
  },
  {
   "cell_type": "code",
   "execution_count": null,
   "metadata": {
    "ExecuteTime": {
     "end_time": "2019-07-21T10:04:47.044444Z",
     "start_time": "2019-07-21T10:04:45.952329Z"
    }
   },
   "outputs": [],
   "source": [
    "fig, ax = plt.subplots(figsize=(4, 4))\n",
    "ax2 = ax.twinx()\n",
    "legend_handles = []\n",
    "for i in cluster_map.values():\n",
    "    ax = sns.distplot(plasschaert_unassigned.obs.loc[\n",
    "        plasschaert_unassigned.obs[\"Cluster\"] == i, \"Average scmap similarity\"\n",
    "    ], color=cluster_palette[i], kde=False, hist_kws=dict(density=True), ax=ax)\n",
    "    ax2 = sns.distplot(plasschaert_unassigned.obs.loc[\n",
    "        plasschaert_unassigned.obs[\"Cluster\"] == i, \"Average scmap similarity\"\n",
    "    ], color=cluster_palette[i], hist=False, kde_kws=dict(cumulative=True), ax=ax2)\n",
    "    legend_handles.append(mpatches.Patch(color=cluster_palette[i], label=i))\n",
    "_ = plt.legend(handles=legend_handles, frameon=False, bbox_to_anchor=(1.17, 0.5), loc=\"center left\", title=\"Cluster\")\n",
    "_ = ax.set(xlabel=\"Average scmap similarity\", ylabel=\"Density\")\n",
    "_ = ax2.set(ylabel=\"Cumulative probability\")\n",
    "fig.savefig(\"./plasschaert_scmap_unassigned_sim_distribution.pdf\", bbox_inches=\"tight\")"
   ]
  },
  {
   "cell_type": "markdown",
   "metadata": {},
   "source": [
    "### Check other rejected clusters"
   ]
  },
  {
   "cell_type": "markdown",
   "metadata": {},
   "source": [
    "#### One-vs-rest differential expression"
   ]
  },
  {
   "cell_type": "code",
   "execution_count": null,
   "metadata": {
    "ExecuteTime": {
     "end_time": "2019-07-21T10:04:57.360946Z",
     "start_time": "2019-07-21T10:04:57.103672Z"
    }
   },
   "outputs": [],
   "source": [
    "plasschaert_use = plasschaert.copy(deep=True)\n",
    "plasschaert_use.obs.loc[\n",
    "    plasschaert_unassigned.obs.index, \"scmap_pred\"\n",
    "] = plasschaert_unassigned.obs[\"Cluster\"].values"
   ]
  },
  {
   "cell_type": "code",
   "execution_count": null,
   "metadata": {
    "ExecuteTime": {
     "end_time": "2019-07-21T10:07:16.424092Z",
     "start_time": "2019-07-21T10:04:57.718293Z"
    }
   },
   "outputs": [],
   "source": [
    "plasschaert_scmap_pred_markers = plasschaert_use.fast_markers(\"scmap_pred\")\n",
    "plasschaert_scmap_pred_markers = collections.OrderedDict(sorted(\n",
    "    plasschaert_scmap_pred_markers.items(),\n",
    "    key=lambda x: \"z\" + x[0] if x[0].startswith(\"cluster\") else x[0]\n",
    "))  # Prepend a z so that rejected clusters sort to last"
   ]
  },
  {
   "cell_type": "code",
   "execution_count": null,
   "metadata": {
    "ExecuteTime": {
     "end_time": "2019-07-21T10:07:18.793577Z",
     "start_time": "2019-07-21T10:07:16.849233Z"
    }
   },
   "outputs": [],
   "source": [
    "if not os.path.exists(\"plasschaert_scmap_pred_markers\"):\n",
    "    os.mkdir(\"plasschaert_scmap_pred_markers\")\n",
    "for item in plasschaert_scmap_pred_markers:\n",
    "    plasschaert_scmap_pred_markers[item].to_csv(\n",
    "        \"plasschaert_scmap_pred_markers/{item}.csv\".format(item=item))"
   ]
  },
  {
   "cell_type": "code",
   "execution_count": null,
   "metadata": {
    "ExecuteTime": {
     "end_time": "2019-07-21T10:07:19.190314Z",
     "start_time": "2019-07-21T10:07:19.143247Z"
    }
   },
   "outputs": [],
   "source": [
    "plasschaert_scmap_reject_markers = {\n",
    "    key: val.query(\"padj < 0.05 & logfc > 0\").index.values.tolist()\n",
    "    for key, val in plasschaert_scmap_pred_markers.items()\n",
    "    if key.startswith(\"cluster\")\n",
    "}"
   ]
  },
  {
   "cell_type": "code",
   "execution_count": null,
   "metadata": {
    "ExecuteTime": {
     "end_time": "2019-07-21T10:07:19.555178Z",
     "start_time": "2019-07-21T10:07:19.550940Z"
    }
   },
   "outputs": [],
   "source": [
    "plasschaert_scmap_reject_markers_head = {\n",
    "    key: val[0:min(10, len(val))]\n",
    "    for key, val in plasschaert_scmap_reject_markers.items()\n",
    "}"
   ]
  },
  {
   "cell_type": "markdown",
   "metadata": {},
   "source": [
    "#### Heatmap"
   ]
  },
  {
   "cell_type": "code",
   "execution_count": null,
   "metadata": {
    "ExecuteTime": {
     "end_time": "2019-07-21T10:07:27.040547Z",
     "start_time": "2019-07-21T10:07:27.036751Z"
    }
   },
   "outputs": [],
   "source": [
    "combined_markers = collections.OrderedDict(\n",
    "    list(filter(lambda x: np.in1d(x[0], plasschaert_use.obs[\"scmap_pred\"]), known_markers_noi.items())) +\n",
    "    list(plasschaert_scmap_reject_markers_head.items())\n",
    ")"
   ]
  },
  {
   "cell_type": "code",
   "execution_count": null,
   "metadata": {
    "ExecuteTime": {
     "end_time": "2019-07-21T10:07:27.555843Z",
     "start_time": "2019-07-21T10:07:27.551538Z"
    }
   },
   "outputs": [],
   "source": [
    "combined_markers.keys()"
   ]
  },
  {
   "cell_type": "code",
   "execution_count": null,
   "metadata": {
    "ExecuteTime": {
     "end_time": "2019-07-21T10:07:28.123952Z",
     "start_time": "2019-07-21T10:07:28.084982Z"
    }
   },
   "outputs": [],
   "source": [
    "plasschaert_use.var[\"\"] = np.nan\n",
    "for ct in list(combined_markers.keys())[::-1]:  # rejected first, so that they are overwritten by known markers\n",
    "    plasschaert_use.var.loc[combined_markers[ct], \"\"] = ct\n",
    "marker_df = plasschaert_use.var.dropna()\n",
    "del plasschaert_use.var[\"\"]  # Prevent interference with next heatmap\n",
    "marker_df[\"\"] = pd.Categorical(marker_df[\"\"], categories=combined_markers.keys())\n",
    "marker_df = marker_df.sort_values(\"\")"
   ]
  },
  {
   "cell_type": "code",
   "execution_count": null,
   "metadata": {
    "ExecuteTime": {
     "end_time": "2019-07-21T10:07:28.760565Z",
     "start_time": "2019-07-21T10:07:28.749561Z"
    }
   },
   "outputs": [],
   "source": [
    "cell_df = plasschaert_use.obs.loc[:, [\"scmap_pred\"]]\n",
    "cell_df[\"scmap_pred\"] = pd.Categorical(cell_df[\"scmap_pred\"], categories=combined_markers.keys())"
   ]
  },
  {
   "cell_type": "code",
   "execution_count": null,
   "metadata": {
    "ExecuteTime": {
     "end_time": "2019-07-21T10:07:29.389150Z",
     "start_time": "2019-07-21T10:07:29.364643Z"
    }
   },
   "outputs": [],
   "source": [
    "random_state = np.random.RandomState(0)\n",
    "subset_idx = np.concatenate([\n",
    "    random_state.choice(\n",
    "        np.where(cell_df[\"scmap_pred\"] == item)[0],\n",
    "        size=min(np.sum(cell_df[\"scmap_pred\"] == item), 30),\n",
    "        replace=False\n",
    "    ) for item in np.unique(cell_df[\"scmap_pred\"])\n",
    "])\n",
    "cell_df = cell_df.iloc[subset_idx, :]\n",
    "cell_df = cell_df.sort_values(\"scmap_pred\")\n",
    "cell_df.columns = [\"Cells\"]"
   ]
  },
  {
   "cell_type": "code",
   "execution_count": null,
   "metadata": {
    "ExecuteTime": {
     "end_time": "2019-07-21T10:07:31.944414Z",
     "start_time": "2019-07-21T10:07:30.281151Z"
    }
   },
   "outputs": [],
   "source": [
    "mat = pd.DataFrame(\n",
    "    plasschaert_use.normalize()[cell_df.index, marker_df.index].exprs.log1p().toarray(),\n",
    "    index=cell_df.index, columns=marker_df.index\n",
    ")\n",
    "mask = mat.sum(axis=0) > 0\n",
    "mat = mat.loc[:, mask]\n",
    "marker_df = marker_df.loc[mask, :]"
   ]
  },
  {
   "cell_type": "code",
   "execution_count": null,
   "metadata": {
    "ExecuteTime": {
     "end_time": "2019-07-21T10:07:32.281856Z",
     "start_time": "2019-07-21T10:07:32.274791Z"
    }
   },
   "outputs": [],
   "source": [
    "color_lut = collections.OrderedDict(list(palette.items()) + list(cluster_palette_muted.items()))\n",
    "ct_legend_patch = [\n",
    "    mpatches.Patch(color=color_lut[k], label=k)\n",
    "    for k in combined_markers.keys() if not k.startswith(\"cluster\")\n",
    "]\n",
    "cluster_legend_patch = [\n",
    "    mpatches.Patch(color=color_lut[k], label=k)\n",
    "    for k in combined_markers.keys() if k.startswith(\"cluster\")\n",
    "]"
   ]
  },
  {
   "cell_type": "code",
   "execution_count": null,
   "metadata": {
    "ExecuteTime": {
     "end_time": "2019-07-21T10:07:33.395970Z",
     "start_time": "2019-07-21T10:07:33.385669Z"
    }
   },
   "outputs": [],
   "source": [
    "for column in cell_df.columns:\n",
    "    cell_df[column] = cell_df[column].map(color_lut)\n",
    "for column in marker_df.columns:\n",
    "    marker_df[column] = marker_df[column].map(color_lut)"
   ]
  },
  {
   "cell_type": "code",
   "execution_count": null,
   "metadata": {
    "ExecuteTime": {
     "end_time": "2019-07-21T10:07:40.960848Z",
     "start_time": "2019-07-21T10:07:34.002942Z"
    }
   },
   "outputs": [],
   "source": [
    "g = sns.clustermap(\n",
    "    mat.T, standard_scale=0,\n",
    "    row_cluster=False, col_cluster=True,\n",
    "    col_linkage=scipy.cluster.hierarchy.linkage(mat, method=\"average\"),\n",
    "    row_colors=marker_df, col_colors=cell_df,\n",
    "    cbar_kws=dict(label=\"Standardized expression\"),\n",
    "    xticklabels=False, vmax=0.9, rasterized=True,\n",
    "    figsize=(20, 20)\n",
    ")\n",
    "g.ax_col_dendrogram.set_xlim([0, 0])  # hide dendrogram\n",
    "l1 = g.ax_col_dendrogram.legend(\n",
    "    loc=\"upper left\", bbox_to_anchor=(0.0, 1.0), ncol=2, fontsize=\"x-large\", title_fontsize=\"x-large\",\n",
    "    handles=ct_legend_patch, frameon=False, title=\"Cell ontology predictions of matched cells\"\n",
    ")\n",
    "l2 = g.ax_col_dendrogram.legend(\n",
    "    loc=\"upper left\", bbox_to_anchor=(0.7, 1.0), ncol=2, fontsize=\"x-large\", title_fontsize=\"x-large\",\n",
    "    handles=cluster_legend_patch, frameon=False, title=\"Clustering of rejected cells\"\n",
    ")\n",
    "g.ax_col_dendrogram.add_artist(l1)\n",
    "g.fig.savefig(\"plasschaert_scmap_pred_expr_heatmap.pdf\", dpi=300, bbox_inches=\"tight\")"
   ]
  },
  {
   "cell_type": "markdown",
   "metadata": {},
   "source": [
    "#### Pairwise differential expression"
   ]
  },
  {
   "cell_type": "code",
   "execution_count": null,
   "metadata": {},
   "outputs": [],
   "source": [
    "plasschaert_pairwise = plasschaert_use[plasschaert_use.obs.query(\n",
    "    \"scmap_pred == 'lung neuroendocrine cell' | scmap_pred == 'cluster 2'\"\n",
    ").index, :]\n",
    "np.unique(plasschaert_pairwise.obs[\"scmap_pred\"], return_counts=True)"
   ]
  },
  {
   "cell_type": "code",
   "execution_count": null,
   "metadata": {},
   "outputs": [],
   "source": [
    "pairwise_markers = plasschaert_pairwise.fast_markers(\"scmap_pred\")"
   ]
  },
  {
   "cell_type": "code",
   "execution_count": null,
   "metadata": {},
   "outputs": [],
   "source": [
    "tmp = pairwise_markers[\"cluster 2\"].query(\"padj < 0.05 & logfc > 0\").index\n",
    "np.savetxt(\"sighigh.txt\", tmp, fmt=\"%s\")\n",
    "tmp = pairwise_markers[\"cluster 2\"].query(\"padj < 0.05 & logfc < 0\").index\n",
    "np.savetxt(\"siglow.txt\", tmp, fmt=\"%s\")\n",
    "tmp = plasschaert_pairwise.var_names[np.array(plasschaert_pairwise.exprs.sum(axis=0)).ravel() > 0]\n",
    "np.savetxt(\"sigbg.txt\", tmp, fmt=\"%s\")"
   ]
  },
  {
   "cell_type": "markdown",
   "metadata": {},
   "source": [
    "Proceed on metascape..."
   ]
  },
  {
   "cell_type": "markdown",
   "metadata": {},
   "source": [
    "## CellFishing.jl"
   ]
  },
  {
   "cell_type": "markdown",
   "metadata": {},
   "source": [
    "### Querying"
   ]
  },
  {
   "cell_type": "code",
   "execution_count": null,
   "metadata": {
    "ExecuteTime": {
     "end_time": "2019-07-21T10:09:03.801312Z",
     "start_time": "2019-07-21T10:08:29.030976Z"
    }
   },
   "outputs": [],
   "source": [
    "p = subprocess.Popen([\n",
    "    \"julia\", \"run_CellFishing.jl.jl\",\n",
    "    \"--annotation=cell_ontology_class\",\n",
    "    \"--gene=cf_genes\", \"--seed=0\", \"--cutoff=120\",\n",
    "    \"../Notebooks/Case/Trachea/montoro_10x_noi.h5\",\n",
    "    \"../Notebooks/Case/Trachea/plasschaert.h5\",\n",
    "    \"../Notebooks/Case/Trachea/plasschaert_cf_pred.h5\"\n",
    "], cwd=\"../../../Evaluation\", stdout=subprocess.PIPE, stderr=subprocess.PIPE)\n",
    "(output, err) = p.communicate()\n",
    "exit_code = p.wait()\n",
    "print(output.decode())\n",
    "print(err.decode())"
   ]
  },
  {
   "cell_type": "code",
   "execution_count": null,
   "metadata": {
    "ExecuteTime": {
     "end_time": "2019-07-21T10:09:04.267661Z",
     "start_time": "2019-07-21T10:09:04.252651Z"
    }
   },
   "outputs": [],
   "source": [
    "plasschaert.obs[\"cf_pred\"] = cb.data.read_hybrid_path(\"plasschaert_cf_pred.h5//prediction/120\")"
   ]
  },
  {
   "cell_type": "code",
   "execution_count": null,
   "metadata": {
    "ExecuteTime": {
     "end_time": "2019-07-21T10:09:05.286129Z",
     "start_time": "2019-07-21T10:09:04.750561Z"
    }
   },
   "outputs": [],
   "source": [
    "fig = cb.blast.sankey(\n",
    "    plasschaert.obs[\"cell_ontology_class\"], plasschaert.obs[\"cf_pred\"],\n",
    "    title=\"CellFishing.jl prediction: Plasschaert → Montoro_10x without ionocyte\",\n",
    "    width=660, height=600, tint_cutoff=5, font_size=11\n",
    ")\n",
    "plotly.io.write_image(fig, \"./plasschaert_cf_sankey.pdf\")"
   ]
  },
  {
   "cell_type": "code",
   "execution_count": null,
   "metadata": {
    "ExecuteTime": {
     "end_time": "2019-07-21T10:09:05.703135Z",
     "start_time": "2019-07-21T10:09:05.695390Z"
    }
   },
   "outputs": [],
   "source": [
    "mba = cb.metrics.mean_balanced_accuracy(\n",
    "    plasschaert.obs[\"cell_ontology_class\"],\n",
    "    plasschaert.obs[\"cf_pred\"],\n",
    "    plasschaert2montoronoi_expectation\n",
    ")\n",
    "print(f\"MBA = {mba:.3f}\")"
   ]
  },
  {
   "cell_type": "code",
   "execution_count": null,
   "metadata": {
    "ExecuteTime": {
     "end_time": "2019-07-21T10:09:06.078877Z",
     "start_time": "2019-07-21T10:09:06.072006Z"
    }
   },
   "outputs": [],
   "source": [
    "ionocyte_mask = plasschaert.obs[\"cell_ontology_class\"] == \"ionocyte\"\n",
    "rejected_mask = plasschaert.obs[\"cf_pred\"] == \"rejected\"\n",
    "ionocyte_enrichment[\"cf\"] = (\n",
    "    np.logical_and(\n",
    "        ionocyte_mask, rejected_mask\n",
    "    ).sum() / rejected_mask.sum()\n",
    ") / (\n",
    "    ionocyte_mask.sum() /\n",
    "    plasschaert.shape[0]\n",
    ")"
   ]
  },
  {
   "cell_type": "markdown",
   "metadata": {},
   "source": [
    "Too many false negative rejections."
   ]
  },
  {
   "cell_type": "markdown",
   "metadata": {},
   "source": [
    "## Ionocyte enrichment score"
   ]
  },
  {
   "cell_type": "code",
   "execution_count": null,
   "metadata": {
    "ExecuteTime": {
     "end_time": "2019-07-21T10:18:15.063781Z",
     "start_time": "2019-07-21T10:18:15.049433Z"
    }
   },
   "outputs": [],
   "source": [
    "df = pd.DataFrame(ionocyte_enrichment, index=[\"Ionocyte enrichment ratio\"]).T\n",
    "method_mapping = collections.OrderedDict(\n",
    "    scmap=\"scmap\",\n",
    "    cf=\"CellFishing.jl\",\n",
    "    cb=\"Cell BLAST\"\n",
    ")\n",
    "df[\"Method\"] = [method_mapping[item] for item in df.index]\n",
    "df = df.sort_values(\"Ionocyte enrichment ratio\")"
   ]
  },
  {
   "cell_type": "code",
   "execution_count": null,
   "metadata": {
    "ExecuteTime": {
     "end_time": "2019-07-21T10:26:16.098290Z",
     "start_time": "2019-07-21T10:26:15.808250Z"
    }
   },
   "outputs": [],
   "source": [
    "fig, ax = plt.subplots(figsize=(3.5, 3.5))\n",
    "ax = sns.barplot(x = \"Ionocyte enrichment ratio\", y = \"Method\", data=df, palette=method_palette, ax=ax)\n",
    "ax.spines[\"right\"].set_visible(False)\n",
    "ax.spines[\"top\"].set_visible(False)\n",
    "for patch in ax.patches :\n",
    "    current_height = patch.get_height()\n",
    "    diff = current_height - 0.7\n",
    "    patch.set_height(0.7)\n",
    "    patch.set_y(patch.get_y() + diff * .5)\n",
    "fig.savefig(\"plasschaert_ionocyte_enrichment.pdf\", bbox_inches=\"tight\")"
   ]
  },
  {
   "cell_type": "markdown",
   "metadata": {},
   "source": [
    "## Examine problematic ionocytes"
   ]
  },
  {
   "cell_type": "markdown",
   "metadata": {},
   "source": [
    "We are going to focus on Cell BLAST and scmap's prediction with regard to cells originally labeled as ionocytes."
   ]
  },
  {
   "cell_type": "code",
   "execution_count": null,
   "metadata": {
    "ExecuteTime": {
     "end_time": "2019-07-21T10:26:27.743346Z",
     "start_time": "2019-07-21T10:26:25.647850Z"
    }
   },
   "outputs": [],
   "source": [
    "plasschaert_ionocyte = plasschaert[plasschaert.obs.query(\"cell_ontology_class == 'ionocyte'\").index, :]\n",
    "del plasschaert_ionocyte.obs[\"cell_ontology_class\"]"
   ]
  },
  {
   "cell_type": "code",
   "execution_count": null,
   "metadata": {
    "ExecuteTime": {
     "end_time": "2019-07-21T10:26:28.188366Z",
     "start_time": "2019-07-21T10:26:28.170666Z"
    }
   },
   "outputs": [],
   "source": [
    "plasschaert_ionocyte.obs.loc[:, [\"cb_pred\", \"scmap_pred\"]]"
   ]
  },
  {
   "cell_type": "code",
   "execution_count": null,
   "metadata": {},
   "outputs": [],
   "source": [
    "CTs_use = CTs_noi[\n",
    "    np.in1d(CTs_noi, plasschaert_ionocyte.obs.loc[:, [\"cb_pred\", \"scmap_pred\"]].values)\n",
    "].tolist() + [\"ionocyte\"]\n",
    "CTs_use"
   ]
  },
  {
   "cell_type": "code",
   "execution_count": null,
   "metadata": {
    "ExecuteTime": {
     "end_time": "2019-07-21T10:26:30.358484Z",
     "start_time": "2019-07-21T10:26:29.034768Z"
    }
   },
   "outputs": [],
   "source": [
    "montoro_10x = cb.data.ExprDataSet.read_dataset(\"../../../Datasets/data/Montoro_10x/data.h5\")"
   ]
  },
  {
   "cell_type": "code",
   "execution_count": null,
   "metadata": {
    "ExecuteTime": {
     "end_time": "2019-07-21T10:27:34.829308Z",
     "start_time": "2019-07-21T10:26:30.726384Z"
    }
   },
   "outputs": [],
   "source": [
    "random_state = np.random.RandomState(0)\n",
    "\n",
    "# Just to line-up with the query dataset slots\n",
    "montoro_10x.obs[\"cb_pred\"] = montoro_10x.obs[\"cell_ontology_class\"]\n",
    "montoro_10x.obs[\"scmap_pred\"] = montoro_10x.obs[\"cell_ontology_class\"]\n",
    "\n",
    "subset_idx = np.concatenate([\n",
    "    random_state.choice(\n",
    "        np.where(montoro_10x.obs[\"cell_ontology_class\"] == ct)[0],\n",
    "        size=min(20, np.sum(montoro_10x.obs[\"cell_ontology_class\"] == ct)),\n",
    "        replace=False\n",
    "    ) for ct in CTs_use\n",
    "])\n",
    "combined_dataset = cb.data.ExprDataSet.merge_datasets({\n",
    "    \"reference cells (in Montoro_10x)\": montoro_10x[subset_idx, :],\n",
    "    \"query ionocytes (in Plasschaert)\": plasschaert_ionocyte\n",
    "}, meta_col=\"Dataset\")\n",
    "combined_dataset.obs = combined_dataset.obs.loc[\n",
    "    :, [\"Dataset\", \"cb_pred\", \"scmap_pred\"]\n",
    "].rename({\n",
    "    \"cb_pred\": \"Cell BLAST prediction\",\n",
    "    \"scmap_pred\": \"scmap prediction\"\n",
    "}, axis=1)"
   ]
  },
  {
   "cell_type": "markdown",
   "metadata": {},
   "source": [
    "### Expression of known markers"
   ]
  },
  {
   "cell_type": "code",
   "execution_count": null,
   "metadata": {
    "ExecuteTime": {
     "end_time": "2019-07-21T10:27:39.497187Z",
     "start_time": "2019-07-21T10:27:39.493847Z"
    }
   },
   "outputs": [],
   "source": [
    "ct_uniq = CTs_use + [\"rejected\"]\n",
    "role_uniq = [\"reference cells (in Montoro_10x)\", \"query ionocytes (in Plasschaert)\"]"
   ]
  },
  {
   "cell_type": "markdown",
   "metadata": {},
   "source": [
    "#### Heatmap"
   ]
  },
  {
   "cell_type": "code",
   "execution_count": null,
   "metadata": {
    "ExecuteTime": {
     "end_time": "2019-07-21T10:27:40.392495Z",
     "start_time": "2019-07-21T10:27:40.376641Z"
    }
   },
   "outputs": [],
   "source": [
    "combined_dataset.obs.replace(\"unassigned\", \"rejected\", inplace=True)\n",
    "for column in combined_dataset.obs.columns:\n",
    "    categories = role_uniq if column == \"Dataset\" else ct_uniq\n",
    "    combined_dataset.obs[column] = pd.Categorical(\n",
    "        combined_dataset.obs[column],\n",
    "        categories=categories\n",
    "    )\n",
    "cell_df = combined_dataset.obs.sort_values(combined_dataset.obs.columns.values.tolist())"
   ]
  },
  {
   "cell_type": "code",
   "execution_count": null,
   "metadata": {
    "ExecuteTime": {
     "end_time": "2019-07-21T10:27:41.050554Z",
     "start_time": "2019-07-21T10:27:41.023038Z"
    }
   },
   "outputs": [],
   "source": [
    "combined_dataset.var[\"\"] = np.nan\n",
    "for ct in CTs_use:\n",
    "    combined_dataset.var.loc[known_markers[ct], \"\"] = ct\n",
    "marker_df = combined_dataset.var.dropna().loc[\n",
    "    functools.reduce(list.__add__, [val for key, val in known_markers.items() if key in CTs_use]), :\n",
    "]"
   ]
  },
  {
   "cell_type": "code",
   "execution_count": null,
   "metadata": {
    "ExecuteTime": {
     "end_time": "2019-07-21T10:27:41.963396Z",
     "start_time": "2019-07-21T10:27:41.680958Z"
    }
   },
   "outputs": [],
   "source": [
    "mat = pd.DataFrame(\n",
    "    combined_dataset.normalize()[cell_df.index, marker_df.index].exprs.log1p().toarray(),\n",
    "    index=cell_df.index, columns=marker_df.index\n",
    ")"
   ]
  },
  {
   "cell_type": "code",
   "execution_count": null,
   "metadata": {
    "ExecuteTime": {
     "end_time": "2019-07-21T10:27:42.499891Z",
     "start_time": "2019-07-21T10:27:42.490598Z"
    }
   },
   "outputs": [],
   "source": [
    "extended_palette = palette.copy()\n",
    "extended_palette[\"rejected\"] = (0.1, 0.1, 0.1)\n",
    "extended_palette[\"reference cells (in Montoro_10x)\"] = sns.color_palette()[9]\n",
    "extended_palette[\"query ionocytes (in Plasschaert)\"] = sns.color_palette()[8]\n",
    "\n",
    "ct_legend_patch = [mpatches.Patch(color=extended_palette[k], label=k) for k in ct_uniq]\n",
    "role_legend_patch = [mpatches.Patch(color=extended_palette[k], label=k) for k in role_uniq]"
   ]
  },
  {
   "cell_type": "code",
   "execution_count": null,
   "metadata": {
    "ExecuteTime": {
     "end_time": "2019-07-21T10:27:43.676650Z",
     "start_time": "2019-07-21T10:27:43.660191Z"
    }
   },
   "outputs": [],
   "source": [
    "for column in cell_df.columns:\n",
    "    cell_df[column] = cell_df[column].map(extended_palette)\n",
    "for column in marker_df.columns:\n",
    "    marker_df[column] = marker_df[column].map(extended_palette)"
   ]
  },
  {
   "cell_type": "code",
   "execution_count": null,
   "metadata": {
    "ExecuteTime": {
     "end_time": "2019-07-21T10:27:46.559443Z",
     "start_time": "2019-07-21T10:27:44.187032Z"
    }
   },
   "outputs": [],
   "source": [
    "g = sns.clustermap(\n",
    "    mat.T, standard_scale=0,\n",
    "    row_cluster=False, col_cluster=False,\n",
    "    row_colors=marker_df, col_colors=cell_df,\n",
    "    cbar_kws=dict(label=\"Standardized expression\"),\n",
    "    xticklabels=False, vmax=0.9, figsize=(14, 12.5), rasterized=True\n",
    ")\n",
    "l1 = g.ax_col_dendrogram.legend(\n",
    "    loc=\"upper left\", bbox_to_anchor=(0.0, 1.2), fontsize=\"large\", title_fontsize=\"large\",\n",
    "    handles=ct_legend_patch, frameon=False, title=\"Cell ontology\"\n",
    ")\n",
    "l2 = g.ax_col_dendrogram.legend(\n",
    "    loc=\"upper left\", bbox_to_anchor=(0.6, 1.2), fontsize=\"large\", title_fontsize=\"large\",\n",
    "    handles=role_legend_patch, frameon=False, title=\"Dataset\"\n",
    ")\n",
    "g.ax_col_dendrogram.add_artist(l1)\n",
    "g.fig.savefig(\"plasschaert_problematic_expr_heatmap.pdf\", dpi=300, bbox_inches=\"tight\")"
   ]
  },
  {
   "cell_type": "markdown",
   "metadata": {},
   "source": [
    "### Potential doublets"
   ]
  },
  {
   "cell_type": "code",
   "execution_count": null,
   "metadata": {
    "ExecuteTime": {
     "end_time": "2019-07-21T10:27:53.947872Z",
     "start_time": "2019-07-21T10:27:53.878359Z"
    }
   },
   "outputs": [],
   "source": [
    "plasschaert.obs[\"total_umi\"] = plasschaert.exprs.sum(axis=1)\n",
    "plasschaert.obs[\"detected_genes\"] = (plasschaert.exprs > 0).sum(axis=1)"
   ]
  },
  {
   "cell_type": "code",
   "execution_count": null,
   "metadata": {
    "ExecuteTime": {
     "end_time": "2019-07-21T10:27:54.550385Z",
     "start_time": "2019-07-21T10:27:54.537480Z"
    }
   },
   "outputs": [],
   "source": [
    "plasschaert.obs[\"potential doublets\"] = functools.reduce(np.logical_and, [\n",
    "    plasschaert.obs[\"cell_ontology_class\"] == \"ionocyte\",\n",
    "    plasschaert.obs[\"cb_pred\"] == \"club cell\",\n",
    "    plasschaert.obs[\"scmap_pred\"] == \"club cell\"\n",
    "])"
   ]
  },
  {
   "cell_type": "code",
   "execution_count": null,
   "metadata": {
    "ExecuteTime": {
     "end_time": "2019-07-21T10:27:55.113828Z",
     "start_time": "2019-07-21T10:27:55.106570Z"
    }
   },
   "outputs": [],
   "source": [
    "plasschaert.obs[\"potential doublets\"].sum()"
   ]
  },
  {
   "cell_type": "code",
   "execution_count": null,
   "metadata": {
    "ExecuteTime": {
     "end_time": "2019-07-21T10:28:10.224351Z",
     "start_time": "2019-07-21T10:28:09.510479Z"
    }
   },
   "outputs": [],
   "source": [
    "fig, ax = plt.subplots(figsize=(4, 4))\n",
    "ax = sns.distplot(plasschaert.obs.loc[plasschaert.obs[\"cell_ontology_class\"] == \"club cell\", \"total_umi\"])\n",
    "ax = sns.distplot(plasschaert.obs.loc[plasschaert.obs[\"cell_ontology_class\"] == \"ionocyte\", \"total_umi\"], ax=ax)\n",
    "ax = sns.distplot(plasschaert.obs.loc[plasschaert.obs[\"potential doublets\"], \"total_umi\"], ax=ax)\n",
    "_ = plt.legend(handles=[\n",
    "    mpatches.Patch(color=sns.color_palette()[0], label=\"club cell\"),\n",
    "    mpatches.Patch(color=sns.color_palette()[1], label=\"ionocyte\"),\n",
    "    mpatches.Patch(color=sns.color_palette()[2], label=\"potential doublets\")\n",
    "], frameon=False, bbox_to_anchor=(1.05, 0.5), loc=\"center left\", title=\"Cell groups\")\n",
    "_ = ax.set(xlabel=\"Total UMI count\", ylabel=\"Density\")\n",
    "ax.spines[\"right\"].set_visible(False)\n",
    "ax.spines[\"top\"].set_visible(False)\n",
    "fig.savefig(\"./plasschaert_potential_doublet_umi.pdf\", bbox_inches=\"tight\")"
   ]
  },
  {
   "cell_type": "code",
   "execution_count": null,
   "metadata": {
    "ExecuteTime": {
     "end_time": "2019-07-21T10:28:10.224351Z",
     "start_time": "2019-07-21T10:28:09.510479Z"
    }
   },
   "outputs": [],
   "source": [
    "fig, ax = plt.subplots(figsize=(4, 4))\n",
    "ax = sns.distplot(plasschaert.obs.loc[plasschaert.obs[\"cell_ontology_class\"] == \"club cell\", \"detected_genes\"])\n",
    "ax = sns.distplot(plasschaert.obs.loc[plasschaert.obs[\"cell_ontology_class\"] == \"ionocyte\", \"detected_genes\"], ax=ax)\n",
    "ax = sns.distplot(plasschaert.obs.loc[plasschaert.obs[\"potential doublets\"], \"detected_genes\"], ax=ax)\n",
    "_ = plt.legend(handles=[\n",
    "    mpatches.Patch(color=sns.color_palette()[0], label=\"club cell\"),\n",
    "    mpatches.Patch(color=sns.color_palette()[1], label=\"ionocyte\"),\n",
    "    mpatches.Patch(color=sns.color_palette()[2], label=\"potential doublets\")\n",
    "], frameon=False, bbox_to_anchor=(1.05, 0.5), loc=\"center left\", title=\"Cell groups\")\n",
    "_ = ax.set(xlabel=\"Number of detected genes\", ylabel=\"Density\")\n",
    "ax.spines[\"right\"].set_visible(False)\n",
    "ax.spines[\"top\"].set_visible(False)\n",
    "fig.savefig(\"./plasschaert_potential_doublet_ngenes.pdf\", bbox_inches=\"tight\")"
   ]
  },
  {
   "cell_type": "markdown",
   "metadata": {},
   "source": [
    "So these do not look like doublets."
   ]
  },
  {
   "cell_type": "markdown",
   "metadata": {},
   "source": [
    "---"
   ]
  },
  {
   "cell_type": "markdown",
   "metadata": {},
   "source": [
    "## Querying the other way around"
   ]
  },
  {
   "cell_type": "markdown",
   "metadata": {},
   "source": [
    "Read data"
   ]
  },
  {
   "cell_type": "code",
   "execution_count": null,
   "metadata": {
    "ExecuteTime": {
     "end_time": "2019-07-11T17:12:56.889448Z",
     "start_time": "2019-07-11T17:12:41.831107Z"
    }
   },
   "outputs": [],
   "source": [
    "plasschaert_noi = cb.data.ExprDataSet.read_dataset(\"../../../Datasets/data/Plasschaert_noi/data.h5\")\n",
    "plasschaert_noi = utils.clean_dataset(plasschaert_noi, \"cell_ontology_class\")\n",
    "plasschaert_noi.obs[\"Cell ontology class\"] = plasschaert_noi.obs[\"cell_ontology_class\"]\n",
    "\n",
    "montoro_10x = cb.data.ExprDataSet.read_dataset(\"../../../Datasets/data/Montoro_10x/data.h5\")\n",
    "montoro_10x = utils.clean_dataset(montoro_10x, \"cell_ontology_class\")\n",
    "montoro_10x.obs[\"Cell ontology class\"] = montoro_10x.obs[\"cell_ontology_class\"]\n",
    "montoro_10x.write_dataset(\"./montoro_10x.h5\")\n",
    "\n",
    "montoro2plasschaertnoi_expectation = pd.read_csv(\"./montoro2plasschaertnoi_expectation.csv\", index_col=0)"
   ]
  },
  {
   "cell_type": "markdown",
   "metadata": {},
   "source": [
    "Many Plasschaert selected genes are not detected or highly differientially expressed in Montoro_10x, which we filter out here."
   ]
  },
  {
   "cell_type": "code",
   "execution_count": null,
   "metadata": {
    "ExecuteTime": {
     "end_time": "2019-07-11T16:51:22.317187Z",
     "start_time": "2019-07-11T16:50:00.091548Z"
    }
   },
   "outputs": [],
   "source": [
    "pm = cb.data.ExprDataSet.merge_datasets({\"montoro_10x\": montoro_10x, \"plasschaert\": plasschaert_noi})\n",
    "pm = pm[:, np.intersect1d(montoro_10x.var_names, plasschaert_noi.var_names)]"
   ]
  },
  {
   "cell_type": "code",
   "execution_count": null,
   "metadata": {
    "ExecuteTime": {
     "end_time": "2019-07-11T16:52:03.403197Z",
     "start_time": "2019-07-11T16:51:22.667645Z"
    }
   },
   "outputs": [],
   "source": [
    "pmdiff = pm.normalize().fast_markers(\"dataset_name\")"
   ]
  },
  {
   "cell_type": "code",
   "execution_count": null,
   "metadata": {
    "ExecuteTime": {
     "end_time": "2019-07-11T16:52:03.781072Z",
     "start_time": "2019-07-11T16:52:03.773690Z"
    }
   },
   "outputs": [],
   "source": [
    "pmdiff_head = pmdiff[\"Plasschaert_noi\"].sort_values(\"z\", ascending=False).index[:100]\n",
    "pmdiff_head"
   ]
  },
  {
   "cell_type": "code",
   "execution_count": null,
   "metadata": {
    "ExecuteTime": {
     "end_time": "2019-07-11T16:53:39.327972Z",
     "start_time": "2019-07-11T16:53:39.316048Z"
    }
   },
   "outputs": [],
   "source": [
    "len(plasschaert_noi.uns[\"seurat_genes\"])"
   ]
  },
  {
   "cell_type": "code",
   "execution_count": null,
   "metadata": {
    "ExecuteTime": {
     "end_time": "2019-07-11T16:53:40.272024Z",
     "start_time": "2019-07-11T16:53:40.231408Z"
    }
   },
   "outputs": [],
   "source": [
    "plasschaert_noi.uns[\"seurat_genes_clean\"] = np.intersect1d(\n",
    "    np.setdiff1d(\n",
    "        plasschaert_noi.uns[\"seurat_genes\"], pmdiff_head,\n",
    "    ), montoro_10x.var_names\n",
    ")"
   ]
  },
  {
   "cell_type": "code",
   "execution_count": null,
   "metadata": {
    "ExecuteTime": {
     "end_time": "2019-07-11T16:53:42.917400Z",
     "start_time": "2019-07-11T16:53:42.872841Z"
    }
   },
   "outputs": [],
   "source": [
    "plasschaert_noi.uns[\"scmap_genes_clean\"] = np.intersect1d(\n",
    "    np.setdiff1d(\n",
    "        plasschaert_noi.uns[\"scmap_genes\"], pmdiff_head,\n",
    "    ), montoro_10x.var_names\n",
    ")"
   ]
  },
  {
   "cell_type": "code",
   "execution_count": null,
   "metadata": {
    "ExecuteTime": {
     "end_time": "2019-07-11T16:53:44.242419Z",
     "start_time": "2019-07-11T16:53:44.236976Z"
    }
   },
   "outputs": [],
   "source": [
    "plasschaert_noi.uns[\"seurat_genes_clean\"].size, plasschaert_noi.uns[\"scmap_genes_clean\"].size"
   ]
  },
  {
   "cell_type": "code",
   "execution_count": null,
   "metadata": {
    "ExecuteTime": {
     "end_time": "2019-07-11T16:53:57.872940Z",
     "start_time": "2019-07-11T16:53:45.917148Z"
    }
   },
   "outputs": [],
   "source": [
    "plasschaert_noi.write_dataset(\"./plasschaert_noi.h5\")"
   ]
  },
  {
   "cell_type": "code",
   "execution_count": null,
   "metadata": {},
   "outputs": [],
   "source": [
    "ionocyte_enrichment = dict()"
   ]
  },
  {
   "cell_type": "markdown",
   "metadata": {},
   "source": [
    "### Cell BLAST"
   ]
  },
  {
   "cell_type": "markdown",
   "metadata": {},
   "source": [
    "#### Train model"
   ]
  },
  {
   "cell_type": "code",
   "execution_count": null,
   "metadata": {
    "ExecuteTime": {
     "end_time": "2019-07-11T17:02:11.161009Z",
     "start_time": "2019-07-11T16:53:58.254730Z"
    },
    "scrolled": true
   },
   "outputs": [],
   "source": [
    "plasschaert_noi_models = []\n",
    "for i in range(4):\n",
    "    path = \"/tmp/cb/%s\" % cb.utils.rand_hex()\n",
    "    print(\"==== Training model %d at %s ====\" % (i, path))\n",
    "    plasschaert_noi_models.append(cb.directi.fit_DIRECTi(\n",
    "        plasschaert_noi, plasschaert_noi.uns[\"seurat_genes_clean\"],\n",
    "        latent_dim=10, cat_dim=20, epoch=1000, patience=30,\n",
    "        random_seed=i, path=path\n",
    "    ))"
   ]
  },
  {
   "cell_type": "markdown",
   "metadata": {},
   "source": [
    "#### Querying"
   ]
  },
  {
   "cell_type": "code",
   "execution_count": null,
   "metadata": {
    "ExecuteTime": {
     "end_time": "2019-07-11T17:08:26.178638Z",
     "start_time": "2019-07-11T17:07:32.779748Z"
    }
   },
   "outputs": [],
   "source": [
    "plasschaert_noi_blast = cb.blast.BLAST(\n",
    "    plasschaert_noi_models, plasschaert_noi)\n",
    "plasschaert_noi_blast.save(\"./plasschaert_noi_cb/blast\")"
   ]
  },
  {
   "cell_type": "code",
   "execution_count": null,
   "metadata": {
    "ExecuteTime": {
     "end_time": "2019-07-11T17:13:05.711758Z",
     "start_time": "2019-07-11T17:12:56.932498Z"
    },
    "scrolled": true
   },
   "outputs": [],
   "source": [
    "plasschaert_noi_blast = cb.blast.BLAST.load(\"./plasschaert_noi_cb/blast\")"
   ]
  },
  {
   "cell_type": "code",
   "execution_count": null,
   "metadata": {
    "ExecuteTime": {
     "end_time": "2019-07-11T17:13:50.029785Z",
     "start_time": "2019-07-11T17:13:05.732787Z"
    }
   },
   "outputs": [],
   "source": [
    "hits = plasschaert_noi_blast.query(montoro_10x)"
   ]
  },
  {
   "cell_type": "code",
   "execution_count": null,
   "metadata": {
    "ExecuteTime": {
     "end_time": "2019-07-11T17:13:50.802794Z",
     "start_time": "2019-07-11T17:13:50.053563Z"
    }
   },
   "outputs": [],
   "source": [
    "montoro_10x.obs[\"cb_pred\"] = hits.reconcile_models().filter(\"pval\", 0.05).annotate(\n",
    "    \"cell_ontology_class\"\n",
    ")[\"cell_ontology_class\"]\n",
    "cb.data.write_hybrid_path(montoro_10x.obs[\"cb_pred\"].values, \"./montoro_10x_cb_pred.h5//prediction\")"
   ]
  },
  {
   "cell_type": "code",
   "execution_count": null,
   "metadata": {
    "ExecuteTime": {
     "end_time": "2019-07-11T17:13:50.847467Z",
     "start_time": "2019-07-11T17:13:50.836426Z"
    }
   },
   "outputs": [],
   "source": [
    "montoro_10x.obs[\"cb_pred\"] = cb.data.read_hybrid_path(\"./montoro_10x_cb_pred.h5//prediction\")"
   ]
  },
  {
   "cell_type": "code",
   "execution_count": null,
   "metadata": {
    "ExecuteTime": {
     "end_time": "2019-07-11T17:13:58.867549Z",
     "start_time": "2019-07-11T17:13:50.868817Z"
    },
    "scrolled": false
   },
   "outputs": [],
   "source": [
    "fig = cb.blast.sankey(\n",
    "    montoro_10x.obs[\"cell_ontology_class\"], montoro_10x.obs[\"cb_pred\"],\n",
    "    title=\"Cell BLAST prediction: Montoro_10x → Plasschaert without ionocyte\",\n",
    "    width=660, height=600, tint_cutoff=5, font_size=11\n",
    ")\n",
    "plotly.io.write_image(fig, \"./montoro_10x_cb_sankey.pdf\")"
   ]
  },
  {
   "cell_type": "code",
   "execution_count": null,
   "metadata": {
    "ExecuteTime": {
     "end_time": "2019-07-11T17:13:58.909569Z",
     "start_time": "2019-07-11T17:13:58.895640Z"
    }
   },
   "outputs": [],
   "source": [
    "mba = cb.metrics.mean_balanced_accuracy(\n",
    "    montoro_10x.obs[\"cell_ontology_class\"],\n",
    "    montoro_10x.obs[\"cb_pred\"],\n",
    "    montoro2plasschaertnoi_expectation\n",
    ")\n",
    "print(f\"MBA = {mba:.3f}\")"
   ]
  },
  {
   "cell_type": "code",
   "execution_count": null,
   "metadata": {},
   "outputs": [],
   "source": [
    "ionocyte_mask = montoro_10x.obs[\"cell_ontology_class\"] == \"ionocyte\"\n",
    "rejected_mask = montoro_10x.obs[\"cb_pred\"] == \"rejected\"\n",
    "ionocyte_enrichment[\"cb\"] = (\n",
    "    np.logical_and(\n",
    "        ionocyte_mask, rejected_mask\n",
    "    ).sum() / rejected_mask.sum()\n",
    ") / (\n",
    "    ionocyte_mask.sum() /\n",
    "    montoro_10x.shape[0]\n",
    ")"
   ]
  },
  {
   "cell_type": "markdown",
   "metadata": {},
   "source": [
    "#### Cluster rejected cells"
   ]
  },
  {
   "cell_type": "code",
   "execution_count": null,
   "metadata": {
    "ExecuteTime": {
     "end_time": "2019-07-11T17:14:12.888095Z",
     "start_time": "2019-07-11T17:14:10.631622Z"
    }
   },
   "outputs": [],
   "source": [
    "montoro_10x_unassigned = montoro_10x[montoro_10x.obs[\"cb_pred\"] == \"rejected\", :]\n",
    "montoro_10x_unassigned.latent = plasschaert_noi_blast.models[0].inference(montoro_10x_unassigned)\n",
    "montoro_10x_unassigned.obs[\"Average Cell BLAST p-value\"] = np.array([\n",
    "    scipy.stats.gmean(hits.pval[i], axis=None) for i in np.where(\n",
    "        montoro_10x.obs[\"cb_pred\"] == \"rejected\"\n",
    "    )[0]\n",
    "])"
   ]
  },
  {
   "cell_type": "code",
   "execution_count": null,
   "metadata": {
    "ExecuteTime": {
     "end_time": "2019-07-11T17:16:02.899175Z",
     "start_time": "2019-07-11T17:15:51.096417Z"
    }
   },
   "outputs": [],
   "source": [
    "ax = montoro_10x_unassigned.visualize_latent(\n",
    "    \"Cell ontology class\", method=\"tSNE\", dr_kws=dict(perplexity=15), reuse=False,\n",
    "    size=15, width=4, height=4,\n",
    "    scatter_kws=dict(rasterized=True), random_seed=0\n",
    ")\n",
    "ax.get_figure().savefig(\"./montoro_10x_cb_unassigned_tsne_cl.pdf\", dpi=300, bbox_inches=\"tight\")"
   ]
  },
  {
   "cell_type": "code",
   "execution_count": null,
   "metadata": {
    "ExecuteTime": {
     "end_time": "2019-07-11T17:16:54.620792Z",
     "start_time": "2019-07-11T17:16:04.010237Z"
    }
   },
   "outputs": [],
   "source": [
    "snn_graph = snn(montoro_10x_unassigned.latent, n_neighbors=15)"
   ]
  },
  {
   "cell_type": "code",
   "execution_count": null,
   "metadata": {
    "ExecuteTime": {
     "end_time": "2019-07-11T17:16:56.864500Z",
     "start_time": "2019-07-11T17:16:54.967593Z"
    }
   },
   "outputs": [],
   "source": [
    "montoro_10x_unassigned.obs[\"Cluster\"] = np.vectorize(\n",
    "    lambda x: \"cluster %d\" % x\n",
    ")(louvain(snn_graph, resolution=1.5, random_state=0))\n",
    "montoro_10x_unassigned.obs[\"Cluster\"] = pd.Categorical(\n",
    "    montoro_10x_unassigned.obs[\"Cluster\"],\n",
    "    categories=sorted(np.unique(\n",
    "        montoro_10x_unassigned.obs[\"Cluster\"]\n",
    "    ), key=lambda x: int(x.split(\" \")[1]))\n",
    ")"
   ]
  },
  {
   "cell_type": "code",
   "execution_count": null,
   "metadata": {
    "ExecuteTime": {
     "end_time": "2019-07-11T17:17:20.838162Z",
     "start_time": "2019-07-11T17:17:20.135242Z"
    },
    "scrolled": false
   },
   "outputs": [],
   "source": [
    "ax = montoro_10x_unassigned.visualize_latent(\n",
    "    \"Cluster\", method=\"tSNE\",\n",
    "    size=15, width=4, height=4,\n",
    "    scatter_kws=dict(rasterized=True)\n",
    ")\n",
    "ax.get_figure().savefig(\"./montoro_10x_cb_unassigned_tsne_cluster.pdf\", dpi=300, bbox_inches=\"tight\")"
   ]
  },
  {
   "cell_type": "code",
   "execution_count": null,
   "metadata": {
    "ExecuteTime": {
     "end_time": "2019-07-11T17:17:54.720335Z",
     "start_time": "2019-07-11T17:17:54.056592Z"
    }
   },
   "outputs": [],
   "source": [
    "ax = montoro_10x_unassigned.visualize_latent(\n",
    "    \"Average Cell BLAST p-value\", method=\"tSNE\", sort=True,\n",
    "    size=15, width=4, height=4,\n",
    "    scatter_kws=dict(rasterized=True)\n",
    ")\n",
    "ax.get_figure().savefig(\"./montoro_10x_cb_unassigned_tsne_pval.pdf\", dpi=300, bbox_inches=\"tight\")"
   ]
  },
  {
   "cell_type": "code",
   "execution_count": null,
   "metadata": {
    "ExecuteTime": {
     "end_time": "2019-07-11T17:18:09.189809Z",
     "start_time": "2019-07-11T17:18:07.482940Z"
    }
   },
   "outputs": [],
   "source": [
    "fig, ax = plt.subplots(figsize=(4, 4))\n",
    "ax2 = ax.twinx()\n",
    "legend_handles = []\n",
    "for i in range(np.unique(montoro_10x_unassigned.obs[\"Cluster\"]).size):\n",
    "    ax = sns.distplot(montoro_10x_unassigned.obs.loc[\n",
    "        montoro_10x_unassigned.obs[\"Cluster\"] == \"cluster %d\" % i, \"Average Cell BLAST p-value\"\n",
    "    ], color=sns.color_palette()[i], kde=False, hist_kws=dict(density=True), ax=ax)\n",
    "    ax2 = sns.distplot(montoro_10x_unassigned.obs.loc[\n",
    "        montoro_10x_unassigned.obs[\"Cluster\"] == \"cluster %d\" % i, \"Average Cell BLAST p-value\"\n",
    "    ], color=sns.color_palette()[i], hist=False, kde_kws=dict(cumulative=True), ax=ax2)\n",
    "    legend_handles.append(mpatches.Patch(color=sns.color_palette()[i], label=\"cluster %d\" % i))\n",
    "_ = plt.legend(handles=legend_handles, frameon=False, bbox_to_anchor=(1.17, 0.5), loc=\"center left\", title=\"Cluster\")\n",
    "_ = ax.set(xlabel=\"Average Cell BLAST p-value\", ylabel=\"Density\")\n",
    "_ = ax2.set(ylabel=\"Cumulative probability\")\n",
    "plt.xlim(-0.03, 0.45)\n",
    "fig.savefig(\"./montoro_10x_cb_unassigned_pval_distribution.pdf\", bbox_inches=\"tight\")"
   ]
  },
  {
   "cell_type": "markdown",
   "metadata": {},
   "source": [
    "### scmap"
   ]
  },
  {
   "cell_type": "markdown",
   "metadata": {},
   "source": [
    "#### Querying"
   ]
  },
  {
   "cell_type": "code",
   "execution_count": null,
   "metadata": {
    "ExecuteTime": {
     "end_time": "2019-07-11T17:20:29.451426Z",
     "start_time": "2019-07-11T17:19:30.031353Z"
    }
   },
   "outputs": [],
   "source": [
    "p = subprocess.Popen([\n",
    "    \"Rscript\", \"run_scmap.R\",\n",
    "    \"-r\", \"../Notebooks/Case/Trachea/plasschaert_noi.h5\", \"-n\", \"Plasschaert_noi\",\n",
    "    \"-q\", \"../Notebooks/Case/Trachea/montoro_10x.h5\",\n",
    "    \"-o\", \"../Notebooks/Case/Trachea/montoro_10x_scmap_pred.h5\",\n",
    "    \"-g\", \"scmap_genes_clean\", \"-s\", \"0\", \"--threshold\", \"0.5\",\n",
    "    \"--cluster-col\", \"cell_ontology_class\"\n",
    "], cwd=\"../../../Evaluation\", stdout=subprocess.PIPE, stderr=subprocess.PIPE)\n",
    "(output, err) = p.communicate()\n",
    "exit_code = p.wait()\n",
    "print(output.decode())\n",
    "print(err.decode())"
   ]
  },
  {
   "cell_type": "code",
   "execution_count": null,
   "metadata": {
    "ExecuteTime": {
     "end_time": "2019-07-11T17:20:29.875524Z",
     "start_time": "2019-07-11T17:20:29.860935Z"
    }
   },
   "outputs": [],
   "source": [
    "montoro_10x.obs[\"scmap_pred\"] = cb.data.read_hybrid_path(\"./montoro_10x_scmap_pred.h5//prediction/0.5\")"
   ]
  },
  {
   "cell_type": "code",
   "execution_count": null,
   "metadata": {
    "ExecuteTime": {
     "end_time": "2019-07-11T17:20:30.754291Z",
     "start_time": "2019-07-11T17:20:30.272239Z"
    },
    "scrolled": false
   },
   "outputs": [],
   "source": [
    "fig = cb.blast.sankey(\n",
    "    montoro_10x.obs[\"cell_ontology_class\"], montoro_10x.obs[\"scmap_pred\"],\n",
    "    title=\"scmap prediction: Montoro_10x → Plasschaert without ionocyte\",\n",
    "    width=660, height=600, tint_cutoff=5, font_size=11\n",
    ")\n",
    "plotly.io.write_image(fig, \"./montoro_10x_scmap_sankey.pdf\")"
   ]
  },
  {
   "cell_type": "code",
   "execution_count": null,
   "metadata": {
    "ExecuteTime": {
     "end_time": "2019-07-11T17:20:31.174686Z",
     "start_time": "2019-07-11T17:20:31.166556Z"
    }
   },
   "outputs": [],
   "source": [
    "mba = cb.metrics.mean_balanced_accuracy(\n",
    "    montoro_10x.obs[\"cell_ontology_class\"],\n",
    "    montoro_10x.obs[\"scmap_pred\"],\n",
    "    montoro2plasschaertnoi_expectation\n",
    ")\n",
    "print(f\"MBA = {mba:.3f}\")"
   ]
  },
  {
   "cell_type": "code",
   "execution_count": null,
   "metadata": {},
   "outputs": [],
   "source": [
    "ionocyte_mask = montoro_10x.obs[\"cell_ontology_class\"] == \"ionocyte\"\n",
    "rejected_mask = montoro_10x.obs[\"scmap_pred\"] == \"unassigned\"\n",
    "ionocyte_enrichment[\"scmap\"] = (\n",
    "    np.logical_and(\n",
    "        ionocyte_mask, rejected_mask\n",
    "    ).sum() / rejected_mask.sum()\n",
    ") / (\n",
    "    ionocyte_mask.sum() /\n",
    "    montoro_10x.shape[0]\n",
    ")"
   ]
  },
  {
   "cell_type": "markdown",
   "metadata": {},
   "source": [
    "There are only 4 unassigned."
   ]
  },
  {
   "cell_type": "markdown",
   "metadata": {},
   "source": [
    "## CellFishing.jl"
   ]
  },
  {
   "cell_type": "markdown",
   "metadata": {},
   "source": [
    "### Querying"
   ]
  },
  {
   "cell_type": "code",
   "execution_count": null,
   "metadata": {
    "ExecuteTime": {
     "end_time": "2019-07-21T10:09:03.801312Z",
     "start_time": "2019-07-21T10:08:29.030976Z"
    }
   },
   "outputs": [],
   "source": [
    "p = subprocess.Popen([\n",
    "    \"julia\", \"run_CellFishing.jl.jl\",\n",
    "    \"--annotation=cell_ontology_class\",\n",
    "    \"--gene=cf_genes\", \"--seed=0\", \"--cutoff=120\",\n",
    "    \"../Notebooks/Case/Trachea/plasschaert_noi.h5\",\n",
    "    \"../Notebooks/Case/Trachea/montoro_10x.h5\",\n",
    "    \"../Notebooks/Case/Trachea/montoro_10x_cf_pred.h5\"\n",
    "], cwd=\"../../../Evaluation\", stdout=subprocess.PIPE, stderr=subprocess.PIPE)\n",
    "(output, err) = p.communicate()\n",
    "exit_code = p.wait()\n",
    "print(output.decode())\n",
    "print(err.decode())"
   ]
  },
  {
   "cell_type": "code",
   "execution_count": null,
   "metadata": {
    "ExecuteTime": {
     "end_time": "2019-07-21T10:09:04.267661Z",
     "start_time": "2019-07-21T10:09:04.252651Z"
    }
   },
   "outputs": [],
   "source": [
    "montoro_10x.obs[\"cf_pred\"] = cb.data.read_hybrid_path(\"montoro_10x_cf_pred.h5//prediction/120\")"
   ]
  },
  {
   "cell_type": "code",
   "execution_count": null,
   "metadata": {
    "ExecuteTime": {
     "end_time": "2019-07-21T10:09:05.286129Z",
     "start_time": "2019-07-21T10:09:04.750561Z"
    }
   },
   "outputs": [],
   "source": [
    "fig = cb.blast.sankey(\n",
    "    montoro_10x.obs[\"cell_ontology_class\"], montoro_10x.obs[\"cf_pred\"],\n",
    "    title=\"CellFishing.jl prediction: Montoro_10x → Plasschaert without ionocyte\",\n",
    "    width=660, height=600, tint_cutoff=5, font_size=11\n",
    ")\n",
    "plotly.io.write_image(fig, \"./montoro_10x_cf_sankey.pdf\")"
   ]
  },
  {
   "cell_type": "code",
   "execution_count": null,
   "metadata": {
    "ExecuteTime": {
     "end_time": "2019-07-21T10:09:05.703135Z",
     "start_time": "2019-07-21T10:09:05.695390Z"
    }
   },
   "outputs": [],
   "source": [
    "mba = cb.metrics.mean_balanced_accuracy(\n",
    "    montoro_10x.obs[\"cell_ontology_class\"],\n",
    "    montoro_10x.obs[\"cf_pred\"],\n",
    "    montoro2plasschaertnoi_expectation\n",
    ")\n",
    "print(f\"MBA = {mba:.3f}\")"
   ]
  },
  {
   "cell_type": "code",
   "execution_count": null,
   "metadata": {
    "ExecuteTime": {
     "end_time": "2019-07-21T10:09:06.078877Z",
     "start_time": "2019-07-21T10:09:06.072006Z"
    }
   },
   "outputs": [],
   "source": [
    "ionocyte_mask = montoro_10x.obs[\"cell_ontology_class\"] == \"ionocyte\"\n",
    "rejected_mask = montoro_10x.obs[\"cf_pred\"] == \"rejected\"\n",
    "ionocyte_enrichment[\"cf\"] = (\n",
    "    np.logical_and(\n",
    "        ionocyte_mask, rejected_mask\n",
    "    ).sum() / rejected_mask.sum()\n",
    ") / (\n",
    "    ionocyte_mask.sum() /\n",
    "    montoro_10x.shape[0]\n",
    ")"
   ]
  },
  {
   "cell_type": "markdown",
   "metadata": {},
   "source": [
    "Too many false negative rejections."
   ]
  },
  {
   "cell_type": "markdown",
   "metadata": {},
   "source": [
    "## Ionocyte enrichment score"
   ]
  },
  {
   "cell_type": "code",
   "execution_count": null,
   "metadata": {
    "ExecuteTime": {
     "end_time": "2019-07-21T10:18:15.063781Z",
     "start_time": "2019-07-21T10:18:15.049433Z"
    }
   },
   "outputs": [],
   "source": [
    "df = pd.DataFrame(ionocyte_enrichment, index=[\"Ionocyte enrichment ratio\"]).T\n",
    "method_mapping = collections.OrderedDict(\n",
    "    scmap=\"scmap\",\n",
    "    cf=\"CellFishing.jl\",\n",
    "    cb=\"Cell BLAST\"\n",
    ")\n",
    "df[\"Method\"] = [method_mapping[item] for item in df.index]\n",
    "df = df.sort_values(\"Ionocyte enrichment ratio\")"
   ]
  },
  {
   "cell_type": "code",
   "execution_count": null,
   "metadata": {
    "ExecuteTime": {
     "end_time": "2019-07-21T10:26:16.098290Z",
     "start_time": "2019-07-21T10:26:15.808250Z"
    }
   },
   "outputs": [],
   "source": [
    "fig, ax = plt.subplots(figsize=(3.5, 3.5))\n",
    "ax = sns.barplot(x = \"Ionocyte enrichment ratio\", y = \"Method\", data=df, palette=method_palette, ax=ax)\n",
    "ax.spines[\"right\"].set_visible(False)\n",
    "ax.spines[\"top\"].set_visible(False)\n",
    "for patch in ax.patches :\n",
    "    current_height = patch.get_height()\n",
    "    diff = current_height - 0.7\n",
    "    patch.set_height(0.7)\n",
    "    patch.set_y(patch.get_y() + diff * .5)\n",
    "fig.savefig(\"montoro_10x_ionocyte_enrichment.pdf\", bbox_inches=\"tight\")"
   ]
  }
 ],
 "metadata": {
  "kernelspec": {
   "display_name": "Python 3",
   "language": "python",
   "name": "python3"
  },
  "language_info": {
   "codemirror_mode": {
    "name": "ipython",
    "version": 3
   },
   "file_extension": ".py",
   "mimetype": "text/x-python",
   "name": "python",
   "nbconvert_exporter": "python",
   "pygments_lexer": "ipython3",
   "version": "3.6.8"
  },
  "notify_time": "10",
  "toc": {
   "base_numbering": 1,
   "nav_menu": {},
   "number_sections": true,
   "sideBar": true,
   "skip_h1_title": true,
   "title_cell": "Table of Contents",
   "title_sidebar": "Contents",
   "toc_cell": false,
   "toc_position": {
    "height": "634px",
    "left": "22px",
    "top": "110px",
    "width": "267.59375px"
   },
   "toc_section_display": true,
   "toc_window_display": true
  },
  "varInspector": {
   "cols": {
    "lenName": 16,
    "lenType": 16,
    "lenVar": 40
   },
   "kernels_config": {
    "python": {
     "delete_cmd_postfix": "",
     "delete_cmd_prefix": "del ",
     "library": "var_list.py",
     "varRefreshCmd": "print(var_dic_list())"
    },
    "r": {
     "delete_cmd_postfix": ") ",
     "delete_cmd_prefix": "rm(",
     "library": "var_list.r",
     "varRefreshCmd": "cat(var_dic_list()) "
    }
   },
   "position": {
    "height": "723px",
    "left": "2060.984375px",
    "right": "20px",
    "top": "207.984375px",
    "width": "417.984375px"
   },
   "types_to_exclude": [
    "module",
    "function",
    "builtin_function_or_method",
    "instance",
    "_Feature"
   ],
   "window_display": true
  }
 },
 "nbformat": 4,
 "nbformat_minor": 2
}
