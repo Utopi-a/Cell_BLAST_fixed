{
 "cells": [
  {
   "cell_type": "code",
   "execution_count": null,
   "metadata": {
    "ExecuteTime": {
     "end_time": "2019-07-25T05:56:57.973054Z",
     "start_time": "2019-07-25T05:56:52.414100Z"
    }
   },
   "outputs": [],
   "source": [
    "import os\n",
    "import Cell_BLAST as cb\n",
    "import utils\n",
    "os.environ[\"CUDA_VISIBLE_DEVICES\"] = utils.pick_gpu_lowest_memory()\n",
    "cb.config.RANDOM_SEED = 0\n",
    "cb.config.N_JOBS = 4\n",
    "fixed_model_kwargs = dict(\n",
    "    latent_dim=10, cat_dim=20,\n",
    "    epoch=500, patience=20\n",
    ")"
   ]
  },
  {
   "cell_type": "code",
   "execution_count": null,
   "metadata": {
    "ExecuteTime": {
     "end_time": "2019-07-25T05:56:57.986608Z",
     "start_time": "2019-07-25T05:56:57.977639Z"
    }
   },
   "outputs": [],
   "source": [
    "cb.__version__"
   ]
  },
  {
   "cell_type": "markdown",
   "metadata": {},
   "source": [
    "---\n",
    "# Mouse\n",
    "## Quake_10x_Bladder"
   ]
  },
  {
   "cell_type": "code",
   "execution_count": null,
   "metadata": {
    "ExecuteTime": {
     "end_time": "2019-07-25T05:56:59.841371Z",
     "start_time": "2019-07-25T05:56:57.988956Z"
    },
    "scrolled": true
   },
   "outputs": [],
   "source": [
    "quake_10x_bladder = cb.data.ExprDataSet.read_dataset(\"../../Datasets/data/Quake_10x_Bladder/data.h5\")\n",
    "utils.peek(quake_10x_bladder, \"build/bladder/Quake_10x_Bladder\")\n",
    "quake_10x_bladder.obs.head()"
   ]
  },
  {
   "cell_type": "code",
   "execution_count": null,
   "metadata": {},
   "outputs": [],
   "source": [
    "quake_10x_bladder.obs[\"cluster\"] = \"cluster_\" + quake_10x_bladder.obs[\"cluster\"].astype(int).astype(str)\n",
    "quake_10x_bladder.obs.dtypes"
   ]
  },
  {
   "cell_type": "code",
   "execution_count": null,
   "metadata": {
    "ExecuteTime": {
     "end_time": "2019-07-25T05:58:54.340499Z",
     "start_time": "2019-07-25T05:56:59.843397Z"
    }
   },
   "outputs": [],
   "source": [
    "opt_model_kwargs = dict(batch_effect=\"donor\")\n",
    "quake_10x_bladder_model = cb.directi.fit_DIRECTi(\n",
    "    quake_10x_bladder, quake_10x_bladder.uns[\"seurat_genes\"],\n",
    "    **fixed_model_kwargs, **opt_model_kwargs\n",
    ")\n",
    "quake_10x_bladder.latent = quake_10x_bladder_model.inference(quake_10x_bladder)"
   ]
  },
  {
   "cell_type": "code",
   "execution_count": null,
   "metadata": {
    "ExecuteTime": {
     "end_time": "2019-07-25T06:00:11.557554Z",
     "start_time": "2019-07-25T05:58:54.345299Z"
    }
   },
   "outputs": [],
   "source": [
    "ax = quake_10x_bladder.visualize_latent(\"cell_ontology_class\", scatter_kws=dict(rasterized=True))\n",
    "ax.get_figure().savefig(\"build/bladder/Quake_10x_Bladder/cell_ontology_class.svg\", dpi=utils.DPI, bbox_inches=\"tight\")"
   ]
  },
  {
   "cell_type": "code",
   "execution_count": null,
   "metadata": {
    "ExecuteTime": {
     "end_time": "2019-07-25T06:00:11.557554Z",
     "start_time": "2019-07-25T05:58:54.345299Z"
    }
   },
   "outputs": [],
   "source": [
    "ax = quake_10x_bladder.visualize_latent(\"cell_type1\", scatter_kws=dict(rasterized=True))\n",
    "ax.get_figure().savefig(\"build/bladder/Quake_10x_Bladder/cell_type1.svg\", dpi=utils.DPI, bbox_inches=\"tight\")"
   ]
  },
  {
   "cell_type": "code",
   "execution_count": null,
   "metadata": {
    "ExecuteTime": {
     "end_time": "2019-07-25T06:00:11.557554Z",
     "start_time": "2019-07-25T05:58:54.345299Z"
    }
   },
   "outputs": [],
   "source": [
    "ax = quake_10x_bladder.visualize_latent(\"cluster\", scatter_kws=dict(rasterized=True))\n",
    "ax.get_figure().savefig(\"build/bladder/Quake_10x_Bladder/cluster.svg\", dpi=utils.DPI, bbox_inches=\"tight\")"
   ]
  },
  {
   "cell_type": "code",
   "execution_count": null,
   "metadata": {
    "ExecuteTime": {
     "end_time": "2019-07-25T06:00:11.557554Z",
     "start_time": "2019-07-25T05:58:54.345299Z"
    }
   },
   "outputs": [],
   "source": [
    "ax = quake_10x_bladder.visualize_latent(\"free_annotation\", scatter_kws=dict(rasterized=True))\n",
    "ax.get_figure().savefig(\"build/bladder/Quake_10x_Bladder/free_annotation.svg\", dpi=utils.DPI, bbox_inches=\"tight\")"
   ]
  },
  {
   "cell_type": "code",
   "execution_count": null,
   "metadata": {
    "ExecuteTime": {
     "end_time": "2019-07-25T06:00:12.224861Z",
     "start_time": "2019-07-25T06:00:11.559957Z"
    }
   },
   "outputs": [],
   "source": [
    "ax = quake_10x_bladder.visualize_latent(\"donor\", scatter_kws=dict(rasterized=True))\n",
    "ax.get_figure().savefig(\"build/bladder/Quake_10x_Bladder/donor.svg\", dpi=utils.DPI, bbox_inches=\"tight\")"
   ]
  },
  {
   "cell_type": "code",
   "execution_count": null,
   "metadata": {
    "ExecuteTime": {
     "end_time": "2019-07-25T06:00:13.642298Z",
     "start_time": "2019-07-25T06:00:12.922601Z"
    }
   },
   "outputs": [],
   "source": [
    "ax = quake_10x_bladder.visualize_latent(\"gender\", scatter_kws=dict(rasterized=True))\n",
    "ax.get_figure().savefig(\"build/bladder/Quake_10x_Bladder/gender.svg\", dpi=utils.DPI, bbox_inches=\"tight\")"
   ]
  },
  {
   "cell_type": "code",
   "execution_count": null,
   "metadata": {},
   "outputs": [],
   "source": [
    "quake_10x_bladder.write_dataset(\"build/bladder/Quake_10x_Bladder/Quake_10x_Bladder.h5\")"
   ]
  },
  {
   "cell_type": "code",
   "execution_count": null,
   "metadata": {
    "ExecuteTime": {
     "end_time": "2019-07-25T06:05:17.534590Z",
     "start_time": "2019-07-25T06:00:13.644110Z"
    }
   },
   "outputs": [],
   "source": [
    "%%capture capio\n",
    "quake_10x_bladder_models = [quake_10x_bladder_model]\n",
    "opt_model_kwargs = dict(batch_effect=\"donor\")\n",
    "for i in range(1, cb.config.N_JOBS):\n",
    "    print(\"==== Model %d ====\" % i)\n",
    "    quake_10x_bladder_models.append(cb.directi.fit_DIRECTi(\n",
    "        quake_10x_bladder, quake_10x_bladder.uns[\"seurat_genes\"],\n",
    "        **fixed_model_kwargs, **opt_model_kwargs,\n",
    "        random_seed=i\n",
    "    ))\n",
    "quake_10x_bladder_blast = cb.blast.BLAST(\n",
    "    quake_10x_bladder_models, quake_10x_bladder, \n",
    ")\n",
    "quake_10x_bladder_blast.save(\"build/bladder/Quake_10x_Bladder\")"
   ]
  },
  {
   "cell_type": "code",
   "execution_count": null,
   "metadata": {
    "ExecuteTime": {
     "end_time": "2019-07-25T06:05:17.543416Z",
     "start_time": "2019-07-25T06:05:17.538438Z"
    }
   },
   "outputs": [],
   "source": [
    "with open(\"build/bladder/Quake_10x_Bladder/stdout.txt\", \"w\") as f:\n",
    "    f.write(capio.stdout)\n",
    "with open(\"build/bladder/Quake_10x_Bladder/stderr.txt\", \"w\") as f:\n",
    "    f.write(capio.stderr)"
   ]
  },
  {
   "cell_type": "code",
   "execution_count": null,
   "metadata": {
    "ExecuteTime": {
     "end_time": "2019-07-25T06:05:36.622264Z",
     "start_time": "2019-07-25T06:05:17.545265Z"
    }
   },
   "outputs": [],
   "source": [
    "utils.self_projection(quake_10x_bladder_blast, \"build/bladder/Quake_10x_Bladder\")"
   ]
  },
  {
   "cell_type": "code",
   "execution_count": null,
   "metadata": {},
   "outputs": [],
   "source": [
    "%%writefile \"build/bladder/Quake_10x_Bladder/predictable.txt\"\n",
    "cell_ontology_class\n",
    "cell_type1\n",
    "cluster\n",
    "free_annotation"
   ]
  },
  {
   "cell_type": "markdown",
   "metadata": {},
   "source": [
    "## Quake_Smart-seq2_Bladder"
   ]
  },
  {
   "cell_type": "code",
   "execution_count": null,
   "metadata": {
    "ExecuteTime": {
     "end_time": "2019-07-25T06:05:38.512409Z",
     "start_time": "2019-07-25T06:05:36.625152Z"
    },
    "scrolled": true
   },
   "outputs": [],
   "source": [
    "quake_smart_seq2_bladder = cb.data.ExprDataSet.read_dataset(\"../../Datasets/data/Quake_Smart-seq2_Bladder/data.h5\")\n",
    "utils.peek(quake_smart_seq2_bladder, \"build/bladder/Quake_Smart-seq2_Bladder\")\n",
    "quake_smart_seq2_bladder.obs.head()"
   ]
  },
  {
   "cell_type": "code",
   "execution_count": null,
   "metadata": {},
   "outputs": [],
   "source": [
    "quake_smart_seq2_bladder.obs[\"cluster\"] = \"cluster_\" + quake_smart_seq2_bladder.obs[\"cluster\"].astype(int).astype(str)\n",
    "quake_smart_seq2_bladder.obs.dtypes"
   ]
  },
  {
   "cell_type": "code",
   "execution_count": null,
   "metadata": {
    "ExecuteTime": {
     "end_time": "2019-07-25T06:06:36.714771Z",
     "start_time": "2019-07-25T06:05:38.514520Z"
    },
    "scrolled": true
   },
   "outputs": [],
   "source": [
    "opt_model_kwargs = dict(batch_effect=\"donor\")\n",
    "quake_smart_seq2_bladder_model = cb.directi.fit_DIRECTi(\n",
    "    quake_smart_seq2_bladder, quake_smart_seq2_bladder.uns[\"seurat_genes\"],\n",
    "    **fixed_model_kwargs, **opt_model_kwargs\n",
    ")\n",
    "quake_smart_seq2_bladder.latent = quake_smart_seq2_bladder_model.inference(quake_smart_seq2_bladder)"
   ]
  },
  {
   "cell_type": "code",
   "execution_count": null,
   "metadata": {
    "ExecuteTime": {
     "end_time": "2019-07-25T06:07:13.512809Z",
     "start_time": "2019-07-25T06:06:36.717105Z"
    }
   },
   "outputs": [],
   "source": [
    "ax = quake_smart_seq2_bladder.visualize_latent(\"cell_ontology_class\", scatter_kws=dict(rasterized=True))\n",
    "ax.get_figure().savefig(\"build/bladder/Quake_Smart-seq2_Bladder/cell_ontology_class.svg\", dpi=utils.DPI, bbox_inches=\"tight\")"
   ]
  },
  {
   "cell_type": "code",
   "execution_count": null,
   "metadata": {
    "ExecuteTime": {
     "end_time": "2019-07-25T06:07:13.512809Z",
     "start_time": "2019-07-25T06:06:36.717105Z"
    }
   },
   "outputs": [],
   "source": [
    "ax = quake_smart_seq2_bladder.visualize_latent(\"cell_type1\", scatter_kws=dict(rasterized=True))\n",
    "ax.get_figure().savefig(\"build/bladder/Quake_Smart-seq2_Bladder/cell_type1.svg\", dpi=utils.DPI, bbox_inches=\"tight\")"
   ]
  },
  {
   "cell_type": "code",
   "execution_count": null,
   "metadata": {
    "ExecuteTime": {
     "end_time": "2019-07-25T06:07:13.512809Z",
     "start_time": "2019-07-25T06:06:36.717105Z"
    }
   },
   "outputs": [],
   "source": [
    "ax = quake_smart_seq2_bladder.visualize_latent(\"cluster\", scatter_kws=dict(rasterized=True))\n",
    "ax.get_figure().savefig(\"build/bladder/Quake_Smart-seq2_Bladder/cluster.svg\", dpi=utils.DPI, bbox_inches=\"tight\")"
   ]
  },
  {
   "cell_type": "code",
   "execution_count": null,
   "metadata": {
    "ExecuteTime": {
     "end_time": "2019-07-25T06:07:13.512809Z",
     "start_time": "2019-07-25T06:06:36.717105Z"
    }
   },
   "outputs": [],
   "source": [
    "ax = quake_smart_seq2_bladder.visualize_latent(\"free_annotation\", scatter_kws=dict(rasterized=True))\n",
    "ax.get_figure().savefig(\"build/bladder/Quake_Smart-seq2_Bladder/free_annotation.svg\", dpi=utils.DPI, bbox_inches=\"tight\")"
   ]
  },
  {
   "cell_type": "code",
   "execution_count": null,
   "metadata": {
    "ExecuteTime": {
     "end_time": "2019-07-25T06:07:14.106054Z",
     "start_time": "2019-07-25T06:07:13.515335Z"
    }
   },
   "outputs": [],
   "source": [
    "ax = quake_smart_seq2_bladder.visualize_latent(\"donor\", scatter_kws=dict(rasterized=True))\n",
    "ax.get_figure().savefig(\"build/bladder/Quake_Smart-seq2_Bladder/donor.svg\", dpi=utils.DPI, bbox_inches=\"tight\")"
   ]
  },
  {
   "cell_type": "code",
   "execution_count": null,
   "metadata": {
    "ExecuteTime": {
     "end_time": "2019-07-25T06:07:14.640909Z",
     "start_time": "2019-07-25T06:07:14.108183Z"
    }
   },
   "outputs": [],
   "source": [
    "ax = quake_smart_seq2_bladder.visualize_latent(\"gender\", scatter_kws=dict(rasterized=True))\n",
    "ax.get_figure().savefig(\"build/bladder/Quake_Smart-seq2_Bladder/gender.svg\", dpi=utils.DPI, bbox_inches=\"tight\")"
   ]
  },
  {
   "cell_type": "code",
   "execution_count": null,
   "metadata": {},
   "outputs": [],
   "source": [
    "quake_smart_seq2_bladder.write_dataset(\"build/bladder/Quake_Smart-seq2_Bladder/Quake_Smart-seq2_Bladder.h5\")"
   ]
  },
  {
   "cell_type": "code",
   "execution_count": null,
   "metadata": {
    "ExecuteTime": {
     "end_time": "2019-07-25T06:11:10.143754Z",
     "start_time": "2019-07-25T06:07:14.642869Z"
    }
   },
   "outputs": [],
   "source": [
    "%%capture capio\n",
    "quake_smart_seq2_bladder_models = [quake_smart_seq2_bladder_model]\n",
    "opt_model_kwargs = dict(batch_effect=\"donor\")\n",
    "for i in range(1, cb.config.N_JOBS):\n",
    "    print(\"==== Model %d ====\" % i)\n",
    "    quake_smart_seq2_bladder_models.append(cb.directi.fit_DIRECTi(\n",
    "        quake_smart_seq2_bladder, quake_smart_seq2_bladder.uns[\"seurat_genes\"],\n",
    "        **fixed_model_kwargs, **opt_model_kwargs,\n",
    "        random_seed=i\n",
    "    ))\n",
    "quake_smart_seq2_bladder_blast = cb.blast.BLAST(\n",
    "    quake_smart_seq2_bladder_models, quake_smart_seq2_bladder, \n",
    ")\n",
    "quake_smart_seq2_bladder_blast.save(\"build/bladder/Quake_Smart-seq2_Bladder\")"
   ]
  },
  {
   "cell_type": "code",
   "execution_count": null,
   "metadata": {
    "ExecuteTime": {
     "end_time": "2019-07-25T06:11:10.152486Z",
     "start_time": "2019-07-25T06:11:10.146629Z"
    }
   },
   "outputs": [],
   "source": [
    "with open(\"build/bladder/Quake_Smart-seq2_Bladder/stdout.txt\", \"w\") as f:\n",
    "    f.write(capio.stdout)\n",
    "with open(\"build/bladder/Quake_Smart-seq2_Bladder/stderr.txt\", \"w\") as f:\n",
    "    f.write(capio.stderr)"
   ]
  },
  {
   "cell_type": "code",
   "execution_count": null,
   "metadata": {
    "ExecuteTime": {
     "end_time": "2019-07-25T06:11:24.871991Z",
     "start_time": "2019-07-25T06:11:10.154420Z"
    }
   },
   "outputs": [],
   "source": [
    "utils.self_projection(quake_smart_seq2_bladder_blast, \"build/bladder/Quake_Smart-seq2_Bladder\")"
   ]
  },
  {
   "cell_type": "code",
   "execution_count": null,
   "metadata": {},
   "outputs": [],
   "source": [
    "%%writefile \"build/bladder/Quake_Smart-seq2_Bladder/predictable.txt\"\n",
    "cell_ontology_class\n",
    "cell_type1\n",
    "cluster\n",
    "free_annotation"
   ]
  },
  {
   "cell_type": "markdown",
   "metadata": {},
   "source": [
    "## Mouse aligned"
   ]
  },
  {
   "cell_type": "code",
   "execution_count": null,
   "metadata": {
    "ExecuteTime": {
     "end_time": "2019-07-25T06:12:05.831624Z",
     "start_time": "2019-07-25T06:11:24.874670Z"
    }
   },
   "outputs": [],
   "source": [
    "os.makedirs(\"build/bladder/ALIGNED_Mus_musculus_Bladder\", exist_ok=True)\n",
    "#quake_smart_seq2_bladder.obs[\"quake_smart_seq2_bladder_donor\"] = \\\n",
    "#    quake_smart_seq2_bladder.obs[\"donor\"]\n",
    "#quake_10x_bladder.obs[\"quake_10x_bladder_donor\"] = \\\n",
    "#    quake_10x_bladder.obs[\"donor\"]\n",
    "mouse = cb.data.ExprDataSet.merge_datasets(dict(\n",
    "    quake_10x_bladder=quake_10x_bladder,\n",
    "    quake_smart_seq2_bladder=quake_smart_seq2_bladder\n",
    "), merge_uns_slots=[\"seurat_genes\"])"
   ]
  },
  {
   "cell_type": "code",
   "execution_count": null,
   "metadata": {
    "ExecuteTime": {
     "end_time": "2019-07-25T06:12:05.866471Z",
     "start_time": "2019-07-25T06:12:05.834050Z"
    }
   },
   "outputs": [],
   "source": [
    "mouse.obs.head()"
   ]
  },
  {
   "cell_type": "code",
   "execution_count": null,
   "metadata": {},
   "outputs": [],
   "source": [
    "mouse.obs.dtypes"
   ]
  },
  {
   "cell_type": "code",
   "execution_count": null,
   "metadata": {
    "ExecuteTime": {
     "end_time": "2019-07-25T06:13:59.984165Z",
     "start_time": "2019-07-25T06:12:05.871275Z"
    },
    "scrolled": true
   },
   "outputs": [],
   "source": [
    "opt_model_kwargs = dict(\n",
    "    batch_effect=[\"dataset_name\", \"donor\"],\n",
    "    #rmbatch_module=[\"MNNAdversarial\", \"Adversarial\", \"Adversarial\", \"Adversarial\"],\n",
    "    rmbatch_module_kwargs=dict(lambda_reg=0.01)\n",
    ")\n",
    "mouse_model = cb.directi.fit_DIRECTi(\n",
    "    mouse, mouse.uns[\"seurat_genes\"],\n",
    "    **fixed_model_kwargs, **opt_model_kwargs\n",
    ")\n",
    "mouse.latent = mouse_model.inference(mouse)"
   ]
  },
  {
   "cell_type": "code",
   "execution_count": null,
   "metadata": {
    "ExecuteTime": {
     "end_time": "2019-07-25T06:15:52.764527Z",
     "start_time": "2019-07-25T06:13:59.988341Z"
    }
   },
   "outputs": [],
   "source": [
    "ax = mouse.visualize_latent(\"cell_ontology_class\", scatter_kws=dict(rasterized=True))\n",
    "ax.get_figure().savefig(\"build/bladder/ALIGNED_Mus_musculus_Bladder/cell_ontology_class.svg\", dpi=utils.DPI, bbox_inches=\"tight\")"
   ]
  },
  {
   "cell_type": "code",
   "execution_count": null,
   "metadata": {
    "ExecuteTime": {
     "end_time": "2019-07-25T06:15:53.546281Z",
     "start_time": "2019-07-25T06:15:52.766753Z"
    }
   },
   "outputs": [],
   "source": [
    "ax = mouse.visualize_latent(\"dataset_name\", scatter_kws=dict(rasterized=True))\n",
    "ax.get_figure().savefig(\"build/bladder/ALIGNED_Mus_musculus_Bladder/dataset_name.svg\", dpi=utils.DPI, bbox_inches=\"tight\")"
   ]
  },
  {
   "cell_type": "code",
   "execution_count": null,
   "metadata": {
    "ExecuteTime": {
     "end_time": "2019-07-25T06:15:54.398196Z",
     "start_time": "2019-07-25T06:15:53.548080Z"
    }
   },
   "outputs": [],
   "source": [
    "ax = mouse.visualize_latent(\"donor\", scatter_kws=dict(rasterized=True))\n",
    "ax.get_figure().savefig(\"build/bladder/ALIGNED_Mus_musculus_Bladder/donor.svg\", dpi=utils.DPI, bbox_inches=\"tight\")"
   ]
  },
  {
   "cell_type": "code",
   "execution_count": null,
   "metadata": {
    "ExecuteTime": {
     "end_time": "2019-07-25T06:15:55.173527Z",
     "start_time": "2019-07-25T06:15:54.399971Z"
    }
   },
   "outputs": [],
   "source": [
    "ax = mouse.visualize_latent(\"gender\", scatter_kws=dict(rasterized=True))\n",
    "ax.get_figure().savefig(\"build/bladder/ALIGNED_Mus_musculus_Bladder/gender.svg\", dpi=utils.DPI, bbox_inches=\"tight\")"
   ]
  },
  {
   "cell_type": "code",
   "execution_count": null,
   "metadata": {},
   "outputs": [],
   "source": [
    "mouse.write_dataset(\"build/bladder/ALIGNED_Mus_musculus_Bladder/ALIGNED_Mus_musculus_Bladder.h5\")"
   ]
  },
  {
   "cell_type": "code",
   "execution_count": null,
   "metadata": {
    "ExecuteTime": {
     "end_time": "2019-07-25T06:21:33.651020Z",
     "start_time": "2019-07-25T06:15:55.175294Z"
    }
   },
   "outputs": [],
   "source": [
    "%%capture capio\n",
    "mouse_models = [mouse_model]\n",
    "opt_model_kwargs = dict(\n",
    "    batch_effect=[\"dataset_name\", \"donor\"],\n",
    "    #rmbatch_module=[\"MNNAdversarial\", \"Adversarial\", \"Adversarial\", \"Adversarial\"],\n",
    "    rmbatch_module_kwargs=dict(lambda_reg=0.01)\n",
    ")\n",
    "for i in range(1, cb.config.N_JOBS):\n",
    "    print(\"==== Model %d ====\" % i)\n",
    "    mouse_models.append(cb.directi.fit_DIRECTi(\n",
    "        mouse, mouse.uns[\"seurat_genes\"],\n",
    "        **fixed_model_kwargs, **opt_model_kwargs,\n",
    "        random_seed=i\n",
    "    ))\n",
    "mouse_blast = cb.blast.BLAST(mouse_models, mouse)\n",
    "mouse_blast.save(\"build/bladder/ALIGNED_Mus_musculus_Bladder\")"
   ]
  },
  {
   "cell_type": "code",
   "execution_count": null,
   "metadata": {
    "ExecuteTime": {
     "end_time": "2019-07-25T06:21:33.658526Z",
     "start_time": "2019-07-25T06:21:33.653815Z"
    }
   },
   "outputs": [],
   "source": [
    "with open(\"build/bladder/ALIGNED_Mus_musculus_Bladder/stdout.txt\", \"w\") as f:\n",
    "    f.write(capio.stdout)\n",
    "with open(\"build/bladder/ALIGNED_Mus_musculus_Bladder/stderr.txt\", \"w\") as f:\n",
    "    f.write(capio.stderr)"
   ]
  },
  {
   "cell_type": "code",
   "execution_count": null,
   "metadata": {
    "ExecuteTime": {
     "end_time": "2019-07-25T06:22:16.186117Z",
     "start_time": "2019-07-25T06:21:33.660028Z"
    }
   },
   "outputs": [],
   "source": [
    "utils.self_projection(mouse_blast, \"build/bladder/ALIGNED_Mus_musculus_Bladder\")"
   ]
  },
  {
   "cell_type": "code",
   "execution_count": null,
   "metadata": {},
   "outputs": [],
   "source": [
    "%%writefile \"build/bladder/ALIGNED_Mus_musculus_Bladder/predictable.txt\"\n",
    "cell_ontology_class"
   ]
  }
 ],
 "metadata": {
  "kernelspec": {
   "display_name": "Python 3",
   "language": "python",
   "name": "python3"
  },
  "language_info": {
   "codemirror_mode": {
    "name": "ipython",
    "version": 3
   },
   "file_extension": ".py",
   "mimetype": "text/x-python",
   "name": "python",
   "nbconvert_exporter": "python",
   "pygments_lexer": "ipython3",
   "version": "3.6.8"
  },
  "toc": {
   "base_numbering": 1,
   "nav_menu": {},
   "number_sections": true,
   "sideBar": true,
   "skip_h1_title": false,
   "title_cell": "Table of Contents",
   "title_sidebar": "Contents",
   "toc_cell": false,
   "toc_position": {},
   "toc_section_display": true,
   "toc_window_display": false
  },
  "varInspector": {
   "cols": {
    "lenName": 16,
    "lenType": 16,
    "lenVar": 40
   },
   "kernels_config": {
    "python": {
     "delete_cmd_postfix": "",
     "delete_cmd_prefix": "del ",
     "library": "var_list.py",
     "varRefreshCmd": "print(var_dic_list())"
    },
    "r": {
     "delete_cmd_postfix": ") ",
     "delete_cmd_prefix": "rm(",
     "library": "var_list.r",
     "varRefreshCmd": "cat(var_dic_list()) "
    }
   },
   "types_to_exclude": [
    "module",
    "function",
    "builtin_function_or_method",
    "instance",
    "_Feature"
   ],
   "window_display": false
  }
 },
 "nbformat": 4,
 "nbformat_minor": 2
}
