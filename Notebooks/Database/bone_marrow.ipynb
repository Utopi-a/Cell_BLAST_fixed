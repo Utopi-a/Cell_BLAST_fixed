{
 "cells": [
  {
   "cell_type": "code",
   "execution_count": null,
   "metadata": {},
   "outputs": [],
   "source": [
    "import os\n",
    "import Cell_BLAST as cb\n",
    "import utils\n",
    "os.environ[\"CUDA_VISIBLE_DEVICES\"] = utils.pick_gpu_lowest_memory()\n",
    "cb.config.RANDOM_SEED = 0\n",
    "cb.config.N_JOBS = 4\n",
    "fixed_model_kwargs = dict(\n",
    "    latent_dim=10,\n",
    "    epoch=500, patience=20\n",
    ")"
   ]
  },
  {
   "cell_type": "code",
   "execution_count": null,
   "metadata": {},
   "outputs": [],
   "source": [
    "cb.__version__"
   ]
  },
  {
   "cell_type": "markdown",
   "metadata": {
    "ExecuteTime": {
     "end_time": "2019-07-25T05:38:44.574226Z",
     "start_time": "2019-07-25T05:38:44.567807Z"
    }
   },
   "source": [
    "---"
   ]
  },
  {
   "cell_type": "markdown",
   "metadata": {},
   "source": [
    "\n",
    "# Mouse\n"
   ]
  },
  {
   "cell_type": "markdown",
   "metadata": {},
   "source": [
    "## Quake_10x_Bone_Marrow"
   ]
  },
  {
   "cell_type": "code",
   "execution_count": null,
   "metadata": {},
   "outputs": [],
   "source": [
    "quake_10x_bone_marrow = cb.data.ExprDataSet.read_dataset(\"../../Datasets/data/Quake_10x_Bone_Marrow/data.h5\")\n",
    "utils.peek(quake_10x_bone_marrow, \"build/bone_marrow/Quake_10x_Bone_Marrow\")\n",
    "quake_10x_bone_marrow.obs.head()"
   ]
  },
  {
   "cell_type": "code",
   "execution_count": null,
   "metadata": {},
   "outputs": [],
   "source": [
    "quake_10x_bone_marrow.obs[\"cluster\"] = \"cluster_\" + quake_10x_bone_marrow.obs[\"cluster\"].astype(int).astype(str)\n",
    "quake_10x_bone_marrow.obs.dtypes"
   ]
  },
  {
   "cell_type": "code",
   "execution_count": null,
   "metadata": {
    "scrolled": true
   },
   "outputs": [],
   "source": [
    "opt_model_kwargs = dict(batch_effect=\"donor\", cat_dim=20)\n",
    "quake_10x_bone_marrow_model = cb.directi.fit_DIRECTi(\n",
    "    quake_10x_bone_marrow, quake_10x_bone_marrow.uns[\"seurat_genes\"],\n",
    "    **fixed_model_kwargs, **opt_model_kwargs\n",
    ")\n",
    "quake_10x_bone_marrow.latent = quake_10x_bone_marrow_model.inference(quake_10x_bone_marrow)"
   ]
  },
  {
   "cell_type": "code",
   "execution_count": null,
   "metadata": {},
   "outputs": [],
   "source": [
    "ax = quake_10x_bone_marrow.visualize_latent(\"cell_ontology_class\", scatter_kws=dict(rasterized=True))\n",
    "ax.get_figure().savefig(\"build/bone_marrow/Quake_10x_Bone_Marrow/cell_ontology_class.svg\", dpi=utils.DPI, bbox_inches=\"tight\")"
   ]
  },
  {
   "cell_type": "code",
   "execution_count": null,
   "metadata": {},
   "outputs": [],
   "source": [
    "ax = quake_10x_bone_marrow.visualize_latent(\"cell_type1\", scatter_kws=dict(rasterized=True))\n",
    "ax.get_figure().savefig(\"build/bone_marrow/Quake_10x_Bone_Marrow/cell_type1.svg\", dpi=utils.DPI, bbox_inches=\"tight\")"
   ]
  },
  {
   "cell_type": "code",
   "execution_count": null,
   "metadata": {},
   "outputs": [],
   "source": [
    "ax = quake_10x_bone_marrow.visualize_latent(\"cluster\", scatter_kws=dict(rasterized=True))\n",
    "ax.get_figure().savefig(\"build/bone_marrow/Quake_10x_Bone_Marrow/cluster.svg\", dpi=utils.DPI, bbox_inches=\"tight\")"
   ]
  },
  {
   "cell_type": "code",
   "execution_count": null,
   "metadata": {
    "scrolled": false
   },
   "outputs": [],
   "source": [
    "ax = quake_10x_bone_marrow.visualize_latent(\"donor\", scatter_kws=dict(rasterized=True))\n",
    "ax.get_figure().savefig(\"build/bone_marrow/Quake_10x_Bone_Marrow/donor.svg\", dpi=utils.DPI, bbox_inches=\"tight\")"
   ]
  },
  {
   "cell_type": "code",
   "execution_count": null,
   "metadata": {},
   "outputs": [],
   "source": [
    "ax = quake_10x_bone_marrow.visualize_latent(\"gender\", scatter_kws=dict(rasterized=True))\n",
    "ax.get_figure().savefig(\"build/bone_marrow/Quake_10x_Bone_Marrow/gender.svg\", dpi=utils.DPI, bbox_inches=\"tight\")"
   ]
  },
  {
   "cell_type": "code",
   "execution_count": null,
   "metadata": {},
   "outputs": [],
   "source": [
    "quake_10x_bone_marrow.write_dataset(\"build/bone_marrow/Quake_10x_Bone_Marrow/Quake_10x_Bone_Marrow.h5\")"
   ]
  },
  {
   "cell_type": "code",
   "execution_count": null,
   "metadata": {},
   "outputs": [],
   "source": [
    "%%capture capio\n",
    "quake_10x_bone_marrow_models = [quake_10x_bone_marrow_model]\n",
    "for i in range(1, cb.config.N_JOBS):\n",
    "    print(\"==== Model %d ====\" % i)\n",
    "    quake_10x_bone_marrow_models.append(cb.directi.fit_DIRECTi(\n",
    "        quake_10x_bone_marrow, quake_10x_bone_marrow.uns[\"seurat_genes\"],\n",
    "        **fixed_model_kwargs, **opt_model_kwargs,\n",
    "        random_seed=i\n",
    "    ))\n",
    "quake_10x_bone_marrow_blast = cb.blast.BLAST(\n",
    "    quake_10x_bone_marrow_models, quake_10x_bone_marrow, \n",
    ")\n",
    "quake_10x_bone_marrow_blast.save(\"build/bone_marrow/Quake_10x_Bone_Marrow\")"
   ]
  },
  {
   "cell_type": "code",
   "execution_count": null,
   "metadata": {},
   "outputs": [],
   "source": [
    "with open(\"build/bone_marrow/Quake_10x_Bone_Marrow/stdout.txt\", \"w\") as f:\n",
    "    f.write(capio.stdout)\n",
    "with open(\"build/bone_marrow/Quake_10x_Bone_Marrow/stderr.txt\", \"w\") as f:\n",
    "    f.write(capio.stderr)"
   ]
  },
  {
   "cell_type": "code",
   "execution_count": null,
   "metadata": {},
   "outputs": [],
   "source": [
    "utils.self_projection(quake_10x_bone_marrow_blast, \"build/bone_marrow/Quake_10x_Bone_Marrow\")"
   ]
  },
  {
   "cell_type": "code",
   "execution_count": null,
   "metadata": {},
   "outputs": [],
   "source": [
    "%%writefile build/bone_marrow/Quake_10x_Bone_Marrow/predictable.txt\n",
    "cell_ontology_class\n",
    "cell_type1\n",
    "cluster"
   ]
  },
  {
   "cell_type": "markdown",
   "metadata": {},
   "source": [
    "## Quake_Smart-seq2_Bone_Marrow"
   ]
  },
  {
   "cell_type": "code",
   "execution_count": null,
   "metadata": {},
   "outputs": [],
   "source": [
    "quake_smart_seq2_bone_marrow = cb.data.ExprDataSet.read_dataset(\"../../Datasets/data/Quake_Smart-seq2_Bone_Marrow/data.h5\")\n",
    "utils.peek(quake_smart_seq2_bone_marrow, \"build/bone_marrow/Quake_Smart-seq2_Bone_Marrow\")\n",
    "quake_smart_seq2_bone_marrow.obs.head()"
   ]
  },
  {
   "cell_type": "code",
   "execution_count": null,
   "metadata": {},
   "outputs": [],
   "source": [
    "quake_smart_seq2_bone_marrow.obs[\"cluster\"] = \"cluster_\" + quake_smart_seq2_bone_marrow.obs[\"cluster\"].astype(int).astype(str)\n",
    "quake_smart_seq2_bone_marrow.obs.dtypes"
   ]
  },
  {
   "cell_type": "code",
   "execution_count": null,
   "metadata": {
    "scrolled": true
   },
   "outputs": [],
   "source": [
    "opt_model_kwargs = dict(batch_effect=\"donor\",  cat_dim=20)\n",
    "quake_smart_seq2_bone_marrow_model = cb.directi.fit_DIRECTi(\n",
    "    quake_smart_seq2_bone_marrow, quake_smart_seq2_bone_marrow.uns[\"seurat_genes\"],\n",
    "    **fixed_model_kwargs, **opt_model_kwargs\n",
    ")\n",
    "quake_smart_seq2_bone_marrow.latent = quake_smart_seq2_bone_marrow_model.inference(quake_smart_seq2_bone_marrow)"
   ]
  },
  {
   "cell_type": "code",
   "execution_count": null,
   "metadata": {},
   "outputs": [],
   "source": [
    "ax = quake_smart_seq2_bone_marrow.visualize_latent(\"cell_ontology_class\", scatter_kws=dict(rasterized=True))\n",
    "ax.get_figure().savefig(\"build/bone_marrow/Quake_Smart-seq2_Bone_Marrow/cell_ontology_class.svg\", dpi=utils.DPI, bbox_inches=\"tight\")"
   ]
  },
  {
   "cell_type": "code",
   "execution_count": null,
   "metadata": {},
   "outputs": [],
   "source": [
    "ax = quake_smart_seq2_bone_marrow.visualize_latent(\"cell_type1\", scatter_kws=dict(rasterized=True))\n",
    "ax.get_figure().savefig(\"build/bone_marrow/Quake_Smart-seq2_Bone_Marrow/cell_type1.svg\", dpi=utils.DPI, bbox_inches=\"tight\")"
   ]
  },
  {
   "cell_type": "code",
   "execution_count": null,
   "metadata": {},
   "outputs": [],
   "source": [
    "ax = quake_smart_seq2_bone_marrow.visualize_latent(\"cluster\", scatter_kws=dict(rasterized=True))\n",
    "ax.get_figure().savefig(\"build/bone_marrow/Quake_Smart-seq2_Bone_Marrow/cluster.svg\", dpi=utils.DPI, bbox_inches=\"tight\")"
   ]
  },
  {
   "cell_type": "code",
   "execution_count": null,
   "metadata": {},
   "outputs": [],
   "source": [
    "ax = quake_smart_seq2_bone_marrow.visualize_latent(\"free_annotation\", scatter_kws=dict(rasterized=True))\n",
    "ax.get_figure().savefig(\"build/bone_marrow/Quake_Smart-seq2_Bone_Marrow/free_annotation.svg\", dpi=utils.DPI, bbox_inches=\"tight\")"
   ]
  },
  {
   "cell_type": "code",
   "execution_count": null,
   "metadata": {},
   "outputs": [],
   "source": [
    "ax = quake_smart_seq2_bone_marrow.visualize_latent(\"donor\", scatter_kws=dict(rasterized=True))\n",
    "ax.get_figure().savefig(\"build/bone_marrow/Quake_Smart-seq2_Bone_Marrow/donor.svg\", dpi=utils.DPI, bbox_inches=\"tight\")"
   ]
  },
  {
   "cell_type": "code",
   "execution_count": null,
   "metadata": {},
   "outputs": [],
   "source": [
    "ax = quake_smart_seq2_bone_marrow.visualize_latent(\"gender\", scatter_kws=dict(rasterized=True))\n",
    "ax.get_figure().savefig(\"build/bone_marrow/Quake_Smart-seq2_Bone_Marrow/gender.svg\", dpi=utils.DPI, bbox_inches=\"tight\")"
   ]
  },
  {
   "cell_type": "code",
   "execution_count": null,
   "metadata": {},
   "outputs": [],
   "source": [
    "quake_smart_seq2_bone_marrow.write_dataset(\"build/bone_marrow/Quake_Smart-seq2_Bone_Marrow/Quake_Smart-seq2_Bone_Marrow.h5\")"
   ]
  },
  {
   "cell_type": "code",
   "execution_count": null,
   "metadata": {},
   "outputs": [],
   "source": [
    "%%capture capio\n",
    "quake_smart_seq2_bone_marrow_models = [quake_smart_seq2_bone_marrow_model]\n",
    "for i in range(1, cb.config.N_JOBS):\n",
    "    print(\"==== Model %d ====\" % i)\n",
    "    quake_smart_seq2_bone_marrow_models.append(cb.directi.fit_DIRECTi(\n",
    "        quake_smart_seq2_bone_marrow, quake_smart_seq2_bone_marrow.uns[\"seurat_genes\"],\n",
    "        **fixed_model_kwargs, **opt_model_kwargs,\n",
    "        random_seed=i\n",
    "    ))\n",
    "quake_smart_seq2_bone_marrow_blast = cb.blast.BLAST(\n",
    "    quake_smart_seq2_bone_marrow_models, quake_smart_seq2_bone_marrow, \n",
    ")\n",
    "quake_smart_seq2_bone_marrow_blast.save(\"build/bone_marrow/Quake_Smart-seq2_Bone_Marrow\")"
   ]
  },
  {
   "cell_type": "code",
   "execution_count": null,
   "metadata": {},
   "outputs": [],
   "source": [
    "with open(\"build/bone_marrow/Quake_Smart-seq2_Bone_Marrow/stdout.txt\", \"w\") as f:\n",
    "    f.write(capio.stdout)\n",
    "with open(\"build/bone_marrow/Quake_Smart-seq2_Bone_Marrow/stderr.txt\", \"w\") as f:\n",
    "    f.write(capio.stderr)"
   ]
  },
  {
   "cell_type": "code",
   "execution_count": null,
   "metadata": {},
   "outputs": [],
   "source": [
    "utils.self_projection(quake_smart_seq2_bone_marrow_blast, \"build/bone_marrow/Quake_Smart-seq2_Bone_Marrow\")"
   ]
  },
  {
   "cell_type": "code",
   "execution_count": null,
   "metadata": {},
   "outputs": [],
   "source": [
    "%%writefile build/bone_marrow/Quake_Smart-seq2_Bone_Marrow/predictable.txt\n",
    "cell_ontology_class\n",
    "cell_type1\n",
    "cluster\n",
    "free_annotation"
   ]
  },
  {
   "cell_type": "markdown",
   "metadata": {},
   "source": [
    "## Mouse aligned (discrete cell type)"
   ]
  },
  {
   "cell_type": "code",
   "execution_count": null,
   "metadata": {},
   "outputs": [],
   "source": [
    "if not os.path.exists(\"build/bone_marrow/ALIGNED_Mus_musculus_Bone_Marrow\"):\n",
    "    os.makedirs(\"build/bone_marrow/ALIGNED_Mus_musculus_Bone_Marrow\")\n",
    "quake_smart_seq2_bone_marrow.obs[\"quake_smart_seq2_bone_marrow_donor\"] = \\\n",
    "    quake_smart_seq2_bone_marrow.obs[\"donor\"]\n",
    "quake_10x_bone_marrow.obs[\"quake_10x_bone_marrow_donor\"] = \\\n",
    "    quake_10x_bone_marrow.obs[\"donor\"]\n",
    "mouse = cb.data.ExprDataSet.merge_datasets(dict(\n",
    "    quake_10x_bone_marrow=quake_10x_bone_marrow,\n",
    "    quake_smart_seq2_bone_marrow=quake_smart_seq2_bone_marrow\n",
    "), merge_uns_slots=[\"seurat_genes\"])"
   ]
  },
  {
   "cell_type": "code",
   "execution_count": null,
   "metadata": {},
   "outputs": [],
   "source": [
    "mouse.obs.head()"
   ]
  },
  {
   "cell_type": "code",
   "execution_count": null,
   "metadata": {},
   "outputs": [],
   "source": [
    "mouse.obs.dtypes"
   ]
  },
  {
   "cell_type": "code",
   "execution_count": null,
   "metadata": {},
   "outputs": [],
   "source": [
    "opt_model_kwargs = dict(\n",
    "    batch_effect=[\"dataset_name\", \"quake_smart_seq2_bone_marrow_donor\", \"quake_10x_bone_marrow_donor\"],\n",
    "    #rmbatch_module=[\"MNNAdversarial\", \"Adversarial\", \"Adversarial\", \"Adversarial\"],\n",
    "    rmbatch_module_kwargs=dict(lambda_reg=0.01),\n",
    "    cat_dim=20\n",
    ")  # Many batch effects are being aligned, decrease regularization strength accordingly\n",
    "mouse_model = cb.directi.fit_DIRECTi(\n",
    "    mouse, mouse.uns[\"seurat_genes\"],\n",
    "    **fixed_model_kwargs, **opt_model_kwargs\n",
    ")\n",
    "mouse.latent = mouse_model.inference(mouse)"
   ]
  },
  {
   "cell_type": "code",
   "execution_count": null,
   "metadata": {},
   "outputs": [],
   "source": [
    "ax = mouse.visualize_latent(\"cell_ontology_class\", scatter_kws=dict(rasterized=True))\n",
    "ax.get_figure().savefig(\"build/bone_marrow/ALIGNED_Mus_musculus_Bone_Marrow/cell_ontology_class.svg\", dpi=utils.DPI, bbox_inches=\"tight\")"
   ]
  },
  {
   "cell_type": "code",
   "execution_count": null,
   "metadata": {},
   "outputs": [],
   "source": [
    "ax = mouse.visualize_latent(\"dataset_name\", scatter_kws=dict(rasterized=True))\n",
    "ax.get_figure().savefig(\"build/bone_marrow/ALIGNED_Mus_musculus_Bone_Marrow/dataset_name.svg\", dpi=utils.DPI, bbox_inches=\"tight\")"
   ]
  },
  {
   "cell_type": "code",
   "execution_count": null,
   "metadata": {},
   "outputs": [],
   "source": [
    "ax = mouse.visualize_latent(\"donor\", scatter_kws=dict(rasterized=True))\n",
    "ax.get_figure().savefig(\"build/bone_marrow/ALIGNED_Mus_musculus_Bone_Marrow/donor.svg\", dpi=utils.DPI, bbox_inches=\"tight\")"
   ]
  },
  {
   "cell_type": "code",
   "execution_count": null,
   "metadata": {},
   "outputs": [],
   "source": [
    "ax = mouse.visualize_latent(\"gender\", scatter_kws=dict(rasterized=True))\n",
    "ax.get_figure().savefig(\"build/bone_marrow/ALIGNED_Mus_musculus_Bone_Marrow/gender.svg\", dpi=utils.DPI, bbox_inches=\"tight\")"
   ]
  },
  {
   "cell_type": "code",
   "execution_count": null,
   "metadata": {},
   "outputs": [],
   "source": [
    "mouse.write_dataset(\"build/bone_marrow/ALIGNED_Mus_musculus_Bone_Marrow/ALIGNED_Mus_musculus_Bone_Marrow.h5\")"
   ]
  },
  {
   "cell_type": "code",
   "execution_count": null,
   "metadata": {},
   "outputs": [],
   "source": [
    "%%capture capio\n",
    "mouse_models = [mouse_model]\n",
    "for i in range(1, cb.config.N_JOBS):\n",
    "    print(\"==== Model %d ====\" % i)\n",
    "    mouse_models.append(cb.directi.fit_DIRECTi(\n",
    "        mouse, mouse.uns[\"seurat_genes\"],\n",
    "        **fixed_model_kwargs, **opt_model_kwargs,\n",
    "        random_seed=i\n",
    "    ))\n",
    "mouse_blast = cb.blast.BLAST(mouse_models, mouse)\n",
    "mouse_blast.save(\"build/bone_marrow/ALIGNED_Mus_musculus_Bone_Marrow\")"
   ]
  },
  {
   "cell_type": "code",
   "execution_count": null,
   "metadata": {},
   "outputs": [],
   "source": [
    "with open(\"build/bone_marrow/ALIGNED_Mus_musculus_Bone_Marrow/stdout.txt\", \"w\") as f:\n",
    "    f.write(capio.stdout)\n",
    "with open(\"build/bone_marrow/ALIGNED_Mus_musculus_Bone_Marrow/stderr.txt\", \"w\") as f:\n",
    "    f.write(capio.stderr)"
   ]
  },
  {
   "cell_type": "code",
   "execution_count": null,
   "metadata": {},
   "outputs": [],
   "source": [
    "utils.self_projection(mouse_blast, \"build/bone_marrow/ALIGNED_Mus_musculus_Bone_Marrow\")"
   ]
  },
  {
   "cell_type": "code",
   "execution_count": null,
   "metadata": {},
   "outputs": [],
   "source": [
    "%%writefile build/bone_marrow/ALIGNED_Mus_musculus_Bone_Marrow/predictable.txt\n",
    "cell_ontology_class"
   ]
  },
  {
   "cell_type": "markdown",
   "metadata": {},
   "source": [
    "## Dahlin_10x"
   ]
  },
  {
   "cell_type": "code",
   "execution_count": null,
   "metadata": {},
   "outputs": [],
   "source": [
    "dahlin_10x = cb.data.ExprDataSet.read_dataset(\"../../Datasets/data/Dahlin_10x/data.h5\")\n",
    "utils.peek(dahlin_10x, \"build/bone_marrow/Dahlin_10x\")\n",
    "dahlin_10x.obs.head()"
   ]
  },
  {
   "cell_type": "code",
   "execution_count": null,
   "metadata": {},
   "outputs": [],
   "source": [
    "dahlin_10x.obs.dtypes"
   ]
  },
  {
   "cell_type": "code",
   "execution_count": null,
   "metadata": {
    "scrolled": true
   },
   "outputs": [],
   "source": [
    "opt_model_kwargs = dict(h_dim=512)\n",
    "dahlin_10x_model = cb.directi.fit_DIRECTi(\n",
    "    dahlin_10x, dahlin_10x.uns[\"seurat_genes\"],\n",
    "    **fixed_model_kwargs, **opt_model_kwargs\n",
    ")\n",
    "dahlin_10x.latent = dahlin_10x_model.inference(dahlin_10x)"
   ]
  },
  {
   "cell_type": "code",
   "execution_count": null,
   "metadata": {},
   "outputs": [],
   "source": [
    "ax = dahlin_10x.visualize_latent(\"cell_ontology_class\", method=\"UMAP\", scatter_kws=dict(rasterized=True))\n",
    "ax.get_figure().savefig(\"build/bone_marrow/Dahlin_10x/cell_ontology_class.svg\", dpi=utils.DPI, bbox_inches=\"tight\")"
   ]
  },
  {
   "cell_type": "code",
   "execution_count": null,
   "metadata": {},
   "outputs": [],
   "source": [
    "ax = dahlin_10x.visualize_latent(\"cell_type1\", method=\"UMAP\", scatter_kws=dict(rasterized=True))\n",
    "ax.get_figure().savefig(\"build/bone_marrow/Dahlin_10x/cell_type1.svg\", dpi=utils.DPI, bbox_inches=\"tight\")"
   ]
  },
  {
   "cell_type": "code",
   "execution_count": null,
   "metadata": {},
   "outputs": [],
   "source": [
    "ax = dahlin_10x.visualize_latent(\"Procr\", method=\"UMAP\", sort=True, scatter_kws=dict(rasterized=True))"
   ]
  },
  {
   "cell_type": "code",
   "execution_count": null,
   "metadata": {},
   "outputs": [],
   "source": [
    "ax = dahlin_10x.visualize_latent(\"Klf1\", method=\"UMAP\", sort=True, scatter_kws=dict(rasterized=True))"
   ]
  },
  {
   "cell_type": "code",
   "execution_count": null,
   "metadata": {},
   "outputs": [],
   "source": [
    "ax = dahlin_10x.visualize_latent(\"Pf4\", method=\"UMAP\", sort=True, scatter_kws=dict(rasterized=True))"
   ]
  },
  {
   "cell_type": "code",
   "execution_count": null,
   "metadata": {},
   "outputs": [],
   "source": [
    "ax = dahlin_10x.visualize_latent(\"Dntt\", method=\"UMAP\", scatter_kws=dict(rasterized=True))"
   ]
  },
  {
   "cell_type": "code",
   "execution_count": null,
   "metadata": {},
   "outputs": [],
   "source": [
    "ax = dahlin_10x.visualize_latent(\"Irf8\", method=\"UMAP\", scatter_kws=dict(rasterized=True))"
   ]
  },
  {
   "cell_type": "code",
   "execution_count": null,
   "metadata": {},
   "outputs": [],
   "source": [
    "ax = dahlin_10x.visualize_latent(\"Gzmb\", method=\"UMAP\", scatter_kws=dict(rasterized=True))"
   ]
  },
  {
   "cell_type": "code",
   "execution_count": null,
   "metadata": {},
   "outputs": [],
   "source": [
    "ax = dahlin_10x.visualize_latent(\"Prss34\", method=\"UMAP\", scatter_kws=dict(rasterized=True))"
   ]
  },
  {
   "cell_type": "code",
   "execution_count": null,
   "metadata": {},
   "outputs": [],
   "source": [
    "dahlin_10x.write_dataset(\"build/bone_marrow/Dahlin_10x/Dahlin_10x.h5\")"
   ]
  },
  {
   "cell_type": "code",
   "execution_count": null,
   "metadata": {},
   "outputs": [],
   "source": [
    "%%capture capio\n",
    "dahlin_10x_models = [dahlin_10x_model]\n",
    "for i in range(1, cb.config.N_JOBS):\n",
    "    print(\"==== Model %d ====\" % i)\n",
    "    dahlin_10x_models.append(cb.directi.fit_DIRECTi(\n",
    "        dahlin_10x, dahlin_10x.uns[\"seurat_genes\"],\n",
    "        **fixed_model_kwargs, **opt_model_kwargs,\n",
    "        random_seed=i\n",
    "    ))\n",
    "dahlin_10x_blast = cb.blast.BLAST(dahlin_10x_models, dahlin_10x)\n",
    "dahlin_10x_blast.save(\"build/bone_marrow/Dahlin_10x\")"
   ]
  },
  {
   "cell_type": "code",
   "execution_count": null,
   "metadata": {},
   "outputs": [],
   "source": [
    "with open(\"build/bone_marrow/Dahlin_10x/stdout.txt\", \"w\") as f:\n",
    "    f.write(capio.stdout)\n",
    "with open(\"build/bone_marrow/Dahlin_10x/stderr.txt\", \"w\") as f:\n",
    "    f.write(capio.stderr)"
   ]
  },
  {
   "cell_type": "code",
   "execution_count": null,
   "metadata": {},
   "outputs": [],
   "source": [
    "utils.self_projection(dahlin_10x_blast, \"build/bone_marrow/Dahlin_10x\")"
   ]
  },
  {
   "cell_type": "code",
   "execution_count": null,
   "metadata": {},
   "outputs": [],
   "source": [
    "%%writefile build/bone_marrow/Dahlin_10x/predictable.txt\n",
    "cell_ontology_class\n",
    "cell_type1"
   ]
  },
  {
   "cell_type": "markdown",
   "metadata": {},
   "source": [
    "## Dahlin_mutant"
   ]
  },
  {
   "cell_type": "code",
   "execution_count": null,
   "metadata": {},
   "outputs": [],
   "source": [
    "dahlin_mutant = cb.data.ExprDataSet.read_dataset(\"../../Datasets/data/Dahlin_mutant/data.h5\")\n",
    "utils.peek(dahlin_mutant, \"build/bone_marrow/Dahlin_mutant\")\n",
    "dahlin_mutant.obs.head()"
   ]
  },
  {
   "cell_type": "code",
   "execution_count": null,
   "metadata": {},
   "outputs": [],
   "source": [
    "dahlin_mutant.obs.dtypes"
   ]
  },
  {
   "cell_type": "code",
   "execution_count": null,
   "metadata": {
    "scrolled": true
   },
   "outputs": [],
   "source": [
    "opt_model_kwargs = dict(h_dim=512)\n",
    "dahlin_mutant_model = cb.directi.fit_DIRECTi(\n",
    "    dahlin_mutant, dahlin_mutant.uns[\"seurat_genes\"],\n",
    "    **fixed_model_kwargs, **opt_model_kwargs\n",
    ")\n",
    "dahlin_mutant.latent = dahlin_mutant_model.inference(dahlin_mutant)"
   ]
  },
  {
   "cell_type": "code",
   "execution_count": null,
   "metadata": {},
   "outputs": [],
   "source": [
    "ax = dahlin_mutant.visualize_latent(\"cell_ontology_class\", method=\"UMAP\", scatter_kws=dict(rasterized=True))\n",
    "ax.get_figure().savefig(\"build/bone_marrow/Dahlin_mutant/cell_ontology_class.svg\", dpi=utils.DPI, bbox_inches=\"tight\")"
   ]
  },
  {
   "cell_type": "code",
   "execution_count": null,
   "metadata": {},
   "outputs": [],
   "source": [
    "ax = dahlin_mutant.visualize_latent(\"cell_type1\", method=\"UMAP\", scatter_kws=dict(rasterized=True))\n",
    "ax.get_figure().savefig(\"build/bone_marrow/Dahlin_mutant/cell_type1.svg\", dpi=utils.DPI, bbox_inches=\"tight\")"
   ]
  },
  {
   "cell_type": "code",
   "execution_count": null,
   "metadata": {},
   "outputs": [],
   "source": [
    "ax = dahlin_mutant.visualize_latent(\"Procr\", method=\"UMAP\", sort=True, scatter_kws=dict(rasterized=True))"
   ]
  },
  {
   "cell_type": "code",
   "execution_count": null,
   "metadata": {},
   "outputs": [],
   "source": [
    "ax = dahlin_mutant.visualize_latent(\"Klf1\", method=\"UMAP\", sort=True, scatter_kws=dict(rasterized=True))"
   ]
  },
  {
   "cell_type": "code",
   "execution_count": null,
   "metadata": {},
   "outputs": [],
   "source": [
    "ax = dahlin_mutant.visualize_latent(\"Dntt\", method=\"UMAP\", sort=True, scatter_kws=dict(rasterized=True))"
   ]
  },
  {
   "cell_type": "code",
   "execution_count": null,
   "metadata": {},
   "outputs": [],
   "source": [
    "ax = dahlin_mutant.visualize_latent(\"Irf8\", method=\"UMAP\", sort=True, scatter_kws=dict(rasterized=True))"
   ]
  },
  {
   "cell_type": "code",
   "execution_count": null,
   "metadata": {},
   "outputs": [],
   "source": [
    "ax = dahlin_mutant.visualize_latent(\"Gzmb\", method=\"UMAP\", sort=True, scatter_kws=dict(rasterized=True))"
   ]
  },
  {
   "cell_type": "code",
   "execution_count": null,
   "metadata": {},
   "outputs": [],
   "source": [
    "ax = dahlin_mutant.visualize_latent(\"Prss34\", method=\"UMAP\", sort=True, scatter_kws=dict(rasterized=True))"
   ]
  },
  {
   "cell_type": "code",
   "execution_count": null,
   "metadata": {},
   "outputs": [],
   "source": [
    "dahlin_mutant.write_dataset(\"build/bone_marrow/Dahlin_mutant/Dahlin_mutant.h5\")"
   ]
  },
  {
   "cell_type": "code",
   "execution_count": null,
   "metadata": {},
   "outputs": [],
   "source": [
    "%%capture capio\n",
    "dahlin_mutant_models = [dahlin_mutant_model]\n",
    "for i in range(1, cb.config.N_JOBS):\n",
    "    print(\"==== Model %d ====\" % i)\n",
    "    dahlin_mutant_models.append(cb.directi.fit_DIRECTi(\n",
    "        dahlin_mutant, dahlin_mutant.uns[\"seurat_genes\"],\n",
    "        **fixed_model_kwargs, **opt_model_kwargs,\n",
    "        random_seed=i\n",
    "    ))\n",
    "dahlin_mutant_blast = cb.blast.BLAST(dahlin_mutant_models, dahlin_mutant)\n",
    "dahlin_mutant_blast.save(\"build/bone_marrow/Dahlin_mutant\")"
   ]
  },
  {
   "cell_type": "code",
   "execution_count": null,
   "metadata": {},
   "outputs": [],
   "source": [
    "with open(\"build/bone_marrow/Dahlin_mutant/stdout.txt\", \"w\") as f:\n",
    "    f.write(capio.stdout)\n",
    "with open(\"build/bone_marrow/Dahlin_mutant/stderr.txt\", \"w\") as f:\n",
    "    f.write(capio.stderr)"
   ]
  },
  {
   "cell_type": "code",
   "execution_count": null,
   "metadata": {},
   "outputs": [],
   "source": [
    "utils.self_projection(dahlin_mutant_blast, \"build/bone_marrow/Dahlin_mutant\")"
   ]
  },
  {
   "cell_type": "code",
   "execution_count": null,
   "metadata": {},
   "outputs": [],
   "source": [
    "%%writefile build/bone_marrow/Dahlin_mutant/predictable.txt\n",
    "cell_ontology_class\n",
    "cell_type1"
   ]
  },
  {
   "cell_type": "markdown",
   "metadata": {},
   "source": [
    "## Tusi"
   ]
  },
  {
   "cell_type": "code",
   "execution_count": null,
   "metadata": {},
   "outputs": [],
   "source": [
    "tusi = cb.data.ExprDataSet.read_dataset(\"../../Datasets/data/Tusi/data.h5\")\n",
    "utils.peek(tusi, \"build/bone_marrow/Tusi\")\n",
    "tusi.obs.head()"
   ]
  },
  {
   "cell_type": "code",
   "execution_count": null,
   "metadata": {},
   "outputs": [],
   "source": [
    "tusi.obs.dtypes"
   ]
  },
  {
   "cell_type": "code",
   "execution_count": null,
   "metadata": {
    "scrolled": true
   },
   "outputs": [],
   "source": [
    "tusi_model = cb.directi.fit_DIRECTi(\n",
    "    tusi, tusi.uns[\"seurat_genes\"],\n",
    "    **fixed_model_kwargs\n",
    ")\n",
    "tusi.latent = tusi_model.inference(tusi)"
   ]
  },
  {
   "cell_type": "code",
   "execution_count": null,
   "metadata": {},
   "outputs": [],
   "source": [
    "ax = tusi.visualize_latent(\"Ba\", method=\"UMAP\", scatter_kws=dict(rasterized=True))\n",
    "ax.get_figure().savefig(\"build/bone_marrow/Tusi/Ba.svg\", dpi=utils.DPI, bbox_inches=\"tight\")"
   ]
  },
  {
   "cell_type": "code",
   "execution_count": null,
   "metadata": {},
   "outputs": [],
   "source": [
    "ax = tusi.visualize_latent(\"D\", method=\"UMAP\", scatter_kws=dict(rasterized=True))\n",
    "ax.get_figure().savefig(\"build/bone_marrow/Tusi/D.svg\", dpi=utils.DPI, bbox_inches=\"tight\")"
   ]
  },
  {
   "cell_type": "code",
   "execution_count": null,
   "metadata": {},
   "outputs": [],
   "source": [
    "ax = tusi.visualize_latent(\"E\", method=\"UMAP\", scatter_kws=dict(rasterized=True))\n",
    "ax.get_figure().savefig(\"build/bone_marrow/Tusi/E.svg\", dpi=utils.DPI, bbox_inches=\"tight\")"
   ]
  },
  {
   "cell_type": "code",
   "execution_count": null,
   "metadata": {},
   "outputs": [],
   "source": [
    "ax = tusi.visualize_latent(\"G\", method=\"UMAP\", scatter_kws=dict(rasterized=True))\n",
    "ax.get_figure().savefig(\"build/bone_marrow/Tusi/G.svg\", dpi=utils.DPI, bbox_inches=\"tight\")"
   ]
  },
  {
   "cell_type": "code",
   "execution_count": null,
   "metadata": {},
   "outputs": [],
   "source": [
    "ax = tusi.visualize_latent(\"Ly\", method=\"UMAP\", scatter_kws=dict(rasterized=True))\n",
    "ax.get_figure().savefig(\"build/bone_marrow/Tusi/Ly.svg\", dpi=utils.DPI, bbox_inches=\"tight\")"
   ]
  },
  {
   "cell_type": "code",
   "execution_count": null,
   "metadata": {},
   "outputs": [],
   "source": [
    "ax = tusi.visualize_latent(\"M\", method=\"UMAP\", scatter_kws=dict(rasterized=True))\n",
    "ax.get_figure().savefig(\"build/bone_marrow/Tusi/M.svg\", dpi=utils.DPI, bbox_inches=\"tight\")"
   ]
  },
  {
   "cell_type": "code",
   "execution_count": null,
   "metadata": {},
   "outputs": [],
   "source": [
    "ax = tusi.visualize_latent(\"Meg\", method=\"UMAP\", scatter_kws=dict(rasterized=True))\n",
    "ax.get_figure().savefig(\"build/bone_marrow/Tusi/Meg.svg\", dpi=utils.DPI, bbox_inches=\"tight\")"
   ]
  },
  {
   "cell_type": "code",
   "execution_count": null,
   "metadata": {},
   "outputs": [],
   "source": [
    "ax = tusi.visualize_latent(\"cell_ontology_class\", method=\"UMAP\", scatter_kws=dict(rasterized=True))\n",
    "ax.get_figure().savefig(\"build/bone_marrow/Tusi/cell_ontology_class.svg\", dpi=utils.DPI, bbox_inches=\"tight\")"
   ]
  },
  {
   "cell_type": "code",
   "execution_count": null,
   "metadata": {},
   "outputs": [],
   "source": [
    "ax = tusi.visualize_latent(\"cell_type1\", method=\"UMAP\", scatter_kws=dict(rasterized=True))\n",
    "ax.get_figure().savefig(\"build/bone_marrow/Tusi/cell_type1.svg\", dpi=utils.DPI, bbox_inches=\"tight\")"
   ]
  },
  {
   "cell_type": "code",
   "execution_count": null,
   "metadata": {},
   "outputs": [],
   "source": [
    "ax = tusi.visualize_latent(\"potential\", method=\"UMAP\", scatter_kws=dict(rasterized=True))\n",
    "ax.get_figure().savefig(\"build/bone_marrow/Tusi/potential.svg\", dpi=utils.DPI, bbox_inches=\"tight\")"
   ]
  },
  {
   "cell_type": "code",
   "execution_count": null,
   "metadata": {},
   "outputs": [],
   "source": [
    "ax = tusi.visualize_latent(\"batch\", method=\"UMAP\", scatter_kws=dict(rasterized=True))\n",
    "ax.get_figure().savefig(\"build/bone_marrow/Tusi/batch.svg\", dpi=utils.DPI, bbox_inches=\"tight\")"
   ]
  },
  {
   "cell_type": "code",
   "execution_count": null,
   "metadata": {},
   "outputs": [],
   "source": [
    "tusi.write_dataset(\"build/bone_marrow/Tusi/Tusi.h5\")"
   ]
  },
  {
   "cell_type": "code",
   "execution_count": null,
   "metadata": {},
   "outputs": [],
   "source": [
    "%%capture capio\n",
    "tusi_models = [tusi_model]\n",
    "for i in range(1, cb.config.N_JOBS):\n",
    "    print(\"==== Model %d ====\" % i)\n",
    "    tusi_models.append(cb.directi.fit_DIRECTi(\n",
    "        tusi, tusi.uns[\"seurat_genes\"],\n",
    "        **fixed_model_kwargs,\n",
    "        random_seed=i\n",
    "    ))\n",
    "tusi_blast = cb.blast.BLAST(tusi_models, tusi)\n",
    "tusi_blast.save(\"build/bone_marrow/Tusi\")"
   ]
  },
  {
   "cell_type": "code",
   "execution_count": null,
   "metadata": {},
   "outputs": [],
   "source": [
    "with open(\"build/bone_marrow/Tusi/stdout.txt\", \"w\") as f:\n",
    "    f.write(capio.stdout)\n",
    "with open(\"build/bone_marrow/Tusi/stderr.txt\", \"w\") as f:\n",
    "    f.write(capio.stderr)"
   ]
  },
  {
   "cell_type": "code",
   "execution_count": null,
   "metadata": {},
   "outputs": [],
   "source": [
    "%%writefile build/bone_marrow/Tusi/predictable.txt\n",
    "Ba\n",
    "D\n",
    "E\n",
    "G\n",
    "Ly\n",
    "M\n",
    "Meg\n",
    "cell_ontology_class\n",
    "cell_type1\n",
    "potential"
   ]
  },
  {
   "cell_type": "markdown",
   "metadata": {},
   "source": [
    "# Human"
   ]
  },
  {
   "cell_type": "markdown",
   "metadata": {},
   "source": [
    "## Velten_Smart-seq2"
   ]
  },
  {
   "cell_type": "code",
   "execution_count": null,
   "metadata": {},
   "outputs": [],
   "source": [
    "velten_smart_seq2 = cb.data.ExprDataSet.read_dataset(\"../../Datasets/data/Velten_Smart-seq2/data.h5\")\n",
    "utils.peek(velten_smart_seq2, \"build/bone_marrow/Velten_Smart-seq2\")\n",
    "velten_smart_seq2.obs.head()"
   ]
  },
  {
   "cell_type": "code",
   "execution_count": null,
   "metadata": {},
   "outputs": [],
   "source": [
    "velten_smart_seq2.obs.dtypes"
   ]
  },
  {
   "cell_type": "code",
   "execution_count": null,
   "metadata": {
    "scrolled": true
   },
   "outputs": [],
   "source": [
    "opt_model_keargs = dict(batch_size=64)\n",
    "velten_smart_seq2_model = cb.directi.fit_DIRECTi(\n",
    "    velten_smart_seq2, velten_smart_seq2.uns[\"seurat_genes\"],\n",
    "    **fixed_model_kwargs, **opt_model_keargs\n",
    ")\n",
    "velten_smart_seq2.latent = velten_smart_seq2_model.inference(velten_smart_seq2)"
   ]
  },
  {
   "cell_type": "code",
   "execution_count": null,
   "metadata": {},
   "outputs": [],
   "source": [
    "ax = velten_smart_seq2.visualize_latent(\"cell_ontology_class\", method=\"UMAP\", scatter_kws=dict(rasterized=True))\n",
    "ax.get_figure().savefig(\"build/bone_marrow/Velten_Smart-seq2/cell_ontology_class.svg\", dpi=utils.DPI, bbox_inches=\"tight\")"
   ]
  },
  {
   "cell_type": "code",
   "execution_count": null,
   "metadata": {},
   "outputs": [],
   "source": [
    "ax = velten_smart_seq2.visualize_latent(\"cell_type1\", method=\"UMAP\", scatter_kws=dict(rasterized=True))\n",
    "ax.get_figure().savefig(\"build/bone_marrow/Velten_Smart-seq2/cell_type1.svg\", dpi=utils.DPI, bbox_inches=\"tight\")"
   ]
  },
  {
   "cell_type": "code",
   "execution_count": null,
   "metadata": {},
   "outputs": [],
   "source": [
    "ax = velten_smart_seq2.visualize_latent(\"TGFBI\", method=\"UMAP\", dr_kws=dict(n_neighbors=20), scatter_kws=dict(rasterized=True))"
   ]
  },
  {
   "cell_type": "code",
   "execution_count": null,
   "metadata": {},
   "outputs": [],
   "source": [
    "ax = velten_smart_seq2.visualize_latent(\"CA1\", method=\"UMAP\", dr_kws=dict(n_neighbors=20), scatter_kws=dict(rasterized=True))"
   ]
  },
  {
   "cell_type": "code",
   "execution_count": null,
   "metadata": {},
   "outputs": [],
   "source": [
    "ax = velten_smart_seq2.visualize_latent(\"CLC\", method=\"UMAP\", dr_kws=dict(n_neighbors=20), scatter_kws=dict(rasterized=True))"
   ]
  },
  {
   "cell_type": "code",
   "execution_count": null,
   "metadata": {},
   "outputs": [],
   "source": [
    "ax = velten_smart_seq2.visualize_latent(\"DNTT\", method=\"UMAP\", dr_kws=dict(n_neighbors=20), scatter_kws=dict(rasterized=True))"
   ]
  },
  {
   "cell_type": "code",
   "execution_count": null,
   "metadata": {},
   "outputs": [],
   "source": [
    "ax = velten_smart_seq2.visualize_latent(\"MPO\", method=\"UMAP\", dr_kws=dict(n_neighbors=20), scatter_kws=dict(rasterized=True))"
   ]
  },
  {
   "cell_type": "code",
   "execution_count": null,
   "metadata": {},
   "outputs": [],
   "source": [
    "velten_smart_seq2.write_dataset(\"build/bone_marrow/Velten_Smart-seq2/Velten_Smart-seq2.h5\")"
   ]
  },
  {
   "cell_type": "code",
   "execution_count": null,
   "metadata": {},
   "outputs": [],
   "source": [
    "%%capture capio\n",
    "velten_smart_seq2_models = [velten_smart_seq2_model]\n",
    "for i in range(1, cb.config.N_JOBS):\n",
    "    print(\"==== Model %d ====\" % i)\n",
    "    velten_smart_seq2_models.append(cb.directi.fit_DIRECTi(\n",
    "        velten_smart_seq2, velten_smart_seq2.uns[\"seurat_genes\"],\n",
    "        **fixed_model_kwargs, **opt_model_keargs,\n",
    "        random_seed=i\n",
    "    ))\n",
    "velten_smart_seq2_blast = cb.blast.BLAST(velten_smart_seq2_models, velten_smart_seq2)\n",
    "velten_smart_seq2_blast.save(\"build/bone_marrow/Velten_Smart-seq2\")"
   ]
  },
  {
   "cell_type": "code",
   "execution_count": null,
   "metadata": {},
   "outputs": [],
   "source": [
    "with open(\"build/bone_marrow/Velten_Smart-seq2/stdout.txt\", \"w\") as f:\n",
    "    f.write(capio.stdout)\n",
    "with open(\"build/bone_marrow/Velten_Smart-seq2/stderr.txt\", \"w\") as f:\n",
    "    f.write(capio.stderr)"
   ]
  },
  {
   "cell_type": "code",
   "execution_count": null,
   "metadata": {},
   "outputs": [],
   "source": [
    "%%writefile build/bone_marrow/Velten_Smart-seq2/predictable.txt\n",
    "cell_ontology_class\n",
    "cell_type1"
   ]
  },
  {
   "cell_type": "markdown",
   "metadata": {},
   "source": [
    "## Human aligned"
   ]
  },
  {
   "cell_type": "code",
   "execution_count": null,
   "metadata": {},
   "outputs": [],
   "source": [
    "if not os.path.exists(\"build/bone_marrow/ALIGNED_Homo_sapiens_Bone_Marrow\"):\n",
    "    os.makedirs(\"build/bone_marrow/ALIGNED_Homo_sapiens_Bone_Marrow\")\n",
    "velten_quartz_seq = cb.data.ExprDataSet.read_dataset(\"../../Datasets/data/Velten_QUARTZ-seq/data.h5\")\n",
    "human = cb.data.ExprDataSet.merge_datasets(dict(\n",
    "    velten_quartz_seq=velten_quartz_seq,\n",
    "    velten_smart_seq2=velten_smart_seq2\n",
    "), merge_uns_slots=[\"seurat_genes\"])"
   ]
  },
  {
   "cell_type": "code",
   "execution_count": null,
   "metadata": {},
   "outputs": [],
   "source": [
    "human.obs.head()"
   ]
  },
  {
   "cell_type": "code",
   "execution_count": null,
   "metadata": {},
   "outputs": [],
   "source": [
    "human.obs.dtypes"
   ]
  },
  {
   "cell_type": "code",
   "execution_count": null,
   "metadata": {
    "scrolled": true
   },
   "outputs": [],
   "source": [
    "opt_model_kwargs = dict(\n",
    "    batch_effect=[\"dataset_name\"],\n",
    "    rmbatch_module_kwargs=dict(lambda_reg=0.02)\n",
    ")\n",
    "human_model = cb.directi.fit_DIRECTi(\n",
    "    human, human.uns[\"seurat_genes\"],\n",
    "    **fixed_model_kwargs, **opt_model_kwargs\n",
    ")\n",
    "human.latent = human_model.inference(human)"
   ]
  },
  {
   "cell_type": "code",
   "execution_count": null,
   "metadata": {
    "scrolled": false
   },
   "outputs": [],
   "source": [
    "ax = human.visualize_latent(\"cell_ontology_class\", method=\"UMAP\", dr_kws=dict(n_neighbors=20), reuse=False, scatter_kws=dict(rasterized=True))\n",
    "ax.get_figure().savefig(\"build/bone_marrow/ALIGNED_Homo_sapiens_Bone_Marrow/cell_ontology_class.svg\", dpi=utils.DPI, bbox_inches=\"tight\")"
   ]
  },
  {
   "cell_type": "code",
   "execution_count": null,
   "metadata": {},
   "outputs": [],
   "source": [
    "ax = human.visualize_latent(\"dataset_name\", method=\"UMAP\", dr_kws=dict(n_neighbors=20), scatter_kws=dict(rasterized=True))\n",
    "ax.get_figure().savefig(\"build/bone_marrow/ALIGNED_Homo_sapiens_Bone_Marrow/dataset_name.svg\", dpi=utils.DPI, bbox_inches=\"tight\")"
   ]
  },
  {
   "cell_type": "code",
   "execution_count": null,
   "metadata": {},
   "outputs": [],
   "source": [
    "ax = human.visualize_latent(\"TGFBI\", method=\"UMAP\", dr_kws=dict(n_neighbors=20), scatter_kws=dict(rasterized=True))"
   ]
  },
  {
   "cell_type": "code",
   "execution_count": null,
   "metadata": {},
   "outputs": [],
   "source": [
    "ax = human.visualize_latent(\"CA1\", method=\"UMAP\", dr_kws=dict(n_neighbors=20), scatter_kws=dict(rasterized=True))"
   ]
  },
  {
   "cell_type": "code",
   "execution_count": null,
   "metadata": {},
   "outputs": [],
   "source": [
    "ax = human.visualize_latent(\"GP1BB\", method=\"UMAP\", dr_kws=dict(n_neighbors=20), scatter_kws=dict(rasterized=True))"
   ]
  },
  {
   "cell_type": "code",
   "execution_count": null,
   "metadata": {},
   "outputs": [],
   "source": [
    "ax = human.visualize_latent(\"CLC\", method=\"UMAP\", dr_kws=dict(n_neighbors=20), scatter_kws=dict(rasterized=True))"
   ]
  },
  {
   "cell_type": "code",
   "execution_count": null,
   "metadata": {},
   "outputs": [],
   "source": [
    "ax = human.visualize_latent(\"DNTT\", method=\"UMAP\", dr_kws=dict(n_neighbors=20), scatter_kws=dict(rasterized=True))"
   ]
  },
  {
   "cell_type": "code",
   "execution_count": null,
   "metadata": {},
   "outputs": [],
   "source": [
    "ax = human.visualize_latent(\"MPO\", method=\"UMAP\", dr_kws=dict(n_neighbors=20), scatter_kws=dict(rasterized=True))"
   ]
  },
  {
   "cell_type": "code",
   "execution_count": null,
   "metadata": {},
   "outputs": [],
   "source": [
    "human.write_dataset(\"build/bone_marrow/ALIGNED_Homo_sapiens_Bone_Marrow/ALIGNED_Homo_sapiens_Bone_Marrow.h5\")"
   ]
  },
  {
   "cell_type": "code",
   "execution_count": null,
   "metadata": {},
   "outputs": [],
   "source": [
    "%%capture capio\n",
    "human_models = [human_model]\n",
    "for i in range(1, cb.config.N_JOBS):\n",
    "    print(\"==== Model %d ====\" % i)\n",
    "    human_models.append(cb.directi.fit_DIRECTi(\n",
    "        human, human.uns[\"seurat_genes\"],\n",
    "        **fixed_model_kwargs, **opt_model_kwargs,\n",
    "        random_seed=i\n",
    "    ))\n",
    "human_blast = cb.blast.BLAST(human_models, human)\n",
    "human_blast.save(\"build/bone_marrow/ALIGNED_Homo_sapiens_Bone_Marrow\")"
   ]
  },
  {
   "cell_type": "code",
   "execution_count": null,
   "metadata": {},
   "outputs": [],
   "source": [
    "with open(\"build/bone_marrow/ALIGNED_Homo_sapiens_Bone_Marrow/stdout.txt\", \"w\") as f:\n",
    "    f.write(capio.stdout)\n",
    "with open(\"build/bone_marrow/ALIGNED_Homo_sapiens_Bone_Marrow/stderr.txt\", \"w\") as f:\n",
    "    f.write(capio.stderr)"
   ]
  },
  {
   "cell_type": "code",
   "execution_count": null,
   "metadata": {},
   "outputs": [],
   "source": [
    "utils.self_projection(human_blast, \"build/bone_marrow/ALIGNED_Homo_sapiens_Bone_Marrow\")"
   ]
  },
  {
   "cell_type": "code",
   "execution_count": null,
   "metadata": {},
   "outputs": [],
   "source": [
    "%%writefile build/bone_marrow/ALIGNED_Homo_sapiens_Bone_Marrow/predictable.txt\n",
    "cell_ontology_class"
   ]
  }
 ],
 "metadata": {
  "kernelspec": {
   "display_name": "Python 3",
   "language": "python",
   "name": "python3"
  },
  "language_info": {
   "codemirror_mode": {
    "name": "ipython",
    "version": 3
   },
   "file_extension": ".py",
   "mimetype": "text/x-python",
   "name": "python",
   "nbconvert_exporter": "python",
   "pygments_lexer": "ipython3",
   "version": "3.6.8"
  },
  "toc": {
   "base_numbering": 1,
   "nav_menu": {},
   "number_sections": true,
   "sideBar": true,
   "skip_h1_title": false,
   "title_cell": "Table of Contents",
   "title_sidebar": "Contents",
   "toc_cell": false,
   "toc_position": {
    "height": "calc(100% - 180px)",
    "left": "10px",
    "top": "150px",
    "width": "336px"
   },
   "toc_section_display": true,
   "toc_window_display": true
  },
  "varInspector": {
   "cols": {
    "lenName": 16,
    "lenType": 16,
    "lenVar": 40
   },
   "kernels_config": {
    "python": {
     "delete_cmd_postfix": "",
     "delete_cmd_prefix": "del ",
     "library": "var_list.py",
     "varRefreshCmd": "print(var_dic_list())"
    },
    "r": {
     "delete_cmd_postfix": ") ",
     "delete_cmd_prefix": "rm(",
     "library": "var_list.r",
     "varRefreshCmd": "cat(var_dic_list()) "
    }
   },
   "types_to_exclude": [
    "module",
    "function",
    "builtin_function_or_method",
    "instance",
    "_Feature"
   ],
   "window_display": false
  }
 },
 "nbformat": 4,
 "nbformat_minor": 2
}
