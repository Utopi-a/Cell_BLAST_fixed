{
 "cells": [
  {
   "cell_type": "code",
   "execution_count": null,
   "metadata": {},
   "outputs": [],
   "source": [
    "import os\n",
    "import Cell_BLAST as cb\n",
    "import utils\n",
    "os.environ[\"CUDA_VISIBLE_DEVICES\"] = utils.pick_gpu_lowest_memory()\n",
    "cb.config.RANDOM_SEED = 0\n",
    "cb.config.N_JOBS = 4\n",
    "fixed_model_kwargs = dict(\n",
    "    latent_dim=10, cat_dim=20,\n",
    "    epoch=500, patience=20\n",
    ")"
   ]
  },
  {
   "cell_type": "code",
   "execution_count": null,
   "metadata": {},
   "outputs": [],
   "source": [
    "cb.__version__"
   ]
  },
  {
   "cell_type": "markdown",
   "metadata": {},
   "source": [
    "---"
   ]
  },
  {
   "cell_type": "markdown",
   "metadata": {},
   "source": [
    "# Mouse"
   ]
  },
  {
   "cell_type": "markdown",
   "metadata": {},
   "source": [
    "## Campbell"
   ]
  },
  {
   "cell_type": "code",
   "execution_count": null,
   "metadata": {},
   "outputs": [],
   "source": [
    "campbell = cb.data.ExprDataSet.read_dataset(\"../../Datasets/data/Campbell/data.h5\")\n",
    "utils.peek(campbell, \"build/brain/Campbell\")\n",
    "campbell.obs.head()"
   ]
  },
  {
   "cell_type": "code",
   "execution_count": null,
   "metadata": {},
   "outputs": [],
   "source": [
    "campbell.obs.dtypes"
   ]
  },
  {
   "cell_type": "code",
   "execution_count": null,
   "metadata": {},
   "outputs": [],
   "source": [
    "campbell_model = cb.directi.fit_DIRECTi(\n",
    "    campbell, campbell.uns[\"seurat_genes\"],\n",
    "    **fixed_model_kwargs\n",
    ")\n",
    "campbell.latent = campbell_model.inference(campbell)"
   ]
  },
  {
   "cell_type": "code",
   "execution_count": null,
   "metadata": {},
   "outputs": [],
   "source": [
    "ax = campbell.visualize_latent(\"cell_ontology_class\", scatter_kws=dict(rasterized=True))\n",
    "ax.get_figure().savefig(\"build/brain/Campbell/cell_ontology_class.svg\", dpi=utils.DPI, bbox_inches=\"tight\")"
   ]
  },
  {
   "cell_type": "code",
   "execution_count": null,
   "metadata": {},
   "outputs": [],
   "source": [
    "ax = campbell.visualize_latent(\"cell_type1\", scatter_kws=dict(rasterized=True))\n",
    "ax.get_figure().savefig(\"build/brain/Campbell/cell_type1.svg\", dpi=utils.DPI, bbox_inches=\"tight\")"
   ]
  },
  {
   "cell_type": "code",
   "execution_count": null,
   "metadata": {},
   "outputs": [],
   "source": [
    "ax = campbell.visualize_latent(\"cell_type2\", scatter_kws=dict(rasterized=True))\n",
    "ax.get_figure().savefig(\"build/brain/Campbell/cell_type2.svg\", dpi=utils.DPI, bbox_inches=\"tight\")"
   ]
  },
  {
   "cell_type": "code",
   "execution_count": null,
   "metadata": {},
   "outputs": [],
   "source": [
    "ax = campbell.visualize_latent(\"diet\", scatter_kws=dict(rasterized=True))\n",
    "ax.get_figure().savefig(\"build/brain/Campbell/diet.svg\", dpi=utils.DPI, bbox_inches=\"tight\")"
   ]
  },
  {
   "cell_type": "code",
   "execution_count": null,
   "metadata": {},
   "outputs": [],
   "source": [
    "ax = campbell.visualize_latent(\"gender\", scatter_kws=dict(rasterized=True))\n",
    "ax.get_figure().savefig(\"build/brain/Campbell/gender.svg\", dpi=utils.DPI, bbox_inches=\"tight\")"
   ]
  },
  {
   "cell_type": "code",
   "execution_count": null,
   "metadata": {},
   "outputs": [],
   "source": [
    "ax = campbell.visualize_latent(\"batch\", scatter_kws=dict(rasterized=True))\n",
    "ax.get_figure().savefig(\"build/brain/Campbell/batch.svg\", dpi=utils.DPI, bbox_inches=\"tight\")"
   ]
  },
  {
   "cell_type": "code",
   "execution_count": null,
   "metadata": {},
   "outputs": [],
   "source": [
    "campbell.write_dataset(\"build/brain/Campbell/Campbell.h5\")"
   ]
  },
  {
   "cell_type": "code",
   "execution_count": null,
   "metadata": {},
   "outputs": [],
   "source": [
    "%%capture capio\n",
    "campbell_models = [campbell_model]\n",
    "for i in range(1, cb.config.N_JOBS):\n",
    "    print(\"==== Model %d ====\" % i)\n",
    "    campbell_models.append(cb.directi.fit_DIRECTi(\n",
    "        campbell, campbell.uns[\"seurat_genes\"],\n",
    "        **fixed_model_kwargs,\n",
    "        random_seed=i\n",
    "    ))\n",
    "campbell_blast = cb.blast.BLAST(campbell_models, campbell)\n",
    "campbell_blast.save(\"build/brain/Campbell\")"
   ]
  },
  {
   "cell_type": "code",
   "execution_count": null,
   "metadata": {},
   "outputs": [],
   "source": [
    "with open(\"build/brain/Campbell/stdout.txt\", \"w\") as f:\n",
    "    f.write(capio.stdout)\n",
    "with open(\"build/brain/Campbell/stderr.txt\", \"w\") as f:\n",
    "    f.write(capio.stderr)"
   ]
  },
  {
   "cell_type": "code",
   "execution_count": null,
   "metadata": {},
   "outputs": [],
   "source": [
    "utils.self_projection(campbell_blast, \"build/brain/Campbell\")"
   ]
  },
  {
   "cell_type": "code",
   "execution_count": null,
   "metadata": {},
   "outputs": [],
   "source": [
    "%%writefile build/brain/Campbell/predictable.txt\n",
    "cell_ontology_class\n",
    "cell_type1\n",
    "cell_type2\n",
    "diet\n",
    "gender"
   ]
  },
  {
   "cell_type": "markdown",
   "metadata": {},
   "source": [
    "## Chen"
   ]
  },
  {
   "cell_type": "code",
   "execution_count": null,
   "metadata": {},
   "outputs": [],
   "source": [
    "chen = cb.data.ExprDataSet.read_dataset(\"../../Datasets/data/Chen/data.h5\")\n",
    "utils.peek(chen, \"build/brain/Chen\")\n",
    "chen.obs.head()"
   ]
  },
  {
   "cell_type": "code",
   "execution_count": null,
   "metadata": {},
   "outputs": [],
   "source": [
    "chen.obs.dtypes"
   ]
  },
  {
   "cell_type": "code",
   "execution_count": null,
   "metadata": {
    "scrolled": true
   },
   "outputs": [],
   "source": [
    "chen_model = cb.directi.fit_DIRECTi(\n",
    "    chen, chen.uns[\"seurat_genes\"],\n",
    "    **fixed_model_kwargs\n",
    ")\n",
    "chen.latent = chen_model.inference(chen)"
   ]
  },
  {
   "cell_type": "code",
   "execution_count": null,
   "metadata": {},
   "outputs": [],
   "source": [
    "ax = chen.visualize_latent(\"cell_ontology_class\", scatter_kws=dict(rasterized=True))\n",
    "ax.get_figure().savefig(\"build/brain/Chen/cell_ontology_class.svg\", dpi=utils.DPI, bbox_inches=\"tight\")"
   ]
  },
  {
   "cell_type": "code",
   "execution_count": null,
   "metadata": {},
   "outputs": [],
   "source": [
    "ax = chen.visualize_latent(\"cell_type1\", scatter_kws=dict(rasterized=True))\n",
    "ax.get_figure().savefig(\"build/brain/Chen/cell_type1.svg\", dpi=utils.DPI, bbox_inches=\"tight\")"
   ]
  },
  {
   "cell_type": "code",
   "execution_count": null,
   "metadata": {},
   "outputs": [],
   "source": [
    "#Exclusive endothelial cell markers include von Willebrand factor [19], \n",
    "#vascular endothelial cadherin (VE-cadherin, CD144), i.e. Cdh5 \n",
    "ax = chen.visualize_latent(\"Cdh5\", scatter_kws=dict(rasterized=True))\n",
    "#plot.get_figure().savefig(\"Chen/cell_ontology_class.pdf\", bbox_inches=\"tight\")"
   ]
  },
  {
   "cell_type": "code",
   "execution_count": null,
   "metadata": {},
   "outputs": [],
   "source": [
    "#epithelial cell marker: CD227, i.e. Muc1\n",
    "ax = chen.visualize_latent(\"Muc1\", scatter_kws=dict(rasterized=True))\n",
    "#plot.get_figure().savefig(\"Chen/cell_ontology_class.pdf\", bbox_inches=\"tight\")"
   ]
  },
  {
   "cell_type": "code",
   "execution_count": null,
   "metadata": {},
   "outputs": [],
   "source": [
    "ax = chen.visualize_latent(\"donor\", scatter_kws=dict(rasterized=True))\n",
    "ax.get_figure().savefig(\"build/brain/Chen/donor.svg\", dpi=utils.DPI, bbox_inches=\"tight\")"
   ]
  },
  {
   "cell_type": "code",
   "execution_count": null,
   "metadata": {},
   "outputs": [],
   "source": [
    "chen.write_dataset(\"build/brain/Chen/Chen.h5\")"
   ]
  },
  {
   "cell_type": "code",
   "execution_count": null,
   "metadata": {},
   "outputs": [],
   "source": [
    "%%capture capio\n",
    "chen_models = [chen_model]\n",
    "for i in range(1, cb.config.N_JOBS):\n",
    "    print(\"==== Model %d ====\" % i)\n",
    "    chen_models.append(cb.directi.fit_DIRECTi(\n",
    "        chen, chen.uns[\"seurat_genes\"],\n",
    "        **fixed_model_kwargs,\n",
    "        random_seed=i\n",
    "    ))\n",
    "chen_blast = cb.blast.BLAST(chen_models, chen)\n",
    "chen_blast.save(\"build/brain/Chen\")"
   ]
  },
  {
   "cell_type": "code",
   "execution_count": null,
   "metadata": {},
   "outputs": [],
   "source": [
    "with open(\"build/brain/Chen/stdout.txt\", \"w\") as f:\n",
    "    f.write(capio.stdout)\n",
    "with open(\"build/brain/Chen/stderr.txt\", \"w\") as f:\n",
    "    f.write(capio.stderr)"
   ]
  },
  {
   "cell_type": "code",
   "execution_count": null,
   "metadata": {},
   "outputs": [],
   "source": [
    "utils.self_projection(chen_blast, \"build/brain/Chen\")"
   ]
  },
  {
   "cell_type": "code",
   "execution_count": null,
   "metadata": {},
   "outputs": [],
   "source": [
    "%%writefile build/brain/Chen/predictable.txt\n",
    "cell_ontology_class\n",
    "cell_type1"
   ]
  },
  {
   "cell_type": "markdown",
   "metadata": {},
   "source": [
    "## Lake_2018"
   ]
  },
  {
   "cell_type": "code",
   "execution_count": null,
   "metadata": {},
   "outputs": [],
   "source": [
    "lake_2018 = cb.data.ExprDataSet.read_dataset(\"../../Datasets/data/Lake_2018/data.h5\")\n",
    "utils.peek(lake_2018, \"build/brain/Lake_2018\")\n",
    "lake_2018.obs.head()"
   ]
  },
  {
   "cell_type": "code",
   "execution_count": null,
   "metadata": {
    "scrolled": true
   },
   "outputs": [],
   "source": [
    "lake_2018.obs.dtypes"
   ]
  },
  {
   "cell_type": "code",
   "execution_count": null,
   "metadata": {
    "scrolled": true
   },
   "outputs": [],
   "source": [
    "lake_2018_model = cb.directi.fit_DIRECTi(\n",
    "    lake_2018, lake_2018.uns[\"seurat_genes\"],\n",
    "    **fixed_model_kwargs\n",
    ") \n",
    "lake_2018.latent = lake_2018_model.inference(lake_2018)"
   ]
  },
  {
   "cell_type": "code",
   "execution_count": null,
   "metadata": {},
   "outputs": [],
   "source": [
    "ax = lake_2018.visualize_latent(\"cell_ontology_class\", scatter_kws=dict(rasterized=True))\n",
    "ax.get_figure().savefig(\"build/brain/Lake_2018/cell_ontology_class.svg\", dpi=utils.DPI, bbox_inches=\"tight\")"
   ]
  },
  {
   "cell_type": "code",
   "execution_count": null,
   "metadata": {},
   "outputs": [],
   "source": [
    "ax = lake_2018.visualize_latent(\"cell_type1\", scatter_kws=dict(rasterized=True))\n",
    "ax.get_figure().savefig(\"build/brain/Lake_2018/cell_type1.svg\", dpi=utils.DPI, bbox_inches=\"tight\")"
   ]
  },
  {
   "cell_type": "code",
   "execution_count": null,
   "metadata": {},
   "outputs": [],
   "source": [
    "ax = lake_2018.visualize_latent(\"region\", scatter_kws=dict(rasterized=True))\n",
    "ax.get_figure().savefig(\"build/brain/Lake_2018/region.svg\", dpi=utils.DPI, bbox_inches=\"tight\")"
   ]
  },
  {
   "cell_type": "code",
   "execution_count": null,
   "metadata": {},
   "outputs": [],
   "source": [
    "ax = lake_2018.visualize_latent(\"donor\", scatter_kws=dict(rasterized=True))\n",
    "ax.get_figure().savefig(\"build/brain/Lake_2018/donor.svg\", dpi=utils.DPI, bbox_inches=\"tight\")"
   ]
  },
  {
   "cell_type": "code",
   "execution_count": null,
   "metadata": {},
   "outputs": [],
   "source": [
    "lake_2018.write_dataset(\"build/brain/Lake_2018/Lake_2018.h5\")"
   ]
  },
  {
   "cell_type": "code",
   "execution_count": null,
   "metadata": {},
   "outputs": [],
   "source": [
    "%%capture capio\n",
    "lake_2018_models = [lake_2018_model]\n",
    "for i in range(1, cb.config.N_JOBS):\n",
    "    print(\"==== Model %d ====\" % i)\n",
    "    lake_2018_models.append(cb.directi.fit_DIRECTi(\n",
    "        lake_2018, lake_2018.uns[\"seurat_genes\"],\n",
    "        **fixed_model_kwargs,\n",
    "        random_seed=i\n",
    "    ))\n",
    "lake_2018_blast = cb.blast.BLAST(lake_2018_models, lake_2018)\n",
    "lake_2018_blast.save(\"build/brain/Lake_2018\")"
   ]
  },
  {
   "cell_type": "code",
   "execution_count": null,
   "metadata": {},
   "outputs": [],
   "source": [
    "with open(\"build/brain/Lake_2018/stdout.txt\", \"w\") as f:\n",
    "    f.write(capio.stdout)\n",
    "with open(\"build/brain/Lake_2018/stderr.txt\", \"w\") as f:\n",
    "    f.write(capio.stderr)"
   ]
  },
  {
   "cell_type": "code",
   "execution_count": null,
   "metadata": {},
   "outputs": [],
   "source": [
    "utils.self_projection(lake_2018_blast, \"build/brain/Lake_2018\")"
   ]
  },
  {
   "cell_type": "code",
   "execution_count": null,
   "metadata": {},
   "outputs": [],
   "source": [
    "%%writefile build/brain/Lake_2018/predictable.txt\n",
    "cell_ontology_class\n",
    "cell_type1\n",
    "region"
   ]
  },
  {
   "cell_type": "markdown",
   "metadata": {},
   "source": [
    "## Quake_Smart-seq2_Brain_Myeloid"
   ]
  },
  {
   "cell_type": "code",
   "execution_count": null,
   "metadata": {},
   "outputs": [],
   "source": [
    "quake_smart_seq2_brain_myeloid = cb.data.ExprDataSet.read_dataset(\"../../Datasets/data/Quake_Smart-seq2_Brain_Myeloid/data.h5\")\n",
    "utils.peek(quake_smart_seq2_brain_myeloid, \"build/brain/Quake_Smart-seq2_Brain_Myeloid\")\n",
    "quake_smart_seq2_brain_myeloid.obs.head()"
   ]
  },
  {
   "cell_type": "code",
   "execution_count": null,
   "metadata": {},
   "outputs": [],
   "source": [
    "quake_smart_seq2_brain_myeloid.obs[\"cluster\"] = \"cluster_\" + quake_smart_seq2_brain_myeloid.obs[\"cluster\"].astype(int).astype(str)\n",
    "quake_smart_seq2_brain_myeloid.obs.dtypes"
   ]
  },
  {
   "cell_type": "code",
   "execution_count": null,
   "metadata": {
    "scrolled": true
   },
   "outputs": [],
   "source": [
    "opt_model_kwargs = dict(batch_effect=\"donor\")\n",
    "quake_smart_seq2_brain_myeloid_model = cb.directi.fit_DIRECTi(\n",
    "    quake_smart_seq2_brain_myeloid, quake_smart_seq2_brain_myeloid.uns[\"seurat_genes\"],\n",
    "    **fixed_model_kwargs, **opt_model_kwargs\n",
    ") \n",
    "quake_smart_seq2_brain_myeloid.latent = quake_smart_seq2_brain_myeloid_model.inference(quake_smart_seq2_brain_myeloid)"
   ]
  },
  {
   "cell_type": "code",
   "execution_count": null,
   "metadata": {},
   "outputs": [],
   "source": [
    "ax = quake_smart_seq2_brain_myeloid.visualize_latent(\"cell_ontology_class\", scatter_kws=dict(rasterized=True))\n",
    "ax.get_figure().savefig(\"build/brain/Quake_Smart-seq2_Brain_Myeloid/cell_ontology_class.svg\", dpi=utils.DPI, bbox_inches=\"tight\")"
   ]
  },
  {
   "cell_type": "code",
   "execution_count": null,
   "metadata": {},
   "outputs": [],
   "source": [
    "ax = quake_smart_seq2_brain_myeloid.visualize_latent(\"cell_type1\", scatter_kws=dict(rasterized=True))\n",
    "ax.get_figure().savefig(\"build/brain/Quake_Smart-seq2_Brain_Myeloid/cell_type1.svg\", dpi=utils.DPI, bbox_inches=\"tight\")"
   ]
  },
  {
   "cell_type": "code",
   "execution_count": null,
   "metadata": {},
   "outputs": [],
   "source": [
    "ax = quake_smart_seq2_brain_myeloid.visualize_latent(\"cluster\", scatter_kws=dict(rasterized=True))\n",
    "ax.get_figure().savefig(\"build/brain/Quake_Smart-seq2_Brain_Myeloid/cluster.svg\", dpi=utils.DPI, bbox_inches=\"tight\")"
   ]
  },
  {
   "cell_type": "code",
   "execution_count": null,
   "metadata": {},
   "outputs": [],
   "source": [
    "ax = quake_smart_seq2_brain_myeloid.visualize_latent(\"donor\", scatter_kws=dict(rasterized=True))\n",
    "ax.get_figure().savefig(\"build/brain/Quake_Smart-seq2_Brain_Myeloid/donor.svg\", dpi=utils.DPI, bbox_inches=\"tight\")"
   ]
  },
  {
   "cell_type": "code",
   "execution_count": null,
   "metadata": {},
   "outputs": [],
   "source": [
    "ax = quake_smart_seq2_brain_myeloid.visualize_latent(\"region\", scatter_kws=dict(rasterized=True))\n",
    "ax.get_figure().savefig(\"build/brain/Quake_Smart-seq2_Brain_Myeloid/region.svg\", dpi=utils.DPI, bbox_inches=\"tight\")"
   ]
  },
  {
   "cell_type": "code",
   "execution_count": null,
   "metadata": {},
   "outputs": [],
   "source": [
    "quake_smart_seq2_brain_myeloid.write_dataset(\"build/brain/Quake_Smart-seq2_Brain_Myeloid/Quake_Smart-seq2_Brain_Myeloid.h5\")"
   ]
  },
  {
   "cell_type": "code",
   "execution_count": null,
   "metadata": {},
   "outputs": [],
   "source": [
    "%%capture capio\n",
    "quake_smart_seq2_brain_myeloid_models = [quake_smart_seq2_brain_myeloid_model]\n",
    "for i in range(1, cb.config.N_JOBS):\n",
    "    print(\"==== Model %d ====\" % i)\n",
    "    quake_smart_seq2_brain_myeloid_models.append(cb.directi.fit_DIRECTi(\n",
    "        quake_smart_seq2_brain_myeloid, quake_smart_seq2_brain_myeloid.uns[\"seurat_genes\"],\n",
    "        **fixed_model_kwargs, **opt_model_kwargs,\n",
    "        random_seed=i\n",
    "    ))\n",
    "quake_smart_seq2_brain_myeloid_blast = cb.blast.BLAST(quake_smart_seq2_brain_myeloid_models, quake_smart_seq2_brain_myeloid)\n",
    "quake_smart_seq2_brain_myeloid_blast.save(\"build/brain/Quake_Smart-seq2_Brain_Myeloid\")"
   ]
  },
  {
   "cell_type": "code",
   "execution_count": null,
   "metadata": {},
   "outputs": [],
   "source": [
    "with open(\"build/brain/Quake_Smart-seq2_Brain_Myeloid/stdout.txt\", \"w\") as f:\n",
    "    f.write(capio.stdout)\n",
    "with open(\"build/brain/Quake_Smart-seq2_Brain_Myeloid/stderr.txt\", \"w\") as f:\n",
    "    f.write(capio.stderr)"
   ]
  },
  {
   "cell_type": "code",
   "execution_count": null,
   "metadata": {},
   "outputs": [],
   "source": [
    "utils.self_projection(quake_smart_seq2_brain_myeloid_blast, \"build/brain/Quake_Smart-seq2_Brain_Myeloid\")"
   ]
  },
  {
   "cell_type": "code",
   "execution_count": null,
   "metadata": {},
   "outputs": [],
   "source": [
    "%%writefile build/brain/Quake_Smart-seq2_Brain_Myeloid/predictable.txt\n",
    "cell_ontology_class\n",
    "cell_type1"
   ]
  },
  {
   "cell_type": "markdown",
   "metadata": {},
   "source": [
    "## Quake_Smart-seq2_Brain_Non-Myeloid"
   ]
  },
  {
   "cell_type": "code",
   "execution_count": null,
   "metadata": {},
   "outputs": [],
   "source": [
    "quake_smart_seq2_brain_non_myeloid = cb.data.ExprDataSet.read_dataset(\"../../Datasets/data/Quake_Smart-seq2_Brain_Non-Myeloid/data.h5\")\n",
    "utils.peek(quake_smart_seq2_brain_non_myeloid, \"build/brain/Quake_Smart-seq2_Brain_Non-Myeloid\")\n",
    "quake_smart_seq2_brain_non_myeloid.obs.head()"
   ]
  },
  {
   "cell_type": "code",
   "execution_count": null,
   "metadata": {},
   "outputs": [],
   "source": [
    "quake_smart_seq2_brain_non_myeloid.obs[\"cluster\"] = \"cluster_\" + quake_smart_seq2_brain_non_myeloid.obs[\"cluster\"].astype(int).astype(str)\n",
    "quake_smart_seq2_brain_non_myeloid.obs.dtypes"
   ]
  },
  {
   "cell_type": "code",
   "execution_count": null,
   "metadata": {
    "scrolled": true
   },
   "outputs": [],
   "source": [
    "quake_smart_seq2_brain_non_myeloid_model = cb.directi.fit_DIRECTi(\n",
    "    quake_smart_seq2_brain_non_myeloid, quake_smart_seq2_brain_non_myeloid.uns[\"seurat_genes\"],\n",
    "    **fixed_model_kwargs\n",
    ") \n",
    "quake_smart_seq2_brain_non_myeloid.latent = quake_smart_seq2_brain_non_myeloid_model.inference(quake_smart_seq2_brain_non_myeloid)"
   ]
  },
  {
   "cell_type": "code",
   "execution_count": null,
   "metadata": {},
   "outputs": [],
   "source": [
    "ax = quake_smart_seq2_brain_non_myeloid.visualize_latent(\"cell_ontology_class\", scatter_kws=dict(rasterized=True))\n",
    "ax.get_figure().savefig(\"build/brain/Quake_Smart-seq2_Brain_Non-Myeloid/cell_ontology_class.svg\", dpi=utils.DPI, bbox_inches=\"tight\")"
   ]
  },
  {
   "cell_type": "code",
   "execution_count": null,
   "metadata": {},
   "outputs": [],
   "source": [
    "ax = quake_smart_seq2_brain_non_myeloid.visualize_latent(\"cell_type1\", scatter_kws=dict(rasterized=True))\n",
    "ax.get_figure().savefig(\"build/brain/Quake_Smart-seq2_Brain_Non-Myeloid/cell_type1.svg\", dpi=utils.DPI, bbox_inches=\"tight\")"
   ]
  },
  {
   "cell_type": "code",
   "execution_count": null,
   "metadata": {},
   "outputs": [],
   "source": [
    "ax = quake_smart_seq2_brain_non_myeloid.visualize_latent(\"cluster\", scatter_kws=dict(rasterized=True))\n",
    "ax.get_figure().savefig(\"build/brain/Quake_Smart-seq2_Brain_Non-Myeloid/cluster.svg\", dpi=utils.DPI, bbox_inches=\"tight\")"
   ]
  },
  {
   "cell_type": "code",
   "execution_count": null,
   "metadata": {},
   "outputs": [],
   "source": [
    "ax = quake_smart_seq2_brain_non_myeloid.visualize_latent(\"free_annotation\", scatter_kws=dict(rasterized=True))\n",
    "ax.get_figure().savefig(\"build/brain/Quake_Smart-seq2_Brain_Non-Myeloid/free_annotation.svg\", dpi=utils.DPI, bbox_inches=\"tight\")"
   ]
  },
  {
   "cell_type": "code",
   "execution_count": null,
   "metadata": {},
   "outputs": [],
   "source": [
    "ax = quake_smart_seq2_brain_non_myeloid.visualize_latent(\"donor\", scatter_kws=dict(rasterized=True))\n",
    "ax.get_figure().savefig(\"build/brain/Quake_Smart-seq2_Brain_Non-Myeloid/donor.svg\", dpi=utils.DPI, bbox_inches=\"tight\")"
   ]
  },
  {
   "cell_type": "code",
   "execution_count": null,
   "metadata": {},
   "outputs": [],
   "source": [
    "ax = quake_smart_seq2_brain_non_myeloid.visualize_latent(\"region\", scatter_kws=dict(rasterized=True))\n",
    "ax.get_figure().savefig(\"build/brain/Quake_Smart-seq2_Brain_Non-Myeloid/region.svg\", dpi=utils.DPI, bbox_inches=\"tight\")"
   ]
  },
  {
   "cell_type": "code",
   "execution_count": null,
   "metadata": {},
   "outputs": [],
   "source": [
    "quake_smart_seq2_brain_non_myeloid.write_dataset(\"build/brain/Quake_Smart-seq2_Brain_Non-Myeloid/Quake_Smart-seq2_Brain_Non-Myeloid.h5\")"
   ]
  },
  {
   "cell_type": "code",
   "execution_count": null,
   "metadata": {},
   "outputs": [],
   "source": [
    "%%capture capio\n",
    "quake_smart_seq2_brain_non_myeloid_models = [quake_smart_seq2_brain_non_myeloid_model]\n",
    "for i in range(1, cb.config.N_JOBS):\n",
    "    print(\"==== Model %d ====\" % i)\n",
    "    quake_smart_seq2_brain_non_myeloid_models.append(cb.directi.fit_DIRECTi(\n",
    "        quake_smart_seq2_brain_non_myeloid, quake_smart_seq2_brain_non_myeloid.uns[\"seurat_genes\"],\n",
    "        **fixed_model_kwargs,\n",
    "        random_seed=i\n",
    "    ))\n",
    "quake_smart_seq2_brain_non_myeloid_blast = cb.blast.BLAST(quake_smart_seq2_brain_non_myeloid_models, quake_smart_seq2_brain_non_myeloid)\n",
    "quake_smart_seq2_brain_non_myeloid_blast.save(\"build/brain/Quake_Smart-seq2_Brain_Non-Myeloid\")"
   ]
  },
  {
   "cell_type": "code",
   "execution_count": null,
   "metadata": {},
   "outputs": [],
   "source": [
    "with open(\"build/brain/Quake_Smart-seq2_Brain_Non-Myeloid/stdout.txt\", \"w\") as f:\n",
    "    f.write(capio.stdout)\n",
    "with open(\"build/brain/Quake_Smart-seq2_Brain_Non-Myeloid/stderr.txt\", \"w\") as f:\n",
    "    f.write(capio.stderr)"
   ]
  },
  {
   "cell_type": "code",
   "execution_count": null,
   "metadata": {},
   "outputs": [],
   "source": [
    "utils.self_projection(quake_smart_seq2_brain_non_myeloid_blast, \"build/brain/Quake_Smart-seq2_Brain_Non-Myeloid\")"
   ]
  },
  {
   "cell_type": "code",
   "execution_count": null,
   "metadata": {},
   "outputs": [],
   "source": [
    "%%writefile build/brain/Quake_Smart-seq2_Brain_Non-Myeloid/predictable.txt\n",
    "cell_ontology_class\n",
    "cell_type1\n",
    "cluster\n",
    "free_annotation"
   ]
  },
  {
   "cell_type": "markdown",
   "metadata": {},
   "source": [
    "# Lizard"
   ]
  },
  {
   "cell_type": "markdown",
   "metadata": {},
   "source": [
    "## Tosches_lizard"
   ]
  },
  {
   "cell_type": "code",
   "execution_count": null,
   "metadata": {},
   "outputs": [],
   "source": [
    "tosches_lizard = cb.data.ExprDataSet.read_dataset(\"../../Datasets/data/Tosches_lizard/data.h5\")\n",
    "tosches_lizard.obs[\"donor\"] = \"donor_\" + tosches_lizard.obs[\"donor\"]\n",
    "utils.peek(tosches_lizard, \"build/brain/Tosches_lizard\")\n",
    "tosches_lizard.obs.head()"
   ]
  },
  {
   "cell_type": "code",
   "execution_count": null,
   "metadata": {},
   "outputs": [],
   "source": [
    "tosches_lizard.obs.dtypes"
   ]
  },
  {
   "cell_type": "code",
   "execution_count": null,
   "metadata": {
    "scrolled": true
   },
   "outputs": [],
   "source": [
    "opt_model_kwargs = dict(batch_effect=\"donor\")\n",
    "tosches_lizard_model = cb.directi.fit_DIRECTi(\n",
    "    tosches_lizard, tosches_lizard.uns[\"seurat_genes\"],\n",
    "    **fixed_model_kwargs, **opt_model_kwargs\n",
    ") \n",
    "tosches_lizard.latent = tosches_lizard_model.inference(tosches_lizard)"
   ]
  },
  {
   "cell_type": "code",
   "execution_count": null,
   "metadata": {},
   "outputs": [],
   "source": [
    "ax = tosches_lizard.visualize_latent(\"cell_ontology_class\", scatter_kws=dict(rasterized=True))\n",
    "ax.get_figure().savefig(\"build/brain/Tosches_lizard/cell_ontology_class.svg\", dpi=utils.DPI, bbox_inches=\"tight\")"
   ]
  },
  {
   "cell_type": "code",
   "execution_count": null,
   "metadata": {},
   "outputs": [],
   "source": [
    "ax = tosches_lizard.visualize_latent(\"cell_type1\", scatter_kws=dict(rasterized=True))\n",
    "ax.get_figure().savefig(\"build/brain/Tosches_lizard/cell_type1.svg\", dpi=utils.DPI, bbox_inches=\"tight\")"
   ]
  },
  {
   "cell_type": "code",
   "execution_count": null,
   "metadata": {},
   "outputs": [],
   "source": [
    "ax = tosches_lizard.visualize_latent(\"donor\", scatter_kws=dict(rasterized=True))\n",
    "ax.get_figure().savefig(\"build/brain/Tosches_lizard/donor.svg\", dpi=utils.DPI, bbox_inches=\"tight\")"
   ]
  },
  {
   "cell_type": "code",
   "execution_count": null,
   "metadata": {},
   "outputs": [],
   "source": [
    "ax = tosches_lizard.visualize_latent(\"region\", scatter_kws=dict(rasterized=True))\n",
    "ax.get_figure().savefig(\"build/brain/Tosches_lizard/region.svg\", dpi=utils.DPI, bbox_inches=\"tight\")"
   ]
  },
  {
   "cell_type": "code",
   "execution_count": null,
   "metadata": {},
   "outputs": [],
   "source": [
    "tosches_lizard.write_dataset(\"build/brain/Tosches_lizard/Tosches_lizard.h5\")"
   ]
  },
  {
   "cell_type": "code",
   "execution_count": null,
   "metadata": {},
   "outputs": [],
   "source": [
    "%%capture capio\n",
    "tosches_lizard_models = [tosches_lizard_model]\n",
    "for i in range(1, cb.config.N_JOBS):\n",
    "    print(\"==== Model %d ====\" % i)\n",
    "    tosches_lizard_models.append(cb.directi.fit_DIRECTi(\n",
    "        tosches_lizard, tosches_lizard.uns[\"seurat_genes\"],\n",
    "        **fixed_model_kwargs, **opt_model_kwargs,\n",
    "        random_seed=i\n",
    "    ))\n",
    "tosches_lizard_blast = cb.blast.BLAST(tosches_lizard_models, tosches_lizard)\n",
    "tosches_lizard_blast.save(\"build/brain/Tosches_lizard\")"
   ]
  },
  {
   "cell_type": "code",
   "execution_count": null,
   "metadata": {},
   "outputs": [],
   "source": [
    "with open(\"build/brain/Tosches_lizard/stdout.txt\", \"w\") as f:\n",
    "    f.write(capio.stdout)\n",
    "with open(\"build/brain/Tosches_lizard/stderr.txt\", \"w\") as f:\n",
    "    f.write(capio.stderr)"
   ]
  },
  {
   "cell_type": "code",
   "execution_count": null,
   "metadata": {},
   "outputs": [],
   "source": [
    "utils.self_projection(tosches_lizard_blast, \"build/brain/Tosches_lizard\")"
   ]
  },
  {
   "cell_type": "code",
   "execution_count": null,
   "metadata": {},
   "outputs": [],
   "source": [
    "%%writefile build/brain/Tosches_lizard/predictable.txt\n",
    "cell_ontology_class\n",
    "cell_type1"
   ]
  },
  {
   "cell_type": "markdown",
   "metadata": {},
   "source": [
    "# Turtle"
   ]
  },
  {
   "cell_type": "markdown",
   "metadata": {},
   "source": [
    "## Tosches_turtle"
   ]
  },
  {
   "cell_type": "code",
   "execution_count": null,
   "metadata": {},
   "outputs": [],
   "source": [
    "tosches_turtle = cb.data.ExprDataSet.read_dataset(\"../../Datasets/data/Tosches_turtle/data.h5\")\n",
    "tosches_turtle.obs[\"donor\"] = \"donor_\" + tosches_turtle.obs[\"donor\"]\n",
    "utils.peek(tosches_turtle, \"build/brain/Tosches_turtle\")\n",
    "tosches_turtle.obs.head()"
   ]
  },
  {
   "cell_type": "code",
   "execution_count": null,
   "metadata": {},
   "outputs": [],
   "source": [
    "tosches_turtle.obs.dtypes"
   ]
  },
  {
   "cell_type": "code",
   "execution_count": null,
   "metadata": {
    "scrolled": true
   },
   "outputs": [],
   "source": [
    "opt_model_kwargs = dict(batch_effect=\"donor\")\n",
    "tosches_turtle_model = cb.directi.fit_DIRECTi(\n",
    "    tosches_turtle, tosches_turtle.uns[\"seurat_genes\"],\n",
    "    **fixed_model_kwargs, **opt_model_kwargs\n",
    ")\n",
    "tosches_turtle.latent = tosches_turtle_model.inference(tosches_turtle)"
   ]
  },
  {
   "cell_type": "code",
   "execution_count": null,
   "metadata": {},
   "outputs": [],
   "source": [
    "ax = tosches_turtle.visualize_latent(\"cell_ontology_class\", scatter_kws=dict(rasterized=True))\n",
    "ax.get_figure().savefig(\"build/brain/Tosches_turtle/cell_ontology_class.svg\", dpi=utils.DPI, bbox_inches=\"tight\")"
   ]
  },
  {
   "cell_type": "code",
   "execution_count": null,
   "metadata": {},
   "outputs": [],
   "source": [
    "ax = tosches_turtle.visualize_latent(\"cell_type1\", scatter_kws=dict(rasterized=True))\n",
    "ax.get_figure().savefig(\"build/brain/Tosches_turtle/cell_type1.svg\", dpi=utils.DPI, bbox_inches=\"tight\")"
   ]
  },
  {
   "cell_type": "code",
   "execution_count": null,
   "metadata": {},
   "outputs": [],
   "source": [
    "ax = tosches_turtle.visualize_latent(\"region\", scatter_kws=dict(rasterized=True))\n",
    "ax.get_figure().savefig(\"build/brain/Tosches_turtle/region.svg\", dpi=utils.DPI, bbox_inches=\"tight\")"
   ]
  },
  {
   "cell_type": "code",
   "execution_count": null,
   "metadata": {},
   "outputs": [],
   "source": [
    "ax = tosches_turtle.visualize_latent(\"donor\", scatter_kws=dict(rasterized=True))\n",
    "ax.get_figure().savefig(\"build/brain/Tosches_turtle/donor.svg\", dpi=utils.DPI, bbox_inches=\"tight\")"
   ]
  },
  {
   "cell_type": "code",
   "execution_count": null,
   "metadata": {},
   "outputs": [],
   "source": [
    "tosches_turtle.write_dataset(\"build/brain/Tosches_turtle/Tosches_turtle.h5\")"
   ]
  },
  {
   "cell_type": "code",
   "execution_count": null,
   "metadata": {},
   "outputs": [],
   "source": [
    "%%capture capio\n",
    "tosches_turtle_models = [tosches_turtle_model]\n",
    "for i in range(1, cb.config.N_JOBS):\n",
    "    print(\"==== Model %d ====\" % i)\n",
    "    tosches_turtle_models.append(cb.directi.fit_DIRECTi(\n",
    "        tosches_turtle, tosches_turtle.uns[\"seurat_genes\"],\n",
    "        **fixed_model_kwargs, **opt_model_kwargs,\n",
    "        random_seed=i\n",
    "    ))\n",
    "tosches_turtle_blast = cb.blast.BLAST(tosches_turtle_models, tosches_turtle)\n",
    "tosches_turtle_blast.save(\"build/brain/Tosches_turtle\")"
   ]
  },
  {
   "cell_type": "code",
   "execution_count": null,
   "metadata": {},
   "outputs": [],
   "source": [
    "with open(\"build/brain/Tosches_turtle/stdout.txt\", \"w\") as f:\n",
    "    f.write(capio.stdout)\n",
    "with open(\"build/brain/Tosches_turtle/stderr.txt\", \"w\") as f:\n",
    "    f.write(capio.stderr)"
   ]
  },
  {
   "cell_type": "code",
   "execution_count": null,
   "metadata": {},
   "outputs": [],
   "source": [
    "utils.self_projection(tosches_turtle_blast, \"build/brain/Tosches_turtle\")"
   ]
  },
  {
   "cell_type": "code",
   "execution_count": null,
   "metadata": {},
   "outputs": [],
   "source": [
    "%%writefile build/brain/Tosches_turtle/predictable.txt\n",
    "cell_ontology_class\n",
    "cell_type1\n",
    "region"
   ]
  }
 ],
 "metadata": {
  "kernelspec": {
   "display_name": "Python 3",
   "language": "python",
   "name": "python3"
  },
  "language_info": {
   "codemirror_mode": {
    "name": "ipython",
    "version": 3
   },
   "file_extension": ".py",
   "mimetype": "text/x-python",
   "name": "python",
   "nbconvert_exporter": "python",
   "pygments_lexer": "ipython3",
   "version": "3.6.8"
  },
  "toc": {
   "base_numbering": 1,
   "nav_menu": {},
   "number_sections": true,
   "sideBar": true,
   "skip_h1_title": false,
   "title_cell": "Table of Contents",
   "title_sidebar": "Contents",
   "toc_cell": false,
   "toc_position": {
    "height": "calc(100% - 180px)",
    "left": "10px",
    "top": "150px",
    "width": "336px"
   },
   "toc_section_display": true,
   "toc_window_display": true
  },
  "varInspector": {
   "cols": {
    "lenName": 16,
    "lenType": 16,
    "lenVar": 40
   },
   "kernels_config": {
    "python": {
     "delete_cmd_postfix": "",
     "delete_cmd_prefix": "del ",
     "library": "var_list.py",
     "varRefreshCmd": "print(var_dic_list())"
    },
    "r": {
     "delete_cmd_postfix": ") ",
     "delete_cmd_prefix": "rm(",
     "library": "var_list.r",
     "varRefreshCmd": "cat(var_dic_list()) "
    }
   },
   "types_to_exclude": [
    "module",
    "function",
    "builtin_function_or_method",
    "instance",
    "_Feature"
   ],
   "window_display": false
  }
 },
 "nbformat": 4,
 "nbformat_minor": 2
}
