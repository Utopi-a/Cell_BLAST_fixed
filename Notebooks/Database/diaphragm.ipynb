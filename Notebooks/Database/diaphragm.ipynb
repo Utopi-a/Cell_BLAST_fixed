{
 "cells": [
  {
   "cell_type": "code",
   "execution_count": null,
   "metadata": {
    "ExecuteTime": {
     "end_time": "2019-07-25T17:42:54.504752Z",
     "start_time": "2019-07-25T17:42:50.244538Z"
    }
   },
   "outputs": [],
   "source": [
    "import os\n",
    "import Cell_BLAST as cb\n",
    "import utils\n",
    "os.environ[\"CUDA_VISIBLE_DEVICES\"] = utils.pick_gpu_lowest_memory()\n",
    "cb.config.RANDOM_SEED = 0\n",
    "cb.config.N_JOBS = 4\n",
    "fixed_model_kwargs = dict(\n",
    "    latent_dim=10, cat_dim=20,\n",
    "    epoch=500, patience=20\n",
    ")"
   ]
  },
  {
   "cell_type": "code",
   "execution_count": null,
   "metadata": {
    "ExecuteTime": {
     "end_time": "2019-07-25T17:42:54.514644Z",
     "start_time": "2019-07-25T17:42:54.508125Z"
    }
   },
   "outputs": [],
   "source": [
    "cb.__version__"
   ]
  },
  {
   "cell_type": "markdown",
   "metadata": {},
   "source": [
    "---\n",
    "# Mouse\n",
    "## Quake_Smart-seq2_Diaphragm"
   ]
  },
  {
   "cell_type": "code",
   "execution_count": null,
   "metadata": {
    "ExecuteTime": {
     "end_time": "2019-07-25T17:42:55.510937Z",
     "start_time": "2019-07-25T17:42:54.516977Z"
    }
   },
   "outputs": [],
   "source": [
    "quake_smart_seq2_diaphragm = cb.data.ExprDataSet.read_dataset(\"../../Datasets/data/Quake_Smart-seq2_Diaphragm/data.h5\")\n",
    "utils.peek(quake_smart_seq2_diaphragm, \"build/diaphragm/Quake_Smart-seq2_Diaphragm\")\n",
    "quake_smart_seq2_diaphragm.obs.head()"
   ]
  },
  {
   "cell_type": "code",
   "execution_count": null,
   "metadata": {},
   "outputs": [],
   "source": [
    "quake_smart_seq2_diaphragm.obs[\"cluster\"] = \"cluster_\" + quake_smart_seq2_diaphragm.obs[\"cluster\"].astype(int).astype(str)\n",
    "quake_smart_seq2_diaphragm.obs.dtypes"
   ]
  },
  {
   "cell_type": "code",
   "execution_count": null,
   "metadata": {
    "ExecuteTime": {
     "end_time": "2019-07-25T17:43:33.969286Z",
     "start_time": "2019-07-25T17:42:55.512552Z"
    },
    "scrolled": true
   },
   "outputs": [],
   "source": [
    "#opt_model_kwargs = dict(batch_effect=\"donor\")\n",
    "quake_smart_seq2_diaphragm_model = cb.directi.fit_DIRECTi(\n",
    "    quake_smart_seq2_diaphragm, quake_smart_seq2_diaphragm.uns[\"seurat_genes\"],\n",
    "    **fixed_model_kwargs #**opt_model_kwargs\n",
    ")\n",
    "quake_smart_seq2_diaphragm.latent = quake_smart_seq2_diaphragm_model.inference(quake_smart_seq2_diaphragm)"
   ]
  },
  {
   "cell_type": "code",
   "execution_count": null,
   "metadata": {
    "ExecuteTime": {
     "end_time": "2019-07-25T17:43:56.135822Z",
     "start_time": "2019-07-25T17:43:33.973203Z"
    }
   },
   "outputs": [],
   "source": [
    "ax = quake_smart_seq2_diaphragm.visualize_latent(\"cell_ontology_class\", scatter_kws=dict(rasterized=True))\n",
    "ax.get_figure().savefig(\"build/diaphragm/Quake_Smart-seq2_Diaphragm/cell_ontology_class.svg\", dpi=utils.DPI, bbox_inches=\"tight\")"
   ]
  },
  {
   "cell_type": "code",
   "execution_count": null,
   "metadata": {
    "ExecuteTime": {
     "end_time": "2019-07-25T17:43:56.135822Z",
     "start_time": "2019-07-25T17:43:33.973203Z"
    }
   },
   "outputs": [],
   "source": [
    "ax = quake_smart_seq2_diaphragm.visualize_latent(\"cell_type1\", scatter_kws=dict(rasterized=True))\n",
    "ax.get_figure().savefig(\"build/diaphragm/Quake_Smart-seq2_Diaphragm/cell_type1.svg\", dpi=utils.DPI, bbox_inches=\"tight\")"
   ]
  },
  {
   "cell_type": "code",
   "execution_count": null,
   "metadata": {
    "ExecuteTime": {
     "end_time": "2019-07-25T17:43:56.135822Z",
     "start_time": "2019-07-25T17:43:33.973203Z"
    }
   },
   "outputs": [],
   "source": [
    "ax = quake_smart_seq2_diaphragm.visualize_latent(\"cluster\", scatter_kws=dict(rasterized=True))\n",
    "ax.get_figure().savefig(\"build/diaphragm/Quake_Smart-seq2_Diaphragm/cluster.svg\", dpi=utils.DPI, bbox_inches=\"tight\")"
   ]
  },
  {
   "cell_type": "code",
   "execution_count": null,
   "metadata": {
    "ExecuteTime": {
     "end_time": "2019-07-25T17:43:56.861985Z",
     "start_time": "2019-07-25T17:43:56.138246Z"
    }
   },
   "outputs": [],
   "source": [
    "ax = quake_smart_seq2_diaphragm.visualize_latent(\"donor\", scatter_kws=dict(rasterized=True))\n",
    "ax.get_figure().savefig(\"build/diaphragm/Quake_Smart-seq2_Diaphragm/donor.svg\", dpi=utils.DPI, bbox_inches=\"tight\")"
   ]
  },
  {
   "cell_type": "code",
   "execution_count": null,
   "metadata": {
    "ExecuteTime": {
     "end_time": "2019-07-25T17:43:57.564361Z",
     "start_time": "2019-07-25T17:43:56.865143Z"
    }
   },
   "outputs": [],
   "source": [
    "ax = quake_smart_seq2_diaphragm.visualize_latent(\"gender\", scatter_kws=dict(rasterized=True))\n",
    "ax.get_figure().savefig(\"build/diaphragm/Quake_Smart-seq2_Diaphragm/gender.svg\", dpi=utils.DPI, bbox_inches=\"tight\")"
   ]
  },
  {
   "cell_type": "code",
   "execution_count": null,
   "metadata": {},
   "outputs": [],
   "source": [
    "quake_smart_seq2_diaphragm.write_dataset(\"build/diaphragm/Quake_Smart-seq2_Diaphragm/Quake_Smart-seq2_Diaphragm.h5\")"
   ]
  },
  {
   "cell_type": "code",
   "execution_count": null,
   "metadata": {
    "ExecuteTime": {
     "end_time": "2019-07-25T17:46:11.235809Z",
     "start_time": "2019-07-25T17:43:57.567086Z"
    }
   },
   "outputs": [],
   "source": [
    "%%capture capio\n",
    "quake_smart_seq2_diaphragm_models = [quake_smart_seq2_diaphragm_model]\n",
    "opt_model_kwargs = dict(batch_effect=\"donor\")\n",
    "for i in range(1, cb.config.N_JOBS):\n",
    "    print(\"==== Model %d ====\" % i)\n",
    "    quake_smart_seq2_diaphragm_models.append(cb.directi.fit_DIRECTi(\n",
    "        quake_smart_seq2_diaphragm, quake_smart_seq2_diaphragm.uns[\"seurat_genes\"],\n",
    "        **fixed_model_kwargs, **opt_model_kwargs,\n",
    "        random_seed=i\n",
    "    ))\n",
    "quake_smart_seq2_diaphragm_blast = cb.blast.BLAST(\n",
    "    quake_smart_seq2_diaphragm_models, quake_smart_seq2_diaphragm, \n",
    ")\n",
    "quake_smart_seq2_diaphragm_blast.save(\"build/diaphragm/Quake_Smart-seq2_Diaphragm\")"
   ]
  },
  {
   "cell_type": "code",
   "execution_count": null,
   "metadata": {
    "ExecuteTime": {
     "end_time": "2019-07-25T17:46:11.247648Z",
     "start_time": "2019-07-25T17:46:11.240672Z"
    }
   },
   "outputs": [],
   "source": [
    "with open(\"build/diaphragm/Quake_Smart-seq2_Diaphragm/stdout.txt\", \"w\") as f:\n",
    "    f.write(capio.stdout)\n",
    "with open(\"build/diaphragm/Quake_Smart-seq2_Diaphragm/stderr.txt\", \"w\") as f:\n",
    "    f.write(capio.stderr)"
   ]
  },
  {
   "cell_type": "code",
   "execution_count": null,
   "metadata": {
    "ExecuteTime": {
     "end_time": "2019-07-25T17:46:23.222000Z",
     "start_time": "2019-07-25T17:46:11.249641Z"
    }
   },
   "outputs": [],
   "source": [
    "utils.self_projection(quake_smart_seq2_diaphragm_blast, \"build/diaphragm/Quake_Smart-seq2_Diaphragm\")"
   ]
  },
  {
   "cell_type": "code",
   "execution_count": null,
   "metadata": {},
   "outputs": [],
   "source": [
    "%%writefile build/diaphragm/Quake_Smart-seq2_Diaphragm/predictable.txt\n",
    "cell_ontology_class\n",
    "cell_type1\n",
    "cluster"
   ]
  }
 ],
 "metadata": {
  "kernelspec": {
   "display_name": "Python 3",
   "language": "python",
   "name": "python3"
  },
  "language_info": {
   "codemirror_mode": {
    "name": "ipython",
    "version": 3
   },
   "file_extension": ".py",
   "mimetype": "text/x-python",
   "name": "python",
   "nbconvert_exporter": "python",
   "pygments_lexer": "ipython3",
   "version": "3.6.8"
  },
  "toc": {
   "base_numbering": 1,
   "nav_menu": {},
   "number_sections": true,
   "sideBar": true,
   "skip_h1_title": false,
   "title_cell": "Table of Contents",
   "title_sidebar": "Contents",
   "toc_cell": false,
   "toc_position": {},
   "toc_section_display": true,
   "toc_window_display": true
  },
  "varInspector": {
   "cols": {
    "lenName": 16,
    "lenType": 16,
    "lenVar": 40
   },
   "kernels_config": {
    "python": {
     "delete_cmd_postfix": "",
     "delete_cmd_prefix": "del ",
     "library": "var_list.py",
     "varRefreshCmd": "print(var_dic_list())"
    },
    "r": {
     "delete_cmd_postfix": ") ",
     "delete_cmd_prefix": "rm(",
     "library": "var_list.r",
     "varRefreshCmd": "cat(var_dic_list()) "
    }
   },
   "types_to_exclude": [
    "module",
    "function",
    "builtin_function_or_method",
    "instance",
    "_Feature"
   ],
   "window_display": false
  }
 },
 "nbformat": 4,
 "nbformat_minor": 2
}
