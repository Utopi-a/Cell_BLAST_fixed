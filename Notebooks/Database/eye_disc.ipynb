{
 "cells": [
  {
   "cell_type": "code",
   "execution_count": null,
   "metadata": {
    "ExecuteTime": {
     "end_time": "2019-07-25T05:56:57.973054Z",
     "start_time": "2019-07-25T05:56:52.414100Z"
    }
   },
   "outputs": [],
   "source": [
    "import os\n",
    "import Cell_BLAST as cb\n",
    "import utils\n",
    "os.environ[\"CUDA_VISIBLE_DEVICES\"] = utils.pick_gpu_lowest_memory()\n",
    "cb.config.RANDOM_SEED = 0\n",
    "cb.config.N_JOBS = 4\n",
    "fixed_model_kwargs = dict(\n",
    "    latent_dim=10, cat_dim=20,\n",
    "    epoch=500, patience=20\n",
    ")"
   ]
  },
  {
   "cell_type": "code",
   "execution_count": null,
   "metadata": {
    "ExecuteTime": {
     "end_time": "2019-07-25T05:56:57.986608Z",
     "start_time": "2019-07-25T05:56:57.977639Z"
    }
   },
   "outputs": [],
   "source": [
    "cb.__version__"
   ]
  },
  {
   "cell_type": "markdown",
   "metadata": {},
   "source": [
    "---\n",
    "# Drosophila\n",
    "## Ariss"
   ]
  },
  {
   "cell_type": "code",
   "execution_count": null,
   "metadata": {
    "ExecuteTime": {
     "end_time": "2019-07-25T05:56:59.841371Z",
     "start_time": "2019-07-25T05:56:57.988956Z"
    },
    "scrolled": true
   },
   "outputs": [],
   "source": [
    "ariss = cb.data.ExprDataSet.read_dataset(\"../../Datasets/data/Ariss/data.h5\")\n",
    "utils.peek(ariss, \"build/eye_disc/Ariss\")\n",
    "ariss.obs.head()"
   ]
  },
  {
   "cell_type": "code",
   "execution_count": null,
   "metadata": {
    "ExecuteTime": {
     "end_time": "2019-07-25T05:58:54.340499Z",
     "start_time": "2019-07-25T05:56:59.843397Z"
    },
    "scrolled": true
   },
   "outputs": [],
   "source": [
    "ariss_model = cb.directi.fit_DIRECTi(\n",
    "    ariss, ariss.uns[\"seurat_genes\"],\n",
    "    **fixed_model_kwargs\n",
    ")\n",
    "ariss.latent = ariss_model.inference(ariss)"
   ]
  },
  {
   "cell_type": "code",
   "execution_count": null,
   "metadata": {
    "ExecuteTime": {
     "end_time": "2019-07-25T06:00:11.557554Z",
     "start_time": "2019-07-25T05:58:54.345299Z"
    }
   },
   "outputs": [],
   "source": [
    "ax = ariss.visualize_latent(\"cell_type1\", scatter_kws=dict(rasterized=True))\n",
    "ax.get_figure().savefig(\"build/eye_disc/Ariss/cell_type1.svg\", dpi=utils.DPI, bbox_inches=\"tight\")"
   ]
  },
  {
   "cell_type": "code",
   "execution_count": null,
   "metadata": {
    "ExecuteTime": {
     "end_time": "2019-07-25T06:00:13.642298Z",
     "start_time": "2019-07-25T06:00:12.922601Z"
    }
   },
   "outputs": [],
   "source": [
    "ax = ariss.visualize_latent(\"cell_ontology_class\", scatter_kws=dict(rasterized=True))\n",
    "ax.get_figure().savefig(\"build/eye_disc/Ariss/cell_ontology_class.svg\", dpi=utils.DPI, bbox_inches=\"tight\")"
   ]
  },
  {
   "cell_type": "code",
   "execution_count": null,
   "metadata": {},
   "outputs": [],
   "source": [
    "ariss.write_dataset(\"build/eye_disc/Ariss/Ariss.h5\")"
   ]
  },
  {
   "cell_type": "code",
   "execution_count": null,
   "metadata": {
    "ExecuteTime": {
     "end_time": "2019-07-25T06:05:17.534590Z",
     "start_time": "2019-07-25T06:00:13.644110Z"
    }
   },
   "outputs": [],
   "source": [
    "%%capture capio\n",
    "ariss_models = [ariss_model]\n",
    "for i in range(1, cb.config.N_JOBS):\n",
    "    print(\"==== Model %d ====\" % i)\n",
    "    ariss_models.append(cb.directi.fit_DIRECTi(\n",
    "        ariss, ariss.uns[\"seurat_genes\"],\n",
    "        **fixed_model_kwargs,\n",
    "        random_seed=i\n",
    "    ))\n",
    "ariss_blast = cb.blast.BLAST(ariss_models, ariss)\n",
    "ariss_blast.save(\"build/eye_disc/Ariss\")"
   ]
  },
  {
   "cell_type": "code",
   "execution_count": null,
   "metadata": {
    "ExecuteTime": {
     "end_time": "2019-07-25T06:05:17.543416Z",
     "start_time": "2019-07-25T06:05:17.538438Z"
    }
   },
   "outputs": [],
   "source": [
    "with open(\"build/eye_disc/Ariss/stdout.txt\", \"w\") as f:\n",
    "    f.write(capio.stdout)\n",
    "with open(\"build/eye_disc/Ariss/stderr.txt\", \"w\") as f:\n",
    "    f.write(capio.stderr)"
   ]
  },
  {
   "cell_type": "code",
   "execution_count": null,
   "metadata": {
    "ExecuteTime": {
     "end_time": "2019-07-25T06:05:36.622264Z",
     "start_time": "2019-07-25T06:05:17.545265Z"
    }
   },
   "outputs": [],
   "source": [
    "utils.self_projection(ariss_blast, \"build/eye_disc/Ariss\")"
   ]
  },
  {
   "cell_type": "code",
   "execution_count": null,
   "metadata": {},
   "outputs": [],
   "source": [
    "%%writefile \"build/eye_disc/Ariss/predictable.txt\"\n",
    "cell_ontology_class\n",
    "cell_type1"
   ]
  }
 ],
 "metadata": {
  "kernelspec": {
   "display_name": "Python 3",
   "language": "python",
   "name": "python3"
  },
  "language_info": {
   "codemirror_mode": {
    "name": "ipython",
    "version": 3
   },
   "file_extension": ".py",
   "mimetype": "text/x-python",
   "name": "python",
   "nbconvert_exporter": "python",
   "pygments_lexer": "ipython3",
   "version": "3.6.8"
  },
  "toc": {
   "base_numbering": 1,
   "nav_menu": {},
   "number_sections": true,
   "sideBar": true,
   "skip_h1_title": false,
   "title_cell": "Table of Contents",
   "title_sidebar": "Contents",
   "toc_cell": false,
   "toc_position": {},
   "toc_section_display": true,
   "toc_window_display": true
  },
  "varInspector": {
   "cols": {
    "lenName": 16,
    "lenType": 16,
    "lenVar": 40
   },
   "kernels_config": {
    "python": {
     "delete_cmd_postfix": "",
     "delete_cmd_prefix": "del ",
     "library": "var_list.py",
     "varRefreshCmd": "print(var_dic_list())"
    },
    "r": {
     "delete_cmd_postfix": ") ",
     "delete_cmd_prefix": "rm(",
     "library": "var_list.r",
     "varRefreshCmd": "cat(var_dic_list()) "
    }
   },
   "types_to_exclude": [
    "module",
    "function",
    "builtin_function_or_method",
    "instance",
    "_Feature"
   ],
   "window_display": false
  }
 },
 "nbformat": 4,
 "nbformat_minor": 2
}
