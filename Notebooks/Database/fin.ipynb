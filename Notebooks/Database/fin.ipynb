{
 "cells": [
  {
   "cell_type": "code",
   "execution_count": null,
   "metadata": {
    "ExecuteTime": {
     "end_time": "2019-07-25T07:32:12.082843Z",
     "start_time": "2019-07-25T07:32:00.387498Z"
    }
   },
   "outputs": [],
   "source": [
    "import os\n",
    "import Cell_BLAST as cb\n",
    "import utils\n",
    "os.environ[\"CUDA_VISIBLE_DEVICES\"] = utils.pick_gpu_lowest_memory()\n",
    "cb.config.RANDOM_SEED = 0\n",
    "cb.config.N_JOBS = 4\n",
    "fixed_model_kwargs = dict(\n",
    "    latent_dim=10, cat_dim=20,\n",
    "    epoch=500, patience=20\n",
    ")"
   ]
  },
  {
   "cell_type": "code",
   "execution_count": null,
   "metadata": {},
   "outputs": [],
   "source": [
    "cb.__version__"
   ]
  },
  {
   "cell_type": "markdown",
   "metadata": {},
   "source": [
    "---\n",
    "# Zebrafish\n",
    "## Alemany_Fin"
   ]
  },
  {
   "cell_type": "code",
   "execution_count": null,
   "metadata": {
    "ExecuteTime": {
     "end_time": "2019-07-25T07:32:13.429255Z",
     "start_time": "2019-07-25T07:32:12.086440Z"
    }
   },
   "outputs": [],
   "source": [
    "alemany_fin = cb.data.ExprDataSet.read_dataset(\"../../Datasets/data/Alemany_Fin/data.h5\")\n",
    "utils.peek(alemany_fin, \"build/fin/Alemany_Fin\")\n",
    "alemany_fin.obs.head()"
   ]
  },
  {
   "cell_type": "code",
   "execution_count": null,
   "metadata": {},
   "outputs": [],
   "source": [
    "alemany_fin.obs[\"ClusterID\"] = \"cluster_\" + alemany_fin.obs[\"ClusterID\"].astype(int).astype(str)\n",
    "alemany_fin.obs.dtypes"
   ]
  },
  {
   "cell_type": "code",
   "execution_count": null,
   "metadata": {
    "ExecuteTime": {
     "end_time": "2019-07-25T07:33:32.489863Z",
     "start_time": "2019-07-25T07:32:13.431431Z"
    },
    "scrolled": true
   },
   "outputs": [],
   "source": [
    "opt_model_kwargs = dict(batch_effect=\"donor\")\n",
    "alemany_fin_model = cb.directi.fit_DIRECTi(\n",
    "    alemany_fin, alemany_fin.uns[\"seurat_genes\"],\n",
    "    **fixed_model_kwargs, **opt_model_kwargs\n",
    ")\n",
    "alemany_fin.latent = alemany_fin_model.inference(alemany_fin)"
   ]
  },
  {
   "cell_type": "code",
   "execution_count": null,
   "metadata": {
    "ExecuteTime": {
     "end_time": "2019-07-25T07:35:28.259208Z",
     "start_time": "2019-07-25T07:35:27.016559Z"
    },
    "scrolled": false
   },
   "outputs": [],
   "source": [
    "ax = alemany_fin.visualize_latent(\"cell_ontology_class\", scatter_kws=dict(rasterized=True))\n",
    "ax.get_figure().savefig(\"build/fin/Alemany_Fin/cell_ontology_class.svg\", dpi=utils.DPI, bbox_inches=\"tight\")"
   ]
  },
  {
   "cell_type": "code",
   "execution_count": null,
   "metadata": {
    "ExecuteTime": {
     "end_time": "2019-07-25T07:35:27.014345Z",
     "start_time": "2019-07-25T07:33:32.492381Z"
    },
    "scrolled": false
   },
   "outputs": [],
   "source": [
    "ax = alemany_fin.visualize_latent(\"cell_type1\", scatter_kws=dict(rasterized=True))\n",
    "ax.get_figure().savefig(\"build/fin/Alemany_Fin/cell_type1.svg\", dpi=utils.DPI, bbox_inches=\"tight\")"
   ]
  },
  {
   "cell_type": "code",
   "execution_count": null,
   "metadata": {
    "ExecuteTime": {
     "end_time": "2019-07-25T07:35:27.014345Z",
     "start_time": "2019-07-25T07:33:32.492381Z"
    },
    "scrolled": false
   },
   "outputs": [],
   "source": [
    "ax = alemany_fin.visualize_latent(\"ClusterID\", scatter_kws=dict(rasterized=True))\n",
    "ax.get_figure().savefig(\"build/fin/Alemany_Fin/ClusterID.svg\", dpi=utils.DPI, bbox_inches=\"tight\")"
   ]
  },
  {
   "cell_type": "code",
   "execution_count": null,
   "metadata": {
    "ExecuteTime": {
     "end_time": "2019-07-25T07:35:29.527851Z",
     "start_time": "2019-07-25T07:35:28.261305Z"
    }
   },
   "outputs": [],
   "source": [
    "ax = alemany_fin.visualize_latent(\"donor\", scatter_kws=dict(rasterized=True))\n",
    "ax.get_figure().savefig(\"build/fin/Alemany_Fin/donor.svg\", dpi=utils.DPI, bbox_inches=\"tight\")"
   ]
  },
  {
   "cell_type": "code",
   "execution_count": null,
   "metadata": {
    "ExecuteTime": {
     "end_time": "2019-07-25T07:35:29.527851Z",
     "start_time": "2019-07-25T07:35:28.261305Z"
    }
   },
   "outputs": [],
   "source": [
    "ax = alemany_fin.visualize_latent(\"free_annotation\", scatter_kws=dict(rasterized=True))\n",
    "ax.get_figure().savefig(\"build/fin/Alemany_Fin/free_annotation.svg\", dpi=utils.DPI, bbox_inches=\"tight\")"
   ]
  },
  {
   "cell_type": "code",
   "execution_count": null,
   "metadata": {},
   "outputs": [],
   "source": [
    "alemany_fin.write_dataset(\"build/fin/Alemany_Fin/Alemany_Fin.h5\")"
   ]
  },
  {
   "cell_type": "code",
   "execution_count": null,
   "metadata": {
    "ExecuteTime": {
     "end_time": "2019-07-25T07:39:36.573314Z",
     "start_time": "2019-07-25T07:35:29.531257Z"
    }
   },
   "outputs": [],
   "source": [
    "%%capture capio\n",
    "alemany_fin_models = [alemany_fin_model]\n",
    "opt_model_kwargs = dict(batch_effect=\"donor\")\n",
    "for i in range(1, cb.config.N_JOBS):\n",
    "    print(\"==== Model %d ====\" % i)\n",
    "    alemany_fin_models.append(cb.directi.fit_DIRECTi(\n",
    "        alemany_fin, alemany_fin.uns[\"seurat_genes\"],\n",
    "        **fixed_model_kwargs, **opt_model_kwargs,\n",
    "        random_seed=i\n",
    "    ))\n",
    "alemany_fin_blast = cb.blast.BLAST(alemany_fin_models, alemany_fin)\n",
    "alemany_fin_blast.save(\"build/fin/Alemany_Fin\")"
   ]
  },
  {
   "cell_type": "code",
   "execution_count": null,
   "metadata": {
    "ExecuteTime": {
     "end_time": "2019-07-25T07:39:36.581570Z",
     "start_time": "2019-07-25T07:39:36.576905Z"
    }
   },
   "outputs": [],
   "source": [
    "with open(\"build/fin/Alemany_Fin/stdout.txt\", \"w\") as f:\n",
    "    f.write(capio.stdout)\n",
    "with open(\"build/fin/Alemany_Fin/stderr.txt\", \"w\") as f:\n",
    "    f.write(capio.stderr)"
   ]
  },
  {
   "cell_type": "code",
   "execution_count": null,
   "metadata": {
    "ExecuteTime": {
     "end_time": "2019-07-25T07:39:56.579125Z",
     "start_time": "2019-07-25T07:39:36.583107Z"
    }
   },
   "outputs": [],
   "source": [
    "utils.self_projection(alemany_fin_blast, \"build/fin/Alemany_Fin\")"
   ]
  },
  {
   "cell_type": "code",
   "execution_count": null,
   "metadata": {},
   "outputs": [],
   "source": [
    "%%writefile build/fin/Alemany_Fin/predictable.txt\n",
    "cell_ontology_class\n",
    "cell_type1\n",
    "ClusterID"
   ]
  }
 ],
 "metadata": {
  "kernelspec": {
   "display_name": "Python 3",
   "language": "python",
   "name": "python3"
  },
  "language_info": {
   "codemirror_mode": {
    "name": "ipython",
    "version": 3
   },
   "file_extension": ".py",
   "mimetype": "text/x-python",
   "name": "python",
   "nbconvert_exporter": "python",
   "pygments_lexer": "ipython3",
   "version": "3.6.8"
  },
  "toc": {
   "base_numbering": 1,
   "nav_menu": {},
   "number_sections": true,
   "sideBar": true,
   "skip_h1_title": false,
   "title_cell": "Table of Contents",
   "title_sidebar": "Contents",
   "toc_cell": false,
   "toc_position": {},
   "toc_section_display": true,
   "toc_window_display": true
  },
  "varInspector": {
   "cols": {
    "lenName": 16,
    "lenType": 16,
    "lenVar": 40
   },
   "kernels_config": {
    "python": {
     "delete_cmd_postfix": "",
     "delete_cmd_prefix": "del ",
     "library": "var_list.py",
     "varRefreshCmd": "print(var_dic_list())"
    },
    "r": {
     "delete_cmd_postfix": ") ",
     "delete_cmd_prefix": "rm(",
     "library": "var_list.r",
     "varRefreshCmd": "cat(var_dic_list()) "
    }
   },
   "types_to_exclude": [
    "module",
    "function",
    "builtin_function_or_method",
    "instance",
    "_Feature"
   ],
   "window_display": false
  }
 },
 "nbformat": 4,
 "nbformat_minor": 2
}
