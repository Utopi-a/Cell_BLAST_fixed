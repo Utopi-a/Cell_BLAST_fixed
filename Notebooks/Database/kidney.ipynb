{
 "cells": [
  {
   "cell_type": "code",
   "execution_count": null,
   "metadata": {
    "ExecuteTime": {
     "end_time": "2019-07-30T07:05:56.987120Z",
     "start_time": "2019-07-30T07:05:49.369777Z"
    }
   },
   "outputs": [],
   "source": [
    "import os\n",
    "import functools\n",
    "import numpy as np\n",
    "import Cell_BLAST as cb\n",
    "import utils\n",
    "os.environ[\"CUDA_VISIBLE_DEVICES\"] = utils.pick_gpu_lowest_memory()\n",
    "cb.config.RANDOM_SEED = 0\n",
    "cb.config.N_JOBS = 4\n",
    "fixed_model_kwargs = dict(\n",
    "    latent_dim=10, cat_dim=20,\n",
    "    epoch=500, patience=20\n",
    ")"
   ]
  },
  {
   "cell_type": "code",
   "execution_count": null,
   "metadata": {
    "ExecuteTime": {
     "end_time": "2019-07-30T07:05:57.003117Z",
     "start_time": "2019-07-30T07:05:56.997169Z"
    }
   },
   "outputs": [],
   "source": [
    "cb.__version__"
   ]
  },
  {
   "cell_type": "markdown",
   "metadata": {},
   "source": [
    "---\n",
    "\n",
    "# Mouse\n",
    "\n",
    "## Karaiskos_mouse"
   ]
  },
  {
   "cell_type": "code",
   "execution_count": null,
   "metadata": {
    "ExecuteTime": {
     "end_time": "2019-07-30T07:05:58.772979Z",
     "start_time": "2019-07-30T07:05:57.011182Z"
    }
   },
   "outputs": [],
   "source": [
    "karaiskos_mouse = cb.data.ExprDataSet.read_dataset(\"../../Datasets/data/Karaiskos_mouse/data.h5\")\n",
    "utils.peek(karaiskos_mouse, \"build/kidney/Karaiskos_mouse\")\n",
    "karaiskos_mouse.obs.head()"
   ]
  },
  {
   "cell_type": "code",
   "execution_count": null,
   "metadata": {},
   "outputs": [],
   "source": [
    "karaiskos_mouse.obs.dtypes"
   ]
  },
  {
   "cell_type": "code",
   "execution_count": null,
   "metadata": {
    "ExecuteTime": {
     "end_time": "2019-07-29T16:37:40.705121Z",
     "start_time": "2019-07-29T16:36:07.464669Z"
    },
    "scrolled": true
   },
   "outputs": [],
   "source": [
    "opt_model_kwargs = dict(prob_module_kwargs=dict(lambda_reg=0.01))  # We have numerical issue here so `lambda_prob_reg` is used.\n",
    "karaiskos_mouse_model = cb.directi.fit_DIRECTi(\n",
    "    karaiskos_mouse, karaiskos_mouse.uns[\"seurat_genes\"],\n",
    "    **fixed_model_kwargs, **opt_model_kwargs\n",
    ")\n",
    "karaiskos_mouse.latent = karaiskos_mouse_model.inference(karaiskos_mouse)"
   ]
  },
  {
   "cell_type": "code",
   "execution_count": null,
   "metadata": {},
   "outputs": [],
   "source": [
    "ax = karaiskos_mouse.visualize_latent(\"cell_ontology_class\", scatter_kws=dict(rasterized=True))\n",
    "ax.get_figure().savefig(\"build/kidney/Karaiskos_mouse/cell_ontology_class.svg\", dpi=utils.DPI, bbox_inches=\"tight\")"
   ]
  },
  {
   "cell_type": "code",
   "execution_count": null,
   "metadata": {},
   "outputs": [],
   "source": [
    "ax = karaiskos_mouse.visualize_latent(\"cell_type1\", scatter_kws=dict(rasterized=True))\n",
    "ax.get_figure().savefig(\"build/kidney/Karaiskos_mouse/cell_type1.svg\", dpi=utils.DPI, bbox_inches=\"tight\")"
   ]
  },
  {
   "cell_type": "code",
   "execution_count": null,
   "metadata": {},
   "outputs": [],
   "source": [
    "karaiskos_mouse.obs[\"replicate\"] = \"replicate_\" + karaiskos_mouse.obs[\"replicate\"]\n",
    "ax = karaiskos_mouse.visualize_latent(\"replicate\", scatter_kws=dict(rasterized=True))\n",
    "ax.get_figure().savefig(\"build/kidney/Karaiskos_mouse/replicate.svg\", dpi=utils.DPI, bbox_inches=\"tight\")"
   ]
  },
  {
   "cell_type": "code",
   "execution_count": null,
   "metadata": {},
   "outputs": [],
   "source": [
    "karaiskos_mouse.write_dataset(\"build/kidney/Karaiskos_mouse/Karaiskos_mouse.h5\")"
   ]
  },
  {
   "cell_type": "code",
   "execution_count": null,
   "metadata": {},
   "outputs": [],
   "source": [
    "%%capture capio\n",
    "karaiskos_mouse_models = [karaiskos_mouse_model]\n",
    "for i in range(1, cb.config.N_JOBS):\n",
    "    print(\"==== Model %d ====\" % i)\n",
    "    karaiskos_mouse_models.append(cb.directi.fit_DIRECTi(\n",
    "        karaiskos_mouse, karaiskos_mouse.uns[\"seurat_genes\"],\n",
    "        **fixed_model_kwargs, **opt_model_kwargs,\n",
    "        random_seed=i\n",
    "    ))\n",
    "karaiskos_mouse_blast = cb.blast.BLAST(karaiskos_mouse_models, karaiskos_mouse)\n",
    "karaiskos_mouse_blast.save(\"build/kidney/Karaiskos_mouse\")"
   ]
  },
  {
   "cell_type": "code",
   "execution_count": null,
   "metadata": {},
   "outputs": [],
   "source": [
    "with open(\"build/kidney/Karaiskos_mouse/stdout.txt\", \"w\") as f:\n",
    "    f.write(capio.stdout)\n",
    "with open(\"build/kidney/Karaiskos_mouse/stderr.txt\", \"w\") as f:\n",
    "    f.write(capio.stderr)"
   ]
  },
  {
   "cell_type": "code",
   "execution_count": null,
   "metadata": {},
   "outputs": [],
   "source": [
    "utils.self_projection(karaiskos_mouse_blast, \"build/kidney/Karaiskos_mouse\")"
   ]
  },
  {
   "cell_type": "code",
   "execution_count": null,
   "metadata": {},
   "outputs": [],
   "source": [
    "%%writefile build/kidney/Karaiskos_mouse/predictable.txt\n",
    "cell_ontology_class\n",
    "cell_type1"
   ]
  },
  {
   "cell_type": "markdown",
   "metadata": {},
   "source": [
    "## Adam"
   ]
  },
  {
   "cell_type": "code",
   "execution_count": null,
   "metadata": {
    "ExecuteTime": {
     "end_time": "2019-07-30T07:06:00.199318Z",
     "start_time": "2019-07-30T07:05:58.779194Z"
    }
   },
   "outputs": [],
   "source": [
    "adam = cb.data.ExprDataSet.read_dataset(\"../../Datasets/data/Adam/data.h5\")\n",
    "utils.peek(adam, \"build/kidney/Adam\")\n",
    "adam.obs.head()"
   ]
  },
  {
   "cell_type": "code",
   "execution_count": null,
   "metadata": {
    "ExecuteTime": {
     "end_time": "2019-07-30T07:06:00.199318Z",
     "start_time": "2019-07-30T07:05:58.779194Z"
    }
   },
   "outputs": [],
   "source": [
    "adam.obs.dtypes"
   ]
  },
  {
   "cell_type": "code",
   "execution_count": null,
   "metadata": {
    "scrolled": true
   },
   "outputs": [],
   "source": [
    "adam_model = cb.directi.fit_DIRECTi(\n",
    "    adam, adam.uns[\"seurat_genes\"],\n",
    "    **fixed_model_kwargs\n",
    ")\n",
    "adam.latent = adam_model.inference(adam)"
   ]
  },
  {
   "cell_type": "code",
   "execution_count": null,
   "metadata": {},
   "outputs": [],
   "source": [
    "ax = adam.visualize_latent(\"cell_ontology_class\", scatter_kws=dict(rasterized=True))\n",
    "ax.get_figure().savefig(\"build/kidney/Adam/cell_ontology_class.svg\", dpi=utils.DPI, bbox_inches=\"tight\")"
   ]
  },
  {
   "cell_type": "code",
   "execution_count": null,
   "metadata": {},
   "outputs": [],
   "source": [
    "ax = adam.visualize_latent(\"cell_type1\", scatter_kws=dict(rasterized=True))\n",
    "ax.get_figure().savefig(\"build/kidney/Adam/cell_type1.svg\", dpi=utils.DPI, bbox_inches=\"tight\")"
   ]
  },
  {
   "cell_type": "code",
   "execution_count": null,
   "metadata": {},
   "outputs": [],
   "source": [
    "adam.write_dataset(\"build/kidney/Adam/Adam.h5\")"
   ]
  },
  {
   "cell_type": "code",
   "execution_count": null,
   "metadata": {},
   "outputs": [],
   "source": [
    "%%capture capio\n",
    "adam_models = [adam_model]\n",
    "for i in range(1, cb.config.N_JOBS):\n",
    "    print(\"==== Model %d ====\" % i)\n",
    "    adam_models.append(cb.directi.fit_DIRECTi(\n",
    "        adam, adam.uns[\"seurat_genes\"],\n",
    "        **fixed_model_kwargs,\n",
    "        random_seed=i\n",
    "    ))\n",
    "adam_blast = cb.blast.BLAST(adam_models, adam)\n",
    "adam_blast.save(\"build/kidney/Adam\")"
   ]
  },
  {
   "cell_type": "code",
   "execution_count": null,
   "metadata": {},
   "outputs": [],
   "source": [
    "with open(\"build/kidney/Adam/stdout.txt\", \"w\") as f:\n",
    "    f.write(capio.stdout)\n",
    "with open(\"build/kidney/Adam/stderr.txt\", \"w\") as f:\n",
    "    f.write(capio.stderr)"
   ]
  },
  {
   "cell_type": "code",
   "execution_count": null,
   "metadata": {},
   "outputs": [],
   "source": [
    "utils.self_projection(adam_blast, \"build/kidney/Adam\")"
   ]
  },
  {
   "cell_type": "code",
   "execution_count": null,
   "metadata": {},
   "outputs": [],
   "source": [
    "%%writefile build/kidney/Adam/predictable.txt\n",
    "cell_ontology_class\n",
    "cell_type1"
   ]
  },
  {
   "cell_type": "markdown",
   "metadata": {},
   "source": [
    "## Quake_10x_Kidney"
   ]
  },
  {
   "cell_type": "code",
   "execution_count": null,
   "metadata": {
    "ExecuteTime": {
     "end_time": "2019-07-30T07:06:01.500794Z",
     "start_time": "2019-07-30T07:06:00.209160Z"
    }
   },
   "outputs": [],
   "source": [
    "quake_10x_kidney = cb.data.ExprDataSet.read_dataset(\"../../Datasets/data/Quake_10x_Kidney/data.h5\")\n",
    "utils.peek(quake_10x_kidney, \"build/kidney/Quake_10x_Kidney\")\n",
    "quake_10x_kidney.obs.head()"
   ]
  },
  {
   "cell_type": "code",
   "execution_count": null,
   "metadata": {},
   "outputs": [],
   "source": [
    "quake_10x_kidney.obs[\"cluster\"] = \"cluster_\" + quake_10x_kidney.obs[\"cluster\"].astype(int).astype(str)\n",
    "quake_10x_kidney.obs.dtypes"
   ]
  },
  {
   "cell_type": "code",
   "execution_count": null,
   "metadata": {
    "scrolled": true
   },
   "outputs": [],
   "source": [
    "opt_model_kwargs = dict(batch_effect=\"donor\")\n",
    "quake_10x_kidney_model = cb.directi.fit_DIRECTi(\n",
    "    quake_10x_kidney, quake_10x_kidney.uns[\"seurat_genes\"],\n",
    "    **fixed_model_kwargs, **opt_model_kwargs\n",
    ")\n",
    "quake_10x_kidney.latent = quake_10x_kidney_model.inference(quake_10x_kidney)"
   ]
  },
  {
   "cell_type": "code",
   "execution_count": null,
   "metadata": {
    "scrolled": false
   },
   "outputs": [],
   "source": [
    "ax = quake_10x_kidney.visualize_latent(\"cell_ontology_class\", scatter_kws=dict(rasterized=True))\n",
    "ax.get_figure().savefig(\"build/kidney/Quake_10x_Kidney/cell_ontology_class.svg\", dpi=utils.DPI, bbox_inches=\"tight\")"
   ]
  },
  {
   "cell_type": "code",
   "execution_count": null,
   "metadata": {
    "scrolled": false
   },
   "outputs": [],
   "source": [
    "ax = quake_10x_kidney.visualize_latent(\"cell_type1\", scatter_kws=dict(rasterized=True))\n",
    "ax.get_figure().savefig(\"build/kidney/Quake_10x_Kidney/cell_type1.svg\", dpi=utils.DPI, bbox_inches=\"tight\")"
   ]
  },
  {
   "cell_type": "code",
   "execution_count": null,
   "metadata": {
    "scrolled": false
   },
   "outputs": [],
   "source": [
    "ax = quake_10x_kidney.visualize_latent(\"cluster\", scatter_kws=dict(rasterized=True))\n",
    "ax.get_figure().savefig(\"build/kidney/Quake_10x_Kidney/cluster.svg\", dpi=utils.DPI, bbox_inches=\"tight\")"
   ]
  },
  {
   "cell_type": "code",
   "execution_count": null,
   "metadata": {},
   "outputs": [],
   "source": [
    "ax = quake_10x_kidney.visualize_latent(\"donor\", scatter_kws=dict(rasterized=True))\n",
    "ax.get_figure().savefig(\"build/kidney/Quake_10x_Kidney/donor.svg\", dpi=utils.DPI, bbox_inches=\"tight\")"
   ]
  },
  {
   "cell_type": "code",
   "execution_count": null,
   "metadata": {},
   "outputs": [],
   "source": [
    "quake_10x_kidney.write_dataset(\"build/kidney/Quake_10x_Kidney/Quake_10x_Kidney.h5\")"
   ]
  },
  {
   "cell_type": "code",
   "execution_count": null,
   "metadata": {},
   "outputs": [],
   "source": [
    "%%capture capio\n",
    "quake_10x_kidney_models = [quake_10x_kidney_model]\n",
    "for i in range(1, cb.config.N_JOBS):\n",
    "    print(\"==== Model %d ====\" % i)\n",
    "    quake_10x_kidney_models.append(cb.directi.fit_DIRECTi(\n",
    "        quake_10x_kidney, quake_10x_kidney.uns[\"seurat_genes\"],\n",
    "        **fixed_model_kwargs, **opt_model_kwargs,\n",
    "        random_seed=i\n",
    "    ))\n",
    "quake_10x_kidney_blast = cb.blast.BLAST(quake_10x_kidney_models, quake_10x_kidney)\n",
    "quake_10x_kidney_blast.save(\"build/kidney/Quake_10x_Kidney\")"
   ]
  },
  {
   "cell_type": "code",
   "execution_count": null,
   "metadata": {},
   "outputs": [],
   "source": [
    "with open(\"build/kidney/Quake_10x_Kidney/stdout.txt\", \"w\") as f:\n",
    "    f.write(capio.stdout)\n",
    "with open(\"build/kidney/Quake_10x_Kidney/stderr.txt\", \"w\") as f:\n",
    "    f.write(capio.stderr)"
   ]
  },
  {
   "cell_type": "code",
   "execution_count": null,
   "metadata": {},
   "outputs": [],
   "source": [
    "utils.self_projection(quake_10x_kidney_blast, \"build/kidney/Quake_10x_Kidney\")"
   ]
  },
  {
   "cell_type": "code",
   "execution_count": null,
   "metadata": {},
   "outputs": [],
   "source": [
    "%%writefile build/kidney/Quake_10x_Kidney/predictable.txt\n",
    "cell_ontology_class\n",
    "cell_type1\n",
    "cluster"
   ]
  },
  {
   "cell_type": "markdown",
   "metadata": {},
   "source": [
    "## Mouse aligned"
   ]
  },
  {
   "cell_type": "code",
   "execution_count": null,
   "metadata": {
    "ExecuteTime": {
     "end_time": "2019-07-30T07:08:20.540940Z",
     "start_time": "2019-07-30T07:06:06.338694Z"
    }
   },
   "outputs": [],
   "source": [
    "if not os.path.exists(\"build/kidney/ALIGNED_Mus_musculus_Kidney\"):\n",
    "    os.makedirs(\"build/kidney/ALIGNED_Mus_musculus_Kidney\")\n",
    "quake_10x_kidney.obs[\"quake_10x_kidney_donor\"] = quake_10x_kidney.obs[\"donor\"]\n",
    "quake_smart_seq2_kidney = cb.data.ExprDataSet.read_dataset(\n",
    "    \"../../Datasets/data/Quake_Smart-seq2_Kidney/data.h5\"\n",
    ")\n",
    "quake_smart_seq2_kidney.obs[\"cluster\"] = quake_smart_seq2_kidney.obs[\"cluster\"].astype(int).astype(str)\n",
    "mouse = cb.data.ExprDataSet.merge_datasets(dict(\n",
    "    karaiskos_mouse=karaiskos_mouse, adam=adam,\n",
    "    quake_smart_seq2_kidney=quake_smart_seq2_kidney,\n",
    "    quake_10x_kidney=quake_10x_kidney\n",
    "), merge_uns_slots=[\"seurat_genes\"])"
   ]
  },
  {
   "cell_type": "code",
   "execution_count": null,
   "metadata": {},
   "outputs": [],
   "source": [
    "mouse.obs.dtypes"
   ]
  },
  {
   "cell_type": "markdown",
   "metadata": {},
   "source": [
    "Subsampling to make cell type distribution comparable."
   ]
  },
  {
   "cell_type": "code",
   "execution_count": null,
   "metadata": {
    "ExecuteTime": {
     "end_time": "2019-07-30T07:08:20.563649Z",
     "start_time": "2019-07-30T07:08:20.549776Z"
    }
   },
   "outputs": [],
   "source": [
    "np.unique(karaiskos_mouse.obs[\"cell_type1\"], return_counts=True)"
   ]
  },
  {
   "cell_type": "code",
   "execution_count": null,
   "metadata": {
    "ExecuteTime": {
     "end_time": "2019-07-30T07:08:21.925661Z",
     "start_time": "2019-07-30T07:08:20.570003Z"
    }
   },
   "outputs": [],
   "source": [
    "np.random.seed(0)\n",
    "mask_dict = {}\n",
    "for ct in np.unique(karaiskos_mouse.obs[\"cell_type1\"]):\n",
    "    mask_dict[ct] = (karaiskos_mouse.obs[\"cell_type1\"] == ct).values\n",
    "mask_dict[\"Podocytes\"][np.random.choice(\n",
    "    np.where(mask_dict[\"Podocytes\"])[0],\n",
    "    size=9000, replace=False\n",
    ")] = False\n",
    "mask_dict[\"Endothelium\"][np.random.choice(\n",
    "    np.where(mask_dict[\"Endothelium\"])[0],\n",
    "    size=700, replace=False\n",
    ")] = False\n",
    "karaiskos_mouse_downsampled = karaiskos_mouse[\n",
    "    functools.reduce(np.logical_or, mask_dict.values()), :\n",
    "]"
   ]
  },
  {
   "cell_type": "code",
   "execution_count": null,
   "metadata": {
    "ExecuteTime": {
     "end_time": "2019-07-30T07:08:21.939159Z",
     "start_time": "2019-07-30T07:08:21.932835Z"
    }
   },
   "outputs": [],
   "source": [
    "np.unique(karaiskos_mouse_downsampled.obs[\"cell_type1\"], return_counts=True)"
   ]
  },
  {
   "cell_type": "code",
   "execution_count": null,
   "metadata": {
    "ExecuteTime": {
     "end_time": "2019-07-30T07:10:33.975809Z",
     "start_time": "2019-07-30T07:08:21.946302Z"
    }
   },
   "outputs": [],
   "source": [
    "mouse_downsampled = cb.data.ExprDataSet.merge_datasets(dict(\n",
    "    karaiskos_mouse=karaiskos_mouse_downsampled, adam=adam,\n",
    "    quake_smart_seq2_kidney=quake_smart_seq2_kidney,\n",
    "    quake_10x_kidney=quake_10x_kidney\n",
    "), merge_uns_slots=[\"seurat_genes\"])"
   ]
  },
  {
   "cell_type": "code",
   "execution_count": null,
   "metadata": {
    "ExecuteTime": {
     "end_time": "2019-07-30T07:20:11.432882Z",
     "start_time": "2019-07-30T07:17:52.516281Z"
    },
    "scrolled": true
   },
   "outputs": [],
   "source": [
    "opt_model_kwargs = dict(\n",
    "    batch_effect=[\"dataset_name\", \"quake_10x_kidney_donor\"],\n",
    "    rmbatch_module_kwargs=dict(lambda_reg=0.005),\n",
    "    prob_module_kwargs=dict(lambda_reg=0.01)\n",
    ")\n",
    "mouse_model = cb.directi.fit_DIRECTi(\n",
    "    mouse_downsampled, mouse_downsampled.uns[\"seurat_genes\"],\n",
    "    **fixed_model_kwargs, **opt_model_kwargs\n",
    ")\n",
    "mouse.latent = mouse_model.inference(mouse)"
   ]
  },
  {
   "cell_type": "code",
   "execution_count": null,
   "metadata": {
    "ExecuteTime": {
     "end_time": "2019-07-30T07:30:42.576968Z",
     "start_time": "2019-07-30T07:20:11.442846Z"
    },
    "scrolled": false
   },
   "outputs": [],
   "source": [
    "ax = mouse.visualize_latent(\"cell_ontology_class\", width=10, height=10, size=5, scatter_kws=dict(rasterized=True))\n",
    "ax.get_figure().savefig(\"build/kidney/ALIGNED_Mus_musculus_Kidney/cell_ontology_class.svg\", dpi=utils.DPI, bbox_inches=\"tight\")"
   ]
  },
  {
   "cell_type": "code",
   "execution_count": null,
   "metadata": {
    "ExecuteTime": {
     "end_time": "2019-07-30T07:39:47.369774Z",
     "start_time": "2019-07-30T07:39:43.756497Z"
    }
   },
   "outputs": [],
   "source": [
    "ax = mouse.visualize_latent(\"dataset_name\", width=10, height=10, size=5, scatter_kws=dict(rasterized=True))\n",
    "ax.get_figure().savefig(\"build/kidney/ALIGNED_Mus_musculus_Kidney/study.svg\", dpi=utils.DPI, bbox_inches=\"tight\")"
   ]
  },
  {
   "cell_type": "code",
   "execution_count": null,
   "metadata": {},
   "outputs": [],
   "source": [
    "mouse.write_dataset(\"build/kidney/ALIGNED_Mus_musculus_Kidney/ALIGNED_Mus_musculus_Kidney.h5\")"
   ]
  },
  {
   "cell_type": "code",
   "execution_count": null,
   "metadata": {},
   "outputs": [],
   "source": [
    "%%capture capio\n",
    "mouse_models = [mouse_model]\n",
    "for i in range(1, cb.config.N_JOBS):\n",
    "    print(\"==== Model %d ====\" % i)\n",
    "    mouse_models.append(cb.directi.fit_DIRECTi(\n",
    "        mouse, mouse.uns[\"seurat_genes\"],\n",
    "        **fixed_model_kwargs, **opt_model_kwargs,\n",
    "        random_seed=i\n",
    "    ))\n",
    "mouse_blast = cb.blast.BLAST(mouse_models, mouse)\n",
    "mouse_blast.save(\"build/kidney/ALIGNED_Mus_musculus_Kidney\")"
   ]
  },
  {
   "cell_type": "code",
   "execution_count": null,
   "metadata": {},
   "outputs": [],
   "source": [
    "with open(\"build/kidney/ALIGNED_Mus_musculus_Kidney/stdout.txt\", \"w\") as f:\n",
    "    f.write(capio.stdout)\n",
    "with open(\"build/kidney/ALIGNED_Mus_musculus_Kidney/stderr.txt\", \"w\") as f:\n",
    "    f.write(capio.stderr)"
   ]
  },
  {
   "cell_type": "code",
   "execution_count": null,
   "metadata": {},
   "outputs": [],
   "source": [
    "utils.self_projection(mouse_blast, \"build/kidney/ALIGNED_Mus_musculus_Kidney\")"
   ]
  },
  {
   "cell_type": "code",
   "execution_count": null,
   "metadata": {},
   "outputs": [],
   "source": [
    "%%writefile build/kidney/ALIGNED_Mus_musculus_Kidney/predictable.txt\n",
    "cell_ontology_class"
   ]
  },
  {
   "cell_type": "markdown",
   "metadata": {},
   "source": [
    "---\n",
    "\n",
    "# Human\n",
    "\n",
    "## Wang_Kidney"
   ]
  },
  {
   "cell_type": "code",
   "execution_count": null,
   "metadata": {},
   "outputs": [],
   "source": [
    "wang_kidney = cb.data.ExprDataSet.read_dataset(\"../../Datasets/data/Wang_Kidney/data.h5\")\n",
    "utils.peek(wang_kidney, \"build/kidney/Wang_Kidney\")\n",
    "wang_kidney.obs.head()"
   ]
  },
  {
   "cell_type": "code",
   "execution_count": null,
   "metadata": {},
   "outputs": [],
   "source": [
    "wang_kidney.obs.dtypes"
   ]
  },
  {
   "cell_type": "code",
   "execution_count": null,
   "metadata": {
    "scrolled": true
   },
   "outputs": [],
   "source": [
    "wang_kidney_model = cb.directi.fit_DIRECTi(\n",
    "    wang_kidney, wang_kidney.uns[\"seurat_genes\"],\n",
    "    **fixed_model_kwargs\n",
    ")\n",
    "wang_kidney.latent = wang_kidney_model.inference(wang_kidney)"
   ]
  },
  {
   "cell_type": "code",
   "execution_count": null,
   "metadata": {},
   "outputs": [],
   "source": [
    "ax = wang_kidney.visualize_latent(\"cell_ontology_class\", scatter_kws=dict(rasterized=True))\n",
    "ax.get_figure().savefig(\"build/kidney/Wang_Kidney/cell_ontology_class.svg\", dpi=utils.DPI, bbox_inches=\"tight\")"
   ]
  },
  {
   "cell_type": "code",
   "execution_count": null,
   "metadata": {},
   "outputs": [],
   "source": [
    "ax = wang_kidney.visualize_latent(\"cell_type1\", scatter_kws=dict(rasterized=True))\n",
    "ax.get_figure().savefig(\"build/kidney/Wang_Kidney/cell_type1.svg\", dpi=utils.DPI, bbox_inches=\"tight\")"
   ]
  },
  {
   "cell_type": "code",
   "execution_count": null,
   "metadata": {},
   "outputs": [],
   "source": [
    "ax = wang_kidney.visualize_latent(\"donor\", scatter_kws=dict(rasterized=True))\n",
    "ax.get_figure().savefig(\"build/kidney/Wang_Kidney/donor.svg\", dpi=utils.DPI, bbox_inches=\"tight\")"
   ]
  },
  {
   "cell_type": "code",
   "execution_count": null,
   "metadata": {},
   "outputs": [],
   "source": [
    "wang_kidney.write_dataset(\"build/kidney/Wang_Kidney/Wang_Kidney.h5\")"
   ]
  },
  {
   "cell_type": "code",
   "execution_count": null,
   "metadata": {},
   "outputs": [],
   "source": [
    "%%capture capio\n",
    "wang_kidney_models = [wang_kidney_model]\n",
    "for i in range(1, cb.config.N_JOBS):\n",
    "    print(\"==== Model %d ====\" % i)\n",
    "    wang_kidney_models.append(cb.directi.fit_DIRECTi(\n",
    "        wang_kidney, wang_kidney.uns[\"seurat_genes\"],\n",
    "        **fixed_model_kwargs,\n",
    "        random_seed=i\n",
    "    ))\n",
    "wang_kidney_blast = cb.blast.BLAST(wang_kidney_models, wang_kidney)\n",
    "wang_kidney_blast.save(\"build/kidney/Wang_Kidney\")"
   ]
  },
  {
   "cell_type": "code",
   "execution_count": null,
   "metadata": {},
   "outputs": [],
   "source": [
    "with open(\"build/kidney/Wang_Kidney/stdout.txt\", \"w\") as f:\n",
    "    f.write(capio.stdout)\n",
    "with open(\"build/kidney/Wang_Kidney/stderr.txt\", \"w\") as f:\n",
    "    f.write(capio.stderr)"
   ]
  },
  {
   "cell_type": "code",
   "execution_count": null,
   "metadata": {},
   "outputs": [],
   "source": [
    "utils.self_projection(wang_kidney_blast, \"build/kidney/Wang_Kidney\")"
   ]
  },
  {
   "cell_type": "code",
   "execution_count": null,
   "metadata": {},
   "outputs": [],
   "source": [
    "%%writefile build/kidney/Wang_Kidney/predictable.txt\n",
    "cell_ontology_class\n",
    "cell_type1"
   ]
  },
  {
   "cell_type": "markdown",
   "metadata": {},
   "source": [
    "\\>\\>\\> Discard in alignment"
   ]
  },
  {
   "cell_type": "markdown",
   "metadata": {},
   "source": [
    "## Wu_human"
   ]
  },
  {
   "cell_type": "code",
   "execution_count": null,
   "metadata": {},
   "outputs": [],
   "source": [
    "wu_human = cb.data.ExprDataSet.read_dataset(\"../../Datasets/data/Wu_human/data.h5\")\n",
    "utils.peek(wu_human, \"build/kidney/Wu_human\")\n",
    "wu_human.obs.head()"
   ]
  },
  {
   "cell_type": "code",
   "execution_count": null,
   "metadata": {},
   "outputs": [],
   "source": [
    "wu_human.obs.dtypes"
   ]
  },
  {
   "cell_type": "code",
   "execution_count": null,
   "metadata": {
    "scrolled": false
   },
   "outputs": [],
   "source": [
    "wu_human_model = cb.directi.fit_DIRECTi(\n",
    "    wu_human, wu_human.uns[\"seurat_genes\"],\n",
    "    **fixed_model_kwargs\n",
    ")\n",
    "wu_human.latent = wu_human_model.inference(wu_human)"
   ]
  },
  {
   "cell_type": "code",
   "execution_count": null,
   "metadata": {},
   "outputs": [],
   "source": [
    "ax = wu_human.visualize_latent(\"cell_ontology_class\", scatter_kws=dict(rasterized=True))\n",
    "ax.get_figure().savefig(\"build/kidney/Wu_human/cell_ontology_class.svg\", dpi=utils.DPI, bbox_inches=\"tight\")"
   ]
  },
  {
   "cell_type": "code",
   "execution_count": null,
   "metadata": {},
   "outputs": [],
   "source": [
    "ax = wu_human.visualize_latent(\"cell_type1\", scatter_kws=dict(rasterized=True))\n",
    "ax.get_figure().savefig(\"build/kidney/Wu_human/cell_type1.svg\", dpi=utils.DPI, bbox_inches=\"tight\")"
   ]
  },
  {
   "cell_type": "code",
   "execution_count": null,
   "metadata": {},
   "outputs": [],
   "source": [
    "wu_human.write_dataset(\"build/kidney/Wu_human/Wu_human.h5\")"
   ]
  },
  {
   "cell_type": "code",
   "execution_count": null,
   "metadata": {},
   "outputs": [],
   "source": [
    "%%capture capio\n",
    "wu_human_models = [wu_human_model]\n",
    "for i in range(1, cb.config.N_JOBS):\n",
    "    print(\"==== Model %d ====\" % i)\n",
    "    wu_human_models.append(cb.directi.fit_DIRECTi(\n",
    "        wu_human, wu_human.uns[\"seurat_genes\"],\n",
    "        **fixed_model_kwargs,\n",
    "        random_seed=i\n",
    "    ))\n",
    "wu_human_blast = cb.blast.BLAST(wu_human_models, wu_human)\n",
    "wu_human_blast.save(\"build/kidney/Wu_human\")"
   ]
  },
  {
   "cell_type": "code",
   "execution_count": null,
   "metadata": {},
   "outputs": [],
   "source": [
    "with open(\"build/kidney/Wu_human/stdout.txt\", \"w\") as f:\n",
    "    f.write(capio.stdout)\n",
    "with open(\"build/kidney/Wu_human/stderr.txt\", \"w\") as f:\n",
    "    f.write(capio.stderr)"
   ]
  },
  {
   "cell_type": "code",
   "execution_count": null,
   "metadata": {},
   "outputs": [],
   "source": [
    "utils.self_projection(wu_human_blast, \"build/kidney/Wu_human\")"
   ]
  },
  {
   "cell_type": "code",
   "execution_count": null,
   "metadata": {},
   "outputs": [],
   "source": [
    "%%writefile build/kidney/Wu_human/predictable.txt\n",
    "cell_ontology_class\n",
    "cell_type1"
   ]
  },
  {
   "cell_type": "markdown",
   "metadata": {},
   "source": [
    "## Young"
   ]
  },
  {
   "cell_type": "code",
   "execution_count": null,
   "metadata": {},
   "outputs": [],
   "source": [
    "young = cb.data.ExprDataSet.read_dataset(\"../../Datasets/data/Young/data.h5\")\n",
    "utils.peek(young, \"build/kidney/Young\")\n",
    "young.obs.head()"
   ]
  },
  {
   "cell_type": "code",
   "execution_count": null,
   "metadata": {},
   "outputs": [],
   "source": [
    "young.obs.dtypes"
   ]
  },
  {
   "cell_type": "code",
   "execution_count": null,
   "metadata": {
    "scrolled": true
   },
   "outputs": [],
   "source": [
    "opt_model_kwargs = dict(batch_effect=\"donor\")\n",
    "young_model = cb.directi.fit_DIRECTi(\n",
    "    young, young.uns[\"seurat_genes\"],\n",
    "    **fixed_model_kwargs, **opt_model_kwargs\n",
    ")\n",
    "young.latent = young_model.inference(young)"
   ]
  },
  {
   "cell_type": "code",
   "execution_count": null,
   "metadata": {},
   "outputs": [],
   "source": [
    "ax = young.visualize_latent(\"cell_ontology_class\", scatter_kws=dict(rasterized=True))\n",
    "ax.get_figure().savefig(\"build/kidney/Young/cell_ontology_class.svg\", dpi=utils.DPI, bbox_inches=\"tight\")"
   ]
  },
  {
   "cell_type": "code",
   "execution_count": null,
   "metadata": {},
   "outputs": [],
   "source": [
    "ax = young.visualize_latent(\"cell_type0\", scatter_kws=dict(rasterized=True))\n",
    "ax.get_figure().savefig(\"build/kidney/Young/cell_type0.svg\", dpi=utils.DPI, bbox_inches=\"tight\")"
   ]
  },
  {
   "cell_type": "code",
   "execution_count": null,
   "metadata": {},
   "outputs": [],
   "source": [
    "ax = young.visualize_latent(\"cell_type1\", scatter_kws=dict(rasterized=True))\n",
    "ax.get_figure().savefig(\"build/kidney/Young/cell_type1.svg\", dpi=utils.DPI, bbox_inches=\"tight\")"
   ]
  },
  {
   "cell_type": "code",
   "execution_count": null,
   "metadata": {},
   "outputs": [],
   "source": [
    "ax = young.visualize_latent(\"cell_type2\", scatter_kws=dict(rasterized=True))\n",
    "ax.get_figure().savefig(\"build/kidney/Young/cell_type2.svg\", dpi=utils.DPI, bbox_inches=\"tight\")"
   ]
  },
  {
   "cell_type": "code",
   "execution_count": null,
   "metadata": {},
   "outputs": [],
   "source": [
    "ax = young.visualize_latent(\"ClusterID\", scatter_kws=dict(rasterized=True))\n",
    "ax.get_figure().savefig(\"build/kidney/Young/ClusterID.svg\", dpi=utils.DPI, bbox_inches=\"tight\")"
   ]
  },
  {
   "cell_type": "code",
   "execution_count": null,
   "metadata": {},
   "outputs": [],
   "source": [
    "ax = young.visualize_latent(\"region\", scatter_kws=dict(rasterized=True))\n",
    "ax.get_figure().savefig(\"build/kidney/Young/region.svg\", dpi=utils.DPI, bbox_inches=\"tight\")"
   ]
  },
  {
   "cell_type": "code",
   "execution_count": null,
   "metadata": {},
   "outputs": [],
   "source": [
    "ax = young.visualize_latent(\"donor\", scatter_kws=dict(rasterized=True))\n",
    "ax.get_figure().savefig(\"build/kidney/Young/donor.svg\", dpi=utils.DPI, bbox_inches=\"tight\")"
   ]
  },
  {
   "cell_type": "code",
   "execution_count": null,
   "metadata": {},
   "outputs": [],
   "source": [
    "young.write_dataset(\"build/kidney/Young/Young.h5\")"
   ]
  },
  {
   "cell_type": "code",
   "execution_count": null,
   "metadata": {},
   "outputs": [],
   "source": [
    "%%capture capio\n",
    "young_models = [young_model]\n",
    "for i in range(1, cb.config.N_JOBS):\n",
    "    print(\"==== Model %d ====\" % i)\n",
    "    young_models.append(cb.directi.fit_DIRECTi(\n",
    "        young, young.uns[\"seurat_genes\"],\n",
    "        **fixed_model_kwargs, **opt_model_kwargs,\n",
    "        random_seed=i\n",
    "    ))\n",
    "young_blast = cb.blast.BLAST(young_models, young)\n",
    "young_blast.save(\"build/kidney/Young\")"
   ]
  },
  {
   "cell_type": "code",
   "execution_count": null,
   "metadata": {},
   "outputs": [],
   "source": [
    "with open(\"build/kidney/Young/stdout.txt\", \"w\") as f:\n",
    "    f.write(capio.stdout)\n",
    "with open(\"build/kidney/Young/stderr.txt\", \"w\") as f:\n",
    "    f.write(capio.stderr)"
   ]
  },
  {
   "cell_type": "code",
   "execution_count": null,
   "metadata": {},
   "outputs": [],
   "source": [
    "utils.self_projection(young_blast, \"build/kidney/Young\")"
   ]
  },
  {
   "cell_type": "code",
   "execution_count": null,
   "metadata": {},
   "outputs": [],
   "source": [
    "%%writefile build/kidney/Young/predictable.txt\n",
    "cell_ontology_class\n",
    "cell_type0\n",
    "cell_type1\n",
    "cell_type2\n",
    "ClusterID\n",
    "region"
   ]
  },
  {
   "cell_type": "markdown",
   "metadata": {},
   "source": [
    "## Park"
   ]
  },
  {
   "cell_type": "code",
   "execution_count": null,
   "metadata": {},
   "outputs": [],
   "source": [
    "park = cb.data.ExprDataSet.read_dataset(\"../../Datasets/data/Park/data.h5\")\n",
    "utils.peek(park, \"build/kidney/Park\")\n",
    "park.obs.head()"
   ]
  },
  {
   "cell_type": "code",
   "execution_count": null,
   "metadata": {},
   "outputs": [],
   "source": [
    "park.obs.dtypes"
   ]
  },
  {
   "cell_type": "code",
   "execution_count": null,
   "metadata": {
    "scrolled": true
   },
   "outputs": [],
   "source": [
    "opt_model_kwargs = dict(batch_effect=\"donor\")\n",
    "park_model = cb.directi.fit_DIRECTi(\n",
    "    park, park.uns[\"seurat_genes\"],\n",
    "    **fixed_model_kwargs, **opt_model_kwargs\n",
    ")\n",
    "park.latent = park_model.inference(park)"
   ]
  },
  {
   "cell_type": "code",
   "execution_count": null,
   "metadata": {},
   "outputs": [],
   "source": [
    "ax = park.visualize_latent(\"cell_ontology_class\", scatter_kws=dict(rasterized=True))\n",
    "ax.get_figure().savefig(\"build/kidney/Park/cell_ontology_class.svg\", dpi=utils.DPI, bbox_inches=\"tight\")"
   ]
  },
  {
   "cell_type": "code",
   "execution_count": null,
   "metadata": {},
   "outputs": [],
   "source": [
    "ax = park.visualize_latent(\"cell_type1\", scatter_kws=dict(rasterized=True))\n",
    "ax.get_figure().savefig(\"build/kidney/Park/cell_type1.svg\", dpi=utils.DPI, bbox_inches=\"tight\")"
   ]
  },
  {
   "cell_type": "code",
   "execution_count": null,
   "metadata": {},
   "outputs": [],
   "source": [
    "ax = park.visualize_latent(\"full_name\", scatter_kws=dict(rasterized=True))\n",
    "ax.get_figure().savefig(\"build/kidney/Park/full_name.svg\", dpi=utils.DPI, bbox_inches=\"tight\")"
   ]
  },
  {
   "cell_type": "code",
   "execution_count": null,
   "metadata": {},
   "outputs": [],
   "source": [
    "ax = park.visualize_latent(\"donor\", scatter_kws=dict(rasterized=True))\n",
    "ax.get_figure().savefig(\"build/kidney/Park/donor.svg\", dpi=utils.DPI, bbox_inches=\"tight\")"
   ]
  },
  {
   "cell_type": "code",
   "execution_count": null,
   "metadata": {},
   "outputs": [],
   "source": [
    "park.write_dataset(\"build/kidney/Park/Park.h5\")"
   ]
  },
  {
   "cell_type": "code",
   "execution_count": null,
   "metadata": {},
   "outputs": [],
   "source": [
    "%%capture capio\n",
    "park_models = [park_model]\n",
    "for i in range(1, cb.config.N_JOBS):\n",
    "    print(\"==== Model %d ====\" % i)\n",
    "    park_models.append(cb.directi.fit_DIRECTi(\n",
    "        park, park.uns[\"seurat_genes\"],\n",
    "        **fixed_model_kwargs, **opt_model_kwargs,\n",
    "        random_seed=i\n",
    "    ))\n",
    "park_blast = cb.blast.BLAST(park_models, park)\n",
    "park_blast.save(\"build/kidney/Park\")"
   ]
  },
  {
   "cell_type": "code",
   "execution_count": null,
   "metadata": {},
   "outputs": [],
   "source": [
    "with open(\"build/kidney/Park/stdout.txt\", \"w\") as f:\n",
    "    f.write(capio.stdout)\n",
    "with open(\"build/kidney/Park/stderr.txt\", \"w\") as f:\n",
    "    f.write(capio.stderr)"
   ]
  },
  {
   "cell_type": "code",
   "execution_count": null,
   "metadata": {},
   "outputs": [],
   "source": [
    "utils.self_projection(park_blast, \"build/kidney/Park\")"
   ]
  },
  {
   "cell_type": "code",
   "execution_count": null,
   "metadata": {},
   "outputs": [],
   "source": [
    "%%writefile build/kidney/Park/predictable.txt\n",
    "cell_ontology_class\n",
    "cell_type1\n",
    "full_name"
   ]
  },
  {
   "cell_type": "markdown",
   "metadata": {},
   "source": [
    "## Hochane"
   ]
  },
  {
   "cell_type": "code",
   "execution_count": null,
   "metadata": {},
   "outputs": [],
   "source": [
    "hochane = cb.data.ExprDataSet.read_dataset(\"../../Datasets/data/Hochane/data.h5\")\n",
    "utils.peek(hochane, \"build/kidney/Hochane\")\n",
    "hochane.obs.head()"
   ]
  },
  {
   "cell_type": "code",
   "execution_count": null,
   "metadata": {},
   "outputs": [],
   "source": [
    "hochane.obs.dtypes"
   ]
  },
  {
   "cell_type": "code",
   "execution_count": null,
   "metadata": {},
   "outputs": [],
   "source": [
    "opt_model_kwargs = dict(batch_effect=\"donor\")\n",
    "hochane_model = cb.directi.fit_DIRECTi(\n",
    "    hochane, hochane.uns[\"seurat_genes\"], \n",
    "    **fixed_model_kwargs, **opt_model_kwargs\n",
    ")\n",
    "hochane.latent = hochane_model.inference(hochane)"
   ]
  },
  {
   "cell_type": "code",
   "execution_count": null,
   "metadata": {},
   "outputs": [],
   "source": [
    "ax = hochane.visualize_latent(\"cell_ontology_class\", scatter_kws=dict(rasterized=True))\n",
    "ax.get_figure().savefig(\"build/kidney/Hochane/cell_ontology_class.svg\", dpi=utils.DPI, bbox_inches=\"tight\")"
   ]
  },
  {
   "cell_type": "code",
   "execution_count": null,
   "metadata": {},
   "outputs": [],
   "source": [
    "ax = hochane.visualize_latent(\"donor\", scatter_kws=dict(rasterized=True))\n",
    "ax.get_figure().savefig(\"build/kidney/Hochane/donor.svg\", dpi=utils.DPI, bbox_inches=\"tight\")"
   ]
  },
  {
   "cell_type": "code",
   "execution_count": null,
   "metadata": {},
   "outputs": [],
   "source": [
    "ax = hochane.visualize_latent(\"cell_type1\", scatter_kws=dict(rasterized=True))\n",
    "ax.get_figure().savefig(\"build/kidney/Hochane/cell_type1.svg\", dpi=utils.DPI, bbox_inches=\"tight\")"
   ]
  },
  {
   "cell_type": "code",
   "execution_count": null,
   "metadata": {},
   "outputs": [],
   "source": [
    "hochane.write_dataset(\"build/kidney/Hochane/Hochane.h5\")"
   ]
  },
  {
   "cell_type": "code",
   "execution_count": null,
   "metadata": {},
   "outputs": [],
   "source": [
    "%%capture capio\n",
    "hochane_models = [hochane_model]\n",
    "for i in range(1, cb.config.N_JOBS):\n",
    "    print(\"==== Model %d ====\" % i)\n",
    "    hochane_models.append(cb.directi.fit_DIRECTi(\n",
    "        hochane, hochane.uns[\"seurat_genes\"],\n",
    "        **fixed_model_kwargs, **opt_model_kwargs,\n",
    "        random_seed=i\n",
    "    ))\n",
    "hochane_blast = cb.blast.BLAST(hochane_models, hochane)\n",
    "hochane_blast.save(\"build/kidney/Hochane\")"
   ]
  },
  {
   "cell_type": "code",
   "execution_count": null,
   "metadata": {},
   "outputs": [],
   "source": [
    "with open(\"build/kidney/Hochane/stdout.txt\", \"w\") as f:\n",
    "    f.write(capio.stdout)\n",
    "with open(\"build/kidney/Hochane/stderr.txt\", \"w\") as f:\n",
    "    f.write(capio.stderr)"
   ]
  },
  {
   "cell_type": "code",
   "execution_count": null,
   "metadata": {},
   "outputs": [],
   "source": [
    "utils.self_projection(hochane_blast, \"build/kidney/Hochane\")"
   ]
  },
  {
   "cell_type": "code",
   "execution_count": null,
   "metadata": {},
   "outputs": [],
   "source": [
    "%%writefile build/kidney/Hochane/predictable.txt\n",
    "cell_ontology_class\n",
    "cell_type1"
   ]
  },
  {
   "cell_type": "code",
   "execution_count": null,
   "metadata": {},
   "outputs": [],
   "source": []
  },
  {
   "cell_type": "markdown",
   "metadata": {},
   "source": [
    "## Stewart_Mature"
   ]
  },
  {
   "cell_type": "code",
   "execution_count": null,
   "metadata": {},
   "outputs": [],
   "source": [
    "stewart_mature = cb.data.ExprDataSet.read_dataset(\"../../Datasets/data/Stewart_Mature/data.h5\")\n",
    "utils.peek(stewart_mature, \"build/kidney/Stewart_Mature\")\n",
    "stewart_mature.obs.head()"
   ]
  },
  {
   "cell_type": "code",
   "execution_count": null,
   "metadata": {},
   "outputs": [],
   "source": [
    "stewart_mature.obs.dtypes"
   ]
  },
  {
   "cell_type": "code",
   "execution_count": null,
   "metadata": {},
   "outputs": [],
   "source": [
    "stewart_mature.uns[\"scanpy_genes\"].shape"
   ]
  },
  {
   "cell_type": "code",
   "execution_count": null,
   "metadata": {
    "scrolled": true
   },
   "outputs": [],
   "source": [
    "opt_model_kwargs = dict(\n",
    "    prob_module_kwargs=dict(lambda_reg=0.01), \n",
    "    batch_effect=\"donor\", \n",
    "    rmbatch_module=\"MNNAdversarial\",\n",
    "    rmbatch_module_kwargs=dict(lambda_reg=0.001)\n",
    ")\n",
    "stewart_mature_model = cb.directi.fit_DIRECTi(\n",
    "    stewart_mature, stewart_mature.uns[\"scanpy_genes\"], \n",
    "    **fixed_model_kwargs, **opt_model_kwargs\n",
    ")\n",
    "stewart_mature.latent = stewart_mature_model.inference(stewart_mature)"
   ]
  },
  {
   "cell_type": "code",
   "execution_count": null,
   "metadata": {},
   "outputs": [],
   "source": [
    "ax = stewart_mature.visualize_latent(\"cell_ontology_class\", scatter_kws=dict(rasterized=True))\n",
    "ax.get_figure().savefig(\"build/kidney/Stewart_Mature/cell_ontology_class.svg\", dpi=utils.DPI, bbox_inches=\"tight\")"
   ]
  },
  {
   "cell_type": "code",
   "execution_count": null,
   "metadata": {},
   "outputs": [],
   "source": [
    "ax = stewart_mature.visualize_latent(\"donor\", scatter_kws=dict(rasterized=True))\n",
    "ax.get_figure().savefig(\"build/kidney/Stewart_Mature/donor.svg\", dpi=utils.DPI, bbox_inches=\"tight\")"
   ]
  },
  {
   "cell_type": "code",
   "execution_count": null,
   "metadata": {},
   "outputs": [],
   "source": [
    "ax = stewart_mature.visualize_latent(\"cell_type1\", scatter_kws=dict(rasterized=True))\n",
    "ax.get_figure().savefig(\"build/kidney/Stewart_Mature/cell_type1.svg\", dpi=utils.DPI, bbox_inches=\"tight\")"
   ]
  },
  {
   "cell_type": "code",
   "execution_count": null,
   "metadata": {},
   "outputs": [],
   "source": [
    "stewart_mature.write_dataset(\"build/kidney/Stewart_Mature/Stewart_Mature.h5\")"
   ]
  },
  {
   "cell_type": "code",
   "execution_count": null,
   "metadata": {},
   "outputs": [],
   "source": [
    "%%capture capio\n",
    "stewart_mature_models = [stewart_mature_model]\n",
    "for i in range(1, cb.config.N_JOBS):\n",
    "    print(\"==== Model %d ====\" % i)\n",
    "    stewart_mature_models.append(cb.directi.fit_DIRECTi(\n",
    "        stewart_mature, stewart_mature.uns[\"seurat_genes\"],\n",
    "        **fixed_model_kwargs, **opt_model_kwargs,\n",
    "        random_seed=i\n",
    "    ))\n",
    "stewart_mature_blast = cb.blast.BLAST(stewart_mature_models, stewart_mature)\n",
    "stewart_mature_blast.save(\"build/kidney/Stewart_Mature\")"
   ]
  },
  {
   "cell_type": "code",
   "execution_count": null,
   "metadata": {},
   "outputs": [],
   "source": [
    "with open(\"build/kidney/Stewart_Mature/stdout.txt\", \"w\") as f:\n",
    "    f.write(capio.stdout)\n",
    "with open(\"build/kidney/Stewart_Mature/stderr.txt\", \"w\") as f:\n",
    "    f.write(capio.stderr)"
   ]
  },
  {
   "cell_type": "code",
   "execution_count": null,
   "metadata": {},
   "outputs": [],
   "source": [
    "utils.self_projection(stewart_mature_blast, \"build/kidney/Stewart_Mature\")"
   ]
  },
  {
   "cell_type": "code",
   "execution_count": null,
   "metadata": {},
   "outputs": [],
   "source": [
    "%%writefile build/kidney/Stewart_Mature/predictable.txt\n",
    "cell_ontology_class\n",
    "cell_type1\n",
    "cell_type0"
   ]
  },
  {
   "cell_type": "markdown",
   "metadata": {},
   "source": [
    "## Stewart_Fetal"
   ]
  },
  {
   "cell_type": "code",
   "execution_count": null,
   "metadata": {},
   "outputs": [],
   "source": [
    "stewart_fetal = cb.data.ExprDataSet.read_dataset(\"../../Datasets/data/Stewart_Fetal/data.h5\")\n",
    "utils.peek(stewart_fetal, \"build/kidney/Stewart_Fetal\")\n",
    "stewart_fetal.obs.head()"
   ]
  },
  {
   "cell_type": "code",
   "execution_count": null,
   "metadata": {},
   "outputs": [],
   "source": [
    "stewart_fetal.obs.dtypes"
   ]
  },
  {
   "cell_type": "code",
   "execution_count": null,
   "metadata": {},
   "outputs": [],
   "source": [
    "stewart_fetal.uns[\"scanpy_genes\"].shape"
   ]
  },
  {
   "cell_type": "code",
   "execution_count": null,
   "metadata": {},
   "outputs": [],
   "source": [
    "opt_model_kwargs = dict(\n",
    "    prob_module_kwargs=dict(lambda_reg=0.01), \n",
    "    batch_effect=\"donor\", \n",
    "    rmbatch_module=\"MNNAdversarial\",\n",
    "    rmbatch_module_kwargs=dict(lambda_reg=0.001)\n",
    ")\n",
    "stewart_fetal_model = cb.directi.fit_DIRECTi(\n",
    "    stewart_fetal, stewart_fetal.uns[\"scanpy_genes\"], \n",
    "    **fixed_model_kwargs, **opt_model_kwargs\n",
    ")\n",
    "stewart_fetal.latent = stewart_fetal_model.inference(stewart_fetal)"
   ]
  },
  {
   "cell_type": "code",
   "execution_count": null,
   "metadata": {},
   "outputs": [],
   "source": [
    "ax = stewart_fetal.visualize_latent(\"cell_ontology_class\", scatter_kws=dict(rasterized=True))\n",
    "ax.get_figure().savefig(\"build/kidney/Stewart_Fetal/cell_ontology_class.svg\", dpi=utils.DPI, bbox_inches=\"tight\")"
   ]
  },
  {
   "cell_type": "code",
   "execution_count": null,
   "metadata": {},
   "outputs": [],
   "source": [
    "ax = stewart_fetal.visualize_latent(\"donor\", scatter_kws=dict(rasterized=True))\n",
    "ax.get_figure().savefig(\"build/kidney/Stewart_Fetal/donor.svg\", dpi=utils.DPI, bbox_inches=\"tight\")"
   ]
  },
  {
   "cell_type": "code",
   "execution_count": null,
   "metadata": {},
   "outputs": [],
   "source": [
    "ax = stewart_fetal.visualize_latent(\"sample\", scatter_kws=dict(rasterized=True))\n",
    "ax.get_figure().savefig(\"build/kidney/Stewart_Fetal/sample.svg\", dpi=utils.DPI, bbox_inches=\"tight\")"
   ]
  },
  {
   "cell_type": "code",
   "execution_count": null,
   "metadata": {},
   "outputs": [],
   "source": [
    "ax = stewart_fetal.visualize_latent(\"cell_type1\", scatter_kws=dict(rasterized=True))\n",
    "ax.get_figure().savefig(\"build/kidney/Stewart_Fetal/cell_type1.svg\", dpi=utils.DPI, bbox_inches=\"tight\")"
   ]
  },
  {
   "cell_type": "code",
   "execution_count": null,
   "metadata": {},
   "outputs": [],
   "source": [
    "stewart_fetal.write_dataset(\"build/kidney/Stewart_Fetal/Stewart_Fetal.h5\")"
   ]
  },
  {
   "cell_type": "code",
   "execution_count": null,
   "metadata": {},
   "outputs": [],
   "source": [
    "%%capture capio\n",
    "stewart_fetal_models = [stewart_fetal_model]\n",
    "for i in range(1, cb.config.N_JOBS):\n",
    "    print(\"==== Model %d ====\" % i)\n",
    "    stewart_fetal_models.append(cb.directi.fit_DIRECTi(\n",
    "        stewart_fetal, stewart_fetal.uns[\"seurat_genes\"],\n",
    "        **fixed_model_kwargs, **opt_model_kwargs,\n",
    "        random_seed=i\n",
    "    ))\n",
    "stewart_fetal_blast = cb.blast.BLAST(stewart_fetal_models, stewart_fetal)\n",
    "stewart_fetal_blast.save(\"build/kidney/Stewart_Fetal\")"
   ]
  },
  {
   "cell_type": "code",
   "execution_count": null,
   "metadata": {},
   "outputs": [],
   "source": [
    "with open(\"build/kidney/Stewart_Fetal/stdout.txt\", \"w\") as f:\n",
    "    f.write(capio.stdout)\n",
    "with open(\"build/kidney/Stewart_Fetal/stderr.txt\", \"w\") as f:\n",
    "    f.write(capio.stderr)"
   ]
  },
  {
   "cell_type": "code",
   "execution_count": null,
   "metadata": {},
   "outputs": [],
   "source": [
    "utils.self_projection(stewart_fetal_blast, \"build/kidney/Stewart_Fetal\")"
   ]
  },
  {
   "cell_type": "code",
   "execution_count": null,
   "metadata": {},
   "outputs": [],
   "source": [
    "%%writefile build/kidney/Stewart_Fetal/predictable.txt\n",
    "cell_ontology_class\n",
    "cell_type1"
   ]
  },
  {
   "cell_type": "markdown",
   "metadata": {},
   "source": [
    "## Human aligned"
   ]
  },
  {
   "cell_type": "code",
   "execution_count": null,
   "metadata": {},
   "outputs": [],
   "source": [
    "if not os.path.exists(\"build/kidney/ALIGNED_Homo_sapiens_Kidney\"):\n",
    "    os.makedirs(\"build/kidney/ALIGNED_Homo_sapiens_Kidney\")\n",
    "young.obs[\"young_donor\"] = young.obs[\"donor\"]\n",
    "hochane.obs[\"hochane_donor\"] = hochane.obs[\"donor\"]\n",
    "stewart_mature.obs[\"stewart_mature_donor\"] = stewart_mature.obs[\"donor\"]\n",
    "stewart_fetal.obs[\"stewart_fetal_donor\"] = stewart_fetal.obs[\"donor\"]\n",
    "# Change \"scanpy_genes\" to merge uns here\n",
    "stewart_mature.uns[\"seurat_genes\"]=stewart_mature.uns[\"scanpy_genes\"]\n",
    "stewart_fetal.uns[\"seurat_genes\"]=stewart_fetal.uns[\"scanpy_genes\"]\n",
    "human = cb.data.ExprDataSet.merge_datasets(dict(\n",
    "    wu_human=wu_human, young=young, hochane=hochane, stewart_mature=stewart_mature, stewart_fetal=stewart_fetal\n",
    "), merge_uns_slots=[\"seurat_genes\"])"
   ]
  },
  {
   "cell_type": "code",
   "execution_count": null,
   "metadata": {},
   "outputs": [],
   "source": [
    "human.obs.dtypes"
   ]
  },
  {
   "cell_type": "code",
   "execution_count": null,
   "metadata": {
    "scrolled": true
   },
   "outputs": [],
   "source": [
    "opt_model_kwargs = dict(\n",
    "    batch_effect=[\"dataset_name\", \"young_donor\", \"hochane_donor\", \"stewart_mature_donor\", \"stewart_fetal_donor\"],\n",
    "    rmbatch_module=[\"MNNAdversarial\", \"Adversarial\", \"Adversarial\", \"MNNAdversarial\", \"MNNAdversarial\"],\n",
    "    rmbatch_module_kwargs=dict(lambda_reg=0.001),\n",
    "    prob_module_kwargs=dict(lambda_reg=0.01)\n",
    ")\n",
    "human_model = cb.directi.fit_DIRECTi(\n",
    "    human, human.uns[\"seurat_genes\"],\n",
    "    **fixed_model_kwargs, **opt_model_kwargs\n",
    ")\n",
    "human.latent = human_model.inference(human)"
   ]
  },
  {
   "cell_type": "code",
   "execution_count": null,
   "metadata": {
    "scrolled": false
   },
   "outputs": [],
   "source": [
    "ax = human.visualize_latent(\"cell_ontology_class\", width=10, height=10, size=5, scatter_kws=dict(rasterized=True))\n",
    "ax.get_figure().savefig(\"build/kidney/ALIGNED_Homo_sapiens_Kidney/cell_ontology_class.svg\", dpi=utils.DPI, bbox_inches=\"tight\")"
   ]
  },
  {
   "cell_type": "code",
   "execution_count": null,
   "metadata": {
    "scrolled": false
   },
   "outputs": [],
   "source": [
    "ax = human.visualize_latent(\"dataset_name\", width=10, height=10, size=5, scatter_kws=dict(rasterized=True))\n",
    "ax.get_figure().savefig(\"build/kidney/ALIGNED_Homo_sapiens_Kidney/study.svg\", dpi=utils.DPI, bbox_inches=\"tight\")"
   ]
  },
  {
   "cell_type": "code",
   "execution_count": null,
   "metadata": {
    "scrolled": false
   },
   "outputs": [],
   "source": [
    "ax = human.visualize_latent(\"donor\", width=10, height=10, size=5, scatter_kws=dict(rasterized=True))\n",
    "ax.get_figure().savefig(\"build/kidney/ALIGNED_Homo_sapiens_Kidney/donor.svg\", dpi=utils.DPI, bbox_inches=\"tight\")"
   ]
  },
  {
   "cell_type": "code",
   "execution_count": null,
   "metadata": {},
   "outputs": [],
   "source": [
    "human.write_dataset(\"build/kidney/ALIGNED_Homo_sapiens_Kidney/ALIGNED_Homo_sapiens_Kidney.h5\")"
   ]
  },
  {
   "cell_type": "code",
   "execution_count": null,
   "metadata": {},
   "outputs": [],
   "source": [
    "%%capture capio\n",
    "human_models = [human_model]\n",
    "for i in range(1, cb.config.N_JOBS):\n",
    "    print(\"==== Model %d ====\" % i)\n",
    "    human_models.append(cb.directi.fit_DIRECTi(\n",
    "        human, human.uns[\"seurat_genes\"],\n",
    "        **fixed_model_kwargs, **opt_model_kwargs,\n",
    "        random_seed=i\n",
    "    ))\n",
    "human_blast = cb.blast.BLAST(human_models, human)\n",
    "human_blast.save(\"build/kidney/ALIGNED_Homo_sapiens_Kidney\")"
   ]
  },
  {
   "cell_type": "code",
   "execution_count": null,
   "metadata": {},
   "outputs": [],
   "source": [
    "with open(\"build/kidney/ALIGNED_Homo_sapiens_Kidney/stdout.txt\", \"w\") as f:\n",
    "    f.write(capio.stdout)\n",
    "with open(\"build/kidney/ALIGNED_Homo_sapiens_Kidney/stderr.txt\", \"w\") as f:\n",
    "    f.write(capio.stderr)"
   ]
  },
  {
   "cell_type": "code",
   "execution_count": null,
   "metadata": {},
   "outputs": [],
   "source": [
    "utils.self_projection(human_blast, \"build/kidney/ALIGNED_Homo_sapiens_Kidney\")"
   ]
  },
  {
   "cell_type": "code",
   "execution_count": null,
   "metadata": {},
   "outputs": [],
   "source": [
    "%%writefile build/kidney/ALIGNED_Homo_sapiens_Kidney/predictable.txt\n",
    "cell_ontology_class"
   ]
  },
  {
   "cell_type": "markdown",
   "metadata": {},
   "source": [
    "---\n",
    "# Zebrafish\n",
    "## Alemany_Kidney"
   ]
  },
  {
   "cell_type": "code",
   "execution_count": null,
   "metadata": {},
   "outputs": [],
   "source": [
    "alemany_kidney = cb.data.ExprDataSet.read_dataset(\"../../Datasets/data/Alemany_Kidney/data.h5\")\n",
    "utils.peek(alemany_kidney, \"build/kidney/Alemany_Kidney\")\n",
    "alemany_kidney.obs.head()"
   ]
  },
  {
   "cell_type": "code",
   "execution_count": null,
   "metadata": {},
   "outputs": [],
   "source": [
    "alemany_kidney.obs[\"ClusterID\"] = \"cluster_\"+ alemany_kidney.obs[\"ClusterID\"].astype(int).astype(str)\n",
    "alemany_kidney.obs.dtypes"
   ]
  },
  {
   "cell_type": "code",
   "execution_count": null,
   "metadata": {
    "scrolled": true
   },
   "outputs": [],
   "source": [
    "opt_model_kwargs = dict(batch_effect=\"donor\")\n",
    "alemany_kidney_model = cb.directi.fit_DIRECTi(\n",
    "    alemany_kidney, alemany_kidney.uns[\"seurat_genes\"],\n",
    "    **fixed_model_kwargs, **opt_model_kwargs\n",
    ")\n",
    "alemany_kidney.latent = alemany_kidney_model.inference(alemany_kidney)"
   ]
  },
  {
   "cell_type": "code",
   "execution_count": null,
   "metadata": {},
   "outputs": [],
   "source": [
    "ax = alemany_kidney.visualize_latent(\"cell_ontology_class\", scatter_kws=dict(rasterized=True))\n",
    "ax.get_figure().savefig(\"build/kidney/Alemany_Kidney/cell_ontology_class.svg\", dpi=utils.DPI, bbox_inches=\"tight\")"
   ]
  },
  {
   "cell_type": "code",
   "execution_count": null,
   "metadata": {},
   "outputs": [],
   "source": [
    "ax = alemany_kidney.visualize_latent(\"cell_type1\", scatter_kws=dict(rasterized=True))\n",
    "ax.get_figure().savefig(\"build/kidney/Alemany_Kidney/cell_type1.svg\", dpi=utils.DPI, bbox_inches=\"tight\")"
   ]
  },
  {
   "cell_type": "code",
   "execution_count": null,
   "metadata": {},
   "outputs": [],
   "source": [
    "ax = alemany_kidney.visualize_latent(\"donor\", scatter_kws=dict(rasterized=True))\n",
    "ax.get_figure().savefig(\"build/kidney/Alemany_Kidney/donor.svg\", dpi=utils.DPI, bbox_inches=\"tight\")"
   ]
  },
  {
   "cell_type": "code",
   "execution_count": null,
   "metadata": {},
   "outputs": [],
   "source": [
    "alemany_kidney.write_dataset(\"build/kidney/Alemany_Kidney/Alemany_Kidney.h5\")"
   ]
  },
  {
   "cell_type": "code",
   "execution_count": null,
   "metadata": {},
   "outputs": [],
   "source": [
    "%%capture capio\n",
    "alemany_kidney_models = [alemany_kidney_model]\n",
    "for i in range(1, cb.config.N_JOBS):\n",
    "    print(\"==== Model %d ====\" % i)\n",
    "    alemany_kidney_models.append(cb.directi.fit_DIRECTi(\n",
    "        alemany_kidney, alemany_kidney.uns[\"seurat_genes\"],\n",
    "        **fixed_model_kwargs, **opt_model_kwargs,\n",
    "        random_seed=i\n",
    "    ))\n",
    "alemany_kidney_blast = cb.blast.BLAST(alemany_kidney_models, alemany_kidney)\n",
    "alemany_kidney_blast.save(\"build/kidney/Alemany_Kidney\")"
   ]
  },
  {
   "cell_type": "code",
   "execution_count": null,
   "metadata": {},
   "outputs": [],
   "source": [
    "with open(\"build/kidney/Alemany_Kidney/stdout.txt\", \"w\") as f:\n",
    "    f.write(capio.stdout)\n",
    "with open(\"build/kidney/Alemany_Kidney/stderr.txt\", \"w\") as f:\n",
    "    f.write(capio.stderr)"
   ]
  },
  {
   "cell_type": "code",
   "execution_count": null,
   "metadata": {},
   "outputs": [],
   "source": [
    "utils.self_projection(alemany_kidney_blast, \"build/kidney/Alemany_Kidney\")"
   ]
  },
  {
   "cell_type": "code",
   "execution_count": null,
   "metadata": {},
   "outputs": [],
   "source": [
    "%%writefile build/kidney/Alemany_Kidney/predictable.txt\n",
    "cell_ontology_class\n",
    "cell_type1"
   ]
  }
 ],
 "metadata": {
  "kernelspec": {
   "display_name": "Python 3",
   "language": "python",
   "name": "python3"
  },
  "language_info": {
   "codemirror_mode": {
    "name": "ipython",
    "version": 3
   },
   "file_extension": ".py",
   "mimetype": "text/x-python",
   "name": "python",
   "nbconvert_exporter": "python",
   "pygments_lexer": "ipython3",
   "version": "3.6.8"
  },
  "toc": {
   "base_numbering": 1,
   "nav_menu": {},
   "number_sections": true,
   "sideBar": true,
   "skip_h1_title": false,
   "title_cell": "Table of Contents",
   "title_sidebar": "Contents",
   "toc_cell": false,
   "toc_position": {
    "height": "calc(100% - 180px)",
    "left": "10px",
    "top": "150px",
    "width": "187px"
   },
   "toc_section_display": true,
   "toc_window_display": true
  },
  "varInspector": {
   "cols": {
    "lenName": 16,
    "lenType": 16,
    "lenVar": 40
   },
   "kernels_config": {
    "python": {
     "delete_cmd_postfix": "",
     "delete_cmd_prefix": "del ",
     "library": "var_list.py",
     "varRefreshCmd": "print(var_dic_list())"
    },
    "r": {
     "delete_cmd_postfix": ") ",
     "delete_cmd_prefix": "rm(",
     "library": "var_list.r",
     "varRefreshCmd": "cat(var_dic_list()) "
    }
   },
   "types_to_exclude": [
    "module",
    "function",
    "builtin_function_or_method",
    "instance",
    "_Feature"
   ],
   "window_display": false
  }
 },
 "nbformat": 4,
 "nbformat_minor": 2
}
