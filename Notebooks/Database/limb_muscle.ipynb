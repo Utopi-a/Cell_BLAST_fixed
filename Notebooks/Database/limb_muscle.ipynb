{
 "cells": [
  {
   "cell_type": "code",
   "execution_count": null,
   "metadata": {},
   "outputs": [],
   "source": [
    "import os\n",
    "import Cell_BLAST as cb\n",
    "import utils\n",
    "os.environ[\"CUDA_VISIBLE_DEVICES\"] = utils.pick_gpu_lowest_memory()\n",
    "cb.config.RANDOM_SEED = 0\n",
    "cb.config.N_JOBS = 4\n",
    "fixed_model_kwargs = dict(\n",
    "    latent_dim=10, cat_dim=20,\n",
    "    epoch=500, patience=20\n",
    ")"
   ]
  },
  {
   "cell_type": "code",
   "execution_count": null,
   "metadata": {},
   "outputs": [],
   "source": [
    "cb.__version__"
   ]
  },
  {
   "cell_type": "markdown",
   "metadata": {},
   "source": [
    "---\n",
    "# Mouse\n",
    "## Quake_10x_Limb_Muscle"
   ]
  },
  {
   "cell_type": "code",
   "execution_count": null,
   "metadata": {},
   "outputs": [],
   "source": [
    "quake_10x_limb_muscle = cb.data.ExprDataSet.read_dataset(\"../../Datasets/data/Quake_10x_Limb_Muscle/data.h5\")\n",
    "utils.peek(quake_10x_limb_muscle, \"build/limb_muscle/Quake_10x_Limb_Muscle\")\n",
    "quake_10x_limb_muscle.obs.head()"
   ]
  },
  {
   "cell_type": "code",
   "execution_count": null,
   "metadata": {},
   "outputs": [],
   "source": [
    "quake_10x_limb_muscle.obs[\"cluster\"] = \"cluster_\" + quake_10x_limb_muscle.obs[\"cluster\"].astype(int).astype(str)\n",
    "quake_10x_limb_muscle.obs.dtypes"
   ]
  },
  {
   "cell_type": "code",
   "execution_count": null,
   "metadata": {
    "scrolled": true
   },
   "outputs": [],
   "source": [
    "quake_10x_limb_muscle_model = cb.directi.fit_DIRECTi(\n",
    "    quake_10x_limb_muscle, quake_10x_limb_muscle.uns[\"seurat_genes\"],\n",
    "    **fixed_model_kwargs\n",
    ")\n",
    "quake_10x_limb_muscle.latent = quake_10x_limb_muscle_model.inference(quake_10x_limb_muscle)"
   ]
  },
  {
   "cell_type": "code",
   "execution_count": null,
   "metadata": {},
   "outputs": [],
   "source": [
    "ax = quake_10x_limb_muscle.visualize_latent(\"cell_ontology_class\", scatter_kws=dict(rasterized=True))\n",
    "ax.get_figure().savefig(\"build/limb_muscle/Quake_10x_Limb_Muscle/cell_ontology_class.svg\", dpi=utils.DPI, bbox_inches=\"tight\")"
   ]
  },
  {
   "cell_type": "code",
   "execution_count": null,
   "metadata": {},
   "outputs": [],
   "source": [
    "ax = quake_10x_limb_muscle.visualize_latent(\"cell_type1\", scatter_kws=dict(rasterized=True))\n",
    "ax.get_figure().savefig(\"build/limb_muscle/Quake_10x_Limb_Muscle/cell_type1.svg\", dpi=utils.DPI, bbox_inches=\"tight\")"
   ]
  },
  {
   "cell_type": "code",
   "execution_count": null,
   "metadata": {},
   "outputs": [],
   "source": [
    "ax = quake_10x_limb_muscle.visualize_latent(\"cluster\", scatter_kws=dict(rasterized=True))\n",
    "ax.get_figure().savefig(\"build/limb_muscle/Quake_10x_Limb_Muscle/cluster.svg\", dpi=utils.DPI, bbox_inches=\"tight\")"
   ]
  },
  {
   "cell_type": "code",
   "execution_count": null,
   "metadata": {},
   "outputs": [],
   "source": [
    "ax = quake_10x_limb_muscle.visualize_latent(\"free_annotation\", scatter_kws=dict(rasterized=True))\n",
    "ax.get_figure().savefig(\"build/limb_muscle/Quake_10x_Limb_Muscle/free_annotation.svg\", dpi=utils.DPI, bbox_inches=\"tight\")"
   ]
  },
  {
   "cell_type": "code",
   "execution_count": null,
   "metadata": {},
   "outputs": [],
   "source": [
    "ax = quake_10x_limb_muscle.visualize_latent(\"donor\", scatter_kws=dict(rasterized=True))\n",
    "ax.get_figure().savefig(\"build/limb_muscle/Quake_10x_Limb_Muscle/donor.svg\", dpi=utils.DPI, bbox_inches=\"tight\")"
   ]
  },
  {
   "cell_type": "code",
   "execution_count": null,
   "metadata": {},
   "outputs": [],
   "source": [
    "ax = quake_10x_limb_muscle.visualize_latent(\"gender\", scatter_kws=dict(rasterized=True))\n",
    "ax.get_figure().savefig(\"build/limb_muscle/Quake_10x_Limb_Muscle/gender.svg\", dpi=utils.DPI, bbox_inches=\"tight\")"
   ]
  },
  {
   "cell_type": "code",
   "execution_count": null,
   "metadata": {},
   "outputs": [],
   "source": [
    "quake_10x_limb_muscle.write_dataset(\"build/limb_muscle/Quake_10x_Limb_Muscle/Quake_10x_Limb_Muscle.h5\")"
   ]
  },
  {
   "cell_type": "code",
   "execution_count": null,
   "metadata": {},
   "outputs": [],
   "source": [
    "%%capture capio\n",
    "quake_10x_limb_muscle_models = [quake_10x_limb_muscle_model]\n",
    "for i in range(1, cb.config.N_JOBS):\n",
    "    print(\"==== Model %d ====\" % i)\n",
    "    quake_10x_limb_muscle_models.append(cb.directi.fit_DIRECTi(\n",
    "        quake_10x_limb_muscle, quake_10x_limb_muscle.uns[\"seurat_genes\"],\n",
    "        **fixed_model_kwargs, \n",
    "        random_seed=i\n",
    "    ))\n",
    "quake_10x_limb_muscle_blast = cb.blast.BLAST(quake_10x_limb_muscle_models, quake_10x_limb_muscle)\n",
    "quake_10x_limb_muscle_blast.save(\"build/limb_muscle/Quake_10x_Limb_Muscle\")"
   ]
  },
  {
   "cell_type": "code",
   "execution_count": null,
   "metadata": {},
   "outputs": [],
   "source": [
    "with open(\"build/limb_muscle/Quake_10x_Limb_Muscle/stdout.txt\", \"w\") as f:\n",
    "    f.write(capio.stdout)\n",
    "with open(\"build/limb_muscle/Quake_10x_Limb_Muscle/stderr.txt\", \"w\") as f:\n",
    "    f.write(capio.stderr)"
   ]
  },
  {
   "cell_type": "code",
   "execution_count": null,
   "metadata": {},
   "outputs": [],
   "source": [
    "utils.self_projection(quake_10x_limb_muscle_blast, \"build/limb_muscle/Quake_10x_Limb_Muscle\")"
   ]
  },
  {
   "cell_type": "code",
   "execution_count": null,
   "metadata": {},
   "outputs": [],
   "source": [
    "%%writefile build/limb_muscle/Quake_10x_Limb_Muscle/predictable.txt\n",
    "cell_ontology_class\n",
    "cell_type1\n",
    "cluster\n",
    "free_annotation"
   ]
  },
  {
   "cell_type": "markdown",
   "metadata": {},
   "source": [
    "## Quake_Smart-seq2_Limb_Muscle"
   ]
  },
  {
   "cell_type": "code",
   "execution_count": null,
   "metadata": {},
   "outputs": [],
   "source": [
    "quake_smart_seq2_limb_muscle = cb.data.ExprDataSet.read_dataset(\"../../Datasets/data/Quake_Smart-seq2_Limb_Muscle/data.h5\")\n",
    "utils.peek(quake_smart_seq2_limb_muscle, \"build/limb_muscle/Quake_Smart-seq2_Limb_Muscle\")\n",
    "quake_smart_seq2_limb_muscle.obs.head()"
   ]
  },
  {
   "cell_type": "code",
   "execution_count": null,
   "metadata": {},
   "outputs": [],
   "source": [
    "quake_smart_seq2_limb_muscle.obs[\"cluster\"] = \"cluster_\" + quake_smart_seq2_limb_muscle.obs[\"cluster\"].astype(int).astype(str)\n",
    "quake_smart_seq2_limb_muscle.obs.dtypes"
   ]
  },
  {
   "cell_type": "code",
   "execution_count": null,
   "metadata": {
    "scrolled": true
   },
   "outputs": [],
   "source": [
    "quake_smart_seq2_limb_muscle_model = cb.directi.fit_DIRECTi(\n",
    "    quake_smart_seq2_limb_muscle, quake_smart_seq2_limb_muscle.uns[\"seurat_genes\"],\n",
    "    **fixed_model_kwargs\n",
    ")\n",
    "quake_smart_seq2_limb_muscle.latent = quake_smart_seq2_limb_muscle_model.inference(quake_smart_seq2_limb_muscle)"
   ]
  },
  {
   "cell_type": "code",
   "execution_count": null,
   "metadata": {},
   "outputs": [],
   "source": [
    "ax = quake_smart_seq2_limb_muscle.visualize_latent(\"cell_ontology_class\", scatter_kws=dict(rasterized=True))\n",
    "ax.get_figure().savefig(\"build/limb_muscle/Quake_Smart-seq2_Limb_Muscle/cell_ontology_class.svg\", dpi=utils.DPI, bbox_inches=\"tight\")"
   ]
  },
  {
   "cell_type": "code",
   "execution_count": null,
   "metadata": {},
   "outputs": [],
   "source": [
    "ax = quake_smart_seq2_limb_muscle.visualize_latent(\"cell_type1\", scatter_kws=dict(rasterized=True))\n",
    "ax.get_figure().savefig(\"build/limb_muscle/Quake_Smart-seq2_Limb_Muscle/cell_type1.svg\", dpi=utils.DPI, bbox_inches=\"tight\")"
   ]
  },
  {
   "cell_type": "code",
   "execution_count": null,
   "metadata": {},
   "outputs": [],
   "source": [
    "ax = quake_smart_seq2_limb_muscle.visualize_latent(\"cluster\", scatter_kws=dict(rasterized=True))\n",
    "ax.get_figure().savefig(\"build/limb_muscle/Quake_Smart-seq2_Limb_Muscle/cluster.svg\", dpi=utils.DPI, bbox_inches=\"tight\")"
   ]
  },
  {
   "cell_type": "code",
   "execution_count": null,
   "metadata": {},
   "outputs": [],
   "source": [
    "ax = quake_smart_seq2_limb_muscle.visualize_latent(\"free_annotation\", scatter_kws=dict(rasterized=True))\n",
    "ax.get_figure().savefig(\"build/limb_muscle/Quake_Smart-seq2_Limb_Muscle/free_annotation.svg\", dpi=utils.DPI, bbox_inches=\"tight\")"
   ]
  },
  {
   "cell_type": "code",
   "execution_count": null,
   "metadata": {},
   "outputs": [],
   "source": [
    "ax = quake_smart_seq2_limb_muscle.visualize_latent(\"donor\", scatter_kws=dict(rasterized=True))\n",
    "ax.get_figure().savefig(\"build/limb_muscle/Quake_Smart-seq2_Limb_Muscle/donor.svg\", dpi=utils.DPI, bbox_inches=\"tight\")"
   ]
  },
  {
   "cell_type": "code",
   "execution_count": null,
   "metadata": {},
   "outputs": [],
   "source": [
    "ax = quake_smart_seq2_limb_muscle.visualize_latent(\"gender\", scatter_kws=dict(rasterized=True))\n",
    "ax.get_figure().savefig(\"build/limb_muscle/Quake_Smart-seq2_Limb_Muscle/gender.svg\", dpi=utils.DPI, bbox_inches=\"tight\")"
   ]
  },
  {
   "cell_type": "code",
   "execution_count": null,
   "metadata": {},
   "outputs": [],
   "source": [
    "quake_smart_seq2_limb_muscle.write_dataset(\"build/limb_muscle/Quake_Smart-seq2_Limb_Muscle/Quake_Smart-seq2_Limb_Muscle.h5\")"
   ]
  },
  {
   "cell_type": "code",
   "execution_count": null,
   "metadata": {},
   "outputs": [],
   "source": [
    "%%capture capio\n",
    "quake_smart_seq2_limb_muscle_models = [quake_smart_seq2_limb_muscle_model]\n",
    "for i in range(1, cb.config.N_JOBS):\n",
    "    print(\"==== Model %d ====\" % i)\n",
    "    quake_smart_seq2_limb_muscle_models.append(cb.directi.fit_DIRECTi(\n",
    "        quake_smart_seq2_limb_muscle, quake_smart_seq2_limb_muscle.uns[\"seurat_genes\"],\n",
    "        **fixed_model_kwargs, \n",
    "        random_seed=i\n",
    "    ))\n",
    "quake_smart_seq2_limb_muscle_blast = cb.blast.BLAST(quake_smart_seq2_limb_muscle_models, quake_smart_seq2_limb_muscle)\n",
    "quake_smart_seq2_limb_muscle_blast.save(\"build/limb_muscle/Quake_Smart-seq2_Limb_Muscle\")"
   ]
  },
  {
   "cell_type": "code",
   "execution_count": null,
   "metadata": {},
   "outputs": [],
   "source": [
    "with open(\"build/limb_muscle/Quake_Smart-seq2_Limb_Muscle/stdout.txt\", \"w\") as f:\n",
    "    f.write(capio.stdout)\n",
    "with open(\"build/limb_muscle/Quake_Smart-seq2_Limb_Muscle/stderr.txt\", \"w\") as f:\n",
    "    f.write(capio.stderr)"
   ]
  },
  {
   "cell_type": "code",
   "execution_count": null,
   "metadata": {},
   "outputs": [],
   "source": [
    "utils.self_projection(quake_smart_seq2_limb_muscle_blast, \"build/limb_muscle/Quake_Smart-seq2_Limb_Muscle\")"
   ]
  },
  {
   "cell_type": "code",
   "execution_count": null,
   "metadata": {},
   "outputs": [],
   "source": [
    "%%writefile build/limb_muscle/Quake_Smart-seq2_Limb_Muscle/predictable.txt\n",
    "cell_ontology_class\n",
    "cell_type1\n",
    "cluster\n",
    "free_annotation"
   ]
  },
  {
   "cell_type": "markdown",
   "metadata": {},
   "source": [
    "## Mouse aligned"
   ]
  },
  {
   "cell_type": "code",
   "execution_count": null,
   "metadata": {},
   "outputs": [],
   "source": [
    "if not os.path.exists(\"build/limb_muscle/ALIGNED_Mus_musculus_Limb_Muscle\"):\n",
    "    os.makedirs(\"build/limb_muscle/ALIGNED_Mus_musculus_Limb_Muscle\")\n",
    "mouse = cb.data.ExprDataSet.merge_datasets(dict(\n",
    "    quake_10x_limb_muscle=quake_10x_limb_muscle,\n",
    "    quake_smart_seq2_limb_muscle=quake_smart_seq2_limb_muscle\n",
    "), merge_uns_slots=[\"seurat_genes\"])"
   ]
  },
  {
   "cell_type": "code",
   "execution_count": null,
   "metadata": {},
   "outputs": [],
   "source": [
    "mouse.obs.head()"
   ]
  },
  {
   "cell_type": "code",
   "execution_count": null,
   "metadata": {},
   "outputs": [],
   "source": [
    "mouse.obs.dtypes"
   ]
  },
  {
   "cell_type": "code",
   "execution_count": null,
   "metadata": {
    "scrolled": true
   },
   "outputs": [],
   "source": [
    "opt_model_kwargs = dict(\n",
    "    batch_effect=[\"dataset_name\"],\n",
    "    #rmbatch_module=[\"MNNAdversarial\", \"Adversarial\", \"Adversarial\", \"Adversarial\"],\n",
    "    rmbatch_module_kwargs=dict(lambda_reg=0.01)\n",
    ")  # Many batch effects are being aligned, decrease regularization strength accordingly\n",
    "mouse_model = cb.directi.fit_DIRECTi(\n",
    "    mouse, mouse.uns[\"seurat_genes\"],\n",
    "    **fixed_model_kwargs, **opt_model_kwargs\n",
    ")\n",
    "mouse.latent = mouse_model.inference(mouse)"
   ]
  },
  {
   "cell_type": "code",
   "execution_count": null,
   "metadata": {},
   "outputs": [],
   "source": [
    "ax = mouse.visualize_latent(\"cell_ontology_class\", scatter_kws=dict(rasterized=True))\n",
    "ax.get_figure().savefig(\"build/limb_muscle/ALIGNED_Mus_musculus_Limb_Muscle/cell_ontology_class.svg\", dpi=utils.DPI, bbox_inches=\"tight\")"
   ]
  },
  {
   "cell_type": "code",
   "execution_count": null,
   "metadata": {},
   "outputs": [],
   "source": [
    "ax = mouse.visualize_latent(\"dataset_name\", scatter_kws=dict(rasterized=True))\n",
    "ax.get_figure().savefig(\"build/limb_muscle/ALIGNED_Mus_musculus_Limb_Muscle/dataset_name.svg\", dpi=utils.DPI, bbox_inches=\"tight\")"
   ]
  },
  {
   "cell_type": "code",
   "execution_count": null,
   "metadata": {},
   "outputs": [],
   "source": [
    "ax = mouse.visualize_latent(\"donor\", scatter_kws=dict(rasterized=True))\n",
    "ax.get_figure().savefig(\"build/limb_muscle/ALIGNED_Mus_musculus_Limb_Muscle/donor.svg\", dpi=utils.DPI, bbox_inches=\"tight\")"
   ]
  },
  {
   "cell_type": "code",
   "execution_count": null,
   "metadata": {},
   "outputs": [],
   "source": [
    "ax = mouse.visualize_latent(\"gender\", scatter_kws=dict(rasterized=True))\n",
    "ax.get_figure().savefig(\"build/limb_muscle/ALIGNED_Mus_musculus_Limb_Muscle/gender.svg\", dpi=utils.DPI, bbox_inches=\"tight\")"
   ]
  },
  {
   "cell_type": "code",
   "execution_count": null,
   "metadata": {},
   "outputs": [],
   "source": [
    "mouse.write_dataset(\"build/limb_muscle/ALIGNED_Mus_musculus_Limb_Muscle/ALIGNED_Mus_musculus_Limb_Muscle.h5\")"
   ]
  },
  {
   "cell_type": "code",
   "execution_count": null,
   "metadata": {},
   "outputs": [],
   "source": [
    "%%capture capio\n",
    "mouse_models = [mouse_model]\n",
    "for i in range(1, cb.config.N_JOBS):\n",
    "    print(\"==== Model %d ====\" % i)\n",
    "    mouse_models.append(cb.directi.fit_DIRECTi(\n",
    "        mouse, mouse.uns[\"seurat_genes\"],\n",
    "        **fixed_model_kwargs, **opt_model_kwargs,\n",
    "        random_seed=i\n",
    "    ))\n",
    "mouse_blast = cb.blast.BLAST(mouse_models, mouse)\n",
    "mouse_blast.save(\"build/limb_muscle/ALIGNED_Mus_musculus_Limb_Muscle\")"
   ]
  },
  {
   "cell_type": "code",
   "execution_count": null,
   "metadata": {},
   "outputs": [],
   "source": [
    "with open(\"build/limb_muscle/ALIGNED_Mus_musculus_Limb_Muscle/stdout.txt\", \"w\") as f:\n",
    "    f.write(capio.stdout)\n",
    "with open(\"build/limb_muscle/ALIGNED_Mus_musculus_Limb_Muscle/stderr.txt\", \"w\") as f:\n",
    "    f.write(capio.stderr)"
   ]
  },
  {
   "cell_type": "code",
   "execution_count": null,
   "metadata": {},
   "outputs": [],
   "source": [
    "utils.self_projection(mouse_blast, \"build/limb_muscle/ALIGNED_Mus_musculus_Limb_Muscle\")"
   ]
  },
  {
   "cell_type": "code",
   "execution_count": null,
   "metadata": {},
   "outputs": [],
   "source": [
    "%%writefile build/limb_muscle/ALIGNED_Mus_musculus_Limb_Muscle/predictable.txt\n",
    "cell_ontology_class"
   ]
  }
 ],
 "metadata": {
  "kernelspec": {
   "display_name": "Python 3",
   "language": "python",
   "name": "python3"
  },
  "language_info": {
   "codemirror_mode": {
    "name": "ipython",
    "version": 3
   },
   "file_extension": ".py",
   "mimetype": "text/x-python",
   "name": "python",
   "nbconvert_exporter": "python",
   "pygments_lexer": "ipython3",
   "version": "3.6.8"
  },
  "toc": {
   "base_numbering": 1,
   "nav_menu": {},
   "number_sections": true,
   "sideBar": true,
   "skip_h1_title": false,
   "title_cell": "Table of Contents",
   "title_sidebar": "Contents",
   "toc_cell": false,
   "toc_position": {
    "height": "calc(100% - 180px)",
    "left": "10px",
    "top": "150px",
    "width": "336px"
   },
   "toc_section_display": true,
   "toc_window_display": true
  },
  "varInspector": {
   "cols": {
    "lenName": 16,
    "lenType": 16,
    "lenVar": 40
   },
   "kernels_config": {
    "python": {
     "delete_cmd_postfix": "",
     "delete_cmd_prefix": "del ",
     "library": "var_list.py",
     "varRefreshCmd": "print(var_dic_list())"
    },
    "r": {
     "delete_cmd_postfix": ") ",
     "delete_cmd_prefix": "rm(",
     "library": "var_list.r",
     "varRefreshCmd": "cat(var_dic_list()) "
    }
   },
   "types_to_exclude": [
    "module",
    "function",
    "builtin_function_or_method",
    "instance",
    "_Feature"
   ],
   "window_display": false
  }
 },
 "nbformat": 4,
 "nbformat_minor": 2
}
