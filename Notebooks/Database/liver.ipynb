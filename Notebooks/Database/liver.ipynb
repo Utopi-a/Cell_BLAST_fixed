{
 "cells": [
  {
   "cell_type": "code",
   "execution_count": null,
   "metadata": {},
   "outputs": [],
   "source": [
    "import os\n",
    "import Cell_BLAST as cb\n",
    "import utils\n",
    "os.environ[\"CUDA_VISIBLE_DEVICES\"] = utils.pick_gpu_lowest_memory()\n",
    "cb.config.RANDOM_SEED = 0\n",
    "cb.config.N_JOBS = 4\n",
    "fixed_model_kwargs = dict(\n",
    "    latent_dim=10, cat_dim=20,\n",
    "    epoch=500, patience=20\n",
    ")"
   ]
  },
  {
   "cell_type": "code",
   "execution_count": null,
   "metadata": {},
   "outputs": [],
   "source": [
    "cb.__version__"
   ]
  },
  {
   "cell_type": "markdown",
   "metadata": {},
   "source": [
    "---\n",
    "\n",
    "# Mouse\n",
    "\n",
    "## Quake_10x_Liver"
   ]
  },
  {
   "cell_type": "code",
   "execution_count": null,
   "metadata": {},
   "outputs": [],
   "source": [
    "quake_10x_liver = cb.data.ExprDataSet.read_dataset(\"../../Datasets/data/Quake_10x_Liver/data.h5\")\n",
    "utils.peek(quake_10x_liver, \"build/liver/Quake_10x_Liver\")\n",
    "quake_10x_liver.obs.head()"
   ]
  },
  {
   "cell_type": "code",
   "execution_count": null,
   "metadata": {},
   "outputs": [],
   "source": [
    "quake_10x_liver.obs[\"cluster\"] = \"cluster_\" + quake_10x_liver.obs[\"cluster\"].astype(int).astype(str)\n",
    "quake_10x_liver.obs.dtypes"
   ]
  },
  {
   "cell_type": "code",
   "execution_count": null,
   "metadata": {
    "scrolled": true
   },
   "outputs": [],
   "source": [
    "opt_model_kwargs = dict(batch_effect=\"donor\", h_dim=32, batch_size=64)\n",
    "quake_10x_liver_model = cb.directi.fit_DIRECTi(\n",
    "    quake_10x_liver, quake_10x_liver.uns[\"seurat_genes\"],\n",
    "    **fixed_model_kwargs, **opt_model_kwargs\n",
    ")\n",
    "quake_10x_liver.latent = quake_10x_liver_model.inference(quake_10x_liver)"
   ]
  },
  {
   "cell_type": "code",
   "execution_count": null,
   "metadata": {},
   "outputs": [],
   "source": [
    "ax = quake_10x_liver.visualize_latent(\"cell_ontology_class\", scatter_kws=dict(rasterized=True))\n",
    "ax.get_figure().savefig(\"build/liver/Quake_10x_Liver/cell_ontology_class.svg\", dpi=utils.DPI, bbox_inches=\"tight\")"
   ]
  },
  {
   "cell_type": "code",
   "execution_count": null,
   "metadata": {},
   "outputs": [],
   "source": [
    "ax = quake_10x_liver.visualize_latent(\"cell_type1\", scatter_kws=dict(rasterized=True))\n",
    "ax.get_figure().savefig(\"build/liver/Quake_10x_Liver/cell_type1.svg\", dpi=utils.DPI, bbox_inches=\"tight\")"
   ]
  },
  {
   "cell_type": "code",
   "execution_count": null,
   "metadata": {},
   "outputs": [],
   "source": [
    "ax = quake_10x_liver.visualize_latent(\"cluster\", scatter_kws=dict(rasterized=True))\n",
    "ax.get_figure().savefig(\"build/liver/Quake_10x_Liver/cluster.svg\", dpi=utils.DPI, bbox_inches=\"tight\")"
   ]
  },
  {
   "cell_type": "code",
   "execution_count": null,
   "metadata": {},
   "outputs": [],
   "source": [
    "ax = quake_10x_liver.visualize_latent(\"free_annotation\", scatter_kws=dict(rasterized=True))\n",
    "ax.get_figure().savefig(\"build/liver/Quake_10x_Liver/free_annotation.svg\", dpi=utils.DPI, bbox_inches=\"tight\")"
   ]
  },
  {
   "cell_type": "code",
   "execution_count": null,
   "metadata": {},
   "outputs": [],
   "source": [
    "ax = quake_10x_liver.visualize_latent(\"donor\", scatter_kws=dict(rasterized=True))\n",
    "ax.get_figure().savefig(\"build/liver/Quake_10x_Liver/donor.svg\", dpi=utils.DPI, bbox_inches=\"tight\")"
   ]
  },
  {
   "cell_type": "code",
   "execution_count": null,
   "metadata": {},
   "outputs": [],
   "source": [
    "quake_10x_liver.write_dataset(\"build/liver/Quake_10x_Liver/Quake_10x_Liver.h5\")"
   ]
  },
  {
   "cell_type": "code",
   "execution_count": null,
   "metadata": {},
   "outputs": [],
   "source": [
    "%%capture capio\n",
    "quake_10x_liver_models = [quake_10x_liver_model]\n",
    "for i in range(1, cb.config.N_JOBS):\n",
    "    print(\"==== Model %d ====\" % i)\n",
    "    quake_10x_liver_models.append(cb.directi.fit_DIRECTi(\n",
    "        quake_10x_liver, quake_10x_liver.uns[\"seurat_genes\"],\n",
    "        **fixed_model_kwargs, **opt_model_kwargs,\n",
    "        random_seed=i\n",
    "    ))\n",
    "quake_10x_liver_blast = cb.blast.BLAST(quake_10x_liver_models, quake_10x_liver)\n",
    "quake_10x_liver_blast.save(\"build/liver/Quake_10x_Liver\")"
   ]
  },
  {
   "cell_type": "code",
   "execution_count": null,
   "metadata": {},
   "outputs": [],
   "source": [
    "with open(\"build/liver/Quake_10x_Liver/stdout.txt\", \"w\") as f:\n",
    "    f.write(capio.stdout)\n",
    "with open(\"build/liver/Quake_10x_Liver/stderr.txt\", \"w\") as f:\n",
    "    f.write(capio.stderr)"
   ]
  },
  {
   "cell_type": "code",
   "execution_count": null,
   "metadata": {},
   "outputs": [],
   "source": [
    "utils.self_projection(quake_10x_liver_blast, \"build/liver/Quake_10x_Liver\")"
   ]
  },
  {
   "cell_type": "code",
   "execution_count": null,
   "metadata": {},
   "outputs": [],
   "source": [
    "%%writefile build/liver/Quake_10x_Liver/predictable.txt\n",
    "cell_ontology_class\n",
    "cell_type1\n",
    "cluster\n",
    "free_annotation"
   ]
  },
  {
   "cell_type": "markdown",
   "metadata": {},
   "source": [
    "## Mouse aligned"
   ]
  },
  {
   "cell_type": "code",
   "execution_count": null,
   "metadata": {},
   "outputs": [],
   "source": [
    "if not os.path.exists(\"build/liver/ALIGNED_Mus_musculus_Liver\"):\n",
    "    os.makedirs(\"build/liver/ALIGNED_Mus_musculus_Liver\")\n",
    "quake_smart_seq2_liver = cb.data.ExprDataSet.read_dataset(\"../../Datasets/data/Quake_Smart-seq2_Liver/data.h5\")\n",
    "quake_smart_seq2_liver.obs[\"cluster\"] = \"cluster_\" + quake_smart_seq2_liver.obs[\"cluster\"].astype(int).astype(str)\n",
    "yang = cb.data.ExprDataSet.read_dataset(\"../../Datasets/data/Yang/data.h5\")\n",
    "yang.obs[\"batch\"] = \"batch_\" + yang.obs[\"batch\"].astype(int).astype(str)\n",
    "quake_10x_liver.obs[\"quake_10x_liver_donor\"] = quake_10x_liver.obs[\"donor\"]\n",
    "quake_smart_seq2_liver.obs[\"quake_smart_seq2_liver_donor\"] = quake_smart_seq2_liver.obs[\"donor\"]\n",
    "mouse = cb.data.ExprDataSet.merge_datasets(dict(\n",
    "    quake_10x_liver=quake_10x_liver, quake_smart_seq2_liver=quake_smart_seq2_liver, yang=yang\n",
    "), merge_uns_slots=[\"seurat_genes\"])"
   ]
  },
  {
   "cell_type": "code",
   "execution_count": null,
   "metadata": {},
   "outputs": [],
   "source": [
    "mouse.obs.dtypes"
   ]
  },
  {
   "cell_type": "code",
   "execution_count": null,
   "metadata": {
    "scrolled": true
   },
   "outputs": [],
   "source": [
    "opt_model_kwargs = dict(\n",
    "    batch_effect=[\"dataset_name\", \"quake_10x_liver_donor\", \"quake_smart_seq2_liver_donor\"],\n",
    "    rmbatch_module_kwargs=[dict(lambda_reg=0.005), dict(lambda_reg=0.01), dict(lambda_reg=0.01)],\n",
    "    batch_size=64\n",
    ")\n",
    "mouse_model = cb.directi.fit_DIRECTi(\n",
    "    mouse, mouse.uns[\"seurat_genes\"],\n",
    "    **fixed_model_kwargs, **opt_model_kwargs\n",
    ")\n",
    "mouse.latent = mouse_model.inference(mouse)"
   ]
  },
  {
   "cell_type": "code",
   "execution_count": null,
   "metadata": {},
   "outputs": [],
   "source": [
    "ax = mouse.visualize_latent(\"cell_ontology_class\", scatter_kws=dict(rasterized=True))\n",
    "ax.get_figure().savefig(\"build/liver/ALIGNED_Mus_musculus_Liver/cell_ontology_class.svg\", dpi=utils.DPI, bbox_inches=\"tight\")"
   ]
  },
  {
   "cell_type": "code",
   "execution_count": null,
   "metadata": {},
   "outputs": [],
   "source": [
    "ax = mouse.visualize_latent(\"dataset_name\", scatter_kws=dict(rasterized=True))\n",
    "ax.get_figure().savefig(\"build/liver/ALIGNED_Mus_musculus_Liver/dataset_name.svg\", dpi=utils.DPI, bbox_inches=\"tight\")"
   ]
  },
  {
   "cell_type": "code",
   "execution_count": null,
   "metadata": {},
   "outputs": [],
   "source": [
    "mouse.write_dataset(\"build/liver/ALIGNED_Mus_musculus_Liver/ALIGNED_Mus_musculus_Liver.h5\")"
   ]
  },
  {
   "cell_type": "code",
   "execution_count": null,
   "metadata": {},
   "outputs": [],
   "source": [
    "%%capture capio\n",
    "mouse_models = [mouse_model]\n",
    "for i in range(1, cb.config.N_JOBS):\n",
    "    print(\"==== Model %d ====\" % i)\n",
    "    mouse_models.append(cb.directi.fit_DIRECTi(\n",
    "        mouse, mouse.uns[\"seurat_genes\"],\n",
    "        **fixed_model_kwargs, **opt_model_kwargs,\n",
    "        random_seed=i\n",
    "    ))\n",
    "mouse_blast = cb.blast.BLAST(mouse_models, mouse)\n",
    "mouse_blast.save(\"build/liver/ALIGNED_Mus_musculus_Liver\")"
   ]
  },
  {
   "cell_type": "code",
   "execution_count": null,
   "metadata": {},
   "outputs": [],
   "source": [
    "with open(\"build/liver/ALIGNED_Mus_musculus_Liver/stdout.txt\", \"w\") as f:\n",
    "    f.write(capio.stdout)\n",
    "with open(\"build/liver/ALIGNED_Mus_musculus_Liver/stderr.txt\", \"w\") as f:\n",
    "    f.write(capio.stderr)"
   ]
  },
  {
   "cell_type": "code",
   "execution_count": null,
   "metadata": {},
   "outputs": [],
   "source": [
    "utils.self_projection(mouse_blast, \"build/liver/ALIGNED_Mus_musculus_Liver\")"
   ]
  },
  {
   "cell_type": "code",
   "execution_count": null,
   "metadata": {},
   "outputs": [],
   "source": [
    "%%writefile build/liver/ALIGNED_Mus_musculus_Liver/predictable.txt\n",
    "cell_ontology_class"
   ]
  },
  {
   "cell_type": "markdown",
   "metadata": {},
   "source": [
    "---\n",
    "\n",
    "# Human\n",
    "\n",
    "## MacParland"
   ]
  },
  {
   "cell_type": "code",
   "execution_count": null,
   "metadata": {},
   "outputs": [],
   "source": [
    "macparland = cb.data.ExprDataSet.read_dataset(\"../../Datasets/data/MacParland/data.h5\")\n",
    "utils.peek(macparland, \"build/liver/MacParland\")\n",
    "macparland.obs.head()"
   ]
  },
  {
   "cell_type": "code",
   "execution_count": null,
   "metadata": {},
   "outputs": [],
   "source": [
    "macparland.obs.dtypes"
   ]
  },
  {
   "cell_type": "code",
   "execution_count": null,
   "metadata": {},
   "outputs": [],
   "source": [
    "utils.check_meta(macparland.obs)"
   ]
  },
  {
   "cell_type": "code",
   "execution_count": null,
   "metadata": {},
   "outputs": [],
   "source": [
    "macparland.obs.dtypes"
   ]
  },
  {
   "cell_type": "code",
   "execution_count": null,
   "metadata": {},
   "outputs": [],
   "source": [
    "macparland.uns[\"scanpy_genes\"].shape"
   ]
  },
  {
   "cell_type": "code",
   "execution_count": null,
   "metadata": {
    "scrolled": true
   },
   "outputs": [],
   "source": [
    "opt_model_kwargs = dict(batch_effect=\"donor\")\n",
    "macparland_model = cb.directi.fit_DIRECTi(\n",
    "    macparland, macparland.uns[\"scanpy_genes\"],\n",
    "    **fixed_model_kwargs, **opt_model_kwargs\n",
    ")\n",
    "macparland.latent = macparland_model.inference(macparland)"
   ]
  },
  {
   "cell_type": "code",
   "execution_count": null,
   "metadata": {},
   "outputs": [],
   "source": [
    "# 1435 genes\n",
    "ax = macparland.visualize_latent(\"cell_ontology_class\", scatter_kws=dict(rasterized=True))\n",
    "ax.get_figure().savefig(\"build/liver/MacParland/cell_ontology_class.svg\", dpi=utils.DPI, bbox_inches=\"tight\")"
   ]
  },
  {
   "cell_type": "code",
   "execution_count": null,
   "metadata": {},
   "outputs": [],
   "source": [
    "ax = macparland.visualize_latent(\"cell_type1\", scatter_kws=dict(rasterized=True))\n",
    "ax.get_figure().savefig(\"build/liver/MacParland/cell_type1.svg\", dpi=utils.DPI, bbox_inches=\"tight\")"
   ]
  },
  {
   "cell_type": "code",
   "execution_count": null,
   "metadata": {},
   "outputs": [],
   "source": [
    "ax = macparland.visualize_latent(\"cluster\", scatter_kws=dict(rasterized=True))\n",
    "ax.get_figure().savefig(\"build/liver/MacParland/cluster.svg\", dpi=utils.DPI, bbox_inches=\"tight\")"
   ]
  },
  {
   "cell_type": "code",
   "execution_count": null,
   "metadata": {},
   "outputs": [],
   "source": [
    "ax = macparland.visualize_latent(\"cell_cycle\", scatter_kws=dict(rasterized=True))\n",
    "ax.get_figure().savefig(\"build/liver/MacParland/cell_cycle.svg\", dpi=utils.DPI, bbox_inches=\"tight\")\n"
   ]
  },
  {
   "cell_type": "code",
   "execution_count": null,
   "metadata": {},
   "outputs": [],
   "source": [
    "ax = macparland.visualize_latent(\"donor\", scatter_kws=dict(rasterized=True))\n",
    "ax.get_figure().savefig(\"build/liver/MacParland/donor.svg\", dpi=utils.DPI, bbox_inches=\"tight\")"
   ]
  },
  {
   "cell_type": "code",
   "execution_count": null,
   "metadata": {},
   "outputs": [],
   "source": [
    "ax = macparland.visualize_latent(\"gender\", scatter_kws=dict(rasterized=True))\n",
    "ax.get_figure().savefig(\"build/liver/MacParland/gender.svg\", dpi=utils.DPI, bbox_inches=\"tight\")"
   ]
  },
  {
   "cell_type": "code",
   "execution_count": null,
   "metadata": {},
   "outputs": [],
   "source": [
    "ax = macparland.visualize_latent(\"race\", scatter_kws=dict(rasterized=True))\n",
    "ax.get_figure().savefig(\"build/liver/MacParland/race.svg\", dpi=utils.DPI, bbox_inches=\"tight\")"
   ]
  },
  {
   "cell_type": "code",
   "execution_count": null,
   "metadata": {},
   "outputs": [],
   "source": [
    "macparland.write_dataset(\"build/liver/MacParland/MacParland.h5\")"
   ]
  },
  {
   "cell_type": "code",
   "execution_count": null,
   "metadata": {},
   "outputs": [],
   "source": [
    "%%capture capio\n",
    "macparland_models = [macparland_model]\n",
    "for i in range(1, cb.config.N_JOBS):\n",
    "    print(\"==== Model %d ====\" % i)\n",
    "    macparland_models.append(cb.directi.fit_DIRECTi(\n",
    "        macparland, macparland.uns[\"seurat_genes\"],\n",
    "        **fixed_model_kwargs, **opt_model_kwargs,\n",
    "        random_seed=i\n",
    "    ))\n",
    "macparland_blast = cb.blast.BLAST(macparland_models, macparland)\n",
    "macparland_blast.save(\"build/liver/MacParland\")"
   ]
  },
  {
   "cell_type": "code",
   "execution_count": null,
   "metadata": {},
   "outputs": [],
   "source": [
    "with open(\"build/liver/MacParland/stdout.txt\", \"w\") as f:\n",
    "    f.write(capio.stdout)\n",
    "with open(\"build/liver/MacParland/stderr.txt\", \"w\") as f:\n",
    "    f.write(capio.stderr)"
   ]
  },
  {
   "cell_type": "code",
   "execution_count": null,
   "metadata": {},
   "outputs": [],
   "source": [
    "utils.self_projection(macparland_blast, \"build/liver/MacParland\")"
   ]
  },
  {
   "cell_type": "code",
   "execution_count": null,
   "metadata": {},
   "outputs": [],
   "source": [
    "%%writefile build/liver/MacParland/predictable.txt\n",
    "cell_ontology_class\n",
    "cell_type1\n",
    "cluster"
   ]
  },
  {
   "cell_type": "code",
   "execution_count": null,
   "metadata": {},
   "outputs": [],
   "source": []
  }
 ],
 "metadata": {
  "kernelspec": {
   "display_name": "Python 3",
   "language": "python",
   "name": "python3"
  },
  "language_info": {
   "codemirror_mode": {
    "name": "ipython",
    "version": 3
   },
   "file_extension": ".py",
   "mimetype": "text/x-python",
   "name": "python",
   "nbconvert_exporter": "python",
   "pygments_lexer": "ipython3",
   "version": "3.6.8"
  },
  "toc": {
   "base_numbering": 1,
   "nav_menu": {},
   "number_sections": true,
   "sideBar": true,
   "skip_h1_title": false,
   "title_cell": "Table of Contents",
   "title_sidebar": "Contents",
   "toc_cell": false,
   "toc_position": {
    "height": "calc(100% - 180px)",
    "left": "10px",
    "top": "150px",
    "width": "262.55px"
   },
   "toc_section_display": true,
   "toc_window_display": true
  },
  "varInspector": {
   "cols": {
    "lenName": 16,
    "lenType": 16,
    "lenVar": 40
   },
   "kernels_config": {
    "python": {
     "delete_cmd_postfix": "",
     "delete_cmd_prefix": "del ",
     "library": "var_list.py",
     "varRefreshCmd": "print(var_dic_list())"
    },
    "r": {
     "delete_cmd_postfix": ") ",
     "delete_cmd_prefix": "rm(",
     "library": "var_list.r",
     "varRefreshCmd": "cat(var_dic_list()) "
    }
   },
   "types_to_exclude": [
    "module",
    "function",
    "builtin_function_or_method",
    "instance",
    "_Feature"
   ],
   "window_display": false
  }
 },
 "nbformat": 4,
 "nbformat_minor": 2
}
