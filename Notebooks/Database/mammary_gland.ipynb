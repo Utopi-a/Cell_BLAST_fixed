{
 "cells": [
  {
   "cell_type": "code",
   "execution_count": null,
   "metadata": {
    "ExecuteTime": {
     "end_time": "2019-07-29T15:55:29.624247Z",
     "start_time": "2019-07-29T15:55:25.452084Z"
    }
   },
   "outputs": [],
   "source": [
    "import os\n",
    "import numpy as np\n",
    "import Cell_BLAST as cb\n",
    "import utils\n",
    "os.environ[\"CUDA_VISIBLE_DEVICES\"] = utils.pick_gpu_lowest_memory()\n",
    "cb.config.RANDOM_SEED = 0\n",
    "cb.config.N_JOBS = 4\n",
    "fixed_model_kwargs = dict(\n",
    "    latent_dim=10, cat_dim=20,\n",
    "    epoch=500, patience=20\n",
    ")"
   ]
  },
  {
   "cell_type": "code",
   "execution_count": null,
   "metadata": {
    "ExecuteTime": {
     "end_time": "2019-07-29T15:55:30.342017Z",
     "start_time": "2019-07-29T15:55:30.333013Z"
    }
   },
   "outputs": [],
   "source": [
    "cb.__version__"
   ]
  },
  {
   "cell_type": "markdown",
   "metadata": {},
   "source": [
    "Mouse: \n",
    "\n",
    "Quake_10x_Mammary_Gland (new selected genes, no batch effect) NP\n",
    "\n",
    "Quake_Smart-seq2_Mammary_Gland (new selected genes, \"donor\" batch effect) NP\n",
    "\n",
    "Bach (new selected genes, no batch effect) four lifestage: L, G, PI, NP\n",
    "\n",
    "Giraddi_10x (not ok! pseudotime,)\n",
    "\n",
    "Sun (not ok! small cell number, abandoned)two lifestage: pregnant, virgin\n",
    "\n",
    "Mouse_aligned: not ok! \n",
    "#（Maybe we can delete B cell and T cell?）\n",
    "\n",
    "Quake_10x_Mammary_Gland, Quake_Smart-seq2_Mammary_Gland, Bach, Sun\n",
    "\n",
    "\n",
    "\n",
    "Human:\n",
    "\n",
    "Nguyen_10x (new selected genes, \"donor\" batch effect)\n",
    "\n",
    "Nguyen_C1 (not ok! small cell number, abandoned)\n",
    "\n",
    "Human_aligned: not ok!\n"
   ]
  },
  {
   "cell_type": "markdown",
   "metadata": {},
   "source": [
    "---\n",
    "# Mouse\n",
    "## Quake_10x_Mammary_Gland"
   ]
  },
  {
   "cell_type": "code",
   "execution_count": null,
   "metadata": {},
   "outputs": [],
   "source": [
    "quake_10x_mammary_gland = cb.data.ExprDataSet.read_dataset(\"../../Datasets/data/Quake_10x_Mammary_Gland/data.h5\")\n",
    "utils.peek(quake_10x_mammary_gland, \"build/mammary_gland/Quake_10x_Mammary_Gland\")\n",
    "quake_10x_mammary_gland.obs.head()"
   ]
  },
  {
   "cell_type": "code",
   "execution_count": null,
   "metadata": {},
   "outputs": [],
   "source": [
    "quake_10x_mammary_gland.obs[\"cluster\"] = \"cluster_\" + quake_10x_mammary_gland.obs[\"cluster\"].astype(int).astype(str)\n",
    "quake_10x_mammary_gland.obs.dtypes"
   ]
  },
  {
   "cell_type": "code",
   "execution_count": null,
   "metadata": {
    "scrolled": true
   },
   "outputs": [],
   "source": [
    "quake_10x_mammary_gland_model = cb.directi.fit_DIRECTi(\n",
    "    quake_10x_mammary_gland, quake_10x_mammary_gland.uns[\"seurat_genes\"],\n",
    "    **fixed_model_kwargs\n",
    ")\n",
    "quake_10x_mammary_gland.latent = quake_10x_mammary_gland_model.inference(quake_10x_mammary_gland)"
   ]
  },
  {
   "cell_type": "code",
   "execution_count": null,
   "metadata": {},
   "outputs": [],
   "source": [
    "ax = quake_10x_mammary_gland.visualize_latent(\"cell_ontology_class\", scatter_kws=dict(rasterized=True))\n",
    "ax.get_figure().savefig(\"build/mammary_gland/Quake_10x_Mammary_Gland/cell_ontology_class.svg\", dpi=utils.DPI, bbox_inches=\"tight\")"
   ]
  },
  {
   "cell_type": "code",
   "execution_count": null,
   "metadata": {},
   "outputs": [],
   "source": [
    "ax = quake_10x_mammary_gland.visualize_latent(\"cell_type1\", scatter_kws=dict(rasterized=True))\n",
    "ax.get_figure().savefig(\"build/mammary_gland/Quake_10x_Mammary_Gland/cell_type1.svg\", dpi=utils.DPI, bbox_inches=\"tight\")"
   ]
  },
  {
   "cell_type": "code",
   "execution_count": null,
   "metadata": {},
   "outputs": [],
   "source": [
    "ax = quake_10x_mammary_gland.visualize_latent(\"cluster\", scatter_kws=dict(rasterized=True))\n",
    "ax.get_figure().savefig(\"build/mammary_gland/Quake_10x_Mammary_Gland/cluster.svg\", dpi=utils.DPI, bbox_inches=\"tight\")"
   ]
  },
  {
   "cell_type": "code",
   "execution_count": null,
   "metadata": {},
   "outputs": [],
   "source": [
    "ax = quake_10x_mammary_gland.visualize_latent(\"free_annotation\", scatter_kws=dict(rasterized=True))\n",
    "ax.get_figure().savefig(\"build/mammary_gland/Quake_10x_Mammary_Gland/free_annotation.svg\", dpi=utils.DPI, bbox_inches=\"tight\")"
   ]
  },
  {
   "cell_type": "code",
   "execution_count": null,
   "metadata": {
    "scrolled": false
   },
   "outputs": [],
   "source": [
    "ax = quake_10x_mammary_gland.visualize_latent(\"donor\", scatter_kws=dict(rasterized=True))\n",
    "ax.get_figure().savefig(\"build/mammary_gland/Quake_10x_Mammary_Gland/donor.svg\", dpi=utils.DPI, bbox_inches=\"tight\")"
   ]
  },
  {
   "cell_type": "code",
   "execution_count": null,
   "metadata": {},
   "outputs": [],
   "source": [
    "quake_10x_mammary_gland.write_dataset(\"build/mammary_gland/Quake_10x_Mammary_Gland/Quake_10x_Mammary_Gland.h5\")"
   ]
  },
  {
   "cell_type": "code",
   "execution_count": null,
   "metadata": {},
   "outputs": [],
   "source": [
    "%%capture capio\n",
    "quake_10x_mammary_gland_models = [quake_10x_mammary_gland_model]\n",
    "for i in range(1, cb.config.N_JOBS):\n",
    "    print(\"==== Model %d ====\" % i)\n",
    "    quake_10x_mammary_gland_models.append(cb.directi.fit_DIRECTi(\n",
    "        quake_10x_mammary_gland, quake_10x_mammary_gland.uns[\"seurat_genes\"],\n",
    "        **fixed_model_kwargs, \n",
    "        random_seed=i\n",
    "    ))\n",
    "quake_10x_mammary_gland_blast = cb.blast.BLAST(quake_10x_mammary_gland_models, quake_10x_mammary_gland)\n",
    "quake_10x_mammary_gland_blast.save(\"build/mammary_gland/Quake_10x_Mammary_Gland\")"
   ]
  },
  {
   "cell_type": "code",
   "execution_count": null,
   "metadata": {},
   "outputs": [],
   "source": [
    "with open(\"build/mammary_gland/Quake_10x_Mammary_Gland/stdout.txt\", \"w\") as f:\n",
    "    f.write(capio.stdout)\n",
    "with open(\"build/mammary_gland/Quake_10x_Mammary_Gland/stderr.txt\", \"w\") as f:\n",
    "    f.write(capio.stderr)"
   ]
  },
  {
   "cell_type": "code",
   "execution_count": null,
   "metadata": {},
   "outputs": [],
   "source": [
    "utils.self_projection(quake_10x_mammary_gland_blast, \"build/mammary_gland/Quake_10x_Mammary_Gland\")"
   ]
  },
  {
   "cell_type": "code",
   "execution_count": null,
   "metadata": {},
   "outputs": [],
   "source": [
    "%%writefile build/mammary_gland/Quake_10x_Mammary_Gland/predictable.txt\n",
    "cell_ontology_class\n",
    "cell_type1\n",
    "cluster\n",
    "free_annotation"
   ]
  },
  {
   "cell_type": "markdown",
   "metadata": {},
   "source": [
    "## Quake_Smart-seq2_Mammary_Gland"
   ]
  },
  {
   "cell_type": "code",
   "execution_count": null,
   "metadata": {},
   "outputs": [],
   "source": [
    "quake_smart_seq2_mammary_gland = cb.data.ExprDataSet.read_dataset(\"../../Datasets/data/Quake_Smart-seq2_Mammary_Gland/data.h5\")\n",
    "utils.peek(quake_smart_seq2_mammary_gland, \"build/mammary_gland/Quake_Smart-seq2_Mammary_Gland\")\n",
    "quake_smart_seq2_mammary_gland.obs.head()"
   ]
  },
  {
   "cell_type": "code",
   "execution_count": null,
   "metadata": {},
   "outputs": [],
   "source": [
    "quake_smart_seq2_mammary_gland.obs[\"cluster\"] = \"cluster_\" + quake_smart_seq2_mammary_gland.obs[\"cluster\"].astype(int).astype(str)\n",
    "quake_smart_seq2_mammary_gland.obs.dtypes"
   ]
  },
  {
   "cell_type": "code",
   "execution_count": null,
   "metadata": {},
   "outputs": [],
   "source": [
    "opt_model_kwargs = dict(batch_effect=\"donor\")\n",
    "quake_smart_seq2_mammary_gland_model = cb.directi.fit_DIRECTi(\n",
    "    quake_smart_seq2_mammary_gland, quake_smart_seq2_mammary_gland.uns[\"seurat_genes\"],\n",
    "    **fixed_model_kwargs, **opt_model_kwargs\n",
    ")\n",
    "quake_smart_seq2_mammary_gland.latent = quake_smart_seq2_mammary_gland_model.inference(quake_smart_seq2_mammary_gland)"
   ]
  },
  {
   "cell_type": "code",
   "execution_count": null,
   "metadata": {},
   "outputs": [],
   "source": [
    "ax = quake_smart_seq2_mammary_gland.visualize_latent(\"cell_ontology_class\", scatter_kws=dict(rasterized=True))\n",
    "ax.get_figure().savefig(\"build/mammary_gland/Quake_Smart-seq2_Mammary_Gland/cell_ontology_class.svg\", dpi=utils.DPI, bbox_inches=\"tight\")"
   ]
  },
  {
   "cell_type": "code",
   "execution_count": null,
   "metadata": {},
   "outputs": [],
   "source": [
    "ax = quake_smart_seq2_mammary_gland.visualize_latent(\"cell_type1\", scatter_kws=dict(rasterized=True))\n",
    "ax.get_figure().savefig(\"build/mammary_gland/Quake_Smart-seq2_Mammary_Gland/cell_type1.svg\", dpi=utils.DPI, bbox_inches=\"tight\")"
   ]
  },
  {
   "cell_type": "code",
   "execution_count": null,
   "metadata": {},
   "outputs": [],
   "source": [
    "ax = quake_smart_seq2_mammary_gland.visualize_latent(\"cluster\", scatter_kws=dict(rasterized=True))\n",
    "ax.get_figure().savefig(\"build/mammary_gland/Quake_Smart-seq2_Mammary_Gland/cluster.svg\", dpi=utils.DPI, bbox_inches=\"tight\")"
   ]
  },
  {
   "cell_type": "code",
   "execution_count": null,
   "metadata": {},
   "outputs": [],
   "source": [
    "ax = quake_smart_seq2_mammary_gland.visualize_latent(\"free_annotation\", scatter_kws=dict(rasterized=True))\n",
    "ax.get_figure().savefig(\"build/mammary_gland/Quake_Smart-seq2_Mammary_Gland/free_annotation.svg\", dpi=utils.DPI, bbox_inches=\"tight\")"
   ]
  },
  {
   "cell_type": "code",
   "execution_count": null,
   "metadata": {},
   "outputs": [],
   "source": [
    "ax = quake_smart_seq2_mammary_gland.visualize_latent(\"donor\", scatter_kws=dict(rasterized=True))\n",
    "ax.get_figure().savefig(\"build/mammary_gland/Quake_Smart-seq2_Mammary_Gland/donor.svg\", dpi=utils.DPI, bbox_inches=\"tight\")"
   ]
  },
  {
   "cell_type": "code",
   "execution_count": null,
   "metadata": {},
   "outputs": [],
   "source": [
    "quake_smart_seq2_mammary_gland.write_dataset(\"build/mammary_gland/Quake_Smart-seq2_Mammary_Gland/Quake_Smart-seq2_Mammary_Gland.h5\")"
   ]
  },
  {
   "cell_type": "code",
   "execution_count": null,
   "metadata": {},
   "outputs": [],
   "source": [
    "%%capture capio\n",
    "quake_smart_seq2_mammary_gland_models = [quake_smart_seq2_mammary_gland_model]\n",
    "for i in range(1, cb.config.N_JOBS):\n",
    "    print(\"==== Model %d ====\" % i)\n",
    "    quake_smart_seq2_mammary_gland_models.append(cb.directi.fit_DIRECTi(\n",
    "        quake_smart_seq2_mammary_gland, quake_smart_seq2_mammary_gland.uns[\"seurat_genes\"],\n",
    "        **fixed_model_kwargs, **opt_model_kwargs,\n",
    "        random_seed=i\n",
    "    ))\n",
    "quake_smart_seq2_mammary_gland_blast = cb.blast.BLAST(quake_smart_seq2_mammary_gland_models, quake_smart_seq2_mammary_gland)\n",
    "quake_smart_seq2_mammary_gland_blast.save(\"build/mammary_gland/Quake_Smart-seq2_Mammary_Gland\")"
   ]
  },
  {
   "cell_type": "code",
   "execution_count": null,
   "metadata": {},
   "outputs": [],
   "source": [
    "with open(\"build/mammary_gland/Quake_Smart-seq2_Mammary_Gland/stdout.txt\", \"w\") as f:\n",
    "    f.write(capio.stdout)\n",
    "with open(\"build/mammary_gland/Quake_Smart-seq2_Mammary_Gland/stderr.txt\", \"w\") as f:\n",
    "    f.write(capio.stderr)"
   ]
  },
  {
   "cell_type": "code",
   "execution_count": null,
   "metadata": {},
   "outputs": [],
   "source": [
    "utils.self_projection(quake_smart_seq2_mammary_gland_blast, \"build/mammary_gland/Quake_Smart-seq2_Mammary_Gland\")"
   ]
  },
  {
   "cell_type": "code",
   "execution_count": null,
   "metadata": {},
   "outputs": [],
   "source": [
    "%%writefile build/mammary_gland/Quake_Smart-seq2_Mammary_Gland/predictable.txt\n",
    "cell_ontology_class\n",
    "cell_type1\n",
    "cluster\n",
    "free_annotation"
   ]
  },
  {
   "cell_type": "markdown",
   "metadata": {},
   "source": [
    "## Bach"
   ]
  },
  {
   "cell_type": "code",
   "execution_count": null,
   "metadata": {},
   "outputs": [],
   "source": [
    "bach = cb.data.ExprDataSet.read_dataset(\"../../Datasets/data/Bach/data.h5\")\n",
    "utils.peek(bach, \"build/mammary_gland/Bach\")\n",
    "bach.obs.head()"
   ]
  },
  {
   "cell_type": "code",
   "execution_count": null,
   "metadata": {},
   "outputs": [],
   "source": [
    "bach.obs[\"donor\"] = \"donor_\" + bach.obs[\"donor\"]\n",
    "bach.obs.dtypes"
   ]
  },
  {
   "cell_type": "code",
   "execution_count": null,
   "metadata": {},
   "outputs": [],
   "source": [
    "bach_model = cb.directi.fit_DIRECTi(\n",
    "    bach, bach.uns[\"seurat_genes\"],\n",
    "    **fixed_model_kwargs\n",
    ")\n",
    "bach.latent = bach_model.inference(bach)"
   ]
  },
  {
   "cell_type": "code",
   "execution_count": null,
   "metadata": {},
   "outputs": [],
   "source": [
    "plot = bach.visualize_latent(\"cell_ontology_class\")\n",
    "ax.get_figure().savefig(\"build/mammary_gland/Bach/cell_ontology_class.svg\", dpi=utils.DPI, bbox_inches=\"tight\")"
   ]
  },
  {
   "cell_type": "code",
   "execution_count": null,
   "metadata": {},
   "outputs": [],
   "source": [
    "ax = bach.visualize_latent(\"cell_type1\", scatter_kws=dict(rasterized=True))\n",
    "ax.get_figure().savefig(\"build/mammary_gland/Bach/cell_type1.svg\", dpi=utils.DPI, bbox_inches=\"tight\")"
   ]
  },
  {
   "cell_type": "code",
   "execution_count": null,
   "metadata": {},
   "outputs": [],
   "source": [
    "ax = bach.visualize_latent(\"lifestage\", scatter_kws=dict(rasterized=True))\n",
    "ax.get_figure().savefig(\"build/mammary_gland/Bach/lifestage.svg\", dpi=utils.DPI, bbox_inches=\"tight\")"
   ]
  },
  {
   "cell_type": "code",
   "execution_count": null,
   "metadata": {},
   "outputs": [],
   "source": [
    "ax = bach.visualize_latent(\"donor\", scatter_kws=dict(rasterized=True))\n",
    "ax.get_figure().savefig(\"build/mammary_gland/Bach/donor.svg\", dpi=utils.DPI, bbox_inches=\"tight\")"
   ]
  },
  {
   "cell_type": "code",
   "execution_count": null,
   "metadata": {},
   "outputs": [],
   "source": [
    "bach.write_dataset(\"build/mammary_gland/Bach/Bach.h5\")"
   ]
  },
  {
   "cell_type": "code",
   "execution_count": null,
   "metadata": {},
   "outputs": [],
   "source": [
    "%%capture capio\n",
    "bach_models = [bach_model]\n",
    "for i in range(1, cb.config.N_JOBS):\n",
    "    print(\"==== Model %d ====\" % i)\n",
    "    bach_models.append(cb.directi.fit_DIRECTi(\n",
    "        bach, bach.uns[\"seurat_genes\"],\n",
    "        **fixed_model_kwargs, \n",
    "        random_seed=i\n",
    "    ))\n",
    "bach_blast = cb.blast.BLAST(bach_models, bach)\n",
    "bach_blast.save(\"build/mammary_gland/Bach\")"
   ]
  },
  {
   "cell_type": "code",
   "execution_count": null,
   "metadata": {},
   "outputs": [],
   "source": [
    "with open(\"build/mammary_gland/Bach/stdout.txt\", \"w\") as f:\n",
    "    f.write(capio.stdout)\n",
    "with open(\"build/mammary_gland/Bach/stderr.txt\", \"w\") as f:\n",
    "    f.write(capio.stderr)"
   ]
  },
  {
   "cell_type": "code",
   "execution_count": null,
   "metadata": {},
   "outputs": [],
   "source": [
    "utils.self_projection(bach_blast, \"build/mammary_gland/Bach\")"
   ]
  },
  {
   "cell_type": "code",
   "execution_count": null,
   "metadata": {},
   "outputs": [],
   "source": [
    "%%writefile build/mammary_gland/Bach/predictable.txt\n",
    "cell_ontology_class\n",
    "cell_type1\n",
    "lifestage"
   ]
  },
  {
   "cell_type": "markdown",
   "metadata": {},
   "source": [
    "## Giraddi_10x"
   ]
  },
  {
   "cell_type": "code",
   "execution_count": null,
   "metadata": {},
   "outputs": [],
   "source": [
    "giraddi_10x = cb.data.ExprDataSet.read_dataset(\"../../Datasets/data/Giraddi_10x/data.h5\")\n",
    "utils.peek(giraddi_10x, \"build/mammary_gland/Giraddi_10x\")\n",
    "giraddi_10x.obs.head()"
   ]
  },
  {
   "cell_type": "code",
   "execution_count": null,
   "metadata": {},
   "outputs": [],
   "source": [
    "giraddi_10x.obs[\"pseudotime\"] = giraddi_10x.obs[\"pseudotime\"].astype(np.int)\n",
    "giraddi_10x.obs.dtypes"
   ]
  },
  {
   "cell_type": "code",
   "execution_count": null,
   "metadata": {
    "scrolled": true
   },
   "outputs": [],
   "source": [
    "giraddi_10x_model = cb.directi.fit_DIRECTi(\n",
    "    giraddi_10x, giraddi_10x.uns[\"seurat_genes\"],\n",
    "    **{**fixed_model_kwargs, \"cat_dim\": None}\n",
    ")\n",
    "giraddi_10x.latent = giraddi_10x_model.inference(giraddi_10x)"
   ]
  },
  {
   "cell_type": "code",
   "execution_count": null,
   "metadata": {},
   "outputs": [],
   "source": [
    "ax = giraddi_10x.visualize_latent(\"cell_ontology_class\", method=\"UMAP\", reuse=False, dr_kws=dict(n_neighbors=5), scatter_kws=dict(rasterized=True))\n",
    "ax.get_figure().savefig(\"build/mammary_gland/Giraddi_10x/cell_ontology_class.svg\", dpi=utils.DPI, bbox_inches=\"tight\")"
   ]
  },
  {
   "cell_type": "code",
   "execution_count": null,
   "metadata": {},
   "outputs": [],
   "source": [
    "ax = giraddi_10x.visualize_latent(\"cell_type1\", method=\"UMAP\", reuse=False, dr_kws=dict(n_neighbors=5), scatter_kws=dict(rasterized=True))\n",
    "ax.get_figure().savefig(\"build/mammary_gland/Giraddi_10x/cell_type1.svg\", dpi=utils.DPI, bbox_inches=\"tight\")"
   ]
  },
  {
   "cell_type": "code",
   "execution_count": null,
   "metadata": {},
   "outputs": [],
   "source": [
    "ax = giraddi_10x.visualize_latent(\"lifestage\", scatter_kws=dict(rasterized=True))\n",
    "ax.get_figure().savefig(\"build/mammary_gland/Giraddi_10x/lifestage.svg\", dpi=utils.DPI, bbox_inches=\"tight\")"
   ]
  },
  {
   "cell_type": "code",
   "execution_count": null,
   "metadata": {},
   "outputs": [],
   "source": [
    "ax = giraddi_10x.visualize_latent(\"pseudotime\", method=\"UMAP\", reuse=False, dr_kws=dict(n_neighbors=5), scatter_kws=dict(rasterized=True))\n",
    "ax.get_figure().savefig(\"build/mammary_gland/Giraddi_10x/pseudotime.svg\", dpi=utils.DPI, bbox_inches=\"tight\")"
   ]
  },
  {
   "cell_type": "code",
   "execution_count": null,
   "metadata": {},
   "outputs": [],
   "source": [
    "giraddi_10x.write_dataset(\"build/mammary_gland/Giraddi_10x/Giraddi_10x.h5\")"
   ]
  },
  {
   "cell_type": "code",
   "execution_count": null,
   "metadata": {},
   "outputs": [],
   "source": [
    "%%capture capio\n",
    "giraddi_10x_models = [giraddi_10x_model]\n",
    "for i in range(1, cb.config.N_JOBS):\n",
    "    print(\"==== Model %d ====\" % i)\n",
    "    giraddi_10x_models.append(cb.directi.fit_DIRECTi(\n",
    "        giraddi_10x, giraddi_10x.uns[\"seurat_genes\"],\n",
    "        **{**fixed_model_kwargs, \"cat_dim\": None},\n",
    "        random_seed=i\n",
    "    ))\n",
    "giraddi_10x_blast = cb.blast.BLAST(giraddi_10x_models, giraddi_10x)\n",
    "giraddi_10x_blast.save(\"build/mammary_gland/Giraddi_10x\")"
   ]
  },
  {
   "cell_type": "code",
   "execution_count": null,
   "metadata": {},
   "outputs": [],
   "source": [
    "with open(\"build/mammary_gland/Giraddi_10x/stdout.txt\", \"w\") as f:\n",
    "    f.write(capio.stdout)\n",
    "with open(\"build/mammary_gland/Giraddi_10x/stderr.txt\", \"w\") as f:\n",
    "    f.write(capio.stderr)"
   ]
  },
  {
   "cell_type": "code",
   "execution_count": null,
   "metadata": {},
   "outputs": [],
   "source": [
    "utils.self_projection(giraddi_10x_blast, \"build/mammary_gland/Giraddi_10x\")"
   ]
  },
  {
   "cell_type": "code",
   "execution_count": null,
   "metadata": {},
   "outputs": [],
   "source": [
    "%%writefile build/mammary_gland/Giraddi_10x/predictable.txt\n",
    "cell_ontology_class\n",
    "cell_type1\n",
    "lifestage\n",
    "pseudotime"
   ]
  },
  {
   "cell_type": "markdown",
   "metadata": {},
   "source": [
    "## Mouse aligned"
   ]
  },
  {
   "cell_type": "code",
   "execution_count": null,
   "metadata": {},
   "outputs": [],
   "source": [
    "if not os.path.exists(\"build/mammary_gland/ALIGNED_Mus_musculus_Mammary_Gland\"):\n",
    "    os.makedirs(\"build/mammary_gland/ALIGNED_Mus_musculus_Mammary_Gland\")\n",
    "sun = cb.data.ExprDataSet.read_dataset(\"../../Datasets/data/Sun/data.h5\")\n",
    "quake_smart_seq2_mammary_gland.obs[\"quake_smart_seq2_mammary_gland_donor\"] = \\\n",
    "    quake_smart_seq2_mammary_gland.obs[\"donor\"]\n",
    "mouse = cb.data.ExprDataSet.merge_datasets(dict(\n",
    "    quake_10x_mammary_gland=quake_10x_mammary_gland,\n",
    "    quake_smart_seq2_mammary_gland=quake_smart_seq2_mammary_gland,\n",
    "    sun=sun,\n",
    "    bach=bach\n",
    "), merge_uns_slots=[\"seurat_genes\"])"
   ]
  },
  {
   "cell_type": "code",
   "execution_count": null,
   "metadata": {},
   "outputs": [],
   "source": [
    "mouse.obs.loc[mouse.obs[\"lifestage\"] == \"pregnant\", \"lifestage\"] = \"G\"\n",
    "mouse.obs.loc[np.logical_or(\n",
    "    mouse.obs[\"lifestage\"] == \"virgin\",\n",
    "    np.in1d(mouse.obs[\"dataset_name\"], [\"Quake_10x_Mammary_Gland\", \"Quake_Smart-seq2_Mammary_Gland\"])\n",
    "), \"lifestage\"] = \"NP\"\n",
    "mouse.obs[\"NP_dataset\"] = mouse.obs[\"dataset_name\"]\n",
    "mouse.obs[\"G_dataset\"] = mouse.obs[\"dataset_name\"]\n",
    "mouse.obs.loc[mouse.obs[\"lifestage\"] != \"NP\", \"NP_dataset\"] = np.nan\n",
    "mouse.obs.loc[mouse.obs[\"lifestage\"] != \"G\", \"G_dataset\"] = np.nan"
   ]
  },
  {
   "cell_type": "code",
   "execution_count": null,
   "metadata": {},
   "outputs": [],
   "source": [
    "mouse.obs.head()"
   ]
  },
  {
   "cell_type": "code",
   "execution_count": null,
   "metadata": {},
   "outputs": [],
   "source": [
    "mouse.obs.dtypes"
   ]
  },
  {
   "cell_type": "code",
   "execution_count": null,
   "metadata": {
    "scrolled": true
   },
   "outputs": [],
   "source": [
    "opt_model_kwargs = dict(\n",
    "    batch_effect=[\"quake_smart_seq2_mammary_gland_donor\", \"NP_dataset\", \"G_dataset\"],\n",
    "    #rmbatch_module=[\"MNNAdversarial\", \"Adversarial\", \"Adversarial\", \"Adversarial\"],\n",
    "    rmbatch_module_kwargs=dict(lambda_reg=0.005)\n",
    ")  # Many batch effects are being aligned, decrease regularization strength accordingly\n",
    "mouse_model = cb.directi.fit_DIRECTi(\n",
    "    mouse, mouse.uns[\"seurat_genes\"],\n",
    "    **fixed_model_kwargs, **opt_model_kwargs\n",
    ")\n",
    "mouse.latent = mouse_model.inference(mouse)"
   ]
  },
  {
   "cell_type": "code",
   "execution_count": null,
   "metadata": {
    "scrolled": false
   },
   "outputs": [],
   "source": [
    "ax = mouse.visualize_latent(\"cell_ontology_class\", scatter_kws=dict(rasterized=True))\n",
    "ax.get_figure().savefig(\"build/mammary_gland/ALIGNED_Mus_musculus_Mammary_Gland/cell_ontology_class.svg\", dpi=utils.DPI, bbox_inches=\"tight\")"
   ]
  },
  {
   "cell_type": "code",
   "execution_count": null,
   "metadata": {},
   "outputs": [],
   "source": [
    "ax = mouse.visualize_latent(\"dataset_name\", scatter_kws=dict(rasterized=True))\n",
    "ax.get_figure().savefig(\"build/mammary_gland/ALIGNED_Mus_musculus_Mammary_Gland/dataset_name.svg\", dpi=utils.DPI, bbox_inches=\"tight\")"
   ]
  },
  {
   "cell_type": "code",
   "execution_count": null,
   "metadata": {},
   "outputs": [],
   "source": [
    "ax = mouse.visualize_latent(\"lifestage\", scatter_kws=dict(rasterized=True))\n",
    "ax.get_figure().savefig(\"build/mammary_gland/ALIGNED_Mus_musculus_Mammary_Gland/lifestage.svg\", dpi=utils.DPI, bbox_inches=\"tight\")"
   ]
  },
  {
   "cell_type": "code",
   "execution_count": null,
   "metadata": {},
   "outputs": [],
   "source": [
    "mouse.write_dataset(\"build/mammary_gland/ALIGNED_Mus_musculus_Mammary_Gland/ALIGNED_Mus_musculus_Mammary_Gland.h5\")"
   ]
  },
  {
   "cell_type": "code",
   "execution_count": null,
   "metadata": {},
   "outputs": [],
   "source": [
    "%%capture capio\n",
    "mouse_models = [mouse_model]\n",
    "for i in range(1, cb.config.N_JOBS):\n",
    "    print(\"==== Model %d ====\" % i)\n",
    "    mouse_models.append(cb.directi.fit_DIRECTi(\n",
    "        mouse, mouse.uns[\"seurat_genes\"],\n",
    "        **fixed_model_kwargs, **opt_model_kwargs,\n",
    "        random_seed=i\n",
    "    ))\n",
    "mouse_blast = cb.blast.BLAST(mouse_models, mouse)\n",
    "mouse_blast.save(\"build/mammary_gland/ALIGNED_Mus_musculus_Mammary_Gland\")"
   ]
  },
  {
   "cell_type": "code",
   "execution_count": null,
   "metadata": {},
   "outputs": [],
   "source": [
    "with open(\"build/mammary_gland/ALIGNED_Mus_musculus_Mammary_Gland/stdout.txt\", \"w\") as f:\n",
    "    f.write(capio.stdout)\n",
    "with open(\"build/mammary_gland/ALIGNED_Mus_musculus_Mammary_Gland/stderr.txt\", \"w\") as f:\n",
    "    f.write(capio.stderr)"
   ]
  },
  {
   "cell_type": "code",
   "execution_count": null,
   "metadata": {},
   "outputs": [],
   "source": [
    "utils.self_projection(mouse_blast, \"build/mammary_gland/ALIGNED_Mus_musculus_Mammary_Gland\")"
   ]
  },
  {
   "cell_type": "code",
   "execution_count": null,
   "metadata": {},
   "outputs": [],
   "source": [
    "%%writefile build/mammary_gland/ALIGNED_Mus_musculus_Mammary_Gland/predictable.txt\n",
    "cell_ontology_class"
   ]
  },
  {
   "cell_type": "markdown",
   "metadata": {},
   "source": [
    "---\n",
    "# Human\n",
    "## Nguyen_10x"
   ]
  },
  {
   "cell_type": "code",
   "execution_count": null,
   "metadata": {
    "ExecuteTime": {
     "end_time": "2019-07-29T15:55:41.278097Z",
     "start_time": "2019-07-29T15:55:36.423637Z"
    }
   },
   "outputs": [],
   "source": [
    "nguyen_10x = cb.data.ExprDataSet.read_dataset(\"../../Datasets/data/Nguyen_10x/data.h5\")\n",
    "utils.peek(nguyen_10x, \"build/mammary_gland/Nguyen_10x\")\n",
    "nguyen_10x.obs.head()"
   ]
  },
  {
   "cell_type": "code",
   "execution_count": null,
   "metadata": {},
   "outputs": [],
   "source": [
    "nguyen_10x.obs.dtypes"
   ]
  },
  {
   "cell_type": "code",
   "execution_count": null,
   "metadata": {
    "scrolled": true
   },
   "outputs": [],
   "source": [
    "opt_model_kwargs = dict(batch_effect=\"donor\")\n",
    "nguyen_10x_model = cb.directi.fit_DIRECTi(\n",
    "    nguyen_10x, nguyen_10x.uns[\"seurat_genes\"],\n",
    "    **fixed_model_kwargs, **opt_model_kwargs\n",
    ")\n",
    "nguyen_10x.latent = nguyen_10x_model.inference(nguyen_10x)"
   ]
  },
  {
   "cell_type": "code",
   "execution_count": null,
   "metadata": {
    "scrolled": false
   },
   "outputs": [],
   "source": [
    "ax = nguyen_10x.visualize_latent(\"cell_ontology_class\", scatter_kws=dict(rasterized=True))\n",
    "ax.get_figure().savefig(\"build/mammary_gland/Nguyen_10x/cell_ontology_class.svg\", dpi=utils.DPI, bbox_inches=\"tight\")"
   ]
  },
  {
   "cell_type": "code",
   "execution_count": null,
   "metadata": {
    "scrolled": false
   },
   "outputs": [],
   "source": [
    "ax = nguyen_10x.visualize_latent(\"cell_type1\", scatter_kws=dict(rasterized=True))\n",
    "ax.get_figure().savefig(\"build/mammary_gland/Nguyen_10x/cell_type1.svg\", dpi=utils.DPI, bbox_inches=\"tight\")"
   ]
  },
  {
   "cell_type": "code",
   "execution_count": null,
   "metadata": {
    "scrolled": false
   },
   "outputs": [],
   "source": [
    "ax = nguyen_10x.visualize_latent(\"lifestage\", scatter_kws=dict(rasterized=True))\n",
    "ax.get_figure().savefig(\"build/mammary_gland/Nguyen_10x/lifestage.svg\", dpi=utils.DPI, bbox_inches=\"tight\")"
   ]
  },
  {
   "cell_type": "code",
   "execution_count": null,
   "metadata": {},
   "outputs": [],
   "source": [
    "ax = nguyen_10x.visualize_latent(\"donor\", scatter_kws=dict(rasterized=True))\n",
    "ax.get_figure().savefig(\"build/mammary_gland/Nguyen_10x/donor.svg\", dpi=utils.DPI, bbox_inches=\"tight\")"
   ]
  },
  {
   "cell_type": "code",
   "execution_count": null,
   "metadata": {},
   "outputs": [],
   "source": [
    "nguyen_10x.write_dataset(\"build/mammary_gland/Nguyen_10x/Nguyen_10x.h5\")"
   ]
  },
  {
   "cell_type": "code",
   "execution_count": null,
   "metadata": {},
   "outputs": [],
   "source": [
    "%%capture capio\n",
    "nguyen_10x_models = [nguyen_10x_model]\n",
    "for i in range(1, cb.config.N_JOBS):\n",
    "    print(\"==== Model %d ====\" % i)\n",
    "    nguyen_10x_models.append(cb.directi.fit_DIRECTi(\n",
    "        nguyen_10x, nguyen_10x.uns[\"seurat_genes\"],\n",
    "        **fixed_model_kwargs, **opt_model_kwargs,\n",
    "        random_seed=i\n",
    "    ))\n",
    "nguyen_10x_blast = cb.blast.BLAST(nguyen_10x_models, nguyen_10x)\n",
    "nguyen_10x_blast.save(\"build/mammary_gland/Nguyen_10x\")"
   ]
  },
  {
   "cell_type": "code",
   "execution_count": null,
   "metadata": {},
   "outputs": [],
   "source": [
    "with open(\"build/mammary_gland/Nguyen_10x/stdout.txt\", \"w\") as f:\n",
    "    f.write(capio.stdout)\n",
    "with open(\"build/mammary_gland/Nguyen_10x/stderr.txt\", \"w\") as f:\n",
    "    f.write(capio.stderr)"
   ]
  },
  {
   "cell_type": "code",
   "execution_count": null,
   "metadata": {},
   "outputs": [],
   "source": [
    "utils.self_projection(nguyen_10x_blast, \"build/mammary_gland/Nguyen_10x\")"
   ]
  },
  {
   "cell_type": "code",
   "execution_count": null,
   "metadata": {},
   "outputs": [],
   "source": [
    "%%writefile build/mammary_gland/Nguyen_10x/predictable.txt\n",
    "cell_ontology_class\n",
    "cell_type1"
   ]
  },
  {
   "cell_type": "markdown",
   "metadata": {},
   "source": [
    "## Human aligned"
   ]
  },
  {
   "cell_type": "code",
   "execution_count": null,
   "metadata": {
    "ExecuteTime": {
     "end_time": "2019-07-29T15:57:01.383894Z",
     "start_time": "2019-07-29T15:55:43.647346Z"
    }
   },
   "outputs": [],
   "source": [
    "if not os.path.exists(\"build/mammary_gland/ALIGNED_Homo_sapiens_Mammary_Gland\"):\n",
    "    os.makedirs(\"build/mammary_gland/ALIGNED_Homo_sapiens_Mammary_Gland\")\n",
    "nguyen_c1 = cb.data.ExprDataSet.read_dataset(\"../../Datasets/data/Nguyen_C1/data.h5\")\n",
    "nguyen_10x.obs[\"nguyen_10x_donor\"] = nguyen_10x.obs[\"donor\"]\n",
    "human = cb.data.ExprDataSet.merge_datasets(dict(\n",
    "    nguyen_10x=nguyen_10x,\n",
    "    nguyen_c1=nguyen_c1\n",
    "), merge_uns_slots=[\"seurat_genes\"])"
   ]
  },
  {
   "cell_type": "code",
   "execution_count": null,
   "metadata": {},
   "outputs": [],
   "source": [
    "human.obs.dtypes"
   ]
  },
  {
   "cell_type": "code",
   "execution_count": null,
   "metadata": {
    "ExecuteTime": {
     "end_time": "2019-07-29T17:06:33.636087Z",
     "start_time": "2019-07-29T16:59:34.374417Z"
    },
    "scrolled": true
   },
   "outputs": [],
   "source": [
    "opt_model_kwargs = dict(\n",
    "    batch_effect=[\"dataset_name\", \"nguyen_10x_donor\"],\n",
    "    rmbatch_module_kwargs=[dict(lambda_reg=0.02), dict(lambda_reg=0.01)],\n",
    "    prob_module_kwargs=dict(lambda_reg=0.01), patience=100\n",
    ")\n",
    "human_model = cb.directi.fit_DIRECTi(\n",
    "    human, human.uns[\"seurat_genes\"],\n",
    "    **{**fixed_model_kwargs, **opt_model_kwargs}\n",
    ")\n",
    "human.latent = human_model.inference(human)"
   ]
  },
  {
   "cell_type": "code",
   "execution_count": null,
   "metadata": {
    "ExecuteTime": {
     "end_time": "2019-07-29T17:20:23.678574Z",
     "start_time": "2019-07-29T17:06:56.604174Z"
    },
    "scrolled": false
   },
   "outputs": [],
   "source": [
    "ax = human.visualize_latent(\"cell_ontology_class\", scatter_kws=dict(rasterized=True))\n",
    "ax.get_figure().savefig(\"build/mammary_gland/ALIGNED_Homo_sapiens_Mammary_Gland/cell_ontology_class.svg\", bbox_inches=\"tight\")"
   ]
  },
  {
   "cell_type": "code",
   "execution_count": null,
   "metadata": {
    "ExecuteTime": {
     "end_time": "2019-07-29T17:24:56.126887Z",
     "start_time": "2019-07-29T17:24:52.756884Z"
    }
   },
   "outputs": [],
   "source": [
    "ax = human.visualize_latent(\"nguyen_10x_donor\", scatter_kws=dict(rasterized=True))\n",
    "ax.get_figure().savefig(\"build/mammary_gland/ALIGNED_Homo_sapiens_Mammary_Gland/donor.svg\", dpi=utils.DPI, bbox_inches=\"tight\")"
   ]
  },
  {
   "cell_type": "code",
   "execution_count": null,
   "metadata": {
    "ExecuteTime": {
     "end_time": "2019-07-29T17:25:04.137647Z",
     "start_time": "2019-07-29T17:25:00.853661Z"
    }
   },
   "outputs": [],
   "source": [
    "ax = human.visualize_latent(\"dataset_name\", scatter_kws=dict(rasterized=True))\n",
    "ax.get_figure().savefig(\"build/mammary_gland/ALIGNED_Homo_sapiens_Mammary_Gland/dataset_name.svg\", dpi=utils.DPI, bbox_inches=\"tight\")"
   ]
  },
  {
   "cell_type": "code",
   "execution_count": null,
   "metadata": {},
   "outputs": [],
   "source": [
    "human.write_dataset(\"build/mammary_gland/ALIGNED_Homo_sapiens_Mammary_Gland/ALIGNED_Homo_sapiens_Mammary_Gland.h5\")"
   ]
  },
  {
   "cell_type": "code",
   "execution_count": null,
   "metadata": {},
   "outputs": [],
   "source": [
    "%%capture capio\n",
    "human_models = [human_model]\n",
    "for i in range(1, cb.config.N_JOBS):\n",
    "    print(\"==== Model %d ====\" % i)\n",
    "    human_models.append(cb.directi.fit_DIRECTi(\n",
    "        human, human.uns[\"seurat_genes\"],\n",
    "        **{**fixed_model_kwargs, **opt_model_kwargs},\n",
    "        random_seed=i\n",
    "    ))"
   ]
  },
  {
   "cell_type": "code",
   "execution_count": null,
   "metadata": {},
   "outputs": [],
   "source": [
    "human_blast = cb.blast.BLAST(human_models, human)\n",
    "human_blast.save(\"build/mammary_gland/ALIGNED_Homo_sapiens_Mammary_Gland\")"
   ]
  },
  {
   "cell_type": "code",
   "execution_count": null,
   "metadata": {},
   "outputs": [],
   "source": [
    "with open(\"build/mammary_gland/ALIGNED_Homo_sapiens_Mammary_Gland/stdout.txt\", \"w\") as f:\n",
    "    f.write(capio.stdout)\n",
    "with open(\"build/mammary_gland/ALIGNED_Homo_sapiens_Mammary_Gland/stderr.txt\", \"w\") as f:\n",
    "    f.write(capio.stderr)"
   ]
  },
  {
   "cell_type": "code",
   "execution_count": null,
   "metadata": {},
   "outputs": [],
   "source": [
    "utils.self_projection(human_blast, \"build/mammary_gland/ALIGNED_Homo_sapiens_Mammary_Gland\")"
   ]
  },
  {
   "cell_type": "code",
   "execution_count": null,
   "metadata": {},
   "outputs": [],
   "source": [
    "%%writefile build/mammary_gland/ALIGNED_Homo_sapiens_Mammary_Gland/predictable.txt\n",
    "cell_ontology_class"
   ]
  }
 ],
 "metadata": {
  "kernelspec": {
   "display_name": "Python 3",
   "language": "python",
   "name": "python3"
  },
  "language_info": {
   "codemirror_mode": {
    "name": "ipython",
    "version": 3
   },
   "file_extension": ".py",
   "mimetype": "text/x-python",
   "name": "python",
   "nbconvert_exporter": "python",
   "pygments_lexer": "ipython3",
   "version": "3.6.8"
  },
  "toc": {
   "base_numbering": 1,
   "nav_menu": {},
   "number_sections": true,
   "sideBar": true,
   "skip_h1_title": false,
   "title_cell": "Table of Contents",
   "title_sidebar": "Contents",
   "toc_cell": false,
   "toc_position": {
    "height": "calc(100% - 180px)",
    "left": "10px",
    "top": "150px",
    "width": "286.796875px"
   },
   "toc_section_display": true,
   "toc_window_display": true
  },
  "varInspector": {
   "cols": {
    "lenName": 16,
    "lenType": 16,
    "lenVar": 40
   },
   "kernels_config": {
    "python": {
     "delete_cmd_postfix": "",
     "delete_cmd_prefix": "del ",
     "library": "var_list.py",
     "varRefreshCmd": "print(var_dic_list())"
    },
    "r": {
     "delete_cmd_postfix": ") ",
     "delete_cmd_prefix": "rm(",
     "library": "var_list.r",
     "varRefreshCmd": "cat(var_dic_list()) "
    }
   },
   "types_to_exclude": [
    "module",
    "function",
    "builtin_function_or_method",
    "instance",
    "_Feature"
   ],
   "window_display": false
  }
 },
 "nbformat": 4,
 "nbformat_minor": 2
}
