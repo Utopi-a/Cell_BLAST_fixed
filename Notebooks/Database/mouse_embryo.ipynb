{
 "cells": [
  {
   "cell_type": "code",
   "execution_count": null,
   "metadata": {
    "ExecuteTime": {
     "end_time": "2019-07-25T05:56:57.973054Z",
     "start_time": "2019-07-25T05:56:52.414100Z"
    }
   },
   "outputs": [],
   "source": [
    "import os\n",
    "import Cell_BLAST as cb\n",
    "import utils\n",
    "os.environ[\"CUDA_VISIBLE_DEVICES\"] = utils.pick_gpu_lowest_memory()\n",
    "cb.config.RANDOM_SEED = 0\n",
    "cb.config.N_JOBS = 4\n",
    "fixed_model_kwargs = dict(\n",
    "    latent_dim=10, cat_dim=20,\n",
    "    epoch=100, patience=10  # only for this dataset\n",
    ")"
   ]
  },
  {
   "cell_type": "code",
   "execution_count": null,
   "metadata": {
    "ExecuteTime": {
     "end_time": "2019-07-25T05:56:57.986608Z",
     "start_time": "2019-07-25T05:56:57.977639Z"
    }
   },
   "outputs": [],
   "source": [
    "cb.__version__"
   ]
  },
  {
   "cell_type": "markdown",
   "metadata": {},
   "source": [
    "---\n",
    "## Cao_2019"
   ]
  },
  {
   "cell_type": "code",
   "execution_count": null,
   "metadata": {
    "ExecuteTime": {
     "end_time": "2019-07-25T05:56:59.841371Z",
     "start_time": "2019-07-25T05:56:57.988956Z"
    },
    "scrolled": false
   },
   "outputs": [],
   "source": [
    "cao_2019 = cb.data.ExprDataSet.read_dataset(\"../../Datasets/data/Cao_2019/data.h5\")\n",
    "utils.peek(cao_2019, \"build/mouse_embryo/Cao_2019\")\n",
    "cao_2019.obs.head()"
   ]
  },
  {
   "cell_type": "code",
   "execution_count": null,
   "metadata": {},
   "outputs": [],
   "source": [
    "cao_2019.obs[\"donor\"] = \"donor_\" + cao_2019.obs[\"donor\"].astype(int).astype(str)\n",
    "cao_2019.obs[\"lifestage\"] = \"embryo_\" + cao_2019.obs[\"lifestage\"].astype(str)\n",
    "cao_2019.obs.dtypes"
   ]
  },
  {
   "cell_type": "code",
   "execution_count": null,
   "metadata": {
    "ExecuteTime": {
     "end_time": "2019-07-25T05:58:54.340499Z",
     "start_time": "2019-07-25T05:56:59.843397Z"
    },
    "scrolled": true
   },
   "outputs": [],
   "source": [
    "opt_model_kwargs = dict(prob_module_kwargs=dict(lambda_reg=0.01))\n",
    "cao_2019_model = cb.directi.fit_DIRECTi(\n",
    "    cao_2019, cao_2019.uns[\"scanpy_genes\"],\n",
    "    **fixed_model_kwargs, **opt_model_kwargs\n",
    ")\n",
    "cao_2019.latent = cao_2019_model.inference(cao_2019)"
   ]
  },
  {
   "cell_type": "code",
   "execution_count": null,
   "metadata": {},
   "outputs": [],
   "source": [
    "ax = cao_2019.visualize_latent(\n",
    "    \"cell_type1\", method=\"UMAP\", size=0.1,\n",
    "    dr_kws=dict(n_neighbors=7, min_dist=0.7),\n",
    "    scatter_kws=dict(rasterized=True)\n",
    ")\n",
    "ax.get_figure().savefig(\"build/mouse_embryo/Cao_2019/cell_type1.svg\", dpi=utils.DPI, bbox_inches=\"tight\")"
   ]
  },
  {
   "cell_type": "code",
   "execution_count": null,
   "metadata": {},
   "outputs": [],
   "source": [
    "ax = cao_2019.visualize_latent(\n",
    "    \"cell_ontology_class\", method=\"UMAP\", size=0.1,\n",
    "    dr_kws=dict(n_neighbors=7, min_dist=0.7),\n",
    "    scatter_kws=dict(rasterized=True)\n",
    ")\n",
    "ax.get_figure().savefig(\"build/mouse_embryo/Cao_2019/cell_ontology_class.svg\", dpi=utils.DPI, bbox_inches=\"tight\")"
   ]
  },
  {
   "cell_type": "code",
   "execution_count": null,
   "metadata": {},
   "outputs": [],
   "source": [
    "ax = cao_2019.visualize_latent(\n",
    "    \"lifestage\", method=\"UMAP\", size=0.1,\n",
    "    dr_kws=dict(n_neighbors=7, min_dist=0.7),\n",
    "    scatter_kws=dict(rasterized=True)\n",
    ")\n",
    "ax.get_figure().savefig(\"build/mouse_embryo/Cao_2019/lifestage.svg\", dpi=utils.DPI, bbox_inches=\"tight\")"
   ]
  },
  {
   "cell_type": "code",
   "execution_count": null,
   "metadata": {},
   "outputs": [],
   "source": [
    "cao_2019.write_dataset(\"build/mouse_embryo/Cao_2019/Cao_2019.h5\")"
   ]
  },
  {
   "cell_type": "code",
   "execution_count": null,
   "metadata": {
    "ExecuteTime": {
     "end_time": "2019-07-25T06:05:17.534590Z",
     "start_time": "2019-07-25T06:00:13.644110Z"
    }
   },
   "outputs": [],
   "source": [
    "%%capture capio\n",
    "cao_2019_models = [cao_2019_model]\n",
    "for i in range(1, cb.config.N_JOBS):\n",
    "    print(\"==== Model %d ====\" % i)\n",
    "    cao_2019_models.append(cb.directi.fit_DIRECTi(\n",
    "        cao_2019, cao_2019.uns[\"scanpy_genes\"],\n",
    "        **fixed_model_kwargs, **opt_model_kwargs,\n",
    "        random_seed=i\n",
    "    ))\n",
    "cao_2019_blast = cb.blast.BLAST(cao_2019_models, cao_2019)\n",
    "cao_2019_blast.save(\"build/mouse_embryo/Cao_2019\")"
   ]
  },
  {
   "cell_type": "code",
   "execution_count": null,
   "metadata": {
    "ExecuteTime": {
     "end_time": "2019-07-25T06:05:17.543416Z",
     "start_time": "2019-07-25T06:05:17.538438Z"
    }
   },
   "outputs": [],
   "source": [
    "with open(\"build/mouse_embryo/Cao_2019/stdout.txt\", \"w\") as f:\n",
    "    f.write(capio.stdout)\n",
    "with open(\"build/mouse_embryo/Cao_2019/stderr.txt\", \"w\") as f:\n",
    "    f.write(capio.stderr)"
   ]
  },
  {
   "cell_type": "code",
   "execution_count": null,
   "metadata": {
    "ExecuteTime": {
     "end_time": "2019-07-25T06:05:36.622264Z",
     "start_time": "2019-07-25T06:05:17.545265Z"
    }
   },
   "outputs": [],
   "source": [
    "utils.self_projection(cao_2019_blast, \"build/mouse_embryo/Cao_2019\")"
   ]
  },
  {
   "cell_type": "code",
   "execution_count": null,
   "metadata": {},
   "outputs": [],
   "source": [
    "%%writefile \"build/mouse_embryo/Cao_2019/predictable.txt\"\n",
    "cell_ontology_class\n",
    "cell_type1\n",
    "ligestage"
   ]
  }
 ],
 "metadata": {
  "kernelspec": {
   "display_name": "Python 3",
   "language": "python",
   "name": "python3"
  },
  "language_info": {
   "codemirror_mode": {
    "name": "ipython",
    "version": 3
   },
   "file_extension": ".py",
   "mimetype": "text/x-python",
   "name": "python",
   "nbconvert_exporter": "python",
   "pygments_lexer": "ipython3",
   "version": "3.6.8"
  },
  "toc": {
   "base_numbering": 1,
   "nav_menu": {},
   "number_sections": true,
   "sideBar": true,
   "skip_h1_title": false,
   "title_cell": "Table of Contents",
   "title_sidebar": "Contents",
   "toc_cell": false,
   "toc_position": {},
   "toc_section_display": true,
   "toc_window_display": true
  },
  "varInspector": {
   "cols": {
    "lenName": 16,
    "lenType": 16,
    "lenVar": 40
   },
   "kernels_config": {
    "python": {
     "delete_cmd_postfix": "",
     "delete_cmd_prefix": "del ",
     "library": "var_list.py",
     "varRefreshCmd": "print(var_dic_list())"
    },
    "r": {
     "delete_cmd_postfix": ") ",
     "delete_cmd_prefix": "rm(",
     "library": "var_list.r",
     "varRefreshCmd": "cat(var_dic_list()) "
    }
   },
   "types_to_exclude": [
    "module",
    "function",
    "builtin_function_or_method",
    "instance",
    "_Feature"
   ],
   "window_display": false
  }
 },
 "nbformat": 4,
 "nbformat_minor": 2
}
