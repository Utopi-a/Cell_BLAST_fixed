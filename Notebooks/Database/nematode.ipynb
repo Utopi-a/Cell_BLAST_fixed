{
 "cells": [
  {
   "cell_type": "code",
   "execution_count": null,
   "metadata": {
    "ExecuteTime": {
     "end_time": "2019-07-25T15:20:32.244131Z",
     "start_time": "2019-07-25T15:20:29.023652Z"
    }
   },
   "outputs": [],
   "source": [
    "import os\n",
    "import Cell_BLAST as cb\n",
    "import utils\n",
    "os.environ[\"CUDA_VISIBLE_DEVICES\"] = utils.pick_gpu_lowest_memory()\n",
    "cb.config.RANDOM_SEED = 0\n",
    "cb.config.N_JOBS = 4\n",
    "fixed_model_kwargs = dict(\n",
    "    latent_dim=10, cat_dim=20,\n",
    "    epoch=500, patience=20\n",
    ")"
   ]
  },
  {
   "cell_type": "code",
   "execution_count": null,
   "metadata": {
    "ExecuteTime": {
     "end_time": "2019-07-25T15:20:32.252876Z",
     "start_time": "2019-07-25T15:20:32.247069Z"
    }
   },
   "outputs": [],
   "source": [
    "cb.__version__"
   ]
  },
  {
   "cell_type": "markdown",
   "metadata": {},
   "source": [
    "---\n",
    "# nematode\n",
    "## Cao"
   ]
  },
  {
   "cell_type": "code",
   "execution_count": null,
   "metadata": {
    "ExecuteTime": {
     "end_time": "2019-07-25T15:20:34.790200Z",
     "start_time": "2019-07-25T15:20:32.255032Z"
    }
   },
   "outputs": [],
   "source": [
    "cao = cb.data.ExprDataSet.read_dataset(\"../../Datasets/data/Cao/data.h5\")\n",
    "utils.peek(cao, \"build/nematode/Cao\")\n",
    "cao.obs.head()"
   ]
  },
  {
   "cell_type": "code",
   "execution_count": null,
   "metadata": {},
   "outputs": [],
   "source": [
    "cao.obs[\"cluster\"] = \"cluster_\" + cao.obs[\"cluster\"]\n",
    "cao.obs.dtypes"
   ]
  },
  {
   "cell_type": "code",
   "execution_count": null,
   "metadata": {
    "ExecuteTime": {
     "end_time": "2019-07-25T15:24:59.387956Z",
     "start_time": "2019-07-25T15:20:34.791881Z"
    },
    "scrolled": true
   },
   "outputs": [],
   "source": [
    "cao_model = cb.directi.fit_DIRECTi(\n",
    "    cao, cao.uns[\"seurat_genes\"],\n",
    "    **fixed_model_kwargs\n",
    ")\n",
    "cao.latent = cao_model.inference(cao)"
   ]
  },
  {
   "cell_type": "code",
   "execution_count": null,
   "metadata": {
    "ExecuteTime": {
     "end_time": "2019-07-25T15:42:06.553289Z",
     "start_time": "2019-07-25T15:42:02.347115Z"
    }
   },
   "outputs": [],
   "source": [
    "ax = cao.visualize_latent(\"cell_ontology_class\", scatter_kws=dict(rasterized=True))\n",
    "ax.get_figure().savefig(\"build/nematode/Cao/cell_ontology_class.svg\", dpi=utils.DPI, bbox_inches=\"tight\")"
   ]
  },
  {
   "cell_type": "code",
   "execution_count": null,
   "metadata": {
    "ExecuteTime": {
     "end_time": "2019-07-25T15:42:02.344906Z",
     "start_time": "2019-07-25T15:24:59.390876Z"
    }
   },
   "outputs": [],
   "source": [
    "ax = cao.visualize_latent(\"cell_type1\", scatter_kws=dict(rasterized=True))\n",
    "ax.get_figure().savefig(\"build/nematode/Cao/cell_type1.svg\", dpi=utils.DPI, bbox_inches=\"tight\")"
   ]
  },
  {
   "cell_type": "code",
   "execution_count": null,
   "metadata": {
    "ExecuteTime": {
     "end_time": "2019-07-25T15:42:02.344906Z",
     "start_time": "2019-07-25T15:24:59.390876Z"
    }
   },
   "outputs": [],
   "source": [
    "ax = cao.visualize_latent(\"cluster\", scatter_kws=dict(rasterized=True))\n",
    "ax.get_figure().savefig(\"build/nematode/Cao/cluster.svg\", dpi=utils.DPI, bbox_inches=\"tight\")"
   ]
  },
  {
   "cell_type": "code",
   "execution_count": null,
   "metadata": {
    "ExecuteTime": {
     "end_time": "2019-07-25T15:42:02.344906Z",
     "start_time": "2019-07-25T15:24:59.390876Z"
    }
   },
   "outputs": [],
   "source": [
    "ax = cao.visualize_latent(\"region\", scatter_kws=dict(rasterized=True))\n",
    "ax.get_figure().savefig(\"build/nematode/Cao/region.svg\", dpi=utils.DPI, bbox_inches=\"tight\")"
   ]
  },
  {
   "cell_type": "code",
   "execution_count": null,
   "metadata": {},
   "outputs": [],
   "source": [
    "cao.write_dataset(\"build/nematode/Cao/Cao.h5\")"
   ]
  },
  {
   "cell_type": "code",
   "execution_count": null,
   "metadata": {
    "ExecuteTime": {
     "end_time": "2019-07-25T15:58:26.712521Z",
     "start_time": "2019-07-25T15:42:06.555759Z"
    }
   },
   "outputs": [],
   "source": [
    "%%capture capio\n",
    "cao_models = [cao_model]\n",
    "for i in range(1, cb.config.N_JOBS):\n",
    "    print(\"==== Model %d ====\" % i)\n",
    "    cao_models.append(cb.directi.fit_DIRECTi(\n",
    "        cao, cao.uns[\"seurat_genes\"],\n",
    "        **fixed_model_kwargs, \n",
    "        random_seed=i\n",
    "    ))\n",
    "cao_blast = cb.blast.BLAST(cao_models, cao, eps=0.1)\n",
    "cao_blast.save(\"build/nematode/Cao\")"
   ]
  },
  {
   "cell_type": "code",
   "execution_count": null,
   "metadata": {
    "ExecuteTime": {
     "end_time": "2019-07-25T15:58:26.721805Z",
     "start_time": "2019-07-25T15:58:26.716929Z"
    }
   },
   "outputs": [],
   "source": [
    "with open(\"build/nematode/Cao/stdout.txt\", \"w\") as f:\n",
    "    f.write(capio.stdout)\n",
    "with open(\"build/nematode/Cao/stderr.txt\", \"w\") as f:\n",
    "    f.write(capio.stderr)"
   ]
  },
  {
   "cell_type": "code",
   "execution_count": null,
   "metadata": {
    "ExecuteTime": {
     "end_time": "2019-07-25T16:02:30.463391Z",
     "start_time": "2019-07-25T15:58:26.723671Z"
    }
   },
   "outputs": [],
   "source": [
    "utils.self_projection(cao_blast, \"build/nematode/Cao\")"
   ]
  },
  {
   "cell_type": "code",
   "execution_count": null,
   "metadata": {},
   "outputs": [],
   "source": [
    "%%writefile build/nematode/Cao/predictable.txt\n",
    "cell_ontology_class\n",
    "cell_type1\n",
    "cluster\n",
    "region"
   ]
  }
 ],
 "metadata": {
  "kernelspec": {
   "display_name": "Python 3",
   "language": "python",
   "name": "python3"
  },
  "language_info": {
   "codemirror_mode": {
    "name": "ipython",
    "version": 3
   },
   "file_extension": ".py",
   "mimetype": "text/x-python",
   "name": "python",
   "nbconvert_exporter": "python",
   "pygments_lexer": "ipython3",
   "version": "3.6.8"
  },
  "toc": {
   "base_numbering": 1,
   "nav_menu": {},
   "number_sections": true,
   "sideBar": true,
   "skip_h1_title": false,
   "title_cell": "Table of Contents",
   "title_sidebar": "Contents",
   "toc_cell": false,
   "toc_position": {},
   "toc_section_display": true,
   "toc_window_display": true
  },
  "varInspector": {
   "cols": {
    "lenName": 16,
    "lenType": 16,
    "lenVar": 40
   },
   "kernels_config": {
    "python": {
     "delete_cmd_postfix": "",
     "delete_cmd_prefix": "del ",
     "library": "var_list.py",
     "varRefreshCmd": "print(var_dic_list())"
    },
    "r": {
     "delete_cmd_postfix": ") ",
     "delete_cmd_prefix": "rm(",
     "library": "var_list.r",
     "varRefreshCmd": "cat(var_dic_list()) "
    }
   },
   "types_to_exclude": [
    "module",
    "function",
    "builtin_function_or_method",
    "instance",
    "_Feature"
   ],
   "window_display": false
  }
 },
 "nbformat": 4,
 "nbformat_minor": 2
}
