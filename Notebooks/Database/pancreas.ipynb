{
 "cells": [
  {
   "cell_type": "code",
   "execution_count": null,
   "metadata": {},
   "outputs": [],
   "source": [
    "import os\n",
    "import Cell_BLAST as cb\n",
    "import utils\n",
    "os.environ[\"CUDA_VISIBLE_DEVICES\"] = utils.pick_gpu_lowest_memory()\n",
    "cb.config.RANDOM_SEED = 0\n",
    "cb.config.N_JOBS = 4\n",
    "fixed_model_kwargs = dict(\n",
    "    latent_dim=10, cat_dim=20,\n",
    "    epoch=500, patience=20\n",
    ")"
   ]
  },
  {
   "cell_type": "code",
   "execution_count": null,
   "metadata": {},
   "outputs": [],
   "source": [
    "cb.__version__"
   ]
  },
  {
   "cell_type": "markdown",
   "metadata": {},
   "source": [
    "---\n",
    "\n",
    "# Human\n",
    "\n",
    "## Baron_human"
   ]
  },
  {
   "cell_type": "code",
   "execution_count": null,
   "metadata": {},
   "outputs": [],
   "source": [
    "baron_human = cb.data.ExprDataSet.read_dataset(\"../../Datasets/data/Baron_human/data.h5\")\n",
    "utils.peek(baron_human, \"build/pancreas/Baron_human\")\n",
    "baron_human.obs.head()"
   ]
  },
  {
   "cell_type": "code",
   "execution_count": null,
   "metadata": {},
   "outputs": [],
   "source": [
    "baron_human.obs.dtypes"
   ]
  },
  {
   "cell_type": "code",
   "execution_count": null,
   "metadata": {
    "scrolled": true
   },
   "outputs": [],
   "source": [
    "opt_model_kwargs = dict(batch_effect=\"donor\")\n",
    "baron_human_model = cb.directi.fit_DIRECTi(\n",
    "    baron_human, baron_human.uns[\"seurat_genes\"],\n",
    "    **fixed_model_kwargs, **opt_model_kwargs\n",
    ")\n",
    "baron_human.latent = baron_human_model.inference(baron_human)"
   ]
  },
  {
   "cell_type": "code",
   "execution_count": null,
   "metadata": {},
   "outputs": [],
   "source": [
    "ax = baron_human.visualize_latent(\"cell_ontology_class\", scatter_kws=dict(rasterized=True))\n",
    "ax.get_figure().savefig(\"build/pancreas/Baron_human/cell_ontology_class.svg\", dpi=utils.DPI, bbox_inches=\"tight\")"
   ]
  },
  {
   "cell_type": "code",
   "execution_count": null,
   "metadata": {},
   "outputs": [],
   "source": [
    "ax = baron_human.visualize_latent(\"cell_type1\", scatter_kws=dict(rasterized=True))\n",
    "ax.get_figure().savefig(\"build/pancreas/Baron_human/cell_type1.svg\", dpi=utils.DPI, bbox_inches=\"tight\")"
   ]
  },
  {
   "cell_type": "code",
   "execution_count": null,
   "metadata": {},
   "outputs": [],
   "source": [
    "ax = baron_human.visualize_latent(\"donor\", scatter_kws=dict(rasterized=True))\n",
    "ax.get_figure().savefig(\"build/pancreas/Baron_human/donor.svg\", dpi=utils.DPI, bbox_inches=\"tight\")"
   ]
  },
  {
   "cell_type": "code",
   "execution_count": null,
   "metadata": {},
   "outputs": [],
   "source": [
    "baron_human.write_dataset(\"build/pancreas/Baron_human/Baron_human.h5\")"
   ]
  },
  {
   "cell_type": "code",
   "execution_count": null,
   "metadata": {},
   "outputs": [],
   "source": [
    "%%capture capio\n",
    "baron_human_models = [baron_human_model]\n",
    "for i in range(1, cb.config.N_JOBS):\n",
    "    print(\"==== Model %d ====\" % i)\n",
    "    baron_human_models.append(cb.directi.fit_DIRECTi(\n",
    "        baron_human, baron_human.uns[\"seurat_genes\"],\n",
    "        **fixed_model_kwargs, **opt_model_kwargs,\n",
    "        random_seed=i\n",
    "    ))\n",
    "baron_human_blast = cb.blast.BLAST(baron_human_models, baron_human)\n",
    "baron_human_blast.save(\"build/pancreas/Baron_human\")"
   ]
  },
  {
   "cell_type": "code",
   "execution_count": null,
   "metadata": {},
   "outputs": [],
   "source": [
    "with open(\"build/pancreas/Baron_human/stdout.txt\", \"w\") as f:\n",
    "    f.write(capio.stdout)\n",
    "with open(\"build/pancreas/Baron_human/stderr.txt\", \"w\") as f:\n",
    "    f.write(capio.stderr)"
   ]
  },
  {
   "cell_type": "code",
   "execution_count": null,
   "metadata": {},
   "outputs": [],
   "source": [
    "utils.self_projection(baron_human_blast, \"build/pancreas/Baron_human\")"
   ]
  },
  {
   "cell_type": "code",
   "execution_count": null,
   "metadata": {},
   "outputs": [],
   "source": [
    "%%writefile build/pancreas/Baron_human/predictable.txt\n",
    "cell_ontology_class\n",
    "cell_type1"
   ]
  },
  {
   "cell_type": "markdown",
   "metadata": {},
   "source": [
    "## Muraro"
   ]
  },
  {
   "cell_type": "code",
   "execution_count": null,
   "metadata": {},
   "outputs": [],
   "source": [
    "muraro = cb.data.ExprDataSet.read_dataset(\"../../Datasets/data/Muraro/data.h5\")\n",
    "utils.peek(muraro, \"build/pancreas/Muraro\")\n",
    "muraro.obs.head()"
   ]
  },
  {
   "cell_type": "code",
   "execution_count": null,
   "metadata": {},
   "outputs": [],
   "source": [
    "muraro.obs.dtypes"
   ]
  },
  {
   "cell_type": "code",
   "execution_count": null,
   "metadata": {
    "scrolled": true
   },
   "outputs": [],
   "source": [
    "opt_model_kwargs = dict(batch_effect=\"donor\")\n",
    "muraro_model = cb.directi.fit_DIRECTi(\n",
    "    muraro, muraro.uns[\"seurat_genes\"],\n",
    "    **fixed_model_kwargs, **opt_model_kwargs\n",
    ")\n",
    "muraro.latent = muraro_model.inference(muraro)"
   ]
  },
  {
   "cell_type": "code",
   "execution_count": null,
   "metadata": {},
   "outputs": [],
   "source": [
    "ax = muraro.visualize_latent(\"cell_ontology_class\", scatter_kws=dict(rasterized=True))\n",
    "ax.get_figure().savefig(\"build/pancreas/Muraro/cell_ontology_class.svg\", dpi=utils.DPI, bbox_inches=\"tight\")"
   ]
  },
  {
   "cell_type": "code",
   "execution_count": null,
   "metadata": {},
   "outputs": [],
   "source": [
    "ax = muraro.visualize_latent(\"cell_type1\", scatter_kws=dict(rasterized=True))\n",
    "ax.get_figure().savefig(\"build/pancreas/Muraro/cell_type1.svg\", dpi=utils.DPI, bbox_inches=\"tight\")"
   ]
  },
  {
   "cell_type": "code",
   "execution_count": null,
   "metadata": {},
   "outputs": [],
   "source": [
    "ax = muraro.visualize_latent(\"donor\", scatter_kws=dict(rasterized=True))\n",
    "ax.get_figure().savefig(\"build/pancreas/Muraro/donor.svg\", dpi=utils.DPI, bbox_inches=\"tight\")"
   ]
  },
  {
   "cell_type": "code",
   "execution_count": null,
   "metadata": {},
   "outputs": [],
   "source": [
    "muraro.write_dataset(\"build/pancreas/Muraro/Muraro.h5\")"
   ]
  },
  {
   "cell_type": "code",
   "execution_count": null,
   "metadata": {},
   "outputs": [],
   "source": [
    "%%capture capio\n",
    "muraro_models = [muraro_model]\n",
    "for i in range(1, cb.config.N_JOBS):\n",
    "    print(\"==== Model %d ====\" % i)\n",
    "    muraro_models.append(cb.directi.fit_DIRECTi(\n",
    "        muraro, muraro.uns[\"seurat_genes\"],\n",
    "        **fixed_model_kwargs, **opt_model_kwargs,\n",
    "        random_seed=i\n",
    "    ))\n",
    "muraro_blast = cb.blast.BLAST(muraro_models, muraro)\n",
    "muraro_blast.save(\"build/pancreas/Muraro\")"
   ]
  },
  {
   "cell_type": "code",
   "execution_count": null,
   "metadata": {},
   "outputs": [],
   "source": [
    "with open(\"build/pancreas/Muraro/stdout.txt\", \"w\") as f:\n",
    "    f.write(capio.stdout)\n",
    "with open(\"build/pancreas/Muraro/stderr.txt\", \"w\") as f:\n",
    "    f.write(capio.stderr)"
   ]
  },
  {
   "cell_type": "code",
   "execution_count": null,
   "metadata": {},
   "outputs": [],
   "source": [
    "utils.self_projection(muraro_blast, \"build/pancreas/Muraro\")"
   ]
  },
  {
   "cell_type": "code",
   "execution_count": null,
   "metadata": {},
   "outputs": [],
   "source": [
    "%%writefile build/pancreas/Muraro/predictable.txt\n",
    "cell_ontology_class\n",
    "cell_type1"
   ]
  },
  {
   "cell_type": "markdown",
   "metadata": {},
   "source": [
    "## Enge"
   ]
  },
  {
   "cell_type": "code",
   "execution_count": null,
   "metadata": {},
   "outputs": [],
   "source": [
    "enge = cb.data.ExprDataSet.read_dataset(\"../../Datasets/data/Enge/data.h5\")\n",
    "utils.peek(enge, \"build/pancreas/Enge\")\n",
    "enge.obs.head()"
   ]
  },
  {
   "cell_type": "code",
   "execution_count": null,
   "metadata": {},
   "outputs": [],
   "source": [
    "enge.obs.dtypes"
   ]
  },
  {
   "cell_type": "code",
   "execution_count": null,
   "metadata": {
    "scrolled": true
   },
   "outputs": [],
   "source": [
    "opt_model_kwargs = dict(batch_effect=\"donor\")\n",
    "enge_model = cb.directi.fit_DIRECTi(\n",
    "    enge, enge.uns[\"seurat_genes\"],\n",
    "    **fixed_model_kwargs, **opt_model_kwargs\n",
    ")\n",
    "enge.latent = enge_model.inference(enge)"
   ]
  },
  {
   "cell_type": "code",
   "execution_count": null,
   "metadata": {},
   "outputs": [],
   "source": [
    "ax = enge.visualize_latent(\"cell_ontology_class\", scatter_kws=dict(rasterized=True))\n",
    "ax.get_figure().savefig(\"build/pancreas/Enge/cell_ontology_class.svg\", dpi=utils.DPI, bbox_inches=\"tight\")"
   ]
  },
  {
   "cell_type": "code",
   "execution_count": null,
   "metadata": {},
   "outputs": [],
   "source": [
    "ax = enge.visualize_latent(\"cell_type1\", scatter_kws=dict(rasterized=True))\n",
    "ax.get_figure().savefig(\"build/pancreas/Enge/cell_type1.svg\", dpi=utils.DPI, bbox_inches=\"tight\")"
   ]
  },
  {
   "cell_type": "code",
   "execution_count": null,
   "metadata": {
    "scrolled": false
   },
   "outputs": [],
   "source": [
    "ax = enge.visualize_latent(\"lifestage\", scatter_kws=dict(rasterized=True))\n",
    "ax.get_figure().savefig(\"build/pancreas/Enge/lifestage.svg\", dpi=utils.DPI, bbox_inches=\"tight\")"
   ]
  },
  {
   "cell_type": "code",
   "execution_count": null,
   "metadata": {
    "scrolled": false
   },
   "outputs": [],
   "source": [
    "ax = enge.visualize_latent(\"donor\", scatter_kws=dict(rasterized=True))\n",
    "ax.get_figure().savefig(\"build/pancreas/Enge/donor.svg\", dpi=utils.DPI, bbox_inches=\"tight\")"
   ]
  },
  {
   "cell_type": "code",
   "execution_count": null,
   "metadata": {},
   "outputs": [],
   "source": [
    "enge.write_dataset(\"build/pancreas/Enge/Enge.h5\")"
   ]
  },
  {
   "cell_type": "code",
   "execution_count": null,
   "metadata": {},
   "outputs": [],
   "source": [
    "%%capture capio\n",
    "enge_models = [enge_model]\n",
    "for i in range(1, cb.config.N_JOBS):\n",
    "    print(\"==== Model %d ====\" % i)\n",
    "    enge_models.append(cb.directi.fit_DIRECTi(\n",
    "        enge, enge.uns[\"seurat_genes\"],\n",
    "        **fixed_model_kwargs, **opt_model_kwargs,\n",
    "        random_seed=i\n",
    "    ))\n",
    "enge_blast = cb.blast.BLAST(enge_models, enge)\n",
    "enge_blast.save(\"build/pancreas/Enge\")"
   ]
  },
  {
   "cell_type": "code",
   "execution_count": null,
   "metadata": {},
   "outputs": [],
   "source": [
    "with open(\"build/pancreas/Enge/stdout.txt\", \"w\") as f:\n",
    "    f.write(capio.stdout)\n",
    "with open(\"build/pancreas/Enge/stderr.txt\", \"w\") as f:\n",
    "    f.write(capio.stderr)"
   ]
  },
  {
   "cell_type": "code",
   "execution_count": null,
   "metadata": {},
   "outputs": [],
   "source": [
    "utils.self_projection(enge_blast, \"build/pancreas/Enge\")"
   ]
  },
  {
   "cell_type": "code",
   "execution_count": null,
   "metadata": {},
   "outputs": [],
   "source": [
    "%%writefile build/pancreas/Enge/predictable.txt\n",
    "cell_ontology_class\n",
    "cell_type1"
   ]
  },
  {
   "cell_type": "markdown",
   "metadata": {},
   "source": [
    "## Human aligned"
   ]
  },
  {
   "cell_type": "code",
   "execution_count": null,
   "metadata": {},
   "outputs": [],
   "source": [
    "if not os.path.exists(\"build/pancreas/ALIGNED_Homo_sapiens_Pancreas\"):\n",
    "    os.makedirs(\"build/pancreas/ALIGNED_Homo_sapiens_Pancreas\")\n",
    "xin = cb.data.ExprDataSet.read_dataset(\"../../Datasets/data/Xin_2016/data.h5\")\n",
    "segerstolpe = cb.data.ExprDataSet.read_dataset(\"../../Datasets/data/Segerstolpe/data.h5\")\n",
    "lawlor = cb.data.ExprDataSet.read_dataset(\"../../Datasets/data/Lawlor/data.h5\")"
   ]
  },
  {
   "cell_type": "code",
   "execution_count": null,
   "metadata": {},
   "outputs": [],
   "source": [
    "baron_human.obs[\"baron_human_donor\"] = baron_human.obs[\"donor\"]\n",
    "muraro.obs[\"muraro_donor\"] = muraro.obs[\"donor\"]\n",
    "enge.obs[\"enge_donor\"] = enge.obs[\"donor\"]"
   ]
  },
  {
   "cell_type": "code",
   "execution_count": null,
   "metadata": {},
   "outputs": [],
   "source": [
    "human = cb.data.ExprDataSet.merge_datasets(dict(\n",
    "    baron_human=baron_human,\n",
    "    segerstolpe=segerstolpe,\n",
    "    muraro=muraro,\n",
    "    xin=xin,\n",
    "    lawlor=lawlor,\n",
    "    enge=enge\n",
    "), merge_uns_slots=[\"seurat_genes\"])"
   ]
  },
  {
   "cell_type": "code",
   "execution_count": null,
   "metadata": {},
   "outputs": [],
   "source": [
    "human.obs.dtypes"
   ]
  },
  {
   "cell_type": "code",
   "execution_count": null,
   "metadata": {
    "scrolled": true
   },
   "outputs": [],
   "source": [
    "opt_model_kwargs = dict(\n",
    "    batch_effect=[\"dataset_name\", \"baron_human_donor\", \"muraro_donor\", \"enge_donor\"],\n",
    "    rmbatch_module_kwargs=dict(lambda_reg=0.005)\n",
    ")  # Many batch effects are being aligned, decrease regularization strength accordingly\n",
    "human_model = cb.directi.fit_DIRECTi(\n",
    "    human, human.uns[\"seurat_genes\"],\n",
    "    **fixed_model_kwargs, **opt_model_kwargs\n",
    ")\n",
    "human.latent = human_model.inference(human)"
   ]
  },
  {
   "cell_type": "code",
   "execution_count": null,
   "metadata": {},
   "outputs": [],
   "source": [
    "ax = human.visualize_latent(\"cell_ontology_class\", reuse=False, scatter_kws=dict(rasterized=True))\n",
    "ax.get_figure().savefig(\"build/pancreas/ALIGNED_Homo_sapiens_Pancreas/cell_ontology_class.svg\", dpi=utils.DPI, bbox_inches=\"tight\")"
   ]
  },
  {
   "cell_type": "code",
   "execution_count": null,
   "metadata": {
    "scrolled": false
   },
   "outputs": [],
   "source": [
    "ax = human.visualize_latent(\"dataset_name\", scatter_kws=dict(rasterized=True))\n",
    "ax.get_figure().savefig(\"build/pancreas/ALIGNED_Homo_sapiens_Pancreas/dataset_name.svg\", dpi=utils.DPI, bbox_inches=\"tight\")"
   ]
  },
  {
   "cell_type": "code",
   "execution_count": null,
   "metadata": {},
   "outputs": [],
   "source": [
    "human.write_dataset(\"build/pancreas/ALIGNED_Homo_sapiens_Pancreas/ALIGNED_Homo_sapiens_Pancreas.h5\")"
   ]
  },
  {
   "cell_type": "code",
   "execution_count": null,
   "metadata": {},
   "outputs": [],
   "source": [
    "%%capture capio\n",
    "human_models = [human_model]\n",
    "for i in range(1, cb.config.N_JOBS):\n",
    "    print(\"==== Model %d ====\" % i)\n",
    "    human_models.append(cb.directi.fit_DIRECTi(\n",
    "        human, human.uns[\"seurat_genes\"],\n",
    "        **fixed_model_kwargs, **opt_model_kwargs,\n",
    "        random_seed=i\n",
    "    ))\n",
    "human_blast = cb.blast.BLAST(human_models, human)\n",
    "human_blast.save(\"build/pancreas/ALIGNED_Homo_sapiens_Pancreas\")"
   ]
  },
  {
   "cell_type": "code",
   "execution_count": null,
   "metadata": {},
   "outputs": [],
   "source": [
    "with open(\"build/pancreas/ALIGNED_Homo_sapiens_Pancreas/stdout.txt\", \"w\") as f:\n",
    "    f.write(capio.stdout)\n",
    "with open(\"build/pancreas/ALIGNED_Homo_sapiens_Pancreas/stderr.txt\", \"w\") as f:\n",
    "    f.write(capio.stderr)"
   ]
  },
  {
   "cell_type": "code",
   "execution_count": null,
   "metadata": {},
   "outputs": [],
   "source": [
    "utils.self_projection(human_blast, \"build/pancreas/ALIGNED_Homo_sapiens_Pancreas\")"
   ]
  },
  {
   "cell_type": "code",
   "execution_count": null,
   "metadata": {},
   "outputs": [],
   "source": [
    "%%writefile build/pancreas/ALIGNED_Homo_sapiens_Pancreas/predictable.txt\n",
    "cell_ontology_class"
   ]
  },
  {
   "cell_type": "markdown",
   "metadata": {},
   "source": [
    "Slightly decrease aligning strength?"
   ]
  },
  {
   "cell_type": "markdown",
   "metadata": {},
   "source": [
    "---\n",
    "\n",
    "# Mouse\n",
    "\n",
    "## Baron_mouse"
   ]
  },
  {
   "cell_type": "code",
   "execution_count": null,
   "metadata": {},
   "outputs": [],
   "source": [
    "baron_mouse = cb.data.ExprDataSet.read_dataset(\"../../Datasets/data/Baron_mouse/data.h5\")\n",
    "utils.peek(baron_mouse, \"build/pancreas/Baron_mouse\")\n",
    "baron_mouse.obs.head()"
   ]
  },
  {
   "cell_type": "code",
   "execution_count": null,
   "metadata": {},
   "outputs": [],
   "source": [
    "baron_mouse.obs.dtypes"
   ]
  },
  {
   "cell_type": "code",
   "execution_count": null,
   "metadata": {
    "scrolled": true
   },
   "outputs": [],
   "source": [
    "opt_model_kwargs = dict(batch_effect=\"donor\")\n",
    "baron_mouse_model = cb.directi.fit_DIRECTi(\n",
    "    baron_mouse, baron_mouse.uns[\"seurat_genes\"],\n",
    "    **fixed_model_kwargs, **opt_model_kwargs\n",
    ")\n",
    "baron_mouse.latent = baron_mouse_model.inference(baron_mouse)"
   ]
  },
  {
   "cell_type": "code",
   "execution_count": null,
   "metadata": {},
   "outputs": [],
   "source": [
    "ax = baron_mouse.visualize_latent(\"cell_ontology_class\", scatter_kws=dict(rasterized=True))\n",
    "ax.get_figure().savefig(\"build/pancreas/Baron_mouse/cell_ontology_class.svg\", dpi=utils.DPI, bbox_inches=\"tight\")"
   ]
  },
  {
   "cell_type": "code",
   "execution_count": null,
   "metadata": {},
   "outputs": [],
   "source": [
    "ax = baron_mouse.visualize_latent(\"cell_type1\", scatter_kws=dict(rasterized=True))\n",
    "ax.get_figure().savefig(\"build/pancreas/Baron_mouse/cell_type1.svg\", dpi=utils.DPI, bbox_inches=\"tight\")"
   ]
  },
  {
   "cell_type": "code",
   "execution_count": null,
   "metadata": {
    "scrolled": false
   },
   "outputs": [],
   "source": [
    "ax = baron_mouse.visualize_latent(\"donor\", scatter_kws=dict(rasterized=True))\n",
    "ax.get_figure().savefig(\"build/pancreas/Baron_mouse/donor.svg\", dpi=utils.DPI, bbox_inches=\"tight\")"
   ]
  },
  {
   "cell_type": "code",
   "execution_count": null,
   "metadata": {},
   "outputs": [],
   "source": [
    "baron_mouse.write_dataset(\"build/pancreas/Baron_mouse/Baron_mouse.h5\")"
   ]
  },
  {
   "cell_type": "code",
   "execution_count": null,
   "metadata": {},
   "outputs": [],
   "source": [
    "%%capture capio\n",
    "baron_mouse_models = [baron_mouse_model]\n",
    "for i in range(1, cb.config.N_JOBS):\n",
    "    print(\"==== Model %d ====\" % i)\n",
    "    baron_mouse_models.append(cb.directi.fit_DIRECTi(\n",
    "        baron_mouse, baron_mouse.uns[\"seurat_genes\"],\n",
    "        **fixed_model_kwargs, **opt_model_kwargs,\n",
    "        random_seed=i\n",
    "    ))\n",
    "baron_mouse_blast = cb.blast.BLAST(baron_mouse_models, baron_mouse)\n",
    "baron_mouse_blast.save(\"build/pancreas/Baron_mouse\")"
   ]
  },
  {
   "cell_type": "code",
   "execution_count": null,
   "metadata": {},
   "outputs": [],
   "source": [
    "with open(\"build/pancreas/Baron_mouse/stdout.txt\", \"w\") as f:\n",
    "    f.write(capio.stdout)\n",
    "with open(\"build/pancreas/Baron_mouse/stderr.txt\", \"w\") as f:\n",
    "    f.write(capio.stderr)"
   ]
  },
  {
   "cell_type": "code",
   "execution_count": null,
   "metadata": {},
   "outputs": [],
   "source": [
    "utils.self_projection(baron_mouse_blast, \"build/pancreas/Baron_mouse\")"
   ]
  },
  {
   "cell_type": "code",
   "execution_count": null,
   "metadata": {},
   "outputs": [],
   "source": [
    "%%writefile build/pancreas/Baron_mouse/predictable.txt\n",
    "cell_ontology_class\n",
    "cell_type1"
   ]
  },
  {
   "cell_type": "markdown",
   "metadata": {},
   "source": [
    "## Quake_Smart-seq2_Pancreas"
   ]
  },
  {
   "cell_type": "code",
   "execution_count": null,
   "metadata": {},
   "outputs": [],
   "source": [
    "quake_smart_seq2_pancreas = cb.data.ExprDataSet.read_dataset(\n",
    "    \"../../Datasets/data/Quake_Smart-seq2_Pancreas/data.h5\")\n",
    "utils.peek(quake_smart_seq2_pancreas, \"build/pancreas/Quake_Smart-seq2_Pancreas\")\n",
    "quake_smart_seq2_pancreas.obs.head()"
   ]
  },
  {
   "cell_type": "code",
   "execution_count": null,
   "metadata": {},
   "outputs": [],
   "source": [
    "quake_smart_seq2_pancreas.obs[\"cluster\"] = \"cluster_\" + quake_smart_seq2_pancreas.obs[\"cluster\"].astype(int).astype(str)\n",
    "quake_smart_seq2_pancreas.obs.dtypes"
   ]
  },
  {
   "cell_type": "code",
   "execution_count": null,
   "metadata": {
    "scrolled": true
   },
   "outputs": [],
   "source": [
    "opt_model_kwargs = dict(batch_effect=\"donor\")\n",
    "quake_smart_seq2_pancreas_model = cb.directi.fit_DIRECTi(\n",
    "    quake_smart_seq2_pancreas, quake_smart_seq2_pancreas.uns[\"seurat_genes\"],\n",
    "    **fixed_model_kwargs, **opt_model_kwargs\n",
    ")\n",
    "quake_smart_seq2_pancreas.latent = quake_smart_seq2_pancreas_model.inference(quake_smart_seq2_pancreas)"
   ]
  },
  {
   "cell_type": "code",
   "execution_count": null,
   "metadata": {
    "scrolled": false
   },
   "outputs": [],
   "source": [
    "ax = quake_smart_seq2_pancreas.visualize_latent(\"cell_ontology_class\", scatter_kws=dict(rasterized=True))\n",
    "ax.get_figure().savefig(\"build/pancreas/Quake_Smart-seq2_Pancreas/cell_ontology_class.svg\", dpi=utils.DPI, bbox_inches=\"tight\")"
   ]
  },
  {
   "cell_type": "code",
   "execution_count": null,
   "metadata": {
    "scrolled": false
   },
   "outputs": [],
   "source": [
    "ax = quake_smart_seq2_pancreas.visualize_latent(\"cell_type1\", scatter_kws=dict(rasterized=True))\n",
    "ax.get_figure().savefig(\"build/pancreas/Quake_Smart-seq2_Pancreas/cell_type1.svg\", dpi=utils.DPI, bbox_inches=\"tight\")"
   ]
  },
  {
   "cell_type": "code",
   "execution_count": null,
   "metadata": {
    "scrolled": false
   },
   "outputs": [],
   "source": [
    "ax = quake_smart_seq2_pancreas.visualize_latent(\"cluster\", scatter_kws=dict(rasterized=True))\n",
    "ax.get_figure().savefig(\"build/pancreas/Quake_Smart-seq2_Pancreas/cluster.svg\", dpi=utils.DPI, bbox_inches=\"tight\")"
   ]
  },
  {
   "cell_type": "code",
   "execution_count": null,
   "metadata": {},
   "outputs": [],
   "source": [
    "ax = quake_smart_seq2_pancreas.visualize_latent(\"donor\", scatter_kws=dict(rasterized=True))\n",
    "ax.get_figure().savefig(\"build/pancreas/Quake_Smart-seq2_Pancreas/donor.svg\", dpi=utils.DPI, bbox_inches=\"tight\")"
   ]
  },
  {
   "cell_type": "code",
   "execution_count": null,
   "metadata": {},
   "outputs": [],
   "source": [
    "quake_smart_seq2_pancreas.write_dataset(\"build/pancreas/Quake_Smart-seq2_Pancreas/Quake_Smart-seq2_Pancreas.h5\")"
   ]
  },
  {
   "cell_type": "code",
   "execution_count": null,
   "metadata": {},
   "outputs": [],
   "source": [
    "%%capture capio\n",
    "quake_smart_seq2_pancreas_models = [quake_smart_seq2_pancreas_model]\n",
    "for i in range(1, cb.config.N_JOBS):\n",
    "    print(\"==== Model %d ====\" % i)\n",
    "    quake_smart_seq2_pancreas_models.append(cb.directi.fit_DIRECTi(\n",
    "        quake_smart_seq2_pancreas, quake_smart_seq2_pancreas.uns[\"seurat_genes\"],\n",
    "        **fixed_model_kwargs, **opt_model_kwargs,\n",
    "        random_seed=i\n",
    "    ))\n",
    "quake_smart_seq2_pancreas_blast = cb.blast.BLAST(\n",
    "    quake_smart_seq2_pancreas_models, quake_smart_seq2_pancreas\n",
    ")\n",
    "quake_smart_seq2_pancreas_blast.save(\"build/pancreas/Quake_Smart-seq2_Pancreas\")"
   ]
  },
  {
   "cell_type": "code",
   "execution_count": null,
   "metadata": {},
   "outputs": [],
   "source": [
    "with open(\"build/pancreas/Quake_Smart-seq2_Pancreas/stdout.txt\", \"w\") as f:\n",
    "    f.write(capio.stdout)\n",
    "with open(\"build/pancreas/Quake_Smart-seq2_Pancreas/stderr.txt\", \"w\") as f:\n",
    "    f.write(capio.stderr)"
   ]
  },
  {
   "cell_type": "code",
   "execution_count": null,
   "metadata": {},
   "outputs": [],
   "source": [
    "utils.self_projection(quake_smart_seq2_pancreas_blast, \"build/pancreas/Quake_Smart-seq2_Pancreas\")"
   ]
  },
  {
   "cell_type": "code",
   "execution_count": null,
   "metadata": {},
   "outputs": [],
   "source": [
    "%%writefile build/pancreas/Quake_Smart-seq2_Pancreas/predictable.txt\n",
    "cell_ontology_class\n",
    "cell_type1\n",
    "cluster"
   ]
  },
  {
   "cell_type": "markdown",
   "metadata": {},
   "source": [
    "## Qiu"
   ]
  },
  {
   "cell_type": "code",
   "execution_count": null,
   "metadata": {},
   "outputs": [],
   "source": [
    "qiu = cb.data.ExprDataSet.read_dataset(\"../../Datasets/data/Qiu/data.h5\")\n",
    "utils.peek(qiu, \"build/pancreas/Qiu\")\n",
    "qiu.obs.head()"
   ]
  },
  {
   "cell_type": "code",
   "execution_count": null,
   "metadata": {},
   "outputs": [],
   "source": [
    "qiu.obs.dtypes"
   ]
  },
  {
   "cell_type": "code",
   "execution_count": null,
   "metadata": {
    "scrolled": true
   },
   "outputs": [],
   "source": [
    "qiu_model = cb.directi.fit_DIRECTi(\n",
    "    qiu, qiu.uns[\"seurat_genes\"],\n",
    "    **fixed_model_kwargs\n",
    ")\n",
    "qiu.latent = qiu_model.inference(qiu)"
   ]
  },
  {
   "cell_type": "code",
   "execution_count": null,
   "metadata": {
    "scrolled": false
   },
   "outputs": [],
   "source": [
    "ax = qiu.visualize_latent(\"cell_ontology_class\", scatter_kws=dict(rasterized=True))\n",
    "ax.get_figure().savefig(\"build/pancreas/Qiu/cell_ontology_class.svg\", dpi=utils.DPI, bbox_inches=\"tight\")"
   ]
  },
  {
   "cell_type": "code",
   "execution_count": null,
   "metadata": {
    "scrolled": false
   },
   "outputs": [],
   "source": [
    "ax = qiu.visualize_latent(\"cell_type1\", scatter_kws=dict(rasterized=True))\n",
    "ax.get_figure().savefig(\"build/pancreas/Qiu/cell_type1.svg\", dpi=utils.DPI, bbox_inches=\"tight\")"
   ]
  },
  {
   "cell_type": "code",
   "execution_count": null,
   "metadata": {},
   "outputs": [],
   "source": [
    "qiu.write_dataset(\"build/pancreas/Qiu/Qiu.h5\")"
   ]
  },
  {
   "cell_type": "code",
   "execution_count": null,
   "metadata": {},
   "outputs": [],
   "source": [
    "%%capture capio\n",
    "qiu_models = [qiu_model]\n",
    "for i in range(1, cb.config.N_JOBS):\n",
    "    print(\"==== Model %d ====\" % i)\n",
    "    qiu_models.append(cb.directi.fit_DIRECTi(\n",
    "        qiu, qiu.uns[\"seurat_genes\"],\n",
    "        **fixed_model_kwargs,\n",
    "        random_seed=i\n",
    "    ))\n",
    "qiu_blast = cb.blast.BLAST(qiu_models, qiu)\n",
    "qiu_blast.save(\"build/pancreas/Qiu\")"
   ]
  },
  {
   "cell_type": "code",
   "execution_count": null,
   "metadata": {},
   "outputs": [],
   "source": [
    "with open(\"build/pancreas/Qiu/stdout.txt\", \"w\") as f:\n",
    "    f.write(capio.stdout)\n",
    "with open(\"build/pancreas/Qiu/stderr.txt\", \"w\") as f:\n",
    "    f.write(capio.stderr)"
   ]
  },
  {
   "cell_type": "code",
   "execution_count": null,
   "metadata": {},
   "outputs": [],
   "source": [
    "utils.self_projection(qiu_blast, \"build/pancreas/Qiu\")"
   ]
  },
  {
   "cell_type": "code",
   "execution_count": null,
   "metadata": {},
   "outputs": [],
   "source": [
    "%%writefile \"build/pancreas/Qiu/predictable.txt\"\n",
    "cell_ontology_class\n",
    "cell_type1"
   ]
  },
  {
   "cell_type": "markdown",
   "metadata": {},
   "source": [
    "## Mouse aligned"
   ]
  },
  {
   "cell_type": "code",
   "execution_count": null,
   "metadata": {},
   "outputs": [],
   "source": [
    "if not os.path.exists(\"build/pancreas/ALIGNED_Mus_musculus_Pancreas\"):\n",
    "    os.makedirs(\"build/pancreas/ALIGNED_Mus_musculus_Pancreas\")\n",
    "baron_mouse.obs[\"baron_mouse_donor\"] = baron_mouse.obs[\"donor\"]\n",
    "quake_smart_seq2_pancreas.obs[\"quake_smart_seq2_pancreas_donor\"] = quake_smart_seq2_pancreas.obs[\"donor\"]"
   ]
  },
  {
   "cell_type": "code",
   "execution_count": null,
   "metadata": {},
   "outputs": [],
   "source": [
    "mouse = cb.data.ExprDataSet.merge_datasets(dict(\n",
    "    baron_mouse=baron_mouse, quake_smart_seq2_pancreas=quake_smart_seq2_pancreas, qiu=qiu\n",
    "), merge_uns_slots=[\"seurat_genes\"])"
   ]
  },
  {
   "cell_type": "code",
   "execution_count": null,
   "metadata": {},
   "outputs": [],
   "source": [
    "mouse.obs.dtypes"
   ]
  },
  {
   "cell_type": "code",
   "execution_count": null,
   "metadata": {
    "scrolled": true
   },
   "outputs": [],
   "source": [
    "opt_model_kwargs = dict(\n",
    "    batch_effect=[\"dataset_name\", \"baron_mouse_donor\", \"quake_smart_seq2_pancreas_donor\"]\n",
    ")\n",
    "mouse_model = cb.directi.fit_DIRECTi(\n",
    "    mouse, baron_mouse.uns[\"seurat_genes\"],\n",
    "    **fixed_model_kwargs, **opt_model_kwargs\n",
    ")\n",
    "mouse.latent = mouse_model.inference(mouse)"
   ]
  },
  {
   "cell_type": "code",
   "execution_count": null,
   "metadata": {},
   "outputs": [],
   "source": [
    "ax = mouse.visualize_latent(\"cell_ontology_class\", scatter_kws=dict(rasterized=True))\n",
    "ax.get_figure().savefig(\"build/pancreas/ALIGNED_Mus_musculus_Pancreas/cell_ontology_class.svg\", dpi=utils.DPI, bbox_inches=\"tight\")"
   ]
  },
  {
   "cell_type": "code",
   "execution_count": null,
   "metadata": {},
   "outputs": [],
   "source": [
    "ax = mouse.visualize_latent(\"dataset_name\", scatter_kws=dict(rasterized=True))\n",
    "ax.get_figure().savefig(\"build/pancreas/ALIGNED_Mus_musculus_Pancreas/dataset_name.svg\", dpi=utils.DPI, bbox_inches=\"tight\")"
   ]
  },
  {
   "cell_type": "code",
   "execution_count": null,
   "metadata": {},
   "outputs": [],
   "source": [
    "mouse.write_dataset(\"build/pancreas/ALIGNED_Mus_musculus_Pancreas/ALIGNED_Mus_musculus_Pancreas.h5\")"
   ]
  },
  {
   "cell_type": "code",
   "execution_count": null,
   "metadata": {
    "scrolled": true
   },
   "outputs": [],
   "source": [
    "%%capture capio\n",
    "mouse_models = [mouse_model]\n",
    "for i in range(1, cb.config.N_JOBS):\n",
    "    print(\"==== Model %d ====\" % i)\n",
    "    mouse_models.append(cb.directi.fit_DIRECTi(\n",
    "        mouse, mouse.uns[\"seurat_genes\"],\n",
    "        **fixed_model_kwargs, **opt_model_kwargs,\n",
    "        random_seed=i\n",
    "    ))\n",
    "mouse_blast = cb.blast.BLAST(mouse_models, mouse)\n",
    "mouse_blast.save(\"build/pancreas/ALIGNED_Mus_musculus_Pancreas\")"
   ]
  },
  {
   "cell_type": "code",
   "execution_count": null,
   "metadata": {},
   "outputs": [],
   "source": [
    "with open(\"build/pancreas/ALIGNED_Mus_musculus_Pancreas/stdout.txt\", \"w\") as f:\n",
    "    f.write(capio.stdout)\n",
    "with open(\"build/pancreas/ALIGNED_Mus_musculus_Pancreas/stderr.txt\", \"w\") as f:\n",
    "    f.write(capio.stderr)"
   ]
  },
  {
   "cell_type": "code",
   "execution_count": null,
   "metadata": {},
   "outputs": [],
   "source": [
    "utils.self_projection(mouse_blast, \"build/pancreas/ALIGNED_Mus_musculus_Pancreas\")"
   ]
  },
  {
   "cell_type": "code",
   "execution_count": null,
   "metadata": {},
   "outputs": [],
   "source": [
    "%%writefile build/pancreas/ALIGNED_Mus_musculus_Pancreas/predictable.txt\n",
    "cell_ontology_class"
   ]
  },
  {
   "cell_type": "markdown",
   "metadata": {},
   "source": [
    "---\n",
    "\n",
    "# Zebrafish\n",
    "\n",
    "## Singh"
   ]
  },
  {
   "cell_type": "code",
   "execution_count": null,
   "metadata": {},
   "outputs": [],
   "source": [
    "singh = cb.data.ExprDataSet.read_dataset(\"../../Datasets/data/Singh/data.h5\")\n",
    "utils.peek(singh, \"build/pancreas/Singh\")\n",
    "singh.obs.head()"
   ]
  },
  {
   "cell_type": "code",
   "execution_count": null,
   "metadata": {},
   "outputs": [],
   "source": [
    "singh.obs.dtypes"
   ]
  },
  {
   "cell_type": "code",
   "execution_count": null,
   "metadata": {
    "scrolled": true
   },
   "outputs": [],
   "source": [
    "opt_model_kwargs = dict(h_dim=64, batch_size=64)\n",
    "singh_model = cb.directi.fit_DIRECTi(\n",
    "    singh, singh.uns[\"seurat_genes\"],\n",
    "    **fixed_model_kwargs, **opt_model_kwargs\n",
    ")\n",
    "singh.latent = singh_model.inference(singh)"
   ]
  },
  {
   "cell_type": "code",
   "execution_count": null,
   "metadata": {
    "scrolled": false
   },
   "outputs": [],
   "source": [
    "ax = singh.visualize_latent(\"cell_ontology_class\", scatter_kws=dict(rasterized=True))\n",
    "ax.get_figure().savefig(\"build/pancreas/Singh/cell_ontology_class.svg\", dpi=utils.DPI, bbox_inches=\"tight\")"
   ]
  },
  {
   "cell_type": "code",
   "execution_count": null,
   "metadata": {
    "scrolled": false
   },
   "outputs": [],
   "source": [
    "ax = singh.visualize_latent(\"cell_type1\", scatter_kws=dict(rasterized=True))\n",
    "ax.get_figure().savefig(\"build/pancreas/Singh/cell_type1.svg\", dpi=utils.DPI, bbox_inches=\"tight\")"
   ]
  },
  {
   "cell_type": "code",
   "execution_count": null,
   "metadata": {
    "scrolled": false
   },
   "outputs": [],
   "source": [
    "ax = singh.visualize_latent(\"lifestage\", scatter_kws=dict(rasterized=True))\n",
    "ax.get_figure().savefig(\"build/pancreas/Singh/lifestage.svg\", dpi=utils.DPI, bbox_inches=\"tight\")"
   ]
  },
  {
   "cell_type": "code",
   "execution_count": null,
   "metadata": {},
   "outputs": [],
   "source": [
    "singh.write_dataset(\"build/pancreas/Singh/Singh.h5\")"
   ]
  },
  {
   "cell_type": "code",
   "execution_count": null,
   "metadata": {},
   "outputs": [],
   "source": [
    "%%capture capio\n",
    "singh_models = [singh_model]\n",
    "for i in range(1, cb.config.N_JOBS):\n",
    "    print(\"==== Model %d ====\" % i)\n",
    "    singh_models.append(cb.directi.fit_DIRECTi(\n",
    "        singh, singh.uns[\"seurat_genes\"],\n",
    "        **fixed_model_kwargs, **opt_model_kwargs,\n",
    "        random_seed=i\n",
    "    ))\n",
    "singh_blast = cb.blast.BLAST(singh_models, singh)\n",
    "singh_blast.save(\"build/pancreas/Singh\")"
   ]
  },
  {
   "cell_type": "code",
   "execution_count": null,
   "metadata": {},
   "outputs": [],
   "source": [
    "with open(\"build/pancreas/Singh/stdout.txt\", \"w\") as f:\n",
    "    f.write(capio.stdout)\n",
    "with open(\"build/pancreas/Singh/stderr.txt\", \"w\") as f:\n",
    "    f.write(capio.stderr)"
   ]
  },
  {
   "cell_type": "code",
   "execution_count": null,
   "metadata": {},
   "outputs": [],
   "source": [
    "utils.self_projection(singh_blast, \"build/pancreas/Singh\")"
   ]
  },
  {
   "cell_type": "code",
   "execution_count": null,
   "metadata": {},
   "outputs": [],
   "source": [
    "%%writefile build/pancreas/Singh/predictable.txt\n",
    "cell_ontology_class\n",
    "cell_type1\n",
    "lifestage"
   ]
  },
  {
   "cell_type": "raw",
   "metadata": {},
   "source": [
    "---\n",
    "\n",
    "# Cross species alignment"
   ]
  },
  {
   "cell_type": "raw",
   "metadata": {},
   "source": [
    "if not os.path.exists(\"build/pancreas/ALIGNED_Pancreas\"):\n",
    "    os.makedirs(\"build/pancreas/ALIGNED_Pancreas\")\n",
    "singh.obs[\"singh_lifestage\"] = singh.obs[\"lifestage\"]"
   ]
  },
  {
   "cell_type": "raw",
   "metadata": {},
   "source": [
    "human2fam = pd.read_csv(\"../../Datasets/ortholog/Ensembl/family/human.csv\", header=None).iloc[:, 1:]\n",
    "mouse2fam = pd.read_csv(\"../../Datasets/ortholog/Ensembl/family/mouse.csv\", header=None).iloc[:, 1:]\n",
    "zebrafish2fam = pd.read_csv(\"../../Datasets/ortholog/Ensembl/family/zebrafish.csv\", header=None).iloc[:, 1:]"
   ]
  },
  {
   "cell_type": "raw",
   "metadata": {},
   "source": [
    "baron_human.obs[\"human_dataset_name\"] = baron_human.obs[\"dataset_name\"]\n",
    "muraro.obs[\"human_dataset_name\"] = muraro.obs[\"dataset_name\"]\n",
    "enge.obs[\"human_dataset_name\"] = enge.obs[\"dataset_name\"]\n",
    "xin.obs[\"human_dataset_name\"] = xin.obs[\"dataset_name\"]\n",
    "segerstolpe.obs[\"human_dataset_name\"] = segerstolpe.obs[\"dataset_name\"]\n",
    "lawlor.obs[\"human_dataset_name\"] = lawlor.obs[\"dataset_name\"]\n",
    "\n",
    "baron_mouse.obs[\"mouse_dataset_name\"] = baron_mouse.obs[\"dataset_name\"]\n",
    "quake_smart_seq2_pancreas.obs[\"mouse_dataset_name\"] = quake_smart_seq2_pancreas.obs[\"dataset_name\"]\n",
    "qiu.obs[\"mouse_dataset_name\"] = qiu.obs[\"dataset_name\"]\n",
    "\n",
    "singh.obs[\"zebrafish_dataset_name\"] = singh.obs[\"dataset_name\"]"
   ]
  },
  {
   "cell_type": "raw",
   "metadata": {
    "scrolled": true
   },
   "source": [
    "pancreas = cb.data.ExprDataSet.merge_datasets(dict(\n",
    "    # human\n",
    "    baron_human=baron_human.map_vars(human2fam, map_uns_slots=[\"seurat_genes\"]),\n",
    "    muraro=muraro.map_vars(human2fam, map_uns_slots=[\"seurat_genes\"]),\n",
    "    enge=enge.map_vars(human2fam, map_uns_slots=[\"seurat_genes\"]),\n",
    "    xin=xin.map_vars(human2fam, map_uns_slots=[\"seurat_genes\"]),\n",
    "    segerstolpe=segerstolpe.map_vars(human2fam, map_uns_slots=[\"seurat_genes\"]),\n",
    "    lawlor=lawlor.map_vars(human2fam, map_uns_slots=[\"seurat_genes\"]),\n",
    "    \n",
    "    # mouse\n",
    "    baron_mouse=baron_mouse.map_vars(mouse2fam, map_uns_slots=[\"seurat_genes\"]),\n",
    "    quake_smart_seq2_pancreas=quake_smart_seq2_pancreas.map_vars(mouse2fam, map_uns_slots=[\"seurat_genes\"]),\n",
    "    qiu=qiu.map_vars(mouse2fam, map_uns_slots=[\"seurat_genes\"]),\n",
    "    \n",
    "    # zebrafish\n",
    "    singh=singh.map_vars(zebrafish2fam, map_uns_slots=[\"seurat_genes\"])\n",
    "), merge_uns_slots=[\"seurat_genes\"])"
   ]
  },
  {
   "cell_type": "raw",
   "metadata": {
    "scrolled": true
   },
   "source": [
    "opt_model_kwargs = dict(batch_effect=[\n",
    "    \"organism\", \"human_dataset_name\", \"mouse_dataset_name\", \"zebrafish_dataset_name\",\n",
    "    \"baron_human_donor\", \"muraro_donor\", \"enge_donor\",\n",
    "    \"baron_mouse_donor\", \"quake_smart_seq2_pancreas_donor\", \"singh_lifestage\"\n",
    "], rmbatch_module_kwargs=[dict(lambda_reg=0.001)] + [dict(lambda_reg=0.005)] * 9)\n",
    "pancreas_model = cb.directi.fit_DIRECTi(\n",
    "    pancreas, pancreas.uns[\"seurat_genes\"],\n",
    "    **fixed_model_kwargs, **opt_model_kwargs\n",
    ")\n",
    "pancreas.latent = pancreas_model.inference(pancreas)"
   ]
  },
  {
   "cell_type": "raw",
   "metadata": {},
   "source": [
    "ax = pancreas.visualize_latent(\"cell_ontology_class\", scatter_kws=dict(rasterized=True))\n",
    "ax.get_figure().savefig(\"build/pancreas/ALIGNED_Pancreas/cell_ontology_class.svg\", dpi=utils.DPI, bbox_inches=\"tight\")"
   ]
  },
  {
   "cell_type": "raw",
   "metadata": {},
   "source": [
    "ax = pancreas.visualize_latent(\"organism\", scatter_kws=dict(rasterized=True))\n",
    "ax.get_figure().savefig(\"build/pancreas/ALIGNED_Pancreas/organism.svg\", dpi=utils.DPI, bbox_inches=\"tight\")"
   ]
  },
  {
   "cell_type": "raw",
   "metadata": {},
   "source": [
    "ax = pancreas.visualize_latent(\"dataset_name\", scatter_kws=dict(rasterized=True))\n",
    "ax.get_figure().savefig(\"build/pancreas/ALIGNED_Pancreas/dataset_name.svg\", dpi=utils.DPI, bbox_inches=\"tight\")"
   ]
  }
 ],
 "metadata": {
  "kernelspec": {
   "display_name": "Python 3",
   "language": "python",
   "name": "python3"
  },
  "language_info": {
   "codemirror_mode": {
    "name": "ipython",
    "version": 3
   },
   "file_extension": ".py",
   "mimetype": "text/x-python",
   "name": "python",
   "nbconvert_exporter": "python",
   "pygments_lexer": "ipython3",
   "version": "3.6.8"
  },
  "toc": {
   "base_numbering": 1,
   "nav_menu": {},
   "number_sections": true,
   "sideBar": true,
   "skip_h1_title": false,
   "title_cell": "Table of Contents",
   "title_sidebar": "Contents",
   "toc_cell": false,
   "toc_position": {
    "height": "calc(100% - 180px)",
    "left": "10px",
    "top": "150px",
    "width": "281px"
   },
   "toc_section_display": true,
   "toc_window_display": true
  },
  "varInspector": {
   "cols": {
    "lenName": 16,
    "lenType": 16,
    "lenVar": 40
   },
   "kernels_config": {
    "python": {
     "delete_cmd_postfix": "",
     "delete_cmd_prefix": "del ",
     "library": "var_list.py",
     "varRefreshCmd": "print(var_dic_list())"
    },
    "r": {
     "delete_cmd_postfix": ") ",
     "delete_cmd_prefix": "rm(",
     "library": "var_list.r",
     "varRefreshCmd": "cat(var_dic_list()) "
    }
   },
   "types_to_exclude": [
    "module",
    "function",
    "builtin_function_or_method",
    "instance",
    "_Feature"
   ],
   "window_display": false
  }
 },
 "nbformat": 4,
 "nbformat_minor": 2
}
