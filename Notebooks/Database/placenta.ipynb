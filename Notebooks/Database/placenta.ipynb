{
 "cells": [
  {
   "cell_type": "code",
   "execution_count": null,
   "metadata": {},
   "outputs": [],
   "source": [
    "import os\n",
    "import Cell_BLAST as cb\n",
    "import utils\n",
    "os.environ[\"CUDA_VISIBLE_DEVICES\"] = utils.pick_gpu_lowest_memory()\n",
    "cb.config.RANDOM_SEED = 0\n",
    "cb.config.N_JOBS = 4\n",
    "fixed_model_kwargs = dict(\n",
    "    latent_dim=10, cat_dim=20,\n",
    "    epoch=500, patience=20\n",
    ")"
   ]
  },
  {
   "cell_type": "code",
   "execution_count": null,
   "metadata": {},
   "outputs": [],
   "source": [
    "cb.__version__"
   ]
  },
  {
   "cell_type": "markdown",
   "metadata": {},
   "source": [
    "---\n",
    "# Human\n",
    "## Vento-Tormo_10x"
   ]
  },
  {
   "cell_type": "code",
   "execution_count": null,
   "metadata": {
    "scrolled": true
   },
   "outputs": [],
   "source": [
    "vento_tormo_10x = cb.data.ExprDataSet.read_dataset(\"../../Datasets/data/Vento-Tormo_10x/data.h5\")\n",
    "utils.peek(vento_tormo_10x, \"build/placenta/Vento-Tormo_10x\")\n",
    "vento_tormo_10x.obs.head()"
   ]
  },
  {
   "cell_type": "code",
   "execution_count": null,
   "metadata": {},
   "outputs": [],
   "source": [
    "vento_tormo_10x.obs[\"cluster\"] = \"cluster_\" + vento_tormo_10x.obs[\"cluster\"].astype(int).astype(str)\n",
    "vento_tormo_10x.obs.dtypes"
   ]
  },
  {
   "cell_type": "code",
   "execution_count": null,
   "metadata": {},
   "outputs": [],
   "source": [
    "vento_tormo_10x.uns[\"seurat_genes\"].size"
   ]
  },
  {
   "cell_type": "code",
   "execution_count": null,
   "metadata": {
    "scrolled": true
   },
   "outputs": [],
   "source": [
    "opt_model_kwargs = dict(batch_effect=\"donor\")\n",
    "                       #prob_module_kwargs=dict(lambda_reg=0.01),\n",
    "                       #h_dim=512)\n",
    "vento_tormo_10x_model = cb.directi.fit_DIRECTi(\n",
    "    vento_tormo_10x, vento_tormo_10x.uns[\"seurat_genes\"],\n",
    "    **fixed_model_kwargs, **opt_model_kwargs\n",
    ")\n",
    "vento_tormo_10x.latent = vento_tormo_10x_model.inference(vento_tormo_10x)"
   ]
  },
  {
   "cell_type": "code",
   "execution_count": null,
   "metadata": {},
   "outputs": [],
   "source": [
    "ax = vento_tormo_10x.visualize_latent(\"cell_ontology_class\", size=0.5, scatter_kws=dict(rasterized=True))\n",
    "ax.get_figure().savefig(\"build/placenta/Vento-Tormo_10x/cell_ontology_class.svg\", dpi=utils.DPI, bbox_inches=\"tight\")"
   ]
  },
  {
   "cell_type": "code",
   "execution_count": null,
   "metadata": {},
   "outputs": [],
   "source": [
    "ax = vento_tormo_10x.visualize_latent(\"cell_type1\", size=0.5, scatter_kws=dict(rasterized=True))\n",
    "ax.get_figure().savefig(\"build/placenta/Vento-Tormo_10x/cell_type1.svg\", dpi=utils.DPI, bbox_inches=\"tight\")"
   ]
  },
  {
   "cell_type": "code",
   "execution_count": null,
   "metadata": {},
   "outputs": [],
   "source": [
    "ax = vento_tormo_10x.visualize_latent(\"cluster\", size=0.5, scatter_kws=dict(rasterized=True))\n",
    "ax.get_figure().savefig(\"build/placenta/Vento-Tormo_10x/cluster.svg\", dpi=utils.DPI, bbox_inches=\"tight\")"
   ]
  },
  {
   "cell_type": "code",
   "execution_count": null,
   "metadata": {},
   "outputs": [],
   "source": [
    "ax = vento_tormo_10x.visualize_latent(\"region\", size=0.5, scatter_kws=dict(rasterized=True))\n",
    "ax.get_figure().savefig(\"build/placenta/Vento-Tormo_10x/region.svg\", dpi=utils.DPI, bbox_inches=\"tight\")"
   ]
  },
  {
   "cell_type": "code",
   "execution_count": null,
   "metadata": {},
   "outputs": [],
   "source": [
    "ax = vento_tormo_10x.visualize_latent(\"donor\", size=0.5,scatter_kws=dict(rasterized=True))\n",
    "ax.get_figure().savefig(\"build/placenta/Vento-Tormo_10x/donor.svg\", dpi=utils.DPI, bbox_inches=\"tight\")"
   ]
  },
  {
   "cell_type": "code",
   "execution_count": null,
   "metadata": {},
   "outputs": [],
   "source": [
    "vento_tormo_10x.write_dataset(\"build/placenta/Vento-Tormo_10x/Vento-Tormo_10x.h5\")"
   ]
  },
  {
   "cell_type": "code",
   "execution_count": null,
   "metadata": {},
   "outputs": [],
   "source": [
    "%%capture capio\n",
    "vento_tormo_10x_models = [vento_tormo_10x_model]\n",
    "#opt_model_kwargs = dict(batch_effect=\"donor\")\n",
    "for i in range(1, cb.config.N_JOBS):\n",
    "    print(\"==== Model %d ====\" % i)\n",
    "    vento_tormo_10x_models.append(cb.directi.fit_DIRECTi(\n",
    "        vento_tormo_10x, vento_tormo_10x.uns[\"seurat_genes\"],\n",
    "        **fixed_model_kwargs, **opt_model_kwargs,\n",
    "        random_seed=i\n",
    "    ))\n",
    "vento_tormo_10x_blast = cb.blast.BLAST(vento_tormo_10x_models, vento_tormo_10x)\n",
    "vento_tormo_10x_blast.save(\"build/placenta/Vento-Tormo_10x\")"
   ]
  },
  {
   "cell_type": "code",
   "execution_count": null,
   "metadata": {},
   "outputs": [],
   "source": [
    "with open(\"build/placenta/Vento-Tormo_10x/stdout.txt\", \"w\") as f:\n",
    "    f.write(capio.stdout)\n",
    "with open(\"build/placenta/Vento-Tormo_10x/stderr.txt\", \"w\") as f:\n",
    "    f.write(capio.stderr)"
   ]
  },
  {
   "cell_type": "code",
   "execution_count": null,
   "metadata": {},
   "outputs": [],
   "source": [
    "utils.self_projection(vento_tormo_10x_blast, \"build/placenta/Vento-Tormo_10x\")"
   ]
  },
  {
   "cell_type": "code",
   "execution_count": null,
   "metadata": {},
   "outputs": [],
   "source": [
    "%%writefile build/placenta/Vento-Tormo_10x/predictable.txt\n",
    "cell_ontology_class\n",
    "cell_type1\n",
    "cluster\n",
    "region"
   ]
  },
  {
   "cell_type": "markdown",
   "metadata": {},
   "source": [
    "## Vento-Tormo_Smart-seq2"
   ]
  },
  {
   "cell_type": "code",
   "execution_count": null,
   "metadata": {},
   "outputs": [],
   "source": [
    "vento_tormo_smart_seq2 = cb.data.ExprDataSet.read_dataset(\"../../Datasets/data/Vento-Tormo_Smart-seq2/data.h5\")\n",
    "utils.peek(vento_tormo_smart_seq2, \"build/placenta/Vento-Tormo_Smart-seq2\")\n",
    "vento_tormo_smart_seq2.obs.head()"
   ]
  },
  {
   "cell_type": "code",
   "execution_count": null,
   "metadata": {},
   "outputs": [],
   "source": [
    "vento_tormo_smart_seq2.obs[\"cluster\"] = \"cluster_\" + vento_tormo_smart_seq2.obs[\"cluster\"].astype(int).astype(str)\n",
    "vento_tormo_smart_seq2.obs.dtypes"
   ]
  },
  {
   "cell_type": "code",
   "execution_count": null,
   "metadata": {
    "scrolled": true
   },
   "outputs": [],
   "source": [
    "opt_model_kwargs = dict(batch_effect=\"donor\")\n",
    "vento_tormo_smart_seq2_model = cb.directi.fit_DIRECTi(\n",
    "    vento_tormo_smart_seq2, vento_tormo_smart_seq2.uns[\"seurat_genes\"],\n",
    "    **fixed_model_kwargs, **opt_model_kwargs\n",
    ")\n",
    "vento_tormo_smart_seq2.latent = vento_tormo_smart_seq2_model.inference(vento_tormo_smart_seq2)"
   ]
  },
  {
   "cell_type": "code",
   "execution_count": null,
   "metadata": {},
   "outputs": [],
   "source": [
    "ax = vento_tormo_smart_seq2.visualize_latent(\"cell_ontology_class\", scatter_kws=dict(rasterized=True))\n",
    "ax.get_figure().savefig(\"build/placenta/Vento-Tormo_Smart-seq2/cell_ontology_class.svg\", dpi=utils.DPI, bbox_inches=\"tight\")"
   ]
  },
  {
   "cell_type": "code",
   "execution_count": null,
   "metadata": {},
   "outputs": [],
   "source": [
    "ax = vento_tormo_smart_seq2.visualize_latent(\"cell_type1\", scatter_kws=dict(rasterized=True))\n",
    "ax.get_figure().savefig(\"build/placenta/Vento-Tormo_Smart-seq2/cell_type1.svg\", dpi=utils.DPI, bbox_inches=\"tight\")"
   ]
  },
  {
   "cell_type": "code",
   "execution_count": null,
   "metadata": {},
   "outputs": [],
   "source": [
    "ax = vento_tormo_smart_seq2.visualize_latent(\"cluster\", scatter_kws=dict(rasterized=True))\n",
    "ax.get_figure().savefig(\"build/placenta/Vento-Tormo_Smart-seq2/cluster.svg\", dpi=utils.DPI, bbox_inches=\"tight\")"
   ]
  },
  {
   "cell_type": "code",
   "execution_count": null,
   "metadata": {},
   "outputs": [],
   "source": [
    "ax = vento_tormo_smart_seq2.visualize_latent(\"region\", scatter_kws=dict(rasterized=True))\n",
    "ax.get_figure().savefig(\"build/placenta/Vento-Tormo_Smart-seq2/region.svg\", dpi=utils.DPI, bbox_inches=\"tight\")"
   ]
  },
  {
   "cell_type": "code",
   "execution_count": null,
   "metadata": {},
   "outputs": [],
   "source": [
    "ax = vento_tormo_smart_seq2.visualize_latent(\"donor\", scatter_kws=dict(rasterized=True))\n",
    "ax.get_figure().savefig(\"build/placenta/Vento-Tormo_Smart-seq2/donor.svg\", dpi=utils.DPI, bbox_inches=\"tight\")"
   ]
  },
  {
   "cell_type": "code",
   "execution_count": null,
   "metadata": {},
   "outputs": [],
   "source": [
    "vento_tormo_smart_seq2.write_dataset(\"build/placenta/Vento-Tormo_Smart-seq2/Vento-Tormo_Smart-seq2.h5\")"
   ]
  },
  {
   "cell_type": "code",
   "execution_count": null,
   "metadata": {},
   "outputs": [],
   "source": [
    "%%capture capio\n",
    "vento_tormo_smart_seq2_models = [vento_tormo_smart_seq2_model]\n",
    "opt_model_kwargs = dict(batch_effect=\"donor\")\n",
    "for i in range(1, cb.config.N_JOBS):\n",
    "    print(\"==== Model %d ====\" % i)\n",
    "    vento_tormo_smart_seq2_models.append(cb.directi.fit_DIRECTi(\n",
    "        vento_tormo_smart_seq2, vento_tormo_smart_seq2.uns[\"seurat_genes\"],\n",
    "        **fixed_model_kwargs, **opt_model_kwargs,\n",
    "        random_seed=i\n",
    "    ))\n",
    "vento_tormo_smart_seq2_blast = cb.blast.BLAST(vento_tormo_smart_seq2_models, vento_tormo_smart_seq2)\n",
    "vento_tormo_smart_seq2_blast.save(\"build/placenta/Vento-Tormo_Smart-seq2\")"
   ]
  },
  {
   "cell_type": "code",
   "execution_count": null,
   "metadata": {},
   "outputs": [],
   "source": [
    "with open(\"build/placenta/Vento-Tormo_Smart-seq2/stdout.txt\", \"w\") as f:\n",
    "    f.write(capio.stdout)\n",
    "with open(\"build/placenta/Vento-Tormo_Smart-seq2/stderr.txt\", \"w\") as f:\n",
    "    f.write(capio.stderr)"
   ]
  },
  {
   "cell_type": "code",
   "execution_count": null,
   "metadata": {},
   "outputs": [],
   "source": [
    "utils.self_projection(vento_tormo_smart_seq2_blast, \"build/placenta/Vento-Tormo_Smart-seq2\")"
   ]
  },
  {
   "cell_type": "code",
   "execution_count": null,
   "metadata": {},
   "outputs": [],
   "source": [
    "%%writefile build/placenta/Vento-Tormo_Smart-seq2/predictable.txt\n",
    "cell_ontology_class\n",
    "cell_type1\n",
    "cluster\n",
    "region"
   ]
  },
  {
   "cell_type": "markdown",
   "metadata": {},
   "source": [
    "## Human aligned"
   ]
  },
  {
   "cell_type": "code",
   "execution_count": null,
   "metadata": {},
   "outputs": [],
   "source": [
    "if not os.path.exists(\"build/placenta/ALIGNED_Homo_sapiens_Placenta\"):\n",
    "    os.makedirs(\"build/placenta/ALIGNED_Homo_sapiens_Placenta\")\n",
    "vento_tormo_10x.obs[\"vento_tormo_10x_donor\"] = \\\n",
    "    vento_tormo_10x.obs[\"donor\"]\n",
    "vento_tormo_smart_seq2.obs[\"vento_tormo_smart_seq2_donor\"] = \\\n",
    "    vento_tormo_smart_seq2.obs[\"donor\"]\n",
    "human = cb.data.ExprDataSet.merge_datasets(dict(\n",
    "    vento_tormo_10x=vento_tormo_10x,\n",
    "    vento_tormo_smart_seq2=vento_tormo_smart_seq2\n",
    "), merge_uns_slots=[\"seurat_genes\"])"
   ]
  },
  {
   "cell_type": "code",
   "execution_count": null,
   "metadata": {},
   "outputs": [],
   "source": [
    "human.obs.head()"
   ]
  },
  {
   "cell_type": "code",
   "execution_count": null,
   "metadata": {},
   "outputs": [],
   "source": [
    "human.obs.dtypes"
   ]
  },
  {
   "cell_type": "code",
   "execution_count": null,
   "metadata": {
    "scrolled": true
   },
   "outputs": [],
   "source": [
    "opt_model_kwargs = dict(\n",
    "    batch_effect=[\"dataset_name\", \"vento_tormo_10x_donor\", \"vento_tormo_smart_seq2_donor\"],\n",
    "    #rmbatch_module=[\"MNNAdversarial\", \"Adversarial\", \"Adversarial\", \"Adversarial\"],\n",
    "    rmbatch_module_kwargs=dict(lambda_reg=0.002)\n",
    "    #prob_module_kwargs=dict(lambda_reg=0.01)\n",
    ")  # Many batch effects are being aligned, decrease regularization strength accordingly\n",
    "human_model = cb.directi.fit_DIRECTi(\n",
    "    human, human.uns[\"seurat_genes\"],\n",
    "    **fixed_model_kwargs, **opt_model_kwargs\n",
    ")\n",
    "human.latent = human_model.inference(human)"
   ]
  },
  {
   "cell_type": "code",
   "execution_count": null,
   "metadata": {},
   "outputs": [],
   "source": [
    "ax = human.visualize_latent(\"cell_ontology_class\", scatter_kws=dict(rasterized=True))\n",
    "ax.get_figure().savefig(\"build/placenta/ALIGNED_Homo_sapiens_Placenta/cell_ontology_class.svg\", dpi=utils.DPI, bbox_inches=\"tight\")"
   ]
  },
  {
   "cell_type": "code",
   "execution_count": null,
   "metadata": {},
   "outputs": [],
   "source": [
    "ax = human.visualize_latent(\"dataset_name\", scatter_kws=dict(rasterized=True))\n",
    "ax.get_figure().savefig(\"build/placenta/ALIGNED_Homo_sapiens_Placenta/dataset_name.svg\", dpi=utils.DPI, bbox_inches=\"tight\")"
   ]
  },
  {
   "cell_type": "code",
   "execution_count": null,
   "metadata": {},
   "outputs": [],
   "source": [
    "ax = human.visualize_latent(\"donor\", scatter_kws=dict(rasterized=True))\n",
    "ax.get_figure().savefig(\"build/placenta/ALIGNED_Homo_sapiens_Placenta/donor.svg\", dpi=utils.DPI, bbox_inches=\"tight\")"
   ]
  },
  {
   "cell_type": "code",
   "execution_count": null,
   "metadata": {},
   "outputs": [],
   "source": [
    "ax = human.visualize_latent(\"region\", scatter_kws=dict(rasterized=True))\n",
    "ax.get_figure().savefig(\"build/placenta/ALIGNED_Homo_sapiens_Placenta/region.svg\", dpi=utils.DPI, bbox_inches=\"tight\")"
   ]
  },
  {
   "cell_type": "code",
   "execution_count": null,
   "metadata": {},
   "outputs": [],
   "source": [
    "human.write_dataset(\"build/placenta/ALIGNED_Homo_sapiens_Placenta/ALIGNED_Homo_sapiens_Placenta.h5\")"
   ]
  },
  {
   "cell_type": "code",
   "execution_count": null,
   "metadata": {},
   "outputs": [],
   "source": [
    "%%capture capio\n",
    "human_models = [human_model]\n",
    "opt_model_kwargs = dict(\n",
    "    batch_effect=[\"dataset_name\", \"donor\"],\n",
    "    #rmbatch_module=[\"MNNAdversarial\", \"Adversarial\", \"Adversarial\", \"Adversarial\"],\n",
    "    rmbatch_module_kwargs=dict(lambda_reg=0.01)\n",
    ")  # Many batch effects are being aligned, decrease regularization strength accordingly\n",
    "for i in range(1, cb.config.N_JOBS):\n",
    "    print(\"==== Model %d ====\" % i)\n",
    "    human_models.append(cb.directi.fit_DIRECTi(\n",
    "        human, human.uns[\"seurat_genes\"],\n",
    "        **fixed_model_kwargs, **opt_model_kwargs,\n",
    "        random_seed=i\n",
    "    ))\n",
    "human_blast = cb.blast.BLAST(human_models, human)\n",
    "human_blast.save(\"build/placenta/ALIGNED_Homo_sapiens_Placenta\")"
   ]
  },
  {
   "cell_type": "code",
   "execution_count": null,
   "metadata": {},
   "outputs": [],
   "source": [
    "with open(\"build/placenta/ALIGNED_Homo_sapiens_Placenta/stdout.txt\", \"w\") as f:\n",
    "    f.write(capio.stdout)\n",
    "with open(\"build/placenta/ALIGNED_Homo_sapiens_Placenta/stderr.txt\", \"w\") as f:\n",
    "    f.write(capio.stderr)"
   ]
  },
  {
   "cell_type": "code",
   "execution_count": null,
   "metadata": {},
   "outputs": [],
   "source": [
    "utils.self_projection(human_blast, \"build/placenta/ALIGNED_Homo_sapiens_Placenta\")"
   ]
  },
  {
   "cell_type": "code",
   "execution_count": null,
   "metadata": {},
   "outputs": [],
   "source": [
    "%%writefile build/placenta/ALIGNED_Homo_sapiens_Placenta/predictable.txt\n",
    "cell_ontology_class"
   ]
  }
 ],
 "metadata": {
  "kernelspec": {
   "display_name": "Python 3",
   "language": "python",
   "name": "python3"
  },
  "language_info": {
   "codemirror_mode": {
    "name": "ipython",
    "version": 3
   },
   "file_extension": ".py",
   "mimetype": "text/x-python",
   "name": "python",
   "nbconvert_exporter": "python",
   "pygments_lexer": "ipython3",
   "version": "3.6.8"
  },
  "toc": {
   "base_numbering": 1,
   "nav_menu": {},
   "number_sections": true,
   "sideBar": true,
   "skip_h1_title": false,
   "title_cell": "Table of Contents",
   "title_sidebar": "Contents",
   "toc_cell": false,
   "toc_position": {
    "height": "calc(100% - 180px)",
    "left": "10px",
    "top": "150px",
    "width": "288px"
   },
   "toc_section_display": true,
   "toc_window_display": true
  },
  "varInspector": {
   "cols": {
    "lenName": 16,
    "lenType": 16,
    "lenVar": 40
   },
   "kernels_config": {
    "python": {
     "delete_cmd_postfix": "",
     "delete_cmd_prefix": "del ",
     "library": "var_list.py",
     "varRefreshCmd": "print(var_dic_list())"
    },
    "r": {
     "delete_cmd_postfix": ") ",
     "delete_cmd_prefix": "rm(",
     "library": "var_list.r",
     "varRefreshCmd": "cat(var_dic_list()) "
    }
   },
   "types_to_exclude": [
    "module",
    "function",
    "builtin_function_or_method",
    "instance",
    "_Feature"
   ],
   "window_display": false
  }
 },
 "nbformat": 4,
 "nbformat_minor": 2
}
