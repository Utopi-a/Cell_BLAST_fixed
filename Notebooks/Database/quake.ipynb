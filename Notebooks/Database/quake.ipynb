{
 "cells": [
  {
   "cell_type": "code",
   "execution_count": null,
   "metadata": {
    "ExecuteTime": {
     "end_time": "2019-07-29T02:12:00.985991Z",
     "start_time": "2019-07-29T02:11:57.154552Z"
    }
   },
   "outputs": [],
   "source": [
    "import os\n",
    "import Cell_BLAST as cb\n",
    "import utils\n",
    "os.environ[\"CUDA_VISIBLE_DEVICES\"] = utils.pick_gpu_lowest_memory()\n",
    "cb.config.RANDOM_SEED = 0\n",
    "cb.config.N_JOBS = 4\n",
    "fixed_model_kwargs = dict(\n",
    "    latent_dim=10, cat_dim=100,\n",
    "    epoch=500, patience=20\n",
    ")"
   ]
  },
  {
   "cell_type": "code",
   "execution_count": null,
   "metadata": {
    "ExecuteTime": {
     "end_time": "2019-07-29T02:12:01.806728Z",
     "start_time": "2019-07-29T02:12:01.798436Z"
    }
   },
   "outputs": [],
   "source": [
    "cb.__version__"
   ]
  },
  {
   "cell_type": "markdown",
   "metadata": {},
   "source": [
    "---\n",
    "\n",
    "# Smart-seq2"
   ]
  },
  {
   "cell_type": "code",
   "execution_count": null,
   "metadata": {
    "ExecuteTime": {
     "end_time": "2019-07-29T02:12:19.773599Z",
     "start_time": "2019-07-29T02:12:06.166193Z"
    }
   },
   "outputs": [],
   "source": [
    "quake_smart_seq2 = cb.data.ExprDataSet.read_dataset(\"../../Datasets/data/Quake_Smart-seq2/data.h5\")\n",
    "utils.peek(quake_smart_seq2, \"build/quake/Quake_Smart-seq2\")\n",
    "quake_smart_seq2.obs.head()"
   ]
  },
  {
   "cell_type": "code",
   "execution_count": null,
   "metadata": {},
   "outputs": [],
   "source": [
    "quake_smart_seq2.obs[\"cluster\"] = \"cluster_\" + quake_smart_seq2.obs[\"cluster\"].astype(int).astype(str)\n",
    "quake_smart_seq2.obs.dtypes"
   ]
  },
  {
   "cell_type": "code",
   "execution_count": null,
   "metadata": {
    "scrolled": true
   },
   "outputs": [],
   "source": [
    "opt_model_kwargs = dict(h_dim=512, prob_module_kwargs=dict(lambda_reg=0.001))\n",
    "quake_smart_seq2_model = cb.directi.fit_DIRECTi(\n",
    "    quake_smart_seq2, quake_smart_seq2.uns[\"seurat_genes\"],\n",
    "    **fixed_model_kwargs, **opt_model_kwargs\n",
    ")\n",
    "quake_smart_seq2.latent = quake_smart_seq2_model.inference(quake_smart_seq2)"
   ]
  },
  {
   "cell_type": "code",
   "execution_count": null,
   "metadata": {},
   "outputs": [],
   "source": [
    "ax = quake_smart_seq2.visualize_latent(\"cell_ontology_class\", scatter_kws=dict(rasterized=True))\n",
    "ax.get_figure().savefig(\"build/quake/Quake_Smart-seq2/cell_ontology_class.svg\", dpi=utils.DPI, bbox_inches=\"tight\")"
   ]
  },
  {
   "cell_type": "code",
   "execution_count": null,
   "metadata": {},
   "outputs": [],
   "source": [
    "ax = quake_smart_seq2.visualize_latent(\"cell_type1\", scatter_kws=dict(rasterized=True))\n",
    "ax.get_figure().savefig(\"build/quake/Quake_Smart-seq2/cell_type1.svg\", dpi=utils.DPI, bbox_inches=\"tight\")"
   ]
  },
  {
   "cell_type": "code",
   "execution_count": null,
   "metadata": {},
   "outputs": [],
   "source": [
    "ax = quake_smart_seq2.visualize_latent(\"cluster\", scatter_kws=dict(rasterized=True))\n",
    "ax.get_figure().savefig(\"build/quake/Quake_Smart-seq2/cluster.svg\", dpi=utils.DPI, bbox_inches=\"tight\")"
   ]
  },
  {
   "cell_type": "code",
   "execution_count": null,
   "metadata": {},
   "outputs": [],
   "source": [
    "ax = quake_smart_seq2.visualize_latent(\"free_annotation\", scatter_kws=dict(rasterized=True))\n",
    "ax.get_figure().savefig(\"build/quake/Quake_Smart-seq2/free_annotation.svg\", dpi=utils.DPI, bbox_inches=\"tight\")"
   ]
  },
  {
   "cell_type": "code",
   "execution_count": null,
   "metadata": {},
   "outputs": [],
   "source": [
    "quake_smart_seq2.write_dataset(\"build/quake/Quake_Smart-seq2/Quake_Smart-seq2.h5\")"
   ]
  },
  {
   "cell_type": "code",
   "execution_count": null,
   "metadata": {},
   "outputs": [],
   "source": [
    "%%capture capio\n",
    "quake_smart_seq2_models = [quake_smart_seq2_model]\n",
    "for i in range(1, cb.config.N_JOBS):\n",
    "    print(\"==== Model %d ====\" % i)\n",
    "    quake_smart_seq2_models.append(cb.directi.fit_DIRECTi(\n",
    "        quake_smart_seq2, quake_smart_seq2.uns[\"seurat_genes\"],\n",
    "        **fixed_model_kwargs, **opt_model_kwargs,\n",
    "        random_seed=i\n",
    "    ))\n",
    "quake_smart_seq2_blast = cb.blast.BLAST(quake_smart_seq2_models, quake_smart_seq2)\n",
    "quake_smart_seq2_blast.save(\"build/quake/Quake_Smart-seq2\")"
   ]
  },
  {
   "cell_type": "code",
   "execution_count": null,
   "metadata": {},
   "outputs": [],
   "source": [
    "with open(\"build/quake/Quake_Smart-seq2/stdout.txt\", \"w\") as f:\n",
    "    f.write(capio.stdout)\n",
    "with open(\"build/quake/Quake_Smart-seq2/stderr.txt\", \"w\") as f:\n",
    "    f.write(capio.stderr)"
   ]
  },
  {
   "cell_type": "code",
   "execution_count": null,
   "metadata": {},
   "outputs": [],
   "source": [
    "utils.self_projection(quake_smart_seq2_blast, \"build/quake/Quake_Smart-seq2\")"
   ]
  },
  {
   "cell_type": "code",
   "execution_count": null,
   "metadata": {},
   "outputs": [],
   "source": [
    "%%writefile build/quake/Quake_Smart-seq2/predictable.txt\n",
    "cell_ontology_class\n",
    "cell_type1\n",
    "cluster\n",
    "free_annotation"
   ]
  },
  {
   "cell_type": "markdown",
   "metadata": {},
   "source": [
    "---\n",
    "\n",
    "# 10x"
   ]
  },
  {
   "cell_type": "code",
   "execution_count": null,
   "metadata": {
    "ExecuteTime": {
     "end_time": "2019-07-29T02:12:42.429465Z",
     "start_time": "2019-07-29T02:12:33.662195Z"
    }
   },
   "outputs": [],
   "source": [
    "quake_10x = cb.data.ExprDataSet.read_dataset(\"../../Datasets/data/Quake_10x/data.h5\")\n",
    "utils.peek(quake_10x, \"build/quake/Quake_10x\")\n",
    "quake_10x.obs.head()"
   ]
  },
  {
   "cell_type": "code",
   "execution_count": null,
   "metadata": {},
   "outputs": [],
   "source": [
    "quake_10x.obs[\"cluster\"] = \"cluster_\" + quake_10x.obs[\"cluster\"].astype(int).astype(str)\n",
    "quake_10x.obs.dtypes"
   ]
  },
  {
   "cell_type": "code",
   "execution_count": null,
   "metadata": {
    "scrolled": true
   },
   "outputs": [],
   "source": [
    "opt_model_kwargs = dict(h_dim=512, prob_module_kwargs=dict(lambda_reg=0.001))\n",
    "quake_10x_model = cb.directi.fit_DIRECTi(\n",
    "    quake_10x, quake_10x.uns[\"seurat_genes\"],\n",
    "    **fixed_model_kwargs, **opt_model_kwargs\n",
    ")\n",
    "quake_10x.latent = quake_10x_model.inference(quake_10x)"
   ]
  },
  {
   "cell_type": "code",
   "execution_count": null,
   "metadata": {},
   "outputs": [],
   "source": [
    "ax = quake_10x.visualize_latent(\"cell_ontology_class\", scatter_kws=dict(rasterized=True))\n",
    "ax.get_figure().savefig(\"build/quake/Quake_10x/cell_ontology_class.svg\", dpi=utils.DPI, bbox_inches=\"tight\")"
   ]
  },
  {
   "cell_type": "code",
   "execution_count": null,
   "metadata": {},
   "outputs": [],
   "source": [
    "ax = quake_10x.visualize_latent(\"cell_type1\", scatter_kws=dict(rasterized=True))\n",
    "ax.get_figure().savefig(\"build/quake/Quake_10x/cell_type1.svg\", dpi=utils.DPI, bbox_inches=\"tight\")"
   ]
  },
  {
   "cell_type": "code",
   "execution_count": null,
   "metadata": {},
   "outputs": [],
   "source": [
    "ax = quake_10x.visualize_latent(\"cluster\", scatter_kws=dict(rasterized=True))\n",
    "ax.get_figure().savefig(\"build/quake/Quake_10x/cluster.svg\", dpi=utils.DPI, bbox_inches=\"tight\")"
   ]
  },
  {
   "cell_type": "code",
   "execution_count": null,
   "metadata": {},
   "outputs": [],
   "source": [
    "ax = quake_10x.visualize_latent(\"free_annotation\", scatter_kws=dict(rasterized=True))\n",
    "ax.get_figure().savefig(\"build/quake/Quake_10x/free_annotation.svg\", dpi=utils.DPI, bbox_inches=\"tight\")"
   ]
  },
  {
   "cell_type": "code",
   "execution_count": null,
   "metadata": {},
   "outputs": [],
   "source": [
    "quake_10x.write_dataset(\"build/quake/Quake_10x/Quake_10x.h5\")"
   ]
  },
  {
   "cell_type": "code",
   "execution_count": null,
   "metadata": {},
   "outputs": [],
   "source": [
    "%%capture capio\n",
    "quake_10x_models = [quake_10x_model]\n",
    "for i in range(1, cb.config.N_JOBS):\n",
    "    print(\"==== Model %d ====\" % i)\n",
    "    quake_10x_models.append(cb.directi.fit_DIRECTi(\n",
    "        quake_10x, quake_10x.uns[\"seurat_genes\"],\n",
    "        **fixed_model_kwargs, **opt_model_kwargs,\n",
    "        random_seed=i\n",
    "    ))\n",
    "quake_10x_blast = cb.blast.BLAST(quake_10x_models, quake_10x)\n",
    "quake_10x_blast.save(\"build/quake/Quake_10x\")"
   ]
  },
  {
   "cell_type": "code",
   "execution_count": null,
   "metadata": {},
   "outputs": [],
   "source": [
    "with open(\"build/quake/Quake_10x/stdout.txt\", \"w\") as f:\n",
    "    f.write(capio.stdout)\n",
    "with open(\"build/quake/Quake_10x/stderr.txt\", \"w\") as f:\n",
    "    f.write(capio.stderr)"
   ]
  },
  {
   "cell_type": "code",
   "execution_count": null,
   "metadata": {},
   "outputs": [],
   "source": [
    "utils.self_projection(quake_10x_blast, \"build/quake/Quake_10x\")"
   ]
  },
  {
   "cell_type": "code",
   "execution_count": null,
   "metadata": {},
   "outputs": [],
   "source": [
    "%%writefile build/quake/Quake_10x/predictable.txt\n",
    "cell_ontology_class\n",
    "cell_type1\n",
    "cluster\n",
    "free_annotation"
   ]
  },
  {
   "cell_type": "markdown",
   "metadata": {},
   "source": [
    "---\n",
    "\n",
    "# Aligned"
   ]
  },
  {
   "cell_type": "code",
   "execution_count": null,
   "metadata": {
    "ExecuteTime": {
     "end_time": "2019-07-29T02:14:10.715663Z",
     "start_time": "2019-07-29T02:12:42.441761Z"
    }
   },
   "outputs": [],
   "source": [
    "if not os.path.exists(\"build/quake/ALIGNED_Tabula_Muris\"):\n",
    "    os.makedirs(\"build/quake/ALIGNED_Tabula_Muris\")\n",
    "tabula_muris = cb.data.ExprDataSet.merge_datasets({\n",
    "    \"Smart-seq2\": quake_smart_seq2,\n",
    "    \"10x\": quake_10x\n",
    "}, merge_uns_slots=[\"seurat_genes\"])"
   ]
  },
  {
   "cell_type": "code",
   "execution_count": null,
   "metadata": {},
   "outputs": [],
   "source": [
    "tabula_muris.obs.dtypes"
   ]
  },
  {
   "cell_type": "code",
   "execution_count": null,
   "metadata": {
    "ExecuteTime": {
     "end_time": "2019-07-29T03:39:18.159464Z",
     "start_time": "2019-07-29T03:33:41.820279Z"
    },
    "scrolled": true
   },
   "outputs": [],
   "source": [
    "opt_model_kwargs = dict(\n",
    "    h_dim=512, batch_effect=\"dataset_name\",\n",
    "    prob_module_kwargs=dict(lambda_reg=0.001),\n",
    "    rmbatch_module_kwargs=dict(lambda_reg=0.005)\n",
    ")\n",
    "tabula_muris_model = cb.directi.fit_DIRECTi(\n",
    "    tabula_muris, tabula_muris.uns[\"seurat_genes\"],\n",
    "    **fixed_model_kwargs, **opt_model_kwargs\n",
    ")\n",
    "tabula_muris.latent = tabula_muris_model.inference(tabula_muris)"
   ]
  },
  {
   "cell_type": "code",
   "execution_count": null,
   "metadata": {},
   "outputs": [],
   "source": [
    "ax = tabula_muris.visualize_latent(\"cell_type1\", scatter_kws=dict(rasterized=True))\n",
    "ax.get_figure().savefig(\"build/quake/ALIGNED_Tabula_Muris/cell_type1.svg\", dpi=utils.DPI, bbox_inches=\"tight\")"
   ]
  },
  {
   "cell_type": "code",
   "execution_count": null,
   "metadata": {},
   "outputs": [],
   "source": [
    "ax = tabula_muris.visualize_latent(\"cell_ontology_class\", scatter_kws=dict(rasterized=True))\n",
    "ax.get_figure().savefig(\"build/quake/ALIGNED_Tabula_Muris/cell_ontology_class.svg\", dpi=utils.DPI, bbox_inches=\"tight\")"
   ]
  },
  {
   "cell_type": "code",
   "execution_count": null,
   "metadata": {},
   "outputs": [],
   "source": [
    "ax = tabula_muris.visualize_latent(\"platform\", scatter_kws=dict(rasterized=True))\n",
    "ax.get_figure().savefig(\"build/quake/ALIGNED_Tabula_Muris/platform.svg\", dpi=utils.DPI, bbox_inches=\"tight\")"
   ]
  },
  {
   "cell_type": "code",
   "execution_count": null,
   "metadata": {},
   "outputs": [],
   "source": [
    "tabula_muris.write_dataset(\"build/quake/ALIGNED_Tabula_Muris/ALIGNED_Tabula_Muris.h5\")"
   ]
  },
  {
   "cell_type": "code",
   "execution_count": null,
   "metadata": {
    "ExecuteTime": {
     "end_time": "2019-07-29T05:00:13.915011Z",
     "start_time": "2019-07-29T03:39:47.924093Z"
    }
   },
   "outputs": [],
   "source": [
    "%%capture capio\n",
    "tabula_muris_models = [tabula_muris_model]\n",
    "for i in range(2, cb.config.N_JOBS + 1):  # seed 1 requires extra regularization, skipped here\n",
    "    print(\"==== Model %d ====\" % i)\n",
    "    tabula_muris_models.append(cb.directi.fit_DIRECTi(\n",
    "        tabula_muris, tabula_muris.uns[\"seurat_genes\"],\n",
    "        **fixed_model_kwargs, **opt_model_kwargs,\n",
    "        random_seed=i\n",
    "    ))\n",
    "tabula_muris_blast = cb.blast.BLAST(tabula_muris_models, tabula_muris)\n",
    "tabula_muris_blast.save(\"build/quake/ALIGNED_Tabula_Muris\")"
   ]
  },
  {
   "cell_type": "code",
   "execution_count": null,
   "metadata": {},
   "outputs": [],
   "source": [
    "with open(\"build/quake/ALIGNED_Tabula_Muris/stdout.txt\", \"w\") as f:\n",
    "    f.write(capio.stdout)\n",
    "with open(\"build/quake/ALIGNED_Tabula_Muris/stderr.txt\", \"w\") as f:\n",
    "    f.write(capio.stderr)"
   ]
  },
  {
   "cell_type": "code",
   "execution_count": null,
   "metadata": {},
   "outputs": [],
   "source": [
    "utils.self_projection(tabula_muris_blast, \"build/quake/ALIGNED_Tabula_Muris\")"
   ]
  },
  {
   "cell_type": "code",
   "execution_count": null,
   "metadata": {},
   "outputs": [],
   "source": [
    "%%writefile build/quake/ALIGNED_Tabula_Muris/predictable.txt\n",
    "cell_ontology_class"
   ]
  }
 ],
 "metadata": {
  "kernelspec": {
   "display_name": "Python 3",
   "language": "python",
   "name": "python3"
  },
  "language_info": {
   "codemirror_mode": {
    "name": "ipython",
    "version": 3
   },
   "file_extension": ".py",
   "mimetype": "text/x-python",
   "name": "python",
   "nbconvert_exporter": "python",
   "pygments_lexer": "ipython3",
   "version": "3.6.8"
  },
  "toc": {
   "base_numbering": 1,
   "nav_menu": {},
   "number_sections": true,
   "sideBar": true,
   "skip_h1_title": false,
   "title_cell": "Table of Contents",
   "title_sidebar": "Contents",
   "toc_cell": false,
   "toc_position": {},
   "toc_section_display": true,
   "toc_window_display": true
  },
  "varInspector": {
   "cols": {
    "lenName": 16,
    "lenType": 16,
    "lenVar": 40
   },
   "kernels_config": {
    "python": {
     "delete_cmd_postfix": "",
     "delete_cmd_prefix": "del ",
     "library": "var_list.py",
     "varRefreshCmd": "print(var_dic_list())"
    },
    "r": {
     "delete_cmd_postfix": ") ",
     "delete_cmd_prefix": "rm(",
     "library": "var_list.r",
     "varRefreshCmd": "cat(var_dic_list()) "
    }
   },
   "types_to_exclude": [
    "module",
    "function",
    "builtin_function_or_method",
    "instance",
    "_Feature"
   ],
   "window_display": false
  }
 },
 "nbformat": 4,
 "nbformat_minor": 2
}
