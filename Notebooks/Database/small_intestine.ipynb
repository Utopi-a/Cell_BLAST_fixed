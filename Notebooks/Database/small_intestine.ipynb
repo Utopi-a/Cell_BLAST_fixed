{
 "cells": [
  {
   "cell_type": "code",
   "execution_count": null,
   "metadata": {},
   "outputs": [],
   "source": [
    "import os\n",
    "import numpy as np\n",
    "import Cell_BLAST as cb\n",
    "import utils\n",
    "os.environ[\"CUDA_VISIBLE_DEVICES\"] = utils.pick_gpu_lowest_memory()\n",
    "cb.config.RANDOM_SEED = 0\n",
    "cb.config.N_JOBS = 4\n",
    "fixed_model_kwargs = dict(\n",
    "    latent_dim=10, cat_dim=20,\n",
    "    epoch=500, patience=20\n",
    ")"
   ]
  },
  {
   "cell_type": "code",
   "execution_count": null,
   "metadata": {},
   "outputs": [],
   "source": [
    "cb.__version__"
   ]
  },
  {
   "cell_type": "markdown",
   "metadata": {},
   "source": [
    "---\n",
    "# Mouse\n",
    "## Haber_10x"
   ]
  },
  {
   "cell_type": "code",
   "execution_count": null,
   "metadata": {},
   "outputs": [],
   "source": [
    "haber_10x = cb.data.ExprDataSet.read_dataset(\"../../Datasets/data/Haber_10x/data.h5\")\n",
    "utils.peek(haber_10x, \"build/small_intestine/Haber_10x\")\n",
    "haber_10x.obs.head()"
   ]
  },
  {
   "cell_type": "code",
   "execution_count": null,
   "metadata": {},
   "outputs": [],
   "source": [
    "haber_10x.obs.dtypes"
   ]
  },
  {
   "cell_type": "code",
   "execution_count": null,
   "metadata": {
    "scrolled": true
   },
   "outputs": [],
   "source": [
    "opt_model_kwargs = dict(batch_effect=\"batch\")\n",
    "haber_10x_model = cb.directi.fit_DIRECTi(\n",
    "    haber_10x, haber_10x.uns[\"seurat_genes\"],\n",
    "    **fixed_model_kwargs, **opt_model_kwargs\n",
    ")\n",
    "haber_10x.latent = haber_10x_model.inference(haber_10x)"
   ]
  },
  {
   "cell_type": "code",
   "execution_count": null,
   "metadata": {},
   "outputs": [],
   "source": [
    "ax = haber_10x.visualize_latent(\"cell_ontology_class\", scatter_kws=dict(rasterized=True))\n",
    "ax.get_figure().savefig(\"build/small_intestine/Haber_10x/cell_ontology_class.svg\", dpi=utils.DPI, bbox_inches=\"tight\")"
   ]
  },
  {
   "cell_type": "code",
   "execution_count": null,
   "metadata": {},
   "outputs": [],
   "source": [
    "ax = haber_10x.visualize_latent(\"cell_type1\", scatter_kws=dict(rasterized=True))\n",
    "ax.get_figure().savefig(\"build/small_intestine/Haber_10x/cell_type1.svg\", dpi=utils.DPI, bbox_inches=\"tight\")"
   ]
  },
  {
   "cell_type": "code",
   "execution_count": null,
   "metadata": {
    "scrolled": false
   },
   "outputs": [],
   "source": [
    "ax = haber_10x.visualize_latent(\"batch\", scatter_kws=dict(rasterized=True))\n",
    "ax.get_figure().savefig(\"build/small_intestine/Haber_10x/batch.svg\", dpi=utils.DPI, bbox_inches=\"tight\")"
   ]
  },
  {
   "cell_type": "code",
   "execution_count": null,
   "metadata": {},
   "outputs": [],
   "source": [
    "haber_10x.write_dataset(\"build/small_intestine/Haber_10x/Haber_10x.h5\")"
   ]
  },
  {
   "cell_type": "code",
   "execution_count": null,
   "metadata": {},
   "outputs": [],
   "source": [
    "%%capture capio\n",
    "haber_10x_models = [haber_10x_model]\n",
    "for i in range(1, cb.config.N_JOBS):\n",
    "    print(\"==== Model %d ====\" % i)\n",
    "    haber_10x_models.append(cb.directi.fit_DIRECTi(\n",
    "        haber_10x, haber_10x.uns[\"seurat_genes\"],\n",
    "        **fixed_model_kwargs, **opt_model_kwargs,\n",
    "        random_seed=i\n",
    "    ))\n",
    "haber_10x_blast = cb.blast.BLAST(haber_10x_models, haber_10x)\n",
    "haber_10x_blast.save(\"build/small_intestine/Haber_10x\")"
   ]
  },
  {
   "cell_type": "code",
   "execution_count": null,
   "metadata": {},
   "outputs": [],
   "source": [
    "with open(\"build/small_intestine/Haber_10x/stdout.txt\", \"w\") as f:\n",
    "    f.write(capio.stdout)\n",
    "with open(\"build/small_intestine/Haber_10x/stderr.txt\", \"w\") as f:\n",
    "    f.write(capio.stderr)"
   ]
  },
  {
   "cell_type": "code",
   "execution_count": null,
   "metadata": {},
   "outputs": [],
   "source": [
    "utils.self_projection(haber_10x_blast, \"build/small_intestine/Haber_10x\")"
   ]
  },
  {
   "cell_type": "code",
   "execution_count": null,
   "metadata": {},
   "outputs": [],
   "source": [
    "%%writefile build/small_intestine/Haber_10x/predictable.txt\n",
    "cell_ontology_class\n",
    "cell_type1"
   ]
  },
  {
   "cell_type": "markdown",
   "metadata": {},
   "source": [
    "## Haber_10x_FAE"
   ]
  },
  {
   "cell_type": "code",
   "execution_count": null,
   "metadata": {},
   "outputs": [],
   "source": [
    "haber_10x_fae = cb.data.ExprDataSet.read_dataset(\"../../Datasets/data/Haber_10x_FAE/data.h5\")\n",
    "utils.peek(haber_10x_fae, \"build/small_intestine/Haber_10x_FAE\")\n",
    "haber_10x_fae.obs.head()"
   ]
  },
  {
   "cell_type": "code",
   "execution_count": null,
   "metadata": {},
   "outputs": [],
   "source": [
    "haber_10x_fae.obs.dtypes"
   ]
  },
  {
   "cell_type": "code",
   "execution_count": null,
   "metadata": {},
   "outputs": [],
   "source": [
    "opt_model_kwargs = dict(batch_effect=\"batch\")\n",
    "haber_10x_fae_model = cb.directi.fit_DIRECTi(\n",
    "    haber_10x_fae, haber_10x_fae.uns[\"seurat_genes\"],\n",
    "    **fixed_model_kwargs, **opt_model_kwargs\n",
    ")\n",
    "haber_10x_fae.latent = haber_10x_fae_model.inference(haber_10x_fae)"
   ]
  },
  {
   "cell_type": "code",
   "execution_count": null,
   "metadata": {},
   "outputs": [],
   "source": [
    "ax = haber_10x_fae.visualize_latent(\"cell_ontology_class\", scatter_kws=dict(rasterized=True))\n",
    "ax.get_figure().savefig(\"build/small_intestine/Haber_10x_FAE/cell_ontology_class.svg\", dpi=utils.DPI, bbox_inches=\"tight\")"
   ]
  },
  {
   "cell_type": "code",
   "execution_count": null,
   "metadata": {},
   "outputs": [],
   "source": [
    "ax = haber_10x_fae.visualize_latent(\"cell_type1\", scatter_kws=dict(rasterized=True))\n",
    "ax.get_figure().savefig(\"build/small_intestine/Haber_10x_FAE/cell_type1.svg\", dpi=utils.DPI, bbox_inches=\"tight\")"
   ]
  },
  {
   "cell_type": "code",
   "execution_count": null,
   "metadata": {},
   "outputs": [],
   "source": [
    "ax = haber_10x_fae.visualize_latent(\"donor\", scatter_kws=dict(rasterized=True))\n",
    "ax.get_figure().savefig(\"build/small_intestine/Haber_10x_FAE/donor.svg\", dpi=utils.DPI, bbox_inches=\"tight\")"
   ]
  },
  {
   "cell_type": "code",
   "execution_count": null,
   "metadata": {},
   "outputs": [],
   "source": [
    "ax= haber_10x_fae.visualize_latent(\"batch\", scatter_kws=dict(rasterized=True))\n",
    "ax.get_figure().savefig(\"build/small_intestine/Haber_10x_FAE/batch.svg\", dpi=utils.DPI, bbox_inches=\"tight\")"
   ]
  },
  {
   "cell_type": "code",
   "execution_count": null,
   "metadata": {},
   "outputs": [],
   "source": [
    "haber_10x_fae.write_dataset(\"build/small_intestine/Haber_10x_FAE/Haber_10x_FAE.h5\")"
   ]
  },
  {
   "cell_type": "code",
   "execution_count": null,
   "metadata": {},
   "outputs": [],
   "source": [
    "%%capture capio\n",
    "haber_10x_fae_models = [haber_10x_fae_model]\n",
    "for i in range(1, cb.config.N_JOBS):\n",
    "    print(\"==== Model %d ====\" % i)\n",
    "    haber_10x_fae_models.append(cb.directi.fit_DIRECTi(\n",
    "        haber_10x_fae, haber_10x_fae.uns[\"seurat_genes\"],\n",
    "        **fixed_model_kwargs, **opt_model_kwargs,\n",
    "        random_seed=i\n",
    "    ))\n",
    "haber_10x_fae_blast = cb.blast.BLAST(haber_10x_fae_models, haber_10x_fae)\n",
    "haber_10x_fae_blast.save(\"build/small_intestine/Haber_10x_FAE\")"
   ]
  },
  {
   "cell_type": "code",
   "execution_count": null,
   "metadata": {},
   "outputs": [],
   "source": [
    "with open(\"build/small_intestine/Haber_10x_FAE/stdout.txt\", \"w\") as f:\n",
    "    f.write(capio.stdout)\n",
    "with open(\"build/small_intestine/Haber_10x_FAE/stderr.txt\", \"w\") as f:\n",
    "    f.write(capio.stderr)"
   ]
  },
  {
   "cell_type": "code",
   "execution_count": null,
   "metadata": {},
   "outputs": [],
   "source": [
    "utils.self_projection(haber_10x_fae_blast, \"build/small_intestine/Haber_10x_FAE\")"
   ]
  },
  {
   "cell_type": "code",
   "execution_count": null,
   "metadata": {},
   "outputs": [],
   "source": [
    "%%writefile build/small_intestine/Haber_10x_FAE/predictable.txt\n",
    "cell_ontology_class\n",
    "cell_type1"
   ]
  },
  {
   "cell_type": "markdown",
   "metadata": {},
   "source": [
    "## Haber_10x_largecell"
   ]
  },
  {
   "cell_type": "code",
   "execution_count": null,
   "metadata": {},
   "outputs": [],
   "source": [
    "haber_10x_largecell = cb.data.ExprDataSet.read_dataset(\"../../Datasets/data/Haber_10x_largecell/data.h5\")\n",
    "utils.peek(haber_10x_largecell, \"build/small_intestine/Haber_10x_largecell\")\n",
    "haber_10x_largecell.obs.head()"
   ]
  },
  {
   "cell_type": "code",
   "execution_count": null,
   "metadata": {},
   "outputs": [],
   "source": [
    "haber_10x_largecell.obs.dtypes"
   ]
  },
  {
   "cell_type": "code",
   "execution_count": null,
   "metadata": {
    "scrolled": true
   },
   "outputs": [],
   "source": [
    "opt_model_kwargs = dict(batch_effect=\"batch\")\n",
    "haber_10x_largecell_model = cb.directi.fit_DIRECTi(\n",
    "    haber_10x_largecell, haber_10x_largecell.uns[\"seurat_genes\"],\n",
    "    **fixed_model_kwargs, **opt_model_kwargs\n",
    ")\n",
    "haber_10x_largecell.latent = haber_10x_largecell_model.inference(haber_10x_largecell)"
   ]
  },
  {
   "cell_type": "code",
   "execution_count": null,
   "metadata": {},
   "outputs": [],
   "source": [
    "ax = haber_10x_largecell.visualize_latent(\"cell_ontology_class\", scatter_kws=dict(rasterized=True))\n",
    "ax.get_figure().savefig(\"build/small_intestine/Haber_10x_largecell/cell_ontology_class.svg\", dpi=utils.DPI, bbox_inches=\"tight\")"
   ]
  },
  {
   "cell_type": "code",
   "execution_count": null,
   "metadata": {},
   "outputs": [],
   "source": [
    "ax = haber_10x_largecell.visualize_latent(\"cell_type1\", scatter_kws=dict(rasterized=True))\n",
    "ax.get_figure().savefig(\"build/small_intestine/Haber_10x_largecell/cell_type1.svg\", dpi=utils.DPI, bbox_inches=\"tight\")"
   ]
  },
  {
   "cell_type": "code",
   "execution_count": null,
   "metadata": {},
   "outputs": [],
   "source": [
    "ax = haber_10x_largecell.visualize_latent(\"batch\", scatter_kws=dict(rasterized=True))\n",
    "ax.get_figure().savefig(\"build/small_intestine/Haber_10x_largecell/batch.svg\", dpi=utils.DPI, bbox_inches=\"tight\")"
   ]
  },
  {
   "cell_type": "code",
   "execution_count": null,
   "metadata": {},
   "outputs": [],
   "source": [
    "ax = haber_10x_largecell.visualize_latent(\"donor\", scatter_kws=dict(rasterized=True))\n",
    "ax.get_figure().savefig(\"build/small_intestine/Haber_10x_largecell/donor.svg\", dpi=utils.DPI, bbox_inches=\"tight\")"
   ]
  },
  {
   "cell_type": "code",
   "execution_count": null,
   "metadata": {},
   "outputs": [],
   "source": [
    "haber_10x_largecell.write_dataset(\"build/small_intestine/Haber_10x_largecell/Haber_10x_largecell.h5\")"
   ]
  },
  {
   "cell_type": "code",
   "execution_count": null,
   "metadata": {},
   "outputs": [],
   "source": [
    "%%capture capio\n",
    "haber_10x_largecell_models = [haber_10x_largecell_model]\n",
    "for i in range(1, cb.config.N_JOBS):\n",
    "    print(\"==== Model %d ====\" % i)\n",
    "    haber_10x_largecell_models.append(cb.directi.fit_DIRECTi(\n",
    "        haber_10x_largecell, haber_10x_largecell.uns[\"seurat_genes\"],\n",
    "        **fixed_model_kwargs, **opt_model_kwargs,\n",
    "        random_seed=i\n",
    "    ))\n",
    "haber_10x_largecell_blast = cb.blast.BLAST(haber_10x_largecell_models, haber_10x_largecell)\n",
    "haber_10x_largecell_blast.save(\"build/small_intestine/Haber_10x_largecell\")"
   ]
  },
  {
   "cell_type": "code",
   "execution_count": null,
   "metadata": {},
   "outputs": [],
   "source": [
    "with open(\"build/small_intestine/Haber_10x_largecell/stdout.txt\", \"w\") as f:\n",
    "    f.write(capio.stdout)\n",
    "with open(\"build/small_intestine/Haber_10x_largecell/stderr.txt\", \"w\") as f:\n",
    "    f.write(capio.stderr)"
   ]
  },
  {
   "cell_type": "code",
   "execution_count": null,
   "metadata": {},
   "outputs": [],
   "source": [
    "utils.self_projection(haber_10x_largecell_blast, \"build/small_intestine/Haber_10x_largecell\")"
   ]
  },
  {
   "cell_type": "code",
   "execution_count": null,
   "metadata": {},
   "outputs": [],
   "source": [
    "%%writefile build/small_intestine/Haber_10x_largecell/predictable.txt\n",
    "cell_ontology_class\n",
    "cell_type1"
   ]
  },
  {
   "cell_type": "markdown",
   "metadata": {},
   "source": [
    "## Haber_10x_region"
   ]
  },
  {
   "cell_type": "code",
   "execution_count": null,
   "metadata": {},
   "outputs": [],
   "source": [
    "haber_10x_region = cb.data.ExprDataSet.read_dataset(\"../../Datasets/data/Haber_10x_region/data.h5\")\n",
    "utils.peek(haber_10x_region, \"build/small_intestine/Haber_10x_region\")\n",
    "haber_10x_region.obs.head()"
   ]
  },
  {
   "cell_type": "code",
   "execution_count": null,
   "metadata": {},
   "outputs": [],
   "source": [
    "haber_10x_region.obs.dtypes"
   ]
  },
  {
   "cell_type": "code",
   "execution_count": null,
   "metadata": {},
   "outputs": [],
   "source": [
    "np.unique(haber_10x_region.obs.region)"
   ]
  },
  {
   "cell_type": "code",
   "execution_count": null,
   "metadata": {
    "scrolled": true
   },
   "outputs": [],
   "source": [
    "opt_model_kwargs = dict(batch_effect=\"donor\")\n",
    "haber_10x_region_model = cb.directi.fit_DIRECTi(\n",
    "    haber_10x_region, haber_10x_region.uns[\"seurat_genes\"],\n",
    "    **fixed_model_kwargs, **opt_model_kwargs\n",
    ")\n",
    "haber_10x_region.latent = haber_10x_region_model.inference(haber_10x_region)"
   ]
  },
  {
   "cell_type": "code",
   "execution_count": null,
   "metadata": {},
   "outputs": [],
   "source": [
    "ax = haber_10x_region.visualize_latent(\"cell_ontology_class\", scatter_kws=dict(rasterized=True))\n",
    "ax.get_figure().savefig(\"build/small_intestine/Haber_10x_region/cell_ontology_class.svg\", dpi=utils.DPI, bbox_inches=\"tight\")"
   ]
  },
  {
   "cell_type": "code",
   "execution_count": null,
   "metadata": {},
   "outputs": [],
   "source": [
    "ax = haber_10x_region.visualize_latent(\"cell_type1\", scatter_kws=dict(rasterized=True))\n",
    "ax.get_figure().savefig(\"build/small_intestine/Haber_10x_region/cell_type1.svg\", dpi=utils.DPI, bbox_inches=\"tight\")"
   ]
  },
  {
   "cell_type": "code",
   "execution_count": null,
   "metadata": {},
   "outputs": [],
   "source": [
    "ax = haber_10x_region.visualize_latent(\"region\", scatter_kws=dict(rasterized=True))\n",
    "ax.get_figure().savefig(\"build/small_intestine/Haber_10x_region/region.svg\", dpi=utils.DPI, bbox_inches=\"tight\")"
   ]
  },
  {
   "cell_type": "code",
   "execution_count": null,
   "metadata": {},
   "outputs": [],
   "source": [
    "ax = haber_10x_region.visualize_latent(\"donor\", scatter_kws=dict(rasterized=True))\n",
    "ax.get_figure().savefig(\"build/small_intestine/Haber_10x_region/donor.svg\", dpi=utils.DPI, bbox_inches=\"tight\")"
   ]
  },
  {
   "cell_type": "code",
   "execution_count": null,
   "metadata": {},
   "outputs": [],
   "source": [
    "haber_10x_region.write_dataset(\"build/small_intestine/Haber_10x_region/Haber_10x_region.h5\")"
   ]
  },
  {
   "cell_type": "code",
   "execution_count": null,
   "metadata": {},
   "outputs": [],
   "source": [
    "%%capture capio\n",
    "haber_10x_region_models = [haber_10x_region_model]\n",
    "for i in range(1, cb.config.N_JOBS):\n",
    "    print(\"==== Model %d ====\" % i)\n",
    "    haber_10x_region_models.append(cb.directi.fit_DIRECTi(\n",
    "        haber_10x_region, haber_10x_region.uns[\"seurat_genes\"],\n",
    "        **fixed_model_kwargs, **opt_model_kwargs,\n",
    "        random_seed=i\n",
    "    ))\n",
    "haber_10x_region_blast = cb.blast.BLAST(haber_10x_region_models, haber_10x_region)\n",
    "haber_10x_region_blast.save(\"build/small_intestine/Haber_10x_region\")"
   ]
  },
  {
   "cell_type": "code",
   "execution_count": null,
   "metadata": {},
   "outputs": [],
   "source": [
    "with open(\"build/small_intestine/Haber_10x_region/stdout.txt\", \"w\") as f:\n",
    "    f.write(capio.stdout)\n",
    "with open(\"build/small_intestine/Haber_10x_region/stderr.txt\", \"w\") as f:\n",
    "    f.write(capio.stderr)"
   ]
  },
  {
   "cell_type": "code",
   "execution_count": null,
   "metadata": {},
   "outputs": [],
   "source": [
    "utils.self_projection(haber_10x_region_blast, \"build/small_intestine/Haber_10x_region\")"
   ]
  },
  {
   "cell_type": "code",
   "execution_count": null,
   "metadata": {},
   "outputs": [],
   "source": [
    "%%writefile build/small_intestine/Haber_10x_region/predictable.txt\n",
    "cell_ontology_class\n",
    "cell_type1\n",
    "region"
   ]
  },
  {
   "cell_type": "markdown",
   "metadata": {},
   "source": [
    "## Mouse aligned"
   ]
  },
  {
   "cell_type": "code",
   "execution_count": null,
   "metadata": {},
   "outputs": [],
   "source": [
    "if not os.path.exists(\"build/small_intestine/ALIGNED_Mus_musculus_Small_Intestine\"):\n",
    "    os.makedirs(\"build/small_intestine/ALIGNED_Mus_musculus_Small_Intestine\")\n",
    "haber_smart_seq2 = cb.data.ExprDataSet.read_dataset(\"../../Datasets/data/Haber_Smart-seq2/data.h5\")\n",
    "haber_10x.obs[\"haber_10x_batch\"] = haber_10x.obs[\"batch\"]\n",
    "haber_10x_fae.obs[\"haber_10x_fae_batch\"] = haber_10x_fae.obs[\"batch\"]\n",
    "haber_10x_largecell.obs[\"haber_10x_largecell_batch\"] = haber_10x_largecell.obs[\"batch\"]\n",
    "haber_10x_region.obs[\"haber_10x_region_donor\"] = haber_10x_region.obs[\"donor\"]\n",
    "mouse = cb.data.ExprDataSet.merge_datasets(dict(\n",
    "    haber_10x=haber_10x,\n",
    "    haber_10x_fae=haber_10x_fae,\n",
    "    haber_10x_largecell=haber_10x_largecell,\n",
    "    haber_10x_region=haber_10x_region,\n",
    "    haber_smart_seq2=haber_smart_seq2\n",
    "), merge_uns_slots=[\"seurat_genes\"])"
   ]
  },
  {
   "cell_type": "code",
   "execution_count": null,
   "metadata": {},
   "outputs": [],
   "source": [
    "mouse.obs.head()"
   ]
  },
  {
   "cell_type": "code",
   "execution_count": null,
   "metadata": {},
   "outputs": [],
   "source": [
    "mouse.obs.dtypes"
   ]
  },
  {
   "cell_type": "code",
   "execution_count": null,
   "metadata": {
    "scrolled": true
   },
   "outputs": [],
   "source": [
    "opt_model_kwargs = dict(\n",
    "    batch_effect=[\"dataset_name\", \"haber_10x_batch\", \"haber_10x_fae_batch\", \\\n",
    "                  \"haber_10x_largecell_batch\", \"haber_10x_region_donor\"],\n",
    "    #rmbatch_module=[\"MNNAdversarial\", \"Adversarial\", \"Adversarial\", \"Adversarial\"],\n",
    "    rmbatch_module_kwargs=dict(lambda_reg=0.01)\n",
    ")  # Many batch effects are being aligned, decrease regularization strength accordingly\n",
    "mouse_model = cb.directi.fit_DIRECTi(\n",
    "    mouse, mouse.uns[\"seurat_genes\"],\n",
    "    **fixed_model_kwargs, **opt_model_kwargs\n",
    ")\n",
    "mouse.latent = mouse_model.inference(mouse)"
   ]
  },
  {
   "cell_type": "code",
   "execution_count": null,
   "metadata": {
    "scrolled": false
   },
   "outputs": [],
   "source": [
    "ax = mouse.visualize_latent(\"cell_ontology_class\", scatter_kws=dict(rasterized=True))\n",
    "ax.get_figure().savefig(\"build/small_intestine/ALIGNED_Mus_musculus_Small_Intestine/cell_ontology_class.svg\", dpi=utils.DPI, bbox_inches=\"tight\")"
   ]
  },
  {
   "cell_type": "code",
   "execution_count": null,
   "metadata": {},
   "outputs": [],
   "source": [
    "ax = mouse.visualize_latent(\"dataset_name\", scatter_kws=dict(rasterized=True))\n",
    "ax.get_figure().savefig(\"build/small_intestine/ALIGNED_Mus_musculus_Small_Intestine/dataset_name.svg\", dpi=utils.DPI, bbox_inches=\"tight\")"
   ]
  },
  {
   "cell_type": "code",
   "execution_count": null,
   "metadata": {},
   "outputs": [],
   "source": [
    "ax = mouse.visualize_latent(\"cell_type1\", scatter_kws=dict(rasterized=True))\n",
    "ax.get_figure().savefig(\"build/small_intestine/ALIGNED_Mus_musculus_Small_Intestine/cell_type1.svg\", dpi=utils.DPI, bbox_inches=\"tight\")"
   ]
  },
  {
   "cell_type": "code",
   "execution_count": null,
   "metadata": {},
   "outputs": [],
   "source": [
    "mouse.write_dataset(\"build/small_intestine/ALIGNED_Mus_musculus_Small_Intestine/ALIGNED_Mus_musculus_Small_Intestine.h5\")"
   ]
  },
  {
   "cell_type": "code",
   "execution_count": null,
   "metadata": {},
   "outputs": [],
   "source": [
    "%%capture capio\n",
    "mouse_models = [mouse_model]\n",
    "for i in range(1, cb.config.N_JOBS):\n",
    "    print(\"==== Model %d ====\" % i)\n",
    "    mouse_models.append(cb.directi.fit_DIRECTi(\n",
    "        mouse, mouse.uns[\"seurat_genes\"],\n",
    "        **fixed_model_kwargs, **opt_model_kwargs,\n",
    "        random_seed=i\n",
    "    ))\n",
    "mouse_blast = cb.blast.BLAST(mouse_models, mouse)\n",
    "mouse_blast.save(\"build/small_intestine/ALIGNED_Mus_musculus_Small_Intestine\")"
   ]
  },
  {
   "cell_type": "code",
   "execution_count": null,
   "metadata": {},
   "outputs": [],
   "source": [
    "with open(\"build/small_intestine/ALIGNED_Mus_musculus_Small_Intestine/stdout.txt\", \"w\") as f:\n",
    "    f.write(capio.stdout)\n",
    "with open(\"build/small_intestine/ALIGNED_Mus_musculus_Small_Intestine/stderr.txt\", \"w\") as f:\n",
    "    f.write(capio.stderr)"
   ]
  },
  {
   "cell_type": "code",
   "execution_count": null,
   "metadata": {},
   "outputs": [],
   "source": [
    "utils.self_projection(mouse_blast, \"build/small_intestine/ALIGNED_Mus_musculus_Small_Intestine\")"
   ]
  },
  {
   "cell_type": "code",
   "execution_count": null,
   "metadata": {},
   "outputs": [],
   "source": [
    "%%writefile build/small_intestine/ALIGNED_Mus_musculus_Small_Intestine/predictable.txt\n",
    "cell_ontology_class"
   ]
  }
 ],
 "metadata": {
  "kernelspec": {
   "display_name": "Python 3",
   "language": "python",
   "name": "python3"
  },
  "language_info": {
   "codemirror_mode": {
    "name": "ipython",
    "version": 3
   },
   "file_extension": ".py",
   "mimetype": "text/x-python",
   "name": "python",
   "nbconvert_exporter": "python",
   "pygments_lexer": "ipython3",
   "version": "3.6.8"
  },
  "toc": {
   "base_numbering": 1,
   "nav_menu": {},
   "number_sections": true,
   "sideBar": true,
   "skip_h1_title": false,
   "title_cell": "Table of Contents",
   "title_sidebar": "Contents",
   "toc_cell": false,
   "toc_position": {
    "height": "calc(100% - 180px)",
    "left": "10px",
    "top": "150px",
    "width": "218px"
   },
   "toc_section_display": true,
   "toc_window_display": true
  },
  "varInspector": {
   "cols": {
    "lenName": 16,
    "lenType": 16,
    "lenVar": 40
   },
   "kernels_config": {
    "python": {
     "delete_cmd_postfix": "",
     "delete_cmd_prefix": "del ",
     "library": "var_list.py",
     "varRefreshCmd": "print(var_dic_list())"
    },
    "r": {
     "delete_cmd_postfix": ") ",
     "delete_cmd_prefix": "rm(",
     "library": "var_list.r",
     "varRefreshCmd": "cat(var_dic_list()) "
    }
   },
   "types_to_exclude": [
    "module",
    "function",
    "builtin_function_or_method",
    "instance",
    "_Feature"
   ],
   "window_display": false
  }
 },
 "nbformat": 4,
 "nbformat_minor": 2
}
