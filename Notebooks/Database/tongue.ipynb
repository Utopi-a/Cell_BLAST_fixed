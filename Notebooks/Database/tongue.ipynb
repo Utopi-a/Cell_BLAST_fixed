{
 "cells": [
  {
   "cell_type": "code",
   "execution_count": null,
   "metadata": {
    "ExecuteTime": {
     "end_time": "2019-07-28T05:12:33.420351Z",
     "start_time": "2019-07-28T05:12:26.019228Z"
    }
   },
   "outputs": [],
   "source": [
    "import os\n",
    "import Cell_BLAST as cb\n",
    "import utils\n",
    "os.environ[\"CUDA_VISIBLE_DEVICES\"] = utils.pick_gpu_lowest_memory()\n",
    "cb.config.RANDOM_SEED = 0\n",
    "cb.config.N_JOBS = 4\n",
    "fixed_model_kwargs = dict(\n",
    "    latent_dim=10, cat_dim=20,\n",
    "    epoch=500, patience=20\n",
    ")"
   ]
  },
  {
   "cell_type": "code",
   "execution_count": null,
   "metadata": {
    "ExecuteTime": {
     "end_time": "2019-07-28T05:12:33.430664Z",
     "start_time": "2019-07-28T05:12:33.423962Z"
    }
   },
   "outputs": [],
   "source": [
    "cb.__version__"
   ]
  },
  {
   "cell_type": "markdown",
   "metadata": {},
   "source": [
    "---\n",
    "# Mouse\n",
    "## Quake_10x_Tongue"
   ]
  },
  {
   "cell_type": "code",
   "execution_count": null,
   "metadata": {
    "ExecuteTime": {
     "end_time": "2019-07-28T05:12:36.094628Z",
     "start_time": "2019-07-28T05:12:33.433161Z"
    }
   },
   "outputs": [],
   "source": [
    "quake_10x_tongue = cb.data.ExprDataSet.read_dataset(\"../../Datasets/data/Quake_10x_Tongue/data.h5\")\n",
    "utils.peek(quake_10x_tongue, \"build/tongue/Quake_10x_Tongue\")\n",
    "quake_10x_tongue.obs.head()"
   ]
  },
  {
   "cell_type": "code",
   "execution_count": null,
   "metadata": {},
   "outputs": [],
   "source": [
    "quake_10x_tongue.obs[\"cluster\"] = \"cluster_\" + quake_10x_tongue.obs[\"cluster\"].astype(int).astype(str)\n",
    "quake_10x_tongue.obs.dtypes"
   ]
  },
  {
   "cell_type": "code",
   "execution_count": null,
   "metadata": {
    "ExecuteTime": {
     "end_time": "2019-07-28T05:15:43.582579Z",
     "start_time": "2019-07-28T05:12:36.096449Z"
    },
    "scrolled": true
   },
   "outputs": [],
   "source": [
    "opt_model_kwargs = dict(batch_effect=\"donor\")\n",
    "quake_10x_tongue_model = cb.directi.fit_DIRECTi(\n",
    "    quake_10x_tongue, quake_10x_tongue.uns[\"seurat_genes\"],\n",
    "    **fixed_model_kwargs, **opt_model_kwargs\n",
    ")\n",
    "quake_10x_tongue.latent = quake_10x_tongue_model.inference(quake_10x_tongue)"
   ]
  },
  {
   "cell_type": "code",
   "execution_count": null,
   "metadata": {
    "ExecuteTime": {
     "end_time": "2019-07-28T05:19:02.253671Z",
     "start_time": "2019-07-28T05:15:43.585267Z"
    }
   },
   "outputs": [],
   "source": [
    "ax = quake_10x_tongue.visualize_latent(\"cell_ontology_class\", scatter_kws=dict(rasterized=True))\n",
    "ax.get_figure().savefig(\"build/tongue/Quake_10x_Tongue/cell_ontology_class.svg\", dpi=utils.DPI, bbox_inches=\"tight\")"
   ]
  },
  {
   "cell_type": "code",
   "execution_count": null,
   "metadata": {
    "ExecuteTime": {
     "end_time": "2019-07-28T05:19:02.253671Z",
     "start_time": "2019-07-28T05:15:43.585267Z"
    }
   },
   "outputs": [],
   "source": [
    "ax = quake_10x_tongue.visualize_latent(\"cell_type1\", scatter_kws=dict(rasterized=True))\n",
    "ax.get_figure().savefig(\"build/tongue/Quake_10x_Tongue/cell_type1.svg\", dpi=utils.DPI, bbox_inches=\"tight\")"
   ]
  },
  {
   "cell_type": "code",
   "execution_count": null,
   "metadata": {
    "ExecuteTime": {
     "end_time": "2019-07-28T05:19:02.253671Z",
     "start_time": "2019-07-28T05:15:43.585267Z"
    }
   },
   "outputs": [],
   "source": [
    "ax = quake_10x_tongue.visualize_latent(\"cluster\", scatter_kws=dict(rasterized=True))\n",
    "ax.get_figure().savefig(\"build/tongue/Quake_10x_Tongue/cluster.svg\", dpi=utils.DPI, bbox_inches=\"tight\")"
   ]
  },
  {
   "cell_type": "code",
   "execution_count": null,
   "metadata": {
    "ExecuteTime": {
     "end_time": "2019-07-28T05:19:02.253671Z",
     "start_time": "2019-07-28T05:15:43.585267Z"
    }
   },
   "outputs": [],
   "source": [
    "ax = quake_10x_tongue.visualize_latent(\"free_annotation\", scatter_kws=dict(rasterized=True))\n",
    "ax.get_figure().savefig(\"build/tongue/Quake_10x_Tongue/free_annotation.svg\", dpi=utils.DPI, bbox_inches=\"tight\")"
   ]
  },
  {
   "cell_type": "code",
   "execution_count": null,
   "metadata": {
    "ExecuteTime": {
     "end_time": "2019-07-28T05:19:03.845886Z",
     "start_time": "2019-07-28T05:19:02.255929Z"
    }
   },
   "outputs": [],
   "source": [
    "ax = quake_10x_tongue.visualize_latent(\"donor\", scatter_kws=dict(rasterized=True))\n",
    "ax.get_figure().savefig(\"build/tongue/Quake_10x_Tongue/donor.svg\", dpi=utils.DPI, bbox_inches=\"tight\")"
   ]
  },
  {
   "cell_type": "code",
   "execution_count": null,
   "metadata": {
    "ExecuteTime": {
     "end_time": "2019-07-28T05:19:05.418009Z",
     "start_time": "2019-07-28T05:19:03.848839Z"
    }
   },
   "outputs": [],
   "source": [
    "ax = quake_10x_tongue.visualize_latent(\"gender\", scatter_kws=dict(rasterized=True))\n",
    "ax.get_figure().savefig(\"build/tongue/Quake_10x_Tongue/gender.svg\", dpi=utils.DPI, bbox_inches=\"tight\")"
   ]
  },
  {
   "cell_type": "code",
   "execution_count": null,
   "metadata": {},
   "outputs": [],
   "source": [
    "quake_10x_tongue.write_dataset(\"build/tongue/Quake_10x_Tongue/Quake_10x_Tongue.h5\")"
   ]
  },
  {
   "cell_type": "code",
   "execution_count": null,
   "metadata": {
    "ExecuteTime": {
     "end_time": "2019-07-28T05:27:41.970253Z",
     "start_time": "2019-07-28T05:19:05.420828Z"
    }
   },
   "outputs": [],
   "source": [
    "%%capture capio\n",
    "quake_10x_tongue_models = [quake_10x_tongue_model]\n",
    "opt_model_kwargs = dict(batch_effect=\"donor\")\n",
    "for i in range(1, cb.config.N_JOBS):\n",
    "    print(\"==== Model %d ====\" % i)\n",
    "    quake_10x_tongue_models.append(cb.directi.fit_DIRECTi(\n",
    "        quake_10x_tongue, quake_10x_tongue.uns[\"seurat_genes\"],\n",
    "        **fixed_model_kwargs, **opt_model_kwargs,\n",
    "        random_seed=i\n",
    "    ))\n",
    "quake_10x_tongue_blast = cb.blast.BLAST(quake_10x_tongue_models, quake_10x_tongue)\n",
    "quake_10x_tongue_blast.save(\"build/tongue/Quake_10x_Tongue\")"
   ]
  },
  {
   "cell_type": "code",
   "execution_count": null,
   "metadata": {
    "ExecuteTime": {
     "end_time": "2019-07-28T05:27:41.978833Z",
     "start_time": "2019-07-28T05:27:41.973374Z"
    }
   },
   "outputs": [],
   "source": [
    "with open(\"build/tongue/Quake_10x_Tongue/stdout.txt\", \"w\") as f:\n",
    "    f.write(capio.stdout)\n",
    "with open(\"build/tongue/Quake_10x_Tongue/stderr.txt\", \"w\") as f:\n",
    "    f.write(capio.stderr)"
   ]
  },
  {
   "cell_type": "code",
   "execution_count": null,
   "metadata": {
    "ExecuteTime": {
     "end_time": "2019-07-28T05:28:19.758346Z",
     "start_time": "2019-07-28T05:27:41.980432Z"
    }
   },
   "outputs": [],
   "source": [
    "utils.self_projection(quake_10x_tongue_blast, \"build/tongue/Quake_10x_Tongue\")"
   ]
  },
  {
   "cell_type": "code",
   "execution_count": null,
   "metadata": {},
   "outputs": [],
   "source": [
    "%%writefile build/tongue/Quake_10x_Tongue/predictable.txt\n",
    "cell_ontology_class\n",
    "cell_type1\n",
    "cluster\n",
    "free_annotation"
   ]
  },
  {
   "cell_type": "markdown",
   "metadata": {},
   "source": [
    "## Mouse aligned"
   ]
  },
  {
   "cell_type": "code",
   "execution_count": null,
   "metadata": {
    "ExecuteTime": {
     "end_time": "2019-07-28T05:28:59.406858Z",
     "start_time": "2019-07-28T05:28:19.760738Z"
    }
   },
   "outputs": [],
   "source": [
    "if not os.path.exists(\"build/tongue/ALIGNED_Mus_musculus_Tongue\"):\n",
    "    os.makedirs(\"build/tongue/ALIGNED_Mus_musculus_Tongue\")\n",
    "quake_smart_seq2_tongue = cb.data.ExprDataSet.read_dataset(\"../../Datasets/data/Quake_Smart-seq2_Tongue/data.h5\")\n",
    "quake_smart_seq2_tongue.obs[\"cluster\"] = \"cluster_\" + quake_smart_seq2_tongue.obs[\"cluster\"].astype(int).astype(str)\n",
    "#quake_smart_seq2_tongue.obs[\"quake_smart_seq2_tongue_donor\"] = \\\n",
    "#    quake_smart_seq2_tongue.obs[\"donor\"]\n",
    "#quake_10x_tongue.obs[\"quake_10x_tongue_donor\"] = \\\n",
    "#    quake_10x_tongue.obs[\"donor\"]\n",
    "mouse = cb.data.ExprDataSet.merge_datasets(dict(\n",
    "    quake_10x_tongue=quake_10x_tongue,\n",
    "    quake_smart_seq2_tongue=quake_smart_seq2_tongue\n",
    "), merge_uns_slots=[\"seurat_genes\"])"
   ]
  },
  {
   "cell_type": "code",
   "execution_count": null,
   "metadata": {
    "ExecuteTime": {
     "end_time": "2019-07-28T05:28:59.437305Z",
     "start_time": "2019-07-28T05:28:59.409027Z"
    }
   },
   "outputs": [],
   "source": [
    "mouse.obs.head()"
   ]
  },
  {
   "cell_type": "code",
   "execution_count": null,
   "metadata": {},
   "outputs": [],
   "source": [
    "mouse.obs.dtypes"
   ]
  },
  {
   "cell_type": "code",
   "execution_count": null,
   "metadata": {
    "ExecuteTime": {
     "end_time": "2019-07-28T05:31:22.929929Z",
     "start_time": "2019-07-28T05:28:59.438573Z"
    }
   },
   "outputs": [],
   "source": [
    "opt_model_kwargs = dict(\n",
    "    batch_effect=[\"dataset_name\", \"donor\"],\n",
    "    #rmbatch_module=[\"MNNAdversarial\", \"Adversarial\", \"Adversarial\", \"Adversarial\"],\n",
    "    rmbatch_module_kwargs=dict(lambda_reg=0.01)\n",
    ")\n",
    "mouse_model = cb.directi.fit_DIRECTi(\n",
    "    mouse, mouse.uns[\"seurat_genes\"],\n",
    "    **fixed_model_kwargs, **opt_model_kwargs\n",
    ")\n",
    "mouse.latent = mouse_model.inference(mouse)"
   ]
  },
  {
   "cell_type": "code",
   "execution_count": null,
   "metadata": {
    "ExecuteTime": {
     "end_time": "2019-07-28T05:35:18.073178Z",
     "start_time": "2019-07-28T05:31:22.932417Z"
    }
   },
   "outputs": [],
   "source": [
    "ax = mouse.visualize_latent(\"cell_ontology_class\", scatter_kws=dict(rasterized=True))\n",
    "ax.get_figure().savefig(\"build/tongue/ALIGNED_Mus_musculus_Tongue/cell_ontology_class.svg\", dpi=utils.DPI, bbox_inches=\"tight\")"
   ]
  },
  {
   "cell_type": "code",
   "execution_count": null,
   "metadata": {
    "ExecuteTime": {
     "end_time": "2019-07-28T05:35:19.697843Z",
     "start_time": "2019-07-28T05:35:18.075178Z"
    }
   },
   "outputs": [],
   "source": [
    "ax = mouse.visualize_latent(\"dataset_name\", scatter_kws=dict(rasterized=True))\n",
    "ax.get_figure().savefig(\"build/tongue/ALIGNED_Mus_musculus_Tongue/dataset_name.svg\", dpi=utils.DPI, bbox_inches=\"tight\")"
   ]
  },
  {
   "cell_type": "code",
   "execution_count": null,
   "metadata": {
    "ExecuteTime": {
     "end_time": "2019-07-28T05:35:21.455697Z",
     "start_time": "2019-07-28T05:35:19.699980Z"
    }
   },
   "outputs": [],
   "source": [
    "ax = mouse.visualize_latent(\"donor\", scatter_kws=dict(rasterized=True))\n",
    "ax.get_figure().savefig(\"build/tongue/ALIGNED_Mus_musculus_Tongue/donor.svg\", dpi=utils.DPI, bbox_inches=\"tight\")"
   ]
  },
  {
   "cell_type": "code",
   "execution_count": null,
   "metadata": {
    "ExecuteTime": {
     "end_time": "2019-07-28T05:35:23.132098Z",
     "start_time": "2019-07-28T05:35:21.457600Z"
    }
   },
   "outputs": [],
   "source": [
    "ax = mouse.visualize_latent(\"gender\", scatter_kws=dict(rasterized=True))\n",
    "ax.get_figure().savefig(\"build/tongue/ALIGNED_Mus_musculus_Tongue/gender.svg\", dpi=utils.DPI, bbox_inches=\"tight\")"
   ]
  },
  {
   "cell_type": "code",
   "execution_count": null,
   "metadata": {},
   "outputs": [],
   "source": [
    "mouse.write_dataset(\"build/tongue/ALIGNED_Mus_musculus_Tongue/ALIGNED_Mus_musculus_Tongue.h5\")"
   ]
  },
  {
   "cell_type": "code",
   "execution_count": null,
   "metadata": {
    "ExecuteTime": {
     "end_time": "2019-07-28T05:46:45.533338Z",
     "start_time": "2019-07-28T05:35:23.134192Z"
    }
   },
   "outputs": [],
   "source": [
    "%%capture capio\n",
    "mouse_models = [mouse_model]\n",
    "opt_model_kwargs = dict(\n",
    "    batch_effect=[\"dataset_name\", \"donor\"],\n",
    "    #rmbatch_module=[\"MNNAdversarial\", \"Adversarial\", \"Adversarial\", \"Adversarial\"],\n",
    "    rmbatch_module_kwargs=dict(lambda_reg=0.01)\n",
    ")  # Many batch effects are being aligned, decrease regularization strength accordingly\n",
    "for i in range(1, cb.config.N_JOBS):\n",
    "    print(\"==== Model %d ====\" % i)\n",
    "    mouse_models.append(cb.directi.fit_DIRECTi(\n",
    "        mouse, mouse.uns[\"seurat_genes\"],\n",
    "        **fixed_model_kwargs, **opt_model_kwargs,\n",
    "        random_seed=i\n",
    "    ))\n",
    "mouse_blast = cb.blast.BLAST(mouse_models, mouse)\n",
    "mouse_blast.save(\"build/tongue/ALIGNED_Mus_musculus_Tongue\")"
   ]
  },
  {
   "cell_type": "code",
   "execution_count": null,
   "metadata": {
    "ExecuteTime": {
     "end_time": "2019-07-28T05:46:45.539777Z",
     "start_time": "2019-07-28T05:46:45.535650Z"
    }
   },
   "outputs": [],
   "source": [
    "with open(\"build/tongue/ALIGNED_Mus_musculus_Tongue/stdout.txt\", \"w\") as f:\n",
    "    f.write(capio.stdout)\n",
    "with open(\"build/tongue/ALIGNED_Mus_musculus_Tongue/stderr.txt\", \"w\") as f:\n",
    "    f.write(capio.stderr)"
   ]
  },
  {
   "cell_type": "code",
   "execution_count": null,
   "metadata": {
    "ExecuteTime": {
     "end_time": "2019-07-28T05:47:36.603369Z",
     "start_time": "2019-07-28T05:46:45.541458Z"
    }
   },
   "outputs": [],
   "source": [
    "utils.self_projection(mouse_blast, \"build/tongue/ALIGNED_Mus_musculus_Tongue\")"
   ]
  },
  {
   "cell_type": "code",
   "execution_count": null,
   "metadata": {},
   "outputs": [],
   "source": [
    "%%writefile build/tongue/ALIGNED_Mus_musculus_Tongue/predictable.txt\n",
    "cell_ontology_class"
   ]
  }
 ],
 "metadata": {
  "kernelspec": {
   "display_name": "Python 3",
   "language": "python",
   "name": "python3"
  },
  "language_info": {
   "codemirror_mode": {
    "name": "ipython",
    "version": 3
   },
   "file_extension": ".py",
   "mimetype": "text/x-python",
   "name": "python",
   "nbconvert_exporter": "python",
   "pygments_lexer": "ipython3",
   "version": "3.6.8"
  },
  "toc": {
   "base_numbering": 1,
   "nav_menu": {},
   "number_sections": true,
   "sideBar": true,
   "skip_h1_title": false,
   "title_cell": "Table of Contents",
   "title_sidebar": "Contents",
   "toc_cell": false,
   "toc_position": {},
   "toc_section_display": true,
   "toc_window_display": true
  },
  "varInspector": {
   "cols": {
    "lenName": 16,
    "lenType": 16,
    "lenVar": 40
   },
   "kernels_config": {
    "python": {
     "delete_cmd_postfix": "",
     "delete_cmd_prefix": "del ",
     "library": "var_list.py",
     "varRefreshCmd": "print(var_dic_list())"
    },
    "r": {
     "delete_cmd_postfix": ") ",
     "delete_cmd_prefix": "rm(",
     "library": "var_list.r",
     "varRefreshCmd": "cat(var_dic_list()) "
    }
   },
   "types_to_exclude": [
    "module",
    "function",
    "builtin_function_or_method",
    "instance",
    "_Feature"
   ],
   "window_display": false
  }
 },
 "nbformat": 4,
 "nbformat_minor": 2
}
