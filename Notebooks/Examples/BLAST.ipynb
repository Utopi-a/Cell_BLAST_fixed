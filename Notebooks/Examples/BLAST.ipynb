{
 "cells": [
  {
   "cell_type": "markdown",
   "metadata": {},
   "source": [
    "# Cell BLAST tutorial"
   ]
  },
  {
   "cell_type": "code",
   "execution_count": null,
   "metadata": {},
   "outputs": [],
   "source": [
    "import time\n",
    "import warnings\n",
    "import numpy as np\n",
    "import pandas as pd\n",
    "import tensorflow as tf\n",
    "import Cell_BLAST as cb\n",
    "\n",
    "warnings.filterwarnings(\"ignore\")\n",
    "np.set_printoptions(threshold=200)\n",
    "pd.set_option(\"max_rows\", 6)\n",
    "tf.logging.set_verbosity(0)\n",
    "cb.config.N_JOBS = 4\n",
    "cb.config.RANDOM_SEED = 0"
   ]
  },
  {
   "cell_type": "markdown",
   "metadata": {},
   "source": [
    "## Preparing database"
   ]
  },
  {
   "cell_type": "markdown",
   "metadata": {},
   "source": [
    "In this tutorial, we demonstrate how to perform Cell BLAST based on DIRECTi models.\n",
    "\n",
    "Again, we use the human pancreatic islet datasets as an example."
   ]
  },
  {
   "cell_type": "code",
   "execution_count": null,
   "metadata": {},
   "outputs": [],
   "source": [
    "baron_human = cb.data.ExprDataSet.read_dataset(\"../../Datasets/data/Baron_human/data.h5\")"
   ]
  },
  {
   "cell_type": "markdown",
   "metadata": {},
   "source": [
    "Cell BLAST uses multiple models to increase specificity.\n",
    "\n",
    "Here we first train 4 DIRECTi models, each with a different random seed.\n",
    "\n",
    "> Please refer to the accompanying [DIRECTi](DIRECTi.html) notebook for more detailed introduction to model training."
   ]
  },
  {
   "cell_type": "code",
   "execution_count": null,
   "metadata": {
    "scrolled": true
   },
   "outputs": [],
   "source": [
    "%%capture\n",
    "start_time=time.time()\n",
    "models = []\n",
    "for i in range(4):\n",
    "    models.append(cb.directi.fit_DIRECTi(\n",
    "        baron_human, genes=baron_human.uns[\"seurat_genes\"],\n",
    "        latent_dim=10, cat_dim=20, random_seed=i\n",
    "    ))"
   ]
  },
  {
   "cell_type": "code",
   "execution_count": null,
   "metadata": {},
   "outputs": [],
   "source": [
    "print(\"Time elapsed: %.1fs\" % (time.time() - start_time))"
   ]
  },
  {
   "cell_type": "markdown",
   "metadata": {},
   "source": [
    "Then we build a Cell BLAST \"database\" by feeding our previously trained models and the reference dataset."
   ]
  },
  {
   "cell_type": "code",
   "execution_count": null,
   "metadata": {},
   "outputs": [],
   "source": [
    "blast = cb.blast.BLAST(models, baron_human)"
   ]
  },
  {
   "cell_type": "markdown",
   "metadata": {},
   "source": [
    "Like DIRECTi models, [`BLAST`](../modules/Cell_BLAST.blast.html#Cell_BLAST.blast.BLAST) objects can be easily saved and loaded."
   ]
  },
  {
   "cell_type": "code",
   "execution_count": null,
   "metadata": {},
   "outputs": [],
   "source": [
    "blast.save(\"./baron_human_blast\")\n",
    "del blast\n",
    "blast = cb.blast.BLAST.load(\"./baron_human_blast\")"
   ]
  },
  {
   "cell_type": "markdown",
   "metadata": {},
   "source": [
    "## Querying"
   ]
  },
  {
   "cell_type": "markdown",
   "metadata": {},
   "source": [
    "We load another human pancreatic islet dataset to demonstrate the querying process.\n",
    "\n",
    "Note that we do **NOT** perform data normalization or gene subsetting here. These should be internally handled by the BLAST object later in querying."
   ]
  },
  {
   "cell_type": "code",
   "execution_count": null,
   "metadata": {},
   "outputs": [],
   "source": [
    "lawlor = cb.data.ExprDataSet.read_dataset(\"../../Datasets/data/Lawlor/data.h5\")"
   ]
  },
  {
   "cell_type": "markdown",
   "metadata": {},
   "source": [
    "To query the database, we first use the [`query()`](../modules/Cell_BLAST.blast.html#Cell_BLAST.blast.BLAST.query) method to obtain initial hits in the reference database. This is done by efficient Euclidean distance based nearest neighbor search in the latent space. Nearest neighbors in the latent space of each model will be merged. Though highly efficient, latent space Euclidean distance is not the best metric to determine cell-cell similarity. To increase accuracy and specificity, we also compute posterior distribution distances as well as empirical p-values for these nearest neighbors."
   ]
  },
  {
   "cell_type": "code",
   "execution_count": null,
   "metadata": {},
   "outputs": [],
   "source": [
    "start_time = time.time()\n",
    "lawlor_hits = blast.query(lawlor)\n",
    "print(\"Time per query: %.1fms\" % (\n",
    "    (time.time() - start_time) * 1000 / lawlor.shape[0]\n",
    "))"
   ]
  },
  {
   "cell_type": "markdown",
   "metadata": {},
   "source": [
    "Then we use [`reconcile_models()`](../modules/Cell_BLAST.blast.html#Cell_BLAST.blast.Hits.reconcile_models) to pool together informarion from multiple models and [`filter()`](../modules/Cell_BLAST.blast.html#Cell_BLAST.blast.Hits.filter) the initial hits to obtain significant hits."
   ]
  },
  {
   "cell_type": "code",
   "execution_count": null,
   "metadata": {},
   "outputs": [],
   "source": [
    "lawlor_hits = lawlor_hits.reconcile_models().filter(by=\"pval\", cutoff=0.05)"
   ]
  },
  {
   "cell_type": "markdown",
   "metadata": {},
   "source": [
    "Optionally, we may use the [`to_data_frames()`](../modules/Cell_BLAST.blast.html#Cell_BLAST.blast.Hits.to_data_frames) method to extract detailed information about the query hits.\n",
    "\n",
    "The return value is a python dict, with query cell names as keys and meta table of query hits as values."
   ]
  },
  {
   "cell_type": "code",
   "execution_count": null,
   "metadata": {},
   "outputs": [],
   "source": [
    "hits_dict = lawlor_hits[0:5].to_data_frames()\n",
    "hits_dict.keys()"
   ]
  },
  {
   "cell_type": "code",
   "execution_count": null,
   "metadata": {},
   "outputs": [],
   "source": [
    "hits_dict[\"1st-61_S27\"]"
   ]
  },
  {
   "cell_type": "markdown",
   "metadata": {},
   "source": [
    "Finally, we can use the [`annotate()`](../modules/Cell_BLAST.blast.html#Cell_BLAST.blast.Hits.annotate) method to obtain cell type predictions."
   ]
  },
  {
   "cell_type": "code",
   "execution_count": null,
   "metadata": {},
   "outputs": [],
   "source": [
    "lawlor_predictions = lawlor_hits.annotate(\"cell_ontology_class\")"
   ]
  },
  {
   "cell_type": "markdown",
   "metadata": {},
   "source": [
    "For the \"Lawlor\" dataset, we also have author provided \"ground truth\" cell type annotations.\n",
    "\n",
    "By comparing with the \"ground truth\", we see that the predictions are quite accurate."
   ]
  },
  {
   "cell_type": "code",
   "execution_count": null,
   "metadata": {},
   "outputs": [],
   "source": [
    "fig = cb.blast.sankey(\n",
    "    lawlor.obs[\"cell_ontology_class\"].values,\n",
    "    lawlor_predictions.values.ravel(),\n",
    "    title=\"Lawlor to Baron_human\", tint_cutoff=2\n",
    ")"
   ]
  }
 ],
 "metadata": {
  "kernelspec": {
   "display_name": "Python 3",
   "language": "python",
   "name": "python3"
  },
  "language_info": {
   "codemirror_mode": {
    "name": "ipython",
    "version": 3
   },
   "file_extension": ".py",
   "mimetype": "text/x-python",
   "name": "python",
   "nbconvert_exporter": "python",
   "pygments_lexer": "ipython3",
   "version": "3.6.8"
  },
  "toc": {
   "base_numbering": 1,
   "nav_menu": {},
   "number_sections": true,
   "sideBar": true,
   "skip_h1_title": true,
   "title_cell": "Table of Contents",
   "title_sidebar": "Contents",
   "toc_cell": false,
   "toc_position": {},
   "toc_section_display": true,
   "toc_window_display": true
  },
  "varInspector": {
   "cols": {
    "lenName": 16,
    "lenType": 16,
    "lenVar": 40
   },
   "kernels_config": {
    "python": {
     "delete_cmd_postfix": "",
     "delete_cmd_prefix": "del ",
     "library": "var_list.py",
     "varRefreshCmd": "print(var_dic_list())"
    },
    "r": {
     "delete_cmd_postfix": ") ",
     "delete_cmd_prefix": "rm(",
     "library": "var_list.r",
     "varRefreshCmd": "cat(var_dic_list()) "
    }
   },
   "types_to_exclude": [
    "module",
    "function",
    "builtin_function_or_method",
    "instance",
    "_Feature"
   ],
   "window_display": false
  }
 },
 "nbformat": 4,
 "nbformat_minor": 2
}
