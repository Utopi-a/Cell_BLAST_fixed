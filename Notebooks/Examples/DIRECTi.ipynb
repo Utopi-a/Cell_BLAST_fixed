{
 "cells": [
  {
   "cell_type": "markdown",
   "metadata": {},
   "source": [
    "# DIRECTi tutorial"
   ]
  },
  {
   "cell_type": "code",
   "execution_count": null,
   "metadata": {},
   "outputs": [],
   "source": [
    "import logging\n",
    "import numpy as np\n",
    "import pandas as pd\n",
    "import tensorflow as tf\n",
    "import Cell_BLAST as cb\n",
    "\n",
    "np.set_printoptions(threshold=200)\n",
    "pd.set_option(\"max_rows\", 20)\n",
    "tf.logging.set_verbosity(0)\n",
    "cb.config.N_JOBS = 4\n",
    "cb.config.RANDOM_SEED = 0"
   ]
  },
  {
   "cell_type": "markdown",
   "metadata": {},
   "source": [
    "## Load data"
   ]
  },
  {
   "cell_type": "markdown",
   "metadata": {},
   "source": [
    "In this tutorial, we demonstrate how to train DIRECTi models used by Cell BLAST.\n",
    "\n",
    "Let's first load a dataset (*Baron, M. et al., Cell Syst, 2016*), which profiles >8,000 human pancreatic islet cells."
   ]
  },
  {
   "cell_type": "code",
   "execution_count": null,
   "metadata": {},
   "outputs": [],
   "source": [
    "baron_human = cb.data.ExprDataSet.read_dataset(\"../../Datasets/data/Baron_human/data.h5\")"
   ]
  },
  {
   "cell_type": "markdown",
   "metadata": {},
   "source": [
    "The data object has a similar structure to `AnnData` objects.\n",
    "\n",
    "The expression matrix (in the cell by gene orientation) is stored in the `exprs` slot (in this case a sparse matrix containing raw UMI counts):"
   ]
  },
  {
   "cell_type": "code",
   "execution_count": null,
   "metadata": {},
   "outputs": [],
   "source": [
    "baron_human.exprs"
   ]
  },
  {
   "cell_type": "code",
   "execution_count": null,
   "metadata": {},
   "outputs": [],
   "source": [
    "baron_human.exprs[0:10, 0:10].toarray()"
   ]
  },
  {
   "cell_type": "markdown",
   "metadata": {},
   "source": [
    "Meta table for cells is stored in the `obs` slot:"
   ]
  },
  {
   "cell_type": "code",
   "execution_count": null,
   "metadata": {},
   "outputs": [],
   "source": [
    "baron_human.obs.head()"
   ]
  },
  {
   "cell_type": "markdown",
   "metadata": {},
   "source": [
    "Meta table for genes is stored in the `var` slot (in this case it's empty, only containing row names):"
   ]
  },
  {
   "cell_type": "code",
   "execution_count": null,
   "metadata": {},
   "outputs": [],
   "source": [
    "baron_human.var.head()"
   ]
  },
  {
   "cell_type": "markdown",
   "metadata": {},
   "source": [
    "Other unstructured data are stored in the `uns` slot (which is a python dict). In this case we have lists of genes selected by various methods prestored here."
   ]
  },
  {
   "cell_type": "code",
   "execution_count": null,
   "metadata": {},
   "outputs": [],
   "source": [
    "baron_human.uns.keys()"
   ]
  },
  {
   "cell_type": "code",
   "execution_count": null,
   "metadata": {},
   "outputs": [],
   "source": [
    "baron_human.uns[\"seurat_genes\"]"
   ]
  },
  {
   "cell_type": "markdown",
   "metadata": {},
   "source": [
    "## Gene selection"
   ]
  },
  {
   "cell_type": "markdown",
   "metadata": {},
   "source": [
    "For custom datasets, preselected genes may not be available. In such cases, gene selection can be manually performed using the [`find_variable_genes()`](../modules/Cell_BLAST.data.html#Cell_BLAST.data.ExprDataSet.find_variable_genes) method, which is a reimplementation of the `FindVariableGenes()` function in Seurat v2.\n",
    "\n",
    "In addition to the basic functionality in the Seurat function, we also support gene selection on different \"batches\" of the data, and merging selected genes from individual \"batches\" via a voting strategy. This helps filtering out batch effect related genes. E.g., to mitigate batch effect among 4 different donors in the pancreatic dataset, we specify the grouping variable \"donor\" (column in the `obs` data frame), and leave other parameters as default:"
   ]
  },
  {
   "cell_type": "code",
   "execution_count": null,
   "metadata": {},
   "outputs": [],
   "source": [
    "%%capture\n",
    "selected_genes, axes = baron_human.find_variable_genes(grouping=\"donor\")"
   ]
  },
  {
   "cell_type": "code",
   "execution_count": null,
   "metadata": {},
   "outputs": [],
   "source": [
    "selected_genes"
   ]
  },
  {
   "cell_type": "markdown",
   "metadata": {},
   "source": [
    "In this case the selected genes should be identical to that prestored in the `uns` slot:"
   ]
  },
  {
   "cell_type": "code",
   "execution_count": null,
   "metadata": {},
   "outputs": [],
   "source": [
    "np.setdiff1d(selected_genes, baron_human.uns[\"seurat_genes\"]).size, \\\n",
    "np.setdiff1d(baron_human.uns[\"seurat_genes\"], selected_genes).size"
   ]
  },
  {
   "cell_type": "markdown",
   "metadata": {},
   "source": [
    "By default, genes selected in 50% of the \"batches\" will be preserved, which is controlled by the `min_group_frac` parameter. In cases where cell type composition varies considerably across \"batches\", it might be helpful to reduce the `min_group_frac` cutoff."
   ]
  },
  {
   "cell_type": "markdown",
   "metadata": {},
   "source": [
    "## Unsupervised dimension reduction"
   ]
  },
  {
   "cell_type": "markdown",
   "metadata": {},
   "source": [
    "Now we build and fit a DIRECTi model (for Cell BLAST) with the one-step [`fit_DIRECTi()`](../modules/Cell_BLAST.directi.html#Cell_BLAST.directi.fit_DIRECTi) function.\n",
    "\n",
    "Note that we passed the raw data and previously selected genes directly. The function will handle data normalization and gene subsetting internally. Performing data normalization or genes subsetting externally beforehand is **NOT** recommended.\n",
    "\n",
    "Also, we set the cell embedding dimensionality to 10, and use a 20-dimensional categorical latent *c*.\n",
    "\n",
    "> Note that though 20-dimensional categorical latent was used, less clusters are formed in the embedding space. This is because the model is flexible to discard categories or to use multiple categories to represent the same cluster if a redundant number of categories is specified. If the data contains one single continuous spectrum of cell states, it can be more appropriate to set `cat_dim` to `None`."
   ]
  },
  {
   "cell_type": "code",
   "execution_count": null,
   "metadata": {
    "scrolled": true
   },
   "outputs": [],
   "source": [
    "%%capture\n",
    "model = cb.directi.fit_DIRECTi(\n",
    "    baron_human, genes=selected_genes,\n",
    "    latent_dim=10, cat_dim=20\n",
    ")"
   ]
  },
  {
   "cell_type": "markdown",
   "metadata": {},
   "source": [
    "After model training, we can project cells into the cell embedding space using the [`inference()`](../modules/Cell_BLAST.directi.html#Cell_BLAST.directi.DIRECTi.inference) method.\n",
    "It is recommended that you store cell embeddings into the `latent` slot of the original dataset object. This facilitates visualization via the [`visualize_latent()`](../modules/Cell_BLAST.data.html#Cell_BLAST.data.ExprDataSet.visualize_latent) method."
   ]
  },
  {
   "cell_type": "code",
   "execution_count": null,
   "metadata": {},
   "outputs": [],
   "source": [
    "baron_human.latent = model.inference(baron_human)"
   ]
  },
  {
   "cell_type": "code",
   "execution_count": null,
   "metadata": {},
   "outputs": [],
   "source": [
    "ax = baron_human.visualize_latent(\"cell_ontology_class\")"
   ]
  },
  {
   "cell_type": "markdown",
   "metadata": {},
   "source": [
    "We see that different cell types can readily be distinguished.\n",
    "\n",
    "This is the prerequisite to successful cell querying. If certain cell types are largely intermingled at this step, they are unlikely to be unambiguously predicted. It might be useful to reconsider the feature selection step or model hyperparameter setting (see function documentation of [`find_variable_genes()`](../modules/Cell_BLAST.data.html#Cell_BLAST.data.ExprDataSet.find_variable_genes) and [`fit_DIRECTi()`](../modules/Cell_BLAST.directi.html#Cell_BLAST.directi.fit_DIRECTi) for details)."
   ]
  },
  {
   "cell_type": "markdown",
   "metadata": {},
   "source": [
    "You can also save the model for future use via the [`save()`](../modules/Cell_BLAST.directi.html#Cell_BLAST.directi.save) method. It is straightforward to load a saved model via the [`load()`](../modules/Cell_BLAST.directi.html#Cell_BLAST.directi.load) function."
   ]
  },
  {
   "cell_type": "code",
   "execution_count": null,
   "metadata": {
    "scrolled": true
   },
   "outputs": [],
   "source": [
    "model.save(\"./baron_human_model\")\n",
    "model.close()\n",
    "del model\n",
    "model = cb.directi.DIRECTi.load(\"./baron_human_model\")"
   ]
  },
  {
   "cell_type": "markdown",
   "metadata": {},
   "source": [
    "We can also project other datasets using the same model. Here we test with the Muraro dataset (*Muraro, M. et al., Cell Systems, 2016*), which also profiled human pancreatic islets.\n",
    "\n",
    "Note that we also do not normalize the dataset or subset genes beforehand, as these are handled by the [`inference()`](../modules/Cell_BLAST.directi.html#Cell_BLAST.directi.DIRECTi.inference) method internally.\n",
    "\n",
    "Also, there will be a warning saying that we have some genes missing in the new dataset, but it doesn't really matter as long as the number is small. Distinct cell types are still well separated."
   ]
  },
  {
   "cell_type": "code",
   "execution_count": null,
   "metadata": {},
   "outputs": [],
   "source": [
    "muraro = cb.data.ExprDataSet.read_dataset(\"../../Datasets/data/Muraro/data.h5\")\n",
    "muraro.latent = model.inference(muraro)\n",
    "ax = muraro.visualize_latent(\"cell_ontology_class\")"
   ]
  },
  {
   "cell_type": "markdown",
   "metadata": {},
   "source": [
    "## Batch effect correction"
   ]
  },
  {
   "cell_type": "markdown",
   "metadata": {},
   "source": [
    "Now we demonstrate the function of batch effect correction by training models on a \"meta-dataset\" merged from multiple datasets (all profiling human pancreatic islets), where we expect significant batch effect among different datasets.\n",
    "\n",
    "We first merge different datasets using the [`merge_datasets()`](../modules/Cell_BLAST.data.html#Cell_BLAST.data.ExprDataSet.merge_datasets) function."
   ]
  },
  {
   "cell_type": "code",
   "execution_count": null,
   "metadata": {},
   "outputs": [],
   "source": [
    "cb.utils.logger.setLevel(logging.WARNING)  # Suppress a long list of genes not shared by all datasets\n",
    "combined_dataset = cb.data.ExprDataSet.merge_datasets({\n",
    "    \"Baron_human\": cb.data.ExprDataSet.read_dataset(\"../../Datasets/data/Baron_human/data.h5\"),\n",
    "    \"Segerstolpe\": cb.data.ExprDataSet.read_dataset(\"../../Datasets/data/Segerstolpe/data.h5\"),\n",
    "    \"Muraro\": cb.data.ExprDataSet.read_dataset(\"../../Datasets/data/Muraro/data.h5\"),\n",
    "    \"Xin\": cb.data.ExprDataSet.read_dataset(\"../../Datasets/data/Xin_2016/data.h5\"),\n",
    "    \"Lawlor\": cb.data.ExprDataSet.read_dataset(\"../../Datasets/data/Lawlor/data.h5\")\n",
    "}, meta_col=\"study\", merge_uns_slots=[\"seurat_genes\"])\n",
    "cb.utils.logger.setLevel(logging.INFO)"
   ]
  },
  {
   "cell_type": "markdown",
   "metadata": {},
   "source": [
    "The `meta_col` argument is used to specify a column (\"study\" in this case) that will be added to the `obs` data frame, which stores the dataset origination of each cell. This column serves as the batch indicator for cross-dataset batch effect."
   ]
  },
  {
   "cell_type": "code",
   "execution_count": null,
   "metadata": {},
   "outputs": [],
   "source": [
    "combined_dataset.obs[\"study\"]"
   ]
  },
  {
   "cell_type": "markdown",
   "metadata": {},
   "source": [
    "The `merge_uns_slots` argument is specified to merge preselected genes stored in the `uns[\"seurat_genes\"]` slot in individual datasets."
   ]
  },
  {
   "cell_type": "markdown",
   "metadata": {},
   "source": [
    "We first train a model on the \"meta-dataset\" without batch effect correction, and validate that significant batch effect exists among different datasets."
   ]
  },
  {
   "cell_type": "code",
   "execution_count": null,
   "metadata": {},
   "outputs": [],
   "source": [
    "%%capture\n",
    "model = cb.directi.fit_DIRECTi(\n",
    "    combined_dataset, genes=combined_dataset.uns[\"seurat_genes\"],\n",
    "    latent_dim=10, cat_dim=20\n",
    ")\n",
    "combined_dataset.latent = model.inference(combined_dataset)"
   ]
  },
  {
   "cell_type": "code",
   "execution_count": null,
   "metadata": {},
   "outputs": [],
   "source": [
    "ax = combined_dataset.visualize_latent(\"cell_ontology_class\")"
   ]
  },
  {
   "cell_type": "code",
   "execution_count": null,
   "metadata": {},
   "outputs": [],
   "source": [
    "ax = combined_dataset.visualize_latent(\"study\")"
   ]
  },
  {
   "cell_type": "markdown",
   "metadata": {},
   "source": [
    "To perform batch effect correction, specify `batch_effect` as a column in the `obs` slot corresponding to the batch indicator, which is \"study\" in this case."
   ]
  },
  {
   "cell_type": "code",
   "execution_count": null,
   "metadata": {
    "scrolled": true
   },
   "outputs": [],
   "source": [
    "%%capture\n",
    "model_rmbatch = cb.directi.fit_DIRECTi(\n",
    "    combined_dataset, genes=combined_dataset.uns[\"seurat_genes\"],\n",
    "    batch_effect=\"study\", latent_dim=10, cat_dim=20\n",
    ")\n",
    "combined_dataset.latent = model_rmbatch.inference(combined_dataset)"
   ]
  },
  {
   "cell_type": "markdown",
   "metadata": {},
   "source": [
    "We see that batch effect is largely removed in the embedding space. Cells of the same cell type from different studies are well aligned."
   ]
  },
  {
   "cell_type": "code",
   "execution_count": null,
   "metadata": {},
   "outputs": [],
   "source": [
    "ax = combined_dataset.visualize_latent(\"study\")"
   ]
  },
  {
   "cell_type": "code",
   "execution_count": null,
   "metadata": {},
   "outputs": [],
   "source": [
    "ax = combined_dataset.visualize_latent(\"cell_ontology_class\")"
   ]
  }
 ],
 "metadata": {
  "kernelspec": {
   "display_name": "Python 3",
   "language": "python",
   "name": "python3"
  },
  "language_info": {
   "codemirror_mode": {
    "name": "ipython",
    "version": 3
   },
   "file_extension": ".py",
   "mimetype": "text/x-python",
   "name": "python",
   "nbconvert_exporter": "python",
   "pygments_lexer": "ipython3",
   "version": "3.6.8"
  },
  "toc": {
   "base_numbering": 1,
   "nav_menu": {},
   "number_sections": true,
   "sideBar": true,
   "skip_h1_title": true,
   "title_cell": "Table of Contents",
   "title_sidebar": "Contents",
   "toc_cell": false,
   "toc_position": {
    "height": "calc(100% - 180px)",
    "left": "10px",
    "top": "150px",
    "width": "288px"
   },
   "toc_section_display": true,
   "toc_window_display": true
  },
  "varInspector": {
   "cols": {
    "lenName": 16,
    "lenType": 16,
    "lenVar": 40
   },
   "kernels_config": {
    "python": {
     "delete_cmd_postfix": "",
     "delete_cmd_prefix": "del ",
     "library": "var_list.py",
     "varRefreshCmd": "print(var_dic_list())"
    },
    "r": {
     "delete_cmd_postfix": ") ",
     "delete_cmd_prefix": "rm(",
     "library": "var_list.r",
     "varRefreshCmd": "cat(var_dic_list()) "
    }
   },
   "types_to_exclude": [
    "module",
    "function",
    "builtin_function_or_method",
    "instance",
    "_Feature"
   ],
   "window_display": false
  }
 },
 "nbformat": 4,
 "nbformat_minor": 2
}
