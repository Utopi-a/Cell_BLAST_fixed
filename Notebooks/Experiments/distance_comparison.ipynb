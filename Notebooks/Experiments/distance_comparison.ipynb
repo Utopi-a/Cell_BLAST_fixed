{
 "cells": [
  {
   "cell_type": "code",
   "execution_count": null,
   "metadata": {
    "ExecuteTime": {
     "end_time": "2019-07-25T02:17:18.644763Z",
     "start_time": "2019-07-25T02:17:16.188118Z"
    }
   },
   "outputs": [],
   "source": [
    "import sys\n",
    "import os\n",
    "import collections\n",
    "import numpy as np\n",
    "import pandas as pd\n",
    "import sklearn.neighbors\n",
    "import sklearn.metrics\n",
    "import torch\n",
    "import matplotlib.pyplot as plt\n",
    "import matplotlib.patches as mpatches\n",
    "import seaborn as sns\n",
    "import Cell_BLAST as cb\n",
    "import scvi.dataset\n",
    "import scvi.models\n",
    "import scvi.inference\n",
    "import exputils"
   ]
  },
  {
   "cell_type": "code",
   "execution_count": null,
   "metadata": {
    "ExecuteTime": {
     "end_time": "2019-07-25T02:17:24.518014Z",
     "start_time": "2019-07-25T02:17:18.647377Z"
    }
   },
   "outputs": [],
   "source": [
    "os.environ[\"CUDA_VISIBLE_DEVICES\"] = exputils.pick_gpu_lowest_memory()\n",
    "cb.config.RANDOM_SEED = 0\n",
    "plt.rcParams['svg.fonttype'] = \"none\"\n",
    "plt.rcParams['font.family'] = \"Arial\"\n",
    "N_POSTERIOR = 50\n",
    "N_MODELS = 16\n",
    "N_QUERIES = 1000\n",
    "N_NEIGHBORS = 50\n",
    "PATH = \"./distance_comparison/\"\n",
    "os.makedirs(PATH, exist_ok=True)"
   ]
  },
  {
   "cell_type": "markdown",
   "metadata": {},
   "source": [
    "## Read data"
   ]
  },
  {
   "cell_type": "markdown",
   "metadata": {},
   "source": [
    "### Reference"
   ]
  },
  {
   "cell_type": "code",
   "execution_count": null,
   "metadata": {
    "ExecuteTime": {
     "end_time": "2019-07-25T02:20:05.037046Z",
     "start_time": "2019-07-25T02:17:24.521639Z"
    }
   },
   "outputs": [],
   "source": [
    "ref = cb.data.ExprDataSet.merge_datasets(dict(\n",
    "    baron=cb.data.ExprDataSet.read_dataset(\"../../Datasets/data/Baron_human/data.h5\"),\n",
    "    xin=cb.data.ExprDataSet.read_dataset(\"../../Datasets/data/Xin_2016/data.h5\"),\n",
    "    lawlor=cb.data.ExprDataSet.read_dataset(\"../../Datasets/data/Lawlor/data.h5\")\n",
    "), merge_uns_slots=[\"seurat_genes\"]).normalize()  # Otherwise scVI cannot generalize so we both use normalized data\n",
    "ref.obs[\"__libsize__\"] = np.array(ref.exprs.sum(axis=1)).ravel()\n",
    "ref = ref[:, ref.uns[\"seurat_genes\"]]\n",
    "ref = exputils.clean_dataset(ref, \"cell_ontology_class\")"
   ]
  },
  {
   "cell_type": "code",
   "execution_count": null,
   "metadata": {
    "ExecuteTime": {
     "end_time": "2019-07-25T02:20:05.483703Z",
     "start_time": "2019-07-25T02:20:05.039906Z"
    }
   },
   "outputs": [],
   "source": [
    "ref.to_anndata().write_h5ad(os.path.join(PATH, \"ref.h5ad\"))\n",
    "ref_scvi = scvi.dataset.AnnDataset(\"ref.h5ad\", save_path=PATH)\n",
    "ref_scvi.batch_indices = cb.utils.encode_integer(ref.obs[\"dataset_name\"])[0].reshape((-1, 1))\n",
    "n_batch = np.unique(ref_scvi.batch_indices).size"
   ]
  },
  {
   "cell_type": "markdown",
   "metadata": {},
   "source": [
    "### Query"
   ]
  },
  {
   "cell_type": "code",
   "execution_count": null,
   "metadata": {
    "ExecuteTime": {
     "end_time": "2019-07-25T02:20:28.688685Z",
     "start_time": "2019-07-25T02:20:05.485601Z"
    },
    "scrolled": true
   },
   "outputs": [],
   "source": [
    "query = dict(\n",
    "    # Positive\n",
    "    segerstolpe=cb.data.ExprDataSet.read_dataset(\"../../Datasets/data/Segerstolpe/data.h5\"),\n",
    "    muraro=cb.data.ExprDataSet.read_dataset(\"../../Datasets/data/Muraro/data.h5\"),\n",
    "    enge=cb.data.ExprDataSet.read_dataset(\"../../Datasets/data/Enge/data.h5\"),\n",
    "    # Negative\n",
    "    wu_human=cb.data.ExprDataSet.read_dataset(\"../../Datasets/data/Wu_human/data.h5\"),\n",
    "    zheng=cb.data.ExprDataSet.read_dataset(\"../../Datasets/data/Zheng/data.h5\"),\n",
    "    philippeos=cb.data.ExprDataSet.read_dataset(\"../../Datasets/data/Philippeos/data.h5\")\n",
    ")\n",
    "for key in query:\n",
    "    query[key] = query[key].normalize()  # Otherwise scVI cannot generalize so we both use normalized data\n",
    "    query[key].obs[\"__libsize__\"] = np.array(query[key].exprs.sum(axis=1)).ravel()\n",
    "    query[key] = query[key][:, ref.var_names]"
   ]
  },
  {
   "cell_type": "code",
   "execution_count": null,
   "metadata": {
    "ExecuteTime": {
     "end_time": "2019-07-25T02:20:30.885316Z",
     "start_time": "2019-07-25T02:20:28.690579Z"
    }
   },
   "outputs": [],
   "source": [
    "random_state = np.random.RandomState(0)\n",
    "min_size = max(min(val.shape[0] for val in query.values()), 2000)\n",
    "query = cb.data.ExprDataSet.merge_datasets({\n",
    "    key: val[\n",
    "        random_state.choice(val.shape[0], min(min_size, val.shape[0]), replace=False), :\n",
    "    ] for key, val in query.items()\n",
    "})\n",
    "query = exputils.clean_dataset(query, \"cell_ontology_class\")"
   ]
  },
  {
   "cell_type": "code",
   "execution_count": null,
   "metadata": {
    "ExecuteTime": {
     "end_time": "2019-07-25T02:20:31.609029Z",
     "start_time": "2019-07-25T02:20:30.888264Z"
    }
   },
   "outputs": [],
   "source": [
    "query[:, ref.uns[\"seurat_genes\"]].to_anndata().write_h5ad(os.path.join(PATH, \"query.h5ad\"))\n",
    "query_scvi = scvi.dataset.AnnDataset(\"query.h5ad\", save_path=PATH)"
   ]
  },
  {
   "cell_type": "markdown",
   "metadata": {},
   "source": [
    "## Model training\n",
    "\n",
    "### Cell BLAST"
   ]
  },
  {
   "cell_type": "code",
   "execution_count": null,
   "metadata": {},
   "outputs": [],
   "source": [
    "regs = (1e-4, 1e-3, 1e-2, 1e-1, 1, 10)"
   ]
  },
  {
   "cell_type": "code",
   "execution_count": null,
   "metadata": {
    "ExecuteTime": {
     "end_time": "2019-07-25T02:31:57.647529Z",
     "start_time": "2019-07-25T02:20:31.613278Z"
    },
    "scrolled": true
   },
   "outputs": [],
   "source": [
    "cb_models = collections.defaultdict(list)\n",
    "for reg in regs:\n",
    "    for seed in range(N_MODELS):\n",
    "        print(f\"==== Cell BLAST model {seed} with reg = {reg} ====\")\n",
    "        cb_models[reg].append(cb.directi.fit_DIRECTi(\n",
    "            ref, ref.uns[\"seurat_genes\"], batch_effect=\"dataset_name\",\n",
    "            latent_dim=10, cat_dim=20, latent_module_kwargs=dict(lambda_reg=reg),\n",
    "            random_seed=seed\n",
    "        ))"
   ]
  },
  {
   "cell_type": "markdown",
   "metadata": {},
   "source": [
    "### scVI"
   ]
  },
  {
   "cell_type": "code",
   "execution_count": null,
   "metadata": {},
   "outputs": [],
   "source": [
    "KLs = (\"dynamic\", 1e-2, 1e-1, 1, 10, 50)"
   ]
  },
  {
   "cell_type": "code",
   "execution_count": null,
   "metadata": {
    "ExecuteTime": {
     "end_time": "2019-07-25T02:47:45.254543Z",
     "start_time": "2019-07-25T02:31:57.650199Z"
    },
    "scrolled": true
   },
   "outputs": [],
   "source": [
    "scvi_models = collections.defaultdict(list)\n",
    "for kl in KLs:\n",
    "    for seed in range(N_MODELS):\n",
    "        print(f\"==== scVI model {seed} with KL = {kl} ====\")\n",
    "        np.random.seed(seed)\n",
    "        torch.manual_seed(seed)\n",
    "        vae = scvi.models.VAE(ref_scvi.nb_genes, n_latent=10, n_batch=n_batch)\n",
    "        trainer = scvi.inference.annotation.UnsupervisedTrainer(\n",
    "            vae, ref_scvi, kl=None if kl == \"dynamic\" else kl, use_cuda=True,\n",
    "            metrics_to_monitor=[\"ll\"], frequency=5,\n",
    "            early_stopping_kwargs=dict(\n",
    "                early_stopping_metric=\"ll\", save_best_state_metric=\"ll\",\n",
    "                patience=30, threshold=0\n",
    "            )\n",
    "        )\n",
    "        trainer.train(n_epochs=1000)\n",
    "        scvi_models[kl].append(vae)"
   ]
  },
  {
   "cell_type": "markdown",
   "metadata": {},
   "source": [
    "## Distance metric ROC"
   ]
  },
  {
   "cell_type": "markdown",
   "metadata": {},
   "source": [
    "### Preparation"
   ]
  },
  {
   "cell_type": "code",
   "execution_count": null,
   "metadata": {
    "ExecuteTime": {
     "end_time": "2019-07-25T03:24:15.836702Z",
     "start_time": "2019-07-25T03:24:15.799286Z"
    }
   },
   "outputs": [],
   "source": [
    "def get_cb_latent_and_posterior(model):\n",
    "    return model.inference(ref), model.inference(query), \\\n",
    "        model.inference(ref, n_posterior=N_POSTERIOR, progress_bar=True), \\\n",
    "        model.inference(query, n_posterior=N_POSTERIOR, progress_bar=True)\n",
    "\n",
    "\n",
    "def get_scvi_latent_and_posterior(model):\n",
    "    def _get(model, ds_scvi):\n",
    "        _trainer = scvi.inference.annotation.UnsupervisedTrainer(model, ds_scvi)\n",
    "        tmp = _trainer.get_all_latent_and_imputed_values()\n",
    "        ref_zm, ref_zv = tmp[\"latent\"], tmp[\"latent_var\"]\n",
    "        random_state = np.random.RandomState(0)\n",
    "        posterior = [\n",
    "            random_state.multivariate_normal(_ref_zm, np.diag(_ref_zv), size=N_POSTERIOR)\n",
    "            for _ref_zm, _ref_zv in zip(ref_zm, ref_zv)\n",
    "        ]\n",
    "        return ref_zm.astype(np.float32), np.stack(posterior, axis=0).astype(np.float32)\n",
    "    ref_latent, ref_posterior = _get(model, ref_scvi)\n",
    "    query_latent, query_posterior = _get(model, query_scvi)\n",
    "    return ref_latent, query_latent, ref_posterior, query_posterior\n",
    "\n",
    "\n",
    "def get_nn_idx(ref_latent, query_latent, ref_label, query_label):\n",
    "    random_state = np.random.RandomState(0)\n",
    "    nn = sklearn.neighbors.NearestNeighbors().fit(ref_latent)\n",
    "    ref_idx, query_idx, correctness = [], [], []\n",
    "    query_idx = random_state.choice(query_latent.shape[0], size=N_QUERIES, replace=False)\n",
    "    ref_idx = nn.kneighbors(query_latent[query_idx], n_neighbors=N_NEIGHBORS)[1].ravel()\n",
    "    query_idx = np.repeat(query_idx, N_NEIGHBORS)\n",
    "    correctness = np.array(ref_label[ref_idx]) == np.array(query_label[query_idx])\n",
    "    return ref_idx, query_idx, correctness\n",
    "\n",
    "\n",
    "def compute_distances(ref_latent, query_latent, ref_posterior, query_posterior):\n",
    "    edist, pdist, pdist_old = [], [], []\n",
    "    for i in cb.utils.smart_tqdm()(range(ref_idx.size)):\n",
    "        edist.append(np.sqrt(np.square(ref_latent[i] - query_latent[i]).sum()))\n",
    "        pdist.append(cb.blast.npd_v1(\n",
    "            query_latent[i], ref_latent[i], \n",
    "            query_posterior[i], ref_posterior[i]\n",
    "        ))\n",
    "    return np.array(edist), np.array(pdist)\n",
    "\n",
    "\n",
    "def distance_pair_plot(edist, pdist, correctness):\n",
    "    df = pd.DataFrame({\n",
    "        \"Euclidean distance\": edist,\n",
    "        \"Posterior distance\": pdist,\n",
    "        \"Correctness\": correctness\n",
    "    })\n",
    "    \n",
    "    g = sns.JointGrid(x=\"Euclidean distance\", y=\"Posterior distance\", data=df)\n",
    "    for _correctness, _df in df.groupby(\"Correctness\"):\n",
    "        sns.kdeplot(_df[\"Euclidean distance\"], ax=g.ax_marg_x, legend=False, shade=True)\n",
    "        sns.kdeplot(_df[\"Posterior distance\"], ax=g.ax_marg_y, vertical=True, legend=False, shade=True)\n",
    "        sns.kdeplot(_df[\"Euclidean distance\"], _df[\"Posterior distance\"], n_levels=10, ax=g.ax_joint)\n",
    "    ax = sns.scatterplot(\n",
    "        x=\"Euclidean distance\", y=\"Posterior distance\", hue=\"Correctness\",\n",
    "        data=df.sample(frac=1, random_state=0), s=5, edgecolor=None, alpha=0.5,\n",
    "        rasterized=True, ax=g.ax_joint\n",
    "    )\n",
    "    _ = g.ax_joint.legend(frameon=False)\n",
    "    return ax"
   ]
  },
  {
   "cell_type": "code",
   "execution_count": null,
   "metadata": {
    "ExecuteTime": {
     "end_time": "2019-07-25T03:24:16.085596Z",
     "start_time": "2019-07-25T03:24:16.077234Z"
    }
   },
   "outputs": [],
   "source": [
    "df = dict(distance=[], correctness=[], model=[], metric=[], seed=[])"
   ]
  },
  {
   "cell_type": "markdown",
   "metadata": {},
   "source": [
    "### Cell BLAST"
   ]
  },
  {
   "cell_type": "code",
   "execution_count": null,
   "metadata": {
    "ExecuteTime": {
     "end_time": "2019-07-25T03:27:06.382201Z",
     "start_time": "2019-07-25T03:24:16.496812Z"
    },
    "scrolled": true
   },
   "outputs": [],
   "source": [
    "for reg, models in cb_models.items():\n",
    "    for i, model in enumerate(models):\n",
    "        print(f\"Dealing with model {i} of reg = {reg}...\")\n",
    "        ref_latent, query_latent, ref_posterior, query_posterior = get_cb_latent_and_posterior(model)\n",
    "        ref_idx, query_idx, correctness = get_nn_idx(\n",
    "            ref_latent, query_latent,\n",
    "            ref.obs[\"cell_ontology_class\"], query.obs[\"cell_ontology_class\"]\n",
    "        )\n",
    "        edist, pdist = compute_distances(\n",
    "            ref_latent[ref_idx], query_latent[query_idx],\n",
    "            ref_posterior[ref_idx], query_posterior[query_idx]\n",
    "        )\n",
    "        if i == 0:\n",
    "            ax = distance_pair_plot(edist, pdist, correctness)\n",
    "            ax.get_figure().savefig(os.path.join(PATH, \"cb_distance_cmp.pdf\"), dpi=300, bbox_inches=\"tight\")\n",
    "\n",
    "        df[\"distance\"].append(edist)\n",
    "        df[\"correctness\"].append(correctness)\n",
    "        df[\"model\"].append(np.repeat(f\"Cell BLAST (reg = {reg})\", edist.size))\n",
    "        df[\"metric\"].append(np.repeat(\"EuD\", edist.size))\n",
    "        df[\"seed\"].append(np.repeat(i, edist.size))\n",
    "\n",
    "        df[\"distance\"].append(pdist)\n",
    "        df[\"correctness\"].append(correctness)\n",
    "        df[\"model\"].append(np.repeat(f\"Cell BLAST (reg = {reg})\", edist.size))\n",
    "        df[\"metric\"].append(np.repeat(\"NPD\", edist.size))\n",
    "        df[\"seed\"].append(np.repeat(i, edist.size))"
   ]
  },
  {
   "cell_type": "markdown",
   "metadata": {},
   "source": [
    "### scVI"
   ]
  },
  {
   "cell_type": "code",
   "execution_count": null,
   "metadata": {
    "ExecuteTime": {
     "end_time": "2019-07-25T03:27:06.391201Z",
     "start_time": "2019-07-25T03:24:17.902Z"
    },
    "scrolled": true
   },
   "outputs": [],
   "source": [
    "for kl, models in scvi_models.items():\n",
    "    for i, model in enumerate(models):\n",
    "        print(f\"Dealing with model {i} of KL = {kl}...\")\n",
    "        ref_latent, query_latent, ref_posterior, query_posterior = get_scvi_latent_and_posterior(model)\n",
    "        ref_idx, query_idx, correctness = get_nn_idx(\n",
    "            ref_latent, query_latent,\n",
    "            ref.obs[\"cell_ontology_class\"], query.obs[\"cell_ontology_class\"]\n",
    "        )\n",
    "        edist, pdist = compute_distances(\n",
    "            ref_latent[ref_idx], query_latent[query_idx],\n",
    "            ref_posterior[ref_idx], query_posterior[query_idx]\n",
    "        )\n",
    "        if kl is None and i == 0:\n",
    "            ax = distance_pair_plot(edist, pdist, correctness)\n",
    "            ax.get_figure().savefig(os.path.join(PATH, \"scvi_distance_cmp.pdf\"), dpi=300, bbox_inches=\"tight\")\n",
    "\n",
    "        df[\"distance\"].append(edist)\n",
    "        df[\"correctness\"].append(correctness)\n",
    "        df[\"model\"].append(np.repeat(f\"scVI (KL = {kl})\", edist.size))\n",
    "        df[\"metric\"].append(np.repeat(\"EuD\", edist.size))\n",
    "        df[\"seed\"].append(np.repeat(i, edist.size))\n",
    "\n",
    "        df[\"distance\"].append(pdist)\n",
    "        df[\"correctness\"].append(correctness)\n",
    "        df[\"model\"].append(np.repeat(f\"scVI (KL = {kl})\", edist.size))\n",
    "        df[\"metric\"].append(np.repeat(\"NPD\", edist.size))\n",
    "        df[\"seed\"].append(np.repeat(i, edist.size))"
   ]
  },
  {
   "cell_type": "markdown",
   "metadata": {},
   "source": [
    "## Save results"
   ]
  },
  {
   "cell_type": "code",
   "execution_count": null,
   "metadata": {
    "ExecuteTime": {
     "end_time": "2019-07-25T03:27:06.396810Z",
     "start_time": "2019-07-25T03:24:51.730Z"
    }
   },
   "outputs": [],
   "source": [
    "df = pd.DataFrame({\n",
    "    key: np.concatenate(val)\n",
    "    for key, val in df.items()\n",
    "})\n",
    "df.to_csv(os.path.join(PATH, \"distance.csv\"), index=False)"
   ]
  },
  {
   "cell_type": "markdown",
   "metadata": {},
   "source": [
    "## Plotting"
   ]
  },
  {
   "cell_type": "code",
   "execution_count": null,
   "metadata": {
    "ExecuteTime": {
     "end_time": "2019-07-25T03:27:06.403102Z",
     "start_time": "2019-07-25T03:24:52.191Z"
    }
   },
   "outputs": [],
   "source": [
    "df = pd.read_csv(os.path.join(PATH, \"distance.csv\"))\n",
    "df[\"model\"] = pd.Categorical(df[\"model\"], categories=[\n",
    "    f\"Cell BLAST (reg = {reg})\" for reg in regs\n",
    "] + [\n",
    "    f\"scVI (KL = {kl})\" for kl in KLs\n",
    "])"
   ]
  },
  {
   "cell_type": "code",
   "execution_count": null,
   "metadata": {
    "ExecuteTime": {
     "end_time": "2019-07-25T03:27:06.422329Z",
     "start_time": "2019-07-25T03:24:54.115Z"
    }
   },
   "outputs": [],
   "source": [
    "auc_df = df.groupby([\"model\", \"metric\", \"seed\"]).apply(\n",
    "    lambda x: sklearn.metrics.roc_auc_score(x[\"correctness\"], -x[\"distance\"])\n",
    ").reset_index(name=\"AUC\")"
   ]
  },
  {
   "cell_type": "code",
   "execution_count": null,
   "metadata": {
    "ExecuteTime": {
     "end_time": "2019-07-25T03:27:06.428926Z",
     "start_time": "2019-07-25T03:24:54.713Z"
    }
   },
   "outputs": [],
   "source": [
    "fig, ax = plt.subplots(figsize=(7.0, 4.0))\n",
    "ax = sns.violinplot(\n",
    "    x=\"model\", y=\"AUC\", hue=\"metric\", data=auc_df,\n",
    "    split=True, inner=\"quartile\", width=0.9, linewidth=0.8\n",
    ")\n",
    "ax.spines[\"right\"].set_visible(False)\n",
    "ax.spines[\"top\"].set_visible(False)\n",
    "ax.set(xlabel=\"Distance metric\")\n",
    "ax.set_xticklabels(ax.get_xticklabels(), rotation=90, horizontalalignment=\"right\")\n",
    "ax.legend(\n",
    "    bbox_to_anchor=(1.05, 0.5), loc=\"center left\",\n",
    "    borderaxespad=0.0, frameon=False\n",
    ")\n",
    "for xtick in ax.get_xticklabels():\n",
    "    if xtick.get_text() in (\"Cell BLAST (reg = 0.001)\", \"scVI (KL = dynamic)\"):\n",
    "        xtick.set_color(\"red\")\n",
    "fig.savefig(os.path.join(PATH, \"auc.pdf\"), bbox_inches=\"tight\")"
   ]
  }
 ],
 "metadata": {
  "kernelspec": {
   "display_name": "Python 3",
   "language": "python",
   "name": "python3"
  },
  "language_info": {
   "codemirror_mode": {
    "name": "ipython",
    "version": 3
   },
   "file_extension": ".py",
   "mimetype": "text/x-python",
   "name": "python",
   "nbconvert_exporter": "python",
   "pygments_lexer": "ipython3",
   "version": "3.6.8"
  },
  "toc": {
   "base_numbering": 1,
   "nav_menu": {},
   "number_sections": true,
   "sideBar": true,
   "skip_h1_title": true,
   "title_cell": "Table of Contents",
   "title_sidebar": "Contents",
   "toc_cell": false,
   "toc_position": {
    "height": "calc(100% - 180px)",
    "left": "10px",
    "top": "150px",
    "width": "224.59375px"
   },
   "toc_section_display": true,
   "toc_window_display": true
  },
  "varInspector": {
   "cols": {
    "lenName": 16,
    "lenType": 16,
    "lenVar": 40
   },
   "kernels_config": {
    "python": {
     "delete_cmd_postfix": "",
     "delete_cmd_prefix": "del ",
     "library": "var_list.py",
     "varRefreshCmd": "print(var_dic_list())"
    },
    "r": {
     "delete_cmd_postfix": ") ",
     "delete_cmd_prefix": "rm(",
     "library": "var_list.r",
     "varRefreshCmd": "cat(var_dic_list()) "
    }
   },
   "types_to_exclude": [
    "module",
    "function",
    "builtin_function_or_method",
    "instance",
    "_Feature"
   ],
   "window_display": false
  }
 },
 "nbformat": 4,
 "nbformat_minor": 2
}
