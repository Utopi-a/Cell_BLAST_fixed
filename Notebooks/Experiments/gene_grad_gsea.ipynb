{
 "cells": [
  {
   "cell_type": "code",
   "execution_count": null,
   "metadata": {},
   "outputs": [],
   "source": [
    "import os\n",
    "import re\n",
    "import numpy as np\n",
    "import pandas as pd\n",
    "import scipy.stats\n",
    "import sklearn.metrics\n",
    "import matplotlib.pyplot as plt\n",
    "import matplotlib.colors as colors\n",
    "import seaborn as sns\n",
    "import gseapy as gp\n",
    "import Cell_BLAST as cb\n",
    "import exputils"
   ]
  },
  {
   "cell_type": "code",
   "execution_count": null,
   "metadata": {},
   "outputs": [],
   "source": [
    "os.environ[\"CUDA_VISIBLE_DEVICES\"] = exputils.pick_gpu_lowest_memory()\n",
    "cb.config.RANDOM_SEED = 0\n",
    "plt.rcParams['svg.fonttype'] = \"none\"\n",
    "plt.rcParams['font.family'] = \"Arial\"\n",
    "FILTER_GENE_SETS = True\n",
    "PATH = \"gene_grad_gsea\"\n",
    "os.makedirs(PATH, exist_ok=True)"
   ]
  },
  {
   "cell_type": "code",
   "execution_count": null,
   "metadata": {},
   "outputs": [],
   "source": [
    "class MidpointNormalize(colors.Normalize):  # https://matplotlib.org/tutorials/colors/colormapnorms.html\n",
    "    def __init__(self, vmin=None, vmax=None, midpoint=None, clip=False):\n",
    "        self.midpoint = midpoint\n",
    "        super(MidpointNormalize, self).__init__(vmin, vmax, clip)\n",
    "\n",
    "    def __call__(self, value, clip=None):\n",
    "        x, y = [self.vmin, self.midpoint, self.vmax], [0, 0.5, 1]\n",
    "        return np.ma.masked_array(np.interp(value, x, y), np.isnan(value))\n",
    "\n",
    "\n",
    "def equalizing_weights(x):\n",
    "    unique, unique_inverse, unique_counts = np.unique(x, return_inverse=True, return_counts=True)\n",
    "    weights = unique_counts.sum() / unique_counts\n",
    "    weights = weights[unique_inverse]\n",
    "    return weights * weights.size / weights.sum()"
   ]
  },
  {
   "cell_type": "markdown",
   "metadata": {},
   "source": [
    "## Read PanglaoDB markers"
   ]
  },
  {
   "cell_type": "code",
   "execution_count": null,
   "metadata": {},
   "outputs": [],
   "source": [
    "panglao_markers = pd.read_csv(\n",
    "    \"../../Datasets/marker/PanglaoDB_markers_21_Jan_2020.tsv\",\n",
    "    sep=\"\\t\", usecols=[\"species\", \"official gene symbol\", \"cell type\", \"organ\"]\n",
    ")\n",
    "cl_panglao_mapping = pd.read_csv(\"../../Datasets/marker/CL_PanglaoDB_mapping.csv\")\n",
    "panglao_markers = panglao_markers.merge(cl_panglao_mapping)\n",
    "panglao_markers.head()"
   ]
  },
  {
   "cell_type": "markdown",
   "metadata": {},
   "source": [
    "### Extract human cell type markers"
   ]
  },
  {
   "cell_type": "code",
   "execution_count": null,
   "metadata": {},
   "outputs": [],
   "source": [
    "panglao_markers_human = panglao_markers.loc[np.vectorize(\n",
    "    lambda x: bool(re.search(\"Hs\", x))\n",
    ")(panglao_markers[\"species\"]), :]\n",
    "panglao_markers_human.head()"
   ]
  },
  {
   "cell_type": "markdown",
   "metadata": {},
   "source": [
    "### Extract and convert mouse cell type markers"
   ]
  },
  {
   "cell_type": "code",
   "execution_count": null,
   "metadata": {},
   "outputs": [],
   "source": [
    "human_mouse_ortholog = pd.read_csv(\n",
    "    \"../../Datasets/ortholog/Ensembl/orthology/human_mouse.csv\", header=None,\n",
    "    names=[\"ENSG\", \"human_gene_symbol\", \"ENMUSG\", \"mouse_gene_symbol\", \"ortholog_type\"],\n",
    "    usecols=[\"human_gene_symbol\", \"mouse_gene_symbol\"]\n",
    ")\n",
    "human_mouse_ortholog.head()"
   ]
  },
  {
   "cell_type": "code",
   "execution_count": null,
   "metadata": {},
   "outputs": [],
   "source": [
    "panglao_markers_mouse = panglao_markers.loc[np.vectorize(\n",
    "    lambda x: bool(re.search(\"Mm\", x))\n",
    ")(panglao_markers[\"species\"]), :]\n",
    "panglao_markers_mouse = panglao_markers_mouse.merge(\n",
    "    human_mouse_ortholog,\n",
    "    left_on=\"official gene symbol\",\n",
    "    right_on=\"human_gene_symbol\"\n",
    ")\n",
    "panglao_markers_mouse[\"official gene symbol\"] = panglao_markers_mouse[\"mouse_gene_symbol\"]\n",
    "del panglao_markers_mouse[\"human_gene_symbol\"], panglao_markers_mouse[\"mouse_gene_symbol\"]\n",
    "panglao_markers_mouse.head()"
   ]
  },
  {
   "cell_type": "markdown",
   "metadata": {},
   "source": [
    "## Pancreas"
   ]
  },
  {
   "cell_type": "markdown",
   "metadata": {},
   "source": [
    "### Clean data"
   ]
  },
  {
   "cell_type": "code",
   "execution_count": null,
   "metadata": {
    "scrolled": true
   },
   "outputs": [],
   "source": [
    "blast = cb.blast.BLAST.load(\"../../Results/Cell_BLAST/Pancreas/seed_0/blast\")\n",
    "blast.models = [\n",
    "    cb.directi.DIRECTi.load(\n",
    "        f\"../../Results/Cell_BLAST/Baron_human+Xin_2016+Lawlor/dim_10_rmbatch0.01/seed_{i}\"\n",
    "    ) for i in range(16)\n",
    "]  # We are not directly using this BLAST object for querying so it's okay to override models\n",
    "blast.ref.obs[\"cell_ontology_class\"] = pd.Categorical(blast.ref.obs[\"cell_ontology_class\"])  # Make colors consistent"
   ]
  },
  {
   "cell_type": "code",
   "execution_count": null,
   "metadata": {},
   "outputs": [],
   "source": [
    "blast.ref.latent = blast.models[0].inference(blast.ref)\n",
    "ax = blast.ref.visualize_latent(\"cell_ontology_class\", method=\"UMAP\", dr_kws=dict(min_dist=0.5))"
   ]
  },
  {
   "cell_type": "markdown",
   "metadata": {},
   "source": [
    "Cell type annotation of some cells may not be reliable, which could significantly confuse neighbor-based gradient analysis (especially the subgroup of ductal cells located closer to acinar cells), so we remove these ambiguous cells in advance."
   ]
  },
  {
   "cell_type": "code",
   "execution_count": null,
   "metadata": {},
   "outputs": [],
   "source": [
    "blast.ref.obs[\"silhouette\"] = sklearn.metrics.silhouette_samples(\n",
    "    blast.ref.latent, blast.ref.obs[\"cell_ontology_class\"])\n",
    "clean_ref = blast.ref[blast.ref.obs[\"silhouette\"] > 0.2, :]\n",
    "ax = clean_ref.visualize_latent(\"cell_ontology_class\", method=\"UMAP\")"
   ]
  },
  {
   "cell_type": "code",
   "execution_count": null,
   "metadata": {},
   "outputs": [],
   "source": [
    "used_cell_types = np.intersect1d(\n",
    "    np.unique(clean_ref.obs[\"cell_ontology_class\"]),\n",
    "    np.unique(panglao_markers_human[\"cell_ontology_class\"])\n",
    ")\n",
    "used_cell_types"
   ]
  },
  {
   "cell_type": "code",
   "execution_count": null,
   "metadata": {
    "scrolled": true
   },
   "outputs": [],
   "source": [
    "gene_sets = {\n",
    "    cell_type: np.intersect1d(panglao_markers_human.query(\n",
    "        f\"cell_ontology_class == '{cell_type}'\"\n",
    "    )[\"official gene symbol\"], blast.models[0].genes).tolist()\n",
    "    for cell_type in used_cell_types\n",
    "}\n",
    "if FILTER_GENE_SETS:\n",
    "    cell_type_mean_exprs = clean_ref.get_meta_or_var(\n",
    "        clean_ref.var_names.to_numpy().tolist() + [\"cell_ontology_class\"],\n",
    "        normalize_var=True, log_var=True\n",
    "    ).groupby(\"cell_ontology_class\").mean()\n",
    "    for cell_type in used_cell_types:\n",
    "        gene_sets[cell_type] = [\n",
    "            gene for gene in gene_sets[cell_type]\n",
    "            if cell_type in cell_type_mean_exprs.index[\n",
    "                cell_type_mean_exprs[gene].argsort()[-3:]\n",
    "            ]\n",
    "        ]\n",
    "gene_sets"
   ]
  },
  {
   "cell_type": "markdown",
   "metadata": {},
   "source": [
    "### Gradients"
   ]
  },
  {
   "cell_type": "code",
   "execution_count": null,
   "metadata": {
    "scrolled": true
   },
   "outputs": [],
   "source": [
    "nes, pval, fdr = {}, {}, {}\n",
    "for cell_type in used_cell_types:\n",
    "    print(f\"Dealing with {cell_type}...\")\n",
    "    used_ref = clean_ref[clean_ref.obs[\"cell_ontology_class\"] != cell_type, :]\n",
    "    used_query = clean_ref[clean_ref.obs[\"cell_ontology_class\"] == cell_type, :]\n",
    "    gene_grad = []\n",
    "    for model in blast.models:\n",
    "        used_blast = cb.blast.BLAST(\n",
    "            [model], used_ref, distance_metric=\"ed\"\n",
    "        )  # Skip posterior distance since we are not doing any filtering\n",
    "        hits = used_blast.query(used_query, n_neighbors=100, store_dataset=True)\n",
    "        _gene_grad = hits.gene_gradient()\n",
    "        _gene_grad = np.concatenate(_gene_grad)\n",
    "        _gene_grad = np.average(\n",
    "            _gene_grad, axis=0,\n",
    "            weights=equalizing_weights(\n",
    "                used_ref.obs[\"cell_ontology_class\"][np.concatenate(hits.hits)]\n",
    "            )\n",
    "        )\n",
    "        gene_grad.append(_gene_grad)\n",
    "    gene_grad = np.stack(gene_grad).mean(axis=0)\n",
    "    gene_grad = pd.DataFrame({0: blast.models[0].genes, 1: gene_grad})\n",
    "    try:\n",
    "        gsea_result = gp.prerank(\n",
    "            gene_grad, gene_sets.copy(),  # gp.prerank seems to modify gene sets in-place\n",
    "            outdir=f\"{PATH}/pancreas/{cell_type}\",\n",
    "            weighted_score_type=0, min_size=10, seed=0\n",
    "        )\n",
    "    except Exception:\n",
    "        print(f\"GSEA failed with {cell_type}, skipped...\")\n",
    "        continue\n",
    "    nes[cell_type] = {key: val[\"nes\"] for key, val in gsea_result.results.items()}\n",
    "    pval[cell_type] = {key: val[\"pval\"] for key, val in gsea_result.results.items()}\n",
    "    fdr[cell_type] = {key: val[\"fdr\"] for key, val in gsea_result.results.items()}"
   ]
  },
  {
   "cell_type": "code",
   "execution_count": null,
   "metadata": {},
   "outputs": [],
   "source": [
    "nes_df = pd.DataFrame.from_dict(nes, orient=\"index\")\n",
    "fdr_df = pd.DataFrame.from_dict(fdr, orient=\"index\")\n",
    "nes_df.index.name = \"cell ontology class\"\n",
    "fdr_df.index.name = \"cell ontology class\"\n",
    "successful_cell_types = np.intersect1d(nes_df.index, nes_df.columns)\n",
    "nes_df = nes_df.loc[successful_cell_types, successful_cell_types]\n",
    "fdr_df = fdr_df.loc[successful_cell_types, successful_cell_types]"
   ]
  },
  {
   "cell_type": "code",
   "execution_count": null,
   "metadata": {
    "scrolled": true
   },
   "outputs": [],
   "source": [
    "nes_df = nes_df.reset_index().melt(id_vars=\"cell ontology class\", var_name=\"PanglaoDB markers\", value_name=\"NES\")\n",
    "fdr_df = fdr_df.reset_index().melt(id_vars=\"cell ontology class\", var_name=\"PanglaoDB markers\", value_name=\"FDR\")\n",
    "nes_fdr_df = pd.merge(nes_df, fdr_df)\n",
    "nes_fdr_df[\"-log10 FDR\"] = np.minimum(-np.log10(nes_fdr_df[\"FDR\"]), 5)\n",
    "nes_fdr_df.head()"
   ]
  },
  {
   "cell_type": "code",
   "execution_count": null,
   "metadata": {},
   "outputs": [],
   "source": [
    "hue_norm = MidpointNormalize(\n",
    "    midpoint=0, vmin=min(nes_fdr_df[\"NES\"]), vmax=max(nes_fdr_df[\"NES\"]))\n",
    "sm = plt.cm.ScalarMappable(cmap=\"seismic\", norm=hue_norm)\n",
    "sm.set_array([])\n",
    "\n",
    "fig, ax = plt.subplots(figsize=(5, 4))\n",
    "ax = sns.scatterplot(\n",
    "    x=\"PanglaoDB markers\", y=\"cell ontology class\", hue=\"NES\", size=\"-log10 FDR\",\n",
    "    data=nes_fdr_df, palette=\"seismic\", hue_norm=hue_norm, sizes=(1, 300),\n",
    "    edgecolor=None, ax=ax\n",
    ")\n",
    "ax.invert_yaxis()\n",
    "ax.tick_params(axis=\"x\", labelrotation=90)\n",
    "cbar = plt.colorbar(sm)\n",
    "cbar.set_label(\"NES\", rotation=270)\n",
    "h, l = ax.get_legend_handles_labels()\n",
    "ax.legend(h[-5:], l[-5:], loc=\"center left\", bbox_to_anchor=(1.3, 0.5), frameon=False, labelspacing=1.2)\n",
    "fig.savefig(f\"{PATH}/pancreas/dotplot.pdf\", bbox_inches=\"tight\")"
   ]
  },
  {
   "cell_type": "markdown",
   "metadata": {},
   "source": [
    "## Trachea"
   ]
  },
  {
   "cell_type": "markdown",
   "metadata": {},
   "source": [
    "### Clean data"
   ]
  },
  {
   "cell_type": "code",
   "execution_count": null,
   "metadata": {
    "scrolled": true
   },
   "outputs": [],
   "source": [
    "blast = cb.blast.BLAST.load(\"../../Results/Cell_BLAST/Trachea/seed_0/blast\")\n",
    "blast.models = [\n",
    "    cb.directi.DIRECTi.load(\n",
    "        f\"../../Results/Cell_BLAST/Montoro_10x/dim_10/seed_{i}\"\n",
    "    ) for i in range(16)\n",
    "]  # We are not directly using this BLAST object for querying so it's okay to override models\n",
    "blast.ref.obs[\"cell_ontology_class\"] = pd.Categorical(blast.ref.obs[\"cell_ontology_class\"])  # Make colors consistent"
   ]
  },
  {
   "cell_type": "code",
   "execution_count": null,
   "metadata": {},
   "outputs": [],
   "source": [
    "blast.ref.latent = blast.models[0].inference(blast.ref)\n",
    "ax = blast.ref.visualize_latent(\"cell_ontology_class\", method=\"UMAP\", dr_kws=dict(min_dist=0.5))"
   ]
  },
  {
   "cell_type": "markdown",
   "metadata": {},
   "source": [
    "Cell type annotation of some cells may not be reliable, which could significantly confuse neighbor-based gradient analysis (especially the subgroup of ductal cells located closer to acinar cells), so we remove these ambiguous cells in advance."
   ]
  },
  {
   "cell_type": "code",
   "execution_count": null,
   "metadata": {},
   "outputs": [],
   "source": [
    "blast.ref.obs[\"silhouette\"] = sklearn.metrics.silhouette_samples(\n",
    "    blast.ref.latent, blast.ref.obs[\"cell_ontology_class\"])\n",
    "clean_ref = blast.ref[blast.ref.obs[\"silhouette\"] > 0.2, :]\n",
    "ax = clean_ref.visualize_latent(\"cell_ontology_class\", method=\"UMAP\")"
   ]
  },
  {
   "cell_type": "code",
   "execution_count": null,
   "metadata": {},
   "outputs": [],
   "source": [
    "used_cell_types = np.intersect1d(\n",
    "    np.unique(clean_ref.obs[\"cell_ontology_class\"]),\n",
    "    np.unique(panglao_markers_mouse[\"cell_ontology_class\"])\n",
    ")\n",
    "used_cell_types"
   ]
  },
  {
   "cell_type": "code",
   "execution_count": null,
   "metadata": {
    "scrolled": true
   },
   "outputs": [],
   "source": [
    "gene_sets = {\n",
    "    cell_type: np.intersect1d(panglao_markers_mouse.query(\n",
    "        f\"cell_ontology_class == '{cell_type}'\"\n",
    "    )[\"official gene symbol\"], blast.models[0].genes).tolist()\n",
    "    for cell_type in used_cell_types\n",
    "}\n",
    "if FILTER_GENE_SETS:\n",
    "    cell_type_mean_exprs = clean_ref.get_meta_or_var(\n",
    "        clean_ref.var_names.to_numpy().tolist() + [\"cell_ontology_class\"],\n",
    "        normalize_var=True, log_var=True\n",
    "    ).groupby(\"cell_ontology_class\").mean()\n",
    "    for cell_type in used_cell_types:\n",
    "        gene_sets[cell_type] = [\n",
    "            gene for gene in gene_sets[cell_type]\n",
    "            if cell_type in cell_type_mean_exprs.index[\n",
    "                cell_type_mean_exprs[gene].argsort()[-3:]\n",
    "            ]\n",
    "        ]\n",
    "gene_sets"
   ]
  },
  {
   "cell_type": "markdown",
   "metadata": {},
   "source": [
    "### Gradients"
   ]
  },
  {
   "cell_type": "code",
   "execution_count": null,
   "metadata": {
    "scrolled": true
   },
   "outputs": [],
   "source": [
    "nes, pval, fdr = {}, {}, {}\n",
    "for cell_type in used_cell_types:\n",
    "    print(f\"Dealing with {cell_type}...\")\n",
    "    used_ref = clean_ref[clean_ref.obs[\"cell_ontology_class\"] != cell_type, :]\n",
    "    used_query = clean_ref[clean_ref.obs[\"cell_ontology_class\"] == cell_type, :]\n",
    "    gene_grad = []\n",
    "    for model in blast.models:\n",
    "        used_blast = cb.blast.BLAST(\n",
    "            [model], used_ref, distance_metric=\"ed\"\n",
    "        )  # Skip posterior distance since we are not doing any filtering\n",
    "        hits = used_blast.query(used_query, n_neighbors=50, store_dataset=True)\n",
    "        _gene_grad = hits.gene_gradient()\n",
    "        _gene_grad = np.concatenate(_gene_grad)\n",
    "        _gene_grad = np.average(\n",
    "            _gene_grad, axis=0,\n",
    "            weights=equalizing_weights(\n",
    "                used_ref.obs[\"cell_ontology_class\"][np.concatenate(hits.hits)]\n",
    "            )\n",
    "        )\n",
    "        gene_grad.append(_gene_grad)\n",
    "    gene_grad = np.stack(gene_grad).mean(axis=0)\n",
    "    gene_grad = pd.DataFrame({0: blast.models[0].genes, 1: gene_grad})\n",
    "    try:\n",
    "        gsea_result = gp.prerank(\n",
    "            gene_grad, gene_sets.copy(),  # gp.prerank seems to modify gene sets in-place\n",
    "            outdir=f\"{PATH}/trachea/{cell_type}\",\n",
    "            weighted_score_type=0, min_size=5, seed=0\n",
    "        )\n",
    "    except Exception:\n",
    "        print(f\"GSEA failed with {cell_type}, skipped...\")\n",
    "        continue\n",
    "    nes[cell_type] = {key: val[\"nes\"] for key, val in gsea_result.results.items()}\n",
    "    pval[cell_type] = {key: val[\"pval\"] for key, val in gsea_result.results.items()}\n",
    "    fdr[cell_type] = {key: val[\"fdr\"] for key, val in gsea_result.results.items()}"
   ]
  },
  {
   "cell_type": "code",
   "execution_count": null,
   "metadata": {},
   "outputs": [],
   "source": [
    "nes_df = pd.DataFrame.from_dict(nes, orient=\"index\")\n",
    "fdr_df = pd.DataFrame.from_dict(fdr, orient=\"index\")\n",
    "nes_df.index.name = \"cell ontology class\"\n",
    "fdr_df.index.name = \"cell ontology class\"\n",
    "successful_cell_types = np.intersect1d(nes_df.index, nes_df.columns)\n",
    "nes_df = nes_df.loc[successful_cell_types, successful_cell_types]\n",
    "fdr_df = fdr_df.loc[successful_cell_types, successful_cell_types]"
   ]
  },
  {
   "cell_type": "code",
   "execution_count": null,
   "metadata": {
    "scrolled": true
   },
   "outputs": [],
   "source": [
    "nes_df = nes_df.reset_index().melt(id_vars=\"cell ontology class\", var_name=\"PanglaoDB markers\", value_name=\"NES\")\n",
    "fdr_df = fdr_df.reset_index().melt(id_vars=\"cell ontology class\", var_name=\"PanglaoDB markers\", value_name=\"FDR\")\n",
    "nes_fdr_df = pd.merge(nes_df, fdr_df)\n",
    "nes_fdr_df[\"-log10 FDR\"] = np.minimum(-np.log10(nes_fdr_df[\"FDR\"]), 6)\n",
    "nes_fdr_df.head()"
   ]
  },
  {
   "cell_type": "code",
   "execution_count": null,
   "metadata": {},
   "outputs": [],
   "source": [
    "hue_norm = MidpointNormalize(\n",
    "    midpoint=0, vmin=min(nes_fdr_df[\"NES\"]), vmax=max(nes_fdr_df[\"NES\"]))\n",
    "sm = plt.cm.ScalarMappable(cmap=\"seismic\", norm=hue_norm)\n",
    "sm.set_array([])\n",
    "\n",
    "fig, ax = plt.subplots(figsize=(5, 4))\n",
    "ax = sns.scatterplot(\n",
    "    x=\"PanglaoDB markers\", y=\"cell ontology class\", hue=\"NES\", size=\"-log10 FDR\",\n",
    "    data=nes_fdr_df, palette=\"seismic\", hue_norm=hue_norm, sizes=(1, 300),\n",
    "    edgecolor=None, ax=ax\n",
    ")\n",
    "ax.invert_yaxis()\n",
    "ax.tick_params(axis=\"x\", labelrotation=90)\n",
    "cbar = plt.colorbar(sm)\n",
    "cbar.set_label(\"NES\", rotation=270)\n",
    "h, l = ax.get_legend_handles_labels()\n",
    "ax.legend(h[-5:], l[-5:], loc=\"center left\", bbox_to_anchor=(1.3, 0.5), frameon=False, labelspacing=1.2)\n",
    "fig.savefig(f\"{PATH}/trachea/dotplot.pdf\", bbox_inches=\"tight\")"
   ]
  },
  {
   "cell_type": "markdown",
   "metadata": {},
   "source": [
    "## Lung"
   ]
  },
  {
   "cell_type": "markdown",
   "metadata": {},
   "source": [
    "### Clean data"
   ]
  },
  {
   "cell_type": "code",
   "execution_count": null,
   "metadata": {
    "scrolled": true
   },
   "outputs": [],
   "source": [
    "blast = cb.blast.BLAST.load(\"../../Results/Cell_BLAST/Lung/seed_0/blast\")\n",
    "blast.models = [\n",
    "    cb.directi.DIRECTi.load(\n",
    "        f\"../../Results/Cell_BLAST/Quake_10x_Lung/dim_10/seed_{i}\"\n",
    "    ) for i in range(16)\n",
    "]  # We are not directly using this BLAST object for querying so it's okay to override models\n",
    "blast.ref.obs[\"cell_ontology_class\"] = pd.Categorical(blast.ref.obs[\"cell_ontology_class\"])  # Make colors consistent"
   ]
  },
  {
   "cell_type": "code",
   "execution_count": null,
   "metadata": {},
   "outputs": [],
   "source": [
    "blast.ref.latent = blast.models[0].inference(blast.ref)\n",
    "ax = blast.ref.visualize_latent(\"cell_ontology_class\", method=\"UMAP\", dr_kws=dict(min_dist=0.5))"
   ]
  },
  {
   "cell_type": "markdown",
   "metadata": {},
   "source": [
    "Cell type annotation of some cells may not be reliable, which could significantly confuse neighbor-based gradient analysis (especially the subgroup of ductal cells located closer to acinar cells), so we remove these ambiguous cells in advance."
   ]
  },
  {
   "cell_type": "code",
   "execution_count": null,
   "metadata": {},
   "outputs": [],
   "source": [
    "blast.ref.obs[\"silhouette\"] = sklearn.metrics.silhouette_samples(\n",
    "    blast.ref.latent, blast.ref.obs[\"cell_ontology_class\"])\n",
    "clean_ref = blast.ref[np.logical_and(\n",
    "    blast.ref.obs[\"silhouette\"] > 0.2,\n",
    "    blast.ref.obs[\"cell_ontology_class\"] != \"stromal cell\"\n",
    "    # Stromal cells are removed because of significant heterogeneity\n",
    "), :]\n",
    "ax = clean_ref.visualize_latent(\"cell_ontology_class\", method=\"UMAP\")"
   ]
  },
  {
   "cell_type": "code",
   "execution_count": null,
   "metadata": {},
   "outputs": [],
   "source": [
    "used_cell_types = np.intersect1d(\n",
    "    np.unique(clean_ref.obs[\"cell_ontology_class\"]),\n",
    "    np.unique(panglao_markers_mouse[\"cell_ontology_class\"])\n",
    ")\n",
    "used_cell_types"
   ]
  },
  {
   "cell_type": "code",
   "execution_count": null,
   "metadata": {
    "scrolled": true
   },
   "outputs": [],
   "source": [
    "gene_sets = {\n",
    "    cell_type: np.intersect1d(panglao_markers_mouse.query(\n",
    "        f\"cell_ontology_class == '{cell_type}'\"\n",
    "    )[\"official gene symbol\"], blast.models[0].genes).tolist()\n",
    "    for cell_type in used_cell_types\n",
    "}\n",
    "if FILTER_GENE_SETS:\n",
    "    cell_type_mean_exprs = clean_ref.get_meta_or_var(\n",
    "        clean_ref.var_names.to_numpy().tolist() + [\"cell_ontology_class\"],\n",
    "        normalize_var=True, log_var=True\n",
    "    ).groupby(\"cell_ontology_class\").mean()\n",
    "    for cell_type in used_cell_types:\n",
    "        gene_sets[cell_type] = [\n",
    "            gene for gene in gene_sets[cell_type]\n",
    "            if cell_type in cell_type_mean_exprs.index[\n",
    "                cell_type_mean_exprs[gene].argsort()[-3:]\n",
    "            ]\n",
    "        ]\n",
    "gene_sets"
   ]
  },
  {
   "cell_type": "markdown",
   "metadata": {},
   "source": [
    "### Gradients"
   ]
  },
  {
   "cell_type": "code",
   "execution_count": null,
   "metadata": {
    "scrolled": true
   },
   "outputs": [],
   "source": [
    "nes, pval, fdr = {}, {}, {}\n",
    "for cell_type in used_cell_types:\n",
    "    print(f\"Dealing with {cell_type}...\")\n",
    "    used_ref = clean_ref[clean_ref.obs[\"cell_ontology_class\"] != cell_type, :]\n",
    "    used_query = clean_ref[clean_ref.obs[\"cell_ontology_class\"] == cell_type, :]\n",
    "    gene_grad = []\n",
    "    for model in blast.models:\n",
    "        used_blast = cb.blast.BLAST(\n",
    "            [model], used_ref, distance_metric=\"ed\"\n",
    "        )  # Skip posterior distance since we are not doing any filtering\n",
    "        hits = used_blast.query(used_query, n_neighbors=50, store_dataset=True)\n",
    "        _gene_grad = hits.gene_gradient()\n",
    "        _gene_grad = np.concatenate(_gene_grad)\n",
    "        _gene_grad = np.average(\n",
    "            _gene_grad, axis=0,\n",
    "            weights=equalizing_weights(\n",
    "                used_ref.obs[\"cell_ontology_class\"][np.concatenate(hits.hits)]\n",
    "            )\n",
    "        )\n",
    "        gene_grad.append(_gene_grad)\n",
    "    gene_grad = np.stack(gene_grad).mean(axis=0)\n",
    "    gene_grad = pd.DataFrame({0: blast.models[0].genes, 1: gene_grad})\n",
    "    try:\n",
    "        gsea_result = gp.prerank(\n",
    "            gene_grad, gene_sets.copy(),  # gp.prerank seems to modify gene sets in-place\n",
    "            outdir=f\"{PATH}/lung/{cell_type}\",\n",
    "            weighted_score_type=0, min_size=10, seed=0\n",
    "        )\n",
    "    except Exception:\n",
    "        print(f\"GSEA failed with {cell_type}, skipped...\")\n",
    "        continue\n",
    "    nes[cell_type] = {key: val[\"nes\"] for key, val in gsea_result.results.items()}\n",
    "    pval[cell_type] = {key: val[\"pval\"] for key, val in gsea_result.results.items()}\n",
    "    fdr[cell_type] = {key: val[\"fdr\"] for key, val in gsea_result.results.items()}"
   ]
  },
  {
   "cell_type": "code",
   "execution_count": null,
   "metadata": {},
   "outputs": [],
   "source": [
    "nes_df = pd.DataFrame.from_dict(nes, orient=\"index\")\n",
    "fdr_df = pd.DataFrame.from_dict(fdr, orient=\"index\")\n",
    "nes_df.index.name = \"cell ontology class\"\n",
    "fdr_df.index.name = \"cell ontology class\"\n",
    "successful_cell_types = np.intersect1d(nes_df.index, nes_df.columns)\n",
    "nes_df = nes_df.loc[successful_cell_types, successful_cell_types]\n",
    "fdr_df = fdr_df.loc[successful_cell_types, successful_cell_types]"
   ]
  },
  {
   "cell_type": "code",
   "execution_count": null,
   "metadata": {
    "scrolled": true
   },
   "outputs": [],
   "source": [
    "nes_df = nes_df.reset_index().melt(id_vars=\"cell ontology class\", var_name=\"PanglaoDB markers\", value_name=\"NES\")\n",
    "fdr_df = fdr_df.reset_index().melt(id_vars=\"cell ontology class\", var_name=\"PanglaoDB markers\", value_name=\"FDR\")\n",
    "nes_fdr_df = pd.merge(nes_df, fdr_df)\n",
    "nes_fdr_df[\"-log10 FDR\"] = np.minimum(-np.log10(nes_fdr_df[\"FDR\"]), 6)\n",
    "nes_fdr_df.head()"
   ]
  },
  {
   "cell_type": "code",
   "execution_count": null,
   "metadata": {},
   "outputs": [],
   "source": [
    "hue_norm = MidpointNormalize(\n",
    "    midpoint=0, vmin=min(nes_fdr_df[\"NES\"]), vmax=max(nes_fdr_df[\"NES\"]))\n",
    "sm = plt.cm.ScalarMappable(cmap=\"seismic\", norm=hue_norm)\n",
    "sm.set_array([])\n",
    "\n",
    "fig, ax = plt.subplots(figsize=(5, 4))\n",
    "ax = sns.scatterplot(\n",
    "    x=\"PanglaoDB markers\", y=\"cell ontology class\", hue=\"NES\", size=\"-log10 FDR\",\n",
    "    data=nes_fdr_df, palette=\"seismic\", hue_norm=hue_norm, sizes=(1, 300),\n",
    "    edgecolor=None, ax=ax\n",
    ")\n",
    "ax.invert_yaxis()\n",
    "ax.tick_params(axis=\"x\", labelrotation=90)\n",
    "cbar = plt.colorbar(sm)\n",
    "cbar.set_label(\"NES\", rotation=270)\n",
    "h, l = ax.get_legend_handles_labels()\n",
    "ax.legend(h[-5:], l[-5:], loc=\"center left\", bbox_to_anchor=(1.3, 0.5), frameon=False, labelspacing=1.2)\n",
    "fig.savefig(f\"{PATH}/lung/dotplot.pdf\", bbox_inches=\"tight\")"
   ]
  },
  {
   "cell_type": "markdown",
   "metadata": {},
   "source": [
    "## Mammary gland"
   ]
  },
  {
   "cell_type": "markdown",
   "metadata": {},
   "source": [
    "PanglaoDB has this exact dataset, with each of the eight donors as a separate dataset, but their cell type annotations are largely inconsistent with the original publication. E.g., according to PanglaoDB, both of the two NP donors contain: \"luminal epithelial cells\" and \"myoepithelial cells\", while the first NP donor also contains \"mammary epithelial cells\". However, in the original publication, the two NP donors have similar cell type composition, including: \"basal cell\" / \"bsl\", \"luminal progenitor\" / \"lp\", \"hormone sensing progenitor\" / \"hsp\", \"hormone sensing differentiated\" / \"hsd\". Except for the basal cells, all other cell types are labeled as \"luminal epithelial cell of mammary gland\" in terms of cell ontology."
   ]
  },
  {
   "cell_type": "markdown",
   "metadata": {},
   "source": [
    "![PanglaoDB_NP1](https://panglaodb.se/plots/SRA625553_SRS2641016.tSNE_w_labels.png)\n",
    "![PanglaoDB_NP2](https://panglaodb.se/plots/SRA625553_SRS2641017.tSNE_w_labels.png)"
   ]
  },
  {
   "cell_type": "markdown",
   "metadata": {},
   "source": [
    "After checking PanglaoDB marker genes, it appears that many PanglaoDB markers assigned to \"Luminal epithelial cells\" are indeed luminal markers (mostly hormone sensing cells), but PanglaoDB markers in \"Mammary epithelial cells\" contains markers for all kinds of mammary epithelical cell types.\n",
    "\n",
    "As such, we discard the \"Mammary epithelical cells\" category in PanglaoDB markers, and use \"Luminal epithelial cells\" markers for cell ontology \"luminal epithelial cell of mammary gland\", and \"Myoepithelial cells\" markers for cell ontology \"myoepithelial cell of mammary gland\"."
   ]
  },
  {
   "cell_type": "markdown",
   "metadata": {},
   "source": [
    "### Clean data"
   ]
  },
  {
   "cell_type": "code",
   "execution_count": null,
   "metadata": {},
   "outputs": [],
   "source": [
    "blast = cb.blast.BLAST.load(\"../../Results/Cell_BLAST/Mammary_Gland/seed_0/blast\")\n",
    "blast.models = [\n",
    "    cb.directi.DIRECTi.load(\n",
    "        f\"../../Results/Cell_BLAST/Bach/dim_10/seed_{i}\"\n",
    "    ) for i in range(16)\n",
    "]  # We are not directly using this BLAST object for querying so it's okay to override models\n",
    "blast.ref.obs[\"cell_ontology_class\"] = pd.Categorical(blast.ref.obs[\"cell_ontology_class\"])"
   ]
  },
  {
   "cell_type": "code",
   "execution_count": null,
   "metadata": {},
   "outputs": [],
   "source": [
    "blast.ref.latent = blast.models[0].inference(blast.ref)\n",
    "ax = blast.ref.visualize_latent(\"cell_ontology_class\", method=\"UMAP\", dr_kws=dict(min_dist=0.5))"
   ]
  },
  {
   "cell_type": "markdown",
   "metadata": {},
   "source": [
    "Cell type annotation of some cells may not be reliable, which could significantly confuse neighbor-based gradient analysis (especially the subgroup of ductal cells located closer to acinar cells), so we remove these ambiguous cells in advance."
   ]
  },
  {
   "cell_type": "code",
   "execution_count": null,
   "metadata": {},
   "outputs": [],
   "source": [
    "blast.ref.obs[\"silhouette\"] = sklearn.metrics.silhouette_samples(\n",
    "    blast.ref.latent, blast.ref.obs[\"cell_ontology_class\"])\n",
    "clean_ref = blast.ref[blast.ref.obs[\"silhouette\"] > 0.25, :]\n",
    "ax = clean_ref.visualize_latent(\"cell_ontology_class\", method=\"UMAP\")"
   ]
  },
  {
   "cell_type": "code",
   "execution_count": null,
   "metadata": {},
   "outputs": [],
   "source": [
    "used_cell_types = np.intersect1d(\n",
    "    np.unique(clean_ref.obs[\"cell_ontology_class\"]),\n",
    "    np.unique(panglao_markers_mouse[\"cell_ontology_class\"])\n",
    ")\n",
    "used_cell_types"
   ]
  },
  {
   "cell_type": "code",
   "execution_count": null,
   "metadata": {
    "scrolled": true
   },
   "outputs": [],
   "source": [
    "gene_sets = {\n",
    "    cell_type: np.intersect1d(panglao_markers_mouse.query(\n",
    "        f\"cell_ontology_class == '{cell_type}'\"\n",
    "    )[\"official gene symbol\"], blast.models[0].genes).tolist()\n",
    "    for cell_type in used_cell_types\n",
    "}\n",
    "if FILTER_GENE_SETS:\n",
    "    cell_type_mean_exprs = clean_ref.get_meta_or_var(\n",
    "        clean_ref.var_names.to_numpy().tolist() + [\"cell_ontology_class\"],\n",
    "        normalize_var=True, log_var=True\n",
    "    ).groupby(\"cell_ontology_class\").mean()\n",
    "    for cell_type in used_cell_types:\n",
    "        gene_sets[cell_type] = [\n",
    "            gene for gene in gene_sets[cell_type]\n",
    "            if cell_type in cell_type_mean_exprs.index[\n",
    "                cell_type_mean_exprs[gene].argsort()[-3:]\n",
    "            ]\n",
    "        ]\n",
    "gene_sets"
   ]
  },
  {
   "cell_type": "markdown",
   "metadata": {},
   "source": [
    "### Gradients"
   ]
  },
  {
   "cell_type": "code",
   "execution_count": null,
   "metadata": {
    "scrolled": true
   },
   "outputs": [],
   "source": [
    "nes, pval, fdr = {}, {}, {}\n",
    "for cell_type in used_cell_types:\n",
    "    print(f\"Dealing with {cell_type}...\")\n",
    "    used_ref = clean_ref[clean_ref.obs[\"cell_ontology_class\"] != cell_type, :]\n",
    "    used_query = clean_ref[clean_ref.obs[\"cell_ontology_class\"] == cell_type, :]\n",
    "    gene_grad = []\n",
    "    for model in blast.models:\n",
    "        used_blast = cb.blast.BLAST(\n",
    "            [model], used_ref, distance_metric=\"ed\"\n",
    "        )  # Skip posterior distance since we are not doing any filtering\n",
    "        hits = used_blast.query(used_query, n_neighbors=100, store_dataset=True)\n",
    "        _gene_grad = hits.gene_gradient()\n",
    "        _gene_grad = np.concatenate(_gene_grad)\n",
    "        _gene_grad = np.average(\n",
    "            _gene_grad, axis=0,\n",
    "            weights=equalizing_weights(\n",
    "                used_ref.obs[\"cell_ontology_class\"][np.concatenate(hits.hits)]\n",
    "            )\n",
    "        )\n",
    "        gene_grad.append(_gene_grad)\n",
    "    gene_grad = np.stack(gene_grad).mean(axis=0)\n",
    "    gene_grad = pd.DataFrame({0: blast.models[0].genes, 1: gene_grad})\n",
    "    try:\n",
    "        gsea_result = gp.prerank(\n",
    "            gene_grad, gene_sets.copy(),  # gp.prerank seems to modify gene sets in-place\n",
    "            outdir=f\"{PATH}/mammary_gland/{cell_type}\",\n",
    "            weighted_score_type=0, min_size=10, seed=0\n",
    "        )\n",
    "    except Exception:\n",
    "        print(f\"GSEA failed with {cell_type}, skipped...\")\n",
    "        continue\n",
    "    nes[cell_type] = {key: val[\"nes\"] for key, val in gsea_result.results.items()}\n",
    "    pval[cell_type] = {key: val[\"pval\"] for key, val in gsea_result.results.items()}\n",
    "    fdr[cell_type] = {key: val[\"fdr\"] for key, val in gsea_result.results.items()}"
   ]
  },
  {
   "cell_type": "code",
   "execution_count": null,
   "metadata": {},
   "outputs": [],
   "source": [
    "nes_df = pd.DataFrame.from_dict(nes, orient=\"index\")\n",
    "fdr_df = pd.DataFrame.from_dict(fdr, orient=\"index\")\n",
    "nes_df.index.name = \"cell ontology class\"\n",
    "fdr_df.index.name = \"cell ontology class\"\n",
    "successful_cell_types = np.intersect1d(nes_df.index, nes_df.columns)\n",
    "nes_df = nes_df.loc[successful_cell_types, successful_cell_types]\n",
    "fdr_df = fdr_df.loc[successful_cell_types, successful_cell_types]"
   ]
  },
  {
   "cell_type": "code",
   "execution_count": null,
   "metadata": {
    "scrolled": true
   },
   "outputs": [],
   "source": [
    "nes_df = nes_df.reset_index().melt(id_vars=\"cell ontology class\", var_name=\"PanglaoDB markers\", value_name=\"NES\")\n",
    "fdr_df = fdr_df.reset_index().melt(id_vars=\"cell ontology class\", var_name=\"PanglaoDB markers\", value_name=\"FDR\")\n",
    "nes_fdr_df = pd.merge(nes_df, fdr_df)\n",
    "nes_fdr_df[\"-log10 FDR\"] = np.minimum(-np.log10(nes_fdr_df[\"FDR\"]), 6)\n",
    "nes_fdr_df.head()"
   ]
  },
  {
   "cell_type": "code",
   "execution_count": null,
   "metadata": {},
   "outputs": [],
   "source": [
    "hue_norm = MidpointNormalize(\n",
    "    midpoint=0, vmin=min(nes_fdr_df[\"NES\"]), vmax=max(nes_fdr_df[\"NES\"]))\n",
    "sm = plt.cm.ScalarMappable(cmap=\"seismic\", norm=hue_norm)\n",
    "sm.set_array([])\n",
    "\n",
    "fig, ax = plt.subplots(figsize=(5, 4))\n",
    "ax = sns.scatterplot(\n",
    "    x=\"PanglaoDB markers\", y=\"cell ontology class\", hue=\"NES\", size=\"-log10 FDR\",\n",
    "    data=nes_fdr_df, palette=\"seismic\", hue_norm=hue_norm, sizes=(1, 300),\n",
    "    edgecolor=None, ax=ax\n",
    ")\n",
    "ax.invert_yaxis()\n",
    "ax.tick_params(axis=\"x\", labelrotation=90)\n",
    "cbar = plt.colorbar(sm)\n",
    "cbar.set_label(\"NES\", rotation=270)\n",
    "h, l = ax.get_legend_handles_labels()\n",
    "ax.legend(h[-6:], l[-6:], loc=\"center left\", bbox_to_anchor=(1.3, 0.5), frameon=False, labelspacing=1.2)\n",
    "fig.savefig(f\"{PATH}/mammary_gland/dotplot.pdf\", bbox_inches=\"tight\")"
   ]
  }
 ],
 "metadata": {
  "kernelspec": {
   "display_name": "Python 3",
   "language": "python",
   "name": "python3"
  },
  "language_info": {
   "codemirror_mode": {
    "name": "ipython",
    "version": 3
   },
   "file_extension": ".py",
   "mimetype": "text/x-python",
   "name": "python",
   "nbconvert_exporter": "python",
   "pygments_lexer": "ipython3",
   "version": "3.6.8"
  },
  "notify_time": "10",
  "toc": {
   "base_numbering": 1,
   "nav_menu": {},
   "number_sections": true,
   "sideBar": true,
   "skip_h1_title": false,
   "title_cell": "Table of Contents",
   "title_sidebar": "Contents",
   "toc_cell": false,
   "toc_position": {
    "height": "calc(100% - 180px)",
    "left": "10px",
    "top": "150px",
    "width": "215.99264526367188px"
   },
   "toc_section_display": true,
   "toc_window_display": true
  },
  "varInspector": {
   "cols": {
    "lenName": 16,
    "lenType": 16,
    "lenVar": 40
   },
   "kernels_config": {
    "python": {
     "delete_cmd_postfix": "",
     "delete_cmd_prefix": "del ",
     "library": "var_list.py",
     "varRefreshCmd": "print(var_dic_list())"
    },
    "r": {
     "delete_cmd_postfix": ") ",
     "delete_cmd_prefix": "rm(",
     "library": "var_list.r",
     "varRefreshCmd": "cat(var_dic_list()) "
    }
   },
   "types_to_exclude": [
    "module",
    "function",
    "builtin_function_or_method",
    "instance",
    "_Feature"
   ],
   "window_display": false
  }
 },
 "nbformat": 4,
 "nbformat_minor": 2
}
