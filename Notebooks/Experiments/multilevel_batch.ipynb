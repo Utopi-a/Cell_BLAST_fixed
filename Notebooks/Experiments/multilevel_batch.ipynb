{
 "cells": [
  {
   "cell_type": "code",
   "execution_count": null,
   "metadata": {
    "ExecuteTime": {
     "end_time": "2019-07-19T02:49:11.329572Z",
     "start_time": "2019-07-19T02:49:09.255943Z"
    }
   },
   "outputs": [],
   "source": [
    "import os\n",
    "import subprocess\n",
    "import numpy as np\n",
    "import pandas as pd\n",
    "import matplotlib.pyplot as plt\n",
    "import matplotlib.patches as mpatches\n",
    "from mpl_toolkits.mplot3d import Axes3D\n",
    "import seaborn as sns\n",
    "\n",
    "import Cell_BLAST as cb\n",
    "import exputils\n",
    "\n",
    "rgb2hex = lambda rgb: '#%02x%02x%02x' % tuple(np.round(item * 255).astype(int) for item in rgb)"
   ]
  },
  {
   "cell_type": "code",
   "execution_count": null,
   "metadata": {
    "ExecuteTime": {
     "end_time": "2019-07-19T02:49:11.576383Z",
     "start_time": "2019-07-19T02:49:11.336898Z"
    }
   },
   "outputs": [],
   "source": [
    "os.environ[\"CUDA_VISIBLE_DEVICES\"] = exputils.pick_gpu_lowest_memory()\n",
    "cb.config.RANDOM_SEED = 0\n",
    "cb.config.N_JOBS = 4\n",
    "plt.rcParams['svg.fonttype'] = \"none\"\n",
    "plt.rcParams['font.family'] = \"Arial\"\n",
    "PATH = \"./multilevel_batch\"\n",
    "if not os.path.exists(PATH):\n",
    "    os.makedirs(PATH)"
   ]
  },
  {
   "cell_type": "markdown",
   "metadata": {},
   "source": [
    "## Read data"
   ]
  },
  {
   "cell_type": "code",
   "execution_count": null,
   "metadata": {
    "ExecuteTime": {
     "end_time": "2019-07-19T02:52:42.287498Z",
     "start_time": "2019-07-19T02:52:39.398304Z"
    }
   },
   "outputs": [],
   "source": [
    "dataset = cb.data.ExprDataSet.read_dataset(\n",
    "    \"../../Datasets/data/Baron_human+Muraro+Enge+Segerstolpe+Xin_2016+Lawlor/data.h5\")\n",
    "dataset.obs[\"Cell ontology class\"] = pd.Categorical(dataset.obs[\"cell_ontology_class\"])\n",
    "dataset.obs[\"Dataset name\"] = pd.Categorical(dataset.obs[\"dataset_name\"])"
   ]
  },
  {
   "cell_type": "code",
   "execution_count": null,
   "metadata": {
    "ExecuteTime": {
     "end_time": "2019-07-19T02:52:42.763135Z",
     "start_time": "2019-07-19T02:52:42.750192Z"
    }
   },
   "outputs": [],
   "source": [
    "dataset.latent = cb.data.read_hybrid_path(\n",
    "    \"../../Results/Cell_BLAST/Baron_human+Muraro+Enge+Segerstolpe+Xin_2016+Lawlor/\"\n",
    "    \"dim_10_rmbatch0.01/seed_0/result.h5//latent\"\n",
    ")\n",
    "tsne = cb.data.read_hybrid_path(\n",
    "    \"../../Results/Cell_BLAST/Baron_human+Muraro+Enge+Segerstolpe+Xin_2016+Lawlor/\"\n",
    "    \"dim_10_rmbatch0.01/seed_0/tSNE.h5//visualization\"\n",
    ")\n",
    "dataset.obs[\"tSNE1\"] = tsne[:, 0]\n",
    "dataset.obs[\"tSNE2\"] = tsne[:, 1]"
   ]
  },
  {
   "cell_type": "markdown",
   "metadata": {},
   "source": [
    "## Single-level"
   ]
  },
  {
   "cell_type": "code",
   "execution_count": null,
   "metadata": {
    "ExecuteTime": {
     "end_time": "2019-07-19T02:52:49.348716Z",
     "start_time": "2019-07-19T02:52:43.436165Z"
    }
   },
   "outputs": [],
   "source": [
    "dataset.obs.loc[\n",
    "    dataset.obs[\"dataset_name\"] == \"Baron_human\", \"Baron_human donor\"\n",
    "] = dataset.obs[\"donor\"]\n",
    "dataset.obs[\"Baron_human donor\"] = pd.Categorical(dataset.obs[\"Baron_human donor\"])\n",
    "fig, ax = plt.subplots(figsize=(4, 4))\n",
    "ax = dataset.visualize_latent(ax=ax, scatter_kws=dict(color=\"#CCCCCC\", rasterized=True))\n",
    "ax = dataset.visualize_latent(\"Baron_human donor\", ax=ax, scatter_kws=dict(rasterized=True))\n",
    "sub_dataset = dataset[~cb.utils.isnan(dataset.obs[\"Baron_human donor\"]), :]\n",
    "sas = cb.metrics.seurat_alignment_score(\n",
    "    sub_dataset.latent,\n",
    "    cb.utils.encode_integer(sub_dataset.obs[\"Baron_human donor\"])[0],\n",
    "    n=10, k=0.01\n",
    ")\n",
    "ax.legend(\n",
    "    frameon=False, bbox_to_anchor=(1.0, 0.5), loc=\"center left\"\n",
    ").get_texts()[0].set_text(f\"Baron_human donor\\n(SAS = {sas:.3f})\")\n",
    "fig.savefig(os.path.join(PATH, \"simple_baron_human.pdf\"), dpi=300, bbox_inches=\"tight\")"
   ]
  },
  {
   "cell_type": "code",
   "execution_count": null,
   "metadata": {
    "ExecuteTime": {
     "end_time": "2019-07-19T02:52:55.736240Z",
     "start_time": "2019-07-19T02:52:52.706530Z"
    }
   },
   "outputs": [],
   "source": [
    "dataset.obs.loc[\n",
    "    dataset.obs[\"dataset_name\"] == \"Enge\", \"Enge donor\"\n",
    "] = dataset.obs[\"donor\"]\n",
    "dataset.obs[\"Enge donor\"] = pd.Categorical(dataset.obs[\"Enge donor\"])\n",
    "fig, ax = plt.subplots(figsize=(4, 4))\n",
    "ax = dataset.visualize_latent(ax=ax, scatter_kws=dict(color=\"#CCCCCC\", rasterized=True))\n",
    "ax = dataset.visualize_latent(\"Enge donor\", ax=ax, scatter_kws=dict(rasterized=True))\n",
    "sub_dataset = dataset[~cb.utils.isnan(dataset.obs[\"Enge donor\"]), :]\n",
    "sas = cb.metrics.seurat_alignment_score(\n",
    "    sub_dataset.latent,\n",
    "    cb.utils.encode_integer(sub_dataset.obs[\"Enge donor\"])[0],\n",
    "    n=10, k=0.01\n",
    ")\n",
    "ax.legend(\n",
    "    frameon=False, bbox_to_anchor=(1.0, 0.5), loc=\"center left\"\n",
    ").get_texts()[0].set_text(f\"Enge donor\\n(SAS = {sas:.3f})\")\n",
    "fig.savefig(os.path.join(PATH, \"simple_enge.pdf\"), dpi=300, bbox_inches=\"tight\")"
   ]
  },
  {
   "cell_type": "code",
   "execution_count": null,
   "metadata": {
    "ExecuteTime": {
     "end_time": "2019-07-19T02:52:58.473607Z",
     "start_time": "2019-07-19T02:52:55.745183Z"
    }
   },
   "outputs": [],
   "source": [
    "dataset.obs.loc[\n",
    "    dataset.obs[\"dataset_name\"] == \"Muraro\", \"Muraro donor\"\n",
    "] = dataset.obs[\"donor\"]\n",
    "dataset.obs[\"Muraro donor\"] = pd.Categorical(dataset.obs[\"Muraro donor\"])\n",
    "fig, ax = plt.subplots(figsize=(4, 4))\n",
    "ax = dataset.visualize_latent(ax=ax, scatter_kws=dict(color=\"#CCCCCC\", rasterized=True))\n",
    "ax = dataset.visualize_latent(\"Muraro donor\", ax=ax, scatter_kws=dict(rasterized=True))\n",
    "sub_dataset = dataset[~cb.utils.isnan(dataset.obs[\"Muraro donor\"]), :]\n",
    "sas = cb.metrics.seurat_alignment_score(\n",
    "    sub_dataset.latent,\n",
    "    cb.utils.encode_integer(sub_dataset.obs[\"Muraro donor\"])[0],\n",
    "    n=10, k=0.01\n",
    ")\n",
    "ax.legend(\n",
    "    frameon=False, bbox_to_anchor=(1.0, 0.5), loc=\"center left\"\n",
    ").get_texts()[0].set_text(f\"Muraro donor\\n(SAS = {sas:.3f})\")\n",
    "fig.savefig(os.path.join(PATH, \"simple_muraro.pdf\"), dpi=300, bbox_inches=\"tight\")"
   ]
  },
  {
   "cell_type": "markdown",
   "metadata": {},
   "source": [
    "## Multi-level"
   ]
  },
  {
   "cell_type": "code",
   "execution_count": null,
   "metadata": {
    "ExecuteTime": {
     "start_time": "2019-07-18T12:56:43.414Z"
    },
    "scrolled": true
   },
   "outputs": [],
   "source": [
    "model = cb.directi.fit_DIRECTi(\n",
    "    dataset, dataset.uns[\"seurat_genes\"],\n",
    "    latent_dim=10, cat_dim=20, batch_effect=[\n",
    "        \"dataset_name\", \"Baron_human donor\", \"Enge donor\", \"Muraro donor\"\n",
    "    ],  rmbatch_module_kwargs=dict(lambda_reg=0.005),\n",
    "    epoch=200, patience=30\n",
    ")"
   ]
  },
  {
   "cell_type": "code",
   "execution_count": null,
   "metadata": {
    "ExecuteTime": {
     "start_time": "2019-07-18T12:56:43.415Z"
    }
   },
   "outputs": [],
   "source": [
    "dataset.latent = model.inference(dataset)"
   ]
  },
  {
   "cell_type": "code",
   "execution_count": null,
   "metadata": {
    "ExecuteTime": {
     "start_time": "2019-07-18T12:56:43.417Z"
    }
   },
   "outputs": [],
   "source": [
    "fig, ax = plt.subplots(figsize=(4, 4))\n",
    "ax = dataset.visualize_latent(\"Cell ontology class\", ax=ax, scatter_kws=dict(rasterized=True))\n",
    "map = cb.metrics.mean_average_precision_from_latent(\n",
    "    dataset.latent,\n",
    "    cb.utils.encode_integer(dataset.obs[\"Cell ontology class\"])[0],\n",
    "    k=0.01\n",
    ")\n",
    "ax.legend(\n",
    "    frameon=False, bbox_to_anchor=(1.0, 0.5), loc=\"center left\"\n",
    ").get_texts()[0].set_text(f\"Cell ontology class\\n(MAP = {map:.3f})\")\n",
    "fig.savefig(os.path.join(PATH, \"complex_cl.pdf\"), dpi=300, bbox_inches=\"tight\")"
   ]
  },
  {
   "cell_type": "code",
   "execution_count": null,
   "metadata": {
    "ExecuteTime": {
     "start_time": "2019-07-18T12:56:43.418Z"
    }
   },
   "outputs": [],
   "source": [
    "fig, ax = plt.subplots(figsize=(4, 4))\n",
    "ax = dataset.visualize_latent(\"Dataset name\", ax=ax, scatter_kws=dict(rasterized=True))\n",
    "sas = cb.metrics.seurat_alignment_score(\n",
    "    dataset.latent,\n",
    "    cb.utils.encode_integer(dataset.obs[\"Dataset name\"])[0],\n",
    "    n=10, k=0.01\n",
    ")\n",
    "ax.legend(\n",
    "    frameon=False, bbox_to_anchor=(1.0, 0.5), loc=\"center left\"\n",
    ").get_texts()[0].set_text(f\"Dataset name\\n(SAS = {sas:.3f})\")\n",
    "fig.savefig(os.path.join(PATH, \"complex_ds.pdf\"), dpi=300, bbox_inches=\"tight\")"
   ]
  },
  {
   "cell_type": "code",
   "execution_count": null,
   "metadata": {
    "ExecuteTime": {
     "start_time": "2019-07-18T12:56:43.419Z"
    }
   },
   "outputs": [],
   "source": [
    "fig, ax = plt.subplots(figsize=(4, 4))\n",
    "ax = dataset.visualize_latent(ax=ax, scatter_kws=dict(color=\"#CCCCCC\", rasterized=True))\n",
    "ax = dataset.visualize_latent(\"Baron_human donor\", ax=ax, scatter_kws=dict(rasterized=True))\n",
    "sub_dataset = dataset[~cb.utils.isnan(dataset.obs[\"Baron_human donor\"]), :]\n",
    "sas = cb.metrics.seurat_alignment_score(\n",
    "    sub_dataset.latent,\n",
    "    cb.utils.encode_integer(sub_dataset.obs[\"Baron_human donor\"])[0],\n",
    "    n=10, k=0.01\n",
    ")\n",
    "ax.legend(\n",
    "    frameon=False, bbox_to_anchor=(1.0, 0.5), loc=\"center left\"\n",
    ").get_texts()[0].set_text(f\"Baron_human donor\\n(SAS = {sas:.3f})\")\n",
    "fig.savefig(os.path.join(PATH, \"complex_baron_human.pdf\"), dpi=300, bbox_inches=\"tight\")"
   ]
  },
  {
   "cell_type": "code",
   "execution_count": null,
   "metadata": {
    "ExecuteTime": {
     "start_time": "2019-07-18T12:56:43.421Z"
    }
   },
   "outputs": [],
   "source": [
    "fig, ax = plt.subplots(figsize=(4, 4))\n",
    "ax = dataset.visualize_latent(ax=ax, scatter_kws=dict(color=\"#CCCCCC\", rasterized=True))\n",
    "ax = dataset.visualize_latent(\"Enge donor\", ax=ax, scatter_kws=dict(rasterized=True))\n",
    "sub_dataset = dataset[~cb.utils.isnan(dataset.obs[\"Enge donor\"]), :]\n",
    "sas = cb.metrics.seurat_alignment_score(\n",
    "    sub_dataset.latent,\n",
    "    cb.utils.encode_integer(sub_dataset.obs[\"Enge donor\"])[0],\n",
    "    n=10, k=0.01\n",
    ")\n",
    "ax.legend(\n",
    "    frameon=False, bbox_to_anchor=(1.0, 0.5), loc=\"center left\"\n",
    ").get_texts()[0].set_text(f\"Enge donor\\n(SAS = {sas:.3f})\")\n",
    "fig.savefig(os.path.join(PATH, \"complex_enge.pdf\"), dpi=300, bbox_inches=\"tight\")"
   ]
  },
  {
   "cell_type": "code",
   "execution_count": null,
   "metadata": {
    "ExecuteTime": {
     "start_time": "2019-07-18T12:56:43.422Z"
    }
   },
   "outputs": [],
   "source": [
    "fig, ax = plt.subplots(figsize=(4, 4))\n",
    "ax = dataset.visualize_latent(ax=ax, scatter_kws=dict(color=\"#CCCCCC\", rasterized=True))\n",
    "ax = dataset.visualize_latent(\"Muraro donor\", ax=ax, scatter_kws=dict(rasterized=True))\n",
    "sub_dataset = dataset[~cb.utils.isnan(dataset.obs[\"Muraro donor\"]), :]\n",
    "sas = cb.metrics.seurat_alignment_score(\n",
    "    sub_dataset.latent,\n",
    "    cb.utils.encode_integer(sub_dataset.obs[\"Muraro donor\"])[0],\n",
    "    n=10, k=0.01\n",
    ")\n",
    "ax.legend(\n",
    "    frameon=False, bbox_to_anchor=(1.0, 0.5), loc=\"center left\"\n",
    ").get_texts()[0].set_text(f\"Muraro donor\\n(SAS = {sas:.3f})\")\n",
    "fig.savefig(os.path.join(PATH, \"complex_muraro.pdf\"), dpi=300, bbox_inches=\"tight\")"
   ]
  },
  {
   "cell_type": "markdown",
   "metadata": {},
   "source": [
    "## Other methods"
   ]
  },
  {
   "cell_type": "markdown",
   "metadata": {},
   "source": [
    "### scVI"
   ]
  },
  {
   "cell_type": "code",
   "execution_count": null,
   "metadata": {},
   "outputs": [],
   "source": [
    "tsne = cb.data.read_hybrid_path(\n",
    "    \"../../Results/scVI/Baron_human+Muraro+Enge+Segerstolpe+Xin_2016+Lawlor/\"\n",
    "    \"dim_5_rmbatchNA/seed_0/tSNE.h5//visualization\"\n",
    ")\n",
    "dataset.obs[\"tSNE1\"] = tsne[:, 0]\n",
    "dataset.obs[\"tSNE2\"] = tsne[:, 1]"
   ]
  },
  {
   "cell_type": "code",
   "execution_count": null,
   "metadata": {},
   "outputs": [],
   "source": [
    "dataset.obs.loc[\n",
    "    dataset.obs[\"dataset_name\"] == \"Baron_human\", \"Baron_human donor\"\n",
    "] = dataset.obs[\"donor\"]\n",
    "dataset.obs[\"Baron_human donor\"] = pd.Categorical(dataset.obs[\"Baron_human donor\"])\n",
    "fig, ax = plt.subplots(figsize=(4, 4))\n",
    "ax = dataset.visualize_latent(ax=ax, scatter_kws=dict(color=\"#CCCCCC\", rasterized=True))\n",
    "ax = dataset.visualize_latent(\"Baron_human donor\", ax=ax, scatter_kws=dict(rasterized=True))\n",
    "fig.savefig(os.path.join(PATH, \"simple_baron_human_scvi.pdf\"), dpi=300, bbox_inches=\"tight\")"
   ]
  },
  {
   "cell_type": "markdown",
   "metadata": {},
   "source": [
    "### scPhere"
   ]
  },
  {
   "cell_type": "code",
   "execution_count": null,
   "metadata": {},
   "outputs": [],
   "source": [
    "dataset.write_dataset(os.path.join(PATH, \"data.h5\"))\n",
    "p = subprocess.Popen([\n",
    "    \"python\", \"../../Evaluation/run_scPhere.py\",\n",
    "    \"-i\", os.path.join(PATH, \"data.h5\"),\n",
    "    \"-o\", os.path.join(PATH, \"scphere.h5\"),\n",
    "    \"-g\", \"seurat_genes\",\n",
    "    \"-b\", \"dataset_name\", \"'Baron_human donor'\", \"'Enge donor'\", \"'Muraro donor'\",\n",
    "    \"-d\", \"2\", \"-s\", \"0\"\n",
    "], stdout=subprocess.PIPE, stderr=subprocess.PIPE)\n",
    "(output, err) = p.communicate()\n",
    "exit_code = p.wait()\n",
    "print(output.decode())\n",
    "print(err.decode())"
   ]
  },
  {
   "cell_type": "code",
   "execution_count": null,
   "metadata": {},
   "outputs": [],
   "source": [
    "dataset.latent = cb.data.read_hybrid_path(os.path.join(PATH, \"scphere.h5//latent\"))"
   ]
  },
  {
   "cell_type": "code",
   "execution_count": null,
   "metadata": {},
   "outputs": [],
   "source": [
    "fig = plt.figure(figsize=(8, 8))\n",
    "ax = fig.add_subplot(111, projection='3d')\n",
    "palette = sns.color_palette(\"tab20\", np.unique(dataset.obs[\"cell_ontology_class\"]).size)\n",
    "\n",
    "cmap = {\n",
    "    ct: rgb2hex(col) for ct, col in\n",
    "    zip(np.unique(dataset.obs[\"cell_ontology_class\"]), palette)\n",
    "}\n",
    "ax.scatter(\n",
    "    dataset.obs[\"latent_1\"],\n",
    "    dataset.obs[\"latent_2\"],\n",
    "    dataset.obs[\"latent_3\"],\n",
    "    c=[cmap[item] for item in dataset.obs[\"cell_ontology_class\"]],\n",
    "    s=5.0, rasterized=True\n",
    ")\n",
    "map = cb.metrics.mean_average_precision_from_latent(dataset.latent, dataset.obs[\"cell_ontology_class\"], k=0.01)\n",
    "ax.xaxis.pane.set_color(\"#EEEEEE\")\n",
    "ax.yaxis.pane.set_color(\"#EEEEEE\")\n",
    "ax.zaxis.pane.set_color(\"#EEEEEE\")\n",
    "plt.legend(\n",
    "    handles=[\n",
    "        mpatches.Patch(color=c, label=l)\n",
    "        for l, c in cmap.items()\n",
    "    ], frameon=False, bbox_to_anchor=(1.0, 0.5), loc=\"center left\",\n",
    "    title=f\"Cell ontology class (MAP = {map:.3f})\"\n",
    ")\n",
    "fig.savefig(os.path.join(PATH, \"scphere_complex_cl.pdf\"), dpi=300, bbox_inches=\"tight\")"
   ]
  },
  {
   "cell_type": "code",
   "execution_count": null,
   "metadata": {},
   "outputs": [],
   "source": [
    "fig = plt.figure(figsize=(8, 8))\n",
    "ax = fig.add_subplot(111, projection='3d')\n",
    "palette = sns.color_palette(\"tab10\", np.unique(dataset.obs[\"dataset_name\"]).size)\n",
    "cmap = {\n",
    "    ct: rgb2hex(col) for ct, col in\n",
    "    zip(np.unique(dataset.obs[\"dataset_name\"]), palette)\n",
    "}\n",
    "ax.scatter(\n",
    "    dataset.obs[\"latent_1\"],\n",
    "    dataset.obs[\"latent_2\"],\n",
    "    dataset.obs[\"latent_3\"],\n",
    "    c=[cmap[item] for item in dataset.obs[\"dataset_name\"]],\n",
    "    s=5.0, rasterized=True\n",
    ")\n",
    "sas = cb.metrics.seurat_alignment_score(dataset.latent, dataset.obs[\"dataset_name\"], n=10, k=0.01)\n",
    "ax.xaxis.pane.set_color(\"#EEEEEE\")\n",
    "ax.yaxis.pane.set_color(\"#EEEEEE\")\n",
    "ax.zaxis.pane.set_color(\"#EEEEEE\")\n",
    "plt.legend(\n",
    "    handles=[\n",
    "        mpatches.Patch(color=c, label=l)\n",
    "        for l, c in cmap.items()\n",
    "    ], frameon=False, bbox_to_anchor=(1.0, 0.5), loc=\"center left\",\n",
    "    title=f\"Dataset name\\n(SAS = {sas:.3f})\"\n",
    ")\n",
    "fig.savefig(os.path.join(PATH, \"scphere_complex_ds.pdf\"), dpi=300, bbox_inches=\"tight\")"
   ]
  },
  {
   "cell_type": "code",
   "execution_count": null,
   "metadata": {},
   "outputs": [],
   "source": [
    "fig = plt.figure(figsize=(8, 8))\n",
    "ax = fig.add_subplot(111, projection='3d')\n",
    "dataset.obs[\"Baron_human donor\"] = dataset.obs[\"Baron_human donor\"].astype(object).fillna(\"Other datasets\")\n",
    "valid_donors = np.setdiff1d(np.unique(dataset.obs[\"Baron_human donor\"]), \"Other datasets\")\n",
    "palette = sns.color_palette(\"tab10\", valid_donors.size)\n",
    "cmap = {\n",
    "    ct: rgb2hex(col) for ct, col in zip(valid_donors, palette) if ct != \"Other datasets\"\n",
    "}\n",
    "cmap[\"Other datasets\"] = \"#CCCCCC\"\n",
    "ordering = np.argsort(np.asarray(dataset.obs[\"Baron_human donor\"] != \"Other datasets\"))\n",
    "ax.scatter(\n",
    "    dataset.obs[\"latent_1\"].iloc[ordering],\n",
    "    dataset.obs[\"latent_2\"].iloc[ordering],\n",
    "    dataset.obs[\"latent_3\"].iloc[ordering],\n",
    "    c=[cmap[item] for item in dataset.obs[\"Baron_human donor\"].iloc[ordering]],\n",
    "    s=5.0, rasterized=True\n",
    ")\n",
    "sub_dataset = dataset[dataset.obs[\"Baron_human donor\"] != \"Other datasets\", :]\n",
    "sas = cb.metrics.seurat_alignment_score(sub_dataset.latent, sub_dataset.obs[\"Baron_human donor\"], n=10, k=0.01)\n",
    "ax.xaxis.pane.set_color(\"#EEEEEE\")\n",
    "ax.yaxis.pane.set_color(\"#EEEEEE\")\n",
    "ax.zaxis.pane.set_color(\"#EEEEEE\")\n",
    "plt.legend(\n",
    "    handles=[\n",
    "        mpatches.Patch(color=c, label=l)\n",
    "        for l, c in cmap.items() if l != \"Other datasets\"\n",
    "    ], frameon=False, bbox_to_anchor=(1.0, 0.5), loc=\"center left\",\n",
    "    title=f\"Baron_human donor\\n(SAS = {sas:.3f})\"\n",
    ")\n",
    "fig.savefig(os.path.join(PATH, \"scphere_complex_baron_human.pdf\"), dpi=300, bbox_inches=\"tight\")"
   ]
  },
  {
   "cell_type": "code",
   "execution_count": null,
   "metadata": {},
   "outputs": [],
   "source": [
    "fig = plt.figure(figsize=(8, 8))\n",
    "ax = fig.add_subplot(111, projection='3d')\n",
    "dataset.obs[\"Enge donor\"] = dataset.obs[\"Enge donor\"].astype(object).fillna(\"Other datasets\")\n",
    "valid_donors = np.setdiff1d(np.unique(dataset.obs[\"Enge donor\"]), \"Other datasets\")\n",
    "palette = sns.color_palette(\"tab10\", valid_donors.size)\n",
    "cmap = {\n",
    "    ct: rgb2hex(col) for ct, col in zip(valid_donors, palette) if ct != \"Other datasets\"\n",
    "}\n",
    "cmap[\"Other datasets\"] = \"#CCCCCC\"\n",
    "ordering = np.argsort(np.asarray(dataset.obs[\"Enge donor\"] != \"Other datasets\"))\n",
    "ax.scatter(\n",
    "    dataset.obs[\"latent_1\"].iloc[ordering],\n",
    "    dataset.obs[\"latent_2\"].iloc[ordering],\n",
    "    dataset.obs[\"latent_3\"].iloc[ordering],\n",
    "    c=[cmap[item] for item in dataset.obs[\"Enge donor\"].iloc[ordering]],\n",
    "    s=5.0, rasterized=True\n",
    ")\n",
    "sub_dataset = dataset[dataset.obs[\"Enge donor\"] != \"Other datasets\", :]\n",
    "sas = cb.metrics.seurat_alignment_score(sub_dataset.latent, sub_dataset.obs[\"Enge donor\"], n=10, k=0.01)\n",
    "ax.xaxis.pane.set_color(\"#EEEEEE\")\n",
    "ax.yaxis.pane.set_color(\"#EEEEEE\")\n",
    "ax.zaxis.pane.set_color(\"#EEEEEE\")\n",
    "plt.legend(\n",
    "    handles=[\n",
    "        mpatches.Patch(color=c, label=l)\n",
    "        for l, c in cmap.items() if l != \"Other datasets\"\n",
    "    ], frameon=False, bbox_to_anchor=(1.0, 0.5), loc=\"center left\",\n",
    "    title=f\"Enge donor\\n(SAS = {sas:.3f})\"\n",
    ")\n",
    "fig.savefig(os.path.join(PATH, \"scphere_complex_enge.pdf\"), dpi=300, bbox_inches=\"tight\")"
   ]
  },
  {
   "cell_type": "code",
   "execution_count": null,
   "metadata": {},
   "outputs": [],
   "source": [
    "fig = plt.figure(figsize=(8, 8))\n",
    "ax = fig.add_subplot(111, projection='3d')\n",
    "dataset.obs[\"Muraro donor\"] = dataset.obs[\"Muraro donor\"].astype(object).fillna(\"Other datasets\")\n",
    "valid_donors = np.setdiff1d(np.unique(dataset.obs[\"Muraro donor\"]), \"Other datasets\")\n",
    "palette = sns.color_palette(\"tab10\", valid_donors.size)\n",
    "cmap = {\n",
    "    ct: rgb2hex(col) for ct, col in zip(valid_donors, palette) if ct != \"Other datasets\"\n",
    "}\n",
    "cmap[\"Other datasets\"] = \"#CCCCCC\"\n",
    "ordering = np.argsort(np.asarray(dataset.obs[\"Muraro donor\"] != \"Other datasets\"))\n",
    "ax.scatter(\n",
    "    dataset.obs[\"latent_1\"].iloc[ordering],\n",
    "    dataset.obs[\"latent_2\"].iloc[ordering],\n",
    "    dataset.obs[\"latent_3\"].iloc[ordering],\n",
    "    c=[cmap[item] for item in dataset.obs[\"Muraro donor\"].iloc[ordering]],\n",
    "    s=5.0, rasterized=True\n",
    ")\n",
    "sub_dataset = dataset[dataset.obs[\"Muraro donor\"] != \"Other datasets\", :]\n",
    "sas = cb.metrics.seurat_alignment_score(sub_dataset.latent, sub_dataset.obs[\"Muraro donor\"], n=10, k=0.01)\n",
    "ax.xaxis.pane.set_color(\"#EEEEEE\")\n",
    "ax.yaxis.pane.set_color(\"#EEEEEE\")\n",
    "ax.zaxis.pane.set_color(\"#EEEEEE\")\n",
    "plt.legend(\n",
    "    handles=[\n",
    "        mpatches.Patch(color=c, label=l)\n",
    "        for l, c in cmap.items() if l != \"Other datasets\"\n",
    "    ], frameon=False, bbox_to_anchor=(1.0, 0.5), loc=\"center left\",\n",
    "    title=f\"Muraro donor\\n(SAS = {sas:.3f})\"\n",
    ")\n",
    "fig.savefig(os.path.join(PATH, \"scphere_complex_muraro.pdf\"), dpi=300, bbox_inches=\"tight\")"
   ]
  }
 ],
 "metadata": {
  "kernelspec": {
   "display_name": "Python 3",
   "language": "python",
   "name": "python3"
  },
  "language_info": {
   "codemirror_mode": {
    "name": "ipython",
    "version": 3
   },
   "file_extension": ".py",
   "mimetype": "text/x-python",
   "name": "python",
   "nbconvert_exporter": "python",
   "pygments_lexer": "ipython3",
   "version": "3.6.8"
  },
  "toc": {
   "base_numbering": 1,
   "nav_menu": {},
   "number_sections": true,
   "sideBar": true,
   "skip_h1_title": false,
   "title_cell": "Table of Contents",
   "title_sidebar": "Contents",
   "toc_cell": false,
   "toc_position": {
    "height": "calc(100% - 180px)",
    "left": "10px",
    "top": "150px",
    "width": "165px"
   },
   "toc_section_display": true,
   "toc_window_display": true
  },
  "varInspector": {
   "cols": {
    "lenName": 16,
    "lenType": 16,
    "lenVar": 40
   },
   "kernels_config": {
    "python": {
     "delete_cmd_postfix": "",
     "delete_cmd_prefix": "del ",
     "library": "var_list.py",
     "varRefreshCmd": "print(var_dic_list())"
    },
    "r": {
     "delete_cmd_postfix": ") ",
     "delete_cmd_prefix": "rm(",
     "library": "var_list.r",
     "varRefreshCmd": "cat(var_dic_list()) "
    }
   },
   "types_to_exclude": [
    "module",
    "function",
    "builtin_function_or_method",
    "instance",
    "_Feature"
   ],
   "window_display": false
  }
 },
 "nbformat": 4,
 "nbformat_minor": 2
}
