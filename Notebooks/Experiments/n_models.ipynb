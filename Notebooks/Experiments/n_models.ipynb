{
 "cells": [
  {
   "cell_type": "code",
   "execution_count": null,
   "metadata": {
    "ExecuteTime": {
     "end_time": "2019-07-31T15:27:40.266306Z",
     "start_time": "2019-07-31T15:27:40.259769Z"
    }
   },
   "outputs": [],
   "source": [
    "import os\n",
    "import numpy as np\n",
    "import pandas as pd\n",
    "import sklearn.metrics\n",
    "import matplotlib.pyplot as plt\n",
    "import matplotlib.ticker as tkr\n",
    "import seaborn as sns\n",
    "import Cell_BLAST as cb\n",
    "import exputils"
   ]
  },
  {
   "cell_type": "code",
   "execution_count": null,
   "metadata": {
    "ExecuteTime": {
     "end_time": "2019-07-31T15:10:57.341335Z",
     "start_time": "2019-07-31T15:10:55.858244Z"
    }
   },
   "outputs": [],
   "source": [
    "os.environ[\"CUDA_VISIBLE_DEVICES\"] = exputils.pick_gpu_lowest_memory()\n",
    "cb.config.RANDOM_SEED = 0\n",
    "cb.config.N_JOBS = 8\n",
    "plt.rcParams['svg.fonttype'] = \"none\"\n",
    "plt.rcParams['font.family'] = \"Arial\"\n",
    "random_state = np.random.RandomState(0)\n",
    "PATH = \"./n_models\"\n",
    "if not os.path.exists(PATH):\n",
    "    os.makedirs(PATH)"
   ]
  },
  {
   "cell_type": "code",
   "execution_count": null,
   "metadata": {
    "ExecuteTime": {
     "end_time": "2019-07-31T15:10:57.950237Z",
     "start_time": "2019-07-31T15:10:57.941370Z"
    }
   },
   "outputs": [],
   "source": [
    "def pred_report(pred, true, positive_labels):\n",
    "    true_positive_mask = np.in1d(true, positive_labels)\n",
    "    pred_positive_mask = ~np.in1d(pred, [\"rejected\"])\n",
    "    sensitivity = np.logical_and(true_positive_mask, pred_positive_mask).sum() / true_positive_mask.sum()\n",
    "    specificity = np.logical_and(~true_positive_mask, ~pred_positive_mask).sum() / (~true_positive_mask).sum()\n",
    "    positive_mask = np.logical_and(true_positive_mask, pred_positive_mask)\n",
    "    acc = (true[positive_mask] == pred[positive_mask]).sum() / positive_mask.sum()\n",
    "    return acc, specificity, sensitivity"
   ]
  },
  {
   "cell_type": "markdown",
   "metadata": {},
   "source": [
    "# Read data\n",
    "\n",
    "## Reference"
   ]
  },
  {
   "cell_type": "code",
   "execution_count": null,
   "metadata": {
    "ExecuteTime": {
     "end_time": "2019-07-21T08:40:23.590908Z",
     "start_time": "2019-07-21T08:37:44.613708Z"
    }
   },
   "outputs": [],
   "source": [
    "ref = cb.data.ExprDataSet.merge_datasets(dict(\n",
    "    baron=cb.data.ExprDataSet.read_dataset(\"../../Datasets/data/Baron_human/data.h5\"),\n",
    "    xin=cb.data.ExprDataSet.read_dataset(\"../../Datasets/data/Xin_2016/data.h5\"),\n",
    "    lawlor=cb.data.ExprDataSet.read_dataset(\"../../Datasets/data/Lawlor/data.h5\")\n",
    "), merge_uns_slots=[\"seurat_genes\"])\n",
    "ref = exputils.clean_dataset(ref, \"cell_ontology_class\")"
   ]
  },
  {
   "cell_type": "markdown",
   "metadata": {},
   "source": [
    "## Query"
   ]
  },
  {
   "cell_type": "code",
   "execution_count": null,
   "metadata": {
    "ExecuteTime": {
     "end_time": "2019-07-21T08:47:15.710455Z",
     "start_time": "2019-07-21T08:40:23.593762Z"
    }
   },
   "outputs": [],
   "source": [
    "query = dict(\n",
    "    # Positive\n",
    "    segerstolpe=cb.data.ExprDataSet.read_dataset(\"../../Datasets/data/Segerstolpe/data.h5\"),\n",
    "    enge=cb.data.ExprDataSet.read_dataset(\"../../Datasets/data/Enge/data.h5\"),\n",
    "    muraro=cb.data.ExprDataSet.read_dataset(\"../../Datasets/data/Muraro/data.h5\"),\n",
    "    # Negative\n",
    "    wu_human=cb.data.ExprDataSet.read_dataset(\"../../Datasets/data/Wu_human/data.h5\"),\n",
    "    zheng=cb.data.ExprDataSet.read_dataset(\"../../Datasets/data/Zheng/data.h5\"),\n",
    "    philippeos=cb.data.ExprDataSet.read_dataset(\"../../Datasets/data/Philippeos/data.h5\")\n",
    ")\n",
    "\n",
    "min_size = max(min(val.shape[0] for val in query.values()), 2000)\n",
    "query = cb.data.ExprDataSet.merge_datasets({\n",
    "    key: val[\n",
    "        random_state.choice(val.shape[0], min(min_size, val.shape[0]), replace=False), :\n",
    "    ] for key, val in query.items()\n",
    "})\n",
    "query = exputils.clean_dataset(query, \"cell_ontology_class\")"
   ]
  },
  {
   "cell_type": "markdown",
   "metadata": {},
   "source": [
    "# Train models"
   ]
  },
  {
   "cell_type": "code",
   "execution_count": null,
   "metadata": {
    "ExecuteTime": {
     "end_time": "2019-07-21T08:47:42.477007Z",
     "start_time": "2019-07-21T08:47:15.712693Z"
    },
    "scrolled": true
   },
   "outputs": [],
   "source": [
    "models = []\n",
    "for i in range(128):\n",
    "    print(\"==== Model: %d ====\" % i)\n",
    "    try:\n",
    "        model = cb.directi.DIRECTi.load(\n",
    "            os.path.join(PATH, \"model_%d\" % i),\n",
    "            _mode=cb.directi.DIRECTi._TEST\n",
    "        )\n",
    "    except Exception:\n",
    "        model = cb.directi.fit_DIRECTi(\n",
    "            ref, ref.uns[\"seurat_genes\"], batch_effect=\"dataset_name\",\n",
    "            latent_dim=10, cat_dim=20, epoch=300, patience=20,\n",
    "            random_seed=i, path=os.path.join(PATH, \"model_%d\" % i)\n",
    "        )\n",
    "        model.save()\n",
    "    models.append(model)"
   ]
  },
  {
   "cell_type": "raw",
   "metadata": {
    "scrolled": true
   },
   "source": [
    "# Jump start\n",
    "models = []\n",
    "for i in range(128):\n",
    "    print(\"==== Model: %d ====\" % i)\n",
    "    models.append(cb.directi.DIRECTi.load(os.path.join(PATH, \"model_%d\" % i, _mode=cb.directi.DIRECTi._TEST))"
   ]
  },
  {
   "cell_type": "markdown",
   "metadata": {},
   "source": [
    "# Test BLAST with different number of models"
   ]
  },
  {
   "cell_type": "code",
   "execution_count": null,
   "metadata": {
    "ExecuteTime": {
     "end_time": "2019-07-21T12:58:38.633883Z",
     "start_time": "2019-07-21T08:47:42.480602Z"
    },
    "scrolled": true
   },
   "outputs": [],
   "source": [
    "np.random.seed(0)\n",
    "hits_dict = {}\n",
    "for n_model in (1, 2, 4, 8, 16):\n",
    "    print(\"==== Number of models: %d ====\" % n_model)\n",
    "    hits_dict[n_model] = []\n",
    "    available_models = np.arange(128)\n",
    "    for trial in range(8):\n",
    "        used_models = np.random.choice(available_models, n_model, replace=False)\n",
    "        available_models = np.setdiff1d(available_models, used_models)\n",
    "        blast = cb.blast.BLAST([models[idx] for idx in used_models], ref)\n",
    "        hits_dict[n_model].append(blast.query(query))"
   ]
  },
  {
   "cell_type": "code",
   "execution_count": null,
   "metadata": {
    "ExecuteTime": {
     "end_time": "2019-07-21T12:59:04.060767Z",
     "start_time": "2019-07-21T12:58:38.638365Z"
    }
   },
   "outputs": [],
   "source": [
    "pred_dict = {}\n",
    "for n_model in hits_dict.keys():\n",
    "    pred_dict[n_model] = []\n",
    "    for hits in hits_dict[n_model]:\n",
    "        pred = hits.reconcile_models().filter(\n",
    "            \"pval\", 0.05\n",
    "        ).annotate(\"cell_ontology_class\")[\"cell_ontology_class\"]\n",
    "        pred_dict[n_model].append(pred)"
   ]
  },
  {
   "cell_type": "code",
   "execution_count": null,
   "metadata": {
    "ExecuteTime": {
     "end_time": "2019-07-21T12:59:04.410568Z",
     "start_time": "2019-07-21T12:59:04.062603Z"
    }
   },
   "outputs": [],
   "source": [
    "report_df = [(key, *pred_report(\n",
    "    pred_dict[key][i].values, query.obs[\"cell_ontology_class\"], np.unique(ref.obs[\"cell_ontology_class\"])\n",
    ")) for key in pred_dict.keys() for i in range(len(pred_dict[key]))]\n",
    "report_df = [*zip(*report_df)]\n",
    "report_df = pd.DataFrame({\n",
    "    \"Number of models\": report_df[0],\n",
    "    \"Accuracy\": report_df[1],\n",
    "    \"Specificity\": report_df[2],\n",
    "    \"Sensitivity\": report_df[3]\n",
    "}).melt(id_vars=\"Number of models\", var_name=\"Metric\", value_name=\"Value\")\n",
    "report_df.to_csv(os.path.join(PATH, \"n_models.csv\"))"
   ]
  },
  {
   "cell_type": "code",
   "execution_count": null,
   "metadata": {
    "ExecuteTime": {
     "end_time": "2019-07-31T15:27:45.199065Z",
     "start_time": "2019-07-31T15:27:44.505551Z"
    }
   },
   "outputs": [],
   "source": [
    "report_df = pd.read_csv(os.path.join(PATH, \"n_models.csv\"))\n",
    "fig, ax = plt.subplots(figsize=(4.0, 4.0))\n",
    "ax = sns.lineplot(\n",
    "    x=\"Number of models\", y=\"Value\", hue=\"Metric\", style=\"Metric\",\n",
    "    markers=True, dashes=False, data=report_df, ax=ax\n",
    ")\n",
    "ax.spines[\"right\"].set_visible(False)\n",
    "ax.spines[\"top\"].set_visible(False)\n",
    "ax.xaxis.set_major_locator(tkr.MaxNLocator(integer=True))\n",
    "plt.legend(loc=\"center left\", bbox_to_anchor=(1.02, 0.5), borderaxespad=0.0, frameon=False)\n",
    "fig.savefig(os.path.join(PATH, \"n_models.pdf\"), bbox_inches=\"tight\")"
   ]
  }
 ],
 "metadata": {
  "kernelspec": {
   "display_name": "Python 3",
   "language": "python",
   "name": "python3"
  },
  "language_info": {
   "codemirror_mode": {
    "name": "ipython",
    "version": 3
   },
   "file_extension": ".py",
   "mimetype": "text/x-python",
   "name": "python",
   "nbconvert_exporter": "python",
   "pygments_lexer": "ipython3",
   "version": "3.6.8"
  },
  "toc": {
   "base_numbering": 1,
   "nav_menu": {},
   "number_sections": true,
   "sideBar": true,
   "skip_h1_title": false,
   "title_cell": "Table of Contents",
   "title_sidebar": "Contents",
   "toc_cell": false,
   "toc_position": {},
   "toc_section_display": true,
   "toc_window_display": true
  },
  "varInspector": {
   "cols": {
    "lenName": 16,
    "lenType": 16,
    "lenVar": 40
   },
   "kernels_config": {
    "python": {
     "delete_cmd_postfix": "",
     "delete_cmd_prefix": "del ",
     "library": "var_list.py",
     "varRefreshCmd": "print(var_dic_list())"
    },
    "r": {
     "delete_cmd_postfix": ") ",
     "delete_cmd_prefix": "rm(",
     "library": "var_list.r",
     "varRefreshCmd": "cat(var_dic_list()) "
    }
   },
   "types_to_exclude": [
    "module",
    "function",
    "builtin_function_or_method",
    "instance",
    "_Feature"
   ],
   "window_display": false
  }
 },
 "nbformat": 4,
 "nbformat_minor": 2
}
