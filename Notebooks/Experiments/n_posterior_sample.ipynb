{
 "cells": [
  {
   "cell_type": "code",
   "execution_count": null,
   "metadata": {
    "ExecuteTime": {
     "end_time": "2019-07-25T02:05:15.333533Z",
     "start_time": "2019-07-25T02:05:13.289998Z"
    }
   },
   "outputs": [],
   "source": [
    "import os\n",
    "import numpy as np\n",
    "import pandas as pd\n",
    "import matplotlib.pyplot as plt\n",
    "import seaborn as sns\n",
    "import Cell_BLAST as cb\n",
    "import exputils"
   ]
  },
  {
   "cell_type": "code",
   "execution_count": null,
   "metadata": {
    "ExecuteTime": {
     "end_time": "2019-07-25T02:05:18.006232Z",
     "start_time": "2019-07-25T02:05:16.068196Z"
    }
   },
   "outputs": [],
   "source": [
    "os.environ[\"CUDA_VISIBLE_DEVICES\"] = exputils.pick_gpu_lowest_memory()\n",
    "cb.config.RANDOM_SEED = 0\n",
    "cb.config.N_JOBS = 4\n",
    "plt.rcParams['svg.fonttype'] = \"none\"\n",
    "plt.rcParams['font.family'] = \"Arial\"\n",
    "PATH = \"./n_posterior_sample\"\n",
    "if not os.path.exists(PATH):\n",
    "    os.makedirs(PATH)"
   ]
  },
  {
   "cell_type": "code",
   "execution_count": null,
   "metadata": {
    "ExecuteTime": {
     "end_time": "2019-07-25T02:05:19.434133Z",
     "start_time": "2019-07-25T02:05:18.555351Z"
    }
   },
   "outputs": [],
   "source": [
    "dataset = cb.data.ExprDataSet.read_dataset(\"../../Datasets/data/Baron_human/data.h5\")"
   ]
  },
  {
   "cell_type": "code",
   "execution_count": null,
   "metadata": {
    "ExecuteTime": {
     "end_time": "2019-07-25T02:08:16.143412Z",
     "start_time": "2019-07-25T02:05:19.970900Z"
    },
    "scrolled": true
   },
   "outputs": [],
   "source": [
    "rand_hex = cb.utils.rand_hex()\n",
    "print(\"Training at %s...\" % rand_hex)\n",
    "model = cb.directi.fit_DIRECTi(\n",
    "    dataset, dataset.uns[\"seurat_genes\"], latent_dim=10, cat_dim=20,\n",
    "    path=\"/tmp/cb/%s\" % rand_hex\n",
    ")"
   ]
  },
  {
   "cell_type": "code",
   "execution_count": null,
   "metadata": {
    "ExecuteTime": {
     "end_time": "2019-07-25T02:12:54.008784Z",
     "start_time": "2019-07-25T02:12:53.997746Z"
    }
   },
   "outputs": [],
   "source": [
    "ref_indices = np.random.choice(np.arange(dataset.shape[0]), 1000, replace=False)\n",
    "query_indices = np.random.choice(\n",
    "    np.setdiff1d(np.arange(dataset.shape[0]), ref_indices),\n",
    "    200, replace=False\n",
    ")"
   ]
  },
  {
   "cell_type": "code",
   "execution_count": null,
   "metadata": {
    "ExecuteTime": {
     "end_time": "2019-07-25T02:12:58.801827Z",
     "start_time": "2019-07-25T02:12:54.546926Z"
    }
   },
   "outputs": [],
   "source": [
    "ref = dataset[ref_indices, :]\n",
    "query = dataset[query_indices, :]"
   ]
  },
  {
   "cell_type": "code",
   "execution_count": null,
   "metadata": {
    "ExecuteTime": {
     "end_time": "2019-07-25T02:15:02.097508Z",
     "start_time": "2019-07-25T02:12:58.813877Z"
    },
    "scrolled": true
   },
   "outputs": [],
   "source": [
    "posterior_distance_dict = {}\n",
    "for n_posterior in (5, 10, 20, 50, 100, 500, 1000):\n",
    "    print(\"==== n_posterior: %d ====\" % n_posterior)\n",
    "    blast = cb.blast.BLAST([model], ref, n_posterior=n_posterior)\n",
    "    hits = blast.query(query, n_neighbors=50)\n",
    "    posterior_distance_dict[n_posterior] = np.concatenate(hits.dist, axis=0)\n",
    "    print()"
   ]
  },
  {
   "cell_type": "code",
   "execution_count": null,
   "metadata": {
    "ExecuteTime": {
     "end_time": "2019-07-25T02:15:51.659757Z",
     "start_time": "2019-07-25T02:15:51.643233Z"
    }
   },
   "outputs": [],
   "source": [
    "n_posterior_list = [5, 10, 20, 50, 100, 500]\n",
    "std_list = []\n",
    "for n_posterior in n_posterior_list:\n",
    "    std_list.append(np.std(\n",
    "        (posterior_distance_dict[n_posterior] - posterior_distance_dict[1000]).ravel()\n",
    "    ))\n",
    "std_df = pd.DataFrame({\n",
    "    \"Number of posterior samples\": n_posterior_list,\n",
    "    \"Standard deviation of NPD\": std_list\n",
    "})"
   ]
  },
  {
   "cell_type": "code",
   "execution_count": null,
   "metadata": {
    "ExecuteTime": {
     "end_time": "2019-07-25T02:15:53.505282Z",
     "start_time": "2019-07-25T02:15:53.109778Z"
    }
   },
   "outputs": [],
   "source": [
    "fig, ax = plt.subplots(figsize=(4.0, 4.0))\n",
    "ax = sns.lineplot(\n",
    "    x=\"Number of posterior samples\", y=\"Standard deviation of NPD\",\n",
    "    style=1, markers=True, dashes=False, data=std_df, ax=ax, legend=False\n",
    ")\n",
    "ax.spines[\"right\"].set_visible(False)\n",
    "ax.spines[\"top\"].set_visible(False)\n",
    "fig.savefig(os.path.join(PATH, \"pd_std.pdf\"), bbox_inches=\"tight\")"
   ]
  }
 ],
 "metadata": {
  "kernelspec": {
   "display_name": "Python 3",
   "language": "python",
   "name": "python3"
  },
  "language_info": {
   "codemirror_mode": {
    "name": "ipython",
    "version": 3
   },
   "file_extension": ".py",
   "mimetype": "text/x-python",
   "name": "python",
   "nbconvert_exporter": "python",
   "pygments_lexer": "ipython3",
   "version": "3.6.8"
  },
  "toc": {
   "base_numbering": 1,
   "nav_menu": {},
   "number_sections": true,
   "sideBar": true,
   "skip_h1_title": false,
   "title_cell": "Table of Contents",
   "title_sidebar": "Contents",
   "toc_cell": false,
   "toc_position": {},
   "toc_section_display": true,
   "toc_window_display": true
  },
  "varInspector": {
   "cols": {
    "lenName": 16,
    "lenType": 16,
    "lenVar": 40
   },
   "kernels_config": {
    "python": {
     "delete_cmd_postfix": "",
     "delete_cmd_prefix": "del ",
     "library": "var_list.py",
     "varRefreshCmd": "print(var_dic_list())"
    },
    "r": {
     "delete_cmd_postfix": ") ",
     "delete_cmd_prefix": "rm(",
     "library": "var_list.r",
     "varRefreshCmd": "cat(var_dic_list()) "
    }
   },
   "types_to_exclude": [
    "module",
    "function",
    "builtin_function_or_method",
    "instance",
    "_Feature"
   ],
   "window_display": false
  }
 },
 "nbformat": 4,
 "nbformat_minor": 2
}
