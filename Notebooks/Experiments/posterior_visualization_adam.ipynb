{
 "cells": [
  {
   "cell_type": "markdown",
   "metadata": {},
   "source": [
    "# Posterior visualization"
   ]
  },
  {
   "cell_type": "markdown",
   "metadata": {},
   "source": [
    "## Preparation"
   ]
  },
  {
   "cell_type": "code",
   "execution_count": null,
   "metadata": {
    "ExecuteTime": {
     "end_time": "2019-07-25T02:17:23.043872Z",
     "start_time": "2019-07-25T02:17:20.585819Z"
    }
   },
   "outputs": [],
   "source": [
    "import os\n",
    "import functools\n",
    "import numpy as np\n",
    "import pandas as pd\n",
    "import scipy.sparse\n",
    "import sklearn.svm\n",
    "import sklearn.metrics\n",
    "import matplotlib.pyplot as plt\n",
    "import torch\n",
    "import scvi.dataset\n",
    "import scvi.models\n",
    "import scvi.inference\n",
    "import Cell_BLAST as cb\n",
    "import exputils"
   ]
  },
  {
   "cell_type": "code",
   "execution_count": null,
   "metadata": {
    "ExecuteTime": {
     "end_time": "2019-07-25T02:17:29.815603Z",
     "start_time": "2019-07-25T02:17:23.046598Z"
    }
   },
   "outputs": [],
   "source": [
    "os.environ[\"CUDA_VISIBLE_DEVICES\"] = exputils.pick_gpu_lowest_memory()\n",
    "cb.config.RANDOM_SEED = 0\n",
    "plt.rcParams['svg.fonttype'] = \"none\"\n",
    "plt.rcParams['font.family'] = \"Arial\"\n",
    "N_POSTERIOR = 200\n",
    "PATH = \"./posterior_visualization_adam/\"\n",
    "os.makedirs(PATH, exist_ok=True)"
   ]
  },
  {
   "cell_type": "markdown",
   "metadata": {},
   "source": [
    "Prepare data"
   ]
  },
  {
   "cell_type": "code",
   "execution_count": null,
   "metadata": {
    "ExecuteTime": {
     "end_time": "2019-07-25T02:17:32.464024Z",
     "start_time": "2019-07-25T02:17:29.820144Z"
    }
   },
   "outputs": [],
   "source": [
    "ds = cb.data.ExprDataSet.read_dataset(\"../../Datasets/data/Adam/data.h5\")\n",
    "ds.obs[\"__libsize__\"] = np.asarray(ds.exprs.sum(axis=1)).ravel()\n",
    "ds = ds[:, ds.uns[\"seurat_genes\"]]\n",
    "ds.to_anndata().write_h5ad(os.path.join(PATH, \"ds.h5ad\"))\n",
    "ds_scvi = scvi.dataset.AnnDataset(\"ds.h5ad\", save_path=PATH)"
   ]
  },
  {
   "cell_type": "code",
   "execution_count": null,
   "metadata": {},
   "outputs": [],
   "source": [
    "FOCUS_CTs = [\"Distal tubule\", \"Ureteric bud\"]"
   ]
  },
  {
   "cell_type": "markdown",
   "metadata": {},
   "source": [
    "## Train models"
   ]
  },
  {
   "cell_type": "markdown",
   "metadata": {},
   "source": [
    "### Cell BLAST"
   ]
  },
  {
   "cell_type": "code",
   "execution_count": null,
   "metadata": {
    "ExecuteTime": {
     "end_time": "2019-07-25T02:20:14.121158Z",
     "start_time": "2019-07-25T02:17:32.466163Z"
    },
    "scrolled": true
   },
   "outputs": [],
   "source": [
    "cb_model = cb.directi.fit_DIRECTi(\n",
    "    ds, ds.uns[\"seurat_genes\"], latent_dim=2, cat_dim=20,\n",
    "    random_seed=4\n",
    ")"
   ]
  },
  {
   "cell_type": "code",
   "execution_count": null,
   "metadata": {
    "ExecuteTime": {
     "end_time": "2019-07-25T02:20:16.095779Z",
     "start_time": "2019-07-25T02:20:14.124014Z"
    }
   },
   "outputs": [],
   "source": [
    "ds.latent = exputils.get_cb_latent(cb_model, ds)"
   ]
  },
  {
   "cell_type": "code",
   "execution_count": null,
   "metadata": {
    "ExecuteTime": {
     "end_time": "2019-07-25T02:20:17.729716Z",
     "start_time": "2019-07-25T02:20:16.097747Z"
    }
   },
   "outputs": [],
   "source": [
    "ax = ds.visualize_latent(\n",
    "    \"cell_type1\", method=None, sort=True, width=4.5, height=4.5,\n",
    "    scatter_kws=dict(rasterized=True)\n",
    ")\n",
    "ax.get_figure().savefig(os.path.join(PATH, \"cb_latent.pdf\"), dpi=300, bbox_inches=\"tight\")"
   ]
  },
  {
   "cell_type": "markdown",
   "metadata": {},
   "source": [
    "### scVI"
   ]
  },
  {
   "cell_type": "code",
   "execution_count": null,
   "metadata": {
    "ExecuteTime": {
     "end_time": "2019-07-25T02:27:11.876989Z",
     "start_time": "2019-07-25T02:20:17.733229Z"
    }
   },
   "outputs": [],
   "source": [
    "np.random.seed(0)\n",
    "torch.manual_seed(0)\n",
    "scvi_model = scvi.models.VAE(ds_scvi.nb_genes, n_latent=2)\n",
    "scvi_trainer = scvi.inference.UnsupervisedTrainer(\n",
    "    scvi_model, ds_scvi, use_cuda=True, metrics_to_monitor=[\"ll\"], frequency=5,\n",
    "    early_stopping_kwargs=dict(\n",
    "        early_stopping_metric=\"ll\", save_best_state_metric=\"ll\",\n",
    "        patience=30, threshold=0\n",
    "    )\n",
    ")\n",
    "scvi_trainer.train(n_epochs=1000)"
   ]
  },
  {
   "cell_type": "code",
   "execution_count": null,
   "metadata": {
    "ExecuteTime": {
     "end_time": "2019-07-25T02:27:12.222977Z",
     "start_time": "2019-07-25T02:27:12.214980Z"
    }
   },
   "outputs": [],
   "source": [
    "ds.latent = exputils.get_scvi_latent(scvi_model, ds_scvi)"
   ]
  },
  {
   "cell_type": "code",
   "execution_count": null,
   "metadata": {
    "ExecuteTime": {
     "end_time": "2019-07-25T02:27:14.058469Z",
     "start_time": "2019-07-25T02:27:12.224711Z"
    }
   },
   "outputs": [],
   "source": [
    "ax = ds.visualize_latent(\n",
    "    \"cell_type1\", method=None, sort=True, width=4.5, height=4.5,\n",
    "    scatter_kws=dict(rasterized=True)\n",
    ")\n",
    "ax.get_figure().savefig(os.path.join(PATH, \"scvi_latent.pdf\"), dpi=300, bbox_inches=\"tight\")"
   ]
  },
  {
   "cell_type": "markdown",
   "metadata": {},
   "source": [
    "## Comparison"
   ]
  },
  {
   "cell_type": "code",
   "execution_count": null,
   "metadata": {
    "ExecuteTime": {
     "end_time": "2019-07-25T02:30:38.443462Z",
     "start_time": "2019-07-25T02:30:37.848153Z"
    }
   },
   "outputs": [],
   "source": [
    "posterior_obs = pd.concat([ds.obs] * N_POSTERIOR, axis=0)\n",
    "posterior_exprs = scipy.sparse.csr_matrix((posterior_obs.shape[0], ds.shape[1]))  # Sham expression matrix\n",
    "posterior_ds = cb.data.ExprDataSet(posterior_exprs, posterior_obs, ds.var, {})"
   ]
  },
  {
   "cell_type": "markdown",
   "metadata": {},
   "source": [
    "### Cell BLAST"
   ]
  },
  {
   "cell_type": "code",
   "execution_count": null,
   "metadata": {
    "ExecuteTime": {
     "end_time": "2019-07-25T02:34:18.282364Z",
     "start_time": "2019-07-25T02:33:25.742793Z"
    }
   },
   "outputs": [],
   "source": [
    "tmp = exputils.get_cb_latent(cb_model, ds, n_posterior=N_POSTERIOR)\n",
    "posterior_ds.latent = np.concatenate([tmp[:, i, :] for i in range(tmp.shape[1])], axis=0)\n",
    "ax = posterior_ds.visualize_latent(\n",
    "    method=None, size=3, width=4.5, height=4.5,\n",
    "    scatter_kws=dict(alpha=1 / N_POSTERIOR, rasterized=True)\n",
    ")\n",
    "ds.latent = exputils.get_cb_latent(cb_model, ds)\n",
    "ax = ds.visualize_latent(\"cell_type1\", method=None, sort=True, scatter_kws=dict(rasterized=True), ax=ax)\n",
    "ax.get_figure().savefig(os.path.join(PATH, \"cb_posterior.png\"), dpi=300, bbox_inches=\"tight\")"
   ]
  },
  {
   "cell_type": "code",
   "execution_count": null,
   "metadata": {
    "ExecuteTime": {
     "end_time": "2019-07-25T02:35:17.083594Z",
     "start_time": "2019-07-25T02:35:15.053597Z"
    }
   },
   "outputs": [],
   "source": [
    "mask = functools.reduce(np.logical_and, [\n",
    "    np.in1d(ds.obs[\"cell_type1\"], FOCUS_CTs),\n",
    "    ds.obs[\"latent_1\"] > 0.0,\n",
    "    ds.obs[\"latent_1\"] < 4.0,\n",
    "    ds.obs[\"latent_2\"] > -3.8,\n",
    "    ds.obs[\"latent_2\"] < 0.0\n",
    "])\n",
    "sub_ds = ds[mask, :]\n",
    "posterior_mask = np.concatenate([mask] * N_POSTERIOR, axis=0)\n",
    "sub_posterior_ds = posterior_ds[posterior_mask, :]\n",
    "\n",
    "mask = sklearn.metrics.silhouette_samples(sub_ds.latent, sub_ds.obs[\"cell_type1\"]) > 0.1\n",
    "sub_ds = sub_ds[mask, :]\n",
    "posterior_mask = np.concatenate([mask] * N_POSTERIOR, axis=0)\n",
    "sub_posterior_ds = sub_posterior_ds[posterior_mask, :]"
   ]
  },
  {
   "cell_type": "code",
   "execution_count": null,
   "metadata": {
    "ExecuteTime": {
     "end_time": "2019-07-25T02:35:39.177361Z",
     "start_time": "2019-07-25T02:35:38.329932Z"
    }
   },
   "outputs": [],
   "source": [
    "svc = sklearn.svm.SVC(random_state=0, gamma=0.01).fit(sub_ds.latent, sub_ds.obs[\"cell_type1\"])\n",
    "sub_ds.obs[\"support\"] = np.logical_and(\n",
    "    np.in1d(np.arange(sub_ds.shape[0]), svc.support_),\n",
    "    np.abs(svc.decision_function(sub_ds.latent)) > 0.5\n",
    ")\n",
    "sub_ds.obs[\"class\"] = pd.Categorical(svc.predict(sub_ds.latent))\n",
    "ax = sub_ds.visualize_latent(\n",
    "    hue=\"support\", style=\"class\",\n",
    "    method=None, sort=True, size=30, width=4.5, height=4.5,\n",
    "    scatter_kws=dict(markers=[\"s\", \"^\"], rasterized=True)\n",
    ")\n",
    "ax.get_figure().savefig(os.path.join(PATH, \"cb_support.pdf\"), dpi=300, bbox_inches=\"tight\")"
   ]
  },
  {
   "cell_type": "code",
   "execution_count": null,
   "metadata": {
    "ExecuteTime": {
     "end_time": "2019-07-25T02:35:52.083169Z",
     "start_time": "2019-07-25T02:35:52.067671Z"
    }
   },
   "outputs": [],
   "source": [
    "mask = np.logical_and(sub_ds.obs[\"support\"], sub_ds.obs[\"class\"] == FOCUS_CTs[0])\n",
    "centers = sub_ds.latent[mask]\n",
    "posterior_mask = np.concatenate([mask] * N_POSTERIOR, axis=0)\n",
    "posterior = sub_posterior_ds.latent[posterior_mask]\n",
    "deviation = posterior - np.concatenate([centers] * N_POSTERIOR, axis=0)\n",
    "ax = exputils.aligned_posterior_plot(deviation, lim=0.2)\n",
    "ax.set_title(f\"{FOCUS_CTs[0]} (variational)\")\n",
    "ax.get_figure().savefig(os.path.join(PATH, f\"cb_{FOCUS_CTs[0]}_variational.pdf\"), dpi=300, bbox_inches=\"tight\")"
   ]
  },
  {
   "cell_type": "code",
   "execution_count": null,
   "metadata": {},
   "outputs": [],
   "source": [
    "tmp = exputils.metropolis_hastings(\n",
    "    centers,\n",
    "    lambda latent: exputils.get_cb_log_unnormalized_posterior(cb_model, sub_ds[mask, :], latent),\n",
    "    target=N_POSTERIOR\n",
    ")\n",
    "posterior = np.concatenate([tmp[:, i, :] for i in range(tmp.shape[1])], axis=0)\n",
    "deviation = posterior - np.concatenate([centers] * N_POSTERIOR, axis=0)\n",
    "ax = exputils.aligned_posterior_plot(deviation, lim=0.4)\n",
    "ax.set_title(f\"{FOCUS_CTs[0]} (MCMC)\")\n",
    "ax.get_figure().savefig(os.path.join(PATH, f\"cb_{FOCUS_CTs[0]}_mcmc.pdf\"), dpi=300, bbox_inches=\"tight\")"
   ]
  },
  {
   "cell_type": "code",
   "execution_count": null,
   "metadata": {
    "ExecuteTime": {
     "end_time": "2019-07-25T02:36:11.296126Z",
     "start_time": "2019-07-25T02:36:11.272229Z"
    }
   },
   "outputs": [],
   "source": [
    "mask = np.logical_and(sub_ds.obs[\"support\"], sub_ds.obs[\"class\"] == FOCUS_CTs[1])\n",
    "centers = sub_ds.latent[mask]\n",
    "posterior_mask = np.concatenate([mask] * N_POSTERIOR, axis=0)\n",
    "posterior = sub_posterior_ds.latent[posterior_mask]\n",
    "deviation = posterior - np.concatenate([centers] * N_POSTERIOR, axis=0)\n",
    "ax = exputils.aligned_posterior_plot(deviation, lim=0.2)\n",
    "ax.set_title(f\"{FOCUS_CTs[1]} (variational)\")\n",
    "ax.get_figure().savefig(os.path.join(PATH, f\"cb_{FOCUS_CTs[1]}_variational.pdf\"), dpi=300, bbox_inches=\"tight\")"
   ]
  },
  {
   "cell_type": "code",
   "execution_count": null,
   "metadata": {},
   "outputs": [],
   "source": [
    "tmp = exputils.metropolis_hastings(\n",
    "    centers,\n",
    "    lambda latent: exputils.get_cb_log_unnormalized_posterior(cb_model, sub_ds[mask, :], latent),\n",
    "    target=N_POSTERIOR\n",
    ")\n",
    "posterior = np.concatenate([tmp[:, i, :] for i in range(tmp.shape[1])], axis=0)\n",
    "deviation = posterior - np.concatenate([centers] * N_POSTERIOR, axis=0)\n",
    "ax = exputils.aligned_posterior_plot(deviation, lim=0.4)\n",
    "ax.set_title(f\"{FOCUS_CTs[1]} (MCMC)\")\n",
    "ax.get_figure().savefig(os.path.join(PATH, f\"cb_{FOCUS_CTs[1]}_mcmc.pdf\"), dpi=300, bbox_inches=\"tight\")"
   ]
  },
  {
   "cell_type": "code",
   "execution_count": null,
   "metadata": {
    "ExecuteTime": {
     "end_time": "2019-07-25T02:37:55.688499Z",
     "start_time": "2019-07-25T02:37:53.749582Z"
    }
   },
   "outputs": [],
   "source": [
    "latent = sub_ds.latent\n",
    "posterior = np.stack(np.split(sub_posterior_ds.latent, N_POSTERIOR), axis=1)\n",
    "eud, npd, correctness = [], [], []\n",
    "random_state = np.random.RandomState(2020)\n",
    "for _ in range(10000):\n",
    "    i, j = random_state.choice(sub_ds.shape[0], size=2)\n",
    "    correctness.append(sub_ds.obs[\"class\"].iloc[i] == sub_ds.obs[\"class\"].iloc[j])\n",
    "    eud.append(np.sqrt(np.square(latent[i] - latent[j]).sum()))\n",
    "    npd.append(cb.blast.npd_v1(\n",
    "        latent[i], latent[j],\n",
    "        posterior[i], posterior[j]\n",
    "    ))\n",
    "eud = np.array(eud)\n",
    "npd = np.array(npd)\n",
    "correctness = np.array(correctness)"
   ]
  },
  {
   "cell_type": "code",
   "execution_count": null,
   "metadata": {
    "ExecuteTime": {
     "end_time": "2019-07-25T02:38:21.625992Z",
     "start_time": "2019-07-25T02:38:11.152863Z"
    }
   },
   "outputs": [],
   "source": [
    "ax = exputils.distance_pair_plot(eud, npd, correctness)\n",
    "ax.get_figure().savefig(os.path.join(PATH, \"cb_distance_cmp.pdf\"), dpi=300, bbox_inches=\"tight\")"
   ]
  },
  {
   "cell_type": "markdown",
   "metadata": {},
   "source": [
    "### scVI"
   ]
  },
  {
   "cell_type": "code",
   "execution_count": null,
   "metadata": {
    "ExecuteTime": {
     "end_time": "2019-07-25T02:29:23.408219Z",
     "start_time": "2019-07-25T02:28:53.382122Z"
    }
   },
   "outputs": [],
   "source": [
    "tmp = exputils.get_scvi_latent(scvi_model, ds_scvi, n_posterior=N_POSTERIOR)\n",
    "posterior_ds.latent = np.concatenate([tmp[:, i, :] for i in range(tmp.shape[1])], axis=0)\n",
    "ax = posterior_ds.visualize_latent(\n",
    "    method=None, size=3, width=4.5, height=4.5,\n",
    "    scatter_kws=dict(alpha=1 / N_POSTERIOR, rasterized=True)\n",
    ")\n",
    "ds.latent, ds.obs[\"library\"] = exputils.get_scvi_latent(scvi_model, ds_scvi, return_library=True)\n",
    "ax = ds.visualize_latent(\"cell_type1\", method=None, sort=True, scatter_kws=dict(rasterized=True), ax=ax)\n",
    "ax.get_figure().savefig(os.path.join(PATH, \"scvi_posterior.png\"), dpi=300, bbox_inches=\"tight\")"
   ]
  },
  {
   "cell_type": "code",
   "execution_count": null,
   "metadata": {
    "ExecuteTime": {
     "end_time": "2019-07-25T02:29:25.668477Z",
     "start_time": "2019-07-25T02:29:23.412726Z"
    }
   },
   "outputs": [],
   "source": [
    "mask = functools.reduce(np.logical_and, [\n",
    "    np.in1d(ds.obs[\"cell_type1\"], FOCUS_CTs),\n",
    "    ds.obs[\"latent_1\"] > 0.0,\n",
    "    ds.obs[\"latent_1\"] < 2.2,\n",
    "    ds.obs[\"latent_2\"] > -1.2,\n",
    "    ds.obs[\"latent_2\"] < 0.9\n",
    "])\n",
    "sub_ds = ds[mask, :]\n",
    "posterior_mask = np.concatenate([mask] * N_POSTERIOR, axis=0)\n",
    "sub_posterior_ds = posterior_ds[posterior_mask, :]\n",
    "\n",
    "mask = sklearn.metrics.silhouette_samples(sub_ds.latent, sub_ds.obs[\"cell_type1\"]) > 0.1\n",
    "sub_ds = sub_ds[mask, :]\n",
    "posterior_mask = np.concatenate([mask] * N_POSTERIOR, axis=0)\n",
    "sub_posterior_ds = sub_posterior_ds[posterior_mask, :]"
   ]
  },
  {
   "cell_type": "code",
   "execution_count": null,
   "metadata": {
    "ExecuteTime": {
     "end_time": "2019-07-25T02:29:26.474327Z",
     "start_time": "2019-07-25T02:29:25.670294Z"
    }
   },
   "outputs": [],
   "source": [
    "svc = sklearn.svm.SVC(random_state=0, gamma=0.05).fit(sub_ds.latent, sub_ds.obs[\"cell_type1\"])\n",
    "sub_ds.obs[\"support\"] = np.logical_and(\n",
    "    np.in1d(np.arange(sub_ds.shape[0]), svc.support_),\n",
    "    np.abs(svc.decision_function(sub_ds.latent)) > 0.5\n",
    ")\n",
    "sub_ds.obs[\"class\"] = pd.Categorical(svc.predict(sub_ds.latent))\n",
    "ax = sub_ds.visualize_latent(\n",
    "    hue=\"support\", style=\"class\",\n",
    "    method=None, sort=True, size=30, width=4.5, height=4.5,\n",
    "    scatter_kws=dict(markers=[\"s\", \"^\"], rasterized=True)\n",
    ")\n",
    "ax.get_figure().savefig(os.path.join(PATH, \"scvi_support.pdf\"), dpi=300, bbox_inches=\"tight\")"
   ]
  },
  {
   "cell_type": "code",
   "execution_count": null,
   "metadata": {
    "ExecuteTime": {
     "end_time": "2019-07-25T02:29:26.486610Z",
     "start_time": "2019-07-25T02:29:26.476206Z"
    }
   },
   "outputs": [],
   "source": [
    "mask = np.logical_and(sub_ds.obs[\"support\"], sub_ds.obs[\"class\"] == FOCUS_CTs[0])\n",
    "centers = sub_ds.latent[mask]\n",
    "posterior_mask = np.concatenate([mask] * N_POSTERIOR, axis=0)\n",
    "posterior = sub_posterior_ds.latent[posterior_mask]\n",
    "deviation = posterior - np.concatenate([centers] * N_POSTERIOR, axis=0)\n",
    "ax = exputils.aligned_posterior_plot(deviation, lim=0.2)\n",
    "ax.set_title(f\"{FOCUS_CTs[0]} (variational)\")\n",
    "ax.get_figure().savefig(os.path.join(PATH, f\"scvi_{FOCUS_CTs[0]}_variational.pdf\"), dpi=300, bbox_inches=\"tight\")"
   ]
  },
  {
   "cell_type": "code",
   "execution_count": null,
   "metadata": {},
   "outputs": [],
   "source": [
    "sub_ds_use = sub_ds[mask, :]\n",
    "sub_ds_use.to_anndata().write_h5ad(os.path.join(PATH, \"ds.h5ad\"))\n",
    "sub_ds_use_scvi = scvi.dataset.AnnDataset(\"ds.h5ad\", save_path=PATH)\n",
    "tmp, _ = exputils.metropolis_hastings(\n",
    "    [centers, sub_ds_use.obs[[\"library\"]].to_numpy()],\n",
    "    lambda latent, library: exputils.get_scvi_log_unnormalized_posterior(scvi_model, sub_ds_use_scvi, latent, library),\n",
    "    target=N_POSTERIOR, proposal_std=[0.02, 0.1]\n",
    ")\n",
    "posterior = np.concatenate([tmp[:, i, :] for i in range(tmp.shape[1])], axis=0)\n",
    "deviation = posterior - np.concatenate([centers] * N_POSTERIOR, axis=0)\n",
    "ax = exputils.aligned_posterior_plot(deviation, lim=0.4)\n",
    "ax.set_title(f\"{FOCUS_CTs[0]} (MCMC)\")\n",
    "ax.get_figure().savefig(os.path.join(PATH, f\"scvi_{FOCUS_CTs[0]}_mcmc.pdf\"), dpi=300, bbox_inches=\"tight\")"
   ]
  },
  {
   "cell_type": "code",
   "execution_count": null,
   "metadata": {
    "ExecuteTime": {
     "end_time": "2019-07-25T02:29:33.566436Z",
     "start_time": "2019-07-25T02:29:33.556232Z"
    }
   },
   "outputs": [],
   "source": [
    "mask = np.logical_and(sub_ds.obs[\"support\"], sub_ds.obs[\"class\"] == FOCUS_CTs[1])\n",
    "centers = sub_ds.latent[mask]\n",
    "posterior_mask = np.concatenate([mask] * N_POSTERIOR, axis=0)\n",
    "posterior = sub_posterior_ds.latent[posterior_mask]\n",
    "deviation = posterior - np.concatenate([centers] * N_POSTERIOR, axis=0)\n",
    "ax = exputils.aligned_posterior_plot(deviation, lim=0.2)\n",
    "ax.set_title(f\"{FOCUS_CTs[1]} (variational)\")\n",
    "ax.get_figure().savefig(os.path.join(PATH, f\"scvi_{FOCUS_CTs[1]}_variational.pdf\"), dpi=300, bbox_inches=\"tight\")"
   ]
  },
  {
   "cell_type": "code",
   "execution_count": null,
   "metadata": {},
   "outputs": [],
   "source": [
    "sub_ds_use = sub_ds[mask, :]\n",
    "sub_ds_use.to_anndata().write_h5ad(os.path.join(PATH, \"ds.h5ad\"))\n",
    "sub_ds_use_scvi = scvi.dataset.AnnDataset(\"ds.h5ad\", save_path=PATH)\n",
    "tmp, _ = exputils.metropolis_hastings(\n",
    "    [centers, sub_ds_use.obs[[\"library\"]].to_numpy()],\n",
    "    lambda latent, library: exputils.get_scvi_log_unnormalized_posterior(scvi_model, sub_ds_use_scvi, latent, library),\n",
    "    target=N_POSTERIOR, proposal_std=[0.02, 0.1]\n",
    ")\n",
    "posterior = np.concatenate([tmp[:, i, :] for i in range(tmp.shape[1])], axis=0)\n",
    "deviation = posterior - np.concatenate([centers] * N_POSTERIOR, axis=0)\n",
    "ax = exputils.aligned_posterior_plot(deviation, lim=0.4)\n",
    "ax.set_title(f\"{FOCUS_CTs[1]} (MCMC)\")\n",
    "ax.get_figure().savefig(os.path.join(PATH, f\"scvi_{FOCUS_CTs[1]}_mcmc.pdf\"), dpi=300, bbox_inches=\"tight\")"
   ]
  },
  {
   "cell_type": "code",
   "execution_count": null,
   "metadata": {
    "ExecuteTime": {
     "end_time": "2019-07-25T02:29:42.227278Z",
     "start_time": "2019-07-25T02:29:40.214086Z"
    }
   },
   "outputs": [],
   "source": [
    "latent = sub_ds.latent.astype(np.float32)\n",
    "posterior = np.stack(np.split(sub_posterior_ds.latent, N_POSTERIOR), axis=1).astype(np.float32)\n",
    "eud, npd, correctness = [], [], []\n",
    "random_state = np.random.RandomState(2020)\n",
    "for _ in range(10000):\n",
    "    i, j = random_state.choice(sub_ds.shape[0], size=2)\n",
    "    correctness.append(sub_ds.obs[\"class\"].iloc[i] == sub_ds.obs[\"class\"].iloc[j])\n",
    "    eud.append(np.sqrt(np.square(latent[i] - latent[j]).sum()))\n",
    "    npd.append(cb.blast.npd_v1(\n",
    "        latent[i], latent[j],\n",
    "        posterior[i], posterior[j]\n",
    "    ))\n",
    "eud = np.array(eud)\n",
    "npd = np.array(npd)\n",
    "correctness = np.array(correctness)"
   ]
  },
  {
   "cell_type": "code",
   "execution_count": null,
   "metadata": {
    "ExecuteTime": {
     "end_time": "2019-07-25T02:29:53.726593Z",
     "start_time": "2019-07-25T02:29:42.230368Z"
    }
   },
   "outputs": [],
   "source": [
    "ax = exputils.distance_pair_plot(eud, npd, correctness)\n",
    "ax.get_figure().savefig(os.path.join(PATH, \"scvi_distance_cmp.pdf\"), dpi=300, bbox_inches=\"tight\")"
   ]
  }
 ],
 "metadata": {
  "kernelspec": {
   "display_name": "Python 3",
   "language": "python",
   "name": "python3"
  },
  "language_info": {
   "codemirror_mode": {
    "name": "ipython",
    "version": 3
   },
   "file_extension": ".py",
   "mimetype": "text/x-python",
   "name": "python",
   "nbconvert_exporter": "python",
   "pygments_lexer": "ipython3",
   "version": "3.6.8"
  },
  "notify_time": "10",
  "toc": {
   "base_numbering": 1,
   "nav_menu": {
    "height": "163px",
    "width": "291px"
   },
   "number_sections": true,
   "sideBar": true,
   "skip_h1_title": true,
   "title_cell": "Table of Contents",
   "title_sidebar": "Contents",
   "toc_cell": false,
   "toc_position": {
    "height": "calc(100% - 180px)",
    "left": "10px",
    "top": "150px",
    "width": "245px"
   },
   "toc_section_display": true,
   "toc_window_display": true
  },
  "varInspector": {
   "cols": {
    "lenName": 16,
    "lenType": 16,
    "lenVar": 40
   },
   "kernels_config": {
    "python": {
     "delete_cmd_postfix": "",
     "delete_cmd_prefix": "del ",
     "library": "var_list.py",
     "varRefreshCmd": "print(var_dic_list())"
    },
    "r": {
     "delete_cmd_postfix": ") ",
     "delete_cmd_prefix": "rm(",
     "library": "var_list.r",
     "varRefreshCmd": "cat(var_dic_list()) "
    }
   },
   "oldHeight": 441,
   "position": {
    "height": "463px",
    "left": "1233px",
    "right": "20px",
    "top": "446px",
    "width": "360px"
   },
   "types_to_exclude": [
    "module",
    "function",
    "builtin_function_or_method",
    "instance",
    "_Feature"
   ],
   "varInspector_section_display": "block",
   "window_display": false
  }
 },
 "nbformat": 4,
 "nbformat_minor": 2
}
