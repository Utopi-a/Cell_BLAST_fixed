{
 "cells": [
  {
   "cell_type": "code",
   "execution_count": null,
   "metadata": {
    "ExecuteTime": {
     "end_time": "2019-07-21T15:10:44.655526Z",
     "start_time": "2019-07-21T15:10:42.344321Z"
    }
   },
   "outputs": [],
   "source": [
    "import os\n",
    "import json\n",
    "import collections\n",
    "import numpy as np\n",
    "import pandas as pd\n",
    "import scipy.stats\n",
    "import matplotlib.pyplot as plt\n",
    "import seaborn as sns\n",
    "import Cell_BLAST as cb\n",
    "import exputils"
   ]
  },
  {
   "cell_type": "code",
   "execution_count": null,
   "metadata": {
    "ExecuteTime": {
     "end_time": "2019-07-21T15:10:45.612356Z",
     "start_time": "2019-07-21T15:10:44.657765Z"
    }
   },
   "outputs": [],
   "source": [
    "os.environ[\"CUDA_VISIBLE_DEVICES\"] = exputils.pick_gpu_lowest_memory()\n",
    "cb.config.RANDOM_SEED = 0\n",
    "cb.config.N_JOBS = 4\n",
    "plt.rcParams['svg.fonttype'] = \"none\"\n",
    "plt.rcParams['font.family'] = \"Arial\"\n",
    "REFS = [\"Baron_human\", \"Xin_2016\", \"Lawlor\"]\n",
    "QUERIES = [\"Muraro\", \"Segerstolpe\", \"Enge\"]\n",
    "PATH = \"./query_bias\"\n",
    "if not os.path.exists(PATH):\n",
    "    os.makedirs(PATH)"
   ]
  },
  {
   "cell_type": "code",
   "execution_count": null,
   "metadata": {
    "ExecuteTime": {
     "end_time": "2019-07-21T15:10:45.624169Z",
     "start_time": "2019-07-21T15:10:45.617181Z"
    }
   },
   "outputs": [],
   "source": [
    "def entropy(x, pool):\n",
    "    x = np.expand_dims(x, axis=2)\n",
    "    pool = np.array(pool).reshape((1, 1, -1))\n",
    "    prob = (x == pool).sum(axis=1) / pool.size\n",
    "    return np.apply_along_axis(scipy.stats.entropy, axis=1, arr=prob)\n",
    "entropy_dict = collections.OrderedDict()"
   ]
  },
  {
   "cell_type": "code",
   "execution_count": null,
   "metadata": {
    "ExecuteTime": {
     "end_time": "2019-07-21T15:10:55.724117Z",
     "start_time": "2019-07-21T15:10:45.626221Z"
    },
    "scrolled": true
   },
   "outputs": [],
   "source": [
    "blast = cb.blast.BLAST.load(\"../../Results/Cell_BLAST/Pancreas/seed_0/blast\")"
   ]
  },
  {
   "cell_type": "markdown",
   "metadata": {},
   "source": [
    "## scmap"
   ]
  },
  {
   "cell_type": "code",
   "execution_count": null,
   "metadata": {
    "ExecuteTime": {
     "end_time": "2019-07-21T15:10:55.785182Z",
     "start_time": "2019-07-21T15:10:55.726180Z"
    }
   },
   "outputs": [],
   "source": [
    "scmap_sim, scmap_ds = [], []\n",
    "for qds in QUERIES:\n",
    "    _scmap_sim = collections.OrderedDict([\n",
    "        (\"Baron_human\", cb.data.read_hybrid_path(\"../../Results/scmap/Pancreas/seed_0/%s/result.h5//scmap_cell/nn/Baron_human/similarities\" % qds)),\n",
    "        (\"Xin_2016\", cb.data.read_hybrid_path(\"../../Results/scmap/Pancreas/seed_0/%s/result.h5//scmap_cell/nn/Xin_2016/similarities\" % qds)),\n",
    "        (\"Lawlor\", cb.data.read_hybrid_path(\"../../Results/scmap/Pancreas/seed_0/%s/result.h5//scmap_cell/nn/Lawlor/similarities\" % qds))\n",
    "    ])\n",
    "    _scmap_ds = collections.OrderedDict([\n",
    "        (key, np.tile(key, val.shape))\n",
    "        for key, val in _scmap_sim.items()\n",
    "    ])\n",
    "    scmap_sim.append(np.concatenate(list(_scmap_sim.values()), axis=1))\n",
    "    scmap_ds.append(np.concatenate(list(_scmap_ds.values()), axis=1))\n",
    "scmap_sim = np.concatenate(scmap_sim, axis=0)\n",
    "scmap_ds = np.concatenate(scmap_ds, axis=0)\n",
    "for i in range(scmap_sim.shape[0]):\n",
    "    argsort = np.argsort(scmap_sim[i])[::-1]\n",
    "    scmap_ds[i] = scmap_ds[i][argsort]\n",
    "scmap_ds = scmap_ds[:, :10]"
   ]
  },
  {
   "cell_type": "code",
   "execution_count": null,
   "metadata": {
    "ExecuteTime": {
     "end_time": "2019-07-21T15:10:55.853988Z",
     "start_time": "2019-07-21T15:10:55.787032Z"
    }
   },
   "outputs": [],
   "source": [
    "scmap_ds, scmap_ds.shape"
   ]
  },
  {
   "cell_type": "code",
   "execution_count": null,
   "metadata": {
    "ExecuteTime": {
     "end_time": "2019-07-21T15:10:55.998299Z",
     "start_time": "2019-07-21T15:10:55.856599Z"
    }
   },
   "outputs": [],
   "source": [
    "entropy_dict[\"scmap\"] = entropy(scmap_ds, REFS)"
   ]
  },
  {
   "cell_type": "markdown",
   "metadata": {},
   "source": [
    "## CellFishing.jl"
   ]
  },
  {
   "cell_type": "code",
   "execution_count": null,
   "metadata": {
    "ExecuteTime": {
     "end_time": "2019-07-21T15:10:56.026632Z",
     "start_time": "2019-07-21T15:10:56.000441Z"
    }
   },
   "outputs": [],
   "source": [
    "cf_dist, cf_ds = [], []\n",
    "for qds in QUERIES:\n",
    "    cf_dist.append(cb.data.read_hybrid_path(\n",
    "        \"../../Results/CellFishing.jl/Pancreas/seed_0/%s/result.h5//hammingdistances\" % qds))\n",
    "    cf_ds.append(blast.ref.obs[\"dataset_name\"].values[cb.data.read_hybrid_path(\n",
    "        \"../../Results/CellFishing.jl/Pancreas/seed_0/%s/result.h5//indexes\" % qds) - 1])\n",
    "cf_dist = np.concatenate(cf_dist, axis=0)\n",
    "cf_ds = np.concatenate(cf_ds, axis=0)"
   ]
  },
  {
   "cell_type": "code",
   "execution_count": null,
   "metadata": {
    "ExecuteTime": {
     "end_time": "2019-07-21T15:10:56.119273Z",
     "start_time": "2019-07-21T15:10:56.028327Z"
    }
   },
   "outputs": [],
   "source": [
    "cf_ds, cf_ds.shape"
   ]
  },
  {
   "cell_type": "code",
   "execution_count": null,
   "metadata": {
    "ExecuteTime": {
     "end_time": "2019-07-21T15:10:56.315300Z",
     "start_time": "2019-07-21T15:10:56.121878Z"
    }
   },
   "outputs": [],
   "source": [
    "entropy_dict[\"CellFishing.jl\"] = entropy(cf_ds, REFS)"
   ]
  },
  {
   "cell_type": "markdown",
   "metadata": {},
   "source": [
    "## Cell BLAST"
   ]
  },
  {
   "cell_type": "code",
   "execution_count": null,
   "metadata": {
    "ExecuteTime": {
     "end_time": "2019-07-21T15:12:51.432218Z",
     "start_time": "2019-07-21T15:10:56.671682Z"
    },
    "scrolled": true
   },
   "outputs": [],
   "source": [
    "cb_ds = []\n",
    "for qds in QUERIES:\n",
    "    query = cb.data.ExprDataSet.read_dataset(\"../../Datasets/data/%s/data.h5\" % qds)\n",
    "    hits = blast.query(query, n_neighbors=10).reconcile_models()\n",
    "    for i in range(hits.dist.shape[0]):\n",
    "        argsort = np.argsort(hits.dist[i])\n",
    "        hits.hits[i] = hits.hits[i][argsort]\n",
    "    cb_ds.append(np.stack([blast.ref.obs[\"dataset_name\"].values[item[0:10]] for item in hits.hits], axis=0))\n",
    "cb_ds = np.concatenate(cb_ds, axis=0)"
   ]
  },
  {
   "cell_type": "code",
   "execution_count": null,
   "metadata": {
    "ExecuteTime": {
     "end_time": "2019-07-21T15:12:51.441340Z",
     "start_time": "2019-07-21T15:12:51.435125Z"
    }
   },
   "outputs": [],
   "source": [
    "cb_ds, cb_ds.shape"
   ]
  },
  {
   "cell_type": "code",
   "execution_count": null,
   "metadata": {
    "ExecuteTime": {
     "end_time": "2019-07-21T15:12:51.648116Z",
     "start_time": "2019-07-21T15:12:51.443246Z"
    }
   },
   "outputs": [],
   "source": [
    "entropy_dict[\"Cell BLAST\"] = entropy(cb_ds, REFS)"
   ]
  },
  {
   "cell_type": "markdown",
   "metadata": {},
   "source": [
    "## Comparison"
   ]
  },
  {
   "cell_type": "code",
   "execution_count": null,
   "metadata": {
    "ExecuteTime": {
     "end_time": "2019-07-21T15:12:51.665547Z",
     "start_time": "2019-07-21T15:12:51.650268Z"
    }
   },
   "outputs": [],
   "source": [
    "df = pd.concat([pd.DataFrame({\n",
    "    \"Method\": np.repeat(key, val.size),\n",
    "    \"Query hit entropy\": val\n",
    "}) for key, val in entropy_dict.items()])\n",
    "df[\"Method\"] = pd.Categorical(df[\"Method\"], categories=entropy_dict.keys())"
   ]
  },
  {
   "cell_type": "code",
   "execution_count": null,
   "metadata": {},
   "outputs": [],
   "source": [
    "with open(\"../../Evaluation/palette_method.json\", \"r\") as f:\n",
    "    palette = json.load(f)"
   ]
  },
  {
   "cell_type": "code",
   "execution_count": null,
   "metadata": {
    "ExecuteTime": {
     "end_time": "2019-07-21T15:12:52.182612Z",
     "start_time": "2019-07-21T15:12:51.667365Z"
    }
   },
   "outputs": [],
   "source": [
    "fig, ax = plt.subplots(figsize=(4.0, 4.0))\n",
    "ax = sns.violinplot(\n",
    "    x=\"Method\", y=\"Query hit entropy\", inner=\"box\", data=df,\n",
    "    linewidth=0.6, palette=palette, ax=ax\n",
    ")\n",
    "ax.spines[\"right\"].set_visible(False)\n",
    "ax.spines[\"top\"].set_visible(False)\n",
    "fig.savefig(os.path.join(PATH, \"entropy.pdf\"), bbox_inches=\"tight\")"
   ]
  }
 ],
 "metadata": {
  "kernelspec": {
   "display_name": "Python 3",
   "language": "python",
   "name": "python3"
  },
  "language_info": {
   "codemirror_mode": {
    "name": "ipython",
    "version": 3
   },
   "file_extension": ".py",
   "mimetype": "text/x-python",
   "name": "python",
   "nbconvert_exporter": "python",
   "pygments_lexer": "ipython3",
   "version": "3.6.8"
  },
  "toc": {
   "base_numbering": 1,
   "nav_menu": {},
   "number_sections": true,
   "sideBar": true,
   "skip_h1_title": false,
   "title_cell": "Table of Contents",
   "title_sidebar": "Contents",
   "toc_cell": false,
   "toc_position": {
    "height": "calc(100% - 180px)",
    "left": "10px",
    "top": "150px",
    "width": "409.59375px"
   },
   "toc_section_display": true,
   "toc_window_display": true
  },
  "varInspector": {
   "cols": {
    "lenName": 16,
    "lenType": 16,
    "lenVar": 40
   },
   "kernels_config": {
    "python": {
     "delete_cmd_postfix": "",
     "delete_cmd_prefix": "del ",
     "library": "var_list.py",
     "varRefreshCmd": "print(var_dic_list())"
    },
    "r": {
     "delete_cmd_postfix": ") ",
     "delete_cmd_prefix": "rm(",
     "library": "var_list.r",
     "varRefreshCmd": "cat(var_dic_list()) "
    }
   },
   "types_to_exclude": [
    "module",
    "function",
    "builtin_function_or_method",
    "instance",
    "_Feature"
   ],
   "window_display": false
  }
 },
 "nbformat": 4,
 "nbformat_minor": 2
}
