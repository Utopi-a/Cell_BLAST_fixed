{
 "cells": [
  {
   "cell_type": "code",
   "execution_count": null,
   "metadata": {},
   "outputs": [],
   "source": [
    "import sys\n",
    "import os\n",
    "import matplotlib.pyplot as plt\n",
    "import Cell_BLAST as cb\n",
    "\n",
    "sys.path.insert(0, \"../../Evaluation\")\n",
    "import utils"
   ]
  },
  {
   "cell_type": "code",
   "execution_count": null,
   "metadata": {},
   "outputs": [],
   "source": [
    "plt.rcParams['svg.fonttype'] = \"none\"\n",
    "plt.rcParams['font.family'] = \"Arial\"\n",
    "os.environ[\"CUDA_VISIBLE_DEVICES\"] = utils.pick_gpu_lowest_memory()\n",
    "cb.config.RANDOM_SEED = 0\n",
    "cb.config.N_JOBS = 4\n",
    "PATH = \"zifp\"\n",
    "os.makedirs(PATH, exist_ok=True)"
   ]
  },
  {
   "cell_type": "code",
   "execution_count": null,
   "metadata": {},
   "outputs": [],
   "source": [
    "ds1 = cb.data.ExprDataSet.read_dataset(\"../../Datasets/data/Quake_Smart-seq2_Fat/data.h5\")\n",
    "ds1 = utils.clean_dataset(ds1, \"cell_ontology_class\")\n",
    "\n",
    "ds2 = cb.data.ExprDataSet.read_dataset(\"../../Datasets/data/Quake_Smart-seq2_Brain_Non-Myeloid/data.h5\")\n",
    "ds2 = utils.clean_dataset(ds2, \"cell_ontology_class\")"
   ]
  },
  {
   "cell_type": "code",
   "execution_count": null,
   "metadata": {
    "code_folding": []
   },
   "outputs": [],
   "source": [
    "ds = cb.data.ExprDataSet.merge_datasets(\n",
    "    {\"ds1\": ds1, \"ds2\": ds2},\n",
    "    merge_uns_slots=[\"seurat_genes\"]\n",
    ")"
   ]
  },
  {
   "cell_type": "markdown",
   "metadata": {},
   "source": [
    "## Negative binomial (default)"
   ]
  },
  {
   "cell_type": "code",
   "execution_count": null,
   "metadata": {
    "scrolled": true
   },
   "outputs": [],
   "source": [
    "nb_model = cb.directi.fit_DIRECTi(\n",
    "    ds, ds.uns[\"seurat_genes\"], batch_effect=\"dataset_name\",\n",
    "    latent_dim=10, cat_dim=20, prob_module=\"NB\",\n",
    "    rmbatch_module_kwargs=dict(lambda_reg=0.02)\n",
    ")\n",
    "ds.latent = nb_model.inference(ds)"
   ]
  },
  {
   "cell_type": "code",
   "execution_count": null,
   "metadata": {},
   "outputs": [],
   "source": [
    "ax = ds.visualize_latent(\"cell_ontology_class\", width=4.5, height=4.5, scatter_kws=dict(rasterized=True))\n",
    "ax.get_figure().savefig(os.path.join(PATH, \"nb_ct.pdf\"), dpi=300, bbox_inches=\"tight\")"
   ]
  },
  {
   "cell_type": "code",
   "execution_count": null,
   "metadata": {},
   "outputs": [],
   "source": [
    "ax = ds.visualize_latent(\"dataset_name\", width=4.5, height=4.5, scatter_kws=dict(rasterized=True))\n",
    "ax.get_figure().savefig(os.path.join(PATH, \"nb_ds.pdf\"), dpi=300, bbox_inches=\"tight\")"
   ]
  },
  {
   "cell_type": "markdown",
   "metadata": {},
   "source": [
    "## Zero-inflated negative binomial"
   ]
  },
  {
   "cell_type": "code",
   "execution_count": null,
   "metadata": {
    "scrolled": true
   },
   "outputs": [],
   "source": [
    "zinb_model = cb.directi.fit_DIRECTi(\n",
    "    ds, ds.uns[\"seurat_genes\"], batch_effect=\"dataset_name\",\n",
    "    latent_dim=10, cat_dim=20, prob_module=\"ZINB\",\n",
    "    rmbatch_module_kwargs=dict(lambda_reg=0.02)\n",
    ")\n",
    "ds.latent = zinb_model.inference(ds)"
   ]
  },
  {
   "cell_type": "code",
   "execution_count": null,
   "metadata": {},
   "outputs": [],
   "source": [
    "ax = ds.visualize_latent(\"cell_ontology_class\", width=4.5, height=4.5, scatter_kws=dict(rasterized=True))\n",
    "ax.get_figure().savefig(os.path.join(PATH, \"zinb_ct.pdf\"), dpi=300, bbox_inches=\"tight\")"
   ]
  },
  {
   "cell_type": "code",
   "execution_count": null,
   "metadata": {},
   "outputs": [],
   "source": [
    "ax = ds.visualize_latent(\"dataset_name\", width=4.5, height=4.5, scatter_kws=dict(rasterized=True))\n",
    "ax.get_figure().savefig(os.path.join(PATH, \"zinb_ds.pdf\"), dpi=300, bbox_inches=\"tight\")"
   ]
  }
 ],
 "metadata": {
  "kernelspec": {
   "display_name": "Python 3",
   "language": "python",
   "name": "python3"
  },
  "language_info": {
   "codemirror_mode": {
    "name": "ipython",
    "version": 3
   },
   "file_extension": ".py",
   "mimetype": "text/x-python",
   "name": "python",
   "nbconvert_exporter": "python",
   "pygments_lexer": "ipython3",
   "version": "3.6.8"
  },
  "notify_time": "5",
  "toc": {
   "base_numbering": 1,
   "nav_menu": {},
   "number_sections": true,
   "sideBar": true,
   "skip_h1_title": true,
   "title_cell": "Table of Contents",
   "title_sidebar": "Contents",
   "toc_cell": false,
   "toc_position": {},
   "toc_section_display": true,
   "toc_window_display": true
  }
 },
 "nbformat": 4,
 "nbformat_minor": 2
}
